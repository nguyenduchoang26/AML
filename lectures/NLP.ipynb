{
 "cells": [
  {
   "cell_type": "markdown",
   "id": "d6230a22",
   "metadata": {
    "slideshow": {
     "slide_type": "slide"
    }
   },
   "source": [
    "# Natural Language Processing"
   ]
  },
  {
   "cell_type": "markdown",
   "id": "db14bb60",
   "metadata": {
    "slideshow": {
     "slide_type": "fragment"
    }
   },
   "source": [
    "Natural Language Processing (NLP) is an important part of Machine Learning. In Python there is a good library called as Natural Language Toolkit (NLTK).\n",
    "\n",
    "The NLTK toolkit can be installed first with PIP/Conda\n",
    "\n",
    "`pip install nltk` or \n",
    "`conda install nltk`\n",
    "\n",
    "For downloading and parsing web content, it is also necessary to install packages \n",
    "\n",
    "`pip install requests beautifulsoup4` or \n",
    "`conda install requests beautifulsoup4`\n",
    "\n",
    "Then import it and download some additional components of nltk and sample data (corpus). You can even download them all, since they do not require huge amount of disk space\n",
    "\n",
    "Regular experssions are also very usefull for many kinds of general text processing. Learn how to use [Python RE](https://docs.python.org/3/howto/regex.html)."
   ]
  },
  {
   "cell_type": "code",
   "execution_count": 2,
   "id": "8a8b9d83",
   "metadata": {
    "ExecuteTime": {
     "end_time": "2021-11-23T13:50:10.225402Z",
     "start_time": "2021-11-23T13:50:10.182263Z"
    },
    "slideshow": {
     "slide_type": "subslide"
    }
   },
   "outputs": [],
   "source": [
    "# You can use an interactive console side by side with the notebook\n",
    "# by starting the Qt-console\n",
    "%qtconsole"
   ]
  },
  {
   "cell_type": "code",
   "execution_count": 276,
   "id": "c04c6517",
   "metadata": {
    "ExecuteTime": {
     "end_time": "2021-11-23T17:02:51.708415Z",
     "start_time": "2021-11-23T17:02:51.698502Z"
    },
    "slideshow": {
     "slide_type": "subslide"
    }
   },
   "outputs": [],
   "source": [
    "# Standard libraries to be used\n",
    "import matplotlib.pyplot as plt\n",
    "import numpy as np\n",
    "\n",
    "# Library for making web requests and parsing text from web page\n",
    "# These are needed now only, because we want to get text from the \n",
    "# web page\n",
    "import requests \n",
    "from bs4 import BeautifulSoup\n",
    "\n",
    "# A regular experssion library. This is very usefull for text processing\n",
    "import re\n",
    "\n",
    "# Import the NLTK library\n",
    "import nltk\n",
    "\n",
    "# Run this, if you want to download more modules from the net\n",
    "# nltk.download()"
   ]
  },
  {
   "cell_type": "markdown",
   "id": "5becee95",
   "metadata": {
    "slideshow": {
     "slide_type": "subslide"
    }
   },
   "source": [
    "## Read data from a web page"
   ]
  },
  {
   "cell_type": "code",
   "execution_count": 322,
   "id": "9738cbca",
   "metadata": {
    "ExecuteTime": {
     "end_time": "2021-11-23T17:14:02.642670Z",
     "start_time": "2021-11-23T17:14:02.518029Z"
    },
    "slideshow": {
     "slide_type": "subslide"
    }
   },
   "outputs": [
    {
     "name": "stdout",
     "output_type": "stream",
     "text": [
      "<title>INdoor navigation from CUBesAt TEchnology (INCUBATE) | University of Vaasa</title>\n",
      "\n",
      "The project will research the application of small satellite technology for precise positioning of indoor spaces and navigation. A new small satellite will also be designed in the project. A sufficiently accurate positioning service that works seamlessly in outdoor and indoor spaces does not currently exist. GPS does not work reliably indoors and between high buildings in cities, not to mention telling the room or floor of the location. – A solution for precise positioning, navigation and timing can be found by utilising LEO small satellites that orbit the earth at a low altitude. They send a stronger signal to the earth than the traditional positioning satellites and orbit the earth faster than them, even in 40 minutes. If proposals about building an internet based on small satellites are realised, there will be about 50,000 active satellites orbiting the earth in ten years,  In the three-year INdoor navigation form CUBesAt Technology i.e. INCUBATE research project, the objective is to study how positioning, navigation and timing (PNT) based on small satellites can be used in indoor spaces. The project will also research the commercial potential of the solution and revenue possibilities, partly jointly with companies. The technology developed in the project will offer extensive application potential for many industry sectors. The researchers intend to also develop the use of current small satellites for positioning, as well as new payload, i.e. equipment and software carried by the satellite, to improve navigation solutions. The satellite signal and its reception must be optimised so that a sufficiently high-performing satellite signal can be defined for accurate positioning and navigation. From the University of Vaasa, the Digital Economy research platform headed by Heidi Kuusniemi is involved in the project, as well as the International Business and Marketing research group represented in the project by Arto Ojala, Professor of International Business. Other researchers in the project are Kendall Rutledge and Petri Välisuo, Jani Boutellier and Mohammed Elmusrati, together with their doctoral researchers. The research project led by the University of Vaasa receives funding in the amount of EUR 950,000 from the Building the Future - Taking Action programme of the Centennial Foundation of the Federation of Finnish Technology Industries and Jane and Aatos Erkko Foundation.   Project leader: Director, professor Heidi Kuusniemi, Digital Economy -research platform, University of Vaasa   More information: Press release Organisation coordinating the project University of Vaasa Project partners Tampereen yliopisto Aalto University National Land Survey of Finland Funding partners Technology Industries of Finland Centennial Foundation\n"
     ]
    }
   ],
   "source": [
    "## Read INCUBATE project's web page\n",
    "url='https://www.uwasa.fi/en/research/projects/indoor-navigation-cubesat-technology-incubate'\n",
    "html_text = requests.get(url).text\n",
    "\n",
    "# And parse the text out from the page\n",
    "soup = BeautifulSoup(html_text, 'html.parser')\n",
    "print(soup.title)\n",
    "print(\"\")\n",
    "\n",
    "# Use regular expressions to replace a strig of spaces and newlines with a single space\n",
    "alltext=re.sub('[\\n ]+', ' ', soup.text)\n",
    "text=alltext[1341:-281]\n",
    "print(text)\n",
    "\n",
    "# Write the actual content into a file for later use\n",
    "with open('data/digieco.txt', 'w') as fid:\n",
    "    fid.write(text)"
   ]
  },
  {
   "cell_type": "markdown",
   "id": "dba23d20",
   "metadata": {
    "slideshow": {
     "slide_type": "subslide"
    }
   },
   "source": [
    "## Split the text into words and sentences"
   ]
  },
  {
   "cell_type": "code",
   "execution_count": 314,
   "id": "b8a4548f",
   "metadata": {
    "ExecuteTime": {
     "end_time": "2021-11-23T17:11:13.247406Z",
     "start_time": "2021-11-23T17:11:13.240087Z"
    },
    "slideshow": {
     "slide_type": "fragment"
    }
   },
   "outputs": [],
   "source": [
    "from nltk.corpus import stopwords\n",
    "from nltk.tokenize import word_tokenize, sent_tokenize"
   ]
  },
  {
   "cell_type": "code",
   "execution_count": 323,
   "id": "02cc0cf0",
   "metadata": {
    "ExecuteTime": {
     "end_time": "2021-11-23T17:14:19.267532Z",
     "start_time": "2021-11-23T17:14:19.223804Z"
    }
   },
   "outputs": [
    {
     "name": "stdout",
     "output_type": "stream",
     "text": [
      "17\n",
      "450\n",
      "['The', 'project', 'will', 'research', 'the', 'application', 'of', 'small', 'satellite', 'technology', 'for', 'precise', 'positioning', 'of', 'indoor', 'spaces', 'and', 'navigation', '.', 'A']\n",
      "\n",
      "0 : The project will research the application of small satellite technology for precise positioning of indoor spaces and navigation.\n",
      "1 : A new small satellite will also be designed in the project.\n",
      "2 : A sufficiently accurate positioning service that works seamlessly in outdoor and indoor spaces does not currently exist.\n"
     ]
    }
   ],
   "source": [
    "sentences=sent_tokenize(text)\n",
    "words=word_tokenize(text)\n",
    "print(len(sentences))\n",
    "print(len(words))\n",
    "print(words[:20])\n",
    "print(\"\")\n",
    "for i in range(3):\n",
    "    print(i, \":\", sentences[i])"
   ]
  },
  {
   "cell_type": "markdown",
   "id": "a17ed7a7",
   "metadata": {
    "ExecuteTime": {
     "end_time": "2021-11-23T17:14:57.126814Z",
     "start_time": "2021-11-23T17:14:57.119972Z"
    },
    "slideshow": {
     "slide_type": "subslide"
    }
   },
   "source": [
    "## Remove common words\n",
    "The text contains plenty of small words, which are common in all texts, and they are not therefore very useful in analyzing the context of a specific piece of text. These stop words are often removed.\n",
    "\n",
    "Computer usually assumes that lowercase and uppercase are different, but the case does not matter in the meaning of the words. Therefore all words are usually normalized to small case characters before further analysis."
   ]
  },
  {
   "cell_type": "code",
   "execution_count": 328,
   "id": "36e9f2e5",
   "metadata": {
    "ExecuteTime": {
     "end_time": "2021-11-23T17:19:44.787755Z",
     "start_time": "2021-11-23T17:19:44.763170Z"
    },
    "slideshow": {
     "slide_type": "fragment"
    }
   },
   "outputs": [
    {
     "name": "stdout",
     "output_type": "stream",
     "text": [
      "294\n"
     ]
    },
    {
     "data": {
      "text/plain": [
       "['project',\n",
       " 'research',\n",
       " 'application',\n",
       " 'small',\n",
       " 'satellite',\n",
       " 'technology',\n",
       " 'precise',\n",
       " 'positioning',\n",
       " 'indoor',\n",
       " 'spaces',\n",
       " 'navigation',\n",
       " '.',\n",
       " 'new',\n",
       " 'small',\n",
       " 'satellite',\n",
       " 'also',\n",
       " 'designed',\n",
       " 'project',\n",
       " '.',\n",
       " 'sufficiently']"
      ]
     },
     "execution_count": 328,
     "metadata": {},
     "output_type": "execute_result"
    }
   ],
   "source": [
    "from nltk.corpus import stopwords\n",
    "stop_words = set(stopwords.words(\"english\"))\n",
    "\n",
    "filtered_words=[]\n",
    "for word in words:\n",
    "    lcword = word.casefold()\n",
    "    # Skip words containing digits\n",
    "    if re.match('\\d+', lcword):\n",
    "        continue\n",
    "    # Skip stop words and punctuations \n",
    "    if lcword not in stop_words:\n",
    "        filtered_words.append(lcword)\n",
    "\n",
    "print(len(filtered_words))\n",
    "filtered_words[:20]"
   ]
  },
  {
   "cell_type": "markdown",
   "id": "69824a3a",
   "metadata": {
    "slideshow": {
     "slide_type": "subslide"
    }
   },
   "source": [
    "## Stemming\n",
    "\n",
    "The same word may have different forms, such as design, designing, designs. Stemming means finding the root of the word in order to make the computer to understand that the word is the same, even if it is in different form."
   ]
  },
  {
   "cell_type": "code",
   "execution_count": 329,
   "id": "64db1a96",
   "metadata": {
    "ExecuteTime": {
     "end_time": "2021-11-23T17:23:34.201183Z",
     "start_time": "2021-11-23T17:23:34.176818Z"
    },
    "slideshow": {
     "slide_type": "fragment"
    }
   },
   "outputs": [
    {
     "name": "stdout",
     "output_type": "stream",
     "text": [
      "design design design\n"
     ]
    }
   ],
   "source": [
    "from nltk.stem import PorterStemmer, SnowballStemmer\n",
    "\n",
    "stemmer = SnowballStemmer(language='english') # Finnish is also supported :)\n",
    "\n",
    "print(stemmer.stem('designing'), stemmer.stem('designs'), stemmer.stem('design'))\n",
    "stemmed_words = [stemmer.stem(word) for word in filtered_words]"
   ]
  },
  {
   "cell_type": "code",
   "execution_count": 331,
   "id": "f99a6370",
   "metadata": {
    "ExecuteTime": {
     "end_time": "2021-11-23T17:24:15.847537Z",
     "start_time": "2021-11-23T17:24:15.822900Z"
    },
    "scrolled": true,
    "slideshow": {
     "slide_type": "subslide"
    }
   },
   "outputs": [
    {
     "name": "stdout",
     "output_type": "stream",
     "text": [
      "            Original                 Stem\n",
      "          -----------------------------------\n",
      "             project              project\n",
      "            research             research\n",
      "         application               applic\n",
      "               small                small\n",
      "           satellite             satellit\n",
      "          technology            technolog\n",
      "             precise               precis\n",
      "         positioning                posit\n",
      "              indoor               indoor\n",
      "              spaces                space\n",
      "          navigation                navig\n",
      "                   .                    .\n",
      "                 new                  new\n",
      "               small                small\n",
      "           satellite             satellit\n"
     ]
    }
   ],
   "source": [
    "print(\"%20s %20s\" % ('Original', 'Stem'))\n",
    "print(\" \"*10 + \"-\"*35)\n",
    "for i in range(15):\n",
    "    print(\"%20s %20s\" % (filtered_words[i], stemmed_words[i]))\n"
   ]
  },
  {
   "cell_type": "markdown",
   "id": "74a306ee",
   "metadata": {
    "slideshow": {
     "slide_type": "subslide"
    }
   },
   "source": [
    "## Lemmatizing\n",
    "\n",
    "Changes words to their basic forms, so that all output words are proper words, not only the stems.\n",
    "Lemma is the basic form of the word, which represents a group of words."
   ]
  },
  {
   "cell_type": "code",
   "execution_count": 336,
   "id": "8df6ff94",
   "metadata": {
    "ExecuteTime": {
     "end_time": "2021-11-23T17:27:29.925955Z",
     "start_time": "2021-11-23T17:27:29.918979Z"
    },
    "slideshow": {
     "slide_type": "fragment"
    }
   },
   "outputs": [],
   "source": [
    "from nltk.stem import WordNetLemmatizer\n",
    "lemmatizer = WordNetLemmatizer()"
   ]
  },
  {
   "cell_type": "code",
   "execution_count": 337,
   "id": "23aaf979",
   "metadata": {
    "ExecuteTime": {
     "end_time": "2021-11-23T17:27:40.334066Z",
     "start_time": "2021-11-23T17:27:40.303672Z"
    },
    "slideshow": {
     "slide_type": "subslide"
    }
   },
   "outputs": [
    {
     "name": "stdout",
     "output_type": "stream",
     "text": [
      "            Original,                 Stem,           Lemmatized\n",
      "          -------------------------------------------------------\n",
      "             project,              project,              project\n",
      "            research,             research,             research\n",
      "         application,               applic,          application\n",
      "               small,                small,                small\n",
      "           satellite,             satellit,            satellite\n",
      "          technology,            technolog,           technology\n",
      "             precise,               precis,              precise\n",
      "         positioning,                posit,          positioning\n",
      "              indoor,               indoor,               indoor\n",
      "              spaces,                space,                space\n",
      "          navigation,                navig,           navigation\n",
      "                   .,                    .,                    .\n",
      "                 new,                  new,                  new\n",
      "               small,                small,                small\n",
      "           satellite,             satellit,            satellite\n",
      "                also,                 also,                 also\n",
      "            designed,               design,             designed\n",
      "             project,              project,              project\n",
      "                   .,                    .,                    .\n",
      "        sufficiently,              suffici,         sufficiently\n",
      "            accurate,                accur,             accurate\n",
      "         positioning,                posit,          positioning\n",
      "             service,               servic,              service\n",
      "               works,                 work,                 work\n",
      "          seamlessly,             seamless,           seamlessly\n"
     ]
    }
   ],
   "source": [
    "lemmatized_words = [lemmatizer.lemmatize(word) for word in filtered_words]\n",
    "\n",
    "print(\"%20s, %20s, %20s\" % ('Original', 'Stem', 'Lemmatized'))\n",
    "print(\" \"*10 + \"-\"*55)\n",
    "for i in range(25):\n",
    "    print(\"%20s, %20s, %20s\" % (filtered_words[i], stemmed_words[i], lemmatized_words[i]))\n"
   ]
  },
  {
   "cell_type": "code",
   "execution_count": 338,
   "id": "d2f1ee0b",
   "metadata": {
    "ExecuteTime": {
     "end_time": "2021-11-23T17:28:17.791686Z",
     "start_time": "2021-11-23T17:28:17.781436Z"
    },
    "slideshow": {
     "slide_type": "subslide"
    }
   },
   "outputs": [
    {
     "name": "stdout",
     "output_type": "stream",
     "text": [
      "worst\n",
      "bad\n"
     ]
    }
   ],
   "source": [
    "# The position of the word can be specically adjusted, now as adjective, noun is the default\n",
    "print(lemmatizer.lemmatize(\"worst\", pos=\"n\"))\n",
    "print(lemmatizer.lemmatize(\"worst\", pos=\"a\"))"
   ]
  },
  {
   "cell_type": "markdown",
   "id": "b7982830",
   "metadata": {
    "slideshow": {
     "slide_type": "subslide"
    }
   },
   "source": [
    "## Finding the parts of speech\n",
    "\n",
    "*Sanaluokat*\n",
    "\n",
    "`nltk.help.upenn_tagset()`\n",
    "\n",
    " - DT=Determiner <br>\n",
    " - JJ=Adjective\n",
    " - NN=Noun\n",
    " - MD=Modal auxiliary\n",
    " - RB=Adverb\n",
    " - VB=Verb\n",
    " - VBN=Verb, past participle\n",
    " - WDT=WH determiner\n",
    " - VBZ=Verb, preset tense\n",
    " - ..."
   ]
  },
  {
   "cell_type": "code",
   "execution_count": 339,
   "id": "545228cd",
   "metadata": {
    "ExecuteTime": {
     "end_time": "2021-11-23T17:29:06.374468Z",
     "start_time": "2021-11-23T17:29:06.314530Z"
    },
    "scrolled": false,
    "slideshow": {
     "slide_type": "subslide"
    }
   },
   "outputs": [
    {
     "data": {
      "text/plain": [
       "[('The', 'DT'),\n",
       " ('project', 'NN'),\n",
       " ('will', 'MD'),\n",
       " ('research', 'NN'),\n",
       " ('the', 'DT'),\n",
       " ('application', 'NN'),\n",
       " ('of', 'IN'),\n",
       " ('small', 'JJ'),\n",
       " ('satellite', 'NN'),\n",
       " ('technology', 'NN'),\n",
       " ('for', 'IN'),\n",
       " ('precise', 'JJ'),\n",
       " ('positioning', 'NN'),\n",
       " ('of', 'IN'),\n",
       " ('indoor', 'JJ'),\n",
       " ('spaces', 'NNS'),\n",
       " ('and', 'CC'),\n",
       " ('navigation', 'NN'),\n",
       " ('.', '.'),\n",
       " ('A', 'DT')]"
      ]
     },
     "execution_count": 339,
     "metadata": {},
     "output_type": "execute_result"
    }
   ],
   "source": [
    "tags=nltk.pos_tag(words)\n",
    "tags[:20]"
   ]
  },
  {
   "cell_type": "code",
   "execution_count": 333,
   "id": "03b64dfe",
   "metadata": {
    "ExecuteTime": {
     "end_time": "2021-11-23T17:25:46.730328Z",
     "start_time": "2021-11-23T17:25:46.708803Z"
    },
    "slideshow": {
     "slide_type": "subslide"
    }
   },
   "outputs": [
    {
     "data": {
      "text/plain": [
       "array([['be', 'VB'],\n",
       "       ['work', 'VB'],\n",
       "       ['mention', 'VB'],\n",
       "       ['–', 'VB'],\n",
       "       ['be', 'VB'],\n",
       "       ['orbit', 'VB'],\n",
       "       ['be', 'VB'],\n",
       "       ['study', 'VB'],\n",
       "       ['be', 'VB'],\n",
       "       ['offer', 'VB']], dtype='<U15')"
      ]
     },
     "execution_count": 333,
     "metadata": {},
     "output_type": "execute_result"
    }
   ],
   "source": [
    "# Select all verbs, print first 10\n",
    "tagsarray=np.array(tags)\n",
    "i=tagsarray[:,1]=='VB'\n",
    "tagsarray[i][:10]"
   ]
  },
  {
   "cell_type": "code",
   "execution_count": 334,
   "id": "ad736d23",
   "metadata": {
    "ExecuteTime": {
     "end_time": "2021-11-23T17:26:03.811612Z",
     "start_time": "2021-11-23T17:26:03.797111Z"
    },
    "slideshow": {
     "slide_type": "subslide"
    }
   },
   "outputs": [
    {
     "data": {
      "text/plain": [
       "array([['project', 'NN'],\n",
       "       ['research', 'NN'],\n",
       "       ['application', 'NN'],\n",
       "       ['satellite', 'NN'],\n",
       "       ['technology', 'NN'],\n",
       "       ['positioning', 'NN'],\n",
       "       ['navigation', 'NN'],\n",
       "       ['satellite', 'NN'],\n",
       "       ['project', 'NN'],\n",
       "       ['positioning', 'NN']], dtype='<U15')"
      ]
     },
     "execution_count": 334,
     "metadata": {},
     "output_type": "execute_result"
    }
   ],
   "source": [
    "# Select all nouns, print first 10\n",
    "tagsarray=np.array(tags)\n",
    "i=tagsarray[:,1]=='NN'\n",
    "tagsarray[i][:10]"
   ]
  },
  {
   "cell_type": "code",
   "execution_count": 335,
   "id": "a0e7aed9",
   "metadata": {
    "ExecuteTime": {
     "end_time": "2021-11-23T17:26:11.502598Z",
     "start_time": "2021-11-23T17:26:11.486805Z"
    },
    "scrolled": true,
    "slideshow": {
     "slide_type": "subslide"
    }
   },
   "outputs": [
    {
     "data": {
      "text/plain": [
       "array([['small', 'JJ'],\n",
       "       ['precise', 'JJ'],\n",
       "       ['indoor', 'JJ'],\n",
       "       ['new', 'JJ'],\n",
       "       ['small', 'JJ'],\n",
       "       ['accurate', 'JJ'],\n",
       "       ['indoor', 'JJ'],\n",
       "       ['high', 'JJ'],\n",
       "       ['small', 'JJ'],\n",
       "       ['low', 'JJ']], dtype='<U15')"
      ]
     },
     "execution_count": 335,
     "metadata": {},
     "output_type": "execute_result"
    }
   ],
   "source": [
    "# Select all adjectives, print first 10\n",
    "tagsarray=np.array(tags)\n",
    "i=tagsarray[:,1]=='JJ'\n",
    "tagsarray[i][:10]"
   ]
  },
  {
   "cell_type": "markdown",
   "id": "af3555d8",
   "metadata": {
    "slideshow": {
     "slide_type": "subslide"
    }
   },
   "source": [
    "## Parsing grammar\n",
    "\n",
    "A simple syntax of a grammar can be defined using a template with syntax resembling regular expressions, as follows:\n",
    "\n",
    "A noun phrase *NP* is a sentence which starts with optional determiner *DT* and can have zero or more adjectives *JJ* and it must have a noun *NN* in the end. \n",
    "\n",
    "The Regexp Parser can use this grammatic rule and find the sentences matching to this rule from the text:"
   ]
  },
  {
   "cell_type": "code",
   "execution_count": 342,
   "id": "05e5d2a9",
   "metadata": {
    "ExecuteTime": {
     "end_time": "2021-11-23T17:40:25.722468Z",
     "start_time": "2021-11-23T17:40:24.998515Z"
    },
    "slideshow": {
     "slide_type": "subslide"
    }
   },
   "outputs": [
    {
     "data": {
      "image/png": "[encoded data removed]",
      "text/plain": [
       "Tree('S', [Tree('NP', [('The', 'DT'), ('project', 'NN')]), ('will', 'MD'), Tree('NP', [('research', 'NN')]), Tree('NP', [('the', 'DT'), ('application', 'NN')]), ('of', 'IN'), Tree('NP', [('small', 'JJ'), ('satellite', 'NN')]), Tree('NP', [('technology', 'NN')]), ('for', 'IN'), Tree('NP', [('precise', 'JJ'), ('positioning', 'NN')]), ('of', 'IN'), ('indoor', 'JJ'), ('spaces', 'NNS'), ('and', 'CC'), Tree('NP', [('navigation', 'NN')]), ('.', '.'), ('A', 'DT')])"
      ]
     },
     "execution_count": 342,
     "metadata": {},
     "output_type": "execute_result"
    }
   ],
   "source": [
    "grammar = \"NP: {<DT>?<JJ>*<NN>}\"\n",
    "chunk_parser = nltk.RegexpParser(grammar)\n",
    "tree = chunk_parser.parse(pos_tags[:20])\n",
    "tree"
   ]
  },
  {
   "cell_type": "markdown",
   "id": "cf6ed967",
   "metadata": {
    "slideshow": {
     "slide_type": "subslide"
    }
   },
   "source": [
    "## Finding named entities\n",
    "\n",
    "Named entity recognizer can be used for finding named entities such as persons, organizations, locations, times, facilities or geographical locations (GPE)."
   ]
  },
  {
   "cell_type": "code",
   "execution_count": 350,
   "id": "6ebf271b",
   "metadata": {
    "ExecuteTime": {
     "end_time": "2021-11-23T17:44:30.507828Z",
     "start_time": "2021-11-23T17:44:29.923284Z"
    },
    "slideshow": {
     "slide_type": "fragment"
    }
   },
   "outputs": [
    {
     "data": {
      "image/png": "[encoded data removed]",
      "text/plain": [
       "Tree('S', [('professor', 'NN'), Tree('PERSON', [('Heidi', 'NNP'), ('Kuusniemi', 'NNP')]), (',', ','), Tree('ORGANIZATION', [('Digital', 'NNP'), ('Economy', 'NNP')]), ('-research', 'NNP'), ('platform', 'NN'), (',', ','), Tree('ORGANIZATION', [('University', 'NNP')]), ('of', 'IN'), Tree('PERSON', [('Vaasa', 'NNP'), ('More', 'NNP')])])"
      ]
     },
     "execution_count": 350,
     "metadata": {},
     "output_type": "execute_result"
    }
   ],
   "source": [
    "#tree = nltk.ne_chunk(pos_tags[140:160])\n",
    "tree = nltk.ne_chunk(pos_tags[-43:-30])\n",
    "tree"
   ]
  },
  {
   "cell_type": "code",
   "execution_count": 351,
   "id": "f0b7cdf2",
   "metadata": {
    "ExecuteTime": {
     "end_time": "2021-11-23T17:44:52.043129Z",
     "start_time": "2021-11-23T17:44:51.978773Z"
    },
    "slideshow": {
     "slide_type": "subslide"
    }
   },
   "outputs": [
    {
     "name": "stdout",
     "output_type": "stream",
     "text": [
      "(NE GPS/NNP)\n",
      "(NE LEO/NNP)\n",
      "(NE INdoor/NNP)\n",
      "(NE CUBesAt/NNP Technology/NNP)\n",
      "(NE INCUBATE/NNP)\n",
      "(NE PNT/NNP)\n",
      "(NE University/NNP)\n",
      "(NE Vaasa/NNP)\n",
      "(NE Digital/NNP Economy/NNP)\n",
      "(NE Heidi/NNP Kuusniemi/NNP)\n",
      "(NE International/NNP Business/NNP)\n",
      "(NE Arto/NNP Ojala/NNP)\n",
      "(NE International/NNP Business/NNP)\n",
      "(NE Kendall/NNP Rutledge/NNP)\n",
      "(NE Petri/NNP Välisuo/NNP)\n",
      "(NE Jani/NNP Boutellier/NNP)\n",
      "(NE Mohammed/NNP Elmusrati/NNP)\n",
      "(NE University/NNP)\n",
      "(NE Vaasa/NNP)\n",
      "(NE Future/NNP)\n",
      "(NE Centennial/NNP Foundation/NNP)\n",
      "(NE Finnish/NNP Technology/NNP Industries/NNPS)\n",
      "(NE Jane/NNP)\n",
      "(NE Aatos/NNP Erkko/NNP Foundation/NNP)\n",
      "(NE Heidi/NNP Kuusniemi/NNP)\n",
      "(NE Digital/NNP Economy/NNP)\n",
      "(NE University/NNP)\n",
      "(NE Vaasa/NNP More/NNP)\n",
      "(NE University/NNP)\n",
      "(NE Vaasa/NNP Project/NNP)\n",
      "(NE Tampereen/NNP)\n",
      "(NE Finland/NNP Funding/NNP)\n",
      "(NE Technology/NNP Industries/NNPS)\n",
      "(NE Finland/NNP Centennial/NNP Foundation/NNP)\n"
     ]
    }
   ],
   "source": [
    "# List all named entities in the text\n",
    "ne = nltk.ne_chunk(pos_tags, binary=True)\n",
    "for e in ne:\n",
    "    if hasattr(e, \"label\") and e.label() == \"NE\":\n",
    "        print(e)"
   ]
  },
  {
   "cell_type": "markdown",
   "id": "595ae132",
   "metadata": {
    "slideshow": {
     "slide_type": "subslide"
    }
   },
   "source": [
    "## Corpus\n",
    "A text parsed for processing is called as Corpus. The NLTK library includes many corpus for testing, but the final goal is of course to make your own corpus for your own analysis.\n",
    "\n",
    "A corpus can be created from a plain text file, or a full directory of text files using PlaintextXCorpusReader object.\n",
    "\n",
    "In the example below, the previously written text file is read as a corpus. The filenames can contain wildcards. You may want to import all text files in the data directory using `*.txt` instead of a single filename. "
   ]
  },
  {
   "cell_type": "code",
   "execution_count": 357,
   "id": "416003b9",
   "metadata": {
    "ExecuteTime": {
     "end_time": "2021-11-23T18:06:53.539427Z",
     "start_time": "2021-11-23T18:06:53.504627Z"
    },
    "slideshow": {
     "slide_type": "fragment"
    }
   },
   "outputs": [],
   "source": [
    "from nltk.corpus import PlaintextCorpusReader\n",
    "digieco=PlaintextCorpusReader('./data/', 'digieco.txt')\n",
    "text = nltk.Text(word_tokenize(digieco.raw()))"
   ]
  },
  {
   "cell_type": "markdown",
   "id": "26e295cf",
   "metadata": {
    "slideshow": {
     "slide_type": "subslide"
    }
   },
   "source": [
    "### Concordance\n",
    "When the corpus is ready, it is easy to run many standard tests, for example to study in which context a certain word is used in the text. This is called as concordance."
   ]
  },
  {
   "cell_type": "code",
   "execution_count": 359,
   "id": "eac13b88",
   "metadata": {
    "ExecuteTime": {
     "end_time": "2021-11-23T18:07:59.977147Z",
     "start_time": "2021-11-23T18:07:59.962952Z"
    },
    "slideshow": {
     "slide_type": "fragment"
    }
   },
   "outputs": [
    {
     "name": "stdout",
     "output_type": "stream",
     "text": [
      "Displaying 5 of 5 matches:\n",
      " research the application of small satellite technology for precise positioning\n",
      "paces and navigation . A new small satellite will also be designed in the proje\n",
      "ipment and software carried by the satellite , to improve navigation solutions \n",
      "improve navigation solutions . The satellite signal and its reception must be o\n",
      "hat a sufficiently high-performing satellite signal can be defined for accurate\n"
     ]
    }
   ],
   "source": [
    "# The context of a selected word in the corpus\n",
    "text.concordance('satellite')"
   ]
  },
  {
   "cell_type": "markdown",
   "id": "e35f148d",
   "metadata": {
    "slideshow": {
     "slide_type": "subslide"
    }
   },
   "source": [
    "### Collocations\n",
    "Another common task is to find words which are often used together. These collocations can be now easily examined:"
   ]
  },
  {
   "cell_type": "code",
   "execution_count": 360,
   "id": "7944a710",
   "metadata": {
    "ExecuteTime": {
     "end_time": "2021-11-23T18:09:06.158133Z",
     "start_time": "2021-11-23T18:09:06.139890Z"
    },
    "slideshow": {
     "slide_type": "fragment"
    }
   },
   "outputs": [
    {
     "name": "stdout",
     "output_type": "stream",
     "text": [
      "indoor spaces; small satellites; Digital Economy; Heidi Kuusniemi;\n",
      "International Business; Centennial Foundation; Technology Industries;\n",
      "accurate positioning; precise positioning; satellite signal; small\n",
      "satellite; research project\n"
     ]
    }
   ],
   "source": [
    "# Words frequently mentioned together\n",
    "text.collocations()"
   ]
  },
  {
   "cell_type": "markdown",
   "id": "1e7dbc33",
   "metadata": {
    "slideshow": {
     "slide_type": "subslide"
    }
   },
   "source": [
    "### Lexical dispersion\n",
    "The dispersion indicates in which location of the document certain word is mentioned. If the corpus contains several documents, it shown in which of them the word is used."
   ]
  },
  {
   "cell_type": "code",
   "execution_count": 267,
   "id": "286de5ea",
   "metadata": {
    "ExecuteTime": {
     "end_time": "2021-11-23T16:50:20.906829Z",
     "start_time": "2021-11-23T16:50:20.734854Z"
    },
    "slideshow": {
     "slide_type": "fragment"
    }
   },
   "outputs": [
    {
     "data": {
      "image/png": "[encoded data removed]",
      "text/plain": [
       "<Figure size 432x288 with 1 Axes>"
      ]
     },
     "metadata": {
      "needs_background": "light"
     },
     "output_type": "display_data"
    }
   ],
   "source": [
    "text.dispersion_plot(['small', 'satellite', 'GPS', 'positioning', 'precise'])"
   ]
  },
  {
   "cell_type": "markdown",
   "id": "6e94c804",
   "metadata": {
    "slideshow": {
     "slide_type": "subslide"
    }
   },
   "source": [
    "### Word statistics"
   ]
  },
  {
   "cell_type": "code",
   "execution_count": 361,
   "id": "546064a9",
   "metadata": {
    "ExecuteTime": {
     "end_time": "2021-11-23T18:12:23.595295Z",
     "start_time": "2021-11-23T18:12:23.578777Z"
    },
    "slideshow": {
     "slide_type": "fragment"
    }
   },
   "outputs": [
    {
     "data": {
      "text/plain": [
       "[('the', 29),\n",
       " (',', 19),\n",
       " ('of', 16),\n",
       " ('.', 16),\n",
       " ('and', 15),\n",
       " ('in', 11),\n",
       " ('project', 10),\n",
       " ('positioning', 7),\n",
       " ('The', 6),\n",
       " ('research', 6),\n",
       " ('small', 6),\n",
       " ('navigation', 6),\n",
       " ('be', 6),\n",
       " ('satellites', 6),\n",
       " ('will', 5),\n",
       " ('satellite', 5),\n",
       " ('for', 5),\n",
       " ('to', 5),\n",
       " ('by', 5),\n",
       " ('University', 5)]"
      ]
     },
     "execution_count": 361,
     "metadata": {},
     "output_type": "execute_result"
    }
   ],
   "source": [
    "from nltk import FreqDist\n",
    "frequency_distribution = FreqDist(text)\n",
    "frequency_distribution.most_common(20)"
   ]
  },
  {
   "cell_type": "code",
   "execution_count": 274,
   "id": "84d32d80",
   "metadata": {
    "ExecuteTime": {
     "end_time": "2021-11-23T16:54:21.013460Z",
     "start_time": "2021-11-23T16:54:20.996577Z"
    },
    "slideshow": {
     "slide_type": "subslide"
    }
   },
   "outputs": [
    {
     "data": {
      "text/plain": [
       "[('project', 10),\n",
       " ('positioning', 7),\n",
       " ('research', 6),\n",
       " ('small', 6),\n",
       " ('navigation', 6),\n",
       " ('satellites', 6),\n",
       " ('satellite', 5),\n",
       " ('University', 5),\n",
       " ('earth', 4),\n",
       " ('Vaasa', 4),\n",
       " ('indoor', 3),\n",
       " ('spaces', 3),\n",
       " ('also', 3),\n",
       " ('signal', 3),\n",
       " ('Technology', 3),\n",
       " ('researchers', 3),\n",
       " ('Foundation', 3),\n",
       " ('application', 2),\n",
       " ('technology', 2),\n",
       " ('precise', 2)]"
      ]
     },
     "execution_count": 274,
     "metadata": {},
     "output_type": "execute_result"
    }
   ],
   "source": [
    "meaningful_words = [word for word in text if word.casefold() not in stop_words]\n",
    "frequency_distribution = FreqDist(meaningful_words)\n",
    "frequency_distribution.most_common(20)"
   ]
  },
  {
   "cell_type": "code",
   "execution_count": 362,
   "id": "ab5741d2",
   "metadata": {
    "ExecuteTime": {
     "end_time": "2021-11-23T18:12:59.909201Z",
     "start_time": "2021-11-23T18:12:59.600254Z"
    },
    "slideshow": {
     "slide_type": "subslide"
    }
   },
   "outputs": [
    {
     "data": {
      "image/png": "[encoded data removed]",
      "text/plain": [
       "<Figure size 432x288 with 1 Axes>"
      ]
     },
     "metadata": {
      "needs_background": "light"
     },
     "output_type": "display_data"
    },
    {
     "data": {
      "text/plain": [
       "<AxesSubplot:xlabel='Samples', ylabel='Cumulative Counts'>"
      ]
     },
     "execution_count": 362,
     "metadata": {},
     "output_type": "execute_result"
    }
   ],
   "source": [
    "frequency_distribution.plot(20, cumulative=True)"
   ]
  },
  {
   "cell_type": "markdown",
   "id": "746c9314",
   "metadata": {
    "slideshow": {
     "slide_type": "subslide"
    }
   },
   "source": [
    "## What next\n",
    "\n",
    "\n",
    "\n",
    "## More information\n",
    " - [Natural Language Processing with Python](https://realpython.com/nltk-nlp-python/)\n",
    " - [NLTK-Book: Extracting information from Text](https://www.nltk.org/book/ch07.html)"
   ]
  }
 ],
 "metadata": {
  "celltoolbar": "Slideshow",
  "kernelspec": {
   "display_name": "Python 3 (ipykernel)",
   "language": "python",
   "name": "python3"
  },
  "language_info": {
   "codemirror_mode": {
    "name": "ipython",
    "version": 3
   },
   "file_extension": ".py",
   "mimetype": "text/x-python",
   "name": "python",
   "nbconvert_exporter": "python",
   "pygments_lexer": "ipython3",
   "version": "3.9.2"
  },
  "toc": {
   "base_numbering": 1,
   "nav_menu": {},
   "number_sections": true,
   "sideBar": true,
   "skip_h1_title": false,
   "title_cell": "Table of Contents",
   "title_sidebar": "Contents",
   "toc_cell": false,
   "toc_position": {},
   "toc_section_display": true,
   "toc_window_display": false
  }
 },
 "nbformat": 4,
 "nbformat_minor": 5
}
