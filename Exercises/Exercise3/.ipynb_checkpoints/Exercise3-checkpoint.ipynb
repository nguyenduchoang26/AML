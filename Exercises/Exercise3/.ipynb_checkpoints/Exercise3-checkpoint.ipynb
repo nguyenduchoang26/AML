{
 "cells": [
  {
   "cell_type": "markdown",
   "metadata": {},
   "source": [
    "# Applied Machine Learning (2021), exercises\n",
    "\n",
    "\n",
    "## General instructions for all exercises\n",
    "\n",
    "Before you turn this problem in, make sure everything runs as expected. First, **restart the kernel** (in the menubar, select Kernel$\\rightarrow$Restart) and then **run all cells** (in the menubar, select Cell$\\rightarrow$Run All).\n",
    "\n",
    "Follow the instructions and fill in your solution under the line marked by tag\n",
    "\n",
    "> YOUR CODE HERE\n",
    "\n",
    "Do not change other areas of the document, since it may disturb the autograding of your results!\n",
    "  \n",
    "Having written the answer, execute the code cell by and pressing `Shift-Enter` key combination. The code is run, and it may print some information under the code cell. The focus automatically moves to the next cell and you may \"execute\" that cell by pressing `Shift-Enter` again, until you have reached the code cell which tests your solution. Execute that and follow the feedback. Usually it either says that the solution seems acceptable, or reports some errors. You can go back to your solution, modify it and repeat everything until you are satisfied. Then proceed to the next task.\n",
    "   \n",
    "Repeat the process for all tasks.\n",
    "\n",
    "The notebook may also contain manually graded answers. Write your manualle graded answer under the line marked by tag:\n",
    "\n",
    "> YOUR ANSWER HERE\n",
    "\n",
    "Manually graded tasks may be text, pseudocode, or mathematical formulas. You can write formulas with $\\LaTeX$-syntax by enclosing the formula with dollar signs (`$`), for example `$f(x)=2 \\pi / \\alpha$`, will produce $f(x)=2 \\pi / \\alpha$\n",
    "\n",
    "When you have passed the tests in the notebook, and you are ready to submit your solutions, download the whole notebook, using menu `File -> Download as -> Notebook (.ipynb)`. Save the file in your hard disk, and submit it in [Moodle](https://moodle.uwasa.fi) under the corresponding excercise.\n",
    "\n",
    "Your solution should be an executable Python code. Use the code already existing as an example of Python programing and read more from the numerous Python programming material from the Internet if necessary. \n"
   ]
  },
  {
   "cell_type": "code",
   "execution_count": 54,
   "metadata": {},
   "outputs": [],
   "source": [
    "NAME = \"Duc Hoang Nguyen\"\n",
    "Student_number = \"d120411\""
   ]
  },
  {
   "cell_type": "markdown",
   "metadata": {},
   "source": [
    "---"
   ]
  },
  {
   "cell_type": "markdown",
   "metadata": {},
   "source": [
    "# Unsupervised learning, projections"
   ]
  },
  {
   "cell_type": "markdown",
   "metadata": {},
   "source": [
    "## Task 1: Read and visualize spectral data"
   ]
  },
  {
   "cell_type": "code",
   "execution_count": 55,
   "metadata": {
    "ExecuteTime": {
     "end_time": "2021-10-20T17:59:06.303019Z",
     "start_time": "2021-10-20T17:59:06.296024Z"
    }
   },
   "outputs": [],
   "source": [
    "import numpy as np\n",
    "import pandas as pd\n",
    "import matplotlib.pyplot as plt\n",
    "import seaborn as sns\n",
    "sns.set()  # for plot styling"
   ]
  },
  {
   "cell_type": "markdown",
   "metadata": {},
   "source": [
    "The data-file `liver-spectroscopy.tab` is a text file which contains a Near Infrared Spectral (NIR) measurements of different cells from a liver. The file includes 731 samples, and each one has 234 variables. The variables describes the amount of infrared radiation absorbed in each of the tested 234 wavelengths. The last column in the data is the cell type, which can be one of the four types: 'collagen', 'glycogen', 'lipids' or 'DNA'. The column names are the wavelengths used in measuring the absorbtion values for the specific columns.\n",
    "\n",
    "The data file is in text format, in which the columns are separated by tab-characters. \n",
    "\n",
    "The first task is to read the data file into a pandas dataframe called `D`. Use pandas function `.read_table()` for reading it."
   ]
  },
  {
   "cell_type": "code",
   "execution_count": 56,
   "metadata": {
    "ExecuteTime": {
     "end_time": "2021-10-20T17:59:51.882587Z",
     "start_time": "2021-10-20T17:59:51.799625Z"
    },
    "deletable": false,
    "nbgrader": {
     "cell_type": "code",
     "checksum": "7ffef172cd67d1636738f6e3f5ddf4ff",
     "grade": false,
     "grade_id": "cell-10342f7d59a7a427",
     "locked": false,
     "schema_version": 3,
     "solution": true,
     "task": false
    }
   },
   "outputs": [
    {
     "data": {
      "text/html": [
       "<div>\n",
       "<style scoped>\n",
       "    .dataframe tbody tr th:only-of-type {\n",
       "        vertical-align: middle;\n",
       "    }\n",
       "\n",
       "    .dataframe tbody tr th {\n",
       "        vertical-align: top;\n",
       "    }\n",
       "\n",
       "    .dataframe thead th {\n",
       "        text-align: right;\n",
       "    }\n",
       "</style>\n",
       "<table border=\"1\" class=\"dataframe\">\n",
       "  <thead>\n",
       "    <tr style=\"text-align: right;\">\n",
       "      <th></th>\n",
       "      <th>1801.264</th>\n",
       "      <th>1797.407</th>\n",
       "      <th>1793.55</th>\n",
       "      <th>1789.693</th>\n",
       "      <th>1785.836</th>\n",
       "      <th>1781.979</th>\n",
       "      <th>1778.121</th>\n",
       "      <th>1774.264</th>\n",
       "      <th>1770.407</th>\n",
       "      <th>1766.55</th>\n",
       "      <th>...</th>\n",
       "      <th>933.4174</th>\n",
       "      <th>929.5602</th>\n",
       "      <th>925.7032</th>\n",
       "      <th>921.8461</th>\n",
       "      <th>917.989</th>\n",
       "      <th>914.1319</th>\n",
       "      <th>910.2748</th>\n",
       "      <th>906.4177</th>\n",
       "      <th>902.5606</th>\n",
       "      <th>type</th>\n",
       "    </tr>\n",
       "  </thead>\n",
       "  <tbody>\n",
       "    <tr>\n",
       "      <th>0</th>\n",
       "      <td>0.117</td>\n",
       "      <td>0.118</td>\n",
       "      <td>0.119</td>\n",
       "      <td>0.118</td>\n",
       "      <td>0.118</td>\n",
       "      <td>0.118</td>\n",
       "      <td>0.119</td>\n",
       "      <td>0.121</td>\n",
       "      <td>0.122</td>\n",
       "      <td>0.122</td>\n",
       "      <td>...</td>\n",
       "      <td>0.222</td>\n",
       "      <td>0.221</td>\n",
       "      <td>0.220</td>\n",
       "      <td>0.218</td>\n",
       "      <td>0.215</td>\n",
       "      <td>0.211</td>\n",
       "      <td>0.208</td>\n",
       "      <td>0.205</td>\n",
       "      <td>0.203</td>\n",
       "      <td>collagen</td>\n",
       "    </tr>\n",
       "    <tr>\n",
       "      <th>1</th>\n",
       "      <td>0.123</td>\n",
       "      <td>0.124</td>\n",
       "      <td>0.124</td>\n",
       "      <td>0.122</td>\n",
       "      <td>0.121</td>\n",
       "      <td>0.121</td>\n",
       "      <td>0.121</td>\n",
       "      <td>0.122</td>\n",
       "      <td>0.123</td>\n",
       "      <td>0.121</td>\n",
       "      <td>...</td>\n",
       "      <td>0.194</td>\n",
       "      <td>0.192</td>\n",
       "      <td>0.190</td>\n",
       "      <td>0.188</td>\n",
       "      <td>0.185</td>\n",
       "      <td>0.181</td>\n",
       "      <td>0.177</td>\n",
       "      <td>0.174</td>\n",
       "      <td>0.172</td>\n",
       "      <td>collagen</td>\n",
       "    </tr>\n",
       "    <tr>\n",
       "      <th>2</th>\n",
       "      <td>0.098</td>\n",
       "      <td>0.099</td>\n",
       "      <td>0.100</td>\n",
       "      <td>0.099</td>\n",
       "      <td>0.099</td>\n",
       "      <td>0.099</td>\n",
       "      <td>0.099</td>\n",
       "      <td>0.101</td>\n",
       "      <td>0.102</td>\n",
       "      <td>0.101</td>\n",
       "      <td>...</td>\n",
       "      <td>0.240</td>\n",
       "      <td>0.240</td>\n",
       "      <td>0.239</td>\n",
       "      <td>0.238</td>\n",
       "      <td>0.235</td>\n",
       "      <td>0.231</td>\n",
       "      <td>0.228</td>\n",
       "      <td>0.225</td>\n",
       "      <td>0.223</td>\n",
       "      <td>collagen</td>\n",
       "    </tr>\n",
       "    <tr>\n",
       "      <th>3</th>\n",
       "      <td>0.097</td>\n",
       "      <td>0.098</td>\n",
       "      <td>0.098</td>\n",
       "      <td>0.097</td>\n",
       "      <td>0.096</td>\n",
       "      <td>0.096</td>\n",
       "      <td>0.096</td>\n",
       "      <td>0.097</td>\n",
       "      <td>0.098</td>\n",
       "      <td>0.097</td>\n",
       "      <td>...</td>\n",
       "      <td>0.231</td>\n",
       "      <td>0.230</td>\n",
       "      <td>0.229</td>\n",
       "      <td>0.226</td>\n",
       "      <td>0.223</td>\n",
       "      <td>0.220</td>\n",
       "      <td>0.217</td>\n",
       "      <td>0.213</td>\n",
       "      <td>0.211</td>\n",
       "      <td>collagen</td>\n",
       "    </tr>\n",
       "    <tr>\n",
       "      <th>4</th>\n",
       "      <td>0.115</td>\n",
       "      <td>0.116</td>\n",
       "      <td>0.117</td>\n",
       "      <td>0.117</td>\n",
       "      <td>0.116</td>\n",
       "      <td>0.117</td>\n",
       "      <td>0.118</td>\n",
       "      <td>0.121</td>\n",
       "      <td>0.122</td>\n",
       "      <td>0.121</td>\n",
       "      <td>...</td>\n",
       "      <td>0.225</td>\n",
       "      <td>0.225</td>\n",
       "      <td>0.224</td>\n",
       "      <td>0.223</td>\n",
       "      <td>0.222</td>\n",
       "      <td>0.219</td>\n",
       "      <td>0.215</td>\n",
       "      <td>0.213</td>\n",
       "      <td>0.212</td>\n",
       "      <td>collagen</td>\n",
       "    </tr>\n",
       "  </tbody>\n",
       "</table>\n",
       "<p>5 rows × 235 columns</p>\n",
       "</div>"
      ],
      "text/plain": [
       "   1801.264  1797.407  1793.55  1789.693  1785.836  1781.979  1778.121  \\\n",
       "0     0.117     0.118    0.119     0.118     0.118     0.118     0.119   \n",
       "1     0.123     0.124    0.124     0.122     0.121     0.121     0.121   \n",
       "2     0.098     0.099    0.100     0.099     0.099     0.099     0.099   \n",
       "3     0.097     0.098    0.098     0.097     0.096     0.096     0.096   \n",
       "4     0.115     0.116    0.117     0.117     0.116     0.117     0.118   \n",
       "\n",
       "   1774.264  1770.407  1766.55  ...  933.4174  929.5602  925.7032  921.8461  \\\n",
       "0     0.121     0.122    0.122  ...     0.222     0.221     0.220     0.218   \n",
       "1     0.122     0.123    0.121  ...     0.194     0.192     0.190     0.188   \n",
       "2     0.101     0.102    0.101  ...     0.240     0.240     0.239     0.238   \n",
       "3     0.097     0.098    0.097  ...     0.231     0.230     0.229     0.226   \n",
       "4     0.121     0.122    0.121  ...     0.225     0.225     0.224     0.223   \n",
       "\n",
       "   917.989  914.1319  910.2748  906.4177  902.5606      type  \n",
       "0    0.215     0.211     0.208     0.205     0.203  collagen  \n",
       "1    0.185     0.181     0.177     0.174     0.172  collagen  \n",
       "2    0.235     0.231     0.228     0.225     0.223  collagen  \n",
       "3    0.223     0.220     0.217     0.213     0.211  collagen  \n",
       "4    0.222     0.219     0.215     0.213     0.212  collagen  \n",
       "\n",
       "[5 rows x 235 columns]"
      ]
     },
     "execution_count": 56,
     "metadata": {},
     "output_type": "execute_result"
    }
   ],
   "source": [
    "# YOUR CODE HERE\n",
    "D = pd.read_table('liver-spectroscopy.tab')\n",
    "D.head()"
   ]
  },
  {
   "cell_type": "code",
   "execution_count": 57,
   "metadata": {
    "ExecuteTime": {
     "end_time": "2021-10-20T18:01:10.460125Z",
     "start_time": "2021-10-20T18:01:10.454098Z"
    },
    "deletable": false,
    "editable": false,
    "nbgrader": {
     "cell_type": "code",
     "checksum": "b83c634d113cd8728aa31725fe558dab",
     "grade": true,
     "grade_id": "cell-d2b7ace3c3ddd431",
     "locked": true,
     "points": 1,
     "schema_version": 3,
     "solution": false,
     "task": false
    }
   },
   "outputs": [],
   "source": [
    "assert(D.shape==(731,235)), \"The shape of the data matrix is not quite right. Try to read it again\"\n"
   ]
  },
  {
   "cell_type": "markdown",
   "metadata": {},
   "source": [
    "Then visualize the spectral data by carrying out the following steps\n",
    "1. Parse the `type` column as categorical value vector called types using function `pd.Categorical()`\n",
    "1. Delete the original column 'type' from the dataframe (`del D['type']`)\n",
    "1. parse the column names (`D.columns`) into a numerical vector of wavelengts, and name it as `wl`. You may find the `map()` function usefull for this purpose. Check from the last exercise how it was used. Round the wavelengths to integers, if you find a way to do that, but you can also used it as floating point values.\n",
    "1. Assing the parsed `wl` vector as new column names of D (you can just assign it to `D.columns`)\n",
    "1. Plot the first 10 samples. Select the first ten rows using `D.iloc[]`, and plot the transpose of them, using a transpose operator `.T`, as follows `D.iloc[].T.plot()`. Transpose is needed, because the plot function always places the row index in the x-axis. If the dataframe is first transposed, the column index (the wavelengths) becomes the row index, and plot will be correct.\n",
    "\n",
    "You can also use `plt.xlabel()` and `plt.ylabel()` -functions to define labels for x- and y-axes.\n",
    "\n",
    "The result should look like this:\n",
    "![spectra](spectra.png)\n"
   ]
  },
  {
   "cell_type": "code",
   "execution_count": 58,
   "metadata": {
    "ExecuteTime": {
     "end_time": "2021-10-20T18:04:22.520887Z",
     "start_time": "2021-10-20T18:04:22.491254Z"
    },
    "deletable": false,
    "nbgrader": {
     "cell_type": "code",
     "checksum": "595b5d8af8c7d7bd05aa6c553cb3b98f",
     "grade": false,
     "grade_id": "cell-24c94f31e298e4b7",
     "locked": false,
     "schema_version": 3,
     "solution": true,
     "task": false
    }
   },
   "outputs": [
    {
     "data": {
      "image/png": "[encoded data removed]",
      "text/plain": [
       "<Figure size 432x288 with 1 Axes>"
      ]
     },
     "metadata": {},
     "output_type": "display_data"
    }
   ],
   "source": [
    "# YOUR CODE HERE\n",
    "# Parse the type column as categorical value vector called types\n",
    "types = pd.Categorical(D['type'])\n",
    "# Delete the original column 'type' from the dataframe\n",
    "del D['type']\n",
    "# Parse column names into numeric integer vector and assign it back to the dataframe\n",
    "wl = D.columns.map(lambda x: int(float(x)))\n",
    "D.columns = wl\n",
    "# Plot the first 10 samples\n",
    "D.iloc[0:10, :].T.plot()\n",
    "plt.xlabel('Wavelength/nm')\n",
    "plt.ylabel('Absorbtion/AU')\n",
    "plt.show()"
   ]
  },
  {
   "cell_type": "code",
   "execution_count": 59,
   "metadata": {
    "ExecuteTime": {
     "end_time": "2021-10-20T18:17:24.803956Z",
     "start_time": "2021-10-20T18:17:24.794772Z"
    },
    "deletable": false,
    "editable": false,
    "nbgrader": {
     "cell_type": "code",
     "checksum": "b7a46e8949e8414d80e9fb16b34d0ee9",
     "grade": true,
     "grade_id": "cell-21f59b217aab4f88",
     "locked": true,
     "points": 2,
     "schema_version": 3,
     "solution": false,
     "task": false
    }
   },
   "outputs": [],
   "source": [
    "assert(type(types)==pd.core.arrays.categorical.Categorical)\n",
    "assert(len(types)==731)\n",
    "assert(len(wl)==234)\n",
    "assert(D.shape==(731,234))\n"
   ]
  },
  {
   "cell_type": "markdown",
   "metadata": {},
   "source": [
    "## Task 2, calculate PCA projection and visualize\n",
    "\n",
    "Apply PCA to the dataframe `D` and plot how much variance is explained by 10 first principal components. Store the transformed `D` as variable `projectedD`."
   ]
  },
  {
   "cell_type": "code",
   "execution_count": 61,
   "metadata": {
    "ExecuteTime": {
     "end_time": "2021-10-20T17:04:34.884437Z",
     "start_time": "2021-10-20T17:04:33.876197Z"
    },
    "deletable": false,
    "nbgrader": {
     "cell_type": "code",
     "checksum": "c50ed08eddf7419fa7eb4a9a176840f3",
     "grade": false,
     "grade_id": "cell-3083b4a641efcef3",
     "locked": false,
     "schema_version": 3,
     "solution": true,
     "task": false
    }
   },
   "outputs": [
    {
     "data": {
      "text/plain": [
       "(731, 10)"
      ]
     },
     "execution_count": 61,
     "metadata": {},
     "output_type": "execute_result"
    }
   ],
   "source": [
    "# YOUR CODE HERE\n",
    "from sklearn.decomposition import PCA\n",
    "\n",
    "pca=PCA(n_components=10)\n",
    "projectedD=pca.fit_transform(D)\n",
    "\n",
    "projectedD.shape"
   ]
  },
  {
   "cell_type": "code",
   "execution_count": 62,
   "metadata": {
    "ExecuteTime": {
     "end_time": "2021-10-20T17:05:32.229673Z",
     "start_time": "2021-10-20T17:05:32.225028Z"
    },
    "deletable": false,
    "editable": false,
    "nbgrader": {
     "cell_type": "code",
     "checksum": "cd6eeeac010e84b52f4076db506a8a69",
     "grade": true,
     "grade_id": "cell-116468ea10bd494e",
     "locked": true,
     "points": 2,
     "schema_version": 3,
     "solution": false,
     "task": false
    }
   },
   "outputs": [],
   "source": [
    "assert(projectedD.shape==(731,10))"
   ]
  },
  {
   "cell_type": "markdown",
   "metadata": {},
   "source": [
    "### Visualize the data in PCA domain\n",
    "\n",
    "Plot a scatter plot of two first principal components. Since `projectedD` is a numpy array and not a DataFrame, use the plotting function  `plt.scatter()`. The function requires two parameters, x-data and y-data, but some others are also usefull:\n",
    "1. The first parameter is the x-data, give it the first principal compoent\n",
    "1. The second parameter is the y-data, give it the second principal component\n",
    "1. Give the class category for point colors `c=types.codes` \n",
    "1. Use the colormap parameter to use better colormap, e.g. `cmap='rainbow'`\n",
    "1. Use rather small point size e.g. `s=10`\n",
    "1. Make points somewhat transparent `alpha=0.5`\n",
    "\n",
    "You can also use `plt.xlabel()` and `plt.ylabel()` functions to provide names for x and y axes, and `plt.colorbar()` to plot the colorbar explaining the meaning of the colors.\n",
    "The plot should look like the following:\n",
    "\n",
    "![pca](pca.png)\n",
    "\n",
    "Notice that the different tissue types are clearly different already in two dimensional space."
   ]
  },
  {
   "cell_type": "code",
   "execution_count": 63,
   "metadata": {
    "ExecuteTime": {
     "end_time": "2021-10-20T17:05:41.619990Z",
     "start_time": "2021-10-20T17:05:41.395241Z"
    },
    "deletable": false,
    "nbgrader": {
     "cell_type": "code",
     "checksum": "3609c9e72bc9ff774c63c89fc12e890a",
     "grade": false,
     "grade_id": "cell-73bd925190782d71",
     "locked": false,
     "schema_version": 3,
     "solution": true,
     "task": false
    }
   },
   "outputs": [
    {
     "data": {
      "text/plain": [
       "<matplotlib.colorbar.Colorbar at 0x292a7b25910>"
      ]
     },
     "execution_count": 63,
     "metadata": {},
     "output_type": "execute_result"
    },
    {
     "data": {
      "image/png": "[encoded data removed]",
      "text/plain": [
       "<Figure size 432x288 with 2 Axes>"
      ]
     },
     "metadata": {},
     "output_type": "display_data"
    }
   ],
   "source": [
    "# YOUR CODE HERE\n",
    "fig, ax = plt.subplots()\n",
    "\n",
    "c = ax.scatter(projectedD[:,0], projectedD[:,1], c=types.codes, cmap='rainbow', s=10, alpha=0.5)\n",
    "ax.set_xlabel('The first component')\n",
    "ax.set_ylabel('The second component')\n",
    "fig.colorbar(c, ax=ax)"
   ]
  },
  {
   "cell_type": "code",
   "execution_count": 64,
   "metadata": {
    "ExecuteTime": {
     "end_time": "2021-10-20T18:25:46.072496Z",
     "start_time": "2021-10-20T18:25:46.063509Z"
    },
    "deletable": false,
    "editable": false,
    "nbgrader": {
     "cell_type": "code",
     "checksum": "c5bf535d7c26e2ca7ee8a23dea808e7a",
     "grade": true,
     "grade_id": "cell-939b3dbdc15ef430",
     "locked": true,
     "points": 2,
     "schema_version": 3,
     "solution": false,
     "task": false
    }
   },
   "outputs": [],
   "source": [
    "# There are some tests here. Do not remove or modify!\n"
   ]
  },
  {
   "cell_type": "markdown",
   "metadata": {},
   "source": [
    "## Task 3, calculate t-SNE manifold projection and visualize\n",
    "\n",
    "Repeat the previously made projection using t-SNE and visualize it. Save your t-SNE projected data as `tsneD`. You can use just two components for tSNE.\n",
    "\n",
    "The result should look like the following: (*Notice that tSNE projection may be different, depending on program versions*)\n",
    "\n",
    "![tsne](tsne.png)\n",
    "\n",
    "The different cell types are even more easily separable than for PCA case."
   ]
  },
  {
   "cell_type": "code",
   "execution_count": 65,
   "metadata": {
    "ExecuteTime": {
     "end_time": "2021-10-20T18:40:33.958259Z",
     "start_time": "2021-10-20T18:40:31.625595Z"
    },
    "deletable": false,
    "nbgrader": {
     "cell_type": "code",
     "checksum": "42456f8c2d54fc9801b44a5e7eb27cac",
     "grade": false,
     "grade_id": "cell-f75c9a3047ffdcb8",
     "locked": false,
     "schema_version": 3,
     "solution": true,
     "task": false
    }
   },
   "outputs": [
    {
     "data": {
      "text/plain": [
       "<matplotlib.colorbar.Colorbar at 0x292a7bc2ca0>"
      ]
     },
     "execution_count": 65,
     "metadata": {},
     "output_type": "execute_result"
    },
    {
     "data": {
      "image/png": "[encoded data removed]",
      "text/plain": [
       "<Figure size 432x288 with 2 Axes>"
      ]
     },
     "metadata": {},
     "output_type": "display_data"
    }
   ],
   "source": [
    "from sklearn.manifold import TSNE\n",
    "# YOUR CODE HERE\n",
    "tsne=TSNE(n_components=2, random_state = 13)\n",
    "tsneD=tsne.fit_transform(D)\n",
    "\n",
    "fig, ax = plt.subplots()\n",
    "c = ax.scatter(tsneD[:,1], tsneD[:,0], c=types.codes, cmap='rainbow', s=10, alpha=0.5)\n",
    "ax.set_xlabel('The first component')\n",
    "ax.set_ylabel('The second component')\n",
    "fig.colorbar(c, ax=ax)"
   ]
  },
  {
   "cell_type": "code",
   "execution_count": 66,
   "metadata": {
    "ExecuteTime": {
     "end_time": "2021-10-20T18:29:41.878204Z",
     "start_time": "2021-10-20T18:29:41.875625Z"
    },
    "deletable": false,
    "editable": false,
    "nbgrader": {
     "cell_type": "code",
     "checksum": "3150b6809ac2043a82563b6d6b03793d",
     "grade": true,
     "grade_id": "cell-37f4208cfc16968d",
     "locked": true,
     "points": 1,
     "schema_version": 3,
     "solution": false,
     "task": false
    }
   },
   "outputs": [],
   "source": [
    "assert(tsneD.shape==(731,2))"
   ]
  },
  {
   "cell_type": "markdown",
   "metadata": {
    "deletable": false,
    "editable": false,
    "nbgrader": {
     "cell_type": "markdown",
     "checksum": "246c08a00cf4aab82056359f670294ba",
     "grade": false,
     "grade_id": "cell-43b5cd2a339226d0",
     "locked": true,
     "schema_version": 3,
     "solution": false,
     "task": false
    }
   },
   "source": [
    "### Final questions\n",
    "1. Which tissue type is the most different from the other tissue types?\n",
    "1. Is it the same or different with PCA?"
   ]
  },
  {
   "cell_type": "markdown",
   "metadata": {
    "deletable": false,
    "nbgrader": {
     "cell_type": "markdown",
     "checksum": "c59bc219f8261f7ded93dbaf8c83ac0c",
     "grade": true,
     "grade_id": "cell-b35a562e62079958",
     "locked": false,
     "points": 2,
     "schema_version": 3,
     "solution": true,
     "task": false
    }
   },
   "source": [
    "YOUR ANSWER HERE\n",
    "1. Which tissue type is the most different from the other tissue types?\n",
    "   - Based on the scatter plots below, we could conclude that <span style=\"color:red\">glycogen</span> is the tissue type that is the most different than other tissue types. The catter plot for TSNE shows that glycogen data points are quite separated from other tissue types data points on the top right corner of the graph, and the data points are highly centralized in a small area, whereas other tissue types seems to have relatively low value (<20) for the second feature TSNE_2.\n",
    "2. Is it the same or different with PCA?\n",
    "   - It's hard to tell which tissue are the most different when consider the PCA result. But one could also come with the same conclusion that <span style=\"color:red\">glycogen</span> is the one since data points of this type are highly centralized on the botton left corner in a relatively small area compared to data points of other tissue types. "
   ]
  },
  {
   "cell_type": "code",
   "execution_count": 67,
   "metadata": {},
   "outputs": [
    {
     "data": {
      "application/vnd.plotly.v1+json": {
       "config": {
        "plotlyServerURL": "https://plot.ly"
       },
       "data": [
        {
         "hovertemplate": "Type=collagen<br>TSNE_1=%{x}<br>TSNE_2=%{y}<extra></extra>",
         "legendgroup": "collagen",
         "marker": {
          "color": "#636efa",
          "symbol": "circle"
         },
         "mode": "markers",
         "name": "collagen",
         "orientation": "v",
         "showlegend": true,
         "type": "scatter",
         "x": [
          19.20807456970215,
          10.365011215209961,
          19.381370544433594,
          12.679526329040527,
          17.93967056274414,
          12.419244766235352,
          19.503522872924805,
          10.912199020385742,
          20.02738380432129,
          5.37984037399292,
          19.91501808166504,
          5.380862236022949,
          20.027385711669922,
          10.912142753601074,
          19.5035400390625,
          12.419188499450684,
          19.0517578125,
          20.32184600830078,
          13.354170799255371,
          16.806297302246094,
          22.758502960205078,
          23.69939613342285,
          23.481142044067383,
          18.449586868286133,
          22.758466720581055,
          16.806238174438477,
          22.031448364257812,
          11.911993026733398,
          12.187214851379395,
          10.622038841247559,
          12.363227844238281,
          4.932295322418213,
          2.8067495822906494,
          11.582060813903809,
          5.836870193481445,
          -4.2046895027160645,
          -3.2633869647979736,
          15.014872550964355,
          9.004928588867188,
          20.436769485473633,
          18.361530303955078,
          5.66400671005249,
          10.179460525512695,
          10.895929336547852,
          18.49264907836914,
          8.779379844665527,
          2.932305335998535,
          1.2436888217926025,
          6.793120384216309,
          9.85917854309082,
          10.080452919006348,
          13.25238037109375,
          2.373725175857544,
          9.6056489944458,
          20.604236602783203,
          15.844497680664062,
          10.975850105285645,
          6.563326835632324,
          5.3917460441589355,
          8.485211372375488,
          7.301267623901367,
          15.355216979980469,
          16.95145606994629,
          21.889381408691406,
          8.800749778747559,
          21.696382522583008,
          20.857927322387695,
          19.235456466674805,
          19.84564781188965,
          13.27822494506836,
          5.421884059906006,
          21.578458786010742,
          22.53009605407715,
          22.379133224487305,
          25.57177734375,
          25.747743606567383,
          25.720975875854492,
          24.234954833984375,
          21.381637573242188,
          15.675865173339844,
          21.280183792114258,
          18.80656623840332,
          18.984888076782227,
          19.493528366088867,
          20.168956756591797,
          22.1832275390625,
          24.021751403808594,
          25.470773696899414,
          24.60270881652832,
          22.767250061035156,
          15.977360725402832,
          15.981534957885742,
          14.07613754272461,
          10.544900894165039,
          7.826118469238281,
          15.442353248596191,
          23.093502044677734,
          25.858657836914062,
          25.818748474121094,
          21.330154418945312,
          15.650310516357422,
          9.90714168548584,
          9.448209762573242,
          12.842401504516602,
          12.543656349182129,
          12.610061645507812,
          5.418762683868408,
          7.623706340789795,
          11.948369026184082,
          12.50040054321289,
          8.08099365234375,
          3.8325862884521484,
          9.503900527954102,
          12.749570846557617,
          23.854055404663086,
          23.326112747192383,
          21.581958770751953,
          18.111629486083984,
          6.200504779815674,
          10.615748405456543,
          19.159160614013672,
          17.154294967651367,
          16.88511848449707,
          18.233734130859375,
          17.61608123779297,
          17.595117568969727,
          3.5424787998199463,
          1.8317128419876099,
          6.080804347991943,
          12.717694282531738,
          7.068472385406494,
          11.157326698303223,
          14.301366806030273,
          11.238091468811035,
          11.592015266418457,
          10.14352798461914,
          6.904988765716553,
          3.5416417121887207,
          6.3815717697143555,
          8.71806526184082,
          10.875653266906738,
          4.028932094573975,
          7.699746131896973,
          16.115673065185547,
          18.170406341552734,
          13.122416496276855,
          13.7742280960083,
          19.21276092529297,
          22.742061614990234,
          19.599632263183594,
          20.795530319213867,
          18.184293746948242,
          19.143367767333984,
          6.585946559906006,
          3.876868724822998,
          8.672815322875977,
          8.005158424377441,
          7.029372692108154,
          14.523341178894043,
          15.592296600341797,
          11.903823852539062,
          4.701725006103516,
          8.39538288116455,
          11.502751350402832,
          6.6925272941589355,
          11.646252632141113,
          5.755640029907227,
          7.179653167724609,
          6.233954906463623,
          3.1454222202301025,
          2.45226788520813,
          1.4679770469665527,
          2.6030032634735107,
          8.655194282531738,
          7.972115516662598,
          6.008805751800537,
          2.612593412399292,
          1.6909806728363037,
          4.702876567840576,
          20.7757568359375,
          19.450397491455078,
          3.717019557952881,
          2.918198823928833,
          9.7080717086792,
          20.01219367980957,
          18.19024085998535,
          6.346795558929443,
          6.327176570892334,
          14.529336929321289,
          12.09961986541748,
          4.578442096710205,
          1.2318687438964844,
          1.3921343088150024,
          10.087759017944336,
          1.9709359407424927
         ],
         "xaxis": "x",
         "y": [
          -16.622411727905273,
          -33.93252182006836,
          -19.395118713378906,
          -32.18251419067383,
          -15.982053756713867,
          -26.04781723022461,
          -13.546914100646973,
          -26.45172119140625,
          -15.773526191711426,
          -28.370988845825195,
          -14.922094345092773,
          -28.371089935302734,
          -15.773531913757324,
          -26.45168113708496,
          -13.54690933227539,
          -26.047704696655273,
          -18.26860809326172,
          -16.73468589782715,
          -27.833005905151367,
          -22.011978149414062,
          -11.759346961975098,
          -13.19072437286377,
          -13.02182674407959,
          -13.938579559326172,
          -11.759363174438477,
          -22.011972427368164,
          -13.109125137329102,
          -26.15264892578125,
          -23.033245086669922,
          -25.27154541015625,
          -21.1416015625,
          -30.421085357666016,
          -33.777584075927734,
          -19.86773681640625,
          -23.477384567260742,
          -3.3000707626342773,
          -2.0995752811431885,
          -13.711373329162598,
          -21.719524383544922,
          -8.683579444885254,
          -17.162809371948242,
          -30.83614158630371,
          -22.030885696411133,
          -19.779518127441406,
          -12.79893684387207,
          -21.92452049255371,
          -23.573490142822266,
          -34.04283142089844,
          -27.204742431640625,
          -35.04502868652344,
          -34.75371170043945,
          -20.091724395751953,
          -34.03667068481445,
          -35.446083068847656,
          -7.277806282043457,
          -13.942608833312988,
          -18.757410049438477,
          -24.224924087524414,
          -26.504377365112305,
          -34.73031997680664,
          -36.113311767578125,
          -21.076866149902344,
          -18.905094146728516,
          -7.337068557739258,
          -25.934709548950195,
          -11.704936981201172,
          -10.377102851867676,
          -9.939364433288574,
          -10.453692436218262,
          -16.788667678833008,
          -22.1833438873291,
          -15.608287811279297,
          -9.989182472229004,
          -9.552008628845215,
          -8.876667976379395,
          -9.591781616210938,
          -9.867018699645996,
          -10.708588600158691,
          -14.754644393920898,
          -22.107940673828125,
          -9.656773567199707,
          -8.886406898498535,
          -8.838417053222656,
          -9.153911590576172,
          -10.897345542907715,
          -9.207162857055664,
          -7.638869762420654,
          -8.223760604858398,
          -8.647269248962402,
          -7.365026473999023,
          -16.6286678314209,
          -16.714370727539062,
          -24.691177368164062,
          -30.081710815429688,
          -28.355510711669922,
          -20.56671714782715,
          -9.466257095336914,
          -8.749960899353027,
          -8.336526870727539,
          -11.405001640319824,
          -22.510303497314453,
          -27.364328384399414,
          -27.0620174407959,
          -20.404756546020508,
          -19.635568618774414,
          -17.99363899230957,
          -23.83234977722168,
          -20.490013122558594,
          -17.722835540771484,
          -18.742280960083008,
          -26.80483055114746,
          -33.639896392822266,
          -36.8852424621582,
          -27.90321159362793,
          -8.110552787780762,
          -8.338099479675293,
          -8.564311027526855,
          -11.98224925994873,
          -25.171083450317383,
          -23.566650390625,
          -11.035487174987793,
          -12.116498947143555,
          -12.536798477172852,
          -11.004222869873047,
          -15.17091178894043,
          -17.387659072875977,
          -31.230436325073242,
          -37.17768096923828,
          -36.08195495605469,
          -25.114782333374023,
          -26.28761863708496,
          -22.73626708984375,
          -25.518232345581055,
          -28.73760986328125,
          -35.19950485229492,
          -35.97145462036133,
          -37.088871002197266,
          -37.01129913330078,
          -36.90629959106445,
          -32.160335540771484,
          -27.228666305541992,
          -37.57863235473633,
          -34.0306396484375,
          -14.885563850402832,
          -13.866040229797363,
          -21.531002044677734,
          -26.90492820739746,
          -18.656240463256836,
          -10.44627571105957,
          -14.7036714553833,
          -15.135546684265137,
          -15.692431449890137,
          -17.089637756347656,
          -31.625072479248047,
          -27.262277603149414,
          -33.36390686035156,
          -37.45210266113281,
          -35.09389877319336,
          -19.288291931152344,
          -14.994590759277344,
          -20.91021728515625,
          -27.59051513671875,
          -26.55087661743164,
          -27.774660110473633,
          -36.238311767578125,
          -24.642667770385742,
          -29.951862335205078,
          -29.988636016845703,
          -27.803972244262695,
          -31.61414909362793,
          -33.23802947998047,
          -33.59815216064453,
          -32.64010238647461,
          -33.01650619506836,
          -36.7530517578125,
          -37.133460998535156,
          -37.60379409790039,
          -37.664695739746094,
          -28.998117446899414,
          -14.018647193908691,
          -18.586942672729492,
          -32.393211364746094,
          -34.6126823425293,
          -32.41781997680664,
          -12.196531295776367,
          -19.630725860595703,
          -37.52519607543945,
          -30.448848724365234,
          -25.88141632080078,
          -33.23759078979492,
          -37.92167663574219,
          -37.30172348022461,
          -36.212215423583984,
          -25.821243286132812,
          -34.862648010253906
         ],
         "yaxis": "y"
        },
        {
         "hovertemplate": "Type=glycogen<br>TSNE_1=%{x}<br>TSNE_2=%{y}<extra></extra>",
         "legendgroup": "glycogen",
         "marker": {
          "color": "#EF553B",
          "symbol": "circle"
         },
         "mode": "markers",
         "name": "glycogen",
         "orientation": "v",
         "showlegend": true,
         "type": "scatter",
         "x": [
          13.394295692443848,
          8.517045021057129,
          5.126918792724609,
          13.29446029663086,
          13.429377555847168,
          13.144004821777344,
          11.570222854614258,
          12.374804496765137,
          4.618777751922607,
          8.699668884277344,
          12.683135032653809,
          7.108206748962402,
          10.03142261505127,
          17.067018508911133,
          8.740936279296875,
          4.390838146209717,
          13.641265869140625,
          15.169156074523926,
          13.68712329864502,
          9.110188484191895,
          12.439530372619629,
          13.50334358215332,
          9.687613487243652,
          13.968926429748535,
          10.732048034667969,
          9.281669616699219,
          15.548797607421875,
          8.797480583190918,
          9.536580085754395,
          10.464459419250488,
          12.878622055053711,
          4.400325298309326,
          13.184089660644531,
          13.871772766113281,
          12.309948921203613,
          11.782177925109863,
          11.171307563781738,
          12.318656921386719,
          9.821737289428711,
          8.343201637268066,
          12.931525230407715,
          10.11850357055664,
          8.988626480102539,
          9.615578651428223,
          9.61636734008789,
          10.798574447631836,
          7.041382789611816,
          7.281501293182373,
          5.533812522888184,
          11.784795761108398,
          0.9685115814208984,
          1.8089560270309448,
          2.837277412414551,
          9.676496505737305,
          12.460848808288574,
          6.748630523681641,
          10.0050630569458,
          6.932191371917725,
          1.4549639225006104,
          6.0090651512146,
          0.9634211659431458,
          0.7063263654708862,
          5.020288944244385,
          5.897156238555908,
          7.032406330108643,
          13.069612503051758,
          12.998823165893555,
          14.142498970031738,
          10.74720573425293,
          11.411966323852539,
          6.126682758331299,
          5.899256706237793,
          7.683115005493164,
          10.572347640991211,
          10.06124210357666,
          11.500897407531738,
          10.992244720458984,
          14.454778671264648,
          11.415791511535645,
          10.960023880004883,
          5.547578811645508,
          2.9577131271362305,
          10.496476173400879,
          12.608975410461426,
          13.263511657714844,
          12.351967811584473,
          11.310830116271973,
          10.693954467773438,
          13.029555320739746,
          8.689581871032715,
          8.604053497314453,
          16.31682014465332,
          11.96560287475586,
          13.576288223266602,
          12.021441459655762,
          5.930752754211426,
          13.098617553710938,
          11.863297462463379,
          11.415789604187012,
          10.960409164428711,
          13.188799858093262,
          14.454787254333496,
          15.43505573272705,
          15.639181137084961,
          6.317192077636719,
          12.54473876953125,
          15.986627578735352,
          13.773951530456543,
          7.485050201416016,
          9.176200866699219,
          10.126213073730469,
          9.766095161437988,
          14.740873336791992,
          14.8507661819458,
          14.618263244628906,
          13.295310974121094,
          12.925210952758789,
          11.523848533630371,
          3.5131616592407227,
          11.696000099182129,
          12.37716007232666,
          13.266093254089355,
          5.213423728942871,
          11.208478927612305,
          14.383933067321777,
          8.348516464233398,
          9.453278541564941,
          9.190815925598145,
          13.040456771850586,
          10.311243057250977,
          9.783774375915527,
          7.380203723907471,
          2.063886880874634,
          11.24905776977539,
          15.944112777709961,
          13.600626945495605,
          11.702845573425293,
          12.718682289123535,
          5.438378810882568,
          11.7821044921875,
          11.54560661315918,
          4.890976905822754,
          6.739553928375244,
          15.619386672973633,
          10.785378456115723,
          10.469346046447754,
          10.344964981079102,
          10.954060554504395,
          4.1387248039245605,
          12.75485610961914,
          3.8296725749969482,
          13.50257396697998,
          14.357222557067871,
          14.625125885009766,
          14.596588134765625,
          11.91726016998291,
          13.310693740844727,
          12.2418851852417,
          3.3737785816192627,
          12.2972993850708,
          15.060737609863281,
          11.259878158569336,
          13.184329986572266,
          12.510472297668457,
          16.80257797241211,
          2.1189887523651123,
          2.125474214553833,
          0.49258244037628174,
          17.10333251953125,
          12.084449768066406,
          10.572928428649902,
          4.363700866699219,
          14.77679443359375,
          4.903186321258545,
          12.01863956451416,
          17.076906204223633,
          1.7981810569763184,
          2.2753384113311768,
          16.176971435546875,
          16.052284240722656,
          11.659122467041016,
          14.41893196105957,
          4.384562969207764,
          5.884833335876465,
          3.9063875675201416,
          5.494222640991211,
          4.907345294952393,
          11.161093711853027,
          15.673001289367676,
          15.67291259765625,
          9.18523120880127,
          5.385377883911133,
          7.193774223327637,
          10.25403118133545,
          11.463238716125488,
          3.0922434329986572,
          5.474123001098633,
          2.801044225692749,
          2.801057815551758,
          4.9074225425720215,
          11.161201477050781,
          9.184981346130371,
          9.337453842163086,
          3.4003043174743652,
          5.41387414932251,
          8.566402435302734,
          5.192295074462891,
          2.354654312133789,
          6.179701805114746,
          9.68619441986084,
          8.257177352905273,
          8.566296577453613
         ],
         "xaxis": "x",
         "y": [
          30.27228546142578,
          42.38115692138672,
          41.57808303833008,
          43.77431869506836,
          35.39373779296875,
          41.349918365478516,
          31.41762924194336,
          33.312164306640625,
          41.19612121582031,
          43.63911819458008,
          38.247161865234375,
          45.81610870361328,
          49.17660140991211,
          31.356359481811523,
          44.213539123535156,
          41.2906608581543,
          43.840789794921875,
          38.72736740112305,
          25.890687942504883,
          18.98410987854004,
          23.368240356445312,
          28.84707260131836,
          46.1585578918457,
          45.396915435791016,
          49.173030853271484,
          45.73310852050781,
          31.339977264404297,
          18.821779251098633,
          22.19935417175293,
          23.332618713378906,
          27.978242874145508,
          40.39942932128906,
          35.94127655029297,
          37.54728698730469,
          31.81648063659668,
          23.20102882385254,
          40.12546157836914,
          39.441978454589844,
          46.36204528808594,
          44.56476974487305,
          30.77845001220703,
          43.37308120727539,
          47.87139129638672,
          48.84366989135742,
          48.09553909301758,
          47.28647994995117,
          43.167415618896484,
          46.679237365722656,
          45.385467529296875,
          38.95139694213867,
          33.514381408691406,
          37.73640823364258,
          37.91996765136719,
          27.077165603637695,
          25.48649787902832,
          41.4094352722168,
          28.557830810546875,
          36.064205169677734,
          33.01719284057617,
          35.80720520019531,
          33.07186508178711,
          33.66495895385742,
          45.04061508178711,
          45.86669921875,
          43.3500862121582,
          33.71139144897461,
          39.33034133911133,
          38.36652755737305,
          30.747119903564453,
          37.22578048706055,
          45.232452392578125,
          39.40986633300781,
          46.88985061645508,
          40.08012008666992,
          47.84728240966797,
          34.01590347290039,
          27.998350143432617,
          29.61853790283203,
          42.347408294677734,
          43.961692810058594,
          36.337730407714844,
          35.28268051147461,
          45.2463493347168,
          44.96113204956055,
          45.21194076538086,
          38.45158004760742,
          30.14981460571289,
          37.99028396606445,
          38.55559539794922,
          17.981653213500977,
          17.66721534729004,
          31.027034759521484,
          47.181785583496094,
          34.887046813964844,
          24.339998245239258,
          37.17726135253906,
          29.310054779052734,
          29.1110782623291,
          42.34739685058594,
          43.961997985839844,
          39.00635528564453,
          29.618534088134766,
          30.072927474975586,
          29.127429962158203,
          38.0941162109375,
          21.854656219482422,
          38.20699691772461,
          30.028278350830078,
          40.716854095458984,
          42.73086166381836,
          42.8167724609375,
          45.0987434387207,
          28.99515151977539,
          29.234359741210938,
          27.97732162475586,
          24.897001266479492,
          32.98737716674805,
          23.978153228759766,
          40.25483703613281,
          48.990997314453125,
          47.69415283203125,
          28.08861541748047,
          37.69881820678711,
          26.27127456665039,
          30.826051712036133,
          43.85780715942383,
          23.299041748046875,
          23.941238403320312,
          32.44948196411133,
          29.70452880859375,
          23.771099090576172,
          35.4429817199707,
          32.75352096557617,
          29.803831100463867,
          38.109012603759766,
          24.720043182373047,
          45.141693115234375,
          35.92815017700195,
          41.09233474731445,
          48.006046295166016,
          45.97026062011719,
          38.85641098022461,
          42.549434661865234,
          28.387149810791016,
          37.69533157348633,
          28.545391082763672,
          22.010324478149414,
          47.82324981689453,
          39.54948806762695,
          26.111642837524414,
          37.94612503051758,
          40.974754333496094,
          27.053831100463867,
          42.207603454589844,
          40.54322814941406,
          32.680789947509766,
          42.68244552612305,
          50.90861511230469,
          42.152435302734375,
          50.755706787109375,
          36.95710754394531,
          25.700864791870117,
          48.392982482910156,
          49.5828971862793,
          38.584266662597656,
          35.891357421875,
          42.59309005737305,
          32.664363861083984,
          40.34333038330078,
          26.917346954345703,
          20.480127334594727,
          30.356121063232422,
          31.475736618041992,
          32.734840393066406,
          20.889799118041992,
          38.902503967285156,
          36.30769348144531,
          35.96138000488281,
          26.060380935668945,
          25.862682342529297,
          21.149423599243164,
          41.81764602661133,
          35.609893798828125,
          33.5075798034668,
          30.463869094848633,
          28.40015411376953,
          34.461456298828125,
          22.622182846069336,
          41.14610290527344,
          41.14591979980469,
          32.26734924316406,
          28.5478515625,
          20.606258392333984,
          32.292633056640625,
          32.531856536865234,
          31.68316078186035,
          37.963531494140625,
          34.36172103881836,
          34.36180114746094,
          34.46194839477539,
          22.621761322021484,
          32.26732635498047,
          20.4996280670166,
          31.491849899291992,
          29.932477951049805,
          20.57787322998047,
          33.35884094238281,
          41.273948669433594,
          25.1400089263916,
          21.002151489257812,
          22.967601776123047,
          20.578176498413086
         ],
         "yaxis": "y"
        },
        {
         "hovertemplate": "Type=lipids<br>TSNE_1=%{x}<br>TSNE_2=%{y}<extra></extra>",
         "legendgroup": "lipids",
         "marker": {
          "color": "#00cc96",
          "symbol": "circle"
         },
         "mode": "markers",
         "name": "lipids",
         "orientation": "v",
         "showlegend": true,
         "type": "scatter",
         "x": [
          -37.121646881103516,
          -30.119386672973633,
          -7.916573524475098,
          -8.409156799316406,
          -7.6519012451171875,
          -6.371095180511475,
          -30.69541358947754,
          -35.86442184448242,
          -29.709577560424805,
          -40.27988815307617,
          -35.68210983276367,
          -20.07570457458496,
          -18.846031188964844,
          -26.38152503967285,
          -31.455556869506836,
          -36.464599609375,
          -16.69257354736328,
          -31.35735511779785,
          -31.602338790893555,
          -30.315950393676758,
          -14.248734474182129,
          -29.05069923400879,
          -32.47757339477539,
          -20.851892471313477,
          -15.230931282043457,
          -30.579191207885742,
          -32.803863525390625,
          -22.123044967651367,
          -20.054161071777344,
          -27.810028076171875,
          -19.870546340942383,
          -30.065994262695312,
          -33.78600311279297,
          -36.96870422363281,
          -31.617765426635742,
          -30.23248291015625,
          -17.41248893737793,
          -17.374494552612305,
          -17.506568908691406,
          -14.157048225402832,
          -13.977426528930664,
          -31.48377799987793,
          -31.21550941467285,
          -16.331581115722656,
          -27.651031494140625,
          -30.975019454956055,
          -28.486812591552734,
          -17.339365005493164,
          -29.9067325592041,
          -35.67399978637695,
          -14.39771842956543,
          -26.720685958862305,
          -17.744651794433594,
          -16.76427459716797,
          -17.51262092590332,
          -21.018861770629883,
          -24.087907791137695,
          -23.79637336730957,
          -19.77940559387207,
          -20.906675338745117,
          -21.893037796020508,
          -22.38088607788086,
          -21.807594299316406,
          -21.57435417175293,
          -21.611194610595703,
          -23.58572769165039,
          -24.16761016845703,
          -26.23177146911621,
          -18.49167823791504,
          -19.51962661743164,
          -24.256248474121094,
          -26.863983154296875,
          -26.431102752685547,
          -18.7601318359375,
          -22.33808135986328,
          -23.255434036254883,
          -27.481035232543945,
          -38.65046310424805,
          -37.038475036621094,
          -35.88561248779297,
          -23.40904426574707,
          -24.45960235595703,
          -25.154190063476562,
          -28.2850399017334,
          -25.88231086730957,
          -27.978946685791016,
          -33.38728332519531,
          -30.61969757080078,
          -30.12739372253418,
          -28.577417373657227,
          -39.92428207397461,
          -39.248260498046875,
          -32.91091537475586,
          -28.68240737915039,
          -26.184457778930664,
          -33.262516021728516,
          -31.837743759155273,
          -38.847328186035156,
          -30.17357635498047,
          -33.22895050048828,
          -29.680896759033203,
          -37.44694519042969,
          -35.96076965332031,
          -39.31435012817383,
          -24.15755271911621,
          -27.104354858398438,
          -30.81859016418457,
          -26.10879135131836,
          -26.045812606811523,
          -31.62941551208496,
          -32.51389694213867,
          -21.105363845825195,
          -21.23493194580078,
          -24.37740707397461,
          -14.707807540893555,
          -28.44502067565918,
          -23.450742721557617,
          -27.596195220947266,
          -24.551555633544922,
          -18.980594635009766,
          -31.493457794189453,
          -33.552589416503906,
          -18.416728973388672,
          -15.948762893676758,
          -33.668495178222656,
          -37.052608489990234,
          -35.741798400878906,
          -34.67518997192383,
          -39.486690521240234,
          -39.690067291259766,
          -34.24553680419922,
          -30.729829788208008,
          -30.33113670349121,
          -29.212181091308594,
          -31.386550903320312,
          -29.019372940063477,
          -36.4771842956543,
          -36.77248001098633,
          -35.00171661376953,
          -39.27295684814453,
          -37.9437141418457,
          -35.012325286865234,
          -31.54280662536621,
          -15.351388931274414,
          -17.37506866455078,
          -28.5859432220459,
          -30.13450050354004,
          -32.26560592651367,
          -34.039127349853516,
          -26.158157348632812,
          -24.142377853393555,
          -22.93585968017578,
          -21.495681762695312,
          -24.14898681640625,
          -32.470027923583984,
          -29.143882751464844,
          -18.841581344604492,
          -20.65641975402832,
          -20.656423568725586,
          -23.251981735229492,
          -29.064661026000977,
          -28.426782608032227,
          -15.707849502563477,
          -18.067195892333984,
          -18.983278274536133,
          -18.98687744140625,
          -33.836585998535156,
          -33.31486129760742,
          -28.383968353271484,
          -31.8807315826416,
          -33.774085998535156,
          -37.07564926147461,
          -29.894859313964844,
          -35.18952560424805,
          -22.371746063232422,
          -30.07683563232422,
          -39.14456558227539,
          -38.342315673828125,
          -34.670936584472656,
          -37.98242950439453,
          -40.095359802246094,
          -37.255760192871094,
          -35.83828353881836,
          -33.36339569091797,
          -38.28335952758789,
          -35.13632583618164,
          -34.753692626953125,
          -33.81785583496094,
          -33.70406723022461,
          -22.956348419189453,
          -33.819828033447266,
          -14.995824813842773,
          -17.451257705688477,
          -37.14346694946289,
          -36.21884536743164,
          -18.20126724243164,
          -24.374399185180664,
          -32.92229461669922,
          -34.84131622314453,
          -28.179550170898438,
          -32.45769119262695,
          -15.063865661621094,
          -31.683950424194336,
          -29.334619522094727,
          -22.989635467529297,
          -15.746502876281738,
          -34.809410095214844,
          -40.171058654785156,
          -39.43379211425781,
          -38.625125885009766,
          -33.6320686340332,
          -32.26357650756836,
          -32.753562927246094,
          -32.183353424072266
         ],
         "xaxis": "x",
         "y": [
          3.3062567710876465,
          8.578121185302734,
          -7.5245442390441895,
          -5.474915027618408,
          1.489303469657898,
          -15.332510948181152,
          11.267434120178223,
          9.691116333007812,
          6.841963291168213,
          2.745058536529541,
          2.007941722869873,
          -9.760002136230469,
          -13.01196002960205,
          -3.771000862121582,
          0.2884877026081085,
          7.70541524887085,
          -5.9014973640441895,
          8.40056037902832,
          0.8405370712280273,
          -3.308030128479004,
          -4.078813076019287,
          8.802276611328125,
          -2.8741071224212646,
          -9.2089204788208,
          -4.7802019119262695,
          8.188617706298828,
          9.170904159545898,
          -8.207359313964844,
          -8.586338996887207,
          -6.718050003051758,
          -11.574220657348633,
          -3.308777332305908,
          8.38558578491211,
          10.17421817779541,
          11.061751365661621,
          9.70006275177002,
          -10.118216514587402,
          -12.064252853393555,
          -6.813811779022217,
          -4.380398273468018,
          -3.6765425205230713,
          11.010150909423828,
          8.481863975524902,
          -6.052603721618652,
          4.6036882400512695,
          4.840599536895752,
          -0.45243239402770996,
          -2.3020105361938477,
          4.454343318939209,
          8.480887413024902,
          -4.646477699279785,
          3.415217399597168,
          -12.05982494354248,
          -8.736737251281738,
          -9.159558296203613,
          -5.673868179321289,
          2.0586018562316895,
          2.280581474304199,
          -6.004472255706787,
          -6.814744472503662,
          -7.453701972961426,
          -2.8902294635772705,
          0.8529468774795532,
          1.4870315790176392,
          2.4841063022613525,
          -0.7775842547416687,
          -1.2918514013290405,
          -1.1107673645019531,
          -12.988706588745117,
          -8.671832084655762,
          1.178521752357483,
          3.5539398193359375,
          4.248695373535156,
          -5.959821701049805,
          1.8158848285675049,
          2.1979820728302,
          0.9407836198806763,
          7.276953220367432,
          8.700563430786133,
          5.5465826988220215,
          3.4872970581054688,
          3.593918800354004,
          -3.153604030609131,
          -2.436495780944824,
          3.4270291328430176,
          1.6627147197723389,
          7.937636375427246,
          -0.8220289349555969,
          -2.1717000007629395,
          -3.773672103881836,
          4.823850631713867,
          4.463404655456543,
          3.1506731510162354,
          0.6301198601722717,
          -8.474205017089844,
          -5.850802421569824,
          -1.6612707376480103,
          2.8014466762542725,
          3.447371482849121,
          -5.968967914581299,
          6.019941329956055,
          6.397480010986328,
          6.977043151855469,
          2.246169090270996,
          0.4671538770198822,
          -3.6726996898651123,
          -2.1043264865875244,
          -5.659610748291016,
          -6.178458213806152,
          -2.5701277256011963,
          -3.500591516494751,
          -7.940495014190674,
          -4.02062463760376,
          -3.5696141719818115,
          -7.295400142669678,
          2.064779281616211,
          -4.175952911376953,
          -4.135896682739258,
          -7.552624225616455,
          -12.865601539611816,
          -3.9575531482696533,
          -2.6672632694244385,
          -3.1144025325775146,
          -4.497407913208008,
          11.06303882598877,
          4.3694329261779785,
          0.15422938764095306,
          0.5747533440589905,
          1.5639532804489136,
          5.313234806060791,
          10.588118553161621,
          6.180819034576416,
          3.594099760055542,
          0.6557669043540955,
          6.32101583480835,
          0.3069254755973816,
          6.588645935058594,
          5.902927875518799,
          9.50645923614502,
          1.3699538707733154,
          2.1941964626312256,
          7.842488765716553,
          3.934694528579712,
          -1.6901477575302124,
          -4.378118515014648,
          -4.979700565338135,
          -5.253217697143555,
          -4.295672416687012,
          -3.4125874042510986,
          -8.396191596984863,
          -6.158497333526611,
          2.0479331016540527,
          -3.4414122104644775,
          -7.489999771118164,
          0.0896320790052414,
          9.7653169631958,
          -8.937902450561523,
          -9.970479965209961,
          -9.970479965209961,
          -6.6590118408203125,
          6.200045585632324,
          6.948938369750977,
          -3.662773609161377,
          -4.008798122406006,
          -4.1024580001831055,
          -3.3079397678375244,
          -1.935893177986145,
          7.079452037811279,
          5.74698543548584,
          4.750747203826904,
          -2.309572696685791,
          2.1648478507995605,
          6.886952877044678,
          6.754978179931641,
          -6.8836798667907715,
          -0.23135825991630554,
          6.669647693634033,
          6.570619106292725,
          2.7520406246185303,
          7.263136386871338,
          7.4348883628845215,
          7.109745025634766,
          4.656441688537598,
          2.4081621170043945,
          8.34626293182373,
          -2.2664358615875244,
          -0.8022472858428955,
          -4.020534038543701,
          -0.4300682544708252,
          -0.0707009807229042,
          11.380037307739258,
          -1.1210925579071045,
          -3.2414937019348145,
          5.099567413330078,
          1.567356824874878,
          -4.49543571472168,
          -6.549437522888184,
          6.365412712097168,
          7.746309757232666,
          6.69926118850708,
          10.519851684570312,
          -1.6738027334213257,
          5.133420944213867,
          -4.146508693695068,
          -4.635312557220459,
          -1.4050309658050537,
          4.184492588043213,
          5.525991916656494,
          6.543828964233398,
          8.249044418334961,
          4.0978569984436035,
          1.4327096939086914,
          8.105257987976074,
          -1.095839023590088
         ],
         "yaxis": "y"
        },
        {
         "hovertemplate": "Type=DNA<br>TSNE_1=%{x}<br>TSNE_2=%{y}<extra></extra>",
         "legendgroup": "DNA",
         "marker": {
          "color": "#ab63fa",
          "symbol": "circle"
         },
         "mode": "markers",
         "name": "DNA",
         "orientation": "v",
         "showlegend": true,
         "type": "scatter",
         "x": [
          6.866535663604736,
          4.706467151641846,
          11.34406852722168,
          6.831759452819824,
          7.886297225952148,
          5.975134372711182,
          7.438385486602783,
          4.377591133117676,
          4.135733127593994,
          6.533219814300537,
          4.156055927276611,
          5.545228004455566,
          -2.6362202167510986,
          0.8076218366622925,
          0.03326747938990593,
          -4.5924763679504395,
          1.9851481914520264,
          -0.5328491926193237,
          -3.0303406715393066,
          -3.1907341480255127,
          -5.954291343688965,
          -0.4285936951637268,
          11.557899475097656,
          -8.835081100463867,
          4.862094879150391,
          -4.269320964813232,
          2.040215015411377,
          -5.47504186630249,
          0.6068257093429565,
          -0.2063884437084198,
          1.1930400133132935,
          -4.669999122619629,
          -7.164906024932861,
          -4.057478427886963,
          -6.165201187133789,
          -5.952831745147705,
          -6.624323844909668,
          -7.9046950340271,
          -3.9166650772094727,
          -5.005392551422119,
          -6.732730388641357,
          -6.14372444152832,
          -0.12885235249996185,
          -6.410205364227295,
          -5.706994533538818,
          -4.591218948364258,
          -5.354400157928467,
          0.03081824630498886,
          -5.221893787384033,
          -5.004904747009277,
          -3.9167139530181885,
          -7.9046196937561035,
          -6.620168685913086,
          -6.7927374839782715,
          -5.994416236877441,
          -7.203279495239258,
          -5.008321285247803,
          -6.38539981842041,
          -6.379951000213623,
          -5.106396675109863,
          -5.73713493347168,
          -5.739908218383789,
          -6.499574184417725,
          -4.664935111999512,
          -7.17772912979126,
          -6.429944038391113,
          -5.823986053466797,
          -6.463836669921875,
          -5.870411396026611,
          -8.154848098754883,
          -7.685142517089844,
          -5.995210647583008,
          -5.50070858001709,
          -7.530691623687744,
          -6.95247745513916,
          -6.974398612976074,
          -7.337954521179199,
          -7.879521369934082,
          -6.802898406982422,
          -6.906991004943848,
          -6.2902092933654785,
          -4.930416107177734,
          -9.774245262145996,
          -5.765203952789307,
          1.1803935766220093,
          -5.242391109466553,
          -5.603187561035156,
          -5.111393928527832,
          -4.840194225311279,
          -5.439245223999023,
          0.7273752689361572,
          -0.30845189094543457,
          1.640264630317688,
          -4.102776050567627,
          -3.765416145324707,
          0.2617925703525543,
          0.12357787042856216,
          1.2879079580307007,
          0.2056446224451065,
          8.161209106445312,
          4.87963342666626,
          -2.7069857120513916,
          -3.0225512981414795,
          0.5130383968353271,
          1.0361969470977783,
          -0.38907238841056824,
          1.6065244674682617,
          -5.069784164428711,
          -5.530370712280273,
          -3.5518124103546143
         ],
         "xaxis": "x",
         "y": [
          -20.84279441833496,
          -22.822650909423828,
          -18.682558059692383,
          -21.331838607788086,
          -21.444843292236328,
          -23.841371536254883,
          -21.204437255859375,
          -23.584959030151367,
          -24.11320686340332,
          -21.610309600830078,
          -25.291479110717773,
          -35.71240234375,
          -18.12987518310547,
          -24.693857192993164,
          -34.241024017333984,
          -11.703755378723145,
          -24.88711166381836,
          -33.26374816894531,
          -16.313735961914062,
          -15.81218147277832,
          -16.565021514892578,
          -25.397632598876953,
          -34.603965759277344,
          -2.2357630729675293,
          -34.94912338256836,
          -16.218332290649414,
          -25.516817092895508,
          -9.931371688842773,
          -33.15913009643555,
          -34.053863525390625,
          -23.84764862060547,
          -9.657319068908691,
          -5.313652992248535,
          -12.76773452758789,
          -4.819767475128174,
          -1.1670045852661133,
          -0.1031823679804802,
          -3.9874329566955566,
          -14.400500297546387,
          -14.740832328796387,
          -10.075140953063965,
          -10.812158584594727,
          -26.522794723510742,
          -3.718651533126831,
          -2.9609460830688477,
          -13.65966510772705,
          -2.613314628601074,
          -24.243520736694336,
          -11.942859649658203,
          -14.741145133972168,
          -14.400484085083008,
          -3.9899163246154785,
          -0.10790607333183289,
          -16.975749969482422,
          -13.491792678833008,
          -1.777239441871643,
          -16.23188018798828,
          -2.3511765003204346,
          -6.596613883972168,
          -15.622998237609863,
          -4.141598701477051,
          -0.7884770631790161,
          -1.4480475187301636,
          -12.025733947753906,
          -2.902400255203247,
          -4.471373558044434,
          -6.467136859893799,
          -5.87822961807251,
          0.10425920784473419,
          -6.557694911956787,
          -0.9547188878059387,
          -1.7808557748794556,
          -12.942702293395996,
          -6.7325263023376465,
          -7.466554641723633,
          -8.277606964111328,
          -0.20131762325763702,
          0.08712664991617203,
          1.0234845876693726,
          -0.6161813139915466,
          -3.13057017326355,
          -17.332988739013672,
          -7.792329788208008,
          -15.89425277709961,
          -31.454936981201172,
          -17.5100040435791,
          -9.218825340270996,
          -8.206141471862793,
          -8.778794288635254,
          -7.469254016876221,
          -32.41397476196289,
          -35.0527458190918,
          -27.311567306518555,
          -12.184531211853027,
          -15.166781425476074,
          -35.925392150878906,
          -36.5346794128418,
          -25.878435134887695,
          -25.814899444580078,
          -34.67816925048828,
          -34.439613342285156,
          -17.254026412963867,
          -17.689624786376953,
          -34.960105895996094,
          -23.950515747070312,
          -34.65092468261719,
          -24.403108596801758,
          -9.179718971252441,
          -5.329262733459473,
          -16.31882095336914
         ],
         "yaxis": "y"
        }
       ],
       "layout": {
        "legend": {
         "title": {
          "text": "Type"
         },
         "tracegroupgap": 0
        },
        "margin": {
         "t": 60
        },
        "template": {
         "data": {
          "bar": [
           {
            "error_x": {
             "color": "#2a3f5f"
            },
            "error_y": {
             "color": "#2a3f5f"
            },
            "marker": {
             "line": {
              "color": "#E5ECF6",
              "width": 0.5
             },
             "pattern": {
              "fillmode": "overlay",
              "size": 10,
              "solidity": 0.2
             }
            },
            "type": "bar"
           }
          ],
          "barpolar": [
           {
            "marker": {
             "line": {
              "color": "#E5ECF6",
              "width": 0.5
             },
             "pattern": {
              "fillmode": "overlay",
              "size": 10,
              "solidity": 0.2
             }
            },
            "type": "barpolar"
           }
          ],
          "carpet": [
           {
            "aaxis": {
             "endlinecolor": "#2a3f5f",
             "gridcolor": "white",
             "linecolor": "white",
             "minorgridcolor": "white",
             "startlinecolor": "#2a3f5f"
            },
            "baxis": {
             "endlinecolor": "#2a3f5f",
             "gridcolor": "white",
             "linecolor": "white",
             "minorgridcolor": "white",
             "startlinecolor": "#2a3f5f"
            },
            "type": "carpet"
           }
          ],
          "choropleth": [
           {
            "colorbar": {
             "outlinewidth": 0,
             "ticks": ""
            },
            "type": "choropleth"
           }
          ],
          "contour": [
           {
            "colorbar": {
             "outlinewidth": 0,
             "ticks": ""
            },
            "colorscale": [
             [
              0,
              "#0d0887"
             ],
             [
              0.1111111111111111,
              "#46039f"
             ],
             [
              0.2222222222222222,
              "#7201a8"
             ],
             [
              0.3333333333333333,
              "#9c179e"
             ],
             [
              0.4444444444444444,
              "#bd3786"
             ],
             [
              0.5555555555555556,
              "#d8576b"
             ],
             [
              0.6666666666666666,
              "#ed7953"
             ],
             [
              0.7777777777777778,
              "#fb9f3a"
             ],
             [
              0.8888888888888888,
              "#fdca26"
             ],
             [
              1,
              "#f0f921"
             ]
            ],
            "type": "contour"
           }
          ],
          "contourcarpet": [
           {
            "colorbar": {
             "outlinewidth": 0,
             "ticks": ""
            },
            "type": "contourcarpet"
           }
          ],
          "heatmap": [
           {
            "colorbar": {
             "outlinewidth": 0,
             "ticks": ""
            },
            "colorscale": [
             [
              0,
              "#0d0887"
             ],
             [
              0.1111111111111111,
              "#46039f"
             ],
             [
              0.2222222222222222,
              "#7201a8"
             ],
             [
              0.3333333333333333,
              "#9c179e"
             ],
             [
              0.4444444444444444,
              "#bd3786"
             ],
             [
              0.5555555555555556,
              "#d8576b"
             ],
             [
              0.6666666666666666,
              "#ed7953"
             ],
             [
              0.7777777777777778,
              "#fb9f3a"
             ],
             [
              0.8888888888888888,
              "#fdca26"
             ],
             [
              1,
              "#f0f921"
             ]
            ],
            "type": "heatmap"
           }
          ],
          "heatmapgl": [
           {
            "colorbar": {
             "outlinewidth": 0,
             "ticks": ""
            },
            "colorscale": [
             [
              0,
              "#0d0887"
             ],
             [
              0.1111111111111111,
              "#46039f"
             ],
             [
              0.2222222222222222,
              "#7201a8"
             ],
             [
              0.3333333333333333,
              "#9c179e"
             ],
             [
              0.4444444444444444,
              "#bd3786"
             ],
             [
              0.5555555555555556,
              "#d8576b"
             ],
             [
              0.6666666666666666,
              "#ed7953"
             ],
             [
              0.7777777777777778,
              "#fb9f3a"
             ],
             [
              0.8888888888888888,
              "#fdca26"
             ],
             [
              1,
              "#f0f921"
             ]
            ],
            "type": "heatmapgl"
           }
          ],
          "histogram": [
           {
            "marker": {
             "pattern": {
              "fillmode": "overlay",
              "size": 10,
              "solidity": 0.2
             }
            },
            "type": "histogram"
           }
          ],
          "histogram2d": [
           {
            "colorbar": {
             "outlinewidth": 0,
             "ticks": ""
            },
            "colorscale": [
             [
              0,
              "#0d0887"
             ],
             [
              0.1111111111111111,
              "#46039f"
             ],
             [
              0.2222222222222222,
              "#7201a8"
             ],
             [
              0.3333333333333333,
              "#9c179e"
             ],
             [
              0.4444444444444444,
              "#bd3786"
             ],
             [
              0.5555555555555556,
              "#d8576b"
             ],
             [
              0.6666666666666666,
              "#ed7953"
             ],
             [
              0.7777777777777778,
              "#fb9f3a"
             ],
             [
              0.8888888888888888,
              "#fdca26"
             ],
             [
              1,
              "#f0f921"
             ]
            ],
            "type": "histogram2d"
           }
          ],
          "histogram2dcontour": [
           {
            "colorbar": {
             "outlinewidth": 0,
             "ticks": ""
            },
            "colorscale": [
             [
              0,
              "#0d0887"
             ],
             [
              0.1111111111111111,
              "#46039f"
             ],
             [
              0.2222222222222222,
              "#7201a8"
             ],
             [
              0.3333333333333333,
              "#9c179e"
             ],
             [
              0.4444444444444444,
              "#bd3786"
             ],
             [
              0.5555555555555556,
              "#d8576b"
             ],
             [
              0.6666666666666666,
              "#ed7953"
             ],
             [
              0.7777777777777778,
              "#fb9f3a"
             ],
             [
              0.8888888888888888,
              "#fdca26"
             ],
             [
              1,
              "#f0f921"
             ]
            ],
            "type": "histogram2dcontour"
           }
          ],
          "mesh3d": [
           {
            "colorbar": {
             "outlinewidth": 0,
             "ticks": ""
            },
            "type": "mesh3d"
           }
          ],
          "parcoords": [
           {
            "line": {
             "colorbar": {
              "outlinewidth": 0,
              "ticks": ""
             }
            },
            "type": "parcoords"
           }
          ],
          "pie": [
           {
            "automargin": true,
            "type": "pie"
           }
          ],
          "scatter": [
           {
            "marker": {
             "colorbar": {
              "outlinewidth": 0,
              "ticks": ""
             }
            },
            "type": "scatter"
           }
          ],
          "scatter3d": [
           {
            "line": {
             "colorbar": {
              "outlinewidth": 0,
              "ticks": ""
             }
            },
            "marker": {
             "colorbar": {
              "outlinewidth": 0,
              "ticks": ""
             }
            },
            "type": "scatter3d"
           }
          ],
          "scattercarpet": [
           {
            "marker": {
             "colorbar": {
              "outlinewidth": 0,
              "ticks": ""
             }
            },
            "type": "scattercarpet"
           }
          ],
          "scattergeo": [
           {
            "marker": {
             "colorbar": {
              "outlinewidth": 0,
              "ticks": ""
             }
            },
            "type": "scattergeo"
           }
          ],
          "scattergl": [
           {
            "marker": {
             "colorbar": {
              "outlinewidth": 0,
              "ticks": ""
             }
            },
            "type": "scattergl"
           }
          ],
          "scattermapbox": [
           {
            "marker": {
             "colorbar": {
              "outlinewidth": 0,
              "ticks": ""
             }
            },
            "type": "scattermapbox"
           }
          ],
          "scatterpolar": [
           {
            "marker": {
             "colorbar": {
              "outlinewidth": 0,
              "ticks": ""
             }
            },
            "type": "scatterpolar"
           }
          ],
          "scatterpolargl": [
           {
            "marker": {
             "colorbar": {
              "outlinewidth": 0,
              "ticks": ""
             }
            },
            "type": "scatterpolargl"
           }
          ],
          "scatterternary": [
           {
            "marker": {
             "colorbar": {
              "outlinewidth": 0,
              "ticks": ""
             }
            },
            "type": "scatterternary"
           }
          ],
          "surface": [
           {
            "colorbar": {
             "outlinewidth": 0,
             "ticks": ""
            },
            "colorscale": [
             [
              0,
              "#0d0887"
             ],
             [
              0.1111111111111111,
              "#46039f"
             ],
             [
              0.2222222222222222,
              "#7201a8"
             ],
             [
              0.3333333333333333,
              "#9c179e"
             ],
             [
              0.4444444444444444,
              "#bd3786"
             ],
             [
              0.5555555555555556,
              "#d8576b"
             ],
             [
              0.6666666666666666,
              "#ed7953"
             ],
             [
              0.7777777777777778,
              "#fb9f3a"
             ],
             [
              0.8888888888888888,
              "#fdca26"
             ],
             [
              1,
              "#f0f921"
             ]
            ],
            "type": "surface"
           }
          ],
          "table": [
           {
            "cells": {
             "fill": {
              "color": "#EBF0F8"
             },
             "line": {
              "color": "white"
             }
            },
            "header": {
             "fill": {
              "color": "#C8D4E3"
             },
             "line": {
              "color": "white"
             }
            },
            "type": "table"
           }
          ]
         },
         "layout": {
          "annotationdefaults": {
           "arrowcolor": "#2a3f5f",
           "arrowhead": 0,
           "arrowwidth": 1
          },
          "autotypenumbers": "strict",
          "coloraxis": {
           "colorbar": {
            "outlinewidth": 0,
            "ticks": ""
           }
          },
          "colorscale": {
           "diverging": [
            [
             0,
             "#8e0152"
            ],
            [
             0.1,
             "#c51b7d"
            ],
            [
             0.2,
             "#de77ae"
            ],
            [
             0.3,
             "#f1b6da"
            ],
            [
             0.4,
             "#fde0ef"
            ],
            [
             0.5,
             "#f7f7f7"
            ],
            [
             0.6,
             "#e6f5d0"
            ],
            [
             0.7,
             "#b8e186"
            ],
            [
             0.8,
             "#7fbc41"
            ],
            [
             0.9,
             "#4d9221"
            ],
            [
             1,
             "#276419"
            ]
           ],
           "sequential": [
            [
             0,
             "#0d0887"
            ],
            [
             0.1111111111111111,
             "#46039f"
            ],
            [
             0.2222222222222222,
             "#7201a8"
            ],
            [
             0.3333333333333333,
             "#9c179e"
            ],
            [
             0.4444444444444444,
             "#bd3786"
            ],
            [
             0.5555555555555556,
             "#d8576b"
            ],
            [
             0.6666666666666666,
             "#ed7953"
            ],
            [
             0.7777777777777778,
             "#fb9f3a"
            ],
            [
             0.8888888888888888,
             "#fdca26"
            ],
            [
             1,
             "#f0f921"
            ]
           ],
           "sequentialminus": [
            [
             0,
             "#0d0887"
            ],
            [
             0.1111111111111111,
             "#46039f"
            ],
            [
             0.2222222222222222,
             "#7201a8"
            ],
            [
             0.3333333333333333,
             "#9c179e"
            ],
            [
             0.4444444444444444,
             "#bd3786"
            ],
            [
             0.5555555555555556,
             "#d8576b"
            ],
            [
             0.6666666666666666,
             "#ed7953"
            ],
            [
             0.7777777777777778,
             "#fb9f3a"
            ],
            [
             0.8888888888888888,
             "#fdca26"
            ],
            [
             1,
             "#f0f921"
            ]
           ]
          },
          "colorway": [
           "#636efa",
           "#EF553B",
           "#00cc96",
           "#ab63fa",
           "#FFA15A",
           "#19d3f3",
           "#FF6692",
           "#B6E880",
           "#FF97FF",
           "#FECB52"
          ],
          "font": {
           "color": "#2a3f5f"
          },
          "geo": {
           "bgcolor": "white",
           "lakecolor": "white",
           "landcolor": "#E5ECF6",
           "showlakes": true,
           "showland": true,
           "subunitcolor": "white"
          },
          "hoverlabel": {
           "align": "left"
          },
          "hovermode": "closest",
          "mapbox": {
           "style": "light"
          },
          "paper_bgcolor": "white",
          "plot_bgcolor": "#E5ECF6",
          "polar": {
           "angularaxis": {
            "gridcolor": "white",
            "linecolor": "white",
            "ticks": ""
           },
           "bgcolor": "#E5ECF6",
           "radialaxis": {
            "gridcolor": "white",
            "linecolor": "white",
            "ticks": ""
           }
          },
          "scene": {
           "xaxis": {
            "backgroundcolor": "#E5ECF6",
            "gridcolor": "white",
            "gridwidth": 2,
            "linecolor": "white",
            "showbackground": true,
            "ticks": "",
            "zerolinecolor": "white"
           },
           "yaxis": {
            "backgroundcolor": "#E5ECF6",
            "gridcolor": "white",
            "gridwidth": 2,
            "linecolor": "white",
            "showbackground": true,
            "ticks": "",
            "zerolinecolor": "white"
           },
           "zaxis": {
            "backgroundcolor": "#E5ECF6",
            "gridcolor": "white",
            "gridwidth": 2,
            "linecolor": "white",
            "showbackground": true,
            "ticks": "",
            "zerolinecolor": "white"
           }
          },
          "shapedefaults": {
           "line": {
            "color": "#2a3f5f"
           }
          },
          "ternary": {
           "aaxis": {
            "gridcolor": "white",
            "linecolor": "white",
            "ticks": ""
           },
           "baxis": {
            "gridcolor": "white",
            "linecolor": "white",
            "ticks": ""
           },
           "bgcolor": "#E5ECF6",
           "caxis": {
            "gridcolor": "white",
            "linecolor": "white",
            "ticks": ""
           }
          },
          "title": {
           "x": 0.05
          },
          "xaxis": {
           "automargin": true,
           "gridcolor": "white",
           "linecolor": "white",
           "ticks": "",
           "title": {
            "standoff": 15
           },
           "zerolinecolor": "white",
           "zerolinewidth": 2
          },
          "yaxis": {
           "automargin": true,
           "gridcolor": "white",
           "linecolor": "white",
           "ticks": "",
           "title": {
            "standoff": 15
           },
           "zerolinecolor": "white",
           "zerolinewidth": 2
          }
         }
        },
        "xaxis": {
         "anchor": "y",
         "domain": [
          0,
          1
         ],
         "title": {
          "text": "TSNE_1"
         }
        },
        "yaxis": {
         "anchor": "x",
         "domain": [
          0,
          1
         ],
         "title": {
          "text": "TSNE_2"
         }
        }
       }
      },
      "text/html": [
       "<div>                            <div id=\"56dfdeaa-ebcd-49c5-820b-bcf56b2bf61b\" class=\"plotly-graph-div\" style=\"height:525px; width:100%;\"></div>            <script type=\"text/javascript\">                require([\"plotly\"], function(Plotly) {                    window.PLOTLYENV=window.PLOTLYENV || {};                                    if (document.getElementById(\"56dfdeaa-ebcd-49c5-820b-bcf56b2bf61b\")) {                    Plotly.newPlot(                        \"56dfdeaa-ebcd-49c5-820b-bcf56b2bf61b\",                        [{\"hovertemplate\":\"Type=collagen<br>TSNE_1=%{x}<br>TSNE_2=%{y}<extra></extra>\",\"legendgroup\":\"collagen\",\"marker\":{\"color\":\"#636efa\",\"symbol\":\"circle\"},\"mode\":\"markers\",\"name\":\"collagen\",\"orientation\":\"v\",\"showlegend\":true,\"type\":\"scatter\",\"x\":[19.20807456970215,10.365011215209961,19.381370544433594,12.679526329040527,17.93967056274414,12.419244766235352,19.503522872924805,10.912199020385742,20.02738380432129,5.37984037399292,19.91501808166504,5.380862236022949,20.027385711669922,10.912142753601074,19.5035400390625,12.419188499450684,19.0517578125,20.32184600830078,13.354170799255371,16.806297302246094,22.758502960205078,23.69939613342285,23.481142044067383,18.449586868286133,22.758466720581055,16.806238174438477,22.031448364257812,11.911993026733398,12.187214851379395,10.622038841247559,12.363227844238281,4.932295322418213,2.8067495822906494,11.582060813903809,5.836870193481445,-4.2046895027160645,-3.2633869647979736,15.014872550964355,9.004928588867188,20.436769485473633,18.361530303955078,5.66400671005249,10.179460525512695,10.895929336547852,18.49264907836914,8.779379844665527,2.932305335998535,1.2436888217926025,6.793120384216309,9.85917854309082,10.080452919006348,13.25238037109375,2.373725175857544,9.6056489944458,20.604236602783203,15.844497680664062,10.975850105285645,6.563326835632324,5.3917460441589355,8.485211372375488,7.301267623901367,15.355216979980469,16.95145606994629,21.889381408691406,8.800749778747559,21.696382522583008,20.857927322387695,19.235456466674805,19.84564781188965,13.27822494506836,5.421884059906006,21.578458786010742,22.53009605407715,22.379133224487305,25.57177734375,25.747743606567383,25.720975875854492,24.234954833984375,21.381637573242188,15.675865173339844,21.280183792114258,18.80656623840332,18.984888076782227,19.493528366088867,20.168956756591797,22.1832275390625,24.021751403808594,25.470773696899414,24.60270881652832,22.767250061035156,15.977360725402832,15.981534957885742,14.07613754272461,10.544900894165039,7.826118469238281,15.442353248596191,23.093502044677734,25.858657836914062,25.818748474121094,21.330154418945312,15.650310516357422,9.90714168548584,9.448209762573242,12.842401504516602,12.543656349182129,12.610061645507812,5.418762683868408,7.623706340789795,11.948369026184082,12.50040054321289,8.08099365234375,3.8325862884521484,9.503900527954102,12.749570846557617,23.854055404663086,23.326112747192383,21.581958770751953,18.111629486083984,6.200504779815674,10.615748405456543,19.159160614013672,17.154294967651367,16.88511848449707,18.233734130859375,17.61608123779297,17.595117568969727,3.5424787998199463,1.8317128419876099,6.080804347991943,12.717694282531738,7.068472385406494,11.157326698303223,14.301366806030273,11.238091468811035,11.592015266418457,10.14352798461914,6.904988765716553,3.5416417121887207,6.3815717697143555,8.71806526184082,10.875653266906738,4.028932094573975,7.699746131896973,16.115673065185547,18.170406341552734,13.122416496276855,13.7742280960083,19.21276092529297,22.742061614990234,19.599632263183594,20.795530319213867,18.184293746948242,19.143367767333984,6.585946559906006,3.876868724822998,8.672815322875977,8.005158424377441,7.029372692108154,14.523341178894043,15.592296600341797,11.903823852539062,4.701725006103516,8.39538288116455,11.502751350402832,6.6925272941589355,11.646252632141113,5.755640029907227,7.179653167724609,6.233954906463623,3.1454222202301025,2.45226788520813,1.4679770469665527,2.6030032634735107,8.655194282531738,7.972115516662598,6.008805751800537,2.612593412399292,1.6909806728363037,4.702876567840576,20.7757568359375,19.450397491455078,3.717019557952881,2.918198823928833,9.7080717086792,20.01219367980957,18.19024085998535,6.346795558929443,6.327176570892334,14.529336929321289,12.09961986541748,4.578442096710205,1.2318687438964844,1.3921343088150024,10.087759017944336,1.9709359407424927],\"xaxis\":\"x\",\"y\":[-16.622411727905273,-33.93252182006836,-19.395118713378906,-32.18251419067383,-15.982053756713867,-26.04781723022461,-13.546914100646973,-26.45172119140625,-15.773526191711426,-28.370988845825195,-14.922094345092773,-28.371089935302734,-15.773531913757324,-26.45168113708496,-13.54690933227539,-26.047704696655273,-18.26860809326172,-16.73468589782715,-27.833005905151367,-22.011978149414062,-11.759346961975098,-13.19072437286377,-13.02182674407959,-13.938579559326172,-11.759363174438477,-22.011972427368164,-13.109125137329102,-26.15264892578125,-23.033245086669922,-25.27154541015625,-21.1416015625,-30.421085357666016,-33.777584075927734,-19.86773681640625,-23.477384567260742,-3.3000707626342773,-2.0995752811431885,-13.711373329162598,-21.719524383544922,-8.683579444885254,-17.162809371948242,-30.83614158630371,-22.030885696411133,-19.779518127441406,-12.79893684387207,-21.92452049255371,-23.573490142822266,-34.04283142089844,-27.204742431640625,-35.04502868652344,-34.75371170043945,-20.091724395751953,-34.03667068481445,-35.446083068847656,-7.277806282043457,-13.942608833312988,-18.757410049438477,-24.224924087524414,-26.504377365112305,-34.73031997680664,-36.113311767578125,-21.076866149902344,-18.905094146728516,-7.337068557739258,-25.934709548950195,-11.704936981201172,-10.377102851867676,-9.939364433288574,-10.453692436218262,-16.788667678833008,-22.1833438873291,-15.608287811279297,-9.989182472229004,-9.552008628845215,-8.876667976379395,-9.591781616210938,-9.867018699645996,-10.708588600158691,-14.754644393920898,-22.107940673828125,-9.656773567199707,-8.886406898498535,-8.838417053222656,-9.153911590576172,-10.897345542907715,-9.207162857055664,-7.638869762420654,-8.223760604858398,-8.647269248962402,-7.365026473999023,-16.6286678314209,-16.714370727539062,-24.691177368164062,-30.081710815429688,-28.355510711669922,-20.56671714782715,-9.466257095336914,-8.749960899353027,-8.336526870727539,-11.405001640319824,-22.510303497314453,-27.364328384399414,-27.0620174407959,-20.404756546020508,-19.635568618774414,-17.99363899230957,-23.83234977722168,-20.490013122558594,-17.722835540771484,-18.742280960083008,-26.80483055114746,-33.639896392822266,-36.8852424621582,-27.90321159362793,-8.110552787780762,-8.338099479675293,-8.564311027526855,-11.98224925994873,-25.171083450317383,-23.566650390625,-11.035487174987793,-12.116498947143555,-12.536798477172852,-11.004222869873047,-15.17091178894043,-17.387659072875977,-31.230436325073242,-37.17768096923828,-36.08195495605469,-25.114782333374023,-26.28761863708496,-22.73626708984375,-25.518232345581055,-28.73760986328125,-35.19950485229492,-35.97145462036133,-37.088871002197266,-37.01129913330078,-36.90629959106445,-32.160335540771484,-27.228666305541992,-37.57863235473633,-34.0306396484375,-14.885563850402832,-13.866040229797363,-21.531002044677734,-26.90492820739746,-18.656240463256836,-10.44627571105957,-14.7036714553833,-15.135546684265137,-15.692431449890137,-17.089637756347656,-31.625072479248047,-27.262277603149414,-33.36390686035156,-37.45210266113281,-35.09389877319336,-19.288291931152344,-14.994590759277344,-20.91021728515625,-27.59051513671875,-26.55087661743164,-27.774660110473633,-36.238311767578125,-24.642667770385742,-29.951862335205078,-29.988636016845703,-27.803972244262695,-31.61414909362793,-33.23802947998047,-33.59815216064453,-32.64010238647461,-33.01650619506836,-36.7530517578125,-37.133460998535156,-37.60379409790039,-37.664695739746094,-28.998117446899414,-14.018647193908691,-18.586942672729492,-32.393211364746094,-34.6126823425293,-32.41781997680664,-12.196531295776367,-19.630725860595703,-37.52519607543945,-30.448848724365234,-25.88141632080078,-33.23759078979492,-37.92167663574219,-37.30172348022461,-36.212215423583984,-25.821243286132812,-34.862648010253906],\"yaxis\":\"y\"},{\"hovertemplate\":\"Type=glycogen<br>TSNE_1=%{x}<br>TSNE_2=%{y}<extra></extra>\",\"legendgroup\":\"glycogen\",\"marker\":{\"color\":\"#EF553B\",\"symbol\":\"circle\"},\"mode\":\"markers\",\"name\":\"glycogen\",\"orientation\":\"v\",\"showlegend\":true,\"type\":\"scatter\",\"x\":[13.394295692443848,8.517045021057129,5.126918792724609,13.29446029663086,13.429377555847168,13.144004821777344,11.570222854614258,12.374804496765137,4.618777751922607,8.699668884277344,12.683135032653809,7.108206748962402,10.03142261505127,17.067018508911133,8.740936279296875,4.390838146209717,13.641265869140625,15.169156074523926,13.68712329864502,9.110188484191895,12.439530372619629,13.50334358215332,9.687613487243652,13.968926429748535,10.732048034667969,9.281669616699219,15.548797607421875,8.797480583190918,9.536580085754395,10.464459419250488,12.878622055053711,4.400325298309326,13.184089660644531,13.871772766113281,12.309948921203613,11.782177925109863,11.171307563781738,12.318656921386719,9.821737289428711,8.343201637268066,12.931525230407715,10.11850357055664,8.988626480102539,9.615578651428223,9.61636734008789,10.798574447631836,7.041382789611816,7.281501293182373,5.533812522888184,11.784795761108398,0.9685115814208984,1.8089560270309448,2.837277412414551,9.676496505737305,12.460848808288574,6.748630523681641,10.0050630569458,6.932191371917725,1.4549639225006104,6.0090651512146,0.9634211659431458,0.7063263654708862,5.020288944244385,5.897156238555908,7.032406330108643,13.069612503051758,12.998823165893555,14.142498970031738,10.74720573425293,11.411966323852539,6.126682758331299,5.899256706237793,7.683115005493164,10.572347640991211,10.06124210357666,11.500897407531738,10.992244720458984,14.454778671264648,11.415791511535645,10.960023880004883,5.547578811645508,2.9577131271362305,10.496476173400879,12.608975410461426,13.263511657714844,12.351967811584473,11.310830116271973,10.693954467773438,13.029555320739746,8.689581871032715,8.604053497314453,16.31682014465332,11.96560287475586,13.576288223266602,12.021441459655762,5.930752754211426,13.098617553710938,11.863297462463379,11.415789604187012,10.960409164428711,13.188799858093262,14.454787254333496,15.43505573272705,15.639181137084961,6.317192077636719,12.54473876953125,15.986627578735352,13.773951530456543,7.485050201416016,9.176200866699219,10.126213073730469,9.766095161437988,14.740873336791992,14.8507661819458,14.618263244628906,13.295310974121094,12.925210952758789,11.523848533630371,3.5131616592407227,11.696000099182129,12.37716007232666,13.266093254089355,5.213423728942871,11.208478927612305,14.383933067321777,8.348516464233398,9.453278541564941,9.190815925598145,13.040456771850586,10.311243057250977,9.783774375915527,7.380203723907471,2.063886880874634,11.24905776977539,15.944112777709961,13.600626945495605,11.702845573425293,12.718682289123535,5.438378810882568,11.7821044921875,11.54560661315918,4.890976905822754,6.739553928375244,15.619386672973633,10.785378456115723,10.469346046447754,10.344964981079102,10.954060554504395,4.1387248039245605,12.75485610961914,3.8296725749969482,13.50257396697998,14.357222557067871,14.625125885009766,14.596588134765625,11.91726016998291,13.310693740844727,12.2418851852417,3.3737785816192627,12.2972993850708,15.060737609863281,11.259878158569336,13.184329986572266,12.510472297668457,16.80257797241211,2.1189887523651123,2.125474214553833,0.49258244037628174,17.10333251953125,12.084449768066406,10.572928428649902,4.363700866699219,14.77679443359375,4.903186321258545,12.01863956451416,17.076906204223633,1.7981810569763184,2.2753384113311768,16.176971435546875,16.052284240722656,11.659122467041016,14.41893196105957,4.384562969207764,5.884833335876465,3.9063875675201416,5.494222640991211,4.907345294952393,11.161093711853027,15.673001289367676,15.67291259765625,9.18523120880127,5.385377883911133,7.193774223327637,10.25403118133545,11.463238716125488,3.0922434329986572,5.474123001098633,2.801044225692749,2.801057815551758,4.9074225425720215,11.161201477050781,9.184981346130371,9.337453842163086,3.4003043174743652,5.41387414932251,8.566402435302734,5.192295074462891,2.354654312133789,6.179701805114746,9.68619441986084,8.257177352905273,8.566296577453613],\"xaxis\":\"x\",\"y\":[30.27228546142578,42.38115692138672,41.57808303833008,43.77431869506836,35.39373779296875,41.349918365478516,31.41762924194336,33.312164306640625,41.19612121582031,43.63911819458008,38.247161865234375,45.81610870361328,49.17660140991211,31.356359481811523,44.213539123535156,41.2906608581543,43.840789794921875,38.72736740112305,25.890687942504883,18.98410987854004,23.368240356445312,28.84707260131836,46.1585578918457,45.396915435791016,49.173030853271484,45.73310852050781,31.339977264404297,18.821779251098633,22.19935417175293,23.332618713378906,27.978242874145508,40.39942932128906,35.94127655029297,37.54728698730469,31.81648063659668,23.20102882385254,40.12546157836914,39.441978454589844,46.36204528808594,44.56476974487305,30.77845001220703,43.37308120727539,47.87139129638672,48.84366989135742,48.09553909301758,47.28647994995117,43.167415618896484,46.679237365722656,45.385467529296875,38.95139694213867,33.514381408691406,37.73640823364258,37.91996765136719,27.077165603637695,25.48649787902832,41.4094352722168,28.557830810546875,36.064205169677734,33.01719284057617,35.80720520019531,33.07186508178711,33.66495895385742,45.04061508178711,45.86669921875,43.3500862121582,33.71139144897461,39.33034133911133,38.36652755737305,30.747119903564453,37.22578048706055,45.232452392578125,39.40986633300781,46.88985061645508,40.08012008666992,47.84728240966797,34.01590347290039,27.998350143432617,29.61853790283203,42.347408294677734,43.961692810058594,36.337730407714844,35.28268051147461,45.2463493347168,44.96113204956055,45.21194076538086,38.45158004760742,30.14981460571289,37.99028396606445,38.55559539794922,17.981653213500977,17.66721534729004,31.027034759521484,47.181785583496094,34.887046813964844,24.339998245239258,37.17726135253906,29.310054779052734,29.1110782623291,42.34739685058594,43.961997985839844,39.00635528564453,29.618534088134766,30.072927474975586,29.127429962158203,38.0941162109375,21.854656219482422,38.20699691772461,30.028278350830078,40.716854095458984,42.73086166381836,42.8167724609375,45.0987434387207,28.99515151977539,29.234359741210938,27.97732162475586,24.897001266479492,32.98737716674805,23.978153228759766,40.25483703613281,48.990997314453125,47.69415283203125,28.08861541748047,37.69881820678711,26.27127456665039,30.826051712036133,43.85780715942383,23.299041748046875,23.941238403320312,32.44948196411133,29.70452880859375,23.771099090576172,35.4429817199707,32.75352096557617,29.803831100463867,38.109012603759766,24.720043182373047,45.141693115234375,35.92815017700195,41.09233474731445,48.006046295166016,45.97026062011719,38.85641098022461,42.549434661865234,28.387149810791016,37.69533157348633,28.545391082763672,22.010324478149414,47.82324981689453,39.54948806762695,26.111642837524414,37.94612503051758,40.974754333496094,27.053831100463867,42.207603454589844,40.54322814941406,32.680789947509766,42.68244552612305,50.90861511230469,42.152435302734375,50.755706787109375,36.95710754394531,25.700864791870117,48.392982482910156,49.5828971862793,38.584266662597656,35.891357421875,42.59309005737305,32.664363861083984,40.34333038330078,26.917346954345703,20.480127334594727,30.356121063232422,31.475736618041992,32.734840393066406,20.889799118041992,38.902503967285156,36.30769348144531,35.96138000488281,26.060380935668945,25.862682342529297,21.149423599243164,41.81764602661133,35.609893798828125,33.5075798034668,30.463869094848633,28.40015411376953,34.461456298828125,22.622182846069336,41.14610290527344,41.14591979980469,32.26734924316406,28.5478515625,20.606258392333984,32.292633056640625,32.531856536865234,31.68316078186035,37.963531494140625,34.36172103881836,34.36180114746094,34.46194839477539,22.621761322021484,32.26732635498047,20.4996280670166,31.491849899291992,29.932477951049805,20.57787322998047,33.35884094238281,41.273948669433594,25.1400089263916,21.002151489257812,22.967601776123047,20.578176498413086],\"yaxis\":\"y\"},{\"hovertemplate\":\"Type=lipids<br>TSNE_1=%{x}<br>TSNE_2=%{y}<extra></extra>\",\"legendgroup\":\"lipids\",\"marker\":{\"color\":\"#00cc96\",\"symbol\":\"circle\"},\"mode\":\"markers\",\"name\":\"lipids\",\"orientation\":\"v\",\"showlegend\":true,\"type\":\"scatter\",\"x\":[-37.121646881103516,-30.119386672973633,-7.916573524475098,-8.409156799316406,-7.6519012451171875,-6.371095180511475,-30.69541358947754,-35.86442184448242,-29.709577560424805,-40.27988815307617,-35.68210983276367,-20.07570457458496,-18.846031188964844,-26.38152503967285,-31.455556869506836,-36.464599609375,-16.69257354736328,-31.35735511779785,-31.602338790893555,-30.315950393676758,-14.248734474182129,-29.05069923400879,-32.47757339477539,-20.851892471313477,-15.230931282043457,-30.579191207885742,-32.803863525390625,-22.123044967651367,-20.054161071777344,-27.810028076171875,-19.870546340942383,-30.065994262695312,-33.78600311279297,-36.96870422363281,-31.617765426635742,-30.23248291015625,-17.41248893737793,-17.374494552612305,-17.506568908691406,-14.157048225402832,-13.977426528930664,-31.48377799987793,-31.21550941467285,-16.331581115722656,-27.651031494140625,-30.975019454956055,-28.486812591552734,-17.339365005493164,-29.9067325592041,-35.67399978637695,-14.39771842956543,-26.720685958862305,-17.744651794433594,-16.76427459716797,-17.51262092590332,-21.018861770629883,-24.087907791137695,-23.79637336730957,-19.77940559387207,-20.906675338745117,-21.893037796020508,-22.38088607788086,-21.807594299316406,-21.57435417175293,-21.611194610595703,-23.58572769165039,-24.16761016845703,-26.23177146911621,-18.49167823791504,-19.51962661743164,-24.256248474121094,-26.863983154296875,-26.431102752685547,-18.7601318359375,-22.33808135986328,-23.255434036254883,-27.481035232543945,-38.65046310424805,-37.038475036621094,-35.88561248779297,-23.40904426574707,-24.45960235595703,-25.154190063476562,-28.2850399017334,-25.88231086730957,-27.978946685791016,-33.38728332519531,-30.61969757080078,-30.12739372253418,-28.577417373657227,-39.92428207397461,-39.248260498046875,-32.91091537475586,-28.68240737915039,-26.184457778930664,-33.262516021728516,-31.837743759155273,-38.847328186035156,-30.17357635498047,-33.22895050048828,-29.680896759033203,-37.44694519042969,-35.96076965332031,-39.31435012817383,-24.15755271911621,-27.104354858398438,-30.81859016418457,-26.10879135131836,-26.045812606811523,-31.62941551208496,-32.51389694213867,-21.105363845825195,-21.23493194580078,-24.37740707397461,-14.707807540893555,-28.44502067565918,-23.450742721557617,-27.596195220947266,-24.551555633544922,-18.980594635009766,-31.493457794189453,-33.552589416503906,-18.416728973388672,-15.948762893676758,-33.668495178222656,-37.052608489990234,-35.741798400878906,-34.67518997192383,-39.486690521240234,-39.690067291259766,-34.24553680419922,-30.729829788208008,-30.33113670349121,-29.212181091308594,-31.386550903320312,-29.019372940063477,-36.4771842956543,-36.77248001098633,-35.00171661376953,-39.27295684814453,-37.9437141418457,-35.012325286865234,-31.54280662536621,-15.351388931274414,-17.37506866455078,-28.5859432220459,-30.13450050354004,-32.26560592651367,-34.039127349853516,-26.158157348632812,-24.142377853393555,-22.93585968017578,-21.495681762695312,-24.14898681640625,-32.470027923583984,-29.143882751464844,-18.841581344604492,-20.65641975402832,-20.656423568725586,-23.251981735229492,-29.064661026000977,-28.426782608032227,-15.707849502563477,-18.067195892333984,-18.983278274536133,-18.98687744140625,-33.836585998535156,-33.31486129760742,-28.383968353271484,-31.8807315826416,-33.774085998535156,-37.07564926147461,-29.894859313964844,-35.18952560424805,-22.371746063232422,-30.07683563232422,-39.14456558227539,-38.342315673828125,-34.670936584472656,-37.98242950439453,-40.095359802246094,-37.255760192871094,-35.83828353881836,-33.36339569091797,-38.28335952758789,-35.13632583618164,-34.753692626953125,-33.81785583496094,-33.70406723022461,-22.956348419189453,-33.819828033447266,-14.995824813842773,-17.451257705688477,-37.14346694946289,-36.21884536743164,-18.20126724243164,-24.374399185180664,-32.92229461669922,-34.84131622314453,-28.179550170898438,-32.45769119262695,-15.063865661621094,-31.683950424194336,-29.334619522094727,-22.989635467529297,-15.746502876281738,-34.809410095214844,-40.171058654785156,-39.43379211425781,-38.625125885009766,-33.6320686340332,-32.26357650756836,-32.753562927246094,-32.183353424072266],\"xaxis\":\"x\",\"y\":[3.3062567710876465,8.578121185302734,-7.5245442390441895,-5.474915027618408,1.489303469657898,-15.332510948181152,11.267434120178223,9.691116333007812,6.841963291168213,2.745058536529541,2.007941722869873,-9.760002136230469,-13.01196002960205,-3.771000862121582,0.2884877026081085,7.70541524887085,-5.9014973640441895,8.40056037902832,0.8405370712280273,-3.308030128479004,-4.078813076019287,8.802276611328125,-2.8741071224212646,-9.2089204788208,-4.7802019119262695,8.188617706298828,9.170904159545898,-8.207359313964844,-8.586338996887207,-6.718050003051758,-11.574220657348633,-3.308777332305908,8.38558578491211,10.17421817779541,11.061751365661621,9.70006275177002,-10.118216514587402,-12.064252853393555,-6.813811779022217,-4.380398273468018,-3.6765425205230713,11.010150909423828,8.481863975524902,-6.052603721618652,4.6036882400512695,4.840599536895752,-0.45243239402770996,-2.3020105361938477,4.454343318939209,8.480887413024902,-4.646477699279785,3.415217399597168,-12.05982494354248,-8.736737251281738,-9.159558296203613,-5.673868179321289,2.0586018562316895,2.280581474304199,-6.004472255706787,-6.814744472503662,-7.453701972961426,-2.8902294635772705,0.8529468774795532,1.4870315790176392,2.4841063022613525,-0.7775842547416687,-1.2918514013290405,-1.1107673645019531,-12.988706588745117,-8.671832084655762,1.178521752357483,3.5539398193359375,4.248695373535156,-5.959821701049805,1.8158848285675049,2.1979820728302,0.9407836198806763,7.276953220367432,8.700563430786133,5.5465826988220215,3.4872970581054688,3.593918800354004,-3.153604030609131,-2.436495780944824,3.4270291328430176,1.6627147197723389,7.937636375427246,-0.8220289349555969,-2.1717000007629395,-3.773672103881836,4.823850631713867,4.463404655456543,3.1506731510162354,0.6301198601722717,-8.474205017089844,-5.850802421569824,-1.6612707376480103,2.8014466762542725,3.447371482849121,-5.968967914581299,6.019941329956055,6.397480010986328,6.977043151855469,2.246169090270996,0.4671538770198822,-3.6726996898651123,-2.1043264865875244,-5.659610748291016,-6.178458213806152,-2.5701277256011963,-3.500591516494751,-7.940495014190674,-4.02062463760376,-3.5696141719818115,-7.295400142669678,2.064779281616211,-4.175952911376953,-4.135896682739258,-7.552624225616455,-12.865601539611816,-3.9575531482696533,-2.6672632694244385,-3.1144025325775146,-4.497407913208008,11.06303882598877,4.3694329261779785,0.15422938764095306,0.5747533440589905,1.5639532804489136,5.313234806060791,10.588118553161621,6.180819034576416,3.594099760055542,0.6557669043540955,6.32101583480835,0.3069254755973816,6.588645935058594,5.902927875518799,9.50645923614502,1.3699538707733154,2.1941964626312256,7.842488765716553,3.934694528579712,-1.6901477575302124,-4.378118515014648,-4.979700565338135,-5.253217697143555,-4.295672416687012,-3.4125874042510986,-8.396191596984863,-6.158497333526611,2.0479331016540527,-3.4414122104644775,-7.489999771118164,0.0896320790052414,9.7653169631958,-8.937902450561523,-9.970479965209961,-9.970479965209961,-6.6590118408203125,6.200045585632324,6.948938369750977,-3.662773609161377,-4.008798122406006,-4.1024580001831055,-3.3079397678375244,-1.935893177986145,7.079452037811279,5.74698543548584,4.750747203826904,-2.309572696685791,2.1648478507995605,6.886952877044678,6.754978179931641,-6.8836798667907715,-0.23135825991630554,6.669647693634033,6.570619106292725,2.7520406246185303,7.263136386871338,7.4348883628845215,7.109745025634766,4.656441688537598,2.4081621170043945,8.34626293182373,-2.2664358615875244,-0.8022472858428955,-4.020534038543701,-0.4300682544708252,-0.0707009807229042,11.380037307739258,-1.1210925579071045,-3.2414937019348145,5.099567413330078,1.567356824874878,-4.49543571472168,-6.549437522888184,6.365412712097168,7.746309757232666,6.69926118850708,10.519851684570312,-1.6738027334213257,5.133420944213867,-4.146508693695068,-4.635312557220459,-1.4050309658050537,4.184492588043213,5.525991916656494,6.543828964233398,8.249044418334961,4.0978569984436035,1.4327096939086914,8.105257987976074,-1.095839023590088],\"yaxis\":\"y\"},{\"hovertemplate\":\"Type=DNA<br>TSNE_1=%{x}<br>TSNE_2=%{y}<extra></extra>\",\"legendgroup\":\"DNA\",\"marker\":{\"color\":\"#ab63fa\",\"symbol\":\"circle\"},\"mode\":\"markers\",\"name\":\"DNA\",\"orientation\":\"v\",\"showlegend\":true,\"type\":\"scatter\",\"x\":[6.866535663604736,4.706467151641846,11.34406852722168,6.831759452819824,7.886297225952148,5.975134372711182,7.438385486602783,4.377591133117676,4.135733127593994,6.533219814300537,4.156055927276611,5.545228004455566,-2.6362202167510986,0.8076218366622925,0.03326747938990593,-4.5924763679504395,1.9851481914520264,-0.5328491926193237,-3.0303406715393066,-3.1907341480255127,-5.954291343688965,-0.4285936951637268,11.557899475097656,-8.835081100463867,4.862094879150391,-4.269320964813232,2.040215015411377,-5.47504186630249,0.6068257093429565,-0.2063884437084198,1.1930400133132935,-4.669999122619629,-7.164906024932861,-4.057478427886963,-6.165201187133789,-5.952831745147705,-6.624323844909668,-7.9046950340271,-3.9166650772094727,-5.005392551422119,-6.732730388641357,-6.14372444152832,-0.12885235249996185,-6.410205364227295,-5.706994533538818,-4.591218948364258,-5.354400157928467,0.03081824630498886,-5.221893787384033,-5.004904747009277,-3.9167139530181885,-7.9046196937561035,-6.620168685913086,-6.7927374839782715,-5.994416236877441,-7.203279495239258,-5.008321285247803,-6.38539981842041,-6.379951000213623,-5.106396675109863,-5.73713493347168,-5.739908218383789,-6.499574184417725,-4.664935111999512,-7.17772912979126,-6.429944038391113,-5.823986053466797,-6.463836669921875,-5.870411396026611,-8.154848098754883,-7.685142517089844,-5.995210647583008,-5.50070858001709,-7.530691623687744,-6.95247745513916,-6.974398612976074,-7.337954521179199,-7.879521369934082,-6.802898406982422,-6.906991004943848,-6.2902092933654785,-4.930416107177734,-9.774245262145996,-5.765203952789307,1.1803935766220093,-5.242391109466553,-5.603187561035156,-5.111393928527832,-4.840194225311279,-5.439245223999023,0.7273752689361572,-0.30845189094543457,1.640264630317688,-4.102776050567627,-3.765416145324707,0.2617925703525543,0.12357787042856216,1.2879079580307007,0.2056446224451065,8.161209106445312,4.87963342666626,-2.7069857120513916,-3.0225512981414795,0.5130383968353271,1.0361969470977783,-0.38907238841056824,1.6065244674682617,-5.069784164428711,-5.530370712280273,-3.5518124103546143],\"xaxis\":\"x\",\"y\":[-20.84279441833496,-22.822650909423828,-18.682558059692383,-21.331838607788086,-21.444843292236328,-23.841371536254883,-21.204437255859375,-23.584959030151367,-24.11320686340332,-21.610309600830078,-25.291479110717773,-35.71240234375,-18.12987518310547,-24.693857192993164,-34.241024017333984,-11.703755378723145,-24.88711166381836,-33.26374816894531,-16.313735961914062,-15.81218147277832,-16.565021514892578,-25.397632598876953,-34.603965759277344,-2.2357630729675293,-34.94912338256836,-16.218332290649414,-25.516817092895508,-9.931371688842773,-33.15913009643555,-34.053863525390625,-23.84764862060547,-9.657319068908691,-5.313652992248535,-12.76773452758789,-4.819767475128174,-1.1670045852661133,-0.1031823679804802,-3.9874329566955566,-14.400500297546387,-14.740832328796387,-10.075140953063965,-10.812158584594727,-26.522794723510742,-3.718651533126831,-2.9609460830688477,-13.65966510772705,-2.613314628601074,-24.243520736694336,-11.942859649658203,-14.741145133972168,-14.400484085083008,-3.9899163246154785,-0.10790607333183289,-16.975749969482422,-13.491792678833008,-1.777239441871643,-16.23188018798828,-2.3511765003204346,-6.596613883972168,-15.622998237609863,-4.141598701477051,-0.7884770631790161,-1.4480475187301636,-12.025733947753906,-2.902400255203247,-4.471373558044434,-6.467136859893799,-5.87822961807251,0.10425920784473419,-6.557694911956787,-0.9547188878059387,-1.7808557748794556,-12.942702293395996,-6.7325263023376465,-7.466554641723633,-8.277606964111328,-0.20131762325763702,0.08712664991617203,1.0234845876693726,-0.6161813139915466,-3.13057017326355,-17.332988739013672,-7.792329788208008,-15.89425277709961,-31.454936981201172,-17.5100040435791,-9.218825340270996,-8.206141471862793,-8.778794288635254,-7.469254016876221,-32.41397476196289,-35.0527458190918,-27.311567306518555,-12.184531211853027,-15.166781425476074,-35.925392150878906,-36.5346794128418,-25.878435134887695,-25.814899444580078,-34.67816925048828,-34.439613342285156,-17.254026412963867,-17.689624786376953,-34.960105895996094,-23.950515747070312,-34.65092468261719,-24.403108596801758,-9.179718971252441,-5.329262733459473,-16.31882095336914],\"yaxis\":\"y\"}],                        {\"legend\":{\"title\":{\"text\":\"Type\"},\"tracegroupgap\":0},\"margin\":{\"t\":60},\"template\":{\"data\":{\"bar\":[{\"error_x\":{\"color\":\"#2a3f5f\"},\"error_y\":{\"color\":\"#2a3f5f\"},\"marker\":{\"line\":{\"color\":\"#E5ECF6\",\"width\":0.5},\"pattern\":{\"fillmode\":\"overlay\",\"size\":10,\"solidity\":0.2}},\"type\":\"bar\"}],\"barpolar\":[{\"marker\":{\"line\":{\"color\":\"#E5ECF6\",\"width\":0.5},\"pattern\":{\"fillmode\":\"overlay\",\"size\":10,\"solidity\":0.2}},\"type\":\"barpolar\"}],\"carpet\":[{\"aaxis\":{\"endlinecolor\":\"#2a3f5f\",\"gridcolor\":\"white\",\"linecolor\":\"white\",\"minorgridcolor\":\"white\",\"startlinecolor\":\"#2a3f5f\"},\"baxis\":{\"endlinecolor\":\"#2a3f5f\",\"gridcolor\":\"white\",\"linecolor\":\"white\",\"minorgridcolor\":\"white\",\"startlinecolor\":\"#2a3f5f\"},\"type\":\"carpet\"}],\"choropleth\":[{\"colorbar\":{\"outlinewidth\":0,\"ticks\":\"\"},\"type\":\"choropleth\"}],\"contour\":[{\"colorbar\":{\"outlinewidth\":0,\"ticks\":\"\"},\"colorscale\":[[0.0,\"#0d0887\"],[0.1111111111111111,\"#46039f\"],[0.2222222222222222,\"#7201a8\"],[0.3333333333333333,\"#9c179e\"],[0.4444444444444444,\"#bd3786\"],[0.5555555555555556,\"#d8576b\"],[0.6666666666666666,\"#ed7953\"],[0.7777777777777778,\"#fb9f3a\"],[0.8888888888888888,\"#fdca26\"],[1.0,\"#f0f921\"]],\"type\":\"contour\"}],\"contourcarpet\":[{\"colorbar\":{\"outlinewidth\":0,\"ticks\":\"\"},\"type\":\"contourcarpet\"}],\"heatmap\":[{\"colorbar\":{\"outlinewidth\":0,\"ticks\":\"\"},\"colorscale\":[[0.0,\"#0d0887\"],[0.1111111111111111,\"#46039f\"],[0.2222222222222222,\"#7201a8\"],[0.3333333333333333,\"#9c179e\"],[0.4444444444444444,\"#bd3786\"],[0.5555555555555556,\"#d8576b\"],[0.6666666666666666,\"#ed7953\"],[0.7777777777777778,\"#fb9f3a\"],[0.8888888888888888,\"#fdca26\"],[1.0,\"#f0f921\"]],\"type\":\"heatmap\"}],\"heatmapgl\":[{\"colorbar\":{\"outlinewidth\":0,\"ticks\":\"\"},\"colorscale\":[[0.0,\"#0d0887\"],[0.1111111111111111,\"#46039f\"],[0.2222222222222222,\"#7201a8\"],[0.3333333333333333,\"#9c179e\"],[0.4444444444444444,\"#bd3786\"],[0.5555555555555556,\"#d8576b\"],[0.6666666666666666,\"#ed7953\"],[0.7777777777777778,\"#fb9f3a\"],[0.8888888888888888,\"#fdca26\"],[1.0,\"#f0f921\"]],\"type\":\"heatmapgl\"}],\"histogram\":[{\"marker\":{\"pattern\":{\"fillmode\":\"overlay\",\"size\":10,\"solidity\":0.2}},\"type\":\"histogram\"}],\"histogram2d\":[{\"colorbar\":{\"outlinewidth\":0,\"ticks\":\"\"},\"colorscale\":[[0.0,\"#0d0887\"],[0.1111111111111111,\"#46039f\"],[0.2222222222222222,\"#7201a8\"],[0.3333333333333333,\"#9c179e\"],[0.4444444444444444,\"#bd3786\"],[0.5555555555555556,\"#d8576b\"],[0.6666666666666666,\"#ed7953\"],[0.7777777777777778,\"#fb9f3a\"],[0.8888888888888888,\"#fdca26\"],[1.0,\"#f0f921\"]],\"type\":\"histogram2d\"}],\"histogram2dcontour\":[{\"colorbar\":{\"outlinewidth\":0,\"ticks\":\"\"},\"colorscale\":[[0.0,\"#0d0887\"],[0.1111111111111111,\"#46039f\"],[0.2222222222222222,\"#7201a8\"],[0.3333333333333333,\"#9c179e\"],[0.4444444444444444,\"#bd3786\"],[0.5555555555555556,\"#d8576b\"],[0.6666666666666666,\"#ed7953\"],[0.7777777777777778,\"#fb9f3a\"],[0.8888888888888888,\"#fdca26\"],[1.0,\"#f0f921\"]],\"type\":\"histogram2dcontour\"}],\"mesh3d\":[{\"colorbar\":{\"outlinewidth\":0,\"ticks\":\"\"},\"type\":\"mesh3d\"}],\"parcoords\":[{\"line\":{\"colorbar\":{\"outlinewidth\":0,\"ticks\":\"\"}},\"type\":\"parcoords\"}],\"pie\":[{\"automargin\":true,\"type\":\"pie\"}],\"scatter\":[{\"marker\":{\"colorbar\":{\"outlinewidth\":0,\"ticks\":\"\"}},\"type\":\"scatter\"}],\"scatter3d\":[{\"line\":{\"colorbar\":{\"outlinewidth\":0,\"ticks\":\"\"}},\"marker\":{\"colorbar\":{\"outlinewidth\":0,\"ticks\":\"\"}},\"type\":\"scatter3d\"}],\"scattercarpet\":[{\"marker\":{\"colorbar\":{\"outlinewidth\":0,\"ticks\":\"\"}},\"type\":\"scattercarpet\"}],\"scattergeo\":[{\"marker\":{\"colorbar\":{\"outlinewidth\":0,\"ticks\":\"\"}},\"type\":\"scattergeo\"}],\"scattergl\":[{\"marker\":{\"colorbar\":{\"outlinewidth\":0,\"ticks\":\"\"}},\"type\":\"scattergl\"}],\"scattermapbox\":[{\"marker\":{\"colorbar\":{\"outlinewidth\":0,\"ticks\":\"\"}},\"type\":\"scattermapbox\"}],\"scatterpolar\":[{\"marker\":{\"colorbar\":{\"outlinewidth\":0,\"ticks\":\"\"}},\"type\":\"scatterpolar\"}],\"scatterpolargl\":[{\"marker\":{\"colorbar\":{\"outlinewidth\":0,\"ticks\":\"\"}},\"type\":\"scatterpolargl\"}],\"scatterternary\":[{\"marker\":{\"colorbar\":{\"outlinewidth\":0,\"ticks\":\"\"}},\"type\":\"scatterternary\"}],\"surface\":[{\"colorbar\":{\"outlinewidth\":0,\"ticks\":\"\"},\"colorscale\":[[0.0,\"#0d0887\"],[0.1111111111111111,\"#46039f\"],[0.2222222222222222,\"#7201a8\"],[0.3333333333333333,\"#9c179e\"],[0.4444444444444444,\"#bd3786\"],[0.5555555555555556,\"#d8576b\"],[0.6666666666666666,\"#ed7953\"],[0.7777777777777778,\"#fb9f3a\"],[0.8888888888888888,\"#fdca26\"],[1.0,\"#f0f921\"]],\"type\":\"surface\"}],\"table\":[{\"cells\":{\"fill\":{\"color\":\"#EBF0F8\"},\"line\":{\"color\":\"white\"}},\"header\":{\"fill\":{\"color\":\"#C8D4E3\"},\"line\":{\"color\":\"white\"}},\"type\":\"table\"}]},\"layout\":{\"annotationdefaults\":{\"arrowcolor\":\"#2a3f5f\",\"arrowhead\":0,\"arrowwidth\":1},\"autotypenumbers\":\"strict\",\"coloraxis\":{\"colorbar\":{\"outlinewidth\":0,\"ticks\":\"\"}},\"colorscale\":{\"diverging\":[[0,\"#8e0152\"],[0.1,\"#c51b7d\"],[0.2,\"#de77ae\"],[0.3,\"#f1b6da\"],[0.4,\"#fde0ef\"],[0.5,\"#f7f7f7\"],[0.6,\"#e6f5d0\"],[0.7,\"#b8e186\"],[0.8,\"#7fbc41\"],[0.9,\"#4d9221\"],[1,\"#276419\"]],\"sequential\":[[0.0,\"#0d0887\"],[0.1111111111111111,\"#46039f\"],[0.2222222222222222,\"#7201a8\"],[0.3333333333333333,\"#9c179e\"],[0.4444444444444444,\"#bd3786\"],[0.5555555555555556,\"#d8576b\"],[0.6666666666666666,\"#ed7953\"],[0.7777777777777778,\"#fb9f3a\"],[0.8888888888888888,\"#fdca26\"],[1.0,\"#f0f921\"]],\"sequentialminus\":[[0.0,\"#0d0887\"],[0.1111111111111111,\"#46039f\"],[0.2222222222222222,\"#7201a8\"],[0.3333333333333333,\"#9c179e\"],[0.4444444444444444,\"#bd3786\"],[0.5555555555555556,\"#d8576b\"],[0.6666666666666666,\"#ed7953\"],[0.7777777777777778,\"#fb9f3a\"],[0.8888888888888888,\"#fdca26\"],[1.0,\"#f0f921\"]]},\"colorway\":[\"#636efa\",\"#EF553B\",\"#00cc96\",\"#ab63fa\",\"#FFA15A\",\"#19d3f3\",\"#FF6692\",\"#B6E880\",\"#FF97FF\",\"#FECB52\"],\"font\":{\"color\":\"#2a3f5f\"},\"geo\":{\"bgcolor\":\"white\",\"lakecolor\":\"white\",\"landcolor\":\"#E5ECF6\",\"showlakes\":true,\"showland\":true,\"subunitcolor\":\"white\"},\"hoverlabel\":{\"align\":\"left\"},\"hovermode\":\"closest\",\"mapbox\":{\"style\":\"light\"},\"paper_bgcolor\":\"white\",\"plot_bgcolor\":\"#E5ECF6\",\"polar\":{\"angularaxis\":{\"gridcolor\":\"white\",\"linecolor\":\"white\",\"ticks\":\"\"},\"bgcolor\":\"#E5ECF6\",\"radialaxis\":{\"gridcolor\":\"white\",\"linecolor\":\"white\",\"ticks\":\"\"}},\"scene\":{\"xaxis\":{\"backgroundcolor\":\"#E5ECF6\",\"gridcolor\":\"white\",\"gridwidth\":2,\"linecolor\":\"white\",\"showbackground\":true,\"ticks\":\"\",\"zerolinecolor\":\"white\"},\"yaxis\":{\"backgroundcolor\":\"#E5ECF6\",\"gridcolor\":\"white\",\"gridwidth\":2,\"linecolor\":\"white\",\"showbackground\":true,\"ticks\":\"\",\"zerolinecolor\":\"white\"},\"zaxis\":{\"backgroundcolor\":\"#E5ECF6\",\"gridcolor\":\"white\",\"gridwidth\":2,\"linecolor\":\"white\",\"showbackground\":true,\"ticks\":\"\",\"zerolinecolor\":\"white\"}},\"shapedefaults\":{\"line\":{\"color\":\"#2a3f5f\"}},\"ternary\":{\"aaxis\":{\"gridcolor\":\"white\",\"linecolor\":\"white\",\"ticks\":\"\"},\"baxis\":{\"gridcolor\":\"white\",\"linecolor\":\"white\",\"ticks\":\"\"},\"bgcolor\":\"#E5ECF6\",\"caxis\":{\"gridcolor\":\"white\",\"linecolor\":\"white\",\"ticks\":\"\"}},\"title\":{\"x\":0.05},\"xaxis\":{\"automargin\":true,\"gridcolor\":\"white\",\"linecolor\":\"white\",\"ticks\":\"\",\"title\":{\"standoff\":15},\"zerolinecolor\":\"white\",\"zerolinewidth\":2},\"yaxis\":{\"automargin\":true,\"gridcolor\":\"white\",\"linecolor\":\"white\",\"ticks\":\"\",\"title\":{\"standoff\":15},\"zerolinecolor\":\"white\",\"zerolinewidth\":2}}},\"xaxis\":{\"anchor\":\"y\",\"domain\":[0.0,1.0],\"title\":{\"text\":\"TSNE_1\"}},\"yaxis\":{\"anchor\":\"x\",\"domain\":[0.0,1.0],\"title\":{\"text\":\"TSNE_2\"}}},                        {\"responsive\": true}                    ).then(function(){\n",
       "                            \n",
       "var gd = document.getElementById('56dfdeaa-ebcd-49c5-820b-bcf56b2bf61b');\n",
       "var x = new MutationObserver(function (mutations, observer) {{\n",
       "        var display = window.getComputedStyle(gd).display;\n",
       "        if (!display || display === 'none') {{\n",
       "            console.log([gd, 'removed!']);\n",
       "            Plotly.purge(gd);\n",
       "            observer.disconnect();\n",
       "        }}\n",
       "}});\n",
       "\n",
       "// Listen for the removal of the full notebook cells\n",
       "var notebookContainer = gd.closest('#notebook-container');\n",
       "if (notebookContainer) {{\n",
       "    x.observe(notebookContainer, {childList: true});\n",
       "}}\n",
       "\n",
       "// Listen for the clearing of the current output cell\n",
       "var outputEl = gd.closest('.output');\n",
       "if (outputEl) {{\n",
       "    x.observe(outputEl, {childList: true});\n",
       "}}\n",
       "\n",
       "                        })                };                });            </script>        </div>"
      ]
     },
     "metadata": {},
     "output_type": "display_data"
    },
    {
     "data": {
      "application/vnd.plotly.v1+json": {
       "config": {
        "plotlyServerURL": "https://plot.ly"
       },
       "data": [
        {
         "hovertemplate": "Type=collagen<br>PCA_1=%{x}<br>PCA_2=%{y}<extra></extra>",
         "legendgroup": "collagen",
         "marker": {
          "color": "#636efa",
          "symbol": "circle"
         },
         "mode": "markers",
         "name": "collagen",
         "orientation": "v",
         "showlegend": true,
         "type": "scatter",
         "x": [
          0.4255506837994193,
          0.858713915111355,
          0.3426932887947811,
          0.5565151824081229,
          0.27949584021557033,
          0.6266004766595286,
          0.36392687262570694,
          0.7410166967131484,
          0.4605324438799499,
          0.9636166462624061,
          0.37640749079471236,
          0.9636166462624061,
          0.4605324438799499,
          0.7410166967131484,
          0.36392687262570694,
          0.6266004766595286,
          0.3881872527074199,
          0.4799215303171799,
          0.6361731328142934,
          0.6092227273758362,
          0.28013442671257693,
          0.4083830453657016,
          0.37051275519553734,
          0.4360686023086412,
          0.28013442671257693,
          0.6092227273758362,
          0.34341224301070394,
          0.6620930423394178,
          0.6547544178577496,
          0.7587542770324293,
          0.5951846554283589,
          1.0212780455174764,
          1.2319784858729486,
          0.5788197624121583,
          0.8237551314654413,
          0.017137688365637768,
          -0.08266203576886698,
          0.2608787121991628,
          0.7007922000727966,
          0.11236853663949145,
          0.40201756377130804,
          1.0358222302427973,
          0.6955196909323957,
          0.6011929080334231,
          0.32402824970027794,
          0.6903390173940103,
          0.8120578591351361,
          1.3035220657652575,
          0.8945435995752763,
          1.018908439930126,
          0.930141876412494,
          0.49598947041636954,
          1.2633665097697895,
          1.0358845030543422,
          0.18022359303389715,
          0.3300353204685087,
          0.5653415403418932,
          0.7882759963656093,
          0.8607679502196153,
          0.8858619711831738,
          1.1113706571107742,
          0.6171061273216778,
          0.3809714172844979,
          0.06688216424244935,
          0.7451461022426814,
          0.3035241074418531,
          0.21857321011296366,
          0.19406942916819916,
          0.2386318780953697,
          0.5291203216541821,
          0.826579697127947,
          0.46984140029422894,
          0.17936202993295347,
          0.1458793085996225,
          0.16995757487501706,
          0.18990344253378155,
          0.2296816634543388,
          0.21972955176216005,
          0.40829445648745294,
          0.6189600299441881,
          0.16889110118083686,
          0.13838333690722784,
          0.12359034729501976,
          0.13954666070536467,
          0.25487418885444185,
          0.1361850196637231,
          -0.02864792619991014,
          0.10824289822715386,
          0.13945694358086375,
          0.1155905953044452,
          0.38185869563020763,
          0.34600259128337735,
          0.5716315148603864,
          0.803755377590732,
          0.8818967524129441,
          0.5560602238973946,
          0.136371031209846,
          0.1338391829598632,
          0.19313267402425358,
          0.26237155420790054,
          0.6312791642620686,
          0.7304708403284416,
          0.7741244990496393,
          0.5197790226732362,
          0.5286840391322438,
          0.4649940312244854,
          0.8680289976651898,
          0.7279103406347641,
          0.5015472387733685,
          0.5031754243973955,
          0.8228962953339791,
          1.1948142276611469,
          1.1265543109522043,
          0.6928692425381068,
          0.09305692064636058,
          0.016698448367249145,
          0.021569499464281498,
          0.3226942471491643,
          0.8965635074323863,
          0.7029267300062922,
          0.26680860697942466,
          0.3532270079450443,
          0.369820885943082,
          0.22710863101760242,
          0.30838058234595955,
          0.40212970633714934,
          1.0794332089344252,
          1.594678343067032,
          1.211004296686543,
          0.6041564621502334,
          0.8379227665378282,
          0.6642676650743137,
          0.5474383766922294,
          0.7704852255272829,
          0.745159899214993,
          0.9426370820459008,
          1.1954759086151574,
          1.365015024043308,
          1.2227834203336891,
          0.8895304229366982,
          0.7317594707808961,
          1.3638630731135455,
          0.976435803699298,
          0.34958509586325065,
          0.41405957272342225,
          0.5546078496268506,
          0.546685895469588,
          0.3229110871934154,
          0.20049304324412706,
          0.3875114486453223,
          0.40781421845167254,
          0.2978942054860959,
          0.3800936979777262,
          1.0056770101889179,
          1.055877063588211,
          0.8663493020207387,
          1.0820477429124526,
          1.079719062066989,
          0.483581482812086,
          0.40436971308367514,
          0.6010836139944263,
          0.9853472441793472,
          0.8163607758604562,
          0.7181163807695632,
          1.1675986705647927,
          0.6875592837772926,
          0.9955771707904515,
          0.9296452656357213,
          0.9434664242264107,
          1.105830258232157,
          1.1977691251189695,
          1.2866374274984669,
          1.1923430301118894,
          0.8716099431618985,
          1.0783542081752504,
          1.2572838436275298,
          1.5398774342018977,
          1.6904182526268194,
          0.9718544504363839,
          0.37917956794306446,
          0.3596887969726752,
          1.1569172878035587,
          1.313906135358355,
          0.8657512371288525,
          0.2772399545293217,
          0.4998917546261062,
          1.2536161396515204,
          0.9910022499999043,
          0.5018629961387056,
          0.6734109249450951,
          1.3075652816611614,
          1.5974290841090633,
          1.4697249831495791,
          0.7020380047141235,
          1.3823743383412768
         ],
         "xaxis": "x",
         "y": [
          -0.19425265301587527,
          -0.39592518133842347,
          -0.2589314653254041,
          -0.36754359690979876,
          -0.19214564629098596,
          -0.26665504326356454,
          -0.13597490543720317,
          -0.24368138618049406,
          -0.1683264312434198,
          -0.21704490099067225,
          -0.13369353736802925,
          -0.21704490099067225,
          -0.1683264312434198,
          -0.24368138618049406,
          -0.13597490543720317,
          -0.26665504326356454,
          -0.20831448101947975,
          -0.22684789452626836,
          -0.36821965367551024,
          -0.24685517074516064,
          -0.1240432305849793,
          -0.15688263731397858,
          -0.12048638215144095,
          -0.11570287283155306,
          -0.1240432305849793,
          -0.24685517074516064,
          -0.1517010227456395,
          -0.2755794549593181,
          -0.25642802416079014,
          -0.24420828647914541,
          -0.18777292029191145,
          -0.26819521390755685,
          -0.28359295872303514,
          -0.143839863067559,
          -0.19225924383730697,
          -0.07595518155856641,
          -0.04830019258591988,
          -0.07555470026072324,
          -0.15932154702384752,
          -0.09601359013005878,
          -0.17260536784147815,
          -0.2659811524536615,
          -0.19504009704727213,
          -0.18696316308663033,
          -0.14775742504034314,
          -0.14430938348304442,
          -0.10409062145189245,
          -0.16523720818853635,
          -0.1731718730760845,
          -0.3236991118498705,
          -0.354806962263626,
          -0.15943290755532777,
          -0.26443590833558367,
          -0.2979063503152278,
          -0.13694041701621415,
          -0.11700928856765265,
          -0.10148080457864211,
          -0.19802205518665084,
          -0.16618706645784978,
          -0.29383204180990397,
          -0.33587658008243526,
          -0.17602548606866958,
          -0.18124117271928852,
          -0.11561560693449016,
          -0.16643077187441607,
          -0.13546940027325646,
          -0.08524231160228027,
          -0.1129723748760836,
          -0.1116003837822391,
          -0.14880301336656843,
          -0.2155374179446525,
          -0.2136501672488153,
          -0.14376966296526364,
          -0.16085408236962068,
          -0.12075992285325346,
          -0.11795703883468084,
          -0.11493143787848441,
          -0.12247486117450102,
          -0.18159597126598986,
          -0.24246758201514187,
          -0.09542670747447952,
          -0.039993004492760796,
          -0.04138247688266808,
          -0.07121356956338172,
          -0.13168755414232666,
          -0.13395251516871345,
          -0.13146201042346817,
          -0.10004949656383383,
          -0.17189035512663672,
          -0.19098016615515187,
          -0.16686778249184012,
          -0.16167799519542123,
          -0.17707934726099644,
          -0.23213361021186782,
          -0.2389468758282718,
          -0.1557185304002825,
          -0.1260314915520378,
          -0.08442405929738107,
          -0.11865380568834971,
          -0.11828155566123619,
          -0.250605248835918,
          -0.2786656470695147,
          -0.25535405222665253,
          -0.1425433681314682,
          -0.12603740861782073,
          -0.12028425794883775,
          -0.1771195291927128,
          -0.09299188633100787,
          -0.08666425714933713,
          -0.14624986079731936,
          -0.20260143130546573,
          -0.2673301083680792,
          -0.4622305083198707,
          -0.29316190245201657,
          -0.16605651695029255,
          -0.13593366366346837,
          -0.11292756308373526,
          -0.10397892257750307,
          -0.2396525168630343,
          -0.22639109523913178,
          -0.0962495184837495,
          -0.10640954578800359,
          -0.14752848117426481,
          -0.13642548153709336,
          -0.16055102435026275,
          -0.18334026831838834,
          -0.22297130855608954,
          -0.2888901569149162,
          -0.28158066115309605,
          -0.16536665101037618,
          -0.1719311138308814,
          -0.1546126042973769,
          -0.263260339712435,
          -0.25778918019737285,
          -0.41628391611339727,
          -0.39297108700460454,
          -0.3241285222051967,
          -0.30505766708468524,
          -0.3504132995995299,
          -0.24957754989998174,
          -0.22561340225091214,
          -0.38250079510677537,
          -0.31903480400050177,
          -0.13115219910191445,
          -0.11920326391906604,
          -0.190883880555807,
          -0.30320929272998426,
          -0.26580643590056263,
          -0.1796475567066778,
          -0.16846323343194397,
          -0.20886038903126827,
          -0.2321785765658755,
          -0.22141141452930338,
          -0.32637882507994787,
          -0.21443780002750734,
          -0.27445027549569084,
          -0.37922438133840136,
          -0.300103366658891,
          -0.15767396627736946,
          -0.09956066048635395,
          -0.14398211865715438,
          -0.17778986367583963,
          -0.1630903659115868,
          -0.23257390838808487,
          -0.334130176554418,
          -0.18007043864678818,
          -0.21581866019331578,
          -0.2188803131855539,
          -0.20840958705272808,
          -0.20356750380270466,
          -0.2549820869063902,
          -0.2663181011458176,
          -0.2328738189975244,
          -0.27167589686624194,
          -0.4055592208038571,
          -0.3439640774807076,
          -0.3532422089558098,
          -0.3747454704917367,
          -0.27630653990649634,
          -0.1791473724225076,
          -0.26268149949755293,
          -0.3535903512027914,
          -0.35461610004544786,
          -0.3619671333777393,
          -0.1595974396307251,
          -0.25493087818442667,
          -0.414190170737987,
          -0.24167102636637697,
          -0.23212332967914426,
          -0.3888583945676408,
          -0.3173063398910946,
          -0.28288514226850897,
          -0.3006671763309505,
          -0.1814945467678208,
          -0.26801855690330084
         ],
         "yaxis": "y"
        },
        {
         "hovertemplate": "Type=glycogen<br>PCA_1=%{x}<br>PCA_2=%{y}<extra></extra>",
         "legendgroup": "glycogen",
         "marker": {
          "color": "#EF553B",
          "symbol": "circle"
         },
         "mode": "markers",
         "name": "glycogen",
         "orientation": "v",
         "showlegend": true,
         "type": "scatter",
         "x": [
          -0.6744447326165763,
          -0.9045082566877015,
          -0.9696674405719521,
          -1.053077356039875,
          -0.7897846652120107,
          -0.9436322106277377,
          -0.6041025060959543,
          -0.6924779086225366,
          -0.946099637195623,
          -0.9324053310452921,
          -0.8229376209812332,
          -0.9595399894536352,
          -1.1687297937562433,
          -0.749651794231881,
          -0.9267865672480292,
          -0.982214547790598,
          -1.0230548651064082,
          -0.9291366456249582,
          -0.5406845354097155,
          0.042217519546029696,
          -0.4221172382601562,
          -0.6376439424717867,
          -1.0728085561251124,
          -0.9773921418234792,
          -1.1987363520977241,
          -1.0284616133300601,
          -0.7308300482468925,
          0.12572241779864565,
          -0.18420890841941986,
          -0.3373567990862308,
          -0.6528819353717139,
          -0.9210997581966186,
          -0.8039921282329082,
          -0.8410958785740709,
          -0.6347810249381909,
          -0.37038821436475194,
          -0.8495323712321863,
          -0.8405612005869831,
          -1.0301368675673432,
          -0.9441868189177887,
          -0.6585176983223976,
          -0.9774921180848748,
          -1.0557995424609188,
          -1.1575728322530017,
          -1.1114497942887207,
          -1.1417570586370112,
          -0.8687127128153117,
          -1.0372588323984728,
          -0.9109127435318574,
          -0.8463488411087183,
          -0.704306321719853,
          -0.9467329921901722,
          -0.8917975278980085,
          -0.4705295439556829,
          -0.46837585972569407,
          -0.8711120633846529,
          -0.5712475777691302,
          -0.7050894039597791,
          -0.635364807327239,
          -0.6976766765135295,
          -0.6398576165581581,
          -0.7201686429804325,
          -0.9531422532107204,
          -0.9067335091395037,
          -0.8806993462238374,
          -0.7178617078770397,
          -0.8592691006548344,
          -0.8597662111270816,
          -0.6018789801565503,
          -0.7967466875086658,
          -0.9534609624542036,
          -0.8290239683046707,
          -1.0502418195204615,
          -0.853213910834251,
          -1.1382490446804043,
          -0.6951291207237414,
          -0.49360968163025465,
          -0.6514174409482284,
          -0.9475152197001354,
          -1.0436009771176522,
          -0.7603400478441216,
          -0.7964656237702888,
          -1.0439940622945132,
          -1.0256395193602188,
          -1.0080472685158302,
          -0.8230743119139148,
          -0.6085606487849274,
          -0.7746174949460342,
          -0.8269975894394735,
          0.20453159256302725,
          0.4122293454001039,
          -0.7461034021475914,
          -1.122106769740315,
          -0.7896816922825354,
          -0.4354811404274415,
          -0.8023352297322367,
          -0.6112319637142136,
          -0.5702258736117906,
          -0.9475152197001354,
          -1.0436009771176522,
          -0.8563467504890061,
          -0.6514174409482284,
          -0.6785079864072368,
          -0.6421886417041892,
          -0.8352910764803867,
          -0.25636706523089564,
          -0.8522342198464417,
          -0.6921737004058555,
          -0.8075886983168736,
          -0.9328937464427772,
          -0.9600400468697314,
          -1.0343321523686981,
          -0.6689114410524594,
          -0.6435022009314952,
          -0.609664551161127,
          -0.5016221668625792,
          -0.6940942018506601,
          -0.4572670365865998,
          -0.940100203163368,
          -1.2611995511156808,
          -1.1108324113692587,
          -0.6831400565179051,
          -0.790942452607132,
          -0.5038678988154865,
          -0.6588840912177877,
          -0.9259013565725202,
          -0.2791010282521385,
          -0.32089850724298397,
          -0.6830040583560953,
          -0.4958198362015571,
          -0.32729725396614917,
          -0.6380348220037106,
          -0.6405270659229648,
          -0.5779612569346386,
          -0.841179670803479,
          -0.5021295693036052,
          -1.014084406650098,
          -0.7844526792390272,
          -0.9536499661072905,
          -1.1725603806541598,
          -1.0758712640216996,
          -0.8476222130960281,
          -0.8532129839321392,
          -0.6085883552072933,
          -0.7944293137829973,
          -0.5372679803543139,
          -0.2613438203697299,
          -1.1429620591165877,
          -0.908697277371214,
          -0.5095619018726795,
          -0.8217010337424432,
          -0.9031074637228728,
          -0.5797510246068275,
          -0.9476440701889581,
          -0.8836789001157644,
          -0.6584600686329982,
          -1.0456069361048013,
          -1.3105908292964705,
          -1.0498273485912706,
          -1.3305366469807076,
          -0.8059915476318213,
          -0.4322981284611335,
          -1.1204914453294825,
          -1.3546864823188358,
          -0.8809608008083116,
          -0.7735615194142164,
          -1.1967622145260963,
          -0.5320537244038036,
          -0.993330806806687,
          -0.5482570667380268,
          -0.1437508110029794,
          -0.4787373103420955,
          -0.6906490517337825,
          -0.6416964845991926,
          -0.33500572961097724,
          -0.8291961007633114,
          -0.8455218289969477,
          -0.8350966847750203,
          -0.6587123926281578,
          -0.569539525031688,
          -0.28938114261447645,
          -0.9456850129524623,
          -0.8056951949791393,
          -0.7442914806506138,
          -0.44535923439376784,
          -0.38786224182390366,
          -0.6759104319250157,
          -0.3744130408643044,
          -0.8971542601327421,
          -0.8971542601327421,
          -0.636742888695081,
          -0.37828685470096196,
          0.01209864423402951,
          -0.5449379715307242,
          -0.6417851796021846,
          -0.5700396430443244,
          -0.773360361960737,
          -0.7579041901975184,
          -0.7579041901975184,
          -0.6759104319250157,
          -0.3744130408643044,
          -0.636742888695081,
          -0.0740245865635816,
          -0.5513054730614008,
          -0.4869347402470954,
          -0.05602812273104306,
          -0.7270270801198492,
          -1.0246810075958392,
          -0.2839443441088555,
          -0.14881028597835194,
          -0.22029305767054422,
          -0.05602812273104306
         ],
         "xaxis": "x",
         "y": [
          -0.3078914886571629,
          -0.3340206245798083,
          -0.3104741186628405,
          -0.3270102212064423,
          -0.2627415387577375,
          -0.2786636311917354,
          -0.24020069432472976,
          -0.23050047609692464,
          -0.2653596165746621,
          -0.33045713489877593,
          -0.32227159220499046,
          -0.3891525111591856,
          -0.43864171381688366,
          -0.3861752625807326,
          -0.363514572921189,
          -0.25163917936834995,
          -0.3394587331564715,
          -0.30212238019969495,
          -0.3377322645116128,
          -0.3114422854768384,
          -0.3412010431286814,
          -0.3137415879395394,
          -0.35828403241852075,
          -0.3979189982777945,
          -0.44430462954830413,
          -0.31840487351291624,
          -0.3211002675298023,
          -0.3002425866244018,
          -0.27741282215981783,
          -0.27231464524746246,
          -0.3105648828915849,
          -0.24183104797661872,
          -0.24743125611426495,
          -0.29274533360225397,
          -0.29438028002706496,
          -0.2874445901744564,
          -0.3140384466303531,
          -0.3250672294483748,
          -0.3744533754804386,
          -0.3525154000787307,
          -0.2968235084616272,
          -0.34522476871351443,
          -0.4174113533596759,
          -0.4442909145236673,
          -0.38838366264159524,
          -0.37947578525180725,
          -0.31908094602994924,
          -0.3494890254025394,
          -0.3416852471601241,
          -0.338520631727824,
          -0.1038302032048329,
          -0.15474460937749546,
          -0.22088529987172664,
          -0.2713024177993546,
          -0.3418378765183161,
          -0.35319769305244414,
          -0.3035661587055314,
          -0.2580448048002927,
          -0.18160147186940717,
          -0.30894933278543885,
          -0.13887006574474406,
          -0.15203827548083068,
          -0.2876896460145304,
          -0.3616306766425839,
          -0.3295853542135865,
          -0.28427390438811345,
          -0.3461673889929457,
          -0.312496884390928,
          -0.2117657239790053,
          -0.28121997781339725,
          -0.33575202213937055,
          -0.2701878560036283,
          -0.38531439365484127,
          -0.3244473612786333,
          -0.42779786531746156,
          -0.23934269967302663,
          -0.28933014991542,
          -0.3560647131061006,
          -0.35410537226136113,
          -0.34148917092037917,
          -0.3068409842464269,
          -0.25167515595954615,
          -0.39252928867845727,
          -0.40184692372997477,
          -0.4246827116224708,
          -0.36251496666652105,
          -0.26671953550272137,
          -0.34620307712520487,
          -0.3452800596148877,
          -0.29499863594461834,
          -0.33314029447896887,
          -0.38691094410791366,
          -0.4414476973030528,
          -0.2936026536278631,
          -0.339813458007056,
          -0.32752778391751913,
          -0.33011047385114756,
          -0.3130730953111849,
          -0.35410537226136113,
          -0.34148917092037917,
          -0.34230483725988636,
          -0.3560647131061006,
          -0.35750166223788216,
          -0.40197180347718,
          -0.36209729120722495,
          -0.42873743656782637,
          -0.38650386846914975,
          -0.3485901585656194,
          -0.3405910410534775,
          -0.3374478814213848,
          -0.33488133060579656,
          -0.3488349085697363,
          -0.3643095551346914,
          -0.3608781983838953,
          -0.3846509493173499,
          -0.3925944354011332,
          -0.2780119957306486,
          -0.3482774848958365,
          -0.3279113769184839,
          -0.44095429469379854,
          -0.45004872133723584,
          -0.3462734352536159,
          -0.289935863345836,
          -0.34385079099771076,
          -0.3147324836441015,
          -0.3459955451823968,
          -0.2618074362421643,
          -0.22979507069407154,
          -0.2608068060198368,
          -0.22251331593666582,
          -0.27047365143475033,
          -0.23647267447380935,
          -0.1154311116912428,
          -0.24902373422347063,
          -0.37573863999464346,
          -0.3826478312652936,
          -0.37511613577074593,
          -0.28386509632185625,
          -0.3183231863322902,
          -0.4339418724181853,
          -0.39690040300287666,
          -0.2805399069637918,
          -0.3302145492202112,
          -0.3678089524397646,
          -0.3005068686717652,
          -0.28236990160037034,
          -0.2765190835801411,
          -0.45253091069101997,
          -0.3077222321229884,
          -0.36555932733905777,
          -0.26785199778039415,
          -0.31192100027677316,
          -0.3317672738641968,
          -0.3617568881591199,
          -0.35338785126192346,
          -0.2696225238051594,
          -0.31150971744445155,
          -0.3517921134700116,
          -0.29289694958359325,
          -0.41651793761756173,
          -0.3581915309643877,
          -0.4076562563472537,
          -0.5295490769271813,
          -0.5292150227686853,
          -0.4020394859897343,
          -0.3141176636962116,
          -0.26625928924978803,
          -0.1915248445631225,
          -0.45972410532525654,
          -0.34638907023838894,
          -0.4230123002885352,
          -0.25022025054318103,
          -0.35636857202839733,
          -0.2917684542481939,
          -0.4925759397200462,
          -0.4311411260754629,
          -0.3071322138466425,
          -0.31309752045266653,
          -0.4868230097998739,
          -0.4858183874463199,
          -0.4507894348359376,
          -0.3942980711515064,
          -0.2805875722567935,
          -0.34104337675558305,
          -0.24570254619151294,
          -0.20579637207606952,
          -0.2474483388930003,
          -0.3236457259949059,
          -0.39395652436292616,
          -0.39395652436292616,
          -0.33238393632408986,
          -0.22599179617270634,
          -0.15330042819440426,
          -0.32812717150024107,
          -0.2735259288591073,
          -0.22210257648782394,
          -0.3323016147847183,
          -0.25674470390841614,
          -0.25674470390841614,
          -0.2474483388930003,
          -0.3236457259949059,
          -0.33238393632408986,
          -0.34169542884959625,
          -0.21008587831099768,
          -0.2862573920800627,
          -0.3180257687570437,
          -0.30628508739814236,
          -0.26402248312584836,
          -0.1654879597761279,
          -0.3278109784373595,
          -0.2609027160630396,
          -0.3180257687570437
         ],
         "yaxis": "y"
        },
        {
         "hovertemplate": "Type=lipids<br>PCA_1=%{x}<br>PCA_2=%{y}<extra></extra>",
         "legendgroup": "lipids",
         "marker": {
          "color": "#00cc96",
          "symbol": "circle"
         },
         "mode": "markers",
         "name": "lipids",
         "orientation": "v",
         "showlegend": true,
         "type": "scatter",
         "x": [
          -0.39217928139944386,
          -0.1816306428223188,
          0.1774450178307301,
          0.06546462164409447,
          -0.2480712750035457,
          0.515257670300231,
          -0.31070265675533026,
          -0.5216857621353106,
          -0.19032037609804067,
          -0.5855744410525147,
          -0.35831080817172817,
          0.40436015092395855,
          0.781520299776026,
          0.16225205181531244,
          -0.17363842183837763,
          -0.48849137332271375,
          0.016070363570028348,
          -0.26572735414150145,
          -0.21188336974260286,
          -0.020142741049023517,
          -0.07168629358265331,
          -0.13971689469358647,
          -0.15415809665751715,
          0.30997032412200953,
          0.06847154474584248,
          -0.20354729216810502,
          -0.39951694489008693,
          0.13301392673417106,
          0.301735328165345,
          0.19562991762881113,
          0.5630174934419028,
          0.0010327139215892726,
          -0.43318864864308154,
          -0.7105272712738531,
          -0.3771671806592889,
          -0.24174199082102366,
          0.42729351300937984,
          0.6025778803473286,
          0.18894637676247797,
          0.02142581489856865,
          -0.007621198401545252,
          -0.32914257398795677,
          -0.2917458318820412,
          0.06567453731758296,
          -0.13086939580227508,
          -0.3179700389436019,
          -0.08511263576522685,
          0.08748560293612612,
          -0.27840893858700644,
          -0.5107935522195324,
          0.02433495933541098,
          -0.24416546454437124,
          0.5381266653655196,
          0.2757953355538522,
          0.3087860146086879,
          0.25226725425847646,
          -0.28184557342387273,
          -0.22662359455092615,
          0.1943694239761019,
          0.32016983423099027,
          0.2106359502130181,
          0.2630313882984113,
          0.05396266254421631,
          -0.12780454485356568,
          -0.5526931532408863,
          0.0077664142468080845,
          0.048459510513187,
          -0.0273375429126695,
          0.7653187992476655,
          0.34023356718701736,
          -0.15478633523782465,
          -0.21731861791966214,
          -0.021005325993072838,
          0.22902165283991957,
          -0.23437324151775282,
          -0.36690966802698066,
          -0.15678026561690533,
          -0.5016815205587905,
          -0.5548538644189771,
          -0.5162755819973646,
          -0.5532417992863383,
          -0.43053039102087654,
          0.20264341624622842,
          -0.0012751612218158833,
          -0.20902853793261336,
          -0.14530437560373538,
          -0.3512006025925396,
          -0.04993210005645003,
          -0.10432653942075597,
          -0.09402178010851688,
          -0.5899577791906235,
          -0.5662340602753949,
          -0.298487391170979,
          -0.18825711384634078,
          0.2126801067525312,
          -0.2199200861056044,
          -0.15206028455682882,
          -0.522603319753822,
          -0.2601321134509196,
          -0.20828342928081006,
          -0.22485047147675488,
          -0.584942723248539,
          -0.506873247053498,
          -0.47457093969046665,
          -0.12314975389306652,
          0.081201998204991,
          -0.07612398098196092,
          0.1121618886411268,
          0.19651457146676507,
          -0.054038875950892344,
          -0.09135506901503404,
          0.24481342104771212,
          0.2804319758051164,
          0.2352710307738008,
          0.18002919809677959,
          -0.12183634409945285,
          0.20362717573155603,
          0.029888472673986238,
          0.29474927802168766,
          0.7079430610928894,
          -0.03297579507460681,
          -0.12812751236598333,
          0.12887101908378978,
          0.16292833420018,
          -0.37105421668499294,
          -0.43950991004414725,
          -0.2915570978187324,
          -0.27310817714467195,
          -0.5387417035422163,
          -0.6863247403826903,
          -0.39552661951494333,
          -0.3168324390009624,
          -0.22835325036474466,
          -0.14646775561065647,
          -0.358272628918554,
          -0.07182649925504009,
          -0.4300646093449481,
          -0.4684822383790178,
          -0.5013133052992886,
          -0.48703677592225414,
          -0.41485243180953285,
          -0.4109167230470092,
          -0.20001576736357657,
          0.0268785960116813,
          0.09131527085091297,
          0.12652713725963025,
          0.10660803349299582,
          -0.008845887691655398,
          -0.17172337460840187,
          0.27689560929806084,
          0.03411273730142459,
          -0.3097935835195252,
          0.15363767494954833,
          0.23639614773017711,
          -0.2040318306225499,
          -0.1492763351460368,
          0.2864839966945961,
          0.40037196138360975,
          0.40037196138360975,
          0.1262799358714432,
          -0.20498230475702697,
          -0.206269837163543,
          -0.007326041874799508,
          0.10992654214789592,
          0.26410701768936357,
          0.07361058452280708,
          -0.194921522420028,
          -0.34999700165555603,
          -0.07851333903713928,
          -0.22035785619904702,
          -0.19132477679046114,
          -0.35830246925966286,
          -0.24175340676457382,
          -0.39984014003342316,
          0.20366324162896465,
          -0.024332799655353513,
          -0.5696539516035959,
          -0.5522154526025446,
          -0.31915016675361707,
          -0.47130876042909514,
          -0.6917071130828328,
          -0.4669806294568651,
          -0.37217319093041185,
          -0.26293096024245366,
          -0.3962033216949332,
          -0.30197793124479777,
          -0.30239908471125176,
          -0.13870910146842635,
          -0.19896711663522554,
          -0.010876738775531495,
          -0.3100935989386666,
          -0.1292284422308435,
          0.21538833865135415,
          -0.4497588326630551,
          -0.3476391239339749,
          0.17269290720335545,
          0.09962559502010751,
          -0.28949344161976187,
          -0.38854131740676384,
          -0.15422559933630106,
          -0.39363275218433164,
          -0.05747893706316494,
          -0.2280809191989558,
          -0.023241729727878607,
          0.13124092104584825,
          -0.011395521692621757,
          -0.3278750663596778,
          -0.6966251533105878,
          -0.48939725523375366,
          -0.4762305468717023,
          -0.2910923386257886,
          -0.18644308793731323,
          -0.3221151195345081,
          -0.12370144858140679
         ],
         "xaxis": "x",
         "y": [
          0.6910945964068149,
          0.40417147928463876,
          0.10464549582125444,
          0.18517899062420465,
          0.22578616639318652,
          0.06625853479965282,
          0.21407302120094568,
          0.3614560166524912,
          0.4194661386798003,
          0.9145768320350559,
          0.7139397385396707,
          0.34396433813038274,
          0.31464799374917135,
          0.8660412609701187,
          0.5183142458639624,
          0.44386648749131535,
          0.29466372187503,
          0.36132099683842867,
          0.5077876926179729,
          0.5946664532515299,
          0.1967877011052609,
          0.3036722221735132,
          0.6103094016328404,
          0.35333303357031826,
          0.25082596018537734,
          0.4108345367924754,
          0.3407717553800747,
          0.41062006927051103,
          0.3666069555731659,
          0.6784654083880256,
          0.28099338980914634,
          0.6217053384661781,
          0.4016050147966291,
          0.27973054228708677,
          0.2763997746567385,
          0.27788276151335145,
          0.1913140844878648,
          0.26908723867747586,
          0.3004564624056877,
          0.21266293920159327,
          0.24211488266205947,
          0.2703677804268341,
          0.3701804875568464,
          0.27371302330285796,
          0.44787236492920807,
          0.44257400423080706,
          0.5163575238965389,
          0.20332233372154812,
          0.33366250534310143,
          0.5311809303727637,
          0.2393321228774465,
          0.5857043740044557,
          0.2522208112495346,
          0.18954333645629082,
          0.2070987775045426,
          0.5082940464958539,
          0.8609852173368028,
          0.7143665068193144,
          0.4176069848499693,
          0.47520506076886176,
          0.48659061923097685,
          0.6853342836926382,
          1.1091881056045383,
          1.0703233368549767,
          1.0457401205726773,
          1.012373371464236,
          0.8907444844912348,
          0.702859678819652,
          0.2659281489077446,
          0.36067696532622867,
          0.8285614910294504,
          0.5405478833212923,
          0.4747751492813402,
          0.24455481921494587,
          1.101922889900873,
          0.9439061621981896,
          0.6620313519763764,
          0.5142972606445242,
          0.46042466242922536,
          0.6086087983096189,
          0.9403995129020503,
          0.6057657197873516,
          0.8825616810339673,
          0.7120507978845284,
          0.5017130177888123,
          0.5515429639883311,
          0.5109765675771529,
          0.5084229960388005,
          0.6784277014633397,
          0.8107425801187892,
          0.6930864305836015,
          0.60403076514424,
          0.48419734743437465,
          0.5642226134788473,
          0.5913776872656233,
          0.7863912688287266,
          0.5018673863745657,
          0.6232362026723607,
          0.3783743565672258,
          0.818852682662339,
          0.3735585233827627,
          0.495740372769896,
          0.5018830976727471,
          0.743949991106179,
          0.7529124884656024,
          0.8383287208756985,
          0.6270064057900464,
          0.561411127094296,
          0.5269949456955497,
          0.5657064792283462,
          0.6699797060401463,
          0.39168803259232543,
          0.4583158166909335,
          0.6809193020702292,
          0.29110569306306244,
          0.5012892426495036,
          0.6255685468674738,
          0.9529087707860316,
          0.6070397227135698,
          0.34127133970107454,
          0.7400060535546291,
          0.6218877738935327,
          0.22584703937601402,
          0.22249273136205197,
          0.48338316274132564,
          0.6634115999378372,
          0.7654362563296934,
          0.6504551674882383,
          0.8473133642710926,
          0.6370556614005426,
          0.4512677065870323,
          0.41700249626221886,
          0.3543928493748794,
          0.5382710885739362,
          0.41420343071945115,
          0.5520847577182727,
          0.49383226356225063,
          0.5438738666090819,
          0.470251187014993,
          0.8563953175444807,
          0.6805000109181184,
          0.5029850315314753,
          0.47801751409706456,
          0.23733041958547996,
          0.37983705013965735,
          0.7188931581142036,
          0.6472679737931935,
          0.5357811529938278,
          0.705245279872858,
          0.5385944721940455,
          0.48296373667133535,
          1.0092040873904444,
          0.5239672187016344,
          0.5500078044116871,
          0.4988111758271604,
          0.22996691070533787,
          0.26567041751817005,
          0.37378222101227093,
          0.37378222101227093,
          0.4972321424579326,
          0.3954943756336295,
          0.32883612889122554,
          0.27407680526406075,
          0.3003281679745652,
          0.29937342661900185,
          0.3390817495340283,
          0.562357462271206,
          0.3970502392574522,
          0.368259063903697,
          0.4534083035393151,
          0.6550733712942278,
          0.7394178059092178,
          0.3980078048687233,
          0.49564287594059847,
          0.4077306465629993,
          0.4275516261457149,
          0.5195409811919832,
          0.5107282970642093,
          0.5095038437807473,
          0.46638860731051773,
          0.4707222217796552,
          0.4853458883408278,
          0.604989177012494,
          0.5896121079090978,
          0.418496128499763,
          0.6708669233748863,
          0.5565759982845381,
          0.7579592447036451,
          0.6423865314624974,
          0.7620752670942829,
          0.5673569093374213,
          0.2010782157095933,
          0.15129955321327698,
          0.5867755154897789,
          0.8153003356706668,
          0.33475089336383357,
          0.551170117601556,
          0.45913479323000767,
          0.49064315633723393,
          0.3707967319236073,
          0.3601917824480938,
          0.25449775874185776,
          0.42156667765983086,
          0.7233428214614553,
          0.45974930858024066,
          0.0849323519022212,
          0.5488306045710488,
          0.6696689097572709,
          0.5404840579431415,
          0.4278121606967942,
          0.5326420023340188,
          0.590642740439096,
          0.40920398434091926,
          0.504344091249535
         ],
         "yaxis": "y"
        },
        {
         "hovertemplate": "Type=DNA<br>PCA_1=%{x}<br>PCA_2=%{y}<extra></extra>",
         "legendgroup": "DNA",
         "marker": {
          "color": "#ab63fa",
          "symbol": "circle"
         },
         "mode": "markers",
         "name": "DNA",
         "orientation": "v",
         "showlegend": true,
         "type": "scatter",
         "x": [
          0.7186261261351905,
          0.9019775474508156,
          0.5455937426095009,
          0.7474893391531596,
          0.6792139155100239,
          0.806557009038943,
          0.698560194393143,
          0.916773536039182,
          0.9685183473311497,
          0.7561526202340145,
          0.9863585794175763,
          1.1466461831426085,
          0.7219158111316102,
          0.8700458895421793,
          1.3171456603956844,
          0.43190358481815977,
          0.9062228057769364,
          1.2440336517119348,
          0.6227814705156757,
          0.6032421856778496,
          0.5041755437241902,
          0.8160313724828908,
          0.6567571952671934,
          -0.05651624404093903,
          1.1378151167251591,
          0.5723258834759097,
          0.9545222626606101,
          0.3074061496955444,
          1.194898477239893,
          1.3232584514372563,
          0.8286645441582811,
          0.3142719823511306,
          0.11388275520343757,
          0.46577126841732813,
          0.06980714242334579,
          -0.08930100436758515,
          -0.14780526402398836,
          0.07668062588380754,
          0.5059810427562393,
          0.5203508727825706,
          0.3007084799148536,
          0.34792879003832106,
          0.9298818532732587,
          0.06295788511087468,
          0.01089684702220919,
          0.4537029759760196,
          -0.01806638392272951,
          0.783246498433399,
          0.41562549653190023,
          0.5203508727825706,
          0.5059810427562393,
          0.07668062588380754,
          -0.14780526402398836,
          0.4347256148216525,
          0.41069949916005216,
          -0.04680191630356317,
          0.5843797784628609,
          -0.019305281563452823,
          0.16865197144679503,
          0.5458599880642004,
          0.05046944335068837,
          -0.11863111320633343,
          -0.07672089011395827,
          0.4252929092993302,
          -0.007948381440401081,
          0.08702048375261347,
          0.18347462417805724,
          0.15238447902319974,
          -0.1321639100151793,
          0.12854457281069762,
          -0.09730326496370549,
          -0.045470785292260396,
          0.4314136059161267,
          0.18575415143275625,
          0.20069179707404936,
          0.21927563789732352,
          -0.13474139658927056,
          -0.1565353824533438,
          -0.25718418343862764,
          -0.1274347568675736,
          0.016435629210195198,
          0.609602367875683,
          0.20457063590844823,
          0.5079781322929237,
          1.053522866508281,
          0.5993672512841229,
          0.30162309514057895,
          0.25182792896123174,
          0.28377710210114787,
          0.20456871770444487,
          1.149942768235886,
          1.4041488131121014,
          1.103182845031418,
          0.4180065504211092,
          0.5252660598398058,
          1.45149275614956,
          1.5299598913728656,
          0.9629427129770657,
          0.9100557159598333,
          0.8855757058845757,
          1.087375306478985,
          0.6855235914342366,
          0.6883148661376092,
          1.3714201018901369,
          0.8082470882094185,
          1.3292105245339667,
          0.8518524686052453,
          0.28301944286786457,
          0.1072290769619815,
          0.5979833053611107
         ],
         "xaxis": "x",
         "y": [
          -0.0991675519600261,
          -0.1489903831757398,
          -0.1291679670948235,
          -0.12322348521422237,
          -0.13260849896990196,
          -0.1918828003782158,
          -0.1417605222379591,
          -0.16015704269467249,
          -0.15146359951002655,
          -0.10629441248791349,
          -0.1835220077140637,
          -0.21393146595113863,
          -0.014175225011085183,
          -0.04491304965999519,
          -0.14899707942536794,
          0.03271715949704826,
          -0.04600552112171357,
          -0.09444155501830394,
          0.01578168993879402,
          0.04846865580212064,
          0.017882451877916945,
          -0.02623202754838673,
          -0.1799587241413648,
          0.13152837424377703,
          -0.14385794177688135,
          0.006284235148801795,
          -0.08769697764161288,
          -0.010368750663325104,
          -0.15618084990051953,
          -0.13681397733084674,
          0.025740333982450236,
          0.07280549762731203,
          0.15307266545020262,
          0.07890505091575102,
          0.13235459984353304,
          0.14740931399195112,
          0.1115697434098924,
          0.07065874935335903,
          0.008075890650846755,
          0.03674494027590524,
          0.06450942551406988,
          0.028962504496418476,
          -0.08364250789929495,
          0.07802993706205211,
          0.0832423553682774,
          -0.00828394592957864,
          0.043561697489562436,
          -0.06460688216427385,
          0.0653422557730766,
          0.03674494027590524,
          0.008075890650846755,
          0.07065874935335903,
          0.1115697434098924,
          -0.030324718637732118,
          0.09491398036820287,
          0.12651957732602812,
          0.014740323455772154,
          0.10682616895919061,
          0.11135787577078467,
          0.048501541836753,
          0.11509297602787438,
          0.11452151667140965,
          0.12008950277089193,
          0.033504509822305725,
          0.09648501996204822,
          0.10653383469229336,
          0.12264977521197631,
          0.10981448518343238,
          0.15813779332893813,
          0.119291398970768,
          0.12214620400050855,
          0.13099303086819805,
          0.10011085942948972,
          0.16049951358861975,
          0.10919408412030639,
          0.08268920096052441,
          0.1292515668713574,
          0.1388330810569008,
          0.1634892223636489,
          0.11843779211012867,
          0.07544370834724698,
          -0.003584623391864722,
          0.010763027235807545,
          -0.028172767633504025,
          -0.12796014942934592,
          -0.06664180951644709,
          0.04673041999687779,
          0.06672254321177369,
          0.040919019270689756,
          0.0530281588633112,
          -0.07858274201020227,
          -0.10621380081562669,
          -0.05918198239827554,
          0.034560650679154516,
          0.0018310130234344781,
          -0.16051941452329188,
          -0.16802469110638557,
          -0.03204956785077565,
          -0.012078213252852592,
          -0.1603955830596158,
          -0.08548242358679815,
          0.002557111614003353,
          -0.03975793772602686,
          -0.15018964427416506,
          -0.03936384596347248,
          -0.18868160796050992,
          -0.08293089796780621,
          -0.008858560861491858,
          0.04892642130749723,
          0.008394567464879484
         ],
         "yaxis": "y"
        }
       ],
       "layout": {
        "legend": {
         "title": {
          "text": "Type"
         },
         "tracegroupgap": 0
        },
        "margin": {
         "t": 60
        },
        "template": {
         "data": {
          "bar": [
           {
            "error_x": {
             "color": "#2a3f5f"
            },
            "error_y": {
             "color": "#2a3f5f"
            },
            "marker": {
             "line": {
              "color": "#E5ECF6",
              "width": 0.5
             },
             "pattern": {
              "fillmode": "overlay",
              "size": 10,
              "solidity": 0.2
             }
            },
            "type": "bar"
           }
          ],
          "barpolar": [
           {
            "marker": {
             "line": {
              "color": "#E5ECF6",
              "width": 0.5
             },
             "pattern": {
              "fillmode": "overlay",
              "size": 10,
              "solidity": 0.2
             }
            },
            "type": "barpolar"
           }
          ],
          "carpet": [
           {
            "aaxis": {
             "endlinecolor": "#2a3f5f",
             "gridcolor": "white",
             "linecolor": "white",
             "minorgridcolor": "white",
             "startlinecolor": "#2a3f5f"
            },
            "baxis": {
             "endlinecolor": "#2a3f5f",
             "gridcolor": "white",
             "linecolor": "white",
             "minorgridcolor": "white",
             "startlinecolor": "#2a3f5f"
            },
            "type": "carpet"
           }
          ],
          "choropleth": [
           {
            "colorbar": {
             "outlinewidth": 0,
             "ticks": ""
            },
            "type": "choropleth"
           }
          ],
          "contour": [
           {
            "colorbar": {
             "outlinewidth": 0,
             "ticks": ""
            },
            "colorscale": [
             [
              0,
              "#0d0887"
             ],
             [
              0.1111111111111111,
              "#46039f"
             ],
             [
              0.2222222222222222,
              "#7201a8"
             ],
             [
              0.3333333333333333,
              "#9c179e"
             ],
             [
              0.4444444444444444,
              "#bd3786"
             ],
             [
              0.5555555555555556,
              "#d8576b"
             ],
             [
              0.6666666666666666,
              "#ed7953"
             ],
             [
              0.7777777777777778,
              "#fb9f3a"
             ],
             [
              0.8888888888888888,
              "#fdca26"
             ],
             [
              1,
              "#f0f921"
             ]
            ],
            "type": "contour"
           }
          ],
          "contourcarpet": [
           {
            "colorbar": {
             "outlinewidth": 0,
             "ticks": ""
            },
            "type": "contourcarpet"
           }
          ],
          "heatmap": [
           {
            "colorbar": {
             "outlinewidth": 0,
             "ticks": ""
            },
            "colorscale": [
             [
              0,
              "#0d0887"
             ],
             [
              0.1111111111111111,
              "#46039f"
             ],
             [
              0.2222222222222222,
              "#7201a8"
             ],
             [
              0.3333333333333333,
              "#9c179e"
             ],
             [
              0.4444444444444444,
              "#bd3786"
             ],
             [
              0.5555555555555556,
              "#d8576b"
             ],
             [
              0.6666666666666666,
              "#ed7953"
             ],
             [
              0.7777777777777778,
              "#fb9f3a"
             ],
             [
              0.8888888888888888,
              "#fdca26"
             ],
             [
              1,
              "#f0f921"
             ]
            ],
            "type": "heatmap"
           }
          ],
          "heatmapgl": [
           {
            "colorbar": {
             "outlinewidth": 0,
             "ticks": ""
            },
            "colorscale": [
             [
              0,
              "#0d0887"
             ],
             [
              0.1111111111111111,
              "#46039f"
             ],
             [
              0.2222222222222222,
              "#7201a8"
             ],
             [
              0.3333333333333333,
              "#9c179e"
             ],
             [
              0.4444444444444444,
              "#bd3786"
             ],
             [
              0.5555555555555556,
              "#d8576b"
             ],
             [
              0.6666666666666666,
              "#ed7953"
             ],
             [
              0.7777777777777778,
              "#fb9f3a"
             ],
             [
              0.8888888888888888,
              "#fdca26"
             ],
             [
              1,
              "#f0f921"
             ]
            ],
            "type": "heatmapgl"
           }
          ],
          "histogram": [
           {
            "marker": {
             "pattern": {
              "fillmode": "overlay",
              "size": 10,
              "solidity": 0.2
             }
            },
            "type": "histogram"
           }
          ],
          "histogram2d": [
           {
            "colorbar": {
             "outlinewidth": 0,
             "ticks": ""
            },
            "colorscale": [
             [
              0,
              "#0d0887"
             ],
             [
              0.1111111111111111,
              "#46039f"
             ],
             [
              0.2222222222222222,
              "#7201a8"
             ],
             [
              0.3333333333333333,
              "#9c179e"
             ],
             [
              0.4444444444444444,
              "#bd3786"
             ],
             [
              0.5555555555555556,
              "#d8576b"
             ],
             [
              0.6666666666666666,
              "#ed7953"
             ],
             [
              0.7777777777777778,
              "#fb9f3a"
             ],
             [
              0.8888888888888888,
              "#fdca26"
             ],
             [
              1,
              "#f0f921"
             ]
            ],
            "type": "histogram2d"
           }
          ],
          "histogram2dcontour": [
           {
            "colorbar": {
             "outlinewidth": 0,
             "ticks": ""
            },
            "colorscale": [
             [
              0,
              "#0d0887"
             ],
             [
              0.1111111111111111,
              "#46039f"
             ],
             [
              0.2222222222222222,
              "#7201a8"
             ],
             [
              0.3333333333333333,
              "#9c179e"
             ],
             [
              0.4444444444444444,
              "#bd3786"
             ],
             [
              0.5555555555555556,
              "#d8576b"
             ],
             [
              0.6666666666666666,
              "#ed7953"
             ],
             [
              0.7777777777777778,
              "#fb9f3a"
             ],
             [
              0.8888888888888888,
              "#fdca26"
             ],
             [
              1,
              "#f0f921"
             ]
            ],
            "type": "histogram2dcontour"
           }
          ],
          "mesh3d": [
           {
            "colorbar": {
             "outlinewidth": 0,
             "ticks": ""
            },
            "type": "mesh3d"
           }
          ],
          "parcoords": [
           {
            "line": {
             "colorbar": {
              "outlinewidth": 0,
              "ticks": ""
             }
            },
            "type": "parcoords"
           }
          ],
          "pie": [
           {
            "automargin": true,
            "type": "pie"
           }
          ],
          "scatter": [
           {
            "marker": {
             "colorbar": {
              "outlinewidth": 0,
              "ticks": ""
             }
            },
            "type": "scatter"
           }
          ],
          "scatter3d": [
           {
            "line": {
             "colorbar": {
              "outlinewidth": 0,
              "ticks": ""
             }
            },
            "marker": {
             "colorbar": {
              "outlinewidth": 0,
              "ticks": ""
             }
            },
            "type": "scatter3d"
           }
          ],
          "scattercarpet": [
           {
            "marker": {
             "colorbar": {
              "outlinewidth": 0,
              "ticks": ""
             }
            },
            "type": "scattercarpet"
           }
          ],
          "scattergeo": [
           {
            "marker": {
             "colorbar": {
              "outlinewidth": 0,
              "ticks": ""
             }
            },
            "type": "scattergeo"
           }
          ],
          "scattergl": [
           {
            "marker": {
             "colorbar": {
              "outlinewidth": 0,
              "ticks": ""
             }
            },
            "type": "scattergl"
           }
          ],
          "scattermapbox": [
           {
            "marker": {
             "colorbar": {
              "outlinewidth": 0,
              "ticks": ""
             }
            },
            "type": "scattermapbox"
           }
          ],
          "scatterpolar": [
           {
            "marker": {
             "colorbar": {
              "outlinewidth": 0,
              "ticks": ""
             }
            },
            "type": "scatterpolar"
           }
          ],
          "scatterpolargl": [
           {
            "marker": {
             "colorbar": {
              "outlinewidth": 0,
              "ticks": ""
             }
            },
            "type": "scatterpolargl"
           }
          ],
          "scatterternary": [
           {
            "marker": {
             "colorbar": {
              "outlinewidth": 0,
              "ticks": ""
             }
            },
            "type": "scatterternary"
           }
          ],
          "surface": [
           {
            "colorbar": {
             "outlinewidth": 0,
             "ticks": ""
            },
            "colorscale": [
             [
              0,
              "#0d0887"
             ],
             [
              0.1111111111111111,
              "#46039f"
             ],
             [
              0.2222222222222222,
              "#7201a8"
             ],
             [
              0.3333333333333333,
              "#9c179e"
             ],
             [
              0.4444444444444444,
              "#bd3786"
             ],
             [
              0.5555555555555556,
              "#d8576b"
             ],
             [
              0.6666666666666666,
              "#ed7953"
             ],
             [
              0.7777777777777778,
              "#fb9f3a"
             ],
             [
              0.8888888888888888,
              "#fdca26"
             ],
             [
              1,
              "#f0f921"
             ]
            ],
            "type": "surface"
           }
          ],
          "table": [
           {
            "cells": {
             "fill": {
              "color": "#EBF0F8"
             },
             "line": {
              "color": "white"
             }
            },
            "header": {
             "fill": {
              "color": "#C8D4E3"
             },
             "line": {
              "color": "white"
             }
            },
            "type": "table"
           }
          ]
         },
         "layout": {
          "annotationdefaults": {
           "arrowcolor": "#2a3f5f",
           "arrowhead": 0,
           "arrowwidth": 1
          },
          "autotypenumbers": "strict",
          "coloraxis": {
           "colorbar": {
            "outlinewidth": 0,
            "ticks": ""
           }
          },
          "colorscale": {
           "diverging": [
            [
             0,
             "#8e0152"
            ],
            [
             0.1,
             "#c51b7d"
            ],
            [
             0.2,
             "#de77ae"
            ],
            [
             0.3,
             "#f1b6da"
            ],
            [
             0.4,
             "#fde0ef"
            ],
            [
             0.5,
             "#f7f7f7"
            ],
            [
             0.6,
             "#e6f5d0"
            ],
            [
             0.7,
             "#b8e186"
            ],
            [
             0.8,
             "#7fbc41"
            ],
            [
             0.9,
             "#4d9221"
            ],
            [
             1,
             "#276419"
            ]
           ],
           "sequential": [
            [
             0,
             "#0d0887"
            ],
            [
             0.1111111111111111,
             "#46039f"
            ],
            [
             0.2222222222222222,
             "#7201a8"
            ],
            [
             0.3333333333333333,
             "#9c179e"
            ],
            [
             0.4444444444444444,
             "#bd3786"
            ],
            [
             0.5555555555555556,
             "#d8576b"
            ],
            [
             0.6666666666666666,
             "#ed7953"
            ],
            [
             0.7777777777777778,
             "#fb9f3a"
            ],
            [
             0.8888888888888888,
             "#fdca26"
            ],
            [
             1,
             "#f0f921"
            ]
           ],
           "sequentialminus": [
            [
             0,
             "#0d0887"
            ],
            [
             0.1111111111111111,
             "#46039f"
            ],
            [
             0.2222222222222222,
             "#7201a8"
            ],
            [
             0.3333333333333333,
             "#9c179e"
            ],
            [
             0.4444444444444444,
             "#bd3786"
            ],
            [
             0.5555555555555556,
             "#d8576b"
            ],
            [
             0.6666666666666666,
             "#ed7953"
            ],
            [
             0.7777777777777778,
             "#fb9f3a"
            ],
            [
             0.8888888888888888,
             "#fdca26"
            ],
            [
             1,
             "#f0f921"
            ]
           ]
          },
          "colorway": [
           "#636efa",
           "#EF553B",
           "#00cc96",
           "#ab63fa",
           "#FFA15A",
           "#19d3f3",
           "#FF6692",
           "#B6E880",
           "#FF97FF",
           "#FECB52"
          ],
          "font": {
           "color": "#2a3f5f"
          },
          "geo": {
           "bgcolor": "white",
           "lakecolor": "white",
           "landcolor": "#E5ECF6",
           "showlakes": true,
           "showland": true,
           "subunitcolor": "white"
          },
          "hoverlabel": {
           "align": "left"
          },
          "hovermode": "closest",
          "mapbox": {
           "style": "light"
          },
          "paper_bgcolor": "white",
          "plot_bgcolor": "#E5ECF6",
          "polar": {
           "angularaxis": {
            "gridcolor": "white",
            "linecolor": "white",
            "ticks": ""
           },
           "bgcolor": "#E5ECF6",
           "radialaxis": {
            "gridcolor": "white",
            "linecolor": "white",
            "ticks": ""
           }
          },
          "scene": {
           "xaxis": {
            "backgroundcolor": "#E5ECF6",
            "gridcolor": "white",
            "gridwidth": 2,
            "linecolor": "white",
            "showbackground": true,
            "ticks": "",
            "zerolinecolor": "white"
           },
           "yaxis": {
            "backgroundcolor": "#E5ECF6",
            "gridcolor": "white",
            "gridwidth": 2,
            "linecolor": "white",
            "showbackground": true,
            "ticks": "",
            "zerolinecolor": "white"
           },
           "zaxis": {
            "backgroundcolor": "#E5ECF6",
            "gridcolor": "white",
            "gridwidth": 2,
            "linecolor": "white",
            "showbackground": true,
            "ticks": "",
            "zerolinecolor": "white"
           }
          },
          "shapedefaults": {
           "line": {
            "color": "#2a3f5f"
           }
          },
          "ternary": {
           "aaxis": {
            "gridcolor": "white",
            "linecolor": "white",
            "ticks": ""
           },
           "baxis": {
            "gridcolor": "white",
            "linecolor": "white",
            "ticks": ""
           },
           "bgcolor": "#E5ECF6",
           "caxis": {
            "gridcolor": "white",
            "linecolor": "white",
            "ticks": ""
           }
          },
          "title": {
           "x": 0.05
          },
          "xaxis": {
           "automargin": true,
           "gridcolor": "white",
           "linecolor": "white",
           "ticks": "",
           "title": {
            "standoff": 15
           },
           "zerolinecolor": "white",
           "zerolinewidth": 2
          },
          "yaxis": {
           "automargin": true,
           "gridcolor": "white",
           "linecolor": "white",
           "ticks": "",
           "title": {
            "standoff": 15
           },
           "zerolinecolor": "white",
           "zerolinewidth": 2
          }
         }
        },
        "xaxis": {
         "anchor": "y",
         "domain": [
          0,
          1
         ],
         "title": {
          "text": "PCA_1"
         }
        },
        "yaxis": {
         "anchor": "x",
         "domain": [
          0,
          1
         ],
         "title": {
          "text": "PCA_2"
         }
        }
       }
      },
      "text/html": [
       "<div>                            <div id=\"b0a8d452-382d-40b5-bd11-a8dccd101bb1\" class=\"plotly-graph-div\" style=\"height:525px; width:100%;\"></div>            <script type=\"text/javascript\">                require([\"plotly\"], function(Plotly) {                    window.PLOTLYENV=window.PLOTLYENV || {};                                    if (document.getElementById(\"b0a8d452-382d-40b5-bd11-a8dccd101bb1\")) {                    Plotly.newPlot(                        \"b0a8d452-382d-40b5-bd11-a8dccd101bb1\",                        [{\"hovertemplate\":\"Type=collagen<br>PCA_1=%{x}<br>PCA_2=%{y}<extra></extra>\",\"legendgroup\":\"collagen\",\"marker\":{\"color\":\"#636efa\",\"symbol\":\"circle\"},\"mode\":\"markers\",\"name\":\"collagen\",\"orientation\":\"v\",\"showlegend\":true,\"type\":\"scatter\",\"x\":[0.4255506837994193,0.858713915111355,0.3426932887947811,0.5565151824081229,0.27949584021557033,0.6266004766595286,0.36392687262570694,0.7410166967131484,0.4605324438799499,0.9636166462624061,0.37640749079471236,0.9636166462624061,0.4605324438799499,0.7410166967131484,0.36392687262570694,0.6266004766595286,0.3881872527074199,0.4799215303171799,0.6361731328142934,0.6092227273758362,0.28013442671257693,0.4083830453657016,0.37051275519553734,0.4360686023086412,0.28013442671257693,0.6092227273758362,0.34341224301070394,0.6620930423394178,0.6547544178577496,0.7587542770324293,0.5951846554283589,1.0212780455174764,1.2319784858729486,0.5788197624121583,0.8237551314654413,0.017137688365637768,-0.08266203576886698,0.2608787121991628,0.7007922000727966,0.11236853663949145,0.40201756377130804,1.0358222302427973,0.6955196909323957,0.6011929080334231,0.32402824970027794,0.6903390173940103,0.8120578591351361,1.3035220657652575,0.8945435995752763,1.018908439930126,0.930141876412494,0.49598947041636954,1.2633665097697895,1.0358845030543422,0.18022359303389715,0.3300353204685087,0.5653415403418932,0.7882759963656093,0.8607679502196153,0.8858619711831738,1.1113706571107742,0.6171061273216778,0.3809714172844979,0.06688216424244935,0.7451461022426814,0.3035241074418531,0.21857321011296366,0.19406942916819916,0.2386318780953697,0.5291203216541821,0.826579697127947,0.46984140029422894,0.17936202993295347,0.1458793085996225,0.16995757487501706,0.18990344253378155,0.2296816634543388,0.21972955176216005,0.40829445648745294,0.6189600299441881,0.16889110118083686,0.13838333690722784,0.12359034729501976,0.13954666070536467,0.25487418885444185,0.1361850196637231,-0.02864792619991014,0.10824289822715386,0.13945694358086375,0.1155905953044452,0.38185869563020763,0.34600259128337735,0.5716315148603864,0.803755377590732,0.8818967524129441,0.5560602238973946,0.136371031209846,0.1338391829598632,0.19313267402425358,0.26237155420790054,0.6312791642620686,0.7304708403284416,0.7741244990496393,0.5197790226732362,0.5286840391322438,0.4649940312244854,0.8680289976651898,0.7279103406347641,0.5015472387733685,0.5031754243973955,0.8228962953339791,1.1948142276611469,1.1265543109522043,0.6928692425381068,0.09305692064636058,0.016698448367249145,0.021569499464281498,0.3226942471491643,0.8965635074323863,0.7029267300062922,0.26680860697942466,0.3532270079450443,0.369820885943082,0.22710863101760242,0.30838058234595955,0.40212970633714934,1.0794332089344252,1.594678343067032,1.211004296686543,0.6041564621502334,0.8379227665378282,0.6642676650743137,0.5474383766922294,0.7704852255272829,0.745159899214993,0.9426370820459008,1.1954759086151574,1.365015024043308,1.2227834203336891,0.8895304229366982,0.7317594707808961,1.3638630731135455,0.976435803699298,0.34958509586325065,0.41405957272342225,0.5546078496268506,0.546685895469588,0.3229110871934154,0.20049304324412706,0.3875114486453223,0.40781421845167254,0.2978942054860959,0.3800936979777262,1.0056770101889179,1.055877063588211,0.8663493020207387,1.0820477429124526,1.079719062066989,0.483581482812086,0.40436971308367514,0.6010836139944263,0.9853472441793472,0.8163607758604562,0.7181163807695632,1.1675986705647927,0.6875592837772926,0.9955771707904515,0.9296452656357213,0.9434664242264107,1.105830258232157,1.1977691251189695,1.2866374274984669,1.1923430301118894,0.8716099431618985,1.0783542081752504,1.2572838436275298,1.5398774342018977,1.6904182526268194,0.9718544504363839,0.37917956794306446,0.3596887969726752,1.1569172878035587,1.313906135358355,0.8657512371288525,0.2772399545293217,0.4998917546261062,1.2536161396515204,0.9910022499999043,0.5018629961387056,0.6734109249450951,1.3075652816611614,1.5974290841090633,1.4697249831495791,0.7020380047141235,1.3823743383412768],\"xaxis\":\"x\",\"y\":[-0.19425265301587527,-0.39592518133842347,-0.2589314653254041,-0.36754359690979876,-0.19214564629098596,-0.26665504326356454,-0.13597490543720317,-0.24368138618049406,-0.1683264312434198,-0.21704490099067225,-0.13369353736802925,-0.21704490099067225,-0.1683264312434198,-0.24368138618049406,-0.13597490543720317,-0.26665504326356454,-0.20831448101947975,-0.22684789452626836,-0.36821965367551024,-0.24685517074516064,-0.1240432305849793,-0.15688263731397858,-0.12048638215144095,-0.11570287283155306,-0.1240432305849793,-0.24685517074516064,-0.1517010227456395,-0.2755794549593181,-0.25642802416079014,-0.24420828647914541,-0.18777292029191145,-0.26819521390755685,-0.28359295872303514,-0.143839863067559,-0.19225924383730697,-0.07595518155856641,-0.04830019258591988,-0.07555470026072324,-0.15932154702384752,-0.09601359013005878,-0.17260536784147815,-0.2659811524536615,-0.19504009704727213,-0.18696316308663033,-0.14775742504034314,-0.14430938348304442,-0.10409062145189245,-0.16523720818853635,-0.1731718730760845,-0.3236991118498705,-0.354806962263626,-0.15943290755532777,-0.26443590833558367,-0.2979063503152278,-0.13694041701621415,-0.11700928856765265,-0.10148080457864211,-0.19802205518665084,-0.16618706645784978,-0.29383204180990397,-0.33587658008243526,-0.17602548606866958,-0.18124117271928852,-0.11561560693449016,-0.16643077187441607,-0.13546940027325646,-0.08524231160228027,-0.1129723748760836,-0.1116003837822391,-0.14880301336656843,-0.2155374179446525,-0.2136501672488153,-0.14376966296526364,-0.16085408236962068,-0.12075992285325346,-0.11795703883468084,-0.11493143787848441,-0.12247486117450102,-0.18159597126598986,-0.24246758201514187,-0.09542670747447952,-0.039993004492760796,-0.04138247688266808,-0.07121356956338172,-0.13168755414232666,-0.13395251516871345,-0.13146201042346817,-0.10004949656383383,-0.17189035512663672,-0.19098016615515187,-0.16686778249184012,-0.16167799519542123,-0.17707934726099644,-0.23213361021186782,-0.2389468758282718,-0.1557185304002825,-0.1260314915520378,-0.08442405929738107,-0.11865380568834971,-0.11828155566123619,-0.250605248835918,-0.2786656470695147,-0.25535405222665253,-0.1425433681314682,-0.12603740861782073,-0.12028425794883775,-0.1771195291927128,-0.09299188633100787,-0.08666425714933713,-0.14624986079731936,-0.20260143130546573,-0.2673301083680792,-0.4622305083198707,-0.29316190245201657,-0.16605651695029255,-0.13593366366346837,-0.11292756308373526,-0.10397892257750307,-0.2396525168630343,-0.22639109523913178,-0.0962495184837495,-0.10640954578800359,-0.14752848117426481,-0.13642548153709336,-0.16055102435026275,-0.18334026831838834,-0.22297130855608954,-0.2888901569149162,-0.28158066115309605,-0.16536665101037618,-0.1719311138308814,-0.1546126042973769,-0.263260339712435,-0.25778918019737285,-0.41628391611339727,-0.39297108700460454,-0.3241285222051967,-0.30505766708468524,-0.3504132995995299,-0.24957754989998174,-0.22561340225091214,-0.38250079510677537,-0.31903480400050177,-0.13115219910191445,-0.11920326391906604,-0.190883880555807,-0.30320929272998426,-0.26580643590056263,-0.1796475567066778,-0.16846323343194397,-0.20886038903126827,-0.2321785765658755,-0.22141141452930338,-0.32637882507994787,-0.21443780002750734,-0.27445027549569084,-0.37922438133840136,-0.300103366658891,-0.15767396627736946,-0.09956066048635395,-0.14398211865715438,-0.17778986367583963,-0.1630903659115868,-0.23257390838808487,-0.334130176554418,-0.18007043864678818,-0.21581866019331578,-0.2188803131855539,-0.20840958705272808,-0.20356750380270466,-0.2549820869063902,-0.2663181011458176,-0.2328738189975244,-0.27167589686624194,-0.4055592208038571,-0.3439640774807076,-0.3532422089558098,-0.3747454704917367,-0.27630653990649634,-0.1791473724225076,-0.26268149949755293,-0.3535903512027914,-0.35461610004544786,-0.3619671333777393,-0.1595974396307251,-0.25493087818442667,-0.414190170737987,-0.24167102636637697,-0.23212332967914426,-0.3888583945676408,-0.3173063398910946,-0.28288514226850897,-0.3006671763309505,-0.1814945467678208,-0.26801855690330084],\"yaxis\":\"y\"},{\"hovertemplate\":\"Type=glycogen<br>PCA_1=%{x}<br>PCA_2=%{y}<extra></extra>\",\"legendgroup\":\"glycogen\",\"marker\":{\"color\":\"#EF553B\",\"symbol\":\"circle\"},\"mode\":\"markers\",\"name\":\"glycogen\",\"orientation\":\"v\",\"showlegend\":true,\"type\":\"scatter\",\"x\":[-0.6744447326165763,-0.9045082566877015,-0.9696674405719521,-1.053077356039875,-0.7897846652120107,-0.9436322106277377,-0.6041025060959543,-0.6924779086225366,-0.946099637195623,-0.9324053310452921,-0.8229376209812332,-0.9595399894536352,-1.1687297937562433,-0.749651794231881,-0.9267865672480292,-0.982214547790598,-1.0230548651064082,-0.9291366456249582,-0.5406845354097155,0.042217519546029696,-0.4221172382601562,-0.6376439424717867,-1.0728085561251124,-0.9773921418234792,-1.1987363520977241,-1.0284616133300601,-0.7308300482468925,0.12572241779864565,-0.18420890841941986,-0.3373567990862308,-0.6528819353717139,-0.9210997581966186,-0.8039921282329082,-0.8410958785740709,-0.6347810249381909,-0.37038821436475194,-0.8495323712321863,-0.8405612005869831,-1.0301368675673432,-0.9441868189177887,-0.6585176983223976,-0.9774921180848748,-1.0557995424609188,-1.1575728322530017,-1.1114497942887207,-1.1417570586370112,-0.8687127128153117,-1.0372588323984728,-0.9109127435318574,-0.8463488411087183,-0.704306321719853,-0.9467329921901722,-0.8917975278980085,-0.4705295439556829,-0.46837585972569407,-0.8711120633846529,-0.5712475777691302,-0.7050894039597791,-0.635364807327239,-0.6976766765135295,-0.6398576165581581,-0.7201686429804325,-0.9531422532107204,-0.9067335091395037,-0.8806993462238374,-0.7178617078770397,-0.8592691006548344,-0.8597662111270816,-0.6018789801565503,-0.7967466875086658,-0.9534609624542036,-0.8290239683046707,-1.0502418195204615,-0.853213910834251,-1.1382490446804043,-0.6951291207237414,-0.49360968163025465,-0.6514174409482284,-0.9475152197001354,-1.0436009771176522,-0.7603400478441216,-0.7964656237702888,-1.0439940622945132,-1.0256395193602188,-1.0080472685158302,-0.8230743119139148,-0.6085606487849274,-0.7746174949460342,-0.8269975894394735,0.20453159256302725,0.4122293454001039,-0.7461034021475914,-1.122106769740315,-0.7896816922825354,-0.4354811404274415,-0.8023352297322367,-0.6112319637142136,-0.5702258736117906,-0.9475152197001354,-1.0436009771176522,-0.8563467504890061,-0.6514174409482284,-0.6785079864072368,-0.6421886417041892,-0.8352910764803867,-0.25636706523089564,-0.8522342198464417,-0.6921737004058555,-0.8075886983168736,-0.9328937464427772,-0.9600400468697314,-1.0343321523686981,-0.6689114410524594,-0.6435022009314952,-0.609664551161127,-0.5016221668625792,-0.6940942018506601,-0.4572670365865998,-0.940100203163368,-1.2611995511156808,-1.1108324113692587,-0.6831400565179051,-0.790942452607132,-0.5038678988154865,-0.6588840912177877,-0.9259013565725202,-0.2791010282521385,-0.32089850724298397,-0.6830040583560953,-0.4958198362015571,-0.32729725396614917,-0.6380348220037106,-0.6405270659229648,-0.5779612569346386,-0.841179670803479,-0.5021295693036052,-1.014084406650098,-0.7844526792390272,-0.9536499661072905,-1.1725603806541598,-1.0758712640216996,-0.8476222130960281,-0.8532129839321392,-0.6085883552072933,-0.7944293137829973,-0.5372679803543139,-0.2613438203697299,-1.1429620591165877,-0.908697277371214,-0.5095619018726795,-0.8217010337424432,-0.9031074637228728,-0.5797510246068275,-0.9476440701889581,-0.8836789001157644,-0.6584600686329982,-1.0456069361048013,-1.3105908292964705,-1.0498273485912706,-1.3305366469807076,-0.8059915476318213,-0.4322981284611335,-1.1204914453294825,-1.3546864823188358,-0.8809608008083116,-0.7735615194142164,-1.1967622145260963,-0.5320537244038036,-0.993330806806687,-0.5482570667380268,-0.1437508110029794,-0.4787373103420955,-0.6906490517337825,-0.6416964845991926,-0.33500572961097724,-0.8291961007633114,-0.8455218289969477,-0.8350966847750203,-0.6587123926281578,-0.569539525031688,-0.28938114261447645,-0.9456850129524623,-0.8056951949791393,-0.7442914806506138,-0.44535923439376784,-0.38786224182390366,-0.6759104319250157,-0.3744130408643044,-0.8971542601327421,-0.8971542601327421,-0.636742888695081,-0.37828685470096196,0.01209864423402951,-0.5449379715307242,-0.6417851796021846,-0.5700396430443244,-0.773360361960737,-0.7579041901975184,-0.7579041901975184,-0.6759104319250157,-0.3744130408643044,-0.636742888695081,-0.0740245865635816,-0.5513054730614008,-0.4869347402470954,-0.05602812273104306,-0.7270270801198492,-1.0246810075958392,-0.2839443441088555,-0.14881028597835194,-0.22029305767054422,-0.05602812273104306],\"xaxis\":\"x\",\"y\":[-0.3078914886571629,-0.3340206245798083,-0.3104741186628405,-0.3270102212064423,-0.2627415387577375,-0.2786636311917354,-0.24020069432472976,-0.23050047609692464,-0.2653596165746621,-0.33045713489877593,-0.32227159220499046,-0.3891525111591856,-0.43864171381688366,-0.3861752625807326,-0.363514572921189,-0.25163917936834995,-0.3394587331564715,-0.30212238019969495,-0.3377322645116128,-0.3114422854768384,-0.3412010431286814,-0.3137415879395394,-0.35828403241852075,-0.3979189982777945,-0.44430462954830413,-0.31840487351291624,-0.3211002675298023,-0.3002425866244018,-0.27741282215981783,-0.27231464524746246,-0.3105648828915849,-0.24183104797661872,-0.24743125611426495,-0.29274533360225397,-0.29438028002706496,-0.2874445901744564,-0.3140384466303531,-0.3250672294483748,-0.3744533754804386,-0.3525154000787307,-0.2968235084616272,-0.34522476871351443,-0.4174113533596759,-0.4442909145236673,-0.38838366264159524,-0.37947578525180725,-0.31908094602994924,-0.3494890254025394,-0.3416852471601241,-0.338520631727824,-0.1038302032048329,-0.15474460937749546,-0.22088529987172664,-0.2713024177993546,-0.3418378765183161,-0.35319769305244414,-0.3035661587055314,-0.2580448048002927,-0.18160147186940717,-0.30894933278543885,-0.13887006574474406,-0.15203827548083068,-0.2876896460145304,-0.3616306766425839,-0.3295853542135865,-0.28427390438811345,-0.3461673889929457,-0.312496884390928,-0.2117657239790053,-0.28121997781339725,-0.33575202213937055,-0.2701878560036283,-0.38531439365484127,-0.3244473612786333,-0.42779786531746156,-0.23934269967302663,-0.28933014991542,-0.3560647131061006,-0.35410537226136113,-0.34148917092037917,-0.3068409842464269,-0.25167515595954615,-0.39252928867845727,-0.40184692372997477,-0.4246827116224708,-0.36251496666652105,-0.26671953550272137,-0.34620307712520487,-0.3452800596148877,-0.29499863594461834,-0.33314029447896887,-0.38691094410791366,-0.4414476973030528,-0.2936026536278631,-0.339813458007056,-0.32752778391751913,-0.33011047385114756,-0.3130730953111849,-0.35410537226136113,-0.34148917092037917,-0.34230483725988636,-0.3560647131061006,-0.35750166223788216,-0.40197180347718,-0.36209729120722495,-0.42873743656782637,-0.38650386846914975,-0.3485901585656194,-0.3405910410534775,-0.3374478814213848,-0.33488133060579656,-0.3488349085697363,-0.3643095551346914,-0.3608781983838953,-0.3846509493173499,-0.3925944354011332,-0.2780119957306486,-0.3482774848958365,-0.3279113769184839,-0.44095429469379854,-0.45004872133723584,-0.3462734352536159,-0.289935863345836,-0.34385079099771076,-0.3147324836441015,-0.3459955451823968,-0.2618074362421643,-0.22979507069407154,-0.2608068060198368,-0.22251331593666582,-0.27047365143475033,-0.23647267447380935,-0.1154311116912428,-0.24902373422347063,-0.37573863999464346,-0.3826478312652936,-0.37511613577074593,-0.28386509632185625,-0.3183231863322902,-0.4339418724181853,-0.39690040300287666,-0.2805399069637918,-0.3302145492202112,-0.3678089524397646,-0.3005068686717652,-0.28236990160037034,-0.2765190835801411,-0.45253091069101997,-0.3077222321229884,-0.36555932733905777,-0.26785199778039415,-0.31192100027677316,-0.3317672738641968,-0.3617568881591199,-0.35338785126192346,-0.2696225238051594,-0.31150971744445155,-0.3517921134700116,-0.29289694958359325,-0.41651793761756173,-0.3581915309643877,-0.4076562563472537,-0.5295490769271813,-0.5292150227686853,-0.4020394859897343,-0.3141176636962116,-0.26625928924978803,-0.1915248445631225,-0.45972410532525654,-0.34638907023838894,-0.4230123002885352,-0.25022025054318103,-0.35636857202839733,-0.2917684542481939,-0.4925759397200462,-0.4311411260754629,-0.3071322138466425,-0.31309752045266653,-0.4868230097998739,-0.4858183874463199,-0.4507894348359376,-0.3942980711515064,-0.2805875722567935,-0.34104337675558305,-0.24570254619151294,-0.20579637207606952,-0.2474483388930003,-0.3236457259949059,-0.39395652436292616,-0.39395652436292616,-0.33238393632408986,-0.22599179617270634,-0.15330042819440426,-0.32812717150024107,-0.2735259288591073,-0.22210257648782394,-0.3323016147847183,-0.25674470390841614,-0.25674470390841614,-0.2474483388930003,-0.3236457259949059,-0.33238393632408986,-0.34169542884959625,-0.21008587831099768,-0.2862573920800627,-0.3180257687570437,-0.30628508739814236,-0.26402248312584836,-0.1654879597761279,-0.3278109784373595,-0.2609027160630396,-0.3180257687570437],\"yaxis\":\"y\"},{\"hovertemplate\":\"Type=lipids<br>PCA_1=%{x}<br>PCA_2=%{y}<extra></extra>\",\"legendgroup\":\"lipids\",\"marker\":{\"color\":\"#00cc96\",\"symbol\":\"circle\"},\"mode\":\"markers\",\"name\":\"lipids\",\"orientation\":\"v\",\"showlegend\":true,\"type\":\"scatter\",\"x\":[-0.39217928139944386,-0.1816306428223188,0.1774450178307301,0.06546462164409447,-0.2480712750035457,0.515257670300231,-0.31070265675533026,-0.5216857621353106,-0.19032037609804067,-0.5855744410525147,-0.35831080817172817,0.40436015092395855,0.781520299776026,0.16225205181531244,-0.17363842183837763,-0.48849137332271375,0.016070363570028348,-0.26572735414150145,-0.21188336974260286,-0.020142741049023517,-0.07168629358265331,-0.13971689469358647,-0.15415809665751715,0.30997032412200953,0.06847154474584248,-0.20354729216810502,-0.39951694489008693,0.13301392673417106,0.301735328165345,0.19562991762881113,0.5630174934419028,0.0010327139215892726,-0.43318864864308154,-0.7105272712738531,-0.3771671806592889,-0.24174199082102366,0.42729351300937984,0.6025778803473286,0.18894637676247797,0.02142581489856865,-0.007621198401545252,-0.32914257398795677,-0.2917458318820412,0.06567453731758296,-0.13086939580227508,-0.3179700389436019,-0.08511263576522685,0.08748560293612612,-0.27840893858700644,-0.5107935522195324,0.02433495933541098,-0.24416546454437124,0.5381266653655196,0.2757953355538522,0.3087860146086879,0.25226725425847646,-0.28184557342387273,-0.22662359455092615,0.1943694239761019,0.32016983423099027,0.2106359502130181,0.2630313882984113,0.05396266254421631,-0.12780454485356568,-0.5526931532408863,0.0077664142468080845,0.048459510513187,-0.0273375429126695,0.7653187992476655,0.34023356718701736,-0.15478633523782465,-0.21731861791966214,-0.021005325993072838,0.22902165283991957,-0.23437324151775282,-0.36690966802698066,-0.15678026561690533,-0.5016815205587905,-0.5548538644189771,-0.5162755819973646,-0.5532417992863383,-0.43053039102087654,0.20264341624622842,-0.0012751612218158833,-0.20902853793261336,-0.14530437560373538,-0.3512006025925396,-0.04993210005645003,-0.10432653942075597,-0.09402178010851688,-0.5899577791906235,-0.5662340602753949,-0.298487391170979,-0.18825711384634078,0.2126801067525312,-0.2199200861056044,-0.15206028455682882,-0.522603319753822,-0.2601321134509196,-0.20828342928081006,-0.22485047147675488,-0.584942723248539,-0.506873247053498,-0.47457093969046665,-0.12314975389306652,0.081201998204991,-0.07612398098196092,0.1121618886411268,0.19651457146676507,-0.054038875950892344,-0.09135506901503404,0.24481342104771212,0.2804319758051164,0.2352710307738008,0.18002919809677959,-0.12183634409945285,0.20362717573155603,0.029888472673986238,0.29474927802168766,0.7079430610928894,-0.03297579507460681,-0.12812751236598333,0.12887101908378978,0.16292833420018,-0.37105421668499294,-0.43950991004414725,-0.2915570978187324,-0.27310817714467195,-0.5387417035422163,-0.6863247403826903,-0.39552661951494333,-0.3168324390009624,-0.22835325036474466,-0.14646775561065647,-0.358272628918554,-0.07182649925504009,-0.4300646093449481,-0.4684822383790178,-0.5013133052992886,-0.48703677592225414,-0.41485243180953285,-0.4109167230470092,-0.20001576736357657,0.0268785960116813,0.09131527085091297,0.12652713725963025,0.10660803349299582,-0.008845887691655398,-0.17172337460840187,0.27689560929806084,0.03411273730142459,-0.3097935835195252,0.15363767494954833,0.23639614773017711,-0.2040318306225499,-0.1492763351460368,0.2864839966945961,0.40037196138360975,0.40037196138360975,0.1262799358714432,-0.20498230475702697,-0.206269837163543,-0.007326041874799508,0.10992654214789592,0.26410701768936357,0.07361058452280708,-0.194921522420028,-0.34999700165555603,-0.07851333903713928,-0.22035785619904702,-0.19132477679046114,-0.35830246925966286,-0.24175340676457382,-0.39984014003342316,0.20366324162896465,-0.024332799655353513,-0.5696539516035959,-0.5522154526025446,-0.31915016675361707,-0.47130876042909514,-0.6917071130828328,-0.4669806294568651,-0.37217319093041185,-0.26293096024245366,-0.3962033216949332,-0.30197793124479777,-0.30239908471125176,-0.13870910146842635,-0.19896711663522554,-0.010876738775531495,-0.3100935989386666,-0.1292284422308435,0.21538833865135415,-0.4497588326630551,-0.3476391239339749,0.17269290720335545,0.09962559502010751,-0.28949344161976187,-0.38854131740676384,-0.15422559933630106,-0.39363275218433164,-0.05747893706316494,-0.2280809191989558,-0.023241729727878607,0.13124092104584825,-0.011395521692621757,-0.3278750663596778,-0.6966251533105878,-0.48939725523375366,-0.4762305468717023,-0.2910923386257886,-0.18644308793731323,-0.3221151195345081,-0.12370144858140679],\"xaxis\":\"x\",\"y\":[0.6910945964068149,0.40417147928463876,0.10464549582125444,0.18517899062420465,0.22578616639318652,0.06625853479965282,0.21407302120094568,0.3614560166524912,0.4194661386798003,0.9145768320350559,0.7139397385396707,0.34396433813038274,0.31464799374917135,0.8660412609701187,0.5183142458639624,0.44386648749131535,0.29466372187503,0.36132099683842867,0.5077876926179729,0.5946664532515299,0.1967877011052609,0.3036722221735132,0.6103094016328404,0.35333303357031826,0.25082596018537734,0.4108345367924754,0.3407717553800747,0.41062006927051103,0.3666069555731659,0.6784654083880256,0.28099338980914634,0.6217053384661781,0.4016050147966291,0.27973054228708677,0.2763997746567385,0.27788276151335145,0.1913140844878648,0.26908723867747586,0.3004564624056877,0.21266293920159327,0.24211488266205947,0.2703677804268341,0.3701804875568464,0.27371302330285796,0.44787236492920807,0.44257400423080706,0.5163575238965389,0.20332233372154812,0.33366250534310143,0.5311809303727637,0.2393321228774465,0.5857043740044557,0.2522208112495346,0.18954333645629082,0.2070987775045426,0.5082940464958539,0.8609852173368028,0.7143665068193144,0.4176069848499693,0.47520506076886176,0.48659061923097685,0.6853342836926382,1.1091881056045383,1.0703233368549767,1.0457401205726773,1.012373371464236,0.8907444844912348,0.702859678819652,0.2659281489077446,0.36067696532622867,0.8285614910294504,0.5405478833212923,0.4747751492813402,0.24455481921494587,1.101922889900873,0.9439061621981896,0.6620313519763764,0.5142972606445242,0.46042466242922536,0.6086087983096189,0.9403995129020503,0.6057657197873516,0.8825616810339673,0.7120507978845284,0.5017130177888123,0.5515429639883311,0.5109765675771529,0.5084229960388005,0.6784277014633397,0.8107425801187892,0.6930864305836015,0.60403076514424,0.48419734743437465,0.5642226134788473,0.5913776872656233,0.7863912688287266,0.5018673863745657,0.6232362026723607,0.3783743565672258,0.818852682662339,0.3735585233827627,0.495740372769896,0.5018830976727471,0.743949991106179,0.7529124884656024,0.8383287208756985,0.6270064057900464,0.561411127094296,0.5269949456955497,0.5657064792283462,0.6699797060401463,0.39168803259232543,0.4583158166909335,0.6809193020702292,0.29110569306306244,0.5012892426495036,0.6255685468674738,0.9529087707860316,0.6070397227135698,0.34127133970107454,0.7400060535546291,0.6218877738935327,0.22584703937601402,0.22249273136205197,0.48338316274132564,0.6634115999378372,0.7654362563296934,0.6504551674882383,0.8473133642710926,0.6370556614005426,0.4512677065870323,0.41700249626221886,0.3543928493748794,0.5382710885739362,0.41420343071945115,0.5520847577182727,0.49383226356225063,0.5438738666090819,0.470251187014993,0.8563953175444807,0.6805000109181184,0.5029850315314753,0.47801751409706456,0.23733041958547996,0.37983705013965735,0.7188931581142036,0.6472679737931935,0.5357811529938278,0.705245279872858,0.5385944721940455,0.48296373667133535,1.0092040873904444,0.5239672187016344,0.5500078044116871,0.4988111758271604,0.22996691070533787,0.26567041751817005,0.37378222101227093,0.37378222101227093,0.4972321424579326,0.3954943756336295,0.32883612889122554,0.27407680526406075,0.3003281679745652,0.29937342661900185,0.3390817495340283,0.562357462271206,0.3970502392574522,0.368259063903697,0.4534083035393151,0.6550733712942278,0.7394178059092178,0.3980078048687233,0.49564287594059847,0.4077306465629993,0.4275516261457149,0.5195409811919832,0.5107282970642093,0.5095038437807473,0.46638860731051773,0.4707222217796552,0.4853458883408278,0.604989177012494,0.5896121079090978,0.418496128499763,0.6708669233748863,0.5565759982845381,0.7579592447036451,0.6423865314624974,0.7620752670942829,0.5673569093374213,0.2010782157095933,0.15129955321327698,0.5867755154897789,0.8153003356706668,0.33475089336383357,0.551170117601556,0.45913479323000767,0.49064315633723393,0.3707967319236073,0.3601917824480938,0.25449775874185776,0.42156667765983086,0.7233428214614553,0.45974930858024066,0.0849323519022212,0.5488306045710488,0.6696689097572709,0.5404840579431415,0.4278121606967942,0.5326420023340188,0.590642740439096,0.40920398434091926,0.504344091249535],\"yaxis\":\"y\"},{\"hovertemplate\":\"Type=DNA<br>PCA_1=%{x}<br>PCA_2=%{y}<extra></extra>\",\"legendgroup\":\"DNA\",\"marker\":{\"color\":\"#ab63fa\",\"symbol\":\"circle\"},\"mode\":\"markers\",\"name\":\"DNA\",\"orientation\":\"v\",\"showlegend\":true,\"type\":\"scatter\",\"x\":[0.7186261261351905,0.9019775474508156,0.5455937426095009,0.7474893391531596,0.6792139155100239,0.806557009038943,0.698560194393143,0.916773536039182,0.9685183473311497,0.7561526202340145,0.9863585794175763,1.1466461831426085,0.7219158111316102,0.8700458895421793,1.3171456603956844,0.43190358481815977,0.9062228057769364,1.2440336517119348,0.6227814705156757,0.6032421856778496,0.5041755437241902,0.8160313724828908,0.6567571952671934,-0.05651624404093903,1.1378151167251591,0.5723258834759097,0.9545222626606101,0.3074061496955444,1.194898477239893,1.3232584514372563,0.8286645441582811,0.3142719823511306,0.11388275520343757,0.46577126841732813,0.06980714242334579,-0.08930100436758515,-0.14780526402398836,0.07668062588380754,0.5059810427562393,0.5203508727825706,0.3007084799148536,0.34792879003832106,0.9298818532732587,0.06295788511087468,0.01089684702220919,0.4537029759760196,-0.01806638392272951,0.783246498433399,0.41562549653190023,0.5203508727825706,0.5059810427562393,0.07668062588380754,-0.14780526402398836,0.4347256148216525,0.41069949916005216,-0.04680191630356317,0.5843797784628609,-0.019305281563452823,0.16865197144679503,0.5458599880642004,0.05046944335068837,-0.11863111320633343,-0.07672089011395827,0.4252929092993302,-0.007948381440401081,0.08702048375261347,0.18347462417805724,0.15238447902319974,-0.1321639100151793,0.12854457281069762,-0.09730326496370549,-0.045470785292260396,0.4314136059161267,0.18575415143275625,0.20069179707404936,0.21927563789732352,-0.13474139658927056,-0.1565353824533438,-0.25718418343862764,-0.1274347568675736,0.016435629210195198,0.609602367875683,0.20457063590844823,0.5079781322929237,1.053522866508281,0.5993672512841229,0.30162309514057895,0.25182792896123174,0.28377710210114787,0.20456871770444487,1.149942768235886,1.4041488131121014,1.103182845031418,0.4180065504211092,0.5252660598398058,1.45149275614956,1.5299598913728656,0.9629427129770657,0.9100557159598333,0.8855757058845757,1.087375306478985,0.6855235914342366,0.6883148661376092,1.3714201018901369,0.8082470882094185,1.3292105245339667,0.8518524686052453,0.28301944286786457,0.1072290769619815,0.5979833053611107],\"xaxis\":\"x\",\"y\":[-0.0991675519600261,-0.1489903831757398,-0.1291679670948235,-0.12322348521422237,-0.13260849896990196,-0.1918828003782158,-0.1417605222379591,-0.16015704269467249,-0.15146359951002655,-0.10629441248791349,-0.1835220077140637,-0.21393146595113863,-0.014175225011085183,-0.04491304965999519,-0.14899707942536794,0.03271715949704826,-0.04600552112171357,-0.09444155501830394,0.01578168993879402,0.04846865580212064,0.017882451877916945,-0.02623202754838673,-0.1799587241413648,0.13152837424377703,-0.14385794177688135,0.006284235148801795,-0.08769697764161288,-0.010368750663325104,-0.15618084990051953,-0.13681397733084674,0.025740333982450236,0.07280549762731203,0.15307266545020262,0.07890505091575102,0.13235459984353304,0.14740931399195112,0.1115697434098924,0.07065874935335903,0.008075890650846755,0.03674494027590524,0.06450942551406988,0.028962504496418476,-0.08364250789929495,0.07802993706205211,0.0832423553682774,-0.00828394592957864,0.043561697489562436,-0.06460688216427385,0.0653422557730766,0.03674494027590524,0.008075890650846755,0.07065874935335903,0.1115697434098924,-0.030324718637732118,0.09491398036820287,0.12651957732602812,0.014740323455772154,0.10682616895919061,0.11135787577078467,0.048501541836753,0.11509297602787438,0.11452151667140965,0.12008950277089193,0.033504509822305725,0.09648501996204822,0.10653383469229336,0.12264977521197631,0.10981448518343238,0.15813779332893813,0.119291398970768,0.12214620400050855,0.13099303086819805,0.10011085942948972,0.16049951358861975,0.10919408412030639,0.08268920096052441,0.1292515668713574,0.1388330810569008,0.1634892223636489,0.11843779211012867,0.07544370834724698,-0.003584623391864722,0.010763027235807545,-0.028172767633504025,-0.12796014942934592,-0.06664180951644709,0.04673041999687779,0.06672254321177369,0.040919019270689756,0.0530281588633112,-0.07858274201020227,-0.10621380081562669,-0.05918198239827554,0.034560650679154516,0.0018310130234344781,-0.16051941452329188,-0.16802469110638557,-0.03204956785077565,-0.012078213252852592,-0.1603955830596158,-0.08548242358679815,0.002557111614003353,-0.03975793772602686,-0.15018964427416506,-0.03936384596347248,-0.18868160796050992,-0.08293089796780621,-0.008858560861491858,0.04892642130749723,0.008394567464879484],\"yaxis\":\"y\"}],                        {\"legend\":{\"title\":{\"text\":\"Type\"},\"tracegroupgap\":0},\"margin\":{\"t\":60},\"template\":{\"data\":{\"bar\":[{\"error_x\":{\"color\":\"#2a3f5f\"},\"error_y\":{\"color\":\"#2a3f5f\"},\"marker\":{\"line\":{\"color\":\"#E5ECF6\",\"width\":0.5},\"pattern\":{\"fillmode\":\"overlay\",\"size\":10,\"solidity\":0.2}},\"type\":\"bar\"}],\"barpolar\":[{\"marker\":{\"line\":{\"color\":\"#E5ECF6\",\"width\":0.5},\"pattern\":{\"fillmode\":\"overlay\",\"size\":10,\"solidity\":0.2}},\"type\":\"barpolar\"}],\"carpet\":[{\"aaxis\":{\"endlinecolor\":\"#2a3f5f\",\"gridcolor\":\"white\",\"linecolor\":\"white\",\"minorgridcolor\":\"white\",\"startlinecolor\":\"#2a3f5f\"},\"baxis\":{\"endlinecolor\":\"#2a3f5f\",\"gridcolor\":\"white\",\"linecolor\":\"white\",\"minorgridcolor\":\"white\",\"startlinecolor\":\"#2a3f5f\"},\"type\":\"carpet\"}],\"choropleth\":[{\"colorbar\":{\"outlinewidth\":0,\"ticks\":\"\"},\"type\":\"choropleth\"}],\"contour\":[{\"colorbar\":{\"outlinewidth\":0,\"ticks\":\"\"},\"colorscale\":[[0.0,\"#0d0887\"],[0.1111111111111111,\"#46039f\"],[0.2222222222222222,\"#7201a8\"],[0.3333333333333333,\"#9c179e\"],[0.4444444444444444,\"#bd3786\"],[0.5555555555555556,\"#d8576b\"],[0.6666666666666666,\"#ed7953\"],[0.7777777777777778,\"#fb9f3a\"],[0.8888888888888888,\"#fdca26\"],[1.0,\"#f0f921\"]],\"type\":\"contour\"}],\"contourcarpet\":[{\"colorbar\":{\"outlinewidth\":0,\"ticks\":\"\"},\"type\":\"contourcarpet\"}],\"heatmap\":[{\"colorbar\":{\"outlinewidth\":0,\"ticks\":\"\"},\"colorscale\":[[0.0,\"#0d0887\"],[0.1111111111111111,\"#46039f\"],[0.2222222222222222,\"#7201a8\"],[0.3333333333333333,\"#9c179e\"],[0.4444444444444444,\"#bd3786\"],[0.5555555555555556,\"#d8576b\"],[0.6666666666666666,\"#ed7953\"],[0.7777777777777778,\"#fb9f3a\"],[0.8888888888888888,\"#fdca26\"],[1.0,\"#f0f921\"]],\"type\":\"heatmap\"}],\"heatmapgl\":[{\"colorbar\":{\"outlinewidth\":0,\"ticks\":\"\"},\"colorscale\":[[0.0,\"#0d0887\"],[0.1111111111111111,\"#46039f\"],[0.2222222222222222,\"#7201a8\"],[0.3333333333333333,\"#9c179e\"],[0.4444444444444444,\"#bd3786\"],[0.5555555555555556,\"#d8576b\"],[0.6666666666666666,\"#ed7953\"],[0.7777777777777778,\"#fb9f3a\"],[0.8888888888888888,\"#fdca26\"],[1.0,\"#f0f921\"]],\"type\":\"heatmapgl\"}],\"histogram\":[{\"marker\":{\"pattern\":{\"fillmode\":\"overlay\",\"size\":10,\"solidity\":0.2}},\"type\":\"histogram\"}],\"histogram2d\":[{\"colorbar\":{\"outlinewidth\":0,\"ticks\":\"\"},\"colorscale\":[[0.0,\"#0d0887\"],[0.1111111111111111,\"#46039f\"],[0.2222222222222222,\"#7201a8\"],[0.3333333333333333,\"#9c179e\"],[0.4444444444444444,\"#bd3786\"],[0.5555555555555556,\"#d8576b\"],[0.6666666666666666,\"#ed7953\"],[0.7777777777777778,\"#fb9f3a\"],[0.8888888888888888,\"#fdca26\"],[1.0,\"#f0f921\"]],\"type\":\"histogram2d\"}],\"histogram2dcontour\":[{\"colorbar\":{\"outlinewidth\":0,\"ticks\":\"\"},\"colorscale\":[[0.0,\"#0d0887\"],[0.1111111111111111,\"#46039f\"],[0.2222222222222222,\"#7201a8\"],[0.3333333333333333,\"#9c179e\"],[0.4444444444444444,\"#bd3786\"],[0.5555555555555556,\"#d8576b\"],[0.6666666666666666,\"#ed7953\"],[0.7777777777777778,\"#fb9f3a\"],[0.8888888888888888,\"#fdca26\"],[1.0,\"#f0f921\"]],\"type\":\"histogram2dcontour\"}],\"mesh3d\":[{\"colorbar\":{\"outlinewidth\":0,\"ticks\":\"\"},\"type\":\"mesh3d\"}],\"parcoords\":[{\"line\":{\"colorbar\":{\"outlinewidth\":0,\"ticks\":\"\"}},\"type\":\"parcoords\"}],\"pie\":[{\"automargin\":true,\"type\":\"pie\"}],\"scatter\":[{\"marker\":{\"colorbar\":{\"outlinewidth\":0,\"ticks\":\"\"}},\"type\":\"scatter\"}],\"scatter3d\":[{\"line\":{\"colorbar\":{\"outlinewidth\":0,\"ticks\":\"\"}},\"marker\":{\"colorbar\":{\"outlinewidth\":0,\"ticks\":\"\"}},\"type\":\"scatter3d\"}],\"scattercarpet\":[{\"marker\":{\"colorbar\":{\"outlinewidth\":0,\"ticks\":\"\"}},\"type\":\"scattercarpet\"}],\"scattergeo\":[{\"marker\":{\"colorbar\":{\"outlinewidth\":0,\"ticks\":\"\"}},\"type\":\"scattergeo\"}],\"scattergl\":[{\"marker\":{\"colorbar\":{\"outlinewidth\":0,\"ticks\":\"\"}},\"type\":\"scattergl\"}],\"scattermapbox\":[{\"marker\":{\"colorbar\":{\"outlinewidth\":0,\"ticks\":\"\"}},\"type\":\"scattermapbox\"}],\"scatterpolar\":[{\"marker\":{\"colorbar\":{\"outlinewidth\":0,\"ticks\":\"\"}},\"type\":\"scatterpolar\"}],\"scatterpolargl\":[{\"marker\":{\"colorbar\":{\"outlinewidth\":0,\"ticks\":\"\"}},\"type\":\"scatterpolargl\"}],\"scatterternary\":[{\"marker\":{\"colorbar\":{\"outlinewidth\":0,\"ticks\":\"\"}},\"type\":\"scatterternary\"}],\"surface\":[{\"colorbar\":{\"outlinewidth\":0,\"ticks\":\"\"},\"colorscale\":[[0.0,\"#0d0887\"],[0.1111111111111111,\"#46039f\"],[0.2222222222222222,\"#7201a8\"],[0.3333333333333333,\"#9c179e\"],[0.4444444444444444,\"#bd3786\"],[0.5555555555555556,\"#d8576b\"],[0.6666666666666666,\"#ed7953\"],[0.7777777777777778,\"#fb9f3a\"],[0.8888888888888888,\"#fdca26\"],[1.0,\"#f0f921\"]],\"type\":\"surface\"}],\"table\":[{\"cells\":{\"fill\":{\"color\":\"#EBF0F8\"},\"line\":{\"color\":\"white\"}},\"header\":{\"fill\":{\"color\":\"#C8D4E3\"},\"line\":{\"color\":\"white\"}},\"type\":\"table\"}]},\"layout\":{\"annotationdefaults\":{\"arrowcolor\":\"#2a3f5f\",\"arrowhead\":0,\"arrowwidth\":1},\"autotypenumbers\":\"strict\",\"coloraxis\":{\"colorbar\":{\"outlinewidth\":0,\"ticks\":\"\"}},\"colorscale\":{\"diverging\":[[0,\"#8e0152\"],[0.1,\"#c51b7d\"],[0.2,\"#de77ae\"],[0.3,\"#f1b6da\"],[0.4,\"#fde0ef\"],[0.5,\"#f7f7f7\"],[0.6,\"#e6f5d0\"],[0.7,\"#b8e186\"],[0.8,\"#7fbc41\"],[0.9,\"#4d9221\"],[1,\"#276419\"]],\"sequential\":[[0.0,\"#0d0887\"],[0.1111111111111111,\"#46039f\"],[0.2222222222222222,\"#7201a8\"],[0.3333333333333333,\"#9c179e\"],[0.4444444444444444,\"#bd3786\"],[0.5555555555555556,\"#d8576b\"],[0.6666666666666666,\"#ed7953\"],[0.7777777777777778,\"#fb9f3a\"],[0.8888888888888888,\"#fdca26\"],[1.0,\"#f0f921\"]],\"sequentialminus\":[[0.0,\"#0d0887\"],[0.1111111111111111,\"#46039f\"],[0.2222222222222222,\"#7201a8\"],[0.3333333333333333,\"#9c179e\"],[0.4444444444444444,\"#bd3786\"],[0.5555555555555556,\"#d8576b\"],[0.6666666666666666,\"#ed7953\"],[0.7777777777777778,\"#fb9f3a\"],[0.8888888888888888,\"#fdca26\"],[1.0,\"#f0f921\"]]},\"colorway\":[\"#636efa\",\"#EF553B\",\"#00cc96\",\"#ab63fa\",\"#FFA15A\",\"#19d3f3\",\"#FF6692\",\"#B6E880\",\"#FF97FF\",\"#FECB52\"],\"font\":{\"color\":\"#2a3f5f\"},\"geo\":{\"bgcolor\":\"white\",\"lakecolor\":\"white\",\"landcolor\":\"#E5ECF6\",\"showlakes\":true,\"showland\":true,\"subunitcolor\":\"white\"},\"hoverlabel\":{\"align\":\"left\"},\"hovermode\":\"closest\",\"mapbox\":{\"style\":\"light\"},\"paper_bgcolor\":\"white\",\"plot_bgcolor\":\"#E5ECF6\",\"polar\":{\"angularaxis\":{\"gridcolor\":\"white\",\"linecolor\":\"white\",\"ticks\":\"\"},\"bgcolor\":\"#E5ECF6\",\"radialaxis\":{\"gridcolor\":\"white\",\"linecolor\":\"white\",\"ticks\":\"\"}},\"scene\":{\"xaxis\":{\"backgroundcolor\":\"#E5ECF6\",\"gridcolor\":\"white\",\"gridwidth\":2,\"linecolor\":\"white\",\"showbackground\":true,\"ticks\":\"\",\"zerolinecolor\":\"white\"},\"yaxis\":{\"backgroundcolor\":\"#E5ECF6\",\"gridcolor\":\"white\",\"gridwidth\":2,\"linecolor\":\"white\",\"showbackground\":true,\"ticks\":\"\",\"zerolinecolor\":\"white\"},\"zaxis\":{\"backgroundcolor\":\"#E5ECF6\",\"gridcolor\":\"white\",\"gridwidth\":2,\"linecolor\":\"white\",\"showbackground\":true,\"ticks\":\"\",\"zerolinecolor\":\"white\"}},\"shapedefaults\":{\"line\":{\"color\":\"#2a3f5f\"}},\"ternary\":{\"aaxis\":{\"gridcolor\":\"white\",\"linecolor\":\"white\",\"ticks\":\"\"},\"baxis\":{\"gridcolor\":\"white\",\"linecolor\":\"white\",\"ticks\":\"\"},\"bgcolor\":\"#E5ECF6\",\"caxis\":{\"gridcolor\":\"white\",\"linecolor\":\"white\",\"ticks\":\"\"}},\"title\":{\"x\":0.05},\"xaxis\":{\"automargin\":true,\"gridcolor\":\"white\",\"linecolor\":\"white\",\"ticks\":\"\",\"title\":{\"standoff\":15},\"zerolinecolor\":\"white\",\"zerolinewidth\":2},\"yaxis\":{\"automargin\":true,\"gridcolor\":\"white\",\"linecolor\":\"white\",\"ticks\":\"\",\"title\":{\"standoff\":15},\"zerolinecolor\":\"white\",\"zerolinewidth\":2}}},\"xaxis\":{\"anchor\":\"y\",\"domain\":[0.0,1.0],\"title\":{\"text\":\"PCA_1\"}},\"yaxis\":{\"anchor\":\"x\",\"domain\":[0.0,1.0],\"title\":{\"text\":\"PCA_2\"}}},                        {\"responsive\": true}                    ).then(function(){\n",
       "                            \n",
       "var gd = document.getElementById('b0a8d452-382d-40b5-bd11-a8dccd101bb1');\n",
       "var x = new MutationObserver(function (mutations, observer) {{\n",
       "        var display = window.getComputedStyle(gd).display;\n",
       "        if (!display || display === 'none') {{\n",
       "            console.log([gd, 'removed!']);\n",
       "            Plotly.purge(gd);\n",
       "            observer.disconnect();\n",
       "        }}\n",
       "}});\n",
       "\n",
       "// Listen for the removal of the full notebook cells\n",
       "var notebookContainer = gd.closest('#notebook-container');\n",
       "if (notebookContainer) {{\n",
       "    x.observe(notebookContainer, {childList: true});\n",
       "}}\n",
       "\n",
       "// Listen for the clearing of the current output cell\n",
       "var outputEl = gd.closest('.output');\n",
       "if (outputEl) {{\n",
       "    x.observe(outputEl, {childList: true});\n",
       "}}\n",
       "\n",
       "                        })                };                });            </script>        </div>"
      ]
     },
     "metadata": {},
     "output_type": "display_data"
    }
   ],
   "source": [
    "import plotly.express as px\n",
    "df_tsne = pd.DataFrame(tsneD, columns = ['TSNE_1','TSNE_2'])\n",
    "df_pca = pd.DataFrame(projectedD[:, 0:2], columns = ['PCA_1','PCA_2'])\n",
    "df_tsne['Type'] = pd.Series(types)\n",
    "df_pca['Type'] = pd.Series(types)\n",
    "\n",
    "fig1 = px.scatter(df_tsne, x='TSNE_1', y='TSNE_2', color=df_tsne['Type'])\n",
    "fig2 = px.scatter(df_pca, x='PCA_1', y='PCA_2', color=df_pca['Type'])\n",
    "fig1.show()\n",
    "fig2.show()"
   ]
  }
 ],
 "metadata": {
  "kernelspec": {
   "display_name": "Python 3",
   "language": "python",
   "name": "python3"
  },
  "language_info": {
   "codemirror_mode": {
    "name": "ipython",
    "version": 3
   },
   "file_extension": ".py",
   "mimetype": "text/x-python",
   "name": "python",
   "nbconvert_exporter": "python",
   "pygments_lexer": "ipython3",
   "version": "3.8.8"
  },
  "toc": {
   "base_numbering": 1,
   "nav_menu": {},
   "number_sections": true,
   "sideBar": true,
   "skip_h1_title": false,
   "title_cell": "Table of Contents",
   "title_sidebar": "Contents",
   "toc_cell": false,
   "toc_position": {},
   "toc_section_display": true,
   "toc_window_display": false
  }
 },
 "nbformat": 4,
 "nbformat_minor": 4
}
