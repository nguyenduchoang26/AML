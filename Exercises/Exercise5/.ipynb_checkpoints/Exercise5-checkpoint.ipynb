{
 "cells": [
  {
   "cell_type": "markdown",
   "metadata": {},
   "source": [
    "# Applied Machine Learning (2021), exercises\n",
    "\n",
    "\n",
    "## General instructions for all exercises\n",
    "\n",
    "Before you turn this problem in, make sure everything runs as expected. First, **restart the kernel** (in the menubar, select Kernel$\\rightarrow$Restart) and then **run all cells** (in the menubar, select Cell$\\rightarrow$Run All).\n",
    "\n",
    "Follow the instructions and fill in your solution under the line marked by tag\n",
    "\n",
    "> YOUR CODE HERE\n",
    "\n",
    "Do not change other areas of the document, since it may disturb the autograding of your results!\n",
    "  \n",
    "Having written the answer, execute the code cell by and pressing `Shift-Enter` key combination. The code is run, and it may print some information under the code cell. The focus automatically moves to the next cell and you may \"execute\" that cell by pressing `Shift-Enter` again, until you have reached the code cell which tests your solution. Execute that and follow the feedback. Usually it either says that the solution seems acceptable, or reports some errors. You can go back to your solution, modify it and repeat everything until you are satisfied. Then proceed to the next task.\n",
    "   \n",
    "Repeat the process for all tasks.\n",
    "\n",
    "The notebook may also contain manually graded answers. Write your manualle graded answer under the line marked by tag:\n",
    "\n",
    "> YOUR ANSWER HERE\n",
    "\n",
    "Manually graded tasks may be text, pseudocode, or mathematical formulas. You can write formulas with $\\LaTeX$-syntax by enclosing the formula with dollar signs (`$`), for example `$f(x)=2 \\pi / \\alpha$`, will produce $f(x)=2 \\pi / \\alpha$\n",
    "\n",
    "When you have passed the tests in the notebook, and you are ready to submit your solutions, download the whole notebook, using menu `File -> Download as -> Notebook (.ipynb)`. Save the file in your hard disk, and submit it in [Moodle](https://moodle.uwasa.fi) under the corresponding excercise.\n",
    "\n",
    "Your solution should be an executable Python code. Use the code already existing as an example of Python programing and read more from the numerous Python programming material from the Internet if necessary. \n"
   ]
  },
  {
   "cell_type": "code",
   "execution_count": 9,
   "metadata": {},
   "outputs": [],
   "source": [
    "NAME = \"Duc Hoang Nguyen\"\n",
    "Student_number = \"d120411\""
   ]
  },
  {
   "cell_type": "markdown",
   "metadata": {},
   "source": [
    "---"
   ]
  },
  {
   "cell_type": "markdown",
   "metadata": {},
   "source": [
    "# Classification exercises\n"
   ]
  },
  {
   "cell_type": "markdown",
   "metadata": {},
   "source": [
    "## Satellite image classification\n",
    "\n",
    "Following satellite image is obtained from the Söderfjärden meteorite crater near Vaasa at 10:00 in 28.9.2019. The image is acquired from European Sentinell 2 satellite by means of multispectral imaging device (MSI). The multispectral camera has acquired the image using 13 different wavelength bands instead of three (RGB) in the normal camera. The image was searched and dowloaded using [Copernicus Open Access Hub](https://scihub.copernicus.eu/dhus/), and preprosessed by using ESA's [SNAP](http://step.esa.int/main/download/) tool.\n",
    "\n",
    "\n",
    "The bands used are \n",
    "\n",
    "| Band number | Band name | Wavelength | Region | Remarks |\n",
    "| ----------- | --------- | -----------| ------ | ------- |\n",
    "|  1 | B1  |   443 nm | Violet     | Chlorophyll-A |\n",
    "|  2 | B2  |   490 nm | Cyan       | |\n",
    "|  3 | B3  |   560 nm | Green      | |\n",
    "|  4 | B4  |   665 nm | Red        | Chlorophyll_A |\n",
    "|  5 | B5  |   705 nm | Red        | |\n",
    "|  6 | B6  |   740 nm | Red        | |\n",
    "|  7 | B7  |   783 nm | Deep red   | |\n",
    "|  8 | B8  |   842 nm | NIR        | |\n",
    "|  9 | B8A |   865 nm | NIR        | |\n",
    "| 10 | B9  |   945 nm | NIR        | |\n",
    "| 11 | B10 |  1375 nm | NIR        | |\n",
    "| 12 | B11 |  1610 nm | NIR        | |\n",
    "| 13 | B12 |  2190 nm | NIR        | |\n",
    "\n",
    "The channels listed above can be used for creating a natural looking RGB-image, as shown below.\n",
    "\n",
    "![machine_learning.svg](Soderfjarden_image.png)\n",
    "\n",
    "Even though, only three channels are used for RGB image, all 13 can be usefull features for land type and crops classification. \n",
    "\n",
    "## Training data \n",
    "\n",
    "In the image above, an expert has manually segmented some areas of the image and labelled them according to land use. The labelled areas are:\n",
    "\n",
    "| Segment no. | Segment name | Segment color | \n",
    "| ----------- | --------- | -----------| \n",
    "|  1 | Water      | Violet |\n",
    "|  2 | Forest     | Green |\n",
    "|  3 | HayField   | Red |\n",
    "|  4 | StrawField | Light Green |\n",
    "|  5 | DarkSoil   | Blue |\n"
   ]
  },
  {
   "cell_type": "markdown",
   "metadata": {},
   "source": [
    "## Task 1\n",
    "\n",
    "\n",
    "### Read the data\n",
    "Open the training data, which contains the pixel values of the segmented regions shown in the image above. Each pixel contains 13 floating point values between 0 and 1, one for each channel.\n",
    "\n",
    "The training data is stored in a HDF5 file `Soderfjarden_training_data.h5`, in the subdirectory called as `data`. The file includes the following data sets:\n",
    "\n",
    " - `spectra`: a matrix, which dimensions are (23754, 15). Notice that two first values are the x and y coordinates of the pixel. Do not use them for classification, but use only following 13 channels. Construct a design matrix X (23754,13) by slicing this data.\n",
    " - `labels`: The expert segmented labels (23754, 1), the true values, the ground truth. This is the y-vector which you try to predict\n",
    " - `columns`: The name of the columns (15,1), if you need them. Contains the band names, shown in he table above, plus the name of the x and y coordinate columns.\n",
    " - `wavelengths`: The wavelengts of each band (13,1), the same shown in the table above.\n",
    " - The HDF5 includes also a data attribute called `timestamp`, which contains the time when the image was acquired.\n",
    "\n",
    "The opening of the HDF5-file, and accessing the dataset can be achieved like this:\n",
    "\n",
    "`fid = h5py.File(<filename>)\n",
    " X=fid['spectra'][:,2:]\n",
    " y_b=fid['labels'][:]\n",
    " ...\n",
    " `\n",
    " \n",
    " Use also the following line of code to decode the bytestrings obtained from HDF5 to utf8 strings (This is irritating, but necessary ). Repeat the same for decoding the column names to utf8.\n",
    " \n",
    " `y=np.array([label.decode('utf8') for label in y_b])`\n"
   ]
  },
  {
   "cell_type": "code",
   "execution_count": 10,
   "metadata": {
    "ExecuteTime": {
     "end_time": "2021-11-08T09:19:10.665770Z",
     "start_time": "2021-11-08T09:19:06.791514Z"
    }
   },
   "outputs": [],
   "source": [
    "import matplotlib.pyplot as plt\n",
    "import pandas as pd\n",
    "import numpy as np\n",
    "import seaborn as sns\n",
    "import h5py\n",
    "from sklearn.model_selection import train_test_split, GridSearchCV\n",
    "from sklearn.preprocessing import StandardScaler"
   ]
  },
  {
   "cell_type": "code",
   "execution_count": 17,
   "metadata": {
    "ExecuteTime": {
     "end_time": "2021-11-08T09:19:16.196777Z",
     "start_time": "2021-11-08T09:19:16.160262Z"
    },
    "deletable": false,
    "nbgrader": {
     "cell_type": "code",
     "checksum": "d8095a43aadde3859ee7d9d2a5fcd5a8",
     "grade": false,
     "grade_id": "cell-45f96d93d5d4ac3f",
     "locked": false,
     "schema_version": 3,
     "solution": true,
     "task": false
    }
   },
   "outputs": [
    {
     "data": {
      "text/plain": [
       "array([[0.1619, 0.1301, 0.1148, ..., 0.0036, 0.2143, 0.125 ],\n",
       "       [0.1619, 0.1386, 0.1169, ..., 0.0036, 0.1735, 0.1227],\n",
       "       [0.1619, 0.1397, 0.1183, ..., 0.0036, 0.1735, 0.1227],\n",
       "       ...,\n",
       "       [0.1619, 0.1524, 0.1463, ..., 0.003 , 0.3342, 0.2055],\n",
       "       [0.1619, 0.1503, 0.1475, ..., 0.003 , 0.3342, 0.2055],\n",
       "       [0.1619, 0.155 , 0.1531, ..., 0.003 , 0.3478, 0.2129]])"
      ]
     },
     "execution_count": 17,
     "metadata": {},
     "output_type": "execute_result"
    }
   ],
   "source": [
    "# YOUR CODE HERE\n",
    "fid = h5py.File('Soderfjarden_training_data.h5')\n",
    "X = fid['spectra'][:,2:]\n",
    "colnames = fid['columns']\n",
    "y_b = fid['labels'][:]\n",
    "y = np.array([label.decode('utf8') for label in y_b])\n",
    "X"
   ]
  },
  {
   "cell_type": "code",
   "execution_count": 18,
   "metadata": {
    "ExecuteTime": {
     "end_time": "2021-11-08T09:19:20.438581Z",
     "start_time": "2021-11-08T09:19:20.436195Z"
    },
    "deletable": false,
    "editable": false,
    "nbgrader": {
     "cell_type": "code",
     "checksum": "f3dfd50ff154b9c4d5f86edc81aab542",
     "grade": true,
     "grade_id": "cell-053c17a94ef0626d",
     "locked": true,
     "points": 2,
     "schema_version": 3,
     "solution": false,
     "task": false
    }
   },
   "outputs": [],
   "source": [
    "assert(X.shape==(23754,13))\n",
    "assert(y.shape==(23754,))\n",
    "assert(colnames.shape==(16,))\n",
    "assert(y.dtype=='<U10')"
   ]
  },
  {
   "cell_type": "markdown",
   "metadata": {},
   "source": [
    "## Task 2\n",
    "\n",
    "Analyze the complexity of the data  by plotting it with two first principal components\n",
    "\n",
    " - Transform the the data in PCA domain as `pc`\n",
    " - Transform the y-vector to integer vector `yi`, using for example LabelEncoder\n",
    " - Plot a scatter plot of two first principal components, where the color is `yi`, the integer representation of `y` (=classes)"
   ]
  },
  {
   "cell_type": "code",
   "execution_count": 19,
   "metadata": {
    "ExecuteTime": {
     "end_time": "2021-11-08T09:47:59.196422Z",
     "start_time": "2021-11-08T09:47:58.663270Z"
    },
    "deletable": false,
    "nbgrader": {
     "cell_type": "code",
     "checksum": "4f1f4a4a21e93e9865698272ec95b6af",
     "grade": false,
     "grade_id": "cell-27739bd3a80987cf",
     "locked": false,
     "schema_version": 3,
     "solution": true,
     "task": false
    }
   },
   "outputs": [
    {
     "data": {
      "text/plain": [
       "Text(0, 0.5, 'PC2')"
      ]
     },
     "execution_count": 19,
     "metadata": {},
     "output_type": "execute_result"
    },
    {
     "data": {
      "image/png": "[encoded data removed]",
      "text/plain": [
       "<Figure size 432x288 with 2 Axes>"
      ]
     },
     "metadata": {
      "needs_background": "light"
     },
     "output_type": "display_data"
    }
   ],
   "source": [
    "from sklearn.preprocessing import LabelEncoder\n",
    "\n",
    "# YOUR CODE HERE\n",
    "from sklearn.decomposition import PCA\n",
    "\n",
    "pca=PCA(n_components=2)\n",
    "pc=pca.fit_transform(X)\n",
    "yi = LabelEncoder().fit_transform(y)\n",
    "\n",
    "plt.scatter(pc[:, 0], pc[:, 1], c=yi, s=15, cmap='rainbow')\n",
    "plt.colorbar()\n",
    "plt.title('Scatter plot of two first principal components')\n",
    "plt.xlabel('PC1')\n",
    "plt.ylabel('PC2')"
   ]
  },
  {
   "cell_type": "code",
   "execution_count": 20,
   "metadata": {
    "ExecuteTime": {
     "end_time": "2021-11-08T09:55:01.599891Z",
     "start_time": "2021-11-08T09:55:01.593089Z"
    },
    "deletable": false,
    "editable": false,
    "nbgrader": {
     "cell_type": "code",
     "checksum": "6b9ff775163ac3ad49de07547163f53e",
     "grade": true,
     "grade_id": "cell-e1276f5f5fb251e5",
     "locked": true,
     "points": 2,
     "schema_version": 3,
     "solution": false,
     "task": false
    }
   },
   "outputs": [],
   "source": [
    "assert(pc.shape==(23754, 2)), \"Something is wrong with PCA\"\n",
    "assert((max(yi)-min(yi))==4), \"Something is wrong with integer labels\"\n"
   ]
  },
  {
   "cell_type": "markdown",
   "metadata": {},
   "source": [
    "## Task 3\n",
    "\n",
    "- Create a processing pipeline using standard scaler and some classification method, name the pipeline as `predictor`\n",
    "- Train the pipeline and check if it passes the tests for precision in training set\n",
    "- Separate your data X and y to training set (X_train, y_train) which contains 75% of the data and to the test set X_test, y_test which contains 25% of the data. Use function `train_test_split` from library `sklearn.model_selection`."
   ]
  },
  {
   "cell_type": "code",
   "execution_count": 21,
   "metadata": {
    "ExecuteTime": {
     "end_time": "2021-11-08T09:55:05.352972Z",
     "start_time": "2021-11-08T09:55:05.281973Z"
    },
    "deletable": false,
    "nbgrader": {
     "cell_type": "code",
     "checksum": "3e45261286e19a9a2d37cebadce0e7a1",
     "grade": false,
     "grade_id": "cell-5a461f0a132ec91c",
     "locked": false,
     "schema_version": 3,
     "solution": true,
     "task": false
    }
   },
   "outputs": [
    {
     "name": "stdout",
     "output_type": "stream",
     "text": [
      "0.9998316214850985\n",
      "[[ 359    0    0    1    0]\n",
      " [   0 2160    0    0    0]\n",
      " [   0    0  411    0    0]\n",
      " [   0    0    0  975    0]\n",
      " [   0    0    0    0 2033]]\n",
      "              precision    recall  f1-score   support\n",
      "\n",
      "    DarkSoil       1.00      1.00      1.00       360\n",
      "      Forest       1.00      1.00      1.00      2160\n",
      "    HayField       1.00      1.00      1.00       411\n",
      "  StrawField       1.00      1.00      1.00       975\n",
      "       Water       1.00      1.00      1.00      2033\n",
      "\n",
      "    accuracy                           1.00      5939\n",
      "   macro avg       1.00      1.00      1.00      5939\n",
      "weighted avg       1.00      1.00      1.00      5939\n",
      "\n"
     ]
    }
   ],
   "source": [
    "from sklearn.model_selection import train_test_split\n",
    "from sklearn.preprocessing import StandardScaler\n",
    "from sklearn.pipeline import Pipeline\n",
    "from sklearn import neighbors, metrics\n",
    "from sklearn.metrics import classification_report\n",
    "\n",
    "#X_train, X_test, y_train, y_test = ...\n",
    "#predictor= ...\n",
    "\n",
    "# YOUR CODE HERE\n",
    "X_train, X_test, y_train, y_test = train_test_split(X, y, test_size=0.25)\n",
    "n_neighbors=5\n",
    "predictor=Pipeline([\n",
    "        ('Scaling', StandardScaler()),\n",
    "        ('KNN', neighbors.KNeighborsClassifier(n_neighbors))])\n",
    "predictor.fit(X_train, y_train)"
   ]
  },
  {
   "cell_type": "code",
   "execution_count": 22,
   "metadata": {
    "ExecuteTime": {
     "end_time": "2021-11-08T09:55:06.792955Z",
     "start_time": "2021-11-08T09:55:06.766402Z"
    },
    "deletable": false,
    "editable": false,
    "nbgrader": {
     "cell_type": "code",
     "checksum": "0401c4bb18f27e91f751fbd408c66bbf",
     "grade": true,
     "grade_id": "cell-87d690a661bb2ea0",
     "locked": true,
     "points": 2,
     "schema_version": 3,
     "solution": false,
     "task": false
    }
   },
   "outputs": [],
   "source": [
    "# Testing the precision in the training set\n",
    "yh=predictor.predict(X_train)\n",
    "train_score=metrics.accuracy_score(y_true=y_train, y_pred=yh)\n",
    "if len(predictor.steps)<2:\n",
    "    print(\"The predictor is not a pipeline. Did you forget scaling?\")\n",
    "assert(len(predictor.steps)>=2)\n",
    "assert(test_score > 0.95)\n"
   ]
  },
  {
   "cell_type": "code",
   "execution_count": 23,
   "metadata": {
    "ExecuteTime": {
     "end_time": "2021-11-08T09:55:07.331281Z",
     "start_time": "2021-11-08T09:55:07.328345Z"
    }
   },
   "outputs": [
    {
     "name": "stdout",
     "output_type": "stream",
     "text": [
      "1.0\n"
     ]
    }
   ],
   "source": [
    "print(train_score)"
   ]
  },
  {
   "cell_type": "markdown",
   "metadata": {},
   "source": [
    "## Task 4: Evaluation of the predictor\n",
    "\n",
    "Having trained the predictor, evaluate now it's performance using cross validation and test set. You may use `cross_val_score` function from the `sklearn.model_selection` library and `accuracy_score` from the `sklearn.metrics` library.\n",
    "\n",
    "Print also the confusion matrix to see which areas are miss-classified. Use `confusion_matrix` function from the `sklearn.metrics` library\n"
   ]
  },
  {
   "cell_type": "code",
   "execution_count": 36,
   "metadata": {
    "ExecuteTime": {
     "end_time": "2021-11-08T09:55:09.322079Z",
     "start_time": "2021-11-08T09:55:09.110300Z"
    },
    "deletable": false,
    "nbgrader": {
     "cell_type": "code",
     "checksum": "8a9d6be77f62bfa109437e6621fe7490",
     "grade": false,
     "grade_id": "cell-279389e544f5241e",
     "locked": false,
     "schema_version": 3,
     "solution": true,
     "task": false
    }
   },
   "outputs": [
    {
     "name": "stdout",
     "output_type": "stream",
     "text": [
      "Evaluation model performance with train dataset\n",
      "train_score = 1.0\n",
      "[[1087    0    0    0    0]\n",
      " [   0 6331    0    0    0]\n",
      " [   0    0 1149    0    0]\n",
      " [   0    0    0 2875    0]\n",
      " [   0    0    0    0 6373]]\n",
      "              precision    recall  f1-score   support\n",
      "\n",
      "    DarkSoil       1.00      1.00      1.00      1087\n",
      "      Forest       1.00      1.00      1.00      6331\n",
      "    HayField       1.00      1.00      1.00      1149\n",
      "  StrawField       1.00      1.00      1.00      2875\n",
      "       Water       1.00      1.00      1.00      6373\n",
      "\n",
      "    accuracy                           1.00     17815\n",
      "   macro avg       1.00      1.00      1.00     17815\n",
      "weighted avg       1.00      1.00      1.00     17815\n",
      "\n",
      "Evaluation model performance with test dataset\n",
      "test_score = 0.9998316214850985\n",
      "[[ 359    0    0    1    0]\n",
      " [   0 2160    0    0    0]\n",
      " [   0    0  411    0    0]\n",
      " [   0    0    0  975    0]\n",
      " [   0    0    0    0 2033]]\n",
      "              precision    recall  f1-score   support\n",
      "\n",
      "    DarkSoil       1.00      1.00      1.00       360\n",
      "      Forest       1.00      1.00      1.00      2160\n",
      "    HayField       1.00      1.00      1.00       411\n",
      "  StrawField       1.00      1.00      1.00       975\n",
      "       Water       1.00      1.00      1.00      2033\n",
      "\n",
      "    accuracy                           1.00      5939\n",
      "   macro avg       1.00      1.00      1.00      5939\n",
      "weighted avg       1.00      1.00      1.00      5939\n",
      "\n",
      "Cross validation score for the whole dataset: 0.999831614396969\n"
     ]
    }
   ],
   "source": [
    "#from sklearn ...\n",
    "#\n",
    "#cv_score= ...\n",
    "#train_score= ...\n",
    "#test_score= ...\n",
    "\n",
    "\n",
    "# YOUR CODE HERE\n",
    "from sklearn.model_selection import cross_val_score\n",
    "from sklearn.metrics import accuracy_score\n",
    "from sklearn.metrics import confusion_matrix\n",
    "\n",
    "# Assess the model for the train data set\n",
    "yh_train = predictor.predict(X_train)\n",
    "train_score=accuracy_score(y_train, yh_train)\n",
    "print(\"Evaluation model performance with train dataset\")\n",
    "print(f'train_score = {train_score}')\n",
    "print(confusion_matrix(y_true=y_train, y_pred=yh_train))\n",
    "print(classification_report(y_train, yh_train))\n",
    "\n",
    "# Assess the model for the test data set\n",
    "yh_test=predictor.predict(X_test)\n",
    "test_score=accuracy_score(y_true=y_test, y_pred=yh_test)\n",
    "print(\"Evaluation model performance with test dataset\")\n",
    "print(f'test_score = {test_score}')\n",
    "print(confusion_matrix(y_true=y_test, y_pred=yh_test))\n",
    "print(classification_report(y_test, yh_test))\n",
    "\n",
    "cv_score = cross_val_score(predictor, X, y, cv=5).mean()\n",
    "print(f'Cross validation score for the whole dataset: {cv_score}')"
   ]
  },
  {
   "cell_type": "code",
   "execution_count": 33,
   "metadata": {
    "ExecuteTime": {
     "end_time": "2021-11-08T09:55:11.100554Z",
     "start_time": "2021-11-08T09:55:11.098266Z"
    },
    "deletable": false,
    "editable": false,
    "nbgrader": {
     "cell_type": "code",
     "checksum": "2fc79fba1ef6d34da1df9a132a2b5bea",
     "grade": true,
     "grade_id": "cell-97372112517922a4",
     "locked": true,
     "points": 2,
     "schema_version": 3,
     "solution": false,
     "task": false
    }
   },
   "outputs": [],
   "source": [
    "assert(cv_score > 0.95)\n",
    "assert(train_score > 0.95)\n",
    "assert(test_score > 0.95)"
   ]
  },
  {
   "cell_type": "code",
   "execution_count": 39,
   "metadata": {},
   "outputs": [
    {
     "name": "stdout",
     "output_type": "stream",
     "text": [
      "DarkSoil StrawField 1450\n"
     ]
    }
   ],
   "source": [
    "for count, y in enumerate(y_test):\n",
    "    if y != yh_test[count]:\n",
    "        print(y, yh_test[count], count)"
   ]
  },
  {
   "cell_type": "markdown",
   "metadata": {
    "deletable": false,
    "editable": false,
    "nbgrader": {
     "cell_type": "markdown",
     "checksum": "a257839f5e94771ff910b16138342a32",
     "grade": false,
     "grade_id": "cell-ff616d9601f71903",
     "locked": true,
     "schema_version": 3,
     "solution": false,
     "task": false
    }
   },
   "source": [
    "## Task 5: Interpretation of the results\n",
    "\n",
    "1. What is your opinion of the precision you achieved?\n",
    "1. Can you see signs of overfitting? Why/Why not?\n",
    "1. Which samples were misclassified? To which class they were assigned?\n"
   ]
  },
  {
   "cell_type": "markdown",
   "metadata": {
    "deletable": false,
    "nbgrader": {
     "cell_type": "markdown",
     "checksum": "c7ea4687cfb6e265336ed6eb2c7523af",
     "grade": true,
     "grade_id": "cell-2400ed952e601287",
     "locked": false,
     "points": 2,
     "schema_version": 3,
     "solution": true,
     "task": false
    }
   },
   "source": [
    "YOUR ANSWER HERE"
   ]
  },
  {
   "cell_type": "markdown",
   "metadata": {},
   "source": [
    "1. In my opinion, the precision is incredibly high, for both train and test data sets, the validation scrore is approximately to 1.\n",
    "2. Since not only the score for training data is high, but also the validation score for testing and cross validation are also high, we could say that our model has a good generalization.\n",
    "3. When validatate the model with the test data set, there is only one sample that was missclassified. And that sample has the true lable as \"DarkSoil\", but was missclassified to \"Strawfield\"."
   ]
  }
 ],
 "metadata": {
  "interpreter": {
   "hash": "e8fd100a2c8866ae2d3e8b85cd01e709724ac0af43a714c586c6afac94a5cb88"
  },
  "kernelspec": {
   "display_name": "Python 3",
   "language": "python",
   "name": "python3"
  },
  "language_info": {
   "codemirror_mode": {
    "name": "ipython",
    "version": 3
   },
   "file_extension": ".py",
   "mimetype": "text/x-python",
   "name": "python",
   "nbconvert_exporter": "python",
   "pygments_lexer": "ipython3",
   "version": "3.8.8"
  },
  "toc": {
   "base_numbering": 1,
   "nav_menu": {},
   "number_sections": true,
   "sideBar": true,
   "skip_h1_title": false,
   "title_cell": "Table of Contents",
   "title_sidebar": "Contents",
   "toc_cell": false,
   "toc_position": {},
   "toc_section_display": true,
   "toc_window_display": false
  }
 },
 "nbformat": 4,
 "nbformat_minor": 4
}
