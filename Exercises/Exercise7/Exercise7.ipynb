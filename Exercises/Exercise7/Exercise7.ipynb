{
 "cells": [
  {
   "cell_type": "markdown",
   "metadata": {},
   "source": [
    "# Applied Machine Learning (2021), exercises\n",
    "\n",
    "\n",
    "## General instructions for all exercises\n",
    "\n",
    "Before you turn this problem in, make sure everything runs as expected. First, **restart the kernel** (in the menubar, select Kernel$\\rightarrow$Restart) and then **run all cells** (in the menubar, select Cell$\\rightarrow$Run All).\n",
    "\n",
    "Follow the instructions and fill in your solution under the line marked by tag\n",
    "\n",
    "> YOUR CODE HERE\n",
    "\n",
    "Do not change other areas of the document, since it may disturb the autograding of your results!\n",
    "  \n",
    "Having written the answer, execute the code cell by and pressing `Shift-Enter` key combination. The code is run, and it may print some information under the code cell. The focus automatically moves to the next cell and you may \"execute\" that cell by pressing `Shift-Enter` again, until you have reached the code cell which tests your solution. Execute that and follow the feedback. Usually it either says that the solution seems acceptable, or reports some errors. You can go back to your solution, modify it and repeat everything until you are satisfied. Then proceed to the next task.\n",
    "   \n",
    "Repeat the process for all tasks.\n",
    "\n",
    "The notebook may also contain manually graded answers. Write your manualle graded answer under the line marked by tag:\n",
    "\n",
    "> YOUR ANSWER HERE\n",
    "\n",
    "Manually graded tasks may be text, pseudocode, or mathematical formulas. You can write formulas with $\\LaTeX$-syntax by enclosing the formula with dollar signs (`$`), for example `$f(x)=2 \\pi / \\alpha$`, will produce $f(x)=2 \\pi / \\alpha$\n",
    "\n",
    "When you have passed the tests in the notebook, and you are ready to submit your solutions, download the whole notebook, using menu `File -> Download as -> Notebook (.ipynb)`. Save the file in your hard disk, and submit it in [Moodle](https://moodle.uwasa.fi) under the corresponding excercise.\n",
    "\n",
    "Your solution should be an executable Python code. Use the code already existing as an example of Python programing and read more from the numerous Python programming material from the Internet if necessary. \n"
   ]
  },
  {
   "cell_type": "code",
   "execution_count": null,
   "metadata": {},
   "outputs": [],
   "source": [
    "NAME = \"\"\n",
    "Student_number = \"\""
   ]
  },
  {
   "cell_type": "markdown",
   "metadata": {},
   "source": [
    "---"
   ]
  },
  {
   "cell_type": "markdown",
   "metadata": {},
   "source": [
    "## Neural Networks"
   ]
  },
  {
   "cell_type": "markdown",
   "metadata": {},
   "source": [
    "The following code creates a data set is a 3D data set of values in design matrix X and corresponding ground truth in vector y."
   ]
  },
  {
   "cell_type": "code",
   "execution_count": null,
   "metadata": {
    "ExecuteTime": {
     "end_time": "2021-11-18T17:05:53.986427Z",
     "start_time": "2021-11-18T17:05:53.594593Z"
    }
   },
   "outputs": [],
   "source": [
    "##>>> Some code for bootstrap\n",
    "import matplotlib.pyplot as plt\n",
    "import pandas as pd\n",
    "import numpy as np\n",
    "\n",
    "from sklearn import datasets \n",
    "from mpl_toolkits.mplot3d import Axes3D"
   ]
  },
  {
   "cell_type": "code",
   "execution_count": null,
   "metadata": {
    "ExecuteTime": {
     "end_time": "2021-11-18T17:05:56.476810Z",
     "start_time": "2021-11-18T17:05:55.939424Z"
    }
   },
   "outputs": [],
   "source": [
    "X,y=datasets.make_s_curve(n_samples=500, noise=0.2, random_state=0)\n",
    "\n",
    "fig = plt.figure(figsize=(7,7))\n",
    "ax = fig.add_subplot(111, projection='3d')\n",
    "ax.scatter(X[:,0], X[:,1], X[:,2], c=y, cmap='rainbow')\n",
    "ax.set_xlabel('x'); ax.set_ylabel('y'); ax.set_zlabel('z')\n",
    "plt.title('Data in 3D space')\n",
    "\n",
    "fig,axs=plt.subplots(nrows=1, ncols=3, figsize=(15,5))\n",
    "axs[0].scatter(X[:,0], X[:,1], c=y, cmap='rainbow')\n",
    "axs[1].scatter(X[:,0], X[:,2], c=y, cmap='rainbow')\n",
    "axs[2].scatter(X[:,1], X[:,2], c=y, cmap='rainbow')\n",
    "\n",
    "for i in range(3):\n",
    "    axs[i].set_title('2D-projection')\n",
    "    axs[i].set_xlabel(\"XXY\"[i])\n",
    "    axs[i].set_ylabel(\"YZZ\"[i])"
   ]
  },
  {
   "cell_type": "markdown",
   "metadata": {},
   "source": [
    "### Task 1: MLPRegressor\n",
    "\n",
    "Implement a `MLPRegressor` to predict `y` using data in `X`. Try different number of hidden layers and number of perceptrons in the hidden layer to reach good prediction accuracy measured by `r2_score` and `cross_val_score`. Avoid too high complexity so that prediction in the training set would be significantly better than in the cross-validation set.   "
   ]
  },
  {
   "cell_type": "code",
   "execution_count": null,
   "metadata": {
    "ExecuteTime": {
     "end_time": "2021-11-18T17:07:41.790441Z",
     "start_time": "2021-11-18T17:07:41.786146Z"
    }
   },
   "outputs": [],
   "source": [
    "from sklearn.neural_network import MLPRegressor\n",
    "from sklearn.metrics import r2_score\n",
    "from sklearn.model_selection import cross_val_score"
   ]
  },
  {
   "cell_type": "code",
   "execution_count": null,
   "metadata": {
    "ExecuteTime": {
     "end_time": "2021-11-18T17:18:41.123929Z",
     "start_time": "2021-11-18T17:18:38.064839Z"
    },
    "deletable": false,
    "nbgrader": {
     "cell_type": "code",
     "checksum": "55315f7f9ba15e1d079919959b6872f3",
     "grade": false,
     "grade_id": "cell-0fc6f13698a9a11b",
     "locked": false,
     "schema_version": 3,
     "solution": true,
     "task": false
    }
   },
   "outputs": [],
   "source": [
    "\n",
    "# YOUR CODE HERE\n",
    "raise NotImplementedError()\n",
    "\n",
    "print(\"Prediction accuracy in training set is\", accuracy)\n",
    "print(\"Prediction accuracy in cv is          \", accuracy_cv)"
   ]
  },
  {
   "cell_type": "code",
   "execution_count": null,
   "metadata": {
    "ExecuteTime": {
     "end_time": "2021-11-18T17:18:47.426861Z",
     "start_time": "2021-11-18T17:18:47.420443Z"
    },
    "deletable": false,
    "editable": false,
    "nbgrader": {
     "cell_type": "code",
     "checksum": "8cf8541219b7e59a9fd98da913c7cf13",
     "grade": true,
     "grade_id": "cell-d8c91c52d6353031",
     "locked": true,
     "points": 3,
     "schema_version": 3,
     "solution": false,
     "task": false
    }
   },
   "outputs": [],
   "source": [
    "if 'predictor' not in globals():\n",
    "    print(\"Use name predictor for MLPRegressor object, please.\")\n",
    "assert(accuracy>0.95)\n",
    "assert(accuracy_cv>0.93)\n",
    "assert(type(predictor)==MLPRegressor)"
   ]
  },
  {
   "cell_type": "markdown",
   "metadata": {},
   "source": [
    "## Task 2: Compare with Other regressor\n",
    "\n",
    "Implement `ExtraTreesRegressor`, and compare it's accuracy with `MPLRegerssor`. Set max depth of estimators to small enough, to avoid overfitting. Use suitable number of estimators."
   ]
  },
  {
   "cell_type": "code",
   "execution_count": null,
   "metadata": {
    "ExecuteTime": {
     "end_time": "2021-11-18T17:18:49.093039Z",
     "start_time": "2021-11-18T17:18:49.087600Z"
    }
   },
   "outputs": [],
   "source": [
    "from sklearn.ensemble import ExtraTreesRegressor"
   ]
  },
  {
   "cell_type": "code",
   "execution_count": null,
   "metadata": {
    "ExecuteTime": {
     "end_time": "2021-11-18T17:18:50.708355Z",
     "start_time": "2021-11-18T17:18:50.467029Z"
    },
    "deletable": false,
    "nbgrader": {
     "cell_type": "code",
     "checksum": "169e2218737143df04b09be4f694ce86",
     "grade": false,
     "grade_id": "cell-7d99a0aa4cb932e4",
     "locked": false,
     "schema_version": 3,
     "solution": true,
     "task": false
    }
   },
   "outputs": [],
   "source": [
    "# YOUR CODE HERE\n",
    "raise NotImplementedError()"
   ]
  },
  {
   "cell_type": "code",
   "execution_count": null,
   "metadata": {
    "ExecuteTime": {
     "end_time": "2021-11-18T17:18:55.005969Z",
     "start_time": "2021-11-18T17:18:54.748054Z"
    },
    "deletable": false,
    "editable": false,
    "nbgrader": {
     "cell_type": "code",
     "checksum": "3732ad2239ebce488c53c3fba5728a15",
     "grade": true,
     "grade_id": "cell-9bb23c7dc18db6ff",
     "locked": true,
     "points": 3,
     "schema_version": 3,
     "solution": false,
     "task": false
    }
   },
   "outputs": [],
   "source": [
    "if 'predictor2' not in globals():\n",
    "    print(\"Use name predictor2 for Extratreesegressor object, please.\")\n",
    "assert(type(predictor2)==ExtraTreesRegressor)\n"
   ]
  },
  {
   "cell_type": "markdown",
   "metadata": {},
   "source": [
    "## Task 3\n",
    "\n",
    "- Compare the performance of two regressors\n",
    "  - Accuracies\n",
    "  - Training time\n",
    "  - Prediction time (you may speculate this theoretically, or try to measure)\n",
    "- Do you think Ridge regression, Lasso or Elastic net would work in this case? Why/WHy not?"
   ]
  },
  {
   "cell_type": "markdown",
   "metadata": {
    "deletable": false,
    "nbgrader": {
     "cell_type": "markdown",
     "checksum": "8a6f23f31b3aeaf8e54fd4da1c42a18f",
     "grade": true,
     "grade_id": "cell-93a0d47f20379f85",
     "locked": false,
     "points": 3,
     "schema_version": 3,
     "solution": true,
     "task": false
    },
    "scrolled": true
   },
   "source": [
    "YOUR ANSWER HERE"
   ]
  },
  {
   "cell_type": "markdown",
   "metadata": {},
   "source": []
  }
 ],
 "metadata": {
  "kernelspec": {
   "display_name": "Python 3 (ipykernel)",
   "language": "python",
   "name": "python3"
  },
  "language_info": {
   "codemirror_mode": {
    "name": "ipython",
    "version": 3
   },
   "file_extension": ".py",
   "mimetype": "text/x-python",
   "name": "python",
   "nbconvert_exporter": "python",
   "pygments_lexer": "ipython3",
   "version": "3.9.2"
  },
  "toc": {
   "base_numbering": 1,
   "nav_menu": {},
   "number_sections": true,
   "sideBar": true,
   "skip_h1_title": false,
   "title_cell": "Table of Contents",
   "title_sidebar": "Contents",
   "toc_cell": false,
   "toc_position": {},
   "toc_section_display": true,
   "toc_window_display": false
  }
 },
 "nbformat": 4,
 "nbformat_minor": 2
}
