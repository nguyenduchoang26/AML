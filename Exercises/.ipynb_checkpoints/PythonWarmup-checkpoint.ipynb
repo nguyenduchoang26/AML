{
 "cells": [
  {
   "cell_type": "markdown",
   "id": "daffe2b8",
   "metadata": {},
   "source": [
    "# Python warmup"
   ]
  },
  {
   "cell_type": "markdown",
   "id": "fe141740",
   "metadata": {},
   "source": [
    "## Create a  python data structures\n",
    "\n",
    "1. Create a scalar variable, and print it\n",
    "1. Create a python list and print it using function `list()` or directly with syntax `l=[1,4,2,3]`\n",
    "1. Create a [numpy array](https://numpy.org/doc/stable/reference/generated/numpy.array.html) and print it. Tip: Import numpy library first by using: ```import numpy as np``` \n",
    "\n",
    "Python lists are suitable in many cases, but they are not efficient for large amounts of data or mathematical operations. Numpy arrays include a lot of useful functions which are packaged in numpy arrays."
   ]
  },
  {
   "cell_type": "code",
   "execution_count": 5,
   "id": "25ac66c7",
   "metadata": {},
   "outputs": [
    {
     "name": "stdout",
     "output_type": "stream",
     "text": [
      "python warmup\n",
      "[0, 1, 2, 'test']\n",
      "['1' '2' '3' '4' 'string']\n"
     ]
    }
   ],
   "source": [
    "# 1. Create a scalar variable, and print it\n",
    "scalar_var = \"python warmup\"\n",
    "print(scalar_var)\n",
    "# 2. Create a python list and print it\n",
    "list_var = [0, 1, 2, 'test']\n",
    "print(list_var)\n",
    "# 3. Create a numpy array and print it\n",
    "import numpy as np\n",
    "np_var = np.array([1, 2, 3, 4, 'string'])\n",
    "print(np_var)"
   ]
  },
  {
   "cell_type": "markdown",
   "id": "e0f3db40",
   "metadata": {},
   "source": [
    "## Use numpy functions for creating arrays\n",
    "\n",
    "1. Create a numpy array which has 100 consequent values between 0 and $\\pi$ using [np.linspace()](https://numpy.org/doc/stable/reference/generated/numpy.linspace.html?highlight=linspace#numpy.linspace). Use ```np.pi``` as constant for $\\pi$.\n",
    "1. Create a two-dimensional array of 5x5 [zeros](https://numpy.org/doc/stable/reference/generated/numpy.zeros.html?highlight=zeros#numpy.zeros) or 5x5 [ones](https://numpy.org/doc/stable/reference/generated/numpy.ones.html?highlight=ones#numpy.ones). using appropriate functions\n",
    "1. Create one more 2 dimensional array with the following code ```A=np.array([[1,2,3], [4,5,6]])```\n",
    "\n",
    "**TIP:** to find out what other functions or constants are included in NumPy package, write `np.` in the command line, and press TAB-key to get a list of possible completions, or SHIFT-TAB to get the help window."
   ]
  },
  {
   "cell_type": "code",
   "execution_count": 6,
   "id": "3971e609",
   "metadata": {},
   "outputs": [
    {
     "name": "stdout",
     "output_type": "stream",
     "text": [
      "[0.         0.03173326 0.06346652 0.09519978 0.12693304 0.1586663\n",
      " 0.19039955 0.22213281 0.25386607 0.28559933 0.31733259 0.34906585\n",
      " 0.38079911 0.41253237 0.44426563 0.47599889 0.50773215 0.53946541\n",
      " 0.57119866 0.60293192 0.63466518 0.66639844 0.6981317  0.72986496\n",
      " 0.76159822 0.79333148 0.82506474 0.856798   0.88853126 0.92026451\n",
      " 0.95199777 0.98373103 1.01546429 1.04719755 1.07893081 1.11066407\n",
      " 1.14239733 1.17413059 1.20586385 1.23759711 1.26933037 1.30106362\n",
      " 1.33279688 1.36453014 1.3962634  1.42799666 1.45972992 1.49146318\n",
      " 1.52319644 1.5549297  1.58666296 1.61839622 1.65012947 1.68186273\n",
      " 1.71359599 1.74532925 1.77706251 1.80879577 1.84052903 1.87226229\n",
      " 1.90399555 1.93572881 1.96746207 1.99919533 2.03092858 2.06266184\n",
      " 2.0943951  2.12612836 2.15786162 2.18959488 2.22132814 2.2530614\n",
      " 2.28479466 2.31652792 2.34826118 2.37999443 2.41172769 2.44346095\n",
      " 2.47519421 2.50692747 2.53866073 2.57039399 2.60212725 2.63386051\n",
      " 2.66559377 2.69732703 2.72906028 2.76079354 2.7925268  2.82426006\n",
      " 2.85599332 2.88772658 2.91945984 2.9511931  2.98292636 3.01465962\n",
      " 3.04639288 3.07812614 3.10985939 3.14159265]\n",
      "[[1. 1.]\n",
      " [1. 1.]\n",
      " [1. 1.]]\n",
      "[[1 2 3]\n",
      " [4 5 6]]\n"
     ]
    }
   ],
   "source": [
    "import numpy as np\n",
    "\n",
    "# 1. Create a numpy array which has 100 consequent values between 0 and 𝜋\n",
    "np1 = np.linspace(0, np.pi, num = 100)\n",
    "print(np1)\n",
    "# 2. Create a two-dimensional array of 5x5 zeros or 5x5 ones\n",
    "np2 = np.ones(shape = (3,2))\n",
    "print(np2)\n",
    "# 3. Create one more 2 dimensional array with the following code\n",
    "A=np.array([[1,2,3], [4,5,6]])\n",
    "print(A)"
   ]
  },
  {
   "cell_type": "markdown",
   "id": "d8f663ae",
   "metadata": {},
   "source": [
    "## Manipulate data structures\n",
    "1. Study the shape of previously created numpy arrays by using function ```.shape()``` included in the arrays you created.\n",
    "1. Try to calculate also the sum of all values in those arrays with ```.sum()``` function.\n",
    "1. Transpose a two dimensional array with function ```.T``` for example ```A.T```\n",
    "1. Transposing a one dimensional array looks sadly slightly illogical, because it needs to be also converted to two dimensional at the same time. The row vector `x` can be transposed to column vector with syntax `x.reshape(-1,1)`. Try it for some row vectors. \n",
    "1. Try also to transpose the column vector back to row vector\n"
   ]
  },
  {
   "cell_type": "code",
   "execution_count": 27,
   "id": "6766a2fb",
   "metadata": {},
   "outputs": [
    {
     "name": "stdout",
     "output_type": "stream",
     "text": [
      "np1.shape = (100,)\n",
      "np2.shape = (3, 2)\n",
      "A.shape = (2, 3)\n",
      "Sum of all in np1 = 157.07963267948963\n",
      "Sum of all in np2 = 6.0\n",
      "Sum of all in A = 21\n",
      "Transpose of np2:\n",
      " [[1. 1. 1.]\n",
      " [1. 1. 1.]]\n",
      "Transpose of A:\n",
      " [[1 4]\n",
      " [2 5]\n",
      " [3 6]]\n",
      "x1 after reshaped:\n",
      " [[0.        ]\n",
      " [0.78539816]\n",
      " [1.57079633]\n",
      " [2.35619449]\n",
      " [3.14159265]]\n",
      "x2 after reshaped:\n",
      " [[74]\n",
      " [41]\n",
      " [30]\n",
      " [72]\n",
      " [84]\n",
      " [44]\n",
      " [26]]\n",
      "x1 after reverted to row:\n",
      " [[0.         0.78539816 1.57079633 2.35619449 3.14159265]]\n",
      "x2 after reverted to row:\n",
      " [[74 41 30 72 84 44 26]]\n"
     ]
    }
   ],
   "source": [
    "# 1.Study the shape of previously created numpy arrays by using function .shape() included in the arrays you created\n",
    "print(f'np1.shape = {np1.shape}')\n",
    "print(f'np2.shape = {np2.shape}')\n",
    "print(f'A.shape = {A.shape}')\n",
    "# 2. Try to calculate also the sum of all values in those arrays with .sum() function\n",
    "print(f'Sum of all in np1 = {np1.sum()}')\n",
    "print(f'Sum of all in np2 = {np2.sum()}')\n",
    "print(f'Sum of all in A = {A.sum()}')\n",
    "# 3. Transpose a two dimensional array with function .T for example A.T\n",
    "print(f'Transpose of np2:\\n {np2.T}')\n",
    "print(f'Transpose of A:\\n {A.T}')\n",
    "# 4. Transposing a one dimensional\n",
    "x1 = np.linspace(0, np.pi, num = 5)\n",
    "x2 = np.random.randint(0, 100, size=(7))\n",
    "x1 = x1.reshape(-1,1)\n",
    "x2 = x2.reshape(-1,1)\n",
    "print(f'x1 after reshaped:\\n {x1}')\n",
    "print(f'x2 after reshaped:\\n {x2}')\n",
    "# 5. Try also to transpose the column vector back to row vector\n",
    "x1 = x1.reshape(1,-1)\n",
    "x2 = x2.reshape(1,-1)\n",
    "print(f'x1 after reverted to row:\\n {x1}')\n",
    "print(f'x2 after reverted to row:\\n {x2}')"
   ]
  },
  {
   "cell_type": "markdown",
   "id": "22cb05dc",
   "metadata": {},
   "source": [
    "## Summary\n",
    "1. NumPy arrays are very important data structures in Python for machine learning and mathematical operations\n",
    "1. Numpy arrays can be 1 dimensional or many dimensional\n",
    "1. Two dimensional arrays can be transposed like matrices in mathematics \n",
    "1. Numpy arrays contain a large amount of functions which can be applied to their content"
   ]
  },
  {
   "cell_type": "code",
   "execution_count": null,
   "id": "a93c443a",
   "metadata": {},
   "outputs": [],
   "source": []
  }
 ],
 "metadata": {
  "kernelspec": {
   "display_name": "Python 3",
   "language": "python",
   "name": "python3"
  },
  "language_info": {
   "codemirror_mode": {
    "name": "ipython",
    "version": 3
   },
   "file_extension": ".py",
   "mimetype": "text/x-python",
   "name": "python",
   "nbconvert_exporter": "python",
   "pygments_lexer": "ipython3",
   "version": "3.8.8"
  },
  "toc": {
   "base_numbering": 1,
   "nav_menu": {},
   "number_sections": true,
   "sideBar": true,
   "skip_h1_title": false,
   "title_cell": "Table of Contents",
   "title_sidebar": "Contents",
   "toc_cell": false,
   "toc_position": {},
   "toc_section_display": true,
   "toc_window_display": false
  }
 },
 "nbformat": 4,
 "nbformat_minor": 5
}
