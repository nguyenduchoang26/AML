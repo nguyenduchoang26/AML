{
 "cells": [
  {
   "cell_type": "markdown",
   "metadata": {},
   "source": [
    "# Applied Machine Learning (2021), exercises\n",
    "\n",
    "\n",
    "## General instructions for all exercises\n",
    "\n",
    "Before you turn this problem in, make sure everything runs as expected. First, **restart the kernel** (in the menubar, select Kernel$\\rightarrow$Restart) and then **run all cells** (in the menubar, select Cell$\\rightarrow$Run All).\n",
    "\n",
    "Follow the instructions and fill in your solution under the line marked by tag\n",
    "\n",
    "> YOUR CODE HERE\n",
    "\n",
    "Do not change other areas of the document, since it may disturb the autograding of your results!\n",
    "  \n",
    "Having written the answer, execute the code cell by and pressing `Shift-Enter` key combination. The code is run, and it may print some information under the code cell. The focus automatically moves to the next cell and you may \"execute\" that cell by pressing `Shift-Enter` again, until you have reached the code cell which tests your solution. Execute that and follow the feedback. Usually it either says that the solution seems acceptable, or reports some errors. You can go back to your solution, modify it and repeat everything until you are satisfied. Then proceed to the next task.\n",
    "   \n",
    "Repeat the process for all tasks.\n",
    "\n",
    "The notebook may also contain manually graded answers. Write your manualle graded answer under the line marked by tag:\n",
    "\n",
    "> YOUR ANSWER HERE\n",
    "\n",
    "Manually graded tasks may be text, pseudocode, or mathematical formulas. You can write formulas with $\\LaTeX$-syntax by enclosing the formula with dollar signs (`$`), for example `$f(x)=2 \\pi / \\alpha$`, will produce $f(x)=2 \\pi / \\alpha$\n",
    "\n",
    "When you have passed the tests in the notebook, and you are ready to submit your solutions, download the whole notebook, using menu `File -> Download as -> Notebook (.ipynb)`. Save the file in your hard disk, and submit it in [Moodle](https://moodle.uwasa.fi) under the corresponding excercise.\n",
    "\n",
    "Your solution should be an executable Python code. Use the code already existing as an example of Python programing and read more from the numerous Python programming material from the Internet if necessary. \n"
   ]
  },
  {
   "cell_type": "code",
   "execution_count": 1,
   "metadata": {},
   "outputs": [],
   "source": [
    "NAME = \"Duc Hoang Nguyen\"\n",
    "Student_number = \"d120411\""
   ]
  },
  {
   "cell_type": "markdown",
   "metadata": {},
   "source": [
    "---"
   ]
  },
  {
   "cell_type": "markdown",
   "metadata": {
    "slideshow": {
     "slide_type": "slide"
    }
   },
   "source": [
    "# ICAT3190, Exercise 1"
   ]
  },
  {
   "cell_type": "markdown",
   "metadata": {
    "slideshow": {
     "slide_type": "slide"
    }
   },
   "source": [
    "## Task 1\n",
    "\n",
    "Implement a function which calculates the Root Mean Square value of the input vector, according to the following formula:\n",
    "\n",
    "$$x_{rms}=\\sqrt{\\frac{1}{N}\\sum_{i=1}^{N} x_i^2} $$'\n",
    "\n",
    "Name your function as `myRMS`. It should take one input vector (x) as input and it returns single RMS value as output. Code your function in the cell below. When you think it is ready, execute it by pressing `Shift-Enter`. Then you can run the test cases in the next cell by hitting `Shift-Enter` again.\n",
    "\n",
    "- Remember to import necessary libraries, like numpy.\n",
    "- You may assume that the input vector is a numpy array, for example `x=np.array([1,2,3,4,5])`, or `x=np.linspace(0,1,500)`.\n",
    "- The power operator in python is `**`, while in many other programming languages it is `^`\n",
    "\n",
    "Read basics about python programming from [Dive into Python](https://diveinto.org/python3/table-of-contents.html) and use the documentation of [Numpy](https://numpy.org/).\n",
    "\n",
    "Check also the execution time of your program.\n",
    "\n",
    "**TIP**\n",
    "You may use the following template for your function:\n",
    "\n",
    "```\n",
    "def myRMS(x):\n",
    "    ...\n",
    "```"
   ]
  },
  {
   "cell_type": "code",
   "execution_count": 2,
   "metadata": {
    "ExecuteTime": {
     "end_time": "2021-09-28T18:59:41.452019Z",
     "start_time": "2021-09-28T18:59:40.673940Z"
    },
    "deletable": false,
    "nbgrader": {
     "cell_type": "code",
     "checksum": "7e43e6638f0aeb2cb6bdf38f3180a6a2",
     "grade": false,
     "grade_id": "cell-a63f475c126e250e",
     "locked": false,
     "schema_version": 3,
     "solution": true,
     "task": false
    },
    "slideshow": {
     "slide_type": "slide"
    }
   },
   "outputs": [],
   "source": [
    "%matplotlib inline\n",
    "\n",
    "from numpy import sqrt, square, mean\n",
    "import numpy as np\n",
    "\n",
    "# YOUR CODE HERE\n",
    "def myRMS(input):\n",
    "    rms = 0\n",
    "    for x in input:\n",
    "        rms = rms + x**2\n",
    "    rms = sqrt(rms/input.size)\n",
    "    return rms"
   ]
  },
  {
   "cell_type": "code",
   "execution_count": 3,
   "metadata": {
    "ExecuteTime": {
     "end_time": "2021-09-28T18:59:54.119445Z",
     "start_time": "2021-09-28T18:59:54.061574Z"
    },
    "deletable": false,
    "editable": false,
    "nbgrader": {
     "cell_type": "code",
     "checksum": "d9dc74c61e1c11eeb194c1cfa810076a",
     "grade": true,
     "grade_id": "cell-0bce15215e70f543",
     "locked": true,
     "points": 6,
     "schema_version": 3,
     "solution": false,
     "task": false
    },
    "slideshow": {
     "slide_type": "slide"
    }
   },
   "outputs": [
    {
     "name": "stdout",
     "output_type": "stream",
     "text": [
      "Wall time: 589 ms\n"
     ]
    },
    {
     "data": {
      "text/plain": [
       "5.387054886805616"
      ]
     },
     "execution_count": 3,
     "metadata": {},
     "output_type": "execute_result"
    }
   ],
   "source": [
    "### Tests for your code, Do not change!\n",
    "### There can be also additional hidden tests.\n",
    "### -----------------------------------\n",
    "from scipy.linalg import norm\n",
    "import numpy as np\n",
    "import sklearn\n",
    "\n",
    "from sklearn.metrics import mean_squared_error\n",
    "\n",
    "# Make a function for calculating rms using norm\n",
    "trueRMS = lambda x: sqrt(mean_squared_error(x,x*0))\n",
    "\n",
    "x1=np.array([2,2,2,2,2])\n",
    "assert(myRMS(x1)==2)\n",
    "\n",
    "x2=np.array([3,4,5.2,8,-2,0,1.2])\n",
    "assert(myRMS(x2)==trueRMS(x2))\n",
    "\n",
    "\n",
    "# Time it\n",
    "x4=np.random.normal(5,2,size=1000000)\n",
    "%time myRMS(x4)\n"
   ]
  },
  {
   "cell_type": "markdown",
   "metadata": {
    "slideshow": {
     "slide_type": "slide"
    }
   },
   "source": [
    "## Task 2\n",
    "\n",
    "Create a polynomial signal, $y$, and add some normal noise $\\mathcal{N}(\\mu, \\sigma)$ into it, where, $\\mu$, is the mean value of the noise and, $\\sigma$, is the standard deviation. Calculate the values of the signal in 100 points between $x \\in [0, 3]$. Create the signal according to the following formula:\n",
    "\n",
    "$$y=0.1 x^2 + 1.5 x + \\mathcal{N}(0,0.5) $$\n",
    "\n",
    "Then make a scatter plot of the $y$ against $x$. You can use the standard plot function, but do not use a line plot but plot only dots for all values using syntax `plt.plot(x,y,'*')`. Remember to import `plt` module from `matplotlib.pyplot as plt`.\n",
    "\n",
    "See how normal noise was created in the test cell (In [15]) of previous Task, using `np.random.normal()`. Use `np.linspace()` function to create a linear x-axis as was also shown in lecture notes.\n",
    "\n",
    "See examples from [MatplotLib tutorials](https://matplotlib.org/3.1.1/tutorials/index.html)."
   ]
  },
  {
   "cell_type": "code",
   "execution_count": 43,
   "metadata": {
    "ExecuteTime": {
     "end_time": "2021-09-28T19:08:53.491317Z",
     "start_time": "2021-09-28T19:08:53.488462Z"
    },
    "deletable": false,
    "nbgrader": {
     "cell_type": "code",
     "checksum": "5c381f6cf3a7a27a1aecdbd8a7e92dbf",
     "grade": false,
     "grade_id": "cell-8b494ff0f9ebfec9",
     "locked": false,
     "schema_version": 3,
     "solution": true,
     "task": false
    },
    "slideshow": {
     "slide_type": "slide"
    }
   },
   "outputs": [],
   "source": [
    "# YOUR CODE HERE\n",
    "x = np.linspace(start = 0, stop = 3, num = 100)\n",
    "noise = np.random.normal(0, 0.5, 100)\n",
    "y = 0.1*x**2 + 1.5*x + noise"
   ]
  },
  {
   "cell_type": "code",
   "execution_count": 44,
   "metadata": {
    "ExecuteTime": {
     "end_time": "2021-09-28T19:09:03.206214Z",
     "start_time": "2021-09-28T19:09:03.085230Z"
    },
    "deletable": false,
    "editable": false,
    "nbgrader": {
     "cell_type": "code",
     "checksum": "c913da6f43e98d3af600c7f69a5a229c",
     "grade": true,
     "grade_id": "cell-12465ad6bb660424",
     "locked": true,
     "points": 2,
     "schema_version": 3,
     "solution": false,
     "task": false
    },
    "slideshow": {
     "slide_type": "slide"
    }
   },
   "outputs": [
    {
     "data": {
      "text/plain": [
       "<matplotlib.collections.PathCollection at 0x1e081197100>"
      ]
     },
     "execution_count": 44,
     "metadata": {},
     "output_type": "execute_result"
    },
    {
     "data": {
      "image/png": "[encoded data removed]",
      "text/plain": [
       "<Figure size 432x288 with 1 Axes>"
      ]
     },
     "metadata": {
      "needs_background": "light"
     },
     "output_type": "display_data"
    }
   ],
   "source": [
    "# Look visually, if the result looks like it should\n",
    "\n",
    "import matplotlib.pyplot as plt\n",
    "plt.scatter(x,y)"
   ]
  },
  {
   "cell_type": "code",
   "execution_count": 45,
   "metadata": {
    "ExecuteTime": {
     "end_time": "2021-09-28T19:49:58.902750Z",
     "start_time": "2021-09-28T19:49:58.898902Z"
    },
    "deletable": false,
    "editable": false,
    "nbgrader": {
     "cell_type": "code",
     "checksum": "387eddeee200c388c28638da17613f8e",
     "grade": true,
     "grade_id": "cell-5d603014f7ce3886",
     "locked": true,
     "points": 4,
     "schema_version": 3,
     "solution": false,
     "task": false
    },
    "slideshow": {
     "slide_type": "slide"
    }
   },
   "outputs": [],
   "source": [
    "### Some tests for your code.\n",
    "### -----------------------------------\n",
    "assert(len(x)==100)\n",
    "assert((y.mean()>2.4) and (y.mean()<2.7))\n",
    "assert((y.min()>-1.5) and (y.max()<7))\n",
    "assert((y.std()>1.2) and (y.std()<2))"
   ]
  },
  {
   "cell_type": "markdown",
   "metadata": {
    "slideshow": {
     "slide_type": "slide"
    }
   },
   "source": [
    "## Task 3\n",
    "\n",
    "Make a function, which optimize a one dimensional linear model, by finding and optimal value for coefficient $k$ so that the error $E$ given by the following formula is minimized:\n",
    "\n",
    "$$ E = \\sum_{i=1}^N (y - k\\cdot x)^2 $$\n",
    "\n",
    "You may use \n",
    " 1. brute force solution and try suitable values for $k$ in a loop.\n",
    " 1. or use the [LinearRegression](https://scikit-learn.org/stable/modules/generated/sklearn.linear_model.LinearRegression.html#sklearn.linear_model.LinearRegression) model from sklearn package\n",
    "\n",
    "Either way, define a function which takes $x$ and $y$ as input and returns a tuple containing both the coefficient $k$ and the RMS error $E$ of the model. \n",
    "   \n",
    "- Does the model fit into the data? \n",
    "- The model is linear, so it tries to fit a line into the data, what is the slope of the fitted line?\n",
    "\n",
    "**TIP**\n",
    "If you use LinearRegression, remember to traspose $x$ into column vector for example in the following way: ```x=xoriginal.reshape(-1,1)```\n",
    "\n",
    "\n",
    "**TIP 2**\n",
    "You may use the following template for your function\n",
    "```\n",
    "def linreg(x,y):\n",
    "    k=0.5\n",
    "    E=0.0\n",
    "    return (k,E) \n",
    "```\n"
   ]
  },
  {
   "cell_type": "code",
   "execution_count": 46,
   "metadata": {
    "ExecuteTime": {
     "end_time": "2021-09-28T19:45:47.407670Z",
     "start_time": "2021-09-28T19:45:47.402870Z"
    },
    "deletable": false,
    "nbgrader": {
     "cell_type": "code",
     "checksum": "267254b40258f972b38504b1acda4c6f",
     "grade": false,
     "grade_id": "cell-240bc2d5471596e1",
     "locked": false,
     "schema_version": 3,
     "solution": true,
     "task": false
    },
    "slideshow": {
     "slide_type": "slide"
    }
   },
   "outputs": [],
   "source": [
    "from sklearn.linear_model import LinearRegression\n",
    "\n",
    "# YOUR CODE HERE\n",
    "from sklearn.metrics import mean_squared_error\n",
    "def linreg(x,y):\n",
    "    x_reshaped = x.reshape(-1, 1)\n",
    "    reg = LinearRegression(fit_intercept=False)\n",
    "    reg = reg.fit(x_reshaped, y)\n",
    "    k = reg.coef_[0]\n",
    "\n",
    "    y_predicted = reg.predict(x_reshaped)\n",
    "    E = mean_squared_error(y, y_predicted)\n",
    "\n",
    "    print(f'coefficient k = {k}')\n",
    "    print(f'RMS error E = {E}')\n",
    "\n",
    "    return (k,E)"
   ]
  },
  {
   "cell_type": "code",
   "execution_count": 47,
   "metadata": {
    "ExecuteTime": {
     "end_time": "2021-09-28T19:45:56.296893Z",
     "start_time": "2021-09-28T19:45:56.251632Z"
    },
    "deletable": false,
    "editable": false,
    "nbgrader": {
     "cell_type": "code",
     "checksum": "f2f2b3d059edc53b5d6ede788c071afe",
     "grade": true,
     "grade_id": "cell-b54ffd8eab916c4a",
     "locked": true,
     "points": 6,
     "schema_version": 3,
     "solution": false,
     "task": false
    },
    "slideshow": {
     "slide_type": "slide"
    }
   },
   "outputs": [
    {
     "name": "stdout",
     "output_type": "stream",
     "text": [
      "coefficient k = 1.7056750986769698\n",
      "RMS error E = 0.22745386314839786\n",
      "Seems working\n"
     ]
    }
   ],
   "source": [
    "k,E=linreg(x,y)\n",
    "assert(abs(k-1.69)<0.2)\n",
    "print (\"Seems working\")\n",
    "\n"
   ]
  },
  {
   "cell_type": "markdown",
   "metadata": {
    "ExecuteTime": {
     "end_time": "2021-09-28T19:38:16.891942Z",
     "start_time": "2021-09-28T19:38:16.889805Z"
    }
   },
   "source": [
    "## Analyze the results\n",
    "1. Does the model fit into the data well? \n",
    "1. The model is linear, so it tries to fit a line into the data, what is the slope of the fitted line?\n",
    "1. Mention two reasons why the model does not fit better?"
   ]
  },
  {
   "cell_type": "code",
   "execution_count": 49,
   "metadata": {},
   "outputs": [
    {
     "name": "stdout",
     "output_type": "stream",
     "text": [
      "RSS = 22.745386314839784\n",
      "TSS = 277.9650576916041\n",
      "RSE = 0.4817631977671758\n",
      "R-square = 0.9181717784827643\n",
      "test statistic = 42.671122667179546 \n",
      " -> which is large enough to conclude that we can reject the null hypothesis that the slope = 0.\n",
      "p-value = 0.0 \n",
      " -> p-value < 0.05 which implies that the slope K is statistically significant.\n"
     ]
    }
   ],
   "source": [
    "# Quality of linear regression models can be assessed by the RSE, R-square and p-value.\n",
    "\n",
    "import numpy as np\n",
    "from scipy import stats\n",
    "\n",
    "X = x.reshape(-1, 1)\n",
    "linReg = LinearRegression(fit_intercept=False)\n",
    "linReg = linReg.fit(X, y)\n",
    "\n",
    "estimates = linReg.predict(X)\n",
    "\n",
    "# Calculate residual sum of squares RSS = sum[(y - estimates)^2]\n",
    "rss = np.sum((y - estimates) ** 2, axis=0)\n",
    "# Calculate total sum of squares TSS = sum[(y - y_mean)^2]\n",
    "tss = np.sum((y - y.mean()) ** 2, axis=0)\n",
    "\n",
    "# Calculate residual standard of error RSE = [RSS/(number_samples - 2)]^(1/2)\n",
    "rse = (rss / (X.shape[0] - 2))**(1/2)\n",
    "# Calculate R-square = 1 - RSS/TSS\n",
    "r2 = 1 - rss/tss\n",
    "\n",
    "# Here we continue with hypothesis test for the slope K\n",
    "# Calculate standard error for the slope K\n",
    "se = np.array([np.sqrt(np.diagonal(rse * np.linalg.inv(np.dot(X.T, X))))])\n",
    "# Calculate t-test = slope/standard_error(K)\n",
    "t_test = (linReg.coef_[0]/se)[0][0]\n",
    "# Use stats module in scipy library to calculate p-value based on t-test\n",
    "p = 2 * (1 - stats.t.cdf(np.abs(t_test), X.shape[0] - 1))\n",
    "\n",
    "print(f'RSS = {rss}')\n",
    "print(f'TSS = {tss}')\n",
    "print(f'RSE = {rse}')\n",
    "print(f'R-square = {r2}')\n",
    "\n",
    "print(f'test statistic = {t_test} \\n -> which is large enough to conclude that we can reject the null hypothesis that the slope = 0.')\n",
    "print(f'p-value = {p} \\n -> p-value < 0.05 which implies that the slope K is statistically significant.')"
   ]
  },
  {
   "cell_type": "code",
   "execution_count": 58,
   "metadata": {},
   "outputs": [
    {
     "data": {
      "image/png": "[encoded data removed]",
      "text/plain": [
       "<Figure size 432x288 with 1 Axes>"
      ]
     },
     "metadata": {
      "needs_background": "light"
     },
     "output_type": "display_data"
    }
   ],
   "source": [
    "fig = plt.figure()\n",
    "ax = fig.add_subplot()\n",
    "\n",
    "ax.scatter(X, y, s=15, c='b', label='y')\n",
    "ax.scatter(X, estimates, s=10, c='r', label='predicted y')\n",
    "plt.legend(loc='upper left');\n",
    "plt.show()"
   ]
  },
  {
   "cell_type": "markdown",
   "metadata": {
    "deletable": false,
    "nbgrader": {
     "cell_type": "markdown",
     "checksum": "0bcf2801ac3a2c67fc9e2b44c412288d",
     "grade": true,
     "grade_id": "cell-946f021701add528",
     "locked": false,
     "points": 6,
     "schema_version": 3,
     "solution": true,
     "task": false
    }
   },
   "source": [
    "YOUR ANSWER HERE\n",
    "1. Does the model fit into the data well?\n",
    "   - Firstly RSE $\\approx$ 0.48 which measures the average amount of estimates deviate from the regression, is reasonably low. \n",
    "   - On the other hand, R-square $\\approx$ 0.92 which measures how well the model fits the data, meaning that our model can explain $\\approx$ 92% data points of the data set. \n",
    "   - We can conclude that our model has a good fit and is well-explaining the data.\n",
    "2. The model is linear, so it tries to fit a line into the data, what is the slope of the fitted line?\n",
    "   - The slope of the fitted line is K $\\approx$ 1.71\n",
    "3. Mention two reasons why the model does not fit better?\n",
    "   - The original relationship between x and y is a polynomial of degree 2 function, whereas our estimator is a linear function. This is the reason why the model can not fit better if we have a large enough data set with a wider range.\n",
    "   - The second reason is that there is the random error term $\\mathcal{N}(\\mu, \\sigma)$ that has been introduced to the data set. \n",
    "   "
   ]
  },
  {
   "cell_type": "markdown",
   "metadata": {
    "slideshow": {
     "slide_type": "skip"
    }
   },
   "source": [
    "The end :)"
   ]
  }
 ],
 "metadata": {
  "kernelspec": {
   "display_name": "Python 3",
   "language": "python",
   "name": "python3"
  },
  "language_info": {
   "codemirror_mode": {
    "name": "ipython",
    "version": 3
   },
   "file_extension": ".py",
   "mimetype": "text/x-python",
   "name": "python",
   "nbconvert_exporter": "python",
   "pygments_lexer": "ipython3",
   "version": "3.8.8"
  },
  "toc": {
   "base_numbering": 1,
   "nav_menu": {},
   "number_sections": true,
   "sideBar": true,
   "skip_h1_title": false,
   "title_cell": "Table of Contents",
   "title_sidebar": "Contents",
   "toc_cell": false,
   "toc_position": {},
   "toc_section_display": true,
   "toc_window_display": false
  }
 },
 "nbformat": 4,
 "nbformat_minor": 2
}
