{
 "cells": [
  {
   "cell_type": "markdown",
   "metadata": {},
   "source": [
    "# Applied Machine Learning (2020), exercises\n",
    "\n",
    "\n",
    "## General instructions for all exercises\n",
    "\n",
    "Before you turn this problem in, make sure everything runs as expected. First, **restart the kernel** (in the menubar, select Kernel$\\rightarrow$Restart) and then **run all cells** (in the menubar, select Cell$\\rightarrow$Run All).\n",
    "\n",
    "Follow the instructions and fill in your solution under the line marked by tag\n",
    "\n",
    "> YOUR CODE HERE\n",
    "  \n",
    "Do not otherwise change the notebook, because it can disturb the autograding!\n",
    "\n",
    "Having written the answer, execute the code cell by and pressing `Shift-Enter` key combination. The code is run, and it may print some information under the code cell. The focus automatically moves to the next cell and you may \"execute\" that cell by pressing `Shift-Enter` again, until you have reached the code cell which tests your solution. Execute that and follow the feedback. Usually it either says that the solution seems acceptable, or reports some errors. You can go back to your solution, modify it and repeat everything until you are satisfied. Then proceed to the next task.\n",
    "   \n",
    "Repeat the process for all tasks.\n",
    "\n",
    "The notebook may also contain manually graded answers. Write your manualle graded answer under the line marked by tag:\n",
    "\n",
    "> YOUR ANSWER HERE\n",
    "\n",
    "Manually graded tasks may be text, pseudocode, or mathematical formulas. You can write formulas with $\\LaTeX$-syntax by enclosing the formula with dollar signs (`$`), for example `$f(x)=2 \\pi / \\alpha$`, will produce $f(x)=2 \\pi / \\alpha$\n",
    "\n",
    "When you have passed the tests in the notebook, and you are ready to submit your solutions, download the whole notebook, using menu `File -> Download as -> Notebook (.ipynb)`. Save the file in your hard disk, and submit it in [Moodle](https://moodle.uwasa.fi) under the corresponding excercise.\n",
    "\n",
    "Your solution should be an executable Python code. Use the code already existing as an example of Python programing and read more from the numerous Python programming material from the Internet if necessary. \n"
   ]
  },
  {
   "cell_type": "code",
   "execution_count": 18,
   "metadata": {},
   "outputs": [
    {
     "name": "stdout",
     "output_type": "stream",
     "text": [
      "Optimization terminated successfully.\n",
      "         Current function value: 0.392311\n",
      "         Iterations 7\n",
      "                           Logit Regression Results                           \n",
      "==============================================================================\n",
      "Dep. Variable:                      y   No. Observations:                   10\n",
      "Model:                          Logit   Df Residuals:                        7\n",
      "Method:                           MLE   Df Model:                            2\n",
      "Date:                Sun, 24 Oct 2021   Pseudo R-squ.:                  0.4340\n",
      "Time:                        15:46:08   Log-Likelihood:                -3.9231\n",
      "converged:                       True   LL-Null:                       -6.9315\n",
      "Covariance Type:            nonrobust   LLR p-value:                   0.04937\n",
      "==============================================================================\n",
      "                 coef    std err          z      P>|z|      [0.025      0.975]\n",
      "------------------------------------------------------------------------------\n",
      "const         -8.2769      5.320     -1.556      0.120     -18.704       2.150\n",
      "x1             0.7286      0.520      1.401      0.161      -0.291       1.748\n",
      "x2             1.1514      0.770      1.495      0.135      -0.358       2.661\n",
      "==============================================================================\n"
     ]
    }
   ],
   "source": [
    "import numpy as np\n",
    "import matplotlib.pyplot as plt\n",
    "from scipy.stats import norm\n",
    "import statsmodels.api as sm\n",
    "\n",
    "Y = np.array([0, 0, 1, 0, 1, 0, 1, 0, 1, 1])    # Label (Project outcome, 1=Success, 0=Failure)\n",
    "X1 = np.array([6, 3, 7, 4, 7, 10, 9, 2, 5, 5])  # Feature 1 (Project manager skills)\n",
    "X2 = np.array([1, 3, 6, 3, 3, 1, 6, 6, 3, 6])   # Feature 2 (Level of Quality (# of Sigma’s))\n",
    "# Stack 2 input features into an array with shape (10, 2) (10 data points with 2 features)\n",
    "X = np.stack((X1, X2), axis = 1)\n",
    "\n",
    "X = sm.add_constant(X)          # Enable intercept\n",
    "model = sm.Logit(Y, X).fit()    # Fit a logistic regression model to the given data\n",
    "print(model.summary())          # Summary"
   ]
  },
  {
   "cell_type": "code",
   "execution_count": 23,
   "metadata": {},
   "outputs": [
    {
     "name": "stdout",
     "output_type": "stream",
     "text": [
      "                            OLS Regression Results                            \n",
      "==============================================================================\n",
      "Dep. Variable:                      y   R-squared:                       0.466\n",
      "Model:                            OLS   Adj. R-squared:                  0.313\n",
      "Method:                 Least Squares   F-statistic:                     3.048\n",
      "Date:                Sun, 24 Oct 2021   Prob (F-statistic):              0.112\n",
      "Time:                        15:58:09   Log-Likelihood:                -4.1257\n",
      "No. Observations:                  10   AIC:                             14.25\n",
      "Df Residuals:                       7   BIC:                             15.16\n",
      "Df Model:                           2                                         \n",
      "Covariance Type:            nonrobust                                         \n",
      "==============================================================================\n",
      "                 coef    std err          t      P>|t|      [0.025      0.975]\n",
      "------------------------------------------------------------------------------\n",
      "const         -0.6467      0.500     -1.294      0.237      -1.829       0.535\n",
      "x1             0.0950      0.059      1.617      0.150      -0.044       0.234\n",
      "x2             0.1567      0.073      2.154      0.068      -0.015       0.329\n",
      "==============================================================================\n",
      "Omnibus:                        0.936   Durbin-Watson:                   2.524\n",
      "Prob(Omnibus):                  0.626   Jarque-Bera (JB):                0.687\n",
      "Skew:                           0.547   Prob(JB):                        0.709\n",
      "Kurtosis:                       2.326   Cond. No.                         26.7\n",
      "==============================================================================\n",
      "\n",
      "Notes:\n",
      "[1] Standard Errors assume that the covariance matrix of the errors is correctly specified.\n"
     ]
    },
    {
     "name": "stderr",
     "output_type": "stream",
     "text": [
      "C:\\Softwares\\Anaconda3\\lib\\site-packages\\scipy\\stats\\stats.py:1603: UserWarning: kurtosistest only valid for n>=20 ... continuing anyway, n=10\n",
      "  warnings.warn(\"kurtosistest only valid for n>=20 ... continuing \"\n"
     ]
    }
   ],
   "source": [
    "import numpy as np\n",
    "import matplotlib.pyplot as plt\n",
    "from scipy.stats import norm\n",
    "import statsmodels.api as sm\n",
    "\n",
    "Y = np.array([0, 0, 1, 0, 1, 0, 1, 0, 1, 1])    # Label (Project outcome, 1=Success, 0=Failure)\n",
    "X1 = np.array([6, 3, 7, 4, 7, 10, 9, 2, 5, 5])  # Feature 1 (Project manager skills)\n",
    "X2 = np.array([1, 3, 6, 3, 3, 1, 6, 6, 3, 6])   # Feature 2 (Level of Quality (# of Sigma’s))\n",
    "# Stack 2 input features into an array with shape (10, 2) (10 data points with 2 features)\n",
    "X = np.stack((X1, X2), axis = 1)\n",
    "\n",
    "X = sm.add_constant(X)        # Enable intercept\n",
    "model = sm.OLS(Y, X).fit()    # Fit a logistic regression model to the given data\n",
    "print(model.summary())        # Summary"
   ]
  },
  {
   "cell_type": "code",
   "execution_count": null,
   "metadata": {},
   "outputs": [],
   "source": [
    "NAME = \"\"\n",
    "Student_number = \"\""
   ]
  },
  {
   "cell_type": "markdown",
   "metadata": {},
   "source": [
    "---"
   ]
  },
  {
   "cell_type": "markdown",
   "metadata": {
    "slideshow": {
     "slide_type": "slide"
    }
   },
   "source": [
    "# ICAT3190, Module 1"
   ]
  },
  {
   "cell_type": "markdown",
   "metadata": {
    "slideshow": {
     "slide_type": "slide"
    }
   },
   "source": [
    "## Task 1\n",
    "\n",
    "Implement a function which calculates the Root Mean Square value of the input vector, according to the following formula:\n",
    "\n",
    "$$x_{rms}=\\sqrt{\\frac{1}{N}\\sum_{i=1}^{N} x_i^2} $$'\n",
    "\n",
    "Name your function as `myRMS`. It should take one input vector (x) as input and it returns single RMS value as output. Code your function in the cell below. When you think it is ready, execute it by pressing `Shift-Enter`. Then you can run the test cases in the next cell by hitting `Shift-Enter` again.\n",
    "\n",
    "- Remember to import necessary libraries, like numpy.\n",
    "- You may assume that the input vector is a numpy array, for example `x=np.array([1,2,3,4,5])`, or `x=np.linspace(0,1,500)`.\n",
    "- The power operator in python is `**`, while in many other programming languages it is `^`\n",
    "\n",
    "Read basics about python programming from [Dive into Python](https://diveinto.org/python3/table-of-contents.html) and use the documentation of [Numpy](https://numpy.org/).\n",
    "\n",
    "Check also the execution time of your program."
   ]
  },
  {
   "cell_type": "code",
   "execution_count": null,
   "metadata": {
    "deletable": false,
    "nbgrader": {
     "cell_type": "code",
     "checksum": "c568e4978b6270ffba4fb0d1227b234b",
     "grade": false,
     "grade_id": "cell-a63f475c126e250e",
     "locked": false,
     "schema_version": 3,
     "solution": true,
     "task": false
    },
    "slideshow": {
     "slide_type": "slide"
    }
   },
   "outputs": [],
   "source": [
    "%matplotlib inline\n",
    "\n",
    "from numpy import sqrt, square, mean\n",
    "\n",
    "# YOUR CODE HERE\n",
    "raise NotImplementedError()"
   ]
  },
  {
   "cell_type": "code",
   "execution_count": null,
   "metadata": {
    "deletable": false,
    "editable": false,
    "nbgrader": {
     "cell_type": "code",
     "checksum": "d9dc74c61e1c11eeb194c1cfa810076a",
     "grade": true,
     "grade_id": "cell-0bce15215e70f543",
     "locked": true,
     "points": 6,
     "schema_version": 3,
     "solution": false,
     "task": false
    },
    "slideshow": {
     "slide_type": "slide"
    }
   },
   "outputs": [],
   "source": [
    "### Tests for your code, Do not change!\n",
    "### There can be also additional hidden tests.\n",
    "### -----------------------------------\n",
    "from scipy.linalg import norm\n",
    "import numpy as np\n",
    "import sklearn\n",
    "\n",
    "from sklearn.metrics import mean_squared_error\n",
    "\n",
    "# Make a function for calculating rms using norm\n",
    "trueRMS = lambda x: sqrt(mean_squared_error(x,x*0))\n",
    "\n",
    "x1=np.array([2,2,2,2,2])\n",
    "assert(myRMS(x1)==2)\n",
    "\n",
    "x2=np.array([3,4,5.2,8,-2,0,1.2])\n",
    "assert(myRMS(x2)==trueRMS(x2))\n",
    "\n",
    "\n",
    "# Time it\n",
    "x4=np.random.normal(5,2,size=1000000)\n",
    "%time myRMS(x4)\n"
   ]
  },
  {
   "cell_type": "markdown",
   "metadata": {
    "slideshow": {
     "slide_type": "slide"
    }
   },
   "source": [
    "## Task 2\n",
    "\n",
    "Create a polynomial signal, $y$, and add some normal noise $\\mathcal{N}(\\mu, \\sigma)$ into it, where, $\\mu$, is the mean value of the noise and, $\\sigma$, is the standard deviation. Calculate the values of the signal in 100 points between $x \\in [0, 3]$. Create the signal according to the following formula:\n",
    "\n",
    "$$y=0.1 x^2 + 1.5 x + \\mathcal{N}(0,0.5) $$\n",
    "\n",
    "Then make a scatter plot of the $y$ against $x$. You can use the standard plot function, but do not use a line plot but plot only dots for all values using syntax `plt.plot(x,y,'*')`. Remember to import `plt` module from `matplotlib.pyplot as plt`.\n",
    "\n",
    "See how normal noise was created in the test cell (In [15]) of previous Task, using `np.random.normal()`. Use `np.linspace()` function to create a linear x-axis as was also shown in lecture notes.\n",
    "\n",
    "See examples from [MatplotLib tutorials](https://matplotlib.org/3.1.1/tutorials/index.html)."
   ]
  },
  {
   "cell_type": "code",
   "execution_count": 3,
   "metadata": {
    "deletable": false,
    "nbgrader": {
     "cell_type": "code",
     "checksum": "5c381f6cf3a7a27a1aecdbd8a7e92dbf",
     "grade": false,
     "grade_id": "cell-8b494ff0f9ebfec9",
     "locked": false,
     "schema_version": 3,
     "solution": true,
     "task": false
    },
    "slideshow": {
     "slide_type": "slide"
    }
   },
   "outputs": [],
   "source": [
    "# YOUR CODE HERE\n",
    "import numpy as np\n",
    "np.linspace\n"
   ]
  },
  {
   "cell_type": "code",
   "execution_count": null,
   "metadata": {
    "deletable": false,
    "editable": false,
    "nbgrader": {
     "cell_type": "code",
     "checksum": "1c3c2c50e88c94955aeba3dea0bd7c8c",
     "grade": true,
     "grade_id": "cell-12465ad6bb660424",
     "locked": true,
     "points": 2,
     "schema_version": 3,
     "solution": false,
     "task": false
    },
    "slideshow": {
     "slide_type": "slide"
    }
   },
   "outputs": [],
   "source": [
    "# Look visually, if the result looks like it should\n",
    "\n",
    "import matplotlib.pyplot as plt\n",
    "plt.plot(x,y, '*')"
   ]
  },
  {
   "cell_type": "code",
   "execution_count": null,
   "metadata": {
    "deletable": false,
    "editable": false,
    "nbgrader": {
     "cell_type": "code",
     "checksum": "84bb61ca1c6228cbaa98aed643a4ec94",
     "grade": true,
     "grade_id": "cell-5d603014f7ce3886",
     "locked": true,
     "points": 4,
     "schema_version": 3,
     "solution": false,
     "task": false
    },
    "slideshow": {
     "slide_type": "slide"
    }
   },
   "outputs": [],
   "source": [
    "### Tests for your code.\n",
    "### -----------------------------------\n",
    "assert(len(x)==100)\n",
    "assert((y.mean()>2.4) and (y.mean()<2.7))\n",
    "assert((y.min()>-1) and (y.max()<6.4))\n",
    "assert((y.std()>1.2) and (y.std()<2))"
   ]
  },
  {
   "cell_type": "markdown",
   "metadata": {
    "slideshow": {
     "slide_type": "slide"
    }
   },
   "source": [
    "## Task 3\n",
    "Fit orninary linearn regression model into the data which you just created, using the statsmodel library. Read instructions from [statsmodel documentation](https://www.statsmodels.org/stable/index.html). Use the second example for numpy arrays.\n",
    "\n",
    "In python data models, the typical flow of action is that you first import the model class from a library, then you instanatiate the model and then you fit the model to the data. The fitted model contains the model parameters and also some statistics describing the fitness of the model.\n",
    "\n",
    "Now do the following:\n",
    " 1. Import statsmodels.api module\n",
    " 1. Instantiate OLS model and store it as variable `model`\n",
    " 1. Fit your model to the data, y,x and store your fitted model as variable `fitted_model`\n",
    " 1. Print the summary of your model according to the instructions in the documentation\n",
    " 1. Study especially three values in the summary\n",
    "   1. R-squared\n",
    "   1. The coef-parameter of x1\n",
    "   1. The P-value of x1\n",
    "   \n",
    "- Does the model fit into the data? How much variance does it explain?\n",
    "- The model is linear, so it tries to fit a line into the data, what is the slope of the fitted line?\n",
    "- What is the probability that the slope is actually zero, but it is now found to be different by chance?"
   ]
  },
  {
   "cell_type": "code",
   "execution_count": null,
   "metadata": {
    "deletable": false,
    "nbgrader": {
     "cell_type": "code",
     "checksum": "c5424fdd17d9d19a6a7a6c6823b1cee5",
     "grade": false,
     "grade_id": "cell-240bc2d5471596e1",
     "locked": false,
     "schema_version": 3,
     "solution": true,
     "task": false
    },
    "slideshow": {
     "slide_type": "slide"
    }
   },
   "outputs": [],
   "source": [
    "# YOUR CODE HERE\n",
    "raise NotImplementedError()"
   ]
  },
  {
   "cell_type": "code",
   "execution_count": null,
   "metadata": {
    "deletable": false,
    "editable": false,
    "nbgrader": {
     "cell_type": "code",
     "checksum": "d9ba45eaf35cec0ea3c77933ca25c3c7",
     "grade": true,
     "grade_id": "cell-123ef52f2813c389",
     "locked": true,
     "points": 3,
     "schema_version": 3,
     "solution": false,
     "task": false
    },
    "slideshow": {
     "slide_type": "slide"
    }
   },
   "outputs": [],
   "source": [
    "# List the parameters of the fitted model\n",
    "print(fitted_model.summary())"
   ]
  },
  {
   "cell_type": "code",
   "execution_count": null,
   "metadata": {
    "deletable": false,
    "editable": false,
    "nbgrader": {
     "cell_type": "code",
     "checksum": "3e720e802c78708d3a72744c25a6a451",
     "grade": true,
     "grade_id": "cell-b54ffd8eab916c4a",
     "locked": true,
     "points": 8,
     "schema_version": 3,
     "solution": false,
     "task": false
    },
    "slideshow": {
     "slide_type": "slide"
    }
   },
   "outputs": [],
   "source": []
  },
  {
   "cell_type": "markdown",
   "metadata": {
    "slideshow": {
     "slide_type": "skip"
    }
   },
   "source": [
    "The end :)"
   ]
  }
 ],
 "metadata": {
  "kernelspec": {
   "display_name": "Python 3",
   "language": "python",
   "name": "python3"
  },
  "language_info": {
   "codemirror_mode": {
    "name": "ipython",
    "version": 3
   },
   "file_extension": ".py",
   "mimetype": "text/x-python",
   "name": "python",
   "nbconvert_exporter": "python",
   "pygments_lexer": "ipython3",
   "version": "3.8.8"
  },
  "toc": {
   "base_numbering": 1,
   "nav_menu": {},
   "number_sections": true,
   "sideBar": true,
   "skip_h1_title": false,
   "title_cell": "Table of Contents",
   "title_sidebar": "Contents",
   "toc_cell": false,
   "toc_position": {},
   "toc_section_display": true,
   "toc_window_display": false
  }
 },
 "nbformat": 4,
 "nbformat_minor": 2
}
