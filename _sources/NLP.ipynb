{
 "cells": [
  {
   "cell_type": "markdown",
   "id": "b7a1d613",
   "metadata": {
    "slideshow": {
     "slide_type": "slide"
    }
   },
   "source": [
    "# Natural Language Processing"
   ]
  },
  {
   "cell_type": "markdown",
   "id": "fd32e201",
   "metadata": {
    "slideshow": {
     "slide_type": "fragment"
    }
   },
   "source": [
    "Natural Language Processing (NLP) is an important part of Machine Learning. In Python there is a good library called as Natural Language Toolkit (NLTK).\n",
    "\n",
    "The NLTK toolkit can be installed first with PIP/Conda\n",
    "\n",
    "`pip install nltk` or \n",
    "`conda install nltk`\n",
    "\n",
    "For downloading and parsing web content, it is also necessary to install packages \n",
    "\n",
    "`pip install requests beautifulsoup4` or \n",
    "`conda install requests beautifulsoup4`\n",
    "\n",
    "Then import it and download some additional components of nltk and sample data (corpus). You can even download them all, since they do not require huge amount of disk space\n",
    "\n",
    "Regular experssions are also very usefull for many kinds of general text processing. Learn how to use [Python RE](https://docs.python.org/3/howto/regex.html)."
   ]
  },
  {
   "cell_type": "code",
   "execution_count": 1,
   "id": "8a8b9d83",
   "metadata": {
    "ExecuteTime": {
     "end_time": "2021-11-25T08:10:20.944241Z",
     "start_time": "2021-11-25T08:10:20.926725Z"
    },
    "slideshow": {
     "slide_type": "subslide"
    }
   },
   "outputs": [],
   "source": [
    "# You can use an interactive console side by side with the notebook\n",
    "# by starting the Qt-console\n",
    "%qtconsole"
   ]
  },
  {
   "cell_type": "code",
   "execution_count": 2,
   "id": "9230aeb4",
   "metadata": {
    "ExecuteTime": {
     "end_time": "2021-11-25T08:10:22.157608Z",
     "start_time": "2021-11-25T08:10:20.951749Z"
    },
    "slideshow": {
     "slide_type": "subslide"
    }
   },
   "outputs": [],
   "source": [
    "# Standard libraries to be used\n",
    "import matplotlib.pyplot as plt\n",
    "import numpy as np\n",
    "plt.style.use('fivethirtyeight')\n",
    "\n",
    "# Library for making web requests and parsing text from web page\n",
    "# These are needed now only, because we want to get text from the \n",
    "# web page\n",
    "import requests \n",
    "from bs4 import BeautifulSoup\n",
    "\n",
    "# A regular experssion library. This is very usefull for text processing\n",
    "import re\n",
    "\n",
    "# Import the NLTK library\n",
    "import nltk\n",
    "\n",
    "# Run this, if you want to download more modules from the net\n",
    "# nltk.download()"
   ]
  },
  {
   "cell_type": "markdown",
   "id": "9b5937cc",
   "metadata": {
    "slideshow": {
     "slide_type": "subslide"
    }
   },
   "source": [
    "## Read data from a web page"
   ]
  },
  {
   "cell_type": "code",
   "execution_count": 3,
   "id": "cda5d8c1",
   "metadata": {
    "ExecuteTime": {
     "end_time": "2021-11-25T08:10:22.632311Z",
     "start_time": "2021-11-25T08:10:22.161378Z"
    },
    "slideshow": {
     "slide_type": "subslide"
    }
   },
   "outputs": [
    {
     "name": "stdout",
     "output_type": "stream",
     "text": [
      "<title>INdoor navigation from CUBesAt TEchnology (INCUBATE) | University of Vaasa</title>\n",
      "\n",
      "The project will research the application of small satellite technology for precise positioning of indoor spaces and navigation. A new small satellite will also be designed in the project. A sufficiently accurate positioning service that works seamlessly in outdoor and indoor spaces does not currently exist. GPS does not work reliably indoors and between high buildings in cities, not to mention telling the room or floor of the location. – A solution for precise positioning, navigation and timing can be found by utilising LEO small satellites that orbit the earth at a low altitude. They send a stronger signal to the earth than the traditional positioning satellites and orbit the earth faster than them, even in 40 minutes. If proposals about building an internet based on small satellites are realised, there will be about 50,000 active satellites orbiting the earth in ten years,  In the three-year INdoor navigation form CUBesAt Technology i.e. INCUBATE research project, the objective is to study how positioning, navigation and timing (PNT) based on small satellites can be used in indoor spaces. The project will also research the commercial potential of the solution and revenue possibilities, partly jointly with companies. The technology developed in the project will offer extensive application potential for many industry sectors. The researchers intend to also develop the use of current small satellites for positioning, as well as new payload, i.e. equipment and software carried by the satellite, to improve navigation solutions. The satellite signal and its reception must be optimised so that a sufficiently high-performing satellite signal can be defined for accurate positioning and navigation. From the University of Vaasa, the Digital Economy research platform headed by Heidi Kuusniemi is involved in the project, as well as the International Business and Marketing research group represented in the project by Arto Ojala, Professor of International Business. Other researchers in the project are Kendall Rutledge and Petri Välisuo, Jani Boutellier and Mohammed Elmusrati, together with their doctoral researchers. The research project led by the University of Vaasa receives funding in the amount of EUR 950,000 from the Building the Future - Taking Action programme of the Centennial Foundation of the Federation of Finnish Technology Industries and Jane and Aatos Erkko Foundation.   Project leader: Director, professor Heidi Kuusniemi, Digital Economy -research platform, University of Vaasa   More information: Press release Organisation coordinating the project University of Vaasa Project partners Tampereen yliopisto Aalto University National Land Survey of Finland Funding partners Technology Industries of Finland Centennial Foundation\n"
     ]
    }
   ],
   "source": [
    "## Read INCUBATE project's web page\n",
    "url='https://www.uwasa.fi/en/research/projects/indoor-navigation-cubesat-technology-incubate'\n",
    "html_text = requests.get(url).text\n",
    "\n",
    "# And parse the text out from the page\n",
    "soup = BeautifulSoup(html_text, 'html.parser')\n",
    "print(soup.title)\n",
    "print(\"\")\n",
    "\n",
    "# Use regular expressions to replace a strig of spaces and newlines with a single space\n",
    "alltext=re.sub('[\\n ]+', ' ', soup.text)\n",
    "text=alltext[1341:-281]\n",
    "print(text)\n",
    "\n",
    "# Write the actual content into a file for later use\n",
    "with open('data/digieco.txt', 'w') as fid:\n",
    "    fid.write(text)"
   ]
  },
  {
   "cell_type": "markdown",
   "id": "1eef12c7",
   "metadata": {
    "slideshow": {
     "slide_type": "subslide"
    }
   },
   "source": [
    "## Split the text into words and sentences"
   ]
  },
  {
   "cell_type": "code",
   "execution_count": 4,
   "id": "b8a4548f",
   "metadata": {
    "ExecuteTime": {
     "end_time": "2021-11-25T08:10:22.637018Z",
     "start_time": "2021-11-25T08:10:22.634855Z"
    },
    "slideshow": {
     "slide_type": "fragment"
    }
   },
   "outputs": [],
   "source": [
    "from nltk.corpus import stopwords\n",
    "from nltk.tokenize import word_tokenize, sent_tokenize"
   ]
  },
  {
   "cell_type": "code",
   "execution_count": 5,
   "id": "ce8cc164",
   "metadata": {
    "ExecuteTime": {
     "end_time": "2021-11-25T08:10:22.664230Z",
     "start_time": "2021-11-25T08:10:22.651612Z"
    }
   },
   "outputs": [
    {
     "name": "stdout",
     "output_type": "stream",
     "text": [
      "17\n",
      "450\n",
      "['The', 'project', 'will', 'research', 'the', 'application', 'of', 'small', 'satellite', 'technology', 'for', 'precise', 'positioning', 'of', 'indoor', 'spaces', 'and', 'navigation', '.', 'A']\n",
      "\n",
      "0 : The project will research the application of small satellite technology for precise positioning of indoor spaces and navigation.\n",
      "1 : A new small satellite will also be designed in the project.\n",
      "2 : A sufficiently accurate positioning service that works seamlessly in outdoor and indoor spaces does not currently exist.\n"
     ]
    }
   ],
   "source": [
    "sentences=sent_tokenize(text)\n",
    "words=word_tokenize(text)\n",
    "print(len(sentences))\n",
    "print(len(words))\n",
    "print(words[:20])\n",
    "print(\"\")\n",
    "for i in range(3):\n",
    "    print(i, \":\", sentences[i])"
   ]
  },
  {
   "cell_type": "markdown",
   "id": "5ff2939d",
   "metadata": {
    "ExecuteTime": {
     "end_time": "2021-11-23T17:14:57.126814Z",
     "start_time": "2021-11-23T17:14:57.119972Z"
    },
    "slideshow": {
     "slide_type": "subslide"
    }
   },
   "source": [
    "## Remove common words\n",
    "The text contains plenty of small words, which are common in all texts, and they are not therefore very useful in analyzing the context of a specific piece of text. These stop words are often removed.\n",
    "\n",
    "Computer usually assumes that lowercase and uppercase are different, but the case does not matter in the meaning of the words. Therefore all words are usually normalized to small case characters before further analysis."
   ]
  },
  {
   "cell_type": "code",
   "execution_count": 6,
   "id": "ad774474",
   "metadata": {
    "ExecuteTime": {
     "end_time": "2021-11-25T08:10:22.771911Z",
     "start_time": "2021-11-25T08:10:22.665968Z"
    },
    "slideshow": {
     "slide_type": "fragment"
    }
   },
   "outputs": [
    {
     "name": "stdout",
     "output_type": "stream",
     "text": [
      "294\n"
     ]
    },
    {
     "data": {
      "text/plain": [
       "['project',\n",
       " 'research',\n",
       " 'application',\n",
       " 'small',\n",
       " 'satellite',\n",
       " 'technology',\n",
       " 'precise',\n",
       " 'positioning',\n",
       " 'indoor',\n",
       " 'spaces',\n",
       " 'navigation',\n",
       " '.',\n",
       " 'new',\n",
       " 'small',\n",
       " 'satellite',\n",
       " 'also',\n",
       " 'designed',\n",
       " 'project',\n",
       " '.',\n",
       " 'sufficiently']"
      ]
     },
     "execution_count": 6,
     "metadata": {},
     "output_type": "execute_result"
    }
   ],
   "source": [
    "from nltk.corpus import stopwords\n",
    "stop_words_fin = set(stopwords.words(\"finnish\"))\n",
    "stop_words = set(stopwords.words(\"english\"))\n",
    "more = stop_words.union(set(['article', 'link']))  # Extend the list by words you are not interested in\n",
    "\n",
    "filtered_words=[]\n",
    "for word in words:\n",
    "    lcword = word.casefold()\n",
    "    # Skip words containing digits (if you like)\n",
    "    if re.match('\\d+', lcword):\n",
    "        continue\n",
    "    # Skip stop words and punctuations \n",
    "    if lcword not in stop_words:\n",
    "        filtered_words.append(lcword)\n",
    "\n",
    "print(len(filtered_words))\n",
    "filtered_words[:20]"
   ]
  },
  {
   "cell_type": "markdown",
   "id": "64cd57fa",
   "metadata": {
    "slideshow": {
     "slide_type": "subslide"
    }
   },
   "source": [
    "## Stemming\n",
    "\n",
    "The same word may have different forms, such as design, designing, designs. Stemming means finding the root of the word in order to make the computer to understand that the word is the same, even if it is in different form."
   ]
  },
  {
   "cell_type": "code",
   "execution_count": 7,
   "id": "8c337d9a",
   "metadata": {
    "ExecuteTime": {
     "end_time": "2021-11-25T08:10:22.821504Z",
     "start_time": "2021-11-25T08:10:22.781823Z"
    },
    "slideshow": {
     "slide_type": "fragment"
    }
   },
   "outputs": [
    {
     "name": "stdout",
     "output_type": "stream",
     "text": [
      "design design design\n"
     ]
    }
   ],
   "source": [
    "from nltk.stem import PorterStemmer, SnowballStemmer\n",
    "\n",
    "stemmer = SnowballStemmer(language='english') # Finnish is also supported :)\n",
    "\n",
    "print(stemmer.stem('designing'), stemmer.stem('designs'), stemmer.stem('design'))\n",
    "stemmed_words = [stemmer.stem(word) for word in filtered_words]"
   ]
  },
  {
   "cell_type": "code",
   "execution_count": 8,
   "id": "ee8552b3",
   "metadata": {
    "ExecuteTime": {
     "end_time": "2021-11-25T08:10:22.849701Z",
     "start_time": "2021-11-25T08:10:22.837416Z"
    },
    "scrolled": true,
    "slideshow": {
     "slide_type": "subslide"
    }
   },
   "outputs": [
    {
     "name": "stdout",
     "output_type": "stream",
     "text": [
      "            Original                 Stem\n",
      "          -----------------------------------\n",
      "             project              project\n",
      "            research             research\n",
      "         application               applic\n",
      "               small                small\n",
      "           satellite             satellit\n",
      "          technology            technolog\n",
      "             precise               precis\n",
      "         positioning                posit\n",
      "              indoor               indoor\n",
      "              spaces                space\n",
      "          navigation                navig\n",
      "                   .                    .\n",
      "                 new                  new\n",
      "               small                small\n",
      "           satellite             satellit\n"
     ]
    }
   ],
   "source": [
    "print(\"%20s %20s\" % ('Original', 'Stem'))\n",
    "print(\" \"*10 + \"-\"*35)\n",
    "for i in range(15):\n",
    "    print(\"%20s %20s\" % (filtered_words[i], stemmed_words[i]))\n"
   ]
  },
  {
   "cell_type": "markdown",
   "id": "61259a38",
   "metadata": {
    "slideshow": {
     "slide_type": "subslide"
    }
   },
   "source": [
    "## Lemmatizing\n",
    "\n",
    "Changes words to their basic forms, so that all output words are proper words, not only the stems.\n",
    "Lemma is the basic form of the word, which represents a group of words."
   ]
  },
  {
   "cell_type": "code",
   "execution_count": 9,
   "id": "720ad10b",
   "metadata": {
    "ExecuteTime": {
     "end_time": "2021-11-25T08:10:22.856958Z",
     "start_time": "2021-11-25T08:10:22.852521Z"
    },
    "slideshow": {
     "slide_type": "fragment"
    }
   },
   "outputs": [],
   "source": [
    "from nltk.stem import WordNetLemmatizer\n",
    "lemmatizer = WordNetLemmatizer()"
   ]
  },
  {
   "cell_type": "code",
   "execution_count": 10,
   "id": "b6dd10d4",
   "metadata": {
    "ExecuteTime": {
     "end_time": "2021-11-25T08:10:24.053350Z",
     "start_time": "2021-11-25T08:10:22.860340Z"
    },
    "slideshow": {
     "slide_type": "subslide"
    }
   },
   "outputs": [
    {
     "name": "stdout",
     "output_type": "stream",
     "text": [
      "            Original,                 Stem,           Lemmatized\n",
      "          -------------------------------------------------------\n",
      "             project,              project,              project\n",
      "            research,             research,             research\n",
      "         application,               applic,          application\n",
      "               small,                small,                small\n",
      "           satellite,             satellit,            satellite\n",
      "          technology,            technolog,           technology\n",
      "             precise,               precis,              precise\n",
      "         positioning,                posit,          positioning\n",
      "              indoor,               indoor,               indoor\n",
      "              spaces,                space,                space\n",
      "          navigation,                navig,           navigation\n",
      "                   .,                    .,                    .\n",
      "                 new,                  new,                  new\n",
      "               small,                small,                small\n",
      "           satellite,             satellit,            satellite\n",
      "                also,                 also,                 also\n",
      "            designed,               design,             designed\n",
      "             project,              project,              project\n",
      "                   .,                    .,                    .\n",
      "        sufficiently,              suffici,         sufficiently\n",
      "            accurate,                accur,             accurate\n",
      "         positioning,                posit,          positioning\n",
      "             service,               servic,              service\n",
      "               works,                 work,                 work\n",
      "          seamlessly,             seamless,           seamlessly\n"
     ]
    }
   ],
   "source": [
    "lemmatized_words = [lemmatizer.lemmatize(word) for word in filtered_words]\n",
    "\n",
    "print(\"%20s, %20s, %20s\" % ('Original', 'Stem', 'Lemmatized'))\n",
    "print(\" \"*10 + \"-\"*55)\n",
    "for i in range(25):\n",
    "    print(\"%20s, %20s, %20s\" % (filtered_words[i], stemmed_words[i], lemmatized_words[i]))\n"
   ]
  },
  {
   "cell_type": "code",
   "execution_count": 11,
   "id": "bd4d8db9",
   "metadata": {
    "ExecuteTime": {
     "end_time": "2021-11-25T08:10:24.057718Z",
     "start_time": "2021-11-25T08:10:24.054716Z"
    },
    "slideshow": {
     "slide_type": "subslide"
    }
   },
   "outputs": [
    {
     "name": "stdout",
     "output_type": "stream",
     "text": [
      "worst\n",
      "bad\n"
     ]
    }
   ],
   "source": [
    "# The position of the word can be specically adjusted, now as adjective, noun is the default\n",
    "print(lemmatizer.lemmatize(\"worst\", pos=\"n\"))\n",
    "print(lemmatizer.lemmatize(\"worst\", pos=\"a\"))"
   ]
  },
  {
   "cell_type": "markdown",
   "id": "2f2c25fd",
   "metadata": {
    "slideshow": {
     "slide_type": "subslide"
    }
   },
   "source": [
    "## Finding the parts of speech\n",
    "\n",
    "*Sanaluokat*\n",
    "\n",
    "`nltk.help.upenn_tagset()`\n",
    "\n",
    " - DT=Determiner <br>\n",
    " - JJ=Adjective\n",
    " - NN=Noun\n",
    " - MD=Modal auxiliary\n",
    " - RB=Adverb\n",
    " - VB=Verb\n",
    " - VBN=Verb, past participle\n",
    " - WDT=WH determiner\n",
    " - VBZ=Verb, preset tense\n",
    " - ..."
   ]
  },
  {
   "cell_type": "code",
   "execution_count": 12,
   "id": "6ee1c977",
   "metadata": {
    "ExecuteTime": {
     "end_time": "2021-11-25T08:10:24.441755Z",
     "start_time": "2021-11-25T08:10:24.059061Z"
    },
    "scrolled": false,
    "slideshow": {
     "slide_type": "subslide"
    }
   },
   "outputs": [
    {
     "data": {
      "text/plain": [
       "[('The', 'DT'),\n",
       " ('project', 'NN'),\n",
       " ('will', 'MD'),\n",
       " ('research', 'NN'),\n",
       " ('the', 'DT'),\n",
       " ('application', 'NN'),\n",
       " ('of', 'IN'),\n",
       " ('small', 'JJ'),\n",
       " ('satellite', 'NN'),\n",
       " ('technology', 'NN'),\n",
       " ('for', 'IN'),\n",
       " ('precise', 'JJ'),\n",
       " ('positioning', 'NN'),\n",
       " ('of', 'IN'),\n",
       " ('indoor', 'JJ'),\n",
       " ('spaces', 'NNS'),\n",
       " ('and', 'CC'),\n",
       " ('navigation', 'NN'),\n",
       " ('.', '.'),\n",
       " ('A', 'DT')]"
      ]
     },
     "execution_count": 12,
     "metadata": {},
     "output_type": "execute_result"
    }
   ],
   "source": [
    "tags=nltk.pos_tag(words)\n",
    "tags[:20]"
   ]
  },
  {
   "cell_type": "code",
   "execution_count": 13,
   "id": "0fe0a81c",
   "metadata": {
    "ExecuteTime": {
     "end_time": "2021-11-25T08:10:24.451850Z",
     "start_time": "2021-11-25T08:10:24.443767Z"
    },
    "slideshow": {
     "slide_type": "subslide"
    }
   },
   "outputs": [
    {
     "data": {
      "text/plain": [
       "array([['be', 'VB'],\n",
       "       ['work', 'VB'],\n",
       "       ['mention', 'VB'],\n",
       "       ['–', 'VB'],\n",
       "       ['be', 'VB'],\n",
       "       ['orbit', 'VB'],\n",
       "       ['be', 'VB'],\n",
       "       ['study', 'VB'],\n",
       "       ['be', 'VB'],\n",
       "       ['offer', 'VB']], dtype='<U15')"
      ]
     },
     "execution_count": 13,
     "metadata": {},
     "output_type": "execute_result"
    }
   ],
   "source": [
    "# Select all verbs, print first 10\n",
    "tagsarray=np.array(tags)\n",
    "i=tagsarray[:,1]=='VB'\n",
    "tagsarray[i][:10]"
   ]
  },
  {
   "cell_type": "code",
   "execution_count": 14,
   "id": "5072561f",
   "metadata": {
    "ExecuteTime": {
     "end_time": "2021-11-25T08:10:24.472029Z",
     "start_time": "2021-11-25T08:10:24.456994Z"
    },
    "slideshow": {
     "slide_type": "subslide"
    }
   },
   "outputs": [
    {
     "data": {
      "text/plain": [
       "array([['project', 'NN'],\n",
       "       ['research', 'NN'],\n",
       "       ['application', 'NN'],\n",
       "       ['satellite', 'NN'],\n",
       "       ['technology', 'NN'],\n",
       "       ['positioning', 'NN'],\n",
       "       ['navigation', 'NN'],\n",
       "       ['satellite', 'NN'],\n",
       "       ['project', 'NN'],\n",
       "       ['positioning', 'NN']], dtype='<U15')"
      ]
     },
     "execution_count": 14,
     "metadata": {},
     "output_type": "execute_result"
    }
   ],
   "source": [
    "# Select all nouns, print first 10\n",
    "tagsarray=np.array(tags)\n",
    "i=tagsarray[:,1]=='NN'\n",
    "tagsarray[i][:10]"
   ]
  },
  {
   "cell_type": "code",
   "execution_count": 15,
   "id": "e823907c",
   "metadata": {
    "ExecuteTime": {
     "end_time": "2021-11-25T08:10:24.510643Z",
     "start_time": "2021-11-25T08:10:24.478145Z"
    },
    "scrolled": true,
    "slideshow": {
     "slide_type": "subslide"
    }
   },
   "outputs": [
    {
     "data": {
      "text/plain": [
       "array([['small', 'JJ'],\n",
       "       ['precise', 'JJ'],\n",
       "       ['indoor', 'JJ'],\n",
       "       ['new', 'JJ'],\n",
       "       ['small', 'JJ'],\n",
       "       ['accurate', 'JJ'],\n",
       "       ['indoor', 'JJ'],\n",
       "       ['high', 'JJ'],\n",
       "       ['small', 'JJ'],\n",
       "       ['low', 'JJ']], dtype='<U15')"
      ]
     },
     "execution_count": 15,
     "metadata": {},
     "output_type": "execute_result"
    }
   ],
   "source": [
    "# Select all adjectives, print first 10\n",
    "tagsarray=np.array(tags)\n",
    "i=tagsarray[:,1]=='JJ'\n",
    "tagsarray[i][:10]"
   ]
  },
  {
   "cell_type": "markdown",
   "id": "14cb65ab",
   "metadata": {
    "slideshow": {
     "slide_type": "subslide"
    }
   },
   "source": [
    "## Parsing grammar\n",
    "\n",
    "A simple syntax of a grammar can be defined using a template with syntax resembling regular expressions, as follows:\n",
    "\n",
    "A noun phrase *NP* is a sentence which starts with optional determiner *DT* and can have zero or more adjectives *JJ* and it must have a noun *NN* in the end. \n",
    "\n",
    "The Regexp Parser can use this grammatic rule and find the sentences matching to this rule from the text:"
   ]
  },
  {
   "cell_type": "code",
   "execution_count": 16,
   "id": "de207c64",
   "metadata": {
    "ExecuteTime": {
     "end_time": "2021-11-25T08:10:52.098515Z",
     "start_time": "2021-11-25T08:10:24.515899Z"
    },
    "slideshow": {
     "slide_type": "subslide"
    }
   },
   "outputs": [
    {
     "data": {
      "image/png": "[encoded data removed]",
      "text/plain": [
       "Tree('S', [Tree('NP', [('The', 'DT'), ('project', 'NN')]), ('will', 'MD'), Tree('NP', [('research', 'NN')]), Tree('NP', [('the', 'DT'), ('application', 'NN')]), ('of', 'IN'), Tree('NP', [('small', 'JJ'), ('satellite', 'NN')]), Tree('NP', [('technology', 'NN')]), ('for', 'IN'), Tree('NP', [('precise', 'JJ'), ('positioning', 'NN')]), ('of', 'IN'), ('indoor', 'JJ'), ('spaces', 'NNS'), ('and', 'CC'), Tree('NP', [('navigation', 'NN')]), ('.', '.'), ('A', 'DT')])"
      ]
     },
     "execution_count": 16,
     "metadata": {},
     "output_type": "execute_result"
    }
   ],
   "source": [
    "grammar = \"NP: {<DT>?<JJ>*<NN>}\"\n",
    "chunk_parser = nltk.RegexpParser(grammar)\n",
    "tree = chunk_parser.parse(tags[:20])\n",
    "tree "
   ]
  },
  {
   "cell_type": "markdown",
   "id": "911d0242",
   "metadata": {
    "slideshow": {
     "slide_type": "subslide"
    }
   },
   "source": [
    "## Finding named entities\n",
    "\n",
    "Named entity recognizer can be used for finding named entities such as persons, organizations, locations, times, facilities or geographical locations (GPE)."
   ]
  },
  {
   "cell_type": "code",
   "execution_count": 17,
   "id": "4aaa9c37",
   "metadata": {
    "ExecuteTime": {
     "end_time": "2021-11-25T08:10:52.829099Z",
     "start_time": "2021-11-25T08:10:52.103621Z"
    },
    "slideshow": {
     "slide_type": "fragment"
    }
   },
   "outputs": [
    {
     "data": {
      "image/png": "[encoded data removed]",
      "text/plain": [
       "Tree('S', [('professor', 'NN'), Tree('PERSON', [('Heidi', 'NNP'), ('Kuusniemi', 'NNP')]), (',', ','), Tree('ORGANIZATION', [('Digital', 'NNP'), ('Economy', 'NNP')]), ('-research', 'NNP'), ('platform', 'NN'), (',', ','), Tree('ORGANIZATION', [('University', 'NNP')]), ('of', 'IN'), Tree('PERSON', [('Vaasa', 'NNP'), ('More', 'NNP')])])"
      ]
     },
     "execution_count": 17,
     "metadata": {},
     "output_type": "execute_result"
    }
   ],
   "source": [
    "#tree = nltk.ne_chunk(pos_tags[140:160])\n",
    "tree = nltk.ne_chunk(tags[-43:-30])\n",
    "tree"
   ]
  },
  {
   "cell_type": "code",
   "execution_count": 18,
   "id": "f7afa5db",
   "metadata": {
    "ExecuteTime": {
     "end_time": "2021-11-25T08:10:53.019921Z",
     "start_time": "2021-11-25T08:10:52.830598Z"
    },
    "slideshow": {
     "slide_type": "subslide"
    }
   },
   "outputs": [
    {
     "name": "stdout",
     "output_type": "stream",
     "text": [
      "(NE GPS/NNP)\n",
      "(NE LEO/NNP)\n",
      "(NE INdoor/NNP)\n",
      "(NE CUBesAt/NNP Technology/NNP)\n",
      "(NE INCUBATE/NNP)\n",
      "(NE PNT/NNP)\n",
      "(NE University/NNP)\n",
      "(NE Vaasa/NNP)\n",
      "(NE Digital/NNP Economy/NNP)\n",
      "(NE Heidi/NNP Kuusniemi/NNP)\n",
      "(NE International/NNP Business/NNP)\n",
      "(NE Arto/NNP Ojala/NNP)\n",
      "(NE International/NNP Business/NNP)\n",
      "(NE Kendall/NNP Rutledge/NNP)\n",
      "(NE Petri/NNP Välisuo/NNP)\n",
      "(NE Jani/NNP Boutellier/NNP)\n",
      "(NE Mohammed/NNP Elmusrati/NNP)\n",
      "(NE University/NNP)\n",
      "(NE Vaasa/NNP)\n",
      "(NE Future/NNP)\n",
      "(NE Centennial/NNP Foundation/NNP)\n",
      "(NE Finnish/NNP Technology/NNP Industries/NNPS)\n",
      "(NE Jane/NNP)\n",
      "(NE Aatos/NNP Erkko/NNP Foundation/NNP)\n",
      "(NE Heidi/NNP Kuusniemi/NNP)\n",
      "(NE Digital/NNP Economy/NNP)\n",
      "(NE University/NNP)\n",
      "(NE Vaasa/NNP More/NNP)\n",
      "(NE University/NNP)\n",
      "(NE Vaasa/NNP Project/NNP)\n",
      "(NE Tampereen/NNP)\n",
      "(NE Finland/NNP Funding/NNP)\n",
      "(NE Technology/NNP Industries/NNPS)\n",
      "(NE Finland/NNP Centennial/NNP Foundation/NNP)\n"
     ]
    }
   ],
   "source": [
    "# List all named entities in the text\n",
    "ne = nltk.ne_chunk(tags, binary=True)\n",
    "for e in ne:\n",
    "    if hasattr(e, \"label\") and e.label() == \"NE\":\n",
    "        print(e)"
   ]
  },
  {
   "cell_type": "markdown",
   "id": "93d2003a",
   "metadata": {
    "slideshow": {
     "slide_type": "subslide"
    }
   },
   "source": [
    "## Corpus\n",
    "A text parsed for processing is called as Corpus. The NLTK library includes many corpus for testing, but the final goal is of course to make your own corpus for your own analysis.\n",
    "\n",
    "A corpus can be created from a plain text file, or a full directory of text files using PlaintextXCorpusReader object.\n",
    "\n",
    "In the example below, the previously written text file is read as a corpus. The filenames can contain wildcards. You may want to import all text files in the data directory using `*.txt` instead of a single filename. "
   ]
  },
  {
   "cell_type": "code",
   "execution_count": 19,
   "id": "c1cabf49",
   "metadata": {
    "ExecuteTime": {
     "end_time": "2021-11-25T08:10:53.027332Z",
     "start_time": "2021-11-25T08:10:53.021268Z"
    },
    "slideshow": {
     "slide_type": "fragment"
    }
   },
   "outputs": [],
   "source": [
    "from nltk.corpus import PlaintextCorpusReader\n",
    "digieco=PlaintextCorpusReader('./data/', 'digieco.txt')\n",
    "text = nltk.Text(word_tokenize(digieco.raw()))"
   ]
  },
  {
   "cell_type": "markdown",
   "id": "6c148a3d",
   "metadata": {
    "slideshow": {
     "slide_type": "subslide"
    }
   },
   "source": [
    "### Concordance\n",
    "When the corpus is ready, it is easy to run many standard tests, for example to study in which context a certain word is used in the text. This is called as concordance."
   ]
  },
  {
   "cell_type": "code",
   "execution_count": 20,
   "id": "cd222c5a",
   "metadata": {
    "ExecuteTime": {
     "end_time": "2021-11-25T08:10:53.031002Z",
     "start_time": "2021-11-25T08:10:53.028434Z"
    },
    "slideshow": {
     "slide_type": "fragment"
    }
   },
   "outputs": [
    {
     "name": "stdout",
     "output_type": "stream",
     "text": [
      "Displaying 5 of 5 matches:\n",
      " research the application of small satellite technology for precise positioning\n",
      "paces and navigation . A new small satellite will also be designed in the proje\n",
      "ipment and software carried by the satellite , to improve navigation solutions \n",
      "improve navigation solutions . The satellite signal and its reception must be o\n",
      "hat a sufficiently high-performing satellite signal can be defined for accurate\n"
     ]
    }
   ],
   "source": [
    "# The context of a selected word in the corpus\n",
    "text.concordance('satellite')"
   ]
  },
  {
   "cell_type": "markdown",
   "id": "ef2bdfc7",
   "metadata": {
    "slideshow": {
     "slide_type": "subslide"
    }
   },
   "source": [
    "### Collocations\n",
    "Another common task is to find words which are often used together. These collocations can be now easily examined:"
   ]
  },
  {
   "cell_type": "code",
   "execution_count": 21,
   "id": "5ec6ef32",
   "metadata": {
    "ExecuteTime": {
     "end_time": "2021-11-25T08:10:53.088288Z",
     "start_time": "2021-11-25T08:10:53.032210Z"
    },
    "slideshow": {
     "slide_type": "fragment"
    }
   },
   "outputs": [
    {
     "name": "stdout",
     "output_type": "stream",
     "text": [
      "indoor spaces; small satellites; Digital Economy; Heidi Kuusniemi;\n",
      "International Business; Centennial Foundation; Technology Industries;\n",
      "accurate positioning; precise positioning; satellite signal; small\n",
      "satellite; research project\n"
     ]
    }
   ],
   "source": [
    "# Words frequently mentioned together\n",
    "text.collocations()"
   ]
  },
  {
   "cell_type": "markdown",
   "id": "43181bff",
   "metadata": {
    "slideshow": {
     "slide_type": "subslide"
    }
   },
   "source": [
    "### Lexical dispersion\n",
    "The dispersion indicates in which location of the document certain word is mentioned. If the corpus contains several documents, it shown in which of them the word is used."
   ]
  },
  {
   "cell_type": "code",
   "execution_count": 22,
   "id": "54b03677",
   "metadata": {
    "ExecuteTime": {
     "end_time": "2021-11-25T08:10:53.430534Z",
     "start_time": "2021-11-25T08:10:53.094124Z"
    },
    "slideshow": {
     "slide_type": "fragment"
    }
   },
   "outputs": [
    {
     "data": {
      "image/png": "[encoded data removed]",
      "text/plain": [
       "<Figure size 432x288 with 1 Axes>"
      ]
     },
     "metadata": {},
     "output_type": "display_data"
    }
   ],
   "source": [
    "text.dispersion_plot(['small', 'satellite', 'GPS', 'positioning', 'precise'])"
   ]
  },
  {
   "cell_type": "markdown",
   "id": "aa8eeb11",
   "metadata": {
    "slideshow": {
     "slide_type": "subslide"
    }
   },
   "source": [
    "### Word statistics"
   ]
  },
  {
   "cell_type": "code",
   "execution_count": 23,
   "id": "4a80c352",
   "metadata": {
    "ExecuteTime": {
     "end_time": "2021-11-25T08:10:53.436088Z",
     "start_time": "2021-11-25T08:10:53.431712Z"
    },
    "slideshow": {
     "slide_type": "fragment"
    }
   },
   "outputs": [
    {
     "data": {
      "text/plain": [
       "[('the', 29),\n",
       " (',', 19),\n",
       " ('of', 16),\n",
       " ('.', 16),\n",
       " ('and', 15),\n",
       " ('in', 11),\n",
       " ('project', 10),\n",
       " ('positioning', 7),\n",
       " ('The', 6),\n",
       " ('research', 6),\n",
       " ('small', 6),\n",
       " ('navigation', 6),\n",
       " ('be', 6),\n",
       " ('satellites', 6),\n",
       " ('will', 5),\n",
       " ('satellite', 5),\n",
       " ('for', 5),\n",
       " ('to', 5),\n",
       " ('by', 5),\n",
       " ('University', 5)]"
      ]
     },
     "execution_count": 23,
     "metadata": {},
     "output_type": "execute_result"
    }
   ],
   "source": [
    "from nltk import FreqDist\n",
    "frequency_distribution = FreqDist(text)\n",
    "frequency_distribution.most_common(20)"
   ]
  },
  {
   "cell_type": "code",
   "execution_count": 24,
   "id": "dd190fba",
   "metadata": {
    "ExecuteTime": {
     "end_time": "2021-11-25T08:10:53.446027Z",
     "start_time": "2021-11-25T08:10:53.439274Z"
    },
    "slideshow": {
     "slide_type": "subslide"
    }
   },
   "outputs": [
    {
     "data": {
      "text/plain": [
       "[('satellite', 11),\n",
       " ('project', 10),\n",
       " ('positioning', 7),\n",
       " ('research', 6),\n",
       " ('small', 6),\n",
       " ('navigation', 6),\n",
       " ('University', 5),\n",
       " ('earth', 4),\n",
       " ('Vaasa', 4),\n",
       " ('indoor', 3),\n",
       " ('space', 3),\n",
       " ('also', 3),\n",
       " ('solution', 3),\n",
       " ('signal', 3),\n",
       " ('Technology', 3),\n",
       " ('researcher', 3),\n",
       " ('Foundation', 3),\n",
       " ('application', 2),\n",
       " ('technology', 2),\n",
       " ('precise', 2)]"
      ]
     },
     "execution_count": 24,
     "metadata": {},
     "output_type": "execute_result"
    }
   ],
   "source": [
    "punctuations=set([',','.','!','?','@', '%', ':', ';'])\n",
    "unnecessary=stop_words.union(punctuations)\n",
    "meaningful_words = [word for word in text if word.casefold() not in unnecessary]\n",
    "lemmatized = [lemmatizer.lemmatize(word) for word in meaningful_words]\n",
    "frequency_distribution = FreqDist(lemmatized)\n",
    "frequency_distribution.most_common(20)"
   ]
  },
  {
   "cell_type": "code",
   "execution_count": 25,
   "id": "f06b70dc",
   "metadata": {
    "ExecuteTime": {
     "end_time": "2021-11-25T08:10:53.604638Z",
     "start_time": "2021-11-25T08:10:53.447130Z"
    },
    "slideshow": {
     "slide_type": "subslide"
    }
   },
   "outputs": [
    {
     "data": {
      "image/png": "[encoded data removed]",
      "text/plain": [
       "<Figure size 432x288 with 1 Axes>"
      ]
     },
     "metadata": {},
     "output_type": "display_data"
    },
    {
     "data": {
      "text/plain": [
       "<AxesSubplot:xlabel='Samples', ylabel='Cumulative Counts'>"
      ]
     },
     "execution_count": 25,
     "metadata": {},
     "output_type": "execute_result"
    }
   ],
   "source": [
    "frequency_distribution.plot(20, cumulative=True)"
   ]
  },
  {
   "cell_type": "markdown",
   "id": "df5928de",
   "metadata": {
    "ExecuteTime": {
     "end_time": "2021-11-24T06:09:56.366613Z",
     "start_time": "2021-11-24T06:09:56.360548Z"
    },
    "slideshow": {
     "slide_type": "slide"
    }
   },
   "source": [
    "## Topic modelling\n",
    "\n",
    "Now when we have tools to understand language, clean it and prepare for further processing, now we can start the machine learning part. Some plenty of used algorithms for text classification and retrieval are: \n",
    "  - Latent Semantic Analysis (LSA/LSI/SVD), \n",
    "  - Latent Dirichlet Allocation (LDA)\n",
    "  - Random Projections (RP)\n",
    "  - Hierarchical Dirichlet Process (HDP)\n",
    "  - word2vec deep learning.\n",
    "\n",
    "At least, these are implemented in a Python library\n",
    "[GenSim](https://github.com/RaRe-Technologies/gensim)\n",
    "\n",
    "Gensim can process large body of texts out of core (all texts do not need to fit in the memory at the same time)."
   ]
  },
  {
   "cell_type": "code",
   "execution_count": 26,
   "id": "0c9e85da",
   "metadata": {
    "ExecuteTime": {
     "end_time": "2021-11-25T08:10:53.947578Z",
     "start_time": "2021-11-25T08:10:53.606429Z"
    },
    "slideshow": {
     "slide_type": "subslide"
    }
   },
   "outputs": [],
   "source": [
    "# pip install gensim\n",
    "# pip install pyLDAvis\n",
    "import gensim\n",
    "from gensim import corpora\n",
    "from pyLDAvis import gensim_models"
   ]
  },
  {
   "cell_type": "markdown",
   "id": "3f24ab7a",
   "metadata": {
    "slideshow": {
     "slide_type": "subslide"
    }
   },
   "source": [
    "### Preprocessing\n",
    "\n",
    " - lowercase\n",
    " - remove unnecessary automatically"
   ]
  },
  {
   "cell_type": "code",
   "execution_count": 27,
   "id": "50bab3fe",
   "metadata": {
    "ExecuteTime": {
     "end_time": "2021-11-25T08:10:53.983004Z",
     "start_time": "2021-11-25T08:10:53.948777Z"
    },
    "slideshow": {
     "slide_type": "fragment"
    }
   },
   "outputs": [
    {
     "name": "stdout",
     "output_type": "stream",
     "text": [
      "3\n",
      "0 ['project', 'research', 'application', 'small', 'satellite', 'technology', 'precise', 'positioning', 'indoor', 'space']\n",
      "1 ['project', 'greta', 'aim', 'develop', 'policy', 'tool', 'sustainable', 'smart', 'specialisation', 'innovation']\n",
      "2 ['led', 'university', 'vaasa', 'significant', 'research', 'consortium', 'aim', 'develop', 'radically', 'new']\n"
     ]
    }
   ],
   "source": [
    "uva=PlaintextCorpusReader('./data/', ['digieco.txt', 'greta.txt', 'propulsion.txt'])\n",
    "\n",
    "punctuations=set([',','.','!','?','@', '%', ':', ';'])\n",
    "unnecessary=stop_words.union(punctuations)\n",
    "\n",
    "docs=[]\n",
    "for document in uva.fileids():\n",
    "    tokens = gensim.utils.simple_preprocess(uva.raw(document))\n",
    "    meaningful_words = [word for word in tokens if word not in unnecessary]\n",
    "    lemmatized = [lemmatizer.lemmatize(word) for word in meaningful_words]\n",
    "    docs.append(lemmatized)\n",
    "print(len(docs))\n",
    "for i in range(len(docs)):\n",
    "    print(i, docs[i][:10])"
   ]
  },
  {
   "cell_type": "markdown",
   "id": "21836728",
   "metadata": {
    "slideshow": {
     "slide_type": "subslide"
    }
   },
   "source": [
    "### Topic mapping example\n",
    "\n",
    "The document needs to be encoded as vector of features. For example, a single feature may be thought of as a question-answer pair:\n",
    "\n",
    " - How many times does the word splonge appear in the document? Zero.\n",
    " - How many paragraphs does the document consist of? Two.\n",
    " - How many fonts does the document use? Five."
   ]
  },
  {
   "cell_type": "code",
   "execution_count": 28,
   "id": "8e85d585",
   "metadata": {
    "ExecuteTime": {
     "end_time": "2021-11-25T08:10:54.016084Z",
     "start_time": "2021-11-25T08:10:53.985519Z"
    },
    "scrolled": true,
    "slideshow": {
     "slide_type": "fragment"
    }
   },
   "outputs": [
    {
     "data": {
      "text/plain": [
       "{'aalto': 0,\n",
       " 'aatos': 1,\n",
       " 'accurate': 2,\n",
       " 'action': 3,\n",
       " 'active': 4,\n",
       " 'also': 5,\n",
       " 'altitude': 6,\n",
       " 'amount': 7,\n",
       " 'application': 8,\n",
       " 'arto': 9,\n",
       " 'based': 10,\n",
       " 'boutellier': 11,\n",
       " 'building': 12,\n",
       " 'business': 13,\n",
       " 'carried': 14,\n",
       " 'centennial': 15,\n",
       " 'city': 16,\n",
       " 'commercial': 17,\n",
       " 'company': 18,\n",
       " 'coordinating': 19,\n",
       " 'cubesat': 20,\n",
       " 'current': 21,\n",
       " 'currently': 22,\n",
       " 'defined': 23,\n",
       " 'designed': 24,\n",
       " 'develop': 25,\n",
       " 'developed': 26,\n",
       " 'digital': 27,\n",
       " 'director': 28,\n",
       " 'doctoral': 29,\n",
       " 'earth': 30,\n",
       " 'economy': 31,\n",
       " 'elmusrati': 32,\n",
       " 'equipment': 33,\n",
       " 'erkko': 34,\n",
       " 'eur': 35,\n",
       " 'even': 36,\n",
       " 'exist': 37,\n",
       " 'extensive': 38,\n",
       " 'faster': 39,\n",
       " 'federation': 40,\n",
       " 'finland': 41,\n",
       " 'finnish': 42,\n",
       " 'floor': 43,\n",
       " 'form': 44,\n",
       " 'found': 45,\n",
       " 'foundation': 46,\n",
       " 'funding': 47,\n",
       " 'future': 48,\n",
       " 'gps': 49,\n",
       " 'group': 50,\n",
       " 'headed': 51,\n",
       " 'heidi': 52,\n",
       " 'high': 53,\n",
       " 'improve': 54,\n",
       " 'incubate': 55,\n",
       " 'indoor': 56,\n",
       " 'indoors': 57,\n",
       " 'industry': 58,\n",
       " 'information': 59,\n",
       " 'intend': 60,\n",
       " 'international': 61,\n",
       " 'internet': 62,\n",
       " 'involved': 63,\n",
       " 'jane': 64,\n",
       " 'jani': 65,\n",
       " 'jointly': 66,\n",
       " 'kendall': 67,\n",
       " 'kuusniemi': 68,\n",
       " 'land': 69,\n",
       " 'leader': 70,\n",
       " 'led': 71,\n",
       " 'leo': 72,\n",
       " 'location': 73,\n",
       " 'low': 74,\n",
       " 'many': 75,\n",
       " 'marketing': 76,\n",
       " 'mention': 77,\n",
       " 'minute': 78,\n",
       " 'mohammed': 79,\n",
       " 'must': 80,\n",
       " 'national': 81,\n",
       " 'navigation': 82,\n",
       " 'new': 83,\n",
       " 'objective': 84,\n",
       " 'offer': 85,\n",
       " 'ojala': 86,\n",
       " 'optimised': 87,\n",
       " 'orbit': 88,\n",
       " 'orbiting': 89,\n",
       " 'organisation': 90,\n",
       " 'outdoor': 91,\n",
       " 'partly': 92,\n",
       " 'partner': 93,\n",
       " 'payload': 94,\n",
       " 'performing': 95,\n",
       " 'petri': 96,\n",
       " 'platform': 97,\n",
       " 'pnt': 98,\n",
       " 'positioning': 99,\n",
       " 'possibility': 100,\n",
       " 'potential': 101,\n",
       " 'precise': 102,\n",
       " 'press': 103,\n",
       " 'professor': 104,\n",
       " 'programme': 105,\n",
       " 'project': 106,\n",
       " 'proposal': 107,\n",
       " 'realised': 108,\n",
       " 'receives': 109,\n",
       " 'reception': 110,\n",
       " 'release': 111,\n",
       " 'reliably': 112,\n",
       " 'represented': 113,\n",
       " 'research': 114,\n",
       " 'researcher': 115,\n",
       " 'revenue': 116,\n",
       " 'room': 117,\n",
       " 'rutledge': 118,\n",
       " 'satellite': 119,\n",
       " 'seamlessly': 120,\n",
       " 'sector': 121,\n",
       " 'send': 122,\n",
       " 'service': 123,\n",
       " 'signal': 124,\n",
       " 'small': 125,\n",
       " 'software': 126,\n",
       " 'solution': 127,\n",
       " 'space': 128,\n",
       " 'stronger': 129,\n",
       " 'study': 130,\n",
       " 'sufficiently': 131,\n",
       " 'survey': 132,\n",
       " 'taking': 133,\n",
       " 'tampereen': 134,\n",
       " 'technology': 135,\n",
       " 'telling': 136,\n",
       " 'ten': 137,\n",
       " 'three': 138,\n",
       " 'timing': 139,\n",
       " 'together': 140,\n",
       " 'traditional': 141,\n",
       " 'university': 142,\n",
       " 'use': 143,\n",
       " 'used': 144,\n",
       " 'utilising': 145,\n",
       " 'vaasa': 146,\n",
       " 'välisuo': 147,\n",
       " 'well': 148,\n",
       " 'work': 149,\n",
       " 'year': 150,\n",
       " 'yliopisto': 151,\n",
       " 'actor': 152,\n",
       " 'addition': 153,\n",
       " 'aim': 154,\n",
       " 'aiming': 155,\n",
       " 'aligned': 156,\n",
       " 'among': 157,\n",
       " 'analysis': 158,\n",
       " 'area': 159,\n",
       " 'baltic': 160,\n",
       " 'bottom': 161,\n",
       " 'brief': 162,\n",
       " 'bringing': 163,\n",
       " 'bsr': 164,\n",
       " 'build': 165,\n",
       " 'capacity': 166,\n",
       " 'chain': 167,\n",
       " 'challenge': 168,\n",
       " 'circular': 169,\n",
       " 'civil': 170,\n",
       " 'climate': 171,\n",
       " 'closer': 172,\n",
       " 'cluster': 173,\n",
       " 'co': 174,\n",
       " 'commission': 175,\n",
       " 'comparative': 176,\n",
       " 'concluding': 177,\n",
       " 'consequence': 178,\n",
       " 'coordination': 179,\n",
       " 'coordinator': 180,\n",
       " 'council': 181,\n",
       " 'creating': 182,\n",
       " 'creation': 183,\n",
       " 'deal': 184,\n",
       " 'decision': 185,\n",
       " 'defining': 186,\n",
       " 'development': 187,\n",
       " 'discussion': 188,\n",
       " 'dpsir': 189,\n",
       " 'driven': 190,\n",
       " 'driver': 191,\n",
       " 'egd': 192,\n",
       " 'energy': 193,\n",
       " 'enhance': 194,\n",
       " 'environmental': 195,\n",
       " 'established': 196,\n",
       " 'etc': 197,\n",
       " 'eu': 198,\n",
       " 'experience': 199,\n",
       " 'expert': 200,\n",
       " 'fi': 201,\n",
       " 'finding': 202,\n",
       " 'gap': 203,\n",
       " 'goal': 204,\n",
       " 'green': 205,\n",
       " 'greta': 206,\n",
       " 'growth': 207,\n",
       " 'guidance': 208,\n",
       " 'guided': 209,\n",
       " 'hankkeet': 210,\n",
       " 'helix': 211,\n",
       " 'helping': 212,\n",
       " 'http': 213,\n",
       " 'identified': 214,\n",
       " 'innovation': 215,\n",
       " 'institution': 216,\n",
       " 'institutional': 217,\n",
       " 'intervention': 218,\n",
       " 'interview': 219,\n",
       " 'involve': 220,\n",
       " 'involvement': 221,\n",
       " 'issue': 222,\n",
       " 'lars': 223,\n",
       " 'learning': 224,\n",
       " 'main': 225,\n",
       " 'making': 226,\n",
       " 'method': 227,\n",
       " 'model': 228,\n",
       " 'neutrality': 229,\n",
       " 'ostrobothnia': 230,\n",
       " 'package': 231,\n",
       " 'penta': 232,\n",
       " 'perceived': 233,\n",
       " 'phase': 234,\n",
       " 'policy': 235,\n",
       " 'preparation': 236,\n",
       " 'quadruple': 237,\n",
       " 'regarding': 238,\n",
       " 'region': 239,\n",
       " 'regional': 240,\n",
       " 'relevant': 241,\n",
       " 'report': 242,\n",
       " 'requires': 243,\n",
       " 'round': 244,\n",
       " 'sea': 245,\n",
       " 'selected': 246,\n",
       " 'selecting': 247,\n",
       " 'situation': 248,\n",
       " 'smart': 249,\n",
       " 'society': 250,\n",
       " 'specialisation': 251,\n",
       " 'stakeholder': 252,\n",
       " 'strategy': 253,\n",
       " 'studied': 254,\n",
       " 'support': 255,\n",
       " 'supporting': 256,\n",
       " 'sustainable': 257,\n",
       " 'system': 258,\n",
       " 'table': 259,\n",
       " 'target': 260,\n",
       " 'tool': 261,\n",
       " 'transform': 262,\n",
       " 'transformation': 263,\n",
       " 'tutkimus': 264,\n",
       " 'two': 265,\n",
       " 'un': 266,\n",
       " 'univaasa': 267,\n",
       " 'value': 268,\n",
       " 'vision': 269,\n",
       " 'way': 270,\n",
       " 'working': 271,\n",
       " 'www': 272,\n",
       " 'accomplished': 273,\n",
       " 'achieved': 274,\n",
       " 'activity': 275,\n",
       " 'advanced': 276,\n",
       " 'aftertreatment': 277,\n",
       " 'ambitious': 278,\n",
       " 'approach': 279,\n",
       " 'arena': 280,\n",
       " 'art': 281,\n",
       " 'aside': 282,\n",
       " 'assessment': 283,\n",
       " 'biogas': 284,\n",
       " 'bore': 285,\n",
       " 'breaking': 286,\n",
       " 'capability': 287,\n",
       " 'case': 288,\n",
       " 'catalyst': 289,\n",
       " 'clean': 290,\n",
       " 'combined': 291,\n",
       " 'combustion': 292,\n",
       " 'common': 293,\n",
       " 'competition': 294,\n",
       " 'compliance': 295,\n",
       " 'compression': 296,\n",
       " 'consolidated': 297,\n",
       " 'consortium': 298,\n",
       " 'context': 299,\n",
       " 'control': 300,\n",
       " 'controlled': 301,\n",
       " 'cpt': 302,\n",
       " 'demo': 303,\n",
       " 'demonstrate': 304,\n",
       " 'dissemination': 305,\n",
       " 'earlier': 306,\n",
       " 'efficient': 307,\n",
       " 'electric': 308,\n",
       " 'emission': 309,\n",
       " 'end': 310,\n",
       " 'engine': 311,\n",
       " 'evolving': 312,\n",
       " 'facility': 313,\n",
       " 'feasibility': 314,\n",
       " 'finally': 315,\n",
       " 'first': 316,\n",
       " 'framework': 317,\n",
       " 'ghg': 318,\n",
       " 'global': 319,\n",
       " 'grasped': 320,\n",
       " 'ground': 321,\n",
       " 'growing': 322,\n",
       " 'hybridization': 323,\n",
       " 'hydraulic': 324,\n",
       " 'ignition': 325,\n",
       " 'impactful': 326,\n",
       " 'improvement': 327,\n",
       " 'include': 328,\n",
       " 'incremental': 329,\n",
       " 'innovative': 330,\n",
       " 'instrumental': 331,\n",
       " 'laboratory': 332,\n",
       " 'large': 333,\n",
       " 'lead': 334,\n",
       " 'legislation': 335,\n",
       " 'level': 336,\n",
       " 'light': 337,\n",
       " 'limit': 338,\n",
       " 'long': 339,\n",
       " 'major': 340,\n",
       " 'management': 341,\n",
       " 'marine': 342,\n",
       " 'market': 343,\n",
       " 'meeting': 344,\n",
       " 'methodological': 345,\n",
       " 'meu': 346,\n",
       " 'moving': 347,\n",
       " 'need': 348,\n",
       " 'net': 349,\n",
       " 'novel': 350,\n",
       " 'operation': 351,\n",
       " 'pertain': 352,\n",
       " 'plan': 353,\n",
       " 'position': 354,\n",
       " 'power': 355,\n",
       " 'powertrain': 356,\n",
       " 'prepare': 357,\n",
       " 'promising': 358,\n",
       " 'propulsion': 359,\n",
       " 'prototyping': 360,\n",
       " 'providing': 361,\n",
       " 'putting': 362,\n",
       " 'radically': 363,\n",
       " 'range': 364,\n",
       " 'rapid': 365,\n",
       " 'rcci': 366,\n",
       " 'reactivity': 367,\n",
       " 'readiness': 368,\n",
       " 'regulation': 369,\n",
       " 'response': 370,\n",
       " 'responsible': 371,\n",
       " 'road': 372,\n",
       " 'roadmap': 373,\n",
       " 'role': 374,\n",
       " 'secure': 375,\n",
       " 'secures': 376,\n",
       " 'segment': 377,\n",
       " 'several': 378,\n",
       " 'significant': 379,\n",
       " 'stage': 380,\n",
       " 'state': 381,\n",
       " 'supported': 382,\n",
       " 'tailored': 383,\n",
       " 'take': 384,\n",
       " 'technological': 385,\n",
       " 'term': 386,\n",
       " 'thermal': 387,\n",
       " 'tightening': 388,\n",
       " 'towards': 389,\n",
       " 'transition': 390,\n",
       " 'transport': 391,\n",
       " 'trl': 392,\n",
       " 'ultra': 393,\n",
       " 'underlining': 394,\n",
       " 'upgrade': 395,\n",
       " 'vebic': 396,\n",
       " 'wide': 397,\n",
       " 'world': 398,\n",
       " 'worth': 399}"
      ]
     },
     "execution_count": 28,
     "metadata": {},
     "output_type": "execute_result"
    }
   ],
   "source": [
    "dictionary = corpora.Dictionary(docs)\n",
    "dictionary.token2id"
   ]
  },
  {
   "cell_type": "code",
   "execution_count": 29,
   "id": "381d2d4a",
   "metadata": {
    "ExecuteTime": {
     "end_time": "2021-11-25T08:10:54.030214Z",
     "start_time": "2021-11-25T08:10:54.019805Z"
    }
   },
   "outputs": [
    {
     "name": "stdout",
     "output_type": "stream",
     "text": [
      "Number of unique tokens: 400\n",
      "Number of documents: 3\n",
      "152\n",
      "134\n",
      "160\n"
     ]
    }
   ],
   "source": [
    "corpus = [dictionary.doc2bow(doc) for doc in docs]\n",
    "print('Number of unique tokens: %d' % len(dictionary))\n",
    "print('Number of documents: %d' % len(corpus))\n",
    "for row in corpus:\n",
    "    print(len(row))"
   ]
  },
  {
   "cell_type": "code",
   "execution_count": 30,
   "id": "f4d00f7c",
   "metadata": {
    "ExecuteTime": {
     "end_time": "2021-11-25T08:10:54.114517Z",
     "start_time": "2021-11-25T08:10:54.035546Z"
    },
    "slideshow": {
     "slide_type": "subslide"
    }
   },
   "outputs": [
    {
     "name": "stdout",
     "output_type": "stream",
     "text": [
      "[(119, 1.0)]\n"
     ]
    }
   ],
   "source": [
    "from gensim import models\n",
    "import pyLDAvis\n",
    "tfidf = models.TfidfModel(corpus)\n",
    "words = \"satellite communication project\".lower().split()\n",
    "print(tfidf[dictionary.doc2bow(words)])"
   ]
  },
  {
   "cell_type": "code",
   "execution_count": 31,
   "id": "cf12289a",
   "metadata": {
    "ExecuteTime": {
     "end_time": "2021-11-25T08:10:54.126988Z",
     "start_time": "2021-11-25T08:10:54.119748Z"
    }
   },
   "outputs": [],
   "source": [
    "temp = dictionary[0] "
   ]
  },
  {
   "cell_type": "code",
   "execution_count": 32,
   "id": "0b7d4e0d",
   "metadata": {
    "ExecuteTime": {
     "end_time": "2021-11-25T08:10:54.289688Z",
     "start_time": "2021-11-25T08:10:54.130882Z"
    },
    "scrolled": false,
    "slideshow": {
     "slide_type": "subslide"
    }
   },
   "outputs": [],
   "source": [
    "# Latent Dirichlet Allocation\n",
    "id2word = dictionary.id2token\n",
    "lda_model = gensim.models.ldamodel.LdaModel(corpus=corpus,\n",
    "                                           id2word=id2word,\n",
    "                                           num_topics=10, \n",
    "                                           random_state=100,\n",
    "                                           update_every=1,\n",
    "                                           chunksize=2000,\n",
    "                                           passes=10,\n",
    "                                           alpha='auto',\n",
    "                                           eta = 'auto',\n",
    "                                           iterations=100,\n",
    "                                           eval_every=1)"
   ]
  },
  {
   "cell_type": "code",
   "execution_count": 51,
   "id": "4b50e0b1",
   "metadata": {
    "ExecuteTime": {
     "end_time": "2021-11-25T08:11:33.476073Z",
     "start_time": "2021-11-25T08:11:31.869267Z"
    },
    "slideshow": {
     "slide_type": "subslide"
    }
   },
   "outputs": [
    {
     "name": "stderr",
     "output_type": "stream",
     "text": [
      "/home/petri/venv/python3/lib/python3.9/site-packages/pyLDAvis/_prepare.py:246: FutureWarning: In a future version of pandas all arguments of DataFrame.drop except for the argument 'labels' will be keyword-only\n",
      "  default_term_info = default_term_info.sort_values(\n"
     ]
    }
   ],
   "source": [
    "pyLDAvis.enable_notebook()\n",
    "vis = pyLDAvis.gensim_models.prepare(lda_model, corpus, dictionary);"
   ]
  },
  {
   "cell_type": "code",
   "execution_count": 34,
   "id": "62b72bcb",
   "metadata": {
    "ExecuteTime": {
     "end_time": "2021-11-25T08:10:55.797942Z",
     "start_time": "2021-11-25T08:10:55.781244Z"
    },
    "slideshow": {
     "slide_type": "slide"
    }
   },
   "outputs": [
    {
     "data": {
      "text/html": [
       "\n",
       "<link rel=\"stylesheet\" type=\"text/css\" href=\"https://cdn.jsdelivr.net/gh/bmabey/pyLDAvis@3.3.1/pyLDAvis/js/ldavis.v1.0.0.css\">\n",
       "\n",
       "\n",
       "<div id=\"ldavis_el6138681399683151796328092201622\"></div>\n",
       "<script type=\"text/javascript\">\n",
       "\n",
       "var ldavis_el6138681399683151796328092201622_data = {\"mdsDat\": {\"x\": [-0.2505250814950409, 0.15824586049766753, 0.09553915487253217, -5.58909019116908e-05, 0.002989383793732228, -0.005044875653766466, 0.0002762910448907419, 3.59939178262979e-05, -0.0007304178556757909, -0.0007304182202543579], \"y\": [0.03187347902413272, 0.16674538980398002, -0.19276188627952903, -0.00026299957723231206, 0.0029388684321053392, -0.0009138572998482798, -0.003818118309244139, -0.0006338294255376114, -0.0015835231462704258, -0.0015835232225568103], \"topics\": [1, 2, 3, 4, 5, 6, 7, 8, 9, 10], \"cluster\": [1, 1, 1, 1, 1, 1, 1, 1, 1, 1], \"Freq\": [34.83324841277361, 33.89504015043411, 31.21400486396339, 0.009003905469089713, 0.00872959955264998, 0.0087079431112613, 0.008694780140312063, 0.008643303894145254, 0.006963526742532541, 0.006963513918902086]}, \"tinfo\": {\"Term\": [\"green\", \"satellite\", \"project\", \"technology\", \"positioning\", \"transformation\", \"stakeholder\", \"research\", \"small\", \"navigation\", \"greta\", \"strategy\", \"university\", \"solution\", \"vaasa\", \"region\", \"smart\", \"area\", \"specialisation\", \"development\", \"based\", \"economy\", \"partner\", \"helix\", \"environmental\", \"lars\", \"analysis\", \"growth\", \"policy\", \"relevant\", \"green\", \"transformation\", \"stakeholder\", \"greta\", \"smart\", \"region\", \"specialisation\", \"area\", \"helix\", \"growth\", \"analysis\", \"policy\", \"relevant\", \"lars\", \"environmental\", \"regional\", \"gap\", \"penta\", \"expert\", \"brief\", \"intervention\", \"interview\", \"experience\", \"co\", \"egd\", \"creation\", \"challenge\", \"baltic\", \"coordination\", \"defining\", \"strategy\", \"innovation\", \"sustainable\", \"partner\", \"economy\", \"project\", \"based\", \"satellite\", \"positioning\", \"navigation\", \"small\", \"indoor\", \"earth\", \"signal\", \"researcher\", \"foundation\", \"building\", \"space\", \"precise\", \"timing\", \"heidi\", \"sufficiently\", \"accurate\", \"high\", \"funding\", \"professor\", \"kuusniemi\", \"work\", \"application\", \"finland\", \"well\", \"year\", \"orbit\", \"centennial\", \"digital\", \"research\", \"aalto\", \"also\", \"project\", \"university\", \"industry\", \"technology\", \"vaasa\", \"solution\", \"based\", \"platform\", \"business\", \"potential\", \"marine\", \"consortium\", \"segment\", \"emission\", \"management\", \"combustion\", \"common\", \"propulsion\", \"clean\", \"road\", \"trl\", \"framework\", \"secure\", \"state\", \"efficient\", \"compliance\", \"power\", \"context\", \"powertrain\", \"art\", \"engine\", \"electric\", \"global\", \"take\", \"roadmap\", \"technological\", \"rcci\", \"aftertreatment\", \"providing\", \"responsible\", \"development\", \"technology\", \"solution\", \"project\", \"vaasa\", \"university\", \"based\", \"model\", \"goal\", \"objective\", \"finnish\", \"room\", \"doctoral\", \"study\", \"improve\", \"headed\", \"must\", \"internet\", \"petri\", \"location\", \"gps\", \"telling\", \"programme\", \"land\", \"survey\", \"incubate\", \"marketing\", \"together\", \"pnt\", \"tampereen\", \"service\", \"jani\", \"equipment\", \"defined\", \"eur\", \"stronger\", \"floor\", \"dissemination\", \"three\", \"coordinating\", \"indoors\", \"faster\", \"reception\", \"yliopisto\", \"v\\u00e4lisuo\", \"research\", \"satellite\", \"positioning\", \"navigation\", \"project\", \"earth\", \"finland\", \"space\", \"work\", \"technology\", \"small\", \"international\", \"indoor\", \"centennial\", \"year\", \"kuusniemi\", \"high\", \"industry\", \"partner\", \"also\", \"signal\", \"heidi\", \"vaasa\", \"university\", \"foundation\", \"researcher\", \"orbit\", \"digital\", \"based\", \"solution\", \"building\", \"green\", \"new\", \"performing\", \"represented\", \"group\", \"faster\", \"leo\", \"revenue\", \"realised\", \"location\", \"together\", \"kendall\", \"erkko\", \"jani\", \"must\", \"three\", \"mohammed\", \"headed\", \"amount\", \"exist\", \"federation\", \"action\", \"seamlessly\", \"partly\", \"payload\", \"organisation\", \"release\", \"coordinating\", \"minute\", \"survey\", \"commercial\", \"arto\", \"satellite\", \"small\", \"positioning\", \"research\", \"space\", \"university\", \"navigation\", \"building\", \"project\", \"digital\", \"earth\", \"industry\", \"indoor\", \"orbit\", \"centennial\", \"well\", \"year\", \"application\", \"technology\", \"also\", \"foundation\", \"accurate\", \"researcher\", \"work\", \"vaasa\", \"signal\", \"timing\", \"new\", \"funding\", \"finland\", \"economy\", \"business\", \"solution\", \"round\", \"finding\", \"un\", \"neutrality\", \"bottom\", \"concluding\", \"univaasa\", \"http\", \"table\", \"two\", \"council\", \"discussion\", \"build\", \"eu\", \"selecting\", \"commission\", \"value\", \"regarding\", \"guidance\", \"consequence\", \"involvement\", \"driven\", \"report\", \"capacity\", \"studied\", \"helping\", \"closer\", \"climate\", \"requires\", \"tutkimus\", \"green\", \"transformation\", \"region\", \"smart\", \"helix\", \"stakeholder\", \"area\", \"environmental\", \"strategy\", \"greta\", \"lars\", \"analysis\", \"policy\", \"growth\", \"brief\", \"sustainable\", \"interview\", \"specialisation\", \"intervention\", \"economy\", \"coordination\", \"baltic\", \"fi\", \"relevant\", \"gap\", \"system\", \"project\", \"penta\", \"expert\", \"method\", \"partner\", \"energy\", \"based\", \"innovation\", \"dissemination\", \"range\", \"meeting\", \"wide\", \"bore\", \"biogas\", \"evolving\", \"ignition\", \"improvement\", \"lead\", \"innovative\", \"transition\", \"limit\", \"first\", \"arena\", \"underlining\", \"upgrade\", \"world\", \"legislation\", \"laboratory\", \"major\", \"facility\", \"regulation\", \"earlier\", \"putting\", \"demonstrate\", \"novel\", \"thermal\", \"secures\", \"compression\", \"propulsion\", \"consortium\", \"secure\", \"powertrain\", \"marine\", \"technological\", \"development\", \"common\", \"road\", \"clean\", \"technology\", \"combustion\", \"rcci\", \"emission\", \"solution\", \"framework\", \"management\", \"providing\", \"trl\", \"take\", \"segment\", \"power\", \"project\", \"university\", \"compliance\", \"global\", \"roadmap\", \"responsible\", \"vaasa\", \"objective\", \"based\", \"release\", \"exist\", \"dissemination\", \"range\", \"press\", \"meeting\", \"wide\", \"biogas\", \"bore\", \"evolving\", \"ignition\", \"improvement\", \"lead\", \"innovative\", \"transition\", \"limit\", \"first\", \"arena\", \"underlining\", \"upgrade\", \"world\", \"legislation\", \"laboratory\", \"major\", \"facility\", \"regulation\", \"earlier\", \"putting\", \"demonstrate\", \"novel\", \"v\\u00e4lisuo\", \"seamlessly\", \"survey\", \"indoors\", \"mohammed\", \"stronger\", \"payload\", \"taking\", \"carried\", \"room\", \"amount\", \"floor\", \"commercial\", \"equipment\", \"mention\", \"faster\", \"information\", \"organisation\", \"gps\", \"erkko\", \"incubate\", \"action\", \"headed\", \"programme\", \"partly\", \"marketing\", \"ten\", \"tampereen\", \"reliably\", \"navigation\", \"satellite\", \"positioning\", \"research\", \"project\", \"indoor\", \"earth\", \"small\", \"foundation\", \"industry\", \"university\", \"professor\", \"space\", \"sufficiently\", \"finland\", \"well\", \"kuusniemi\", \"heidi\", \"technology\", \"vaasa\", \"solution\", \"researcher\", \"international\", \"building\", \"also\", \"business\", \"signal\", \"centennial\", \"application\", \"economy\", \"dissemination\", \"range\", \"meeting\", \"wide\", \"biogas\", \"bore\", \"evolving\", \"ignition\", \"improvement\", \"lead\", \"innovative\", \"transition\", \"limit\", \"first\", \"arena\", \"underlining\", \"upgrade\", \"world\", \"legislation\", \"laboratory\", \"major\", \"facility\", \"regulation\", \"earlier\", \"putting\", \"demonstrate\", \"novel\", \"thermal\", \"secures\", \"compression\", \"project\", \"satellite\", \"also\", \"based\", \"business\", \"develop\", \"earth\", \"economy\", \"indoor\", \"industry\", \"navigation\", \"objective\", \"partner\", \"positioning\", \"research\", \"small\", \"solution\", \"space\", \"technology\", \"university\", \"vaasa\", \"analysis\", \"area\", \"development\", \"environmental\", \"green\", \"greta\", \"growth\", \"policy\", \"region\", \"dissemination\", \"range\", \"meeting\", \"wide\", \"biogas\", \"bore\", \"evolving\", \"ignition\", \"improvement\", \"lead\", \"innovative\", \"transition\", \"limit\", \"first\", \"arena\", \"underlining\", \"upgrade\", \"world\", \"legislation\", \"laboratory\", \"major\", \"facility\", \"regulation\", \"earlier\", \"putting\", \"demonstrate\", \"novel\", \"thermal\", \"secures\", \"compression\", \"project\", \"satellite\", \"also\", \"based\", \"business\", \"develop\", \"economy\", \"indoor\", \"industry\", \"navigation\", \"partner\", \"positioning\", \"research\", \"small\", \"solution\", \"space\", \"technology\", \"university\", \"vaasa\", \"area\", \"development\", \"environmental\", \"expert\", \"green\", \"greta\", \"growth\", \"innovation\", \"lars\", \"policy\", \"region\"], \"Freq\": [12.0, 9.0, 21.0, 9.0, 6.0, 6.0, 6.0, 7.0, 5.0, 5.0, 5.0, 6.0, 7.0, 6.0, 7.0, 4.0, 4.0, 4.0, 4.0, 5.0, 6.0, 4.0, 4.0, 3.0, 3.0, 3.0, 3.0, 3.0, 3.0, 3.0, 12.212592288840339, 6.148023959677479, 6.149405835685872, 5.281519939668241, 4.413882829734083, 4.413009174324223, 4.416101575661395, 4.414092410228526, 3.549438797217568, 3.550401028217458, 3.549671852663467, 3.5495322130037747, 3.5504433799340025, 3.5486120917106203, 3.5482677117526613, 2.6860024935450024, 2.68515812132201, 2.684854883031552, 2.6846695035179917, 2.6831554901539794, 2.683891199972809, 2.6820780624850884, 1.8191534885532843, 1.8194399071620293, 1.818568550845353, 1.8187666358738768, 1.819080401591019, 1.8179280718862965, 1.8178810009784798, 1.8180642024037608, 5.281381026037976, 2.6853853685324975, 2.6832745589799214, 2.6840468122798837, 2.681386640461274, 5.28073921602497, 2.684445644444828, 9.56370153786879, 6.113597779752563, 5.255714200928743, 5.253043727882487, 3.533903390700933, 3.531858382946639, 2.6730370771677756, 2.672705976188672, 2.6720562552773295, 2.6700602297446947, 2.66824435517153, 1.8103050826197176, 1.8101083295130027, 1.8100183717789928, 1.8098828464493526, 1.809768279858788, 1.8097600376580278, 1.8097270688549876, 1.8096950420177487, 1.8094295254075496, 1.809189559619707, 1.8091111409667615, 1.8090301319078625, 1.8089840933293315, 1.8088677605528896, 1.8086601748394613, 1.8084094941906306, 1.8081297303476893, 6.11234967506604, 0.9488372061768015, 2.672679130163339, 10.4465024670475, 4.394862487865503, 2.670303727904292, 4.402384084787678, 3.537684676918195, 2.6782941883039872, 1.811936096404407, 1.8119092503790741, 1.811609940745759, 1.8104108182808965, 3.489742924882439, 3.488317691322519, 2.6402594828099244, 2.639608889279833, 2.639367085351149, 2.639095570984591, 2.638288184413747, 2.637375401691029, 2.638173463087941, 2.638101030341591, 2.638849646630216, 2.638599168121131, 2.637331811924513, 1.788915668538113, 1.7890508835601169, 1.7881653173334076, 1.7881081735350144, 1.7886295158171277, 1.7869104308461161, 1.78803931905308, 1.788133763547198, 1.788317447787194, 1.7875768554854399, 1.7872239084953652, 1.7876587218379763, 1.7866622294143863, 1.7869594422253832, 1.7879703561388902, 1.786781071165883, 1.7870067186885696, 4.340094258724096, 5.192669321251605, 3.4895813608224664, 6.053838724311622, 2.6412566258270442, 2.639308965662461, 1.7928626026206675, 1.7902388673460639, 1.7895038050893155, 1.7890926299782979, 1.7881794135265594, 0.00016959331421474846, 0.00016873839077573836, 0.00016873477815885747, 0.00016873096223453304, 0.0001685759012112684, 0.0001685772461682024, 0.00016860402019460978, 0.00016859610684334686, 0.00016852676336607451, 0.00016856672109824206, 0.0001685771210559295, 0.0001685302821487507, 0.00016857383685876502, 0.00016844533091543013, 0.00016852918741636257, 0.00016850438390825386, 0.00016841605464356412, 0.00016848306790475314, 0.00016854662493940241, 0.00016846552090847447, 0.00016836017637466603, 0.0001684107060938963, 0.00016843303863461458, 0.00016840840715588119, 0.00016836425816257043, 0.0001683859807809582, 0.00016688785514680653, 0.0001683206096183514, 0.0001683436146375367, 0.00016835961336943785, 0.0001682576781450668, 0.00016832372178614058, 0.00016836982565871588, 0.00016833480986132914, 0.0001815973363534473, 0.00018183820875690892, 0.00017677435206613738, 0.00017612566057002098, 0.00018098733582773497, 0.00017408451639327777, 0.00017055409827569285, 0.0001717169073793536, 0.000170441309561645, 0.00017378712452051928, 0.000172765520255896, 0.00017143854821111484, 0.00017184313002370751, 0.00017025725376912843, 0.00017024721350922568, 0.00017014224431223602, 0.00017009454525818084, 0.00017108266635076078, 0.0001713646537749146, 0.00017096943974375767, 0.00017050926116488098, 0.00016988452866903097, 0.00017205331864223266, 0.00017221859195477534, 0.0001704193679967796, 0.00017039145232088172, 0.00016977236551634777, 0.0001697699258270256, 0.0001709121696008232, 0.00017081738141504338, 0.00017024214646217195, 0.00017014433994280763, 0.0001699939549907438, 0.00016580800496688507, 0.0001657924026642664, 0.00016575128172675256, 0.0001656886147522891, 0.00016560191507651316, 0.00016561346896824824, 0.00016555689735399151, 0.00016542971356938, 0.0001654340955571903, 0.00016547192621319955, 0.00016540966862860074, 0.0001653965681529326, 0.000165305607790047, 0.00016530492547360597, 0.00016527667757294654, 0.00016523980215995475, 0.0001651600772744651, 0.00016515108586003083, 0.00016519899963678, 0.0001651165909732889, 0.0001651292062461545, 0.0001650928463611404, 0.00016490314722794125, 0.0001649131545357433, 0.0001648612681610484, 0.00016487911452662873, 0.00016488152537805377, 0.00016484204199999843, 0.00016483694737057193, 0.00016481608365006341, 0.00021302901825220264, 0.00019638243790182075, 0.00019931165270841862, 0.00019849672427640504, 0.0001787602815040272, 0.00019084119445818723, 0.0001854482562836626, 0.00017714261536041343, 0.00020384088440668848, 0.00017225962533134112, 0.00017805573670958775, 0.00017642157367068817, 0.0001763765711107541, 0.0001708250625953297, 0.00017070491425135478, 0.00017060515958767345, 0.00017022489705378313, 0.00017020275967591798, 0.00018297014362012346, 0.00017425000304023094, 0.00017234317118890066, 0.00016961023607851118, 0.0001719663808875659, 0.00016945773077264295, 0.00017726535650686433, 0.00017181605899430904, 0.00016941876292256527, 0.00017108848222933729, 0.00016918436448118364, 0.00016916034694245872, 0.0001715108512689341, 0.00017067690895209662, 0.00017087432584237343, 0.00016487186121949971, 0.00016484462114466956, 0.0001647368405931762, 0.00016436829039695965, 0.0001643445290657225, 0.00016432482122701974, 0.0001642962199046967, 0.00016418143649110097, 0.00016412526234456062, 0.00016402489302941748, 0.00016398546222703983, 0.00016396050602300333, 0.0001639391041874205, 0.00016389530226809342, 0.00016386906044142476, 0.00016383660225120517, 0.00016383118751117786, 0.00016381494329109592, 0.00016380270718863198, 0.0001637969294492732, 0.00016380036281794975, 0.00016376925075025094, 0.00016375166040764823, 0.0001637224994613559, 0.000163707525738934, 0.00016368341653333752, 0.00016366150044870185, 0.0001636437588563777, 0.00016363333775057094, 0.000163611920790016, 0.0001987311229836396, 0.00018235242677437652, 0.00017864850259614065, 0.00017745083167697106, 0.00017556027065894334, 0.00017925819022323832, 0.00017625057438756494, 0.00017433502691555644, 0.00017821409827121208, 0.00017711303054912192, 0.00017355344398004984, 0.0001733922269019741, 0.0001732779123625148, 0.0001731865272808248, 0.0001712450404815905, 0.0001722221439319939, 0.00017031685119109862, 0.00017294900471828594, 0.00016996269996836252, 0.00017230064253741782, 0.0001677062809991598, 0.00016760231194064653, 0.00016760191869137083, 0.0001707193266998326, 0.00016912560838508992, 0.0001672024379271212, 0.00017804887307551834, 0.00016898736613969988, 0.00016889678268153347, 0.0001670101087813466, 0.0001697616739636055, 0.0001681493519331265, 0.0001680123801853965, 0.00016800383457613553, 0.00016473946999476504, 0.0001646233498774433, 0.00016423663016821473, 0.0001642142941487689, 0.00016419133894284758, 0.0001641818850225142, 0.00016416889720863764, 0.00016415335713831328, 0.0001641421513733175, 0.00016412396843389033, 0.00016412422516974602, 0.00016411351777435247, 0.00016408038374685812, 0.00016405120647196338, 0.00016395896278922163, 0.0001639580566626721, 0.0001639397076000442, 0.0001638502427053877, 0.00016382872219983642, 0.00016380842496512704, 0.00016380141758647737, 0.00016378684405113917, 0.0001637446034518221, 0.00016369831548725046, 0.00016363807317381615, 0.0001635918003113537, 0.00016356843734848507, 0.00016353774986267445, 0.00016352159060587459, 0.0001635108530062627, 0.00017150513938734684, 0.00017364279763244284, 0.00017055650040053892, 0.00016782123659392134, 0.00017205854107536073, 0.0001675877579863268, 0.00017438139648507067, 0.00016986577523394437, 0.00016979623002126825, 0.00016975367227765886, 0.0001756072648897061, 0.00016868590785380655, 0.00016672728511278774, 0.00016850860909228263, 0.00017116978195136728, 0.00016838027136865144, 0.0001681949835913825, 0.00016672394754666366, 0.0001678851336177721, 0.0001665316070844176, 0.00016728715050352155, 0.0001660749193034565, 0.0001738292029657895, 0.00016995874381792577, 0.00016600567613296352, 0.00016596542901205541, 0.00016560167961085737, 0.0001655295519375151, 0.00016734684914102615, 0.00016621085338799454, 0.00016579364252037443, 0.0001619970378943859, 0.0001619924139830307, 0.00016057488489867812, 0.00016057488489867812, 0.00016194155095812353, 0.00016057488489867812, 0.00016057488489867812, 0.00016057488489867812, 0.00016057488489867812, 0.00016057488489867812, 0.00016057488489867812, 0.00016057488489867812, 0.00016057488489867812, 0.00016057488489867812, 0.00016057488489867812, 0.00016057488489867812, 0.00016057488489867812, 0.00016057488489867812, 0.00016057488489867812, 0.00016057488489867812, 0.00016057488489867812, 0.00016057488489867812, 0.00016057488489867812, 0.00016057488489867812, 0.00016057488489867812, 0.00016057488489867812, 0.00016057488489867812, 0.00016057488489867812, 0.00016057488489867812, 0.00016057488489867812, 0.00016188298641852409, 0.00016184913278181637, 0.00016179303032488656, 0.00016182909082837742, 0.00016178610947055298, 0.00016181808651986003, 0.0001617937359217492, 0.00016180299875715882, 0.0001618049804334539, 0.0001616985554087883, 0.00016174296297303726, 0.00016180125728405102, 0.00016175716498648536, 0.00016175458280222207, 0.0001617665329107894, 0.0001616840981794537, 0.00016174110139833582, 0.0001617214497750762, 0.00016172095435600245, 0.00016167816816326766, 0.00016174704642722107, 0.00016167854348074777, 0.00016164435956465755, 0.00016168914244638665, 0.00016165210611744743, 0.00016169237017671576, 0.00016167755264260024, 0.00016172508284828388, 0.00016170038695809133, 0.0001684528888827976, 0.0001701541429694291, 0.0001677690003832043, 0.0001680344699432497, 0.0001706651602376746, 0.00016515351795307425, 0.00016510300022024878, 0.0001656496576364074, 0.0001640538977870908, 0.00016426278448383182, 0.00016537180259951773, 0.00016307319321151167, 0.00016342627688411854, 0.00016280835418483287, 0.00016278448399309662, 0.00016277163312257697, 0.00016275022501351037, 0.00016271494517037816, 0.00016446782792957633, 0.0001643202831217877, 0.00016339856344138576, 0.00016325400616073898, 0.00016317553478199345, 0.0001631031285337268, 0.0001630973486445328, 0.00016272955252670483, 0.00016267813403192705, 0.00016266896127271267, 0.00016263237532474962, 0.00016258160237603766, 0.00012986975684815518, 0.00012986975684815518, 0.00012986975684815518, 0.00012986975684815518, 0.00012986975684815518, 0.00012986975684815518, 0.00012986975684815518, 0.00012986975684815518, 0.00012986975684815518, 0.00012986975684815518, 0.00012986975684815518, 0.00012986975684815518, 0.00012986975684815518, 0.00012986975684815518, 0.00012986975684815518, 0.00012986975684815518, 0.00012986975684815518, 0.00012986975684815518, 0.00012986975684815518, 0.00012986975684815518, 0.00012986975684815518, 0.00012986975684815518, 0.00012986975684815518, 0.00012986975684815518, 0.00012986975684815518, 0.00012986975684815518, 0.00012986975684815518, 0.00012986975684815518, 0.00012986975684815518, 0.00012986975684815518, 0.00012986979313335366, 0.0001298697810382875, 0.00012986976894322134, 0.00012986976894322134, 0.00012986976894322134, 0.00012986976894322134, 0.00012986976894322134, 0.00012986976894322134, 0.00012986976894322134, 0.00012986976894322134, 0.00012986976894322134, 0.00012986976894322134, 0.00012986976894322134, 0.00012986976894322134, 0.00012986976894322134, 0.00012986976894322134, 0.00012986976894322134, 0.00012986976894322134, 0.00012986976894322134, 0.00012986976894322134, 0.00012986976894322134, 0.00012986976894322134, 0.00012986976894322134, 0.00012986976894322134, 0.00012986976894322134, 0.00012986976894322134, 0.00012986976894322134, 0.00012986976894322134, 0.00012986976894322134, 0.00012986976894322134, 0.0001298695176874783, 0.0001298695176874783, 0.0001298695176874783, 0.0001298695176874783, 0.0001298695176874783, 0.0001298695176874783, 0.0001298695176874783, 0.0001298695176874783, 0.0001298695176874783, 0.0001298695176874783, 0.0001298695176874783, 0.0001298695176874783, 0.0001298695176874783, 0.0001298695176874783, 0.0001298695176874783, 0.0001298695176874783, 0.0001298695176874783, 0.0001298695176874783, 0.0001298695176874783, 0.0001298695176874783, 0.0001298695176874783, 0.0001298695176874783, 0.0001298695176874783, 0.0001298695176874783, 0.0001298695176874783, 0.0001298695176874783, 0.0001298695176874783, 0.0001298695176874783, 0.0001298695176874783, 0.0001298695176874783, 0.00012986955397260996, 0.00012986954187756608, 0.0001298695297825222, 0.0001298695297825222, 0.0001298695297825222, 0.0001298695297825222, 0.0001298695297825222, 0.0001298695297825222, 0.0001298695297825222, 0.0001298695297825222, 0.0001298695297825222, 0.0001298695297825222, 0.0001298695297825222, 0.0001298695297825222, 0.0001298695297825222, 0.0001298695297825222, 0.0001298695297825222, 0.0001298695297825222, 0.0001298695297825222, 0.0001298695297825222, 0.0001298695297825222, 0.0001298695297825222, 0.0001298695297825222, 0.0001298695297825222, 0.0001298695297825222, 0.0001298695297825222, 0.0001298695297825222, 0.0001298695297825222, 0.0001298695297825222, 0.0001298695297825222], \"Total\": [12.0, 9.0, 21.0, 9.0, 6.0, 6.0, 6.0, 7.0, 5.0, 5.0, 5.0, 6.0, 7.0, 6.0, 7.0, 4.0, 4.0, 4.0, 4.0, 5.0, 6.0, 4.0, 4.0, 3.0, 3.0, 3.0, 3.0, 3.0, 3.0, 3.0, 12.404446513105883, 6.330386523533343, 6.3323819169684805, 5.464242323901098, 4.595329571703418, 4.594530349725575, 4.597849589343912, 4.595804925044757, 3.727535176727447, 3.7287029585559375, 3.728481896785816, 3.728666629373953, 3.7299737985263697, 3.7282494433885267, 3.727972965940658, 2.8628163700979705, 2.861987389849581, 2.8619950340875584, 2.8620522648645346, 2.8606935323235163, 2.8615083232832568, 2.8612797303910456, 1.9945069397367865, 1.9951399143110717, 1.9942258832098485, 1.9945173944452437, 1.9948832959184102, 1.9937875203608404, 1.9937816256433305, 1.9940598665998668, 6.316256619026598, 3.714787972168299, 3.7121692107515973, 4.584308793475224, 4.582293363474079, 21.78224751818771, 6.29034035362764, 9.737138470090079, 6.287013545584843, 5.429116138561602, 5.4264504363254025, 3.707288667154108, 3.7052475302379726, 2.846413984617655, 2.8460834912379385, 2.8454349681471838, 2.8434426140679325, 2.8416301551094945, 1.9836770753627282, 1.9834806433828085, 1.9833909146741755, 1.9832556306698832, 1.9831412490276454, 1.9831330633821658, 1.9831001279166354, 1.9830681553768164, 1.9828031660828795, 1.9825636533756394, 1.9824853393916286, 1.9824045272699553, 1.982358513296519, 1.982242439644426, 1.982035218626035, 1.9817850217528055, 1.9815057502916096, 7.137345762974506, 1.1222019360049174, 3.6969166009148795, 21.78224751818771, 7.988573071971906, 3.6951982682661177, 9.683441281124376, 7.132346894880995, 6.2560644074832625, 6.29034035362764, 2.8367668660837184, 3.687586625562756, 2.851275296671091, 3.669102861601698, 3.6682705812856167, 2.817795545802858, 2.817147295252281, 2.8173189359228044, 2.81705826271423, 2.8164352263665746, 2.8155656565968092, 2.8164967043685882, 2.8164749520097487, 2.817492275654035, 2.8172295008475268, 2.816076502427017, 1.9651452106046488, 1.9654551584980267, 1.964644124449082, 1.964608212419709, 1.9654893266331295, 1.9636847047692023, 1.9649332146448693, 1.9650931274771566, 1.9654615483604037, 1.9646740487226064, 1.9643739836846041, 1.9648687037595558, 1.9638133431703861, 1.9642720849470274, 1.9655763827545651, 1.9642764589238175, 1.9649158792535393, 5.389398408525919, 9.683441281124376, 6.2560644074832625, 21.78224751818771, 7.132346894880995, 7.988573071971906, 6.29034035362764, 2.832265884851432, 2.831917273380518, 3.692356473838601, 2.826350122398634, 1.1205665283151012, 1.1211830465700918, 1.121448602058996, 1.1216667354782686, 1.1207899066578808, 1.1209240056935639, 1.1212146565459336, 1.121176282527666, 1.1208086495087262, 1.121218180974111, 1.12135139999891, 1.1211877983309122, 1.1216858269428456, 1.1209929916112333, 1.121565300646768, 1.1214602283387642, 1.1208932655629589, 1.1213444019399186, 1.121819221466291, 1.1213267142255459, 1.120837790424333, 1.1212556663111068, 1.1215478425900633, 1.1215377917694838, 1.1212732351032562, 1.121431605781057, 1.11148370871902, 1.1210573309899492, 1.1212175239540423, 1.1213261816388338, 1.1206904641025501, 1.1211829705498393, 1.1215303856153502, 1.1213701363842146, 7.137345762974506, 9.737138470090079, 6.287013545584843, 5.429116138561602, 21.78224751818771, 3.7052475302379726, 1.9824045272699553, 2.8416301551094945, 1.9825636533756394, 9.683441281124376, 5.4264504363254025, 2.8342247332849793, 3.707288667154108, 1.9817850217528055, 1.982242439644426, 1.9828031660828795, 1.9831330633821658, 3.6951982682661177, 4.584308793475224, 3.6969166009148795, 2.846413984617655, 1.9833909146741755, 7.132346894880995, 7.988573071971906, 2.8454349681471838, 2.8460834912379385, 1.982035218626035, 1.9815057502916096, 6.29034035362764, 6.2560644074832625, 2.8434426140679325, 12.404446513105883, 2.8342830646002075, 1.1207370022255327, 1.1209401415386686, 1.12082749623644, 1.1206904641025501, 1.1209819232197102, 1.121061842241989, 1.1208837336911437, 1.1208086495087262, 1.1208932655629589, 1.1211602614547134, 1.1209015410442513, 1.120837790424333, 1.1209240056935639, 1.1210573309899492, 1.12101230434452, 1.1207899066578808, 1.120951788897295, 1.121038978528453, 1.1213961357318638, 1.1210408140907195, 1.1211435770673484, 1.1210299457136823, 1.1210911759505846, 1.121181609096112, 1.1210409305595865, 1.1212175239540423, 1.121235734126454, 1.1209929916112333, 1.1211625729458365, 1.12128908889059, 9.737138470090079, 5.4264504363254025, 6.287013545584843, 7.137345762974506, 2.8416301551094945, 7.988573071971906, 5.429116138561602, 2.8434426140679325, 21.78224751818771, 1.9815057502916096, 3.7052475302379726, 3.6951982682661177, 3.707288667154108, 1.982035218626035, 1.9817850217528055, 1.982358513296519, 1.982242439644426, 1.9824853393916286, 9.683441281124376, 3.6969166009148795, 2.8454349681471838, 1.9831412490276454, 2.8460834912379385, 1.9825636533756394, 7.132346894880995, 2.846413984617655, 1.9834806433828085, 2.8342830646002075, 1.9831001279166354, 1.9824045272699553, 4.582293363474079, 3.687586625562756, 6.2560644074832625, 1.1263423846408387, 1.126325651823747, 1.1263986556486083, 1.1265868215986001, 1.1266008822400293, 1.1266204423506825, 1.1266291461642013, 1.1267176349743686, 1.126781657853298, 1.1267933535854322, 1.1268147644544526, 1.1268534298879058, 1.1268616720782763, 1.126938471288924, 1.1269097818448308, 1.1269264749039216, 1.1269330706742684, 1.1269277408020495, 1.1269020983509008, 1.1268892032004252, 1.1269447211504164, 1.1269079590885884, 1.1269656940287307, 1.1269841434401007, 1.1270096166315353, 1.1270104425888983, 1.12698055744341, 1.127006061168622, 1.1269574359962842, 1.1270074121057245, 12.404446513105883, 6.330386523533343, 4.594530349725575, 4.595329571703418, 3.727535176727447, 6.3323819169684805, 4.595804925044757, 3.727972965940658, 6.316256619026598, 5.464242323901098, 3.7282494433885267, 3.728481896785816, 3.728666629373953, 3.7287029585559375, 2.8606935323235163, 3.7121692107515973, 2.8612797303910456, 4.597849589343912, 2.8615083232832568, 4.582293363474079, 1.9937816256433305, 1.9937875203608404, 1.9937816581441885, 3.7299737985263697, 2.861987389849581, 1.9940839296575223, 21.78224751818771, 2.8619950340875584, 2.8620522648645346, 1.9940743727299832, 4.584308793475224, 2.8456637806987795, 6.29034035362764, 3.714787972168299, 1.11148370871902, 1.1115464214951385, 1.1117482783460657, 1.1117601978231177, 1.1117771936120995, 1.1117742216247966, 1.1117827482905334, 1.1117947260948746, 1.111805211013456, 1.1118123668352662, 1.111815325246719, 1.111817100024112, 1.1118362495650582, 1.1118499519018539, 1.1118974106244843, 1.1119026950283002, 1.1119097551931936, 1.111953144263285, 1.1119703304218778, 1.1119744784198937, 1.1119817189318106, 1.1119917425268218, 1.1120162200742583, 1.1120343839395868, 1.112071941969, 1.1120964262204758, 1.1121071630732406, 1.1121199573312528, 1.112132395372975, 1.1121367807857547, 2.8155656565968092, 3.6682705812856167, 2.816076502427017, 1.9636847047692023, 3.669102861601698, 1.9638133431703861, 5.389398408525919, 2.8164352263665746, 2.8164749520097487, 2.8164967043685882, 9.683441281124376, 2.81705826271423, 1.9642720849470274, 2.817147295252281, 6.2560644074832625, 2.8172295008475268, 2.8173189359228044, 1.9642764589238175, 2.817492275654035, 1.9643739836846041, 2.817795545802858, 1.964608212419709, 21.78224751818771, 7.988573071971906, 1.964644124449082, 1.9646740487226064, 1.9648687037595558, 1.9649158792535393, 7.132346894880995, 3.692356473838601, 6.29034035362764, 1.1210409305595865, 1.121038978528453, 1.11148370871902, 1.1115464214951385, 1.1211378348956067, 1.1117482783460657, 1.1117601978231177, 1.1117742216247966, 1.1117771936120995, 1.1117827482905334, 1.1117947260948746, 1.111805211013456, 1.1118123668352662, 1.111815325246719, 1.111817100024112, 1.1118362495650582, 1.1118499519018539, 1.1118974106244843, 1.1119026950283002, 1.1119097551931936, 1.111953144263285, 1.1119703304218778, 1.1119744784198937, 1.1119817189318106, 1.1119917425268218, 1.1120162200742583, 1.1120343839395868, 1.112071941969, 1.1120964262204758, 1.1121071630732406, 1.1213701363842146, 1.1211435770673484, 1.1209929916112333, 1.1213261816388338, 1.12101230434452, 1.1212732351032562, 1.1210911759505846, 1.1212635871294674, 1.1213772351779328, 1.1205665283151012, 1.120951788897295, 1.121431605781057, 1.1211625729458365, 1.1212556663111068, 1.1213533252621999, 1.1206904641025501, 1.1213207044181943, 1.121181609096112, 1.121218180974111, 1.1209015410442513, 1.121565300646768, 1.1210408140907195, 1.1207899066578808, 1.1211877983309122, 1.1210299457136823, 1.1214602283387642, 1.1213664230619582, 1.121819221466291, 1.121630214371907, 5.429116138561602, 9.737138470090079, 6.287013545584843, 7.137345762974506, 21.78224751818771, 3.707288667154108, 3.7052475302379726, 5.4264504363254025, 2.8454349681471838, 3.6951982682661177, 7.988573071971906, 1.9830681553768164, 2.8416301551094945, 1.9832556306698832, 1.9824045272699553, 1.982358513296519, 1.9828031660828795, 1.9833909146741755, 9.683441281124376, 7.132346894880995, 6.2560644074832625, 2.8460834912379385, 2.8342247332849793, 2.8434426140679325, 3.6969166009148795, 3.687586625562756, 2.846413984617655, 1.9817850217528055, 1.9824853393916286, 4.582293363474079, 1.11148370871902, 1.1115464214951385, 1.1117482783460657, 1.1117601978231177, 1.1117742216247966, 1.1117771936120995, 1.1117827482905334, 1.1117947260948746, 1.111805211013456, 1.1118123668352662, 1.111815325246719, 1.111817100024112, 1.1118362495650582, 1.1118499519018539, 1.1118974106244843, 1.1119026950283002, 1.1119097551931936, 1.111953144263285, 1.1119703304218778, 1.1119744784198937, 1.1119817189318106, 1.1119917425268218, 1.1120162200742583, 1.1120343839395868, 1.112071941969, 1.1120964262204758, 1.1121071630732406, 1.1121199573312528, 1.112132395372975, 1.1121367807857547, 21.78224751818771, 9.737138470090079, 3.6969166009148795, 6.29034035362764, 3.687586625562756, 3.7085618344384788, 3.7052475302379726, 4.582293363474079, 3.707288667154108, 3.6951982682661177, 5.429116138561602, 3.692356473838601, 4.584308793475224, 6.287013545584843, 7.137345762974506, 5.4264504363254025, 6.2560644074832625, 2.8416301551094945, 9.683441281124376, 7.988573071971906, 7.132346894880995, 3.728481896785816, 4.595804925044757, 5.389398408525919, 3.727972965940658, 12.404446513105883, 5.464242323901098, 3.7287029585559375, 3.728666629373953, 4.594530349725575, 1.11148370871902, 1.1115464214951385, 1.1117482783460657, 1.1117601978231177, 1.1117742216247966, 1.1117771936120995, 1.1117827482905334, 1.1117947260948746, 1.111805211013456, 1.1118123668352662, 1.111815325246719, 1.111817100024112, 1.1118362495650582, 1.1118499519018539, 1.1118974106244843, 1.1119026950283002, 1.1119097551931936, 1.111953144263285, 1.1119703304218778, 1.1119744784198937, 1.1119817189318106, 1.1119917425268218, 1.1120162200742583, 1.1120343839395868, 1.112071941969, 1.1120964262204758, 1.1121071630732406, 1.1121199573312528, 1.112132395372975, 1.1121367807857547, 21.78224751818771, 9.737138470090079, 3.6969166009148795, 6.29034035362764, 3.687586625562756, 3.7085618344384788, 4.582293363474079, 3.707288667154108, 3.6951982682661177, 5.429116138561602, 4.584308793475224, 6.287013545584843, 7.137345762974506, 5.4264504363254025, 6.2560644074832625, 2.8416301551094945, 9.683441281124376, 7.988573071971906, 7.132346894880995, 4.595804925044757, 5.389398408525919, 3.727972965940658, 2.8620522648645346, 12.404446513105883, 5.464242323901098, 3.7287029585559375, 3.714787972168299, 3.7282494433885267, 3.728666629373953, 4.594530349725575], \"Category\": [\"Default\", \"Default\", \"Default\", \"Default\", \"Default\", \"Default\", \"Default\", \"Default\", \"Default\", \"Default\", \"Default\", \"Default\", \"Default\", \"Default\", \"Default\", \"Default\", \"Default\", \"Default\", \"Default\", \"Default\", \"Default\", \"Default\", \"Default\", \"Default\", \"Default\", \"Default\", \"Default\", \"Default\", \"Default\", \"Default\", \"Topic1\", \"Topic1\", \"Topic1\", \"Topic1\", \"Topic1\", \"Topic1\", \"Topic1\", \"Topic1\", \"Topic1\", \"Topic1\", \"Topic1\", \"Topic1\", \"Topic1\", \"Topic1\", \"Topic1\", \"Topic1\", \"Topic1\", \"Topic1\", \"Topic1\", \"Topic1\", \"Topic1\", \"Topic1\", \"Topic1\", \"Topic1\", \"Topic1\", \"Topic1\", \"Topic1\", \"Topic1\", \"Topic1\", \"Topic1\", \"Topic1\", \"Topic1\", \"Topic1\", \"Topic1\", \"Topic1\", \"Topic1\", \"Topic1\", \"Topic2\", \"Topic2\", \"Topic2\", \"Topic2\", \"Topic2\", \"Topic2\", \"Topic2\", \"Topic2\", \"Topic2\", \"Topic2\", \"Topic2\", \"Topic2\", \"Topic2\", \"Topic2\", \"Topic2\", \"Topic2\", \"Topic2\", \"Topic2\", \"Topic2\", \"Topic2\", \"Topic2\", \"Topic2\", \"Topic2\", \"Topic2\", \"Topic2\", \"Topic2\", \"Topic2\", \"Topic2\", \"Topic2\", \"Topic2\", \"Topic2\", \"Topic2\", \"Topic2\", \"Topic2\", \"Topic2\", \"Topic2\", \"Topic2\", \"Topic2\", \"Topic2\", \"Topic2\", \"Topic2\", \"Topic3\", \"Topic3\", \"Topic3\", \"Topic3\", \"Topic3\", \"Topic3\", \"Topic3\", \"Topic3\", \"Topic3\", \"Topic3\", \"Topic3\", \"Topic3\", \"Topic3\", \"Topic3\", \"Topic3\", \"Topic3\", \"Topic3\", \"Topic3\", \"Topic3\", \"Topic3\", \"Topic3\", \"Topic3\", \"Topic3\", \"Topic3\", \"Topic3\", \"Topic3\", \"Topic3\", \"Topic3\", \"Topic3\", \"Topic3\", \"Topic3\", \"Topic3\", \"Topic3\", \"Topic3\", \"Topic3\", \"Topic3\", \"Topic3\", \"Topic3\", \"Topic3\", \"Topic3\", \"Topic3\", \"Topic4\", \"Topic4\", \"Topic4\", \"Topic4\", \"Topic4\", \"Topic4\", \"Topic4\", \"Topic4\", \"Topic4\", \"Topic4\", \"Topic4\", \"Topic4\", \"Topic4\", \"Topic4\", \"Topic4\", \"Topic4\", \"Topic4\", \"Topic4\", \"Topic4\", \"Topic4\", \"Topic4\", \"Topic4\", \"Topic4\", \"Topic4\", \"Topic4\", \"Topic4\", \"Topic4\", \"Topic4\", \"Topic4\", \"Topic4\", \"Topic4\", \"Topic4\", \"Topic4\", \"Topic4\", \"Topic4\", \"Topic4\", \"Topic4\", \"Topic4\", \"Topic4\", \"Topic4\", \"Topic4\", \"Topic4\", \"Topic4\", \"Topic4\", \"Topic4\", \"Topic4\", \"Topic4\", \"Topic4\", \"Topic4\", \"Topic4\", \"Topic4\", \"Topic4\", \"Topic4\", \"Topic4\", \"Topic4\", \"Topic4\", \"Topic4\", \"Topic4\", \"Topic4\", \"Topic4\", \"Topic4\", \"Topic4\", \"Topic4\", \"Topic4\", \"Topic4\", \"Topic4\", \"Topic4\", \"Topic5\", \"Topic5\", \"Topic5\", \"Topic5\", \"Topic5\", \"Topic5\", \"Topic5\", \"Topic5\", \"Topic5\", \"Topic5\", \"Topic5\", \"Topic5\", \"Topic5\", \"Topic5\", \"Topic5\", \"Topic5\", \"Topic5\", \"Topic5\", \"Topic5\", \"Topic5\", \"Topic5\", \"Topic5\", \"Topic5\", \"Topic5\", \"Topic5\", \"Topic5\", \"Topic5\", \"Topic5\", \"Topic5\", \"Topic5\", \"Topic5\", \"Topic5\", \"Topic5\", \"Topic5\", \"Topic5\", \"Topic5\", \"Topic5\", \"Topic5\", \"Topic5\", \"Topic5\", \"Topic5\", \"Topic5\", \"Topic5\", \"Topic5\", \"Topic5\", \"Topic5\", \"Topic5\", \"Topic5\", \"Topic5\", \"Topic5\", \"Topic5\", \"Topic5\", \"Topic5\", \"Topic5\", \"Topic5\", \"Topic5\", \"Topic5\", \"Topic5\", \"Topic5\", \"Topic5\", \"Topic5\", \"Topic5\", \"Topic5\", \"Topic6\", \"Topic6\", \"Topic6\", \"Topic6\", \"Topic6\", \"Topic6\", \"Topic6\", \"Topic6\", \"Topic6\", \"Topic6\", \"Topic6\", \"Topic6\", \"Topic6\", \"Topic6\", \"Topic6\", \"Topic6\", \"Topic6\", \"Topic6\", \"Topic6\", \"Topic6\", \"Topic6\", \"Topic6\", \"Topic6\", \"Topic6\", \"Topic6\", \"Topic6\", \"Topic6\", \"Topic6\", \"Topic6\", \"Topic6\", \"Topic6\", \"Topic6\", \"Topic6\", \"Topic6\", \"Topic6\", \"Topic6\", \"Topic6\", \"Topic6\", \"Topic6\", \"Topic6\", \"Topic6\", \"Topic6\", \"Topic6\", \"Topic6\", \"Topic6\", \"Topic6\", \"Topic6\", \"Topic6\", \"Topic6\", \"Topic6\", \"Topic6\", \"Topic6\", \"Topic6\", \"Topic6\", \"Topic6\", \"Topic6\", \"Topic6\", \"Topic6\", \"Topic6\", \"Topic6\", \"Topic6\", \"Topic6\", \"Topic6\", \"Topic6\", \"Topic7\", \"Topic7\", \"Topic7\", \"Topic7\", \"Topic7\", \"Topic7\", \"Topic7\", \"Topic7\", \"Topic7\", \"Topic7\", \"Topic7\", \"Topic7\", \"Topic7\", \"Topic7\", \"Topic7\", \"Topic7\", \"Topic7\", \"Topic7\", \"Topic7\", \"Topic7\", \"Topic7\", \"Topic7\", \"Topic7\", \"Topic7\", \"Topic7\", \"Topic7\", \"Topic7\", \"Topic7\", \"Topic7\", \"Topic7\", \"Topic7\", \"Topic7\", \"Topic7\", \"Topic7\", \"Topic7\", \"Topic7\", \"Topic7\", \"Topic7\", \"Topic7\", \"Topic7\", \"Topic7\", \"Topic7\", \"Topic7\", \"Topic7\", \"Topic7\", \"Topic7\", \"Topic7\", \"Topic7\", \"Topic7\", \"Topic7\", \"Topic7\", \"Topic7\", \"Topic7\", \"Topic7\", \"Topic7\", \"Topic7\", \"Topic7\", \"Topic7\", \"Topic7\", \"Topic7\", \"Topic7\", \"Topic8\", \"Topic8\", \"Topic8\", \"Topic8\", \"Topic8\", \"Topic8\", \"Topic8\", \"Topic8\", \"Topic8\", \"Topic8\", \"Topic8\", \"Topic8\", \"Topic8\", \"Topic8\", \"Topic8\", \"Topic8\", \"Topic8\", \"Topic8\", \"Topic8\", \"Topic8\", \"Topic8\", \"Topic8\", \"Topic8\", \"Topic8\", \"Topic8\", \"Topic8\", \"Topic8\", \"Topic8\", \"Topic8\", \"Topic8\", \"Topic8\", \"Topic8\", \"Topic8\", \"Topic8\", \"Topic8\", \"Topic8\", \"Topic8\", \"Topic8\", \"Topic8\", \"Topic8\", \"Topic8\", \"Topic8\", \"Topic8\", \"Topic8\", \"Topic8\", \"Topic8\", \"Topic8\", \"Topic8\", \"Topic8\", \"Topic8\", \"Topic8\", \"Topic8\", \"Topic8\", \"Topic8\", \"Topic8\", \"Topic8\", \"Topic8\", \"Topic8\", \"Topic8\", \"Topic8\", \"Topic8\", \"Topic8\", \"Topic8\", \"Topic8\", \"Topic8\", \"Topic8\", \"Topic8\", \"Topic8\", \"Topic8\", \"Topic8\", \"Topic8\", \"Topic8\", \"Topic8\", \"Topic8\", \"Topic8\", \"Topic8\", \"Topic8\", \"Topic8\", \"Topic8\", \"Topic8\", \"Topic8\", \"Topic8\", \"Topic8\", \"Topic8\", \"Topic8\", \"Topic8\", \"Topic8\", \"Topic8\", \"Topic8\", \"Topic9\", \"Topic9\", \"Topic9\", \"Topic9\", \"Topic9\", \"Topic9\", \"Topic9\", \"Topic9\", \"Topic9\", \"Topic9\", \"Topic9\", \"Topic9\", \"Topic9\", \"Topic9\", \"Topic9\", \"Topic9\", \"Topic9\", \"Topic9\", \"Topic9\", \"Topic9\", \"Topic9\", \"Topic9\", \"Topic9\", \"Topic9\", \"Topic9\", \"Topic9\", \"Topic9\", \"Topic9\", \"Topic9\", \"Topic9\", \"Topic9\", \"Topic9\", \"Topic9\", \"Topic9\", \"Topic9\", \"Topic9\", \"Topic9\", \"Topic9\", \"Topic9\", \"Topic9\", \"Topic9\", \"Topic9\", \"Topic9\", \"Topic9\", \"Topic9\", \"Topic9\", \"Topic9\", \"Topic9\", \"Topic9\", \"Topic9\", \"Topic9\", \"Topic9\", \"Topic9\", \"Topic9\", \"Topic9\", \"Topic9\", \"Topic9\", \"Topic9\", \"Topic9\", \"Topic9\", \"Topic10\", \"Topic10\", \"Topic10\", \"Topic10\", \"Topic10\", \"Topic10\", \"Topic10\", \"Topic10\", \"Topic10\", \"Topic10\", \"Topic10\", \"Topic10\", \"Topic10\", \"Topic10\", \"Topic10\", \"Topic10\", \"Topic10\", \"Topic10\", \"Topic10\", \"Topic10\", \"Topic10\", \"Topic10\", \"Topic10\", \"Topic10\", \"Topic10\", \"Topic10\", \"Topic10\", \"Topic10\", \"Topic10\", \"Topic10\", \"Topic10\", \"Topic10\", \"Topic10\", \"Topic10\", \"Topic10\", \"Topic10\", \"Topic10\", \"Topic10\", \"Topic10\", \"Topic10\", \"Topic10\", \"Topic10\", \"Topic10\", \"Topic10\", \"Topic10\", \"Topic10\", \"Topic10\", \"Topic10\", \"Topic10\", \"Topic10\", \"Topic10\", \"Topic10\", \"Topic10\", \"Topic10\", \"Topic10\", \"Topic10\", \"Topic10\", \"Topic10\", \"Topic10\", \"Topic10\"], \"logprob\": [30.0, 29.0, 28.0, 27.0, 26.0, 25.0, 24.0, 23.0, 22.0, 21.0, 20.0, 19.0, 18.0, 17.0, 16.0, 15.0, 14.0, 13.0, 12.0, 11.0, 10.0, 9.0, 8.0, 7.0, 6.0, 5.0, 4.0, 3.0, 2.0, 1.0, -3.0577, -3.744, -3.7438, -3.8959, -4.0754, -4.0756, -4.0749, -4.0753, -4.2933, -4.2931, -4.2933, -4.2933, -4.2931, -4.2936, -4.2937, -4.5721, -4.5724, -4.5725, -4.5726, -4.5731, -4.5729, -4.5735, -4.9618, -4.9616, -4.9621, -4.962, -4.9618, -4.9624, -4.9625, -4.9624, -3.8959, -4.5723, -4.5731, -4.5728, -4.5738, -3.8961, -4.5727, -3.2748, -3.7223, -3.8735, -3.874, -4.2704, -4.271, -4.5496, -4.5497, -4.55, -4.5507, -4.5514, -4.9393, -4.9394, -4.9395, -4.9396, -4.9396, -4.9396, -4.9396, -4.9397, -4.9398, -4.9399, -4.94, -4.94, -4.9401, -4.9401, -4.9402, -4.9404, -4.9405, -3.7225, -5.5853, -4.5497, -3.1866, -4.0524, -4.5506, -4.0507, -4.2694, -4.5476, -4.9384, -4.9384, -4.9386, -4.9393, -4.2006, -4.201, -4.4795, -4.4798, -4.4799, -4.48, -4.4803, -4.4806, -4.4803, -4.4804, -4.4801, -4.4802, -4.4807, -4.8688, -4.8687, -4.8692, -4.8693, -4.869, -4.8699, -4.8693, -4.8692, -4.8691, -4.8696, -4.8698, -4.8695, -4.8701, -4.8699, -4.8693, -4.87, -4.8699, -3.9825, -3.8032, -4.2006, -3.6497, -4.4792, -4.4799, -4.8666, -4.8681, -4.8685, -4.8687, -4.8692, -5.9816, -5.9866, -5.9866, -5.9867, -5.9876, -5.9876, -5.9874, -5.9875, -5.9879, -5.9876, -5.9876, -5.9879, -5.9876, -5.9884, -5.9879, -5.988, -5.9885, -5.9881, -5.9878, -5.9882, -5.9889, -5.9886, -5.9884, -5.9886, -5.9888, -5.9887, -5.9976, -5.9891, -5.989, -5.9889, -5.9895, -5.9891, -5.9888, -5.989, -5.9132, -5.9119, -5.9401, -5.9438, -5.9165, -5.9554, -5.9759, -5.9691, -5.9766, -5.9571, -5.963, -5.9707, -5.9684, -5.9777, -5.9777, -5.9783, -5.9786, -5.9728, -5.9712, -5.9735, -5.9762, -5.9799, -5.9672, -5.9662, -5.9767, -5.9769, -5.9805, -5.9805, -5.9738, -5.9744, -5.9777, -5.9783, -5.9792, -5.9732, -5.9733, -5.9735, -5.9739, -5.9744, -5.9744, -5.9747, -5.9755, -5.9755, -5.9752, -5.9756, -5.9757, -5.9762, -5.9762, -5.9764, -5.9766, -5.9771, -5.9772, -5.9769, -5.9774, -5.9773, -5.9775, -5.9787, -5.9786, -5.9789, -5.9788, -5.9788, -5.979, -5.9791, -5.9792, -5.7226, -5.804, -5.7892, -5.7933, -5.898, -5.8326, -5.8613, -5.9071, -5.7667, -5.935, -5.9019, -5.9112, -5.9114, -5.9434, -5.9441, -5.9447, -5.9469, -5.947, -5.8747, -5.9235, -5.9345, -5.9505, -5.9367, -5.9514, -5.9064, -5.9376, -5.9517, -5.9418, -5.953, -5.9532, -5.9394, -5.9443, -5.9431, -5.9764, -5.9765, -5.9772, -5.9794, -5.9796, -5.9797, -5.9799, -5.9806, -5.9809, -5.9815, -5.9818, -5.9819, -5.9821, -5.9823, -5.9825, -5.9827, -5.9827, -5.9828, -5.9829, -5.9829, -5.9829, -5.9831, -5.9832, -5.9834, -5.9835, -5.9836, -5.9837, -5.9839, -5.9839, -5.984, -5.7896, -5.8756, -5.8961, -5.9029, -5.9136, -5.8927, -5.9096, -5.9206, -5.8986, -5.9048, -5.9251, -5.926, -5.9266, -5.9272, -5.9385, -5.9328, -5.9439, -5.9285, -5.946, -5.9323, -5.9593, -5.96, -5.96, -5.9415, -5.9509, -5.9623, -5.8995, -5.9517, -5.9523, -5.9635, -5.9472, -5.9567, -5.9575, -5.9576, -5.9757, -5.9764, -5.9787, -5.9789, -5.979, -5.9791, -5.9791, -5.9792, -5.9793, -5.9794, -5.9794, -5.9795, -5.9797, -5.9799, -5.9804, -5.9804, -5.9805, -5.9811, -5.9812, -5.9813, -5.9814, -5.9815, -5.9817, -5.982, -5.9824, -5.9827, -5.9828, -5.983, -5.9831, -5.9832, -5.9354, -5.923, -5.941, -5.9571, -5.9322, -5.9585, -5.9188, -5.945, -5.9454, -5.9457, -5.9118, -5.952, -5.9637, -5.953, -5.9374, -5.9538, -5.9549, -5.9637, -5.9568, -5.9648, -5.9603, -5.9676, -5.922, -5.9445, -5.968, -5.9683, -5.9704, -5.9709, -5.96, -5.9668, -5.9693, -5.9865, -5.9865, -5.9953, -5.9953, -5.9869, -5.9953, -5.9953, -5.9953, -5.9953, -5.9953, -5.9953, -5.9953, -5.9953, -5.9953, -5.9953, -5.9953, -5.9953, -5.9953, -5.9953, -5.9953, -5.9953, -5.9953, -5.9953, -5.9953, -5.9953, -5.9953, -5.9953, -5.9953, -5.9953, -5.9953, -5.9872, -5.9874, -5.9878, -5.9876, -5.9878, -5.9876, -5.9878, -5.9877, -5.9877, -5.9884, -5.9881, -5.9877, -5.988, -5.988, -5.9879, -5.9885, -5.9881, -5.9882, -5.9882, -5.9885, -5.9881, -5.9885, -5.9887, -5.9884, -5.9886, -5.9884, -5.9885, -5.9882, -5.9884, -5.9474, -5.9374, -5.9515, -5.9499, -5.9344, -5.9672, -5.9675, -5.9642, -5.9739, -5.9726, -5.9659, -5.9799, -5.9777, -5.9815, -5.9817, -5.9817, -5.9819, -5.9821, -5.9714, -5.9723, -5.9779, -5.9788, -5.9793, -5.9797, -5.9797, -5.982, -5.9823, -5.9824, -5.9826, -5.9829, -5.9915, -5.9915, -5.9915, -5.9915, -5.9915, -5.9915, -5.9915, -5.9915, -5.9915, -5.9915, -5.9915, -5.9915, -5.9915, -5.9915, -5.9915, -5.9915, -5.9915, -5.9915, -5.9915, -5.9915, -5.9915, -5.9915, -5.9915, -5.9915, -5.9915, -5.9915, -5.9915, -5.9915, -5.9915, -5.9915, -5.9915, -5.9915, -5.9915, -5.9915, -5.9915, -5.9915, -5.9915, -5.9915, -5.9915, -5.9915, -5.9915, -5.9915, -5.9915, -5.9915, -5.9915, -5.9915, -5.9915, -5.9915, -5.9915, -5.9915, -5.9915, -5.9915, -5.9915, -5.9915, -5.9915, -5.9915, -5.9915, -5.9915, -5.9915, -5.9915, -5.9915, -5.9915, -5.9915, -5.9915, -5.9915, -5.9915, -5.9915, -5.9915, -5.9915, -5.9915, -5.9915, -5.9915, -5.9915, -5.9915, -5.9915, -5.9915, -5.9915, -5.9915, -5.9915, -5.9915, -5.9915, -5.9915, -5.9915, -5.9915, -5.9915, -5.9915, -5.9915, -5.9915, -5.9915, -5.9915, -5.9915, -5.9915, -5.9915, -5.9915, -5.9915, -5.9915, -5.9915, -5.9915, -5.9915, -5.9915, -5.9915, -5.9915, -5.9915, -5.9915, -5.9915, -5.9915, -5.9915, -5.9915, -5.9915, -5.9915, -5.9915, -5.9915, -5.9915, -5.9915, -5.9915, -5.9915, -5.9915, -5.9915, -5.9915, -5.9915], \"loglift\": [30.0, 29.0, 28.0, 27.0, 26.0, 25.0, 24.0, 23.0, 22.0, 21.0, 20.0, 19.0, 18.0, 17.0, 16.0, 15.0, 14.0, 13.0, 12.0, 11.0, 10.0, 9.0, 8.0, 7.0, 6.0, 5.0, 4.0, 3.0, 2.0, 1.0, 1.039, 1.0254, 1.0253, 1.0206, 1.0143, 1.0143, 1.0143, 1.0143, 1.0056, 1.0056, 1.0055, 1.0054, 1.0053, 1.0052, 1.0052, 0.9908, 0.9908, 0.9907, 0.9906, 0.9905, 0.9905, 0.9899, 0.9626, 0.9624, 0.9624, 0.9624, 0.9623, 0.9623, 0.9622, 0.9622, 0.8757, 0.7301, 0.73, 0.5193, 0.5187, -0.3624, 0.2031, 1.0639, 1.0539, 1.0494, 1.0494, 1.034, 1.034, 1.0191, 1.019, 1.019, 1.019, 1.0189, 0.9904, 0.9904, 0.9904, 0.9904, 0.9904, 0.9904, 0.9904, 0.9904, 0.9904, 0.9904, 0.9904, 0.9904, 0.9904, 0.9904, 0.9904, 0.9904, 0.9903, 0.9269, 0.9141, 0.7575, 0.3471, 0.4843, 0.7571, 0.2936, 0.3807, 0.2335, -0.1627, 0.6336, 0.3711, 0.6277, 1.1142, 1.114, 1.0992, 1.0992, 1.0991, 1.099, 1.099, 1.0989, 1.0989, 1.0989, 1.0988, 1.0988, 1.0987, 1.0703, 1.0703, 1.0702, 1.0702, 1.07, 1.07, 1.07, 1.0699, 1.0699, 1.0698, 1.0698, 1.0698, 1.0698, 1.0697, 1.0696, 1.0696, 1.0694, 0.9478, 0.5411, 0.5805, -0.1161, 0.1709, 0.0568, -0.0909, 0.7056, 0.7053, 0.4397, 0.7065, 0.5193, 0.5137, 0.5135, 0.5132, 0.5131, 0.513, 0.5129, 0.5129, 0.5128, 0.5127, 0.5126, 0.5125, 0.5123, 0.5122, 0.5121, 0.5121, 0.5121, 0.5121, 0.512, 0.512, 0.5118, 0.5117, 0.5116, 0.5114, 0.5114, 0.5114, 0.5114, 0.5114, 0.5113, 0.5113, 0.5113, 0.5113, 0.5112, 0.5112, -1.2638, -1.5731, -1.1639, -1.0208, -2.3829, -0.6505, -0.0455, -0.3988, -0.0462, -1.6128, -1.0396, -0.3978, -0.664, -0.0469, -0.0472, -0.0481, -0.0486, -0.6651, -0.8791, -0.6663, -0.4075, -0.0499, -1.3171, -1.4295, -0.4077, -0.4081, -0.0499, -0.0497, -1.1981, -1.1932, -0.408, -1.8817, -0.4063, 0.5275, 0.5273, 0.5271, 0.5269, 0.5261, 0.5261, 0.5259, 0.5252, 0.5251, 0.5251, 0.525, 0.525, 0.5243, 0.5242, 0.5241, 0.5241, 0.5234, 0.5233, 0.5233, 0.5231, 0.5231, 0.523, 0.5218, 0.5217, 0.5215, 0.5215, 0.5215, 0.5215, 0.5213, 0.521, -1.3838, -0.8805, -1.0129, -1.1439, -0.3276, -1.2959, -0.9383, -0.3374, -2.2331, -0.0042, -0.597, -0.6035, -0.607, -0.0128, -0.0134, -0.0142, -0.0164, -0.0167, -1.5304, -0.6163, -0.3655, -0.0205, -0.3679, -0.0211, -1.2563, -0.3689, -0.0218, -0.3689, -0.023, -0.0228, -0.8469, -0.6345, -1.1619, 0.5194, 0.5192, 0.5185, 0.5161, 0.5159, 0.5158, 0.5156, 0.5148, 0.5144, 0.5138, 0.5136, 0.5134, 0.5132, 0.5129, 0.5128, 0.5126, 0.5125, 0.5124, 0.5124, 0.5123, 0.5123, 0.5122, 0.512, 0.5118, 0.5117, 0.5115, 0.5114, 0.5113, 0.5113, 0.5111, -1.6929, -1.1062, -0.8063, -0.8132, -0.6146, -1.1237, -0.8201, -0.6217, -1.127, -0.9883, -0.6263, -0.6273, -0.628, -0.6285, -0.3748, -0.6297, -0.3804, -0.8394, -0.3826, -0.8398, -0.0346, -0.0353, -0.0353, -0.6432, -0.3877, -0.0378, -2.3659, -0.3885, -0.3891, -0.0389, -0.8551, -0.3878, -1.1818, -0.6552, 0.5334, 0.5326, 0.5301, 0.5299, 0.5298, 0.5297, 0.5296, 0.5295, 0.5294, 0.5293, 0.5293, 0.5293, 0.529, 0.5288, 0.5282, 0.5282, 0.5281, 0.5275, 0.5274, 0.5273, 0.5272, 0.5271, 0.5268, 0.5265, 0.5261, 0.5258, 0.5257, 0.5255, 0.5254, 0.5253, -0.3559, -0.608, -0.3616, -0.0172, -0.6174, -0.0187, -0.9885, -0.3658, -0.3662, -0.3665, -1.5675, -0.373, -0.0241, -0.374, -1.1562, -0.3748, -0.376, -0.0241, -0.3779, -0.0253, -0.3816, -0.0282, -2.3883, -1.4078, -0.0286, -0.0289, -0.0311, -0.0316, -1.3099, -0.6583, -1.1936, 0.514, 0.5139, 0.5137, 0.5136, 0.5135, 0.5135, 0.5134, 0.5134, 0.5134, 0.5134, 0.5134, 0.5134, 0.5134, 0.5134, 0.5134, 0.5134, 0.5134, 0.5133, 0.5133, 0.5133, 0.5133, 0.5133, 0.5133, 0.5132, 0.5132, 0.5132, 0.5132, 0.5132, 0.5131, 0.5131, 0.513, 0.5129, 0.5127, 0.5127, 0.5127, 0.5126, 0.5126, 0.5126, 0.5125, 0.5125, 0.5125, 0.5124, 0.5124, 0.5123, 0.5122, 0.5123, 0.5121, 0.5121, 0.5121, 0.5121, 0.5119, 0.512, 0.512, 0.5119, 0.5118, 0.5117, 0.5117, 0.5116, 0.5116, -1.0245, -1.5986, -1.1753, -1.3005, -2.4008, -0.6628, -0.6626, -1.0408, -0.4049, -0.6649, -1.4292, -0.0498, -0.4074, -0.0515, -0.0513, -0.0513, -0.0517, -0.0522, -1.6271, -1.3222, -1.1967, -0.41, -0.4063, -0.41, -0.6725, -0.6723, -0.4137, -0.0517, -0.0522, -0.8904, 0.5176, 0.5175, 0.5173, 0.5173, 0.5173, 0.5173, 0.5173, 0.5173, 0.5173, 0.5173, 0.5173, 0.5173, 0.5172, 0.5172, 0.5172, 0.5172, 0.5172, 0.5171, 0.5171, 0.5171, 0.5171, 0.5171, 0.5171, 0.5171, 0.517, 0.517, 0.517, 0.517, 0.517, 0.517, -2.4578, -1.6527, -0.6842, -1.2158, -0.6817, -0.6874, -0.6865, -0.8989, -0.687, -0.6838, -1.0685, -0.683, -0.8994, -1.2152, -1.3421, -1.068, -1.2103, -0.4211, -1.6472, -1.4548, -1.3414, -0.6927, -0.9019, -1.0612, -0.6926, -1.8948, -1.075, -0.6928, -0.6928, -0.9016, 0.5176, 0.5175, 0.5173, 0.5173, 0.5173, 0.5173, 0.5173, 0.5173, 0.5173, 0.5173, 0.5173, 0.5173, 0.5172, 0.5172, 0.5172, 0.5172, 0.5172, 0.5171, 0.5171, 0.5171, 0.5171, 0.5171, 0.5171, 0.5171, 0.517, 0.517, 0.517, 0.517, 0.517, 0.517, -2.4578, -1.6527, -0.6842, -1.2158, -0.6817, -0.6874, -0.8989, -0.687, -0.6838, -1.0685, -0.8994, -1.2152, -1.3421, -1.068, -1.2103, -0.4211, -1.6472, -1.4548, -1.3414, -0.9019, -1.0612, -0.6926, -0.4283, -1.8948, -1.075, -0.6928, -0.6891, -0.6927, -0.6928, -0.9016]}, \"token.table\": {\"Topic\": [2, 2, 2, 3, 2, 3, 2, 1, 2, 1, 3, 3, 2, 1, 1, 2, 3, 3, 3, 1, 1, 1, 2, 2, 3, 1, 2, 2, 1, 3, 1, 1, 1, 3, 2, 1, 3, 3, 3, 1, 1, 3, 3, 2, 1, 1, 1, 2, 1, 3, 1, 2, 3, 1, 3, 2, 1, 3, 2, 1, 3, 2, 1, 2, 3, 1, 3, 3, 1, 3, 3, 1, 2, 2, 1, 2, 3, 2, 1, 1, 3, 2, 2, 1, 1, 2, 2, 3, 3, 2, 2, 3, 2, 1, 3, 1, 3, 2, 1, 1, 2, 1, 1, 2, 2, 1, 1, 2, 1, 3, 2, 3, 2, 2, 2, 2, 3, 2, 1, 3, 3, 2, 3, 2, 1, 1, 1, 2, 2, 2, 3, 2, 1, 3, 3, 2, 3, 2, 3, 3, 3, 2, 3, 2, 1, 2, 1, 3, 2, 2, 2, 1, 2, 3, 3, 1, 2, 3, 2, 2, 2, 1, 2, 2, 1, 2, 2, 2, 3, 2, 1, 2, 1, 2, 3, 3, 2, 2, 2, 2, 1, 2, 3, 3, 3, 3, 3, 3, 2, 2, 1, 1, 1, 3, 2, 1, 2, 1, 2, 1, 2, 3, 2, 3, 2, 3, 3, 2, 1, 2, 2, 3, 3, 3, 1, 2, 2, 2, 1, 2, 3, 2, 1, 1, 3, 1, 3, 2, 1, 2, 2, 2, 1, 3, 1, 1, 3, 2, 2, 3, 2, 3, 2, 2, 3, 2, 2, 2, 1, 3, 3, 1, 1, 1, 3, 1, 1, 2, 3, 3, 1, 2, 3, 1, 2, 2, 3, 2, 3, 2, 2], \"Freq\": [0.891105217266011, 1.008501033892881, 0.8920281825877177, 1.0175132432132672, 0.8114870644519239, 0.2704956881506413, 0.8920990268312271, 1.0728226958667144, 1.0088346986786525, 0.8703589611043044, 0.899363547792023, 1.0178462988430212, 0.8918306705270859, 1.003115918610041, 0.4769217294052936, 0.3179478196035291, 0.3179478196035291, 0.8994632008453617, 0.8994607964128659, 0.8876257916749473, 1.0486967464715928, 0.8874203682477685, 1.055059098136006, 0.5423601404061344, 0.5423601404061344, 0.8873239307054634, 0.8917605678354319, 1.009191197858123, 1.0025649139937454, 1.0651530304817276, 0.8873066742543283, 0.887326754126558, 1.0024359623373114, 1.0649407006263, 0.8919313078499544, 0.8873693379909785, 1.065176280965012, 1.0179960712023775, 0.8991699737630051, 0.8876103809314074, 0.8873986876082821, 0.8178240763658693, 1.0175583112557458, 0.8918875941872891, 1.00311888437364, 0.8874573102386974, 1.0027488381751022, 0.8916249151624553, 1.0029789142741545, 0.899202601880988, 0.539292612415838, 0.269646306207919, 0.269646306207919, 0.1855494666005802, 0.7421978664023208, 1.0093334322676928, 0.8874268591430523, 0.8996982971099915, 0.8919150205304893, 0.8873839180342394, 0.8992527699164442, 1.0795500077542988, 0.6546940062618647, 0.4364626708412431, 1.017576000832485, 1.0028954176348657, 1.0175726926168607, 1.0649070444615656, 0.7028237185170488, 0.3514118592585244, 1.0177634698502345, 1.0729691541608868, 0.8918572543672989, 0.8921390179090866, 0.8873598918459679, 0.8916329055860615, 0.8994563025353565, 0.8920296431732139, 1.0027540943346822, 1.0481988875007475, 0.8992872534535745, 0.8923070482274522, 0.8917455376706499, 1.0031188680216867, 0.8878426930797497, 1.0088758235203772, 0.35381320667778116, 0.7076264133555623, 0.8994019366457398, 0.891717332421283, 1.0543203529805012, 1.0648759709130864, 1.0085219459398245, 1.0482226478844383, 1.0179805659368086, 0.3531176596858281, 0.7062353193716562, 0.8918870715521247, 0.9673950375231521, 0.9150399458182044, 0.8921979549554597, 1.0727590919575773, 0.8873885330974107, 0.8922278779097252, 1.0083740856141579, 1.0730951715690475, 0.887303224718009, 1.0085051966150311, 0.8875338141155026, 0.8994466123368401, 0.8915304059307857, 0.8994381300735756, 0.8916110363108902, 1.0789556355401348, 0.8918011693426137, 0.8118644203109776, 0.27062147343699255, 0.8918055254485446, 0.8075831036593236, 0.2691943678864412, 0.8994299478450645, 0.7056603439071398, 0.3528301719535699, 0.891889875111557, 1.048398138698349, 1.0484818971509633, 0.8873549706849616, 0.8921897606801913, 0.8919331467407638, 1.008672990951035, 0.8993012154568435, 0.8915152317877634, 1.0728895855113398, 0.8994323411300631, 0.8993045701323734, 0.8920750453564646, 0.8994130209292891, 0.8922129575269792, 0.8992953597839879, 1.0648421666953938, 0.8176385653822716, 0.8916945734948755, 0.8994841903310052, 0.8917795822883706, 1.0029716179852932, 0.8918731088954208, 0.3530741959462805, 0.706148391892561, 0.8920508687767897, 0.8921211383828442, 0.9209602212202275, 0.8876368699049964, 0.7056458209766397, 0.3528229104883199, 0.8991939205180197, 0.27082975522143793, 0.27082975522143793, 0.5416595104428759, 1.0090638053275451, 0.8919161640603366, 0.8920368307943541, 0.6544061788049386, 0.4362707858699591, 0.8919881107369254, 1.048219848136962, 0.8922699955602643, 0.8919204014426019, 0.7050279753024217, 0.35251398765121084, 0.8917866788027001, 1.0727695440746883, 0.9543481903603654, 0.3507202553073412, 0.7014405106146824, 1.0180146796478575, 1.0184934450742518, 1.008228619889801, 0.8919509884287454, 1.0085382061011243, 0.8919112404618371, 0.22954472424505815, 0.4590894484901163, 0.27545366909406976, 1.0655052539695051, 1.0181866156944908, 0.8992223994334675, 0.899647536676788, 1.0181888829591224, 0.8921531912207651, 0.8919150810055473, 0.8873683411930978, 0.87060040864436, 1.0479191160616896, 0.8992674584667677, 0.8920280899117868, 1.072393592035502, 0.8915594348178131, 0.8873384569721482, 0.8921082963692789, 0.8873449591429797, 0.8406486387594435, 0.14010810645990726, 1.0540801101710173, 1.0178552787510624, 0.892011450501357, 1.0651612569319295, 1.0178797169364164, 0.8924057382863411, 0.8878295033875281, 1.0269957678754762, 0.8919464201148689, 1.0653119677020384, 0.8991735194123456, 1.0646620562902578, 0.8873824827067607, 0.891800745771636, 1.0539577223173935, 0.9214126358787533, 0.8704489933933642, 0.4795347049834583, 0.4795347049834583, 1.0557320397961512, 0.8699719123632267, 0.9475107595646091, 1.0177364956071755, 0.7916081156263333, 0.15832162312526665, 0.8918432802045004, 0.8873038750005096, 0.8917038178691252, 1.0084428699312258, 0.892066237240853, 0.8081528156936021, 0.26938427189786734, 1.0029668111028274, 0.8874833851175411, 1.0181360660501986, 0.8918509541187253, 0.8914092225063988, 1.0184267292792675, 0.41307629011982266, 0.5163453626497784, 0.8917811133967212, 0.8917691661120368, 0.8991835758434672, 0.8920150400487997, 1.0083284687815344, 0.8921456045128068, 0.9478094232784801, 0.8994285120981796, 1.064776654730526, 0.887305610645079, 0.887474173341564, 0.8877851504751443, 0.8993592734969924, 0.8876035236658562, 0.12517880114391433, 0.5007152045756573, 0.37553640343174294, 0.8993535629393329, 0.1402063044238239, 0.5608252176952956, 0.4206189132714717, 0.887364144351251, 0.8917662130939524, 1.008899241275053, 0.8994745467215414, 1.0087948483241242, 0.8993184696307877, 1.0089583191240519, 0.8916387935858999], \"Term\": [\"aalto\", \"accurate\", \"action\", \"aftertreatment\", \"also\", \"also\", \"amount\", \"analysis\", \"application\", \"area\", \"arena\", \"art\", \"arto\", \"baltic\", \"based\", \"based\", \"based\", \"biogas\", \"bore\", \"bottom\", \"brief\", \"build\", \"building\", \"business\", \"business\", \"capacity\", \"carried\", \"centennial\", \"challenge\", \"clean\", \"climate\", \"closer\", \"co\", \"combustion\", \"commercial\", \"commission\", \"common\", \"compliance\", \"compression\", \"concluding\", \"consequence\", \"consortium\", \"context\", \"coordinating\", \"coordination\", \"council\", \"creation\", \"defined\", \"defining\", \"demonstrate\", \"develop\", \"develop\", \"develop\", \"development\", \"development\", \"digital\", \"discussion\", \"dissemination\", \"doctoral\", \"driven\", \"earlier\", \"earth\", \"economy\", \"economy\", \"efficient\", \"egd\", \"electric\", \"emission\", \"energy\", \"energy\", \"engine\", \"environmental\", \"equipment\", \"erkko\", \"eu\", \"eur\", \"evolving\", \"exist\", \"experience\", \"expert\", \"facility\", \"faster\", \"federation\", \"fi\", \"finding\", \"finland\", \"finnish\", \"finnish\", \"first\", \"floor\", \"foundation\", \"framework\", \"funding\", \"gap\", \"global\", \"goal\", \"goal\", \"gps\", \"green\", \"greta\", \"group\", \"growth\", \"guidance\", \"headed\", \"heidi\", \"helix\", \"helping\", \"high\", \"http\", \"ignition\", \"improve\", \"improvement\", \"incubate\", \"indoor\", \"indoors\", \"industry\", \"industry\", \"information\", \"innovation\", \"innovation\", \"innovative\", \"international\", \"international\", \"internet\", \"intervention\", \"interview\", \"involvement\", \"jani\", \"kendall\", \"kuusniemi\", \"laboratory\", \"land\", \"lars\", \"lead\", \"legislation\", \"leo\", \"limit\", \"location\", \"major\", \"management\", \"marine\", \"marketing\", \"meeting\", \"mention\", \"method\", \"minute\", \"model\", \"model\", \"mohammed\", \"must\", \"navigation\", \"neutrality\", \"new\", \"new\", \"novel\", \"objective\", \"objective\", \"objective\", \"orbit\", \"organisation\", \"partly\", \"partner\", \"partner\", \"payload\", \"penta\", \"performing\", \"petri\", \"platform\", \"platform\", \"pnt\", \"policy\", \"positioning\", \"potential\", \"potential\", \"power\", \"powertrain\", \"precise\", \"press\", \"professor\", \"programme\", \"project\", \"project\", \"project\", \"propulsion\", \"providing\", \"putting\", \"range\", \"rcci\", \"realised\", \"reception\", \"regarding\", \"region\", \"regional\", \"regulation\", \"release\", \"relevant\", \"reliably\", \"report\", \"represented\", \"requires\", \"research\", \"research\", \"researcher\", \"responsible\", \"revenue\", \"road\", \"roadmap\", \"room\", \"round\", \"satellite\", \"seamlessly\", \"secure\", \"secures\", \"segment\", \"selecting\", \"service\", \"signal\", \"small\", \"smart\", \"solution\", \"solution\", \"space\", \"specialisation\", \"stakeholder\", \"state\", \"strategy\", \"strategy\", \"stronger\", \"studied\", \"study\", \"sufficiently\", \"survey\", \"sustainable\", \"sustainable\", \"system\", \"table\", \"take\", \"taking\", \"tampereen\", \"technological\", \"technology\", \"technology\", \"telling\", \"ten\", \"thermal\", \"three\", \"timing\", \"together\", \"transformation\", \"transition\", \"trl\", \"tutkimus\", \"two\", \"un\", \"underlining\", \"univaasa\", \"university\", \"university\", \"university\", \"upgrade\", \"vaasa\", \"vaasa\", \"vaasa\", \"value\", \"v\\u00e4lisuo\", \"well\", \"wide\", \"work\", \"world\", \"year\", \"yliopisto\"]}, \"R\": 30, \"lambda.step\": 0.01, \"plot.opts\": {\"xlab\": \"PC1\", \"ylab\": \"PC2\"}, \"topic.order\": [4, 5, 2, 6, 1, 9, 7, 10, 3, 8]};\n",
       "\n",
       "function LDAvis_load_lib(url, callback){\n",
       "  var s = document.createElement('script');\n",
       "  s.src = url;\n",
       "  s.async = true;\n",
       "  s.onreadystatechange = s.onload = callback;\n",
       "  s.onerror = function(){console.warn(\"failed to load library \" + url);};\n",
       "  document.getElementsByTagName(\"head\")[0].appendChild(s);\n",
       "}\n",
       "\n",
       "if(typeof(LDAvis) !== \"undefined\"){\n",
       "   // already loaded: just create the visualization\n",
       "   !function(LDAvis){\n",
       "       new LDAvis(\"#\" + \"ldavis_el6138681399683151796328092201622\", ldavis_el6138681399683151796328092201622_data);\n",
       "   }(LDAvis);\n",
       "}else if(typeof define === \"function\" && define.amd){\n",
       "   // require.js is available: use it to load d3/LDAvis\n",
       "   require.config({paths: {d3: \"https://d3js.org/d3.v5\"}});\n",
       "   require([\"d3\"], function(d3){\n",
       "      window.d3 = d3;\n",
       "      LDAvis_load_lib(\"https://cdn.jsdelivr.net/gh/bmabey/pyLDAvis@3.3.1/pyLDAvis/js/ldavis.v3.0.0.js\", function(){\n",
       "        new LDAvis(\"#\" + \"ldavis_el6138681399683151796328092201622\", ldavis_el6138681399683151796328092201622_data);\n",
       "      });\n",
       "    });\n",
       "}else{\n",
       "    // require.js not available: dynamically load d3 & LDAvis\n",
       "    LDAvis_load_lib(\"https://d3js.org/d3.v5.js\", function(){\n",
       "         LDAvis_load_lib(\"https://cdn.jsdelivr.net/gh/bmabey/pyLDAvis@3.3.1/pyLDAvis/js/ldavis.v3.0.0.js\", function(){\n",
       "                 new LDAvis(\"#\" + \"ldavis_el6138681399683151796328092201622\", ldavis_el6138681399683151796328092201622_data);\n",
       "            })\n",
       "         });\n",
       "}\n",
       "</script>"
      ],
      "text/plain": [
       "PreparedData(topic_coordinates=              x         y  topics  cluster       Freq\n",
       "topic                                                \n",
       "3     -0.250525  0.031873       1        1  34.833248\n",
       "4      0.158246  0.166745       2        1  33.895040\n",
       "1      0.095539 -0.192762       3        1  31.214005\n",
       "5     -0.000056 -0.000263       4        1   0.009004\n",
       "0      0.002989  0.002939       5        1   0.008730\n",
       "8     -0.005045 -0.000914       6        1   0.008708\n",
       "6      0.000276 -0.003818       7        1   0.008695\n",
       "9      0.000036 -0.000634       8        1   0.008643\n",
       "2     -0.000730 -0.001584       9        1   0.006964\n",
       "7     -0.000730 -0.001584      10        1   0.006964, topic_info=            Term      Freq      Total Category  logprob  loglift\n",
       "205        green  12.00000  12.000000  Default  30.0000  30.0000\n",
       "119    satellite   9.00000   9.000000  Default  29.0000  29.0000\n",
       "106      project  21.00000  21.000000  Default  28.0000  28.0000\n",
       "135   technology   9.00000   9.000000  Default  27.0000  27.0000\n",
       "99   positioning   6.00000   6.000000  Default  26.0000  26.0000\n",
       "..           ...       ...        ...      ...      ...      ...\n",
       "207       growth   0.00013   3.728703  Topic10  -5.9915  -0.6928\n",
       "215   innovation   0.00013   3.714788  Topic10  -5.9915  -0.6891\n",
       "223         lars   0.00013   3.728249  Topic10  -5.9915  -0.6927\n",
       "235       policy   0.00013   3.728667  Topic10  -5.9915  -0.6928\n",
       "239       region   0.00013   4.594530  Topic10  -5.9915  -0.9016\n",
       "\n",
       "[613 rows x 6 columns], token_table=      Topic      Freq            Term\n",
       "term                                 \n",
       "0         2  0.891105           aalto\n",
       "2         2  1.008501        accurate\n",
       "3         2  0.892028          action\n",
       "277       3  1.017513  aftertreatment\n",
       "5         2  0.811487            also\n",
       "...     ...       ...             ...\n",
       "397       3  0.899475            wide\n",
       "149       2  1.008795            work\n",
       "398       3  0.899318           world\n",
       "150       2  1.008958            year\n",
       "151       2  0.891639       yliopisto\n",
       "\n",
       "[271 rows x 3 columns], R=30, lambda_step=0.01, plot_opts={'xlab': 'PC1', 'ylab': 'PC2'}, topic_order=[4, 5, 2, 6, 1, 9, 7, 10, 3, 8])"
      ]
     },
     "execution_count": 34,
     "metadata": {},
     "output_type": "execute_result"
    }
   ],
   "source": [
    "vis"
   ]
  },
  {
   "cell_type": "markdown",
   "id": "88d4b355",
   "metadata": {},
   "source": [
    "# Real case"
   ]
  },
  {
   "cell_type": "code",
   "execution_count": 35,
   "id": "f50900fa",
   "metadata": {
    "ExecuteTime": {
     "end_time": "2021-11-25T08:10:58.077306Z",
     "start_time": "2021-11-25T08:10:55.799132Z"
    },
    "scrolled": true
   },
   "outputs": [
    {
     "name": "stdout",
     "output_type": "stream",
     "text": [
      "115\n",
      "0 ['transaction', 'geoscience', 'remote', 'sensing', 'february', 'sar', 'processing', 'without', 'motion', 'measurement']\n",
      "1 ['sensor', 'august', 'high', 'accuracy', 'indoor', 'localization', 'system', 'application', 'based', 'tightly']\n",
      "2 ['transaction', 'cybernetics', 'june', 'ultra', 'wideband', 'odometry', 'based', 'cooperative', 'relative', 'localization']\n",
      "3 ['microwave', 'wireless', 'component', 'letter', 'november', 'ir', 'uwb', 'angle', 'arrival', 'sensor']\n",
      "4 ['antenna', 'wireless', 'propagation', 'letter', 'march', 'position', 'information', 'indexed', 'classifier', 'improved']\n",
      "5 ['special', 'section', 'gnss', 'localization', 'navigation', 'technology', 'date', 'current', 'version', 'september']\n",
      "6 ['transaction', 'instrumentation', 'measurement', 'august', 'resetting', 'approach', 'in', 'uwb', 'sensor', 'fusion']\n",
      "7 ['transaction', 'mobile', 'computing', 'august', 'algorithm', 'position', 'optimization', 'decentralized', 'localization', 'platform']\n",
      "8 ['sensor', 'april', 'detection', 'localization', 'people', 'inside', 'vehicle', 'using', 'impulse', 'radio']\n",
      "9 ['solid', 'state', 'circuit', 'august', 'ir', 'uwb', 'cmos', 'transceiver', 'high', 'data']\n",
      "10 ['sensor', 'may', 'pdr', 'uwb', 'based', 'positioning', 'shopping', 'cart', 'stef', 'vandermeeren']\n",
      "11 ['sensor', 'june', 'high', 'precision', 'low', 'cost', 'imu', 'based', 'indoor', 'pedestrian']\n",
      "12 ['received', 'march', 'accepted', 'april', 'date', 'current', 'version', 'may', 'digital', 'object']\n",
      "13 ['september', 'sensor', 'signal', 'processing', 'bias', 'compensation', 'uwb', 'ranging', 'pedestrian', 'geolocation']\n",
      "14 ['transaction', 'instrumentation', 'measurement', 'integrated', 'positioning', 'system', 'unmanned', 'automatic', 'vehicle', 'coal']\n",
      "15 ['transaction', 'instrumentation', 'measurement', 'feature', 'selection', 'real', 'time', 'nlos', 'identification', 'mitigation']\n",
      "16 ['received', 'may', 'accepted', 'may', 'date', 'publication', 'may', 'date', 'current', 'version']\n",
      "17 ['transaction', 'instrumentation', 'measurement', 'december', 'anchor', 'calibration', 'real', 'time', 'measurement', 'localization']\n",
      "18 ['sensor', 'may', 'low', 'cost', 'in', 'uwb', 'fusion', 'pedestrian', 'tracking', 'system']\n",
      "19 ['radio', 'frequency', 'identification', 'december', 'ultra', 'low', 'power', 'ultra', 'wide', 'bandwidth']\n",
      "20 ['caa', 'automatica', 'sinica', 'july', 'indoor', 'in', 'uwb', 'based', 'human', 'localization']\n",
      "21 ['received', 'november', 'accepted', 'december', 'date', 'publication', 'december', 'date', 'current', 'version']\n",
      "22 ['received', 'september', 'accepted', 'october', 'date', 'publication', 'october', 'date', 'current', 'version']\n",
      "23 ['received', 'january', 'accepted', 'january', 'date', 'publication', 'february', 'date', 'current', 'version']\n",
      "24 ['sensor', 'february', 'multiple', 'vehicle', 'localization', 'using', 'maximum', 'likelihood', 'kalman', 'filtering']\n",
      "25 ['sensor', 'november', 'motion', 'based', 'separation', 'imaging', 'closely', 'spaced', 'extended', 'target']\n",
      "26 ['transaction', 'geoscience', 'remote', 'sensing', 'february', 'measurement', 'coordinate', 'cylindrical', 'target', 'using']\n",
      "27 ['communication', 'letter', 'november', 'uwb', 'channel', 'impulse', 'response', 'de', 'noising', 'method']\n",
      "28 ['received', 'april', 'accepted', 'may', 'date', 'publication', 'may', 'date', 'current', 'version']\n",
      "29 ['communication', 'letter', 'october', 'non', 'line', 'sight', 'identification', 'uwb', 'positioning', 'using']\n",
      "30 ['robotics', 'automation', 'letter', 'april', 'range', 'focused', 'fusion', 'camera', 'imu', 'uwb']\n",
      "31 ['transaction', 'microwave', 'theory', 'technique', 'august', 'compact', 'high', 'gain', 'high', 'power']\n",
      "32 ['june', 'sensor', 'signal', 'processing', 'deep', 'learning', 'noncoherent', 'uwb', 'receiver', 'design']\n",
      "33 ['special', 'section', 'reliability', 'sensor', 'cloud', 'system', 'application', 'scsa', 'received', 'february']\n",
      "34 ['sensor', 'june', 'uwb', 'based', 'localization', 'system', 'aided', 'inertial', 'sensor', 'underground']\n",
      "35 ['sensor', 'july', 'improved', 'pdr', 'uwb', 'integrated', 'system', 'indoor', 'navigation', 'application']\n",
      "36 ['antenna', 'wireless', 'propagation', 'letter', 'january', 'uwb', 'channel', 'compact', 'shape', 'configuration']\n",
      "37 ['communication', 'letter', 'march', 'los', 'nlos', 'identification', 'indoor', 'uwb', 'positioning', 'based']\n",
      "38 ['antenna', 'wireless', 'propagation', 'letter', 'april', 'miniaturized', 'ultrawideband', 'half', 'mode', 'vivaldi']\n",
      "39 ['transaction', 'instrumentation', 'measurement', 'cramer', 'rao', 'lower', 'bound', 'attainment', 'range', 'positioning']\n",
      "40 ['transaction', 'instrumentation', 'measurement', 'precise', 'indoor', 'positioning', 'based', 'acoustic', 'ranging', 'smartphone']\n",
      "41 ['transaction', 'control', 'system', 'technology', 'september', 'peer', 'peer', 'relative', 'localization', 'aerial']\n",
      "42 ['open', 'access', 'ultra', 'wideband', 'signal', 'generation', 'based', 'silicon', 'segmented', 'mach']\n",
      "43 ['received', 'june', 'accepted', 'june', 'date', 'publication', 'july', 'date', 'current', 'version']\n",
      "44 ['communication', 'letter', 'january', 'indoor', 'localization', 'reconfigurable', 'intelligent', 'surface', 'teng', 'yue']\n",
      "45 ['received', 'april', 'accepted', 'april', 'date', 'publication', 'april', 'date', 'current', 'version']\n",
      "46 ['biomedical', 'health', 'informatics', 'april', 'sleepposenet', 'multi', 'view', 'learning', 'sleep', 'postural']\n",
      "47 ['special', 'section', 'human', 'driven', 'edge', 'computing', 'hec', 'received', 'march', 'accepted']\n",
      "48 ['sensor', 'september', 'comparison', 'pedestrian', 'tracking', 'method', 'based', 'foot', 'waist', 'mounted']\n",
      "49 ['robotics', 'automation', 'letter', 'october', 'heading', 'estimation', 'using', 'ultra', 'wideband', 'received']\n",
      "50 ['transaction', 'antenna', 'propagation', 'november', 'planar', 'ultra', 'wideband', 'wide', 'scanning', 'dual']\n",
      "51 ['sensor', 'september', 'emergency', 'positioning', 'method', 'indoor', 'pedestrian', 'non', 'cooperative', 'navigation']\n",
      "52 ['transaction', 'vehicular', 'technology', 'october', 'indoor', 'outdoor', 'seamless', 'positioning', 'method', 'using']\n",
      "53 ['transaction', 'instrumentation', 'measurement', 'november', 'error', 'correction', 'ultrawideband', 'ranging', 'juri', 'sidorenko']\n",
      "54 ['received', 'april', 'accepted', 'may', 'date', 'publication', 'may', 'date', 'current', 'version']\n",
      "55 ['received', 'december', 'accepted', 'january', 'date', 'publication', 'january', 'date', 'current', 'version']\n",
      "56 ['transaction', 'instrumentation', 'measurement', 'uwb', 'localization', 'smart', 'factory', 'augmentation', 'method', 'experimental']\n",
      "57 ['transaction', 'microwave', 'theory', 'technique', 'november', 'adaptive', 'vector', 'method', 'motion', 'compensation']\n",
      "58 ['radio', 'frequency', 'identification', 'december', 'practical', 'performance', 'comparison', 'decoding', 'method', 'chipless']\n",
      "59 ['received', 'october', 'accepted', 'october', 'date', 'publication', 'october', 'date', 'current', 'version']\n",
      "60 ['transaction', 'microwave', 'theory', 'technique', 'november', 'generalization', 'channel', 'micro', 'doppler', 'capacity']\n",
      "61 ['sensor', 'september', 'uwb', 'simultaneous', 'breathing', 'heart', 'rate', 'detection', 'driving', 'scenario']\n",
      "62 ['transaction', 'instrumentation', 'measurement', 'low', 'cost', 'indoor', 'real', 'time', 'locating', 'system']\n",
      "63 ['received', 'july', 'accepted', 'july', 'date', 'publication', 'july', 'date', 'current', 'version']\n",
      "64 ['special', 'section', 'artificial', 'intelligence', 'cybersecurity', 'received', 'july', 'accepted', 'august', 'date']\n",
      "65 ['sensor', 'december', 'impact', 'body', 'wearable', 'sensor', 'position', 'uwb', 'ranging', 'timothy']\n",
      "66 ['transaction', 'industrial', 'informatics', 'december', 'scalability', 'real', 'time', 'capability', 'energy', 'efficiency']\n",
      "67 ['robotics', 'automation', 'letter', 'july', 'relative', 'position', 'estimation', 'two', 'uwb', 'device']\n",
      "68 ['antenna', 'wireless', 'propagation', 'letter', 'december', 'miniaturized', 'uhf', 'uwb', 'tag', 'antenna']\n",
      "69 ['transaction', 'microwave', 'theory', 'technique', 'august', 'synthesis', 'theory', 'ultra', 'wideband', 'bandpass']\n",
      "70 ['transaction', 'vehicular', 'technology', 'april', 'new', 'quaternion', 'kalman', 'filter', 'based', 'foot']\n",
      "71 ['received', 'december', 'accepted', 'december', 'date', 'publication', 'december', 'date', 'current', 'version']\n",
      "72 ['received', 'april', 'accepted', 'may', 'date', 'publication', 'may', 'date', 'current', 'version']\n",
      "73 ['received', 'september', 'accepted', 'september', 'date', 'publication', 'september', 'date', 'current', 'version']\n",
      "74 ['transaction', 'vehicular', 'technology', 'october', 'integrated', 'gnss', 'uwb', 'dr', 'vmm', 'positioning']\n",
      "75 ['special', 'section', 'intelligent', 'data', 'sensing', 'collection', 'dissemination', 'mobile', 'computing', 'received']\n",
      "76 ['received', 'april', 'accepted', 'april', 'date', 'publication', 'may', 'date', 'current', 'version']\n",
      "77 ['received', 'june', 'accepted', 'july', 'date', 'publication', 'july', 'date', 'current', 'version']\n",
      "78 ['communication', 'letter', 'july', 'opportunistic', 'fusion', 'range', 'different', 'source', 'indoor', 'positioning']\n",
      "79 ['communication', 'survey', 'tutorial', 'third', 'quarter', 'survey', 'indoor', 'localization', 'system', 'technology']\n",
      "80 ['sensor', 'may', 'novel', 'nlos', 'error', 'compensation', 'method', 'based', 'imu', 'uwb']\n",
      "81 ['transaction', 'instrumentation', 'measurement', 'september', 'adapted', 'error', 'map', 'based', 'mobile', 'robot']\n",
      "82 ['received', 'april', 'accepted', 'may', 'date', 'publication', 'may', 'date', 'current', 'version']\n",
      "83 ['received', 'september', 'accepted', 'october', 'date', 'publication', 'october', 'date', 'current', 'version']\n",
      "84 ['transaction', 'vehicular', 'technology', 'april', 'multiple', 'target', 'localization', 'behind', 'shaped', 'corner']\n",
      "85 ['internet', 'thing', 'september', 'distributed', 'tdma', 'mobile', 'uwb', 'network', 'localization', 'yanjun']\n",
      "86 ['antenna', 'wireless', 'propagation', 'letter', 'may', 'generic', 'spiral', 'mimo', 'array', 'design']\n",
      "87 ['transaction', 'instrumentation', 'measurement', 'improving', 'positioning', 'accuracy', 'uwb', 'complicated', 'underground', 'nlos']\n",
      "88 ['received', 'april', 'accepted', 'may', 'date', 'publication', 'may', 'date', 'current', 'version']\n",
      "89 ['solid', 'state', 'circuit', 'december', 'ir', 'uwb', 'compatible', 'coherent', 'asynchronous', 'polar']\n",
      "90 ['transaction', 'antenna', 'propagation', 'april', 'assessment', 'limb', 'movement', 'activity', 'using', 'wearable']\n",
      "91 ['received', 'march', 'accepted', 'march', 'date', 'publication', 'april', 'date', 'current', 'version']\n",
      "92 ['received', 'november', 'accepted', 'december', 'date', 'publication', 'december', 'date', 'current', 'version']\n",
      "93 ['transaction', 'instrumentation', 'measurement', 'denoising', 'outlier', 'dropout', 'correction', 'sensor', 'selection', 'range']\n",
      "94 ['transaction', 'instrumentation', 'measurement', 'october', 'human', 'body', 'shadowing', 'effect', 'uwb', 'based']\n",
      "95 ['transaction', 'antenna', 'propagation', 'march', 'experimental', 'analysis', 'ultra', 'wideband', 'body', 'body']\n",
      "96 ['received', 'january', 'accepted', 'february', 'date', 'publication', 'march', 'date', 'current', 'version']\n",
      "97 ['received', 'february', 'accepted', 'march', 'date', 'publication', 'march', 'date', 'current', 'version']\n",
      "98 ['transaction', 'antenna', 'propagation', 'july', 'communication', 'improved', 'beam', 'scannable', 'ultra', 'wideband']\n",
      "99 ['transaction', 'vehicular', 'technology', 'january', 'novel', 'nlos', 'mitigation', 'algorithm', 'uwb', 'localization']\n",
      "100 ['transaction', 'applied', 'november', 'application', 'improved', 'kalman', 'filter', 'ground', 'positioning', 'system']\n",
      "101 ['tsinghua', 'science', 'technology', 'issnll', 'pp', 'doi', 'volume', 'number', 'december', 'anchor']\n",
      "102 ['antenna', 'wireless', 'propagation', 'letter', 'june', 'fdtd', 'empirical', 'exploration', 'human', 'body']\n",
      "103 ['sensor', 'april', 'in', 'uwb', 'fusion', 'approach', 'adaptive', 'ranging', 'error', 'mitigation']\n",
      "104 ['sensor', 'december', 'uwb', 'in', 'integrated', 'pedestrian', 'positioning', 'robust', 'indoor', 'environment']\n",
      "105 ['communication', 'letter', 'october', 'uwb', 'nlos', 'los', 'classification', 'using', 'deep', 'learning']\n",
      "106 ['solid', 'state', 'circuit', 'february', 'ghz', 'communication', 'ranging', 'vwb', 'transceiver', 'secure']\n",
      "107 ['internet', 'thing', 'december', 'joint', 'rfid', 'uwb', 'technology', 'intelligent', 'warehousing', 'management']\n",
      "108 ['internet', 'thing', 'april', 'kalman', 'filter', 'based', 'integration', 'imu', 'uwb', 'high']\n",
      "109 ['system', 'march', 'wub', 'ip', 'high', 'precision', 'uwb', 'positioning', 'scheme', 'indoor']\n",
      "110 ['communication', 'letter', 'june', 'cooperative', 'positioning', 'application', 'using', 'gnss', 'carrier', 'phase']\n",
      "111 ['received', 'march', 'accepted', 'march', 'date', 'publication', 'march', 'date', 'current', 'version']\n",
      "112 ['transaction', 'vehicular', 'technology', 'september', 'uwb', 'system', 'indoor', 'positioning', 'tracking', 'arbitrary']\n",
      "113 ['transaction', 'microwave', 'theory', 'technique', 'june', 'mm', 'ghz', 'noise', 'canceling', 'low']\n",
      "114 ['introduction', 'blas', 'broadcast', 'relative', 'localization', 'clock', 'synchronization', 'dynamic', 'dense', 'multiagent']\n"
     ]
    }
   ],
   "source": [
    "import glob\n",
    "\n",
    "# A real case, 115 recent research journal articles about \"UWB positioning\" from IEEE Explorer\n",
    "# Bulk downloaded PDF's and converted to text with pdftotext\n",
    "filenames=[fn.split('/')[-1] for fn in glob.glob('corpus_txt/*.txt')]\n",
    "uwb=PlaintextCorpusReader('corpus_txt/', filenames)\n",
    "punctuations=set([',','.','!','?','@', '%', ':', ';'])\n",
    "morewords=set(['ieee', 'transaction', 'journal', 'vol'])\n",
    "unnecessary=stop_words.union(punctuations).union(morewords)\n",
    "\n",
    "docs=[]\n",
    "for document in uwb.fileids():\n",
    "    tokens = gensim.utils.simple_preprocess(uwb.raw(document))\n",
    "    meaningful_words = [word for word in tokens if word not in unnecessary]\n",
    "    lemmatized = [lemmatizer.lemmatize(word) for word in meaningful_words]\n",
    "    docs.append(lemmatized)\n",
    "print(len(docs))\n",
    "for i in range(len(docs)):\n",
    "    print(i, docs[i][:10])"
   ]
  },
  {
   "cell_type": "code",
   "execution_count": 36,
   "id": "659ef769",
   "metadata": {
    "ExecuteTime": {
     "end_time": "2021-11-25T08:11:04.706722Z",
     "start_time": "2021-11-25T08:10:58.080568Z"
    }
   },
   "outputs": [],
   "source": [
    "text = nltk.Text(word_tokenize(uwb.raw()))"
   ]
  },
  {
   "cell_type": "code",
   "execution_count": 37,
   "id": "3b6ac767",
   "metadata": {
    "ExecuteTime": {
     "end_time": "2021-11-25T08:11:04.953680Z",
     "start_time": "2021-11-25T08:11:04.708041Z"
    }
   },
   "outputs": [],
   "source": [
    "dictionary = corpora.Dictionary(docs)"
   ]
  },
  {
   "cell_type": "code",
   "execution_count": 38,
   "id": "540a8fd9",
   "metadata": {
    "ExecuteTime": {
     "end_time": "2021-11-25T08:11:05.520443Z",
     "start_time": "2021-11-25T08:11:04.955158Z"
    },
    "scrolled": true
   },
   "outputs": [
    {
     "name": "stdout",
     "output_type": "stream",
     "text": [
      "Displaying 25 of 51 matches:\n",
      "ultiscale local mapdrift-driven multilateration SAR autofocus using fast polar \n",
      "n can also be calculated by the multilateration method , if more than three ref\n",
      "asure of the solvability of the multilateration problem and provides a recursiv\n",
      "Þ , which is computed using the multilateration algorithm based on the SVD defi\n",
      "on ) is calculated by using the multilateration algorithm ( see Section 3 ) . T\n",
      "gorithm ( see Section 3 ) . The multilateration is based on the SVD method [ 23\n",
      "h true position by means of the multilateration algorithm as well as optimized \n",
      "y using the LVM algorithm . The multilateration algorithm uses the distances me\n",
      ". RS , Reference Station . ML , Multilateration . LVM , Levenberg–Marquardt . C\n",
      "of the points calculated by the multilateration and the DR-LVM algorithm are il\n",
      ". RS , Reference Station . ML , Multilateration . LVM , Levenberg–Marquardt . C\n",
      "he ML and LVM algorithms . ML , Multilateration . LVM , Levenberg–Marquardt . F\n",
      "mpute the position by using the multilateration method based on SVD , whereby t\n",
      "he estimated position using the multilateration algorithm for all k combination\n",
      "in a real-world scenario . ML , Multilateration , LVM , Levenberg–Marquardt . C\n",
      " “ An algebraic solution to the multilateration problem , ” in Proc . Int . Con\n",
      "sing the accuracy of hyperbolic multilateration systems , ’ ’ IEEE Trans . Aero\n",
      "ements of several receivers via multilateration , the beacon ’ s position can b\n",
      "he positioning is derived using multilateration techniques based on least squar\n",
      "to the explicit solution of the multilateration . This approach can be applied \n",
      "the ranging measurements ( said multilateration [ 22 ] ) : Ap = b + ε = b where\n",
      "+ 2ρm ηm − η12 + 2ρ1 η1 are the multilateration uncertainties , defined as a fu\n",
      "uced by the geometry on the WLS multilateration solution and on the GDoP , and \n",
      "rtainty of the WLS solution for multilateration in ( 11 ) is entirely described\n",
      "is in ( 6 ) . In practice , the multilateration is computed in the modified dis\n"
     ]
    }
   ],
   "source": [
    "text.concordance('multilateration')"
   ]
  },
  {
   "cell_type": "code",
   "execution_count": 39,
   "id": "d51de40e",
   "metadata": {
    "ExecuteTime": {
     "end_time": "2021-11-25T08:11:06.561564Z",
     "start_time": "2021-11-25T08:11:05.524585Z"
    }
   },
   "outputs": [
    {
     "data": {
      "image/png": "[encoded data removed]",
      "text/plain": [
       "<Figure size 432x288 with 1 Axes>"
      ]
     },
     "metadata": {},
     "output_type": "display_data"
    }
   ],
   "source": [
    "text.dispersion_plot(['UWB', 'multilateration', 'positioning', 'communication', 'coal', 'ToA', 'TOA', 'TDOA', 'TWR'])"
   ]
  },
  {
   "cell_type": "code",
   "execution_count": 40,
   "id": "d7332872",
   "metadata": {
    "ExecuteTime": {
     "end_time": "2021-11-25T08:11:06.716004Z",
     "start_time": "2021-11-25T08:11:06.562979Z"
    },
    "scrolled": true
   },
   "outputs": [
    {
     "name": "stdout",
     "output_type": "stream",
     "text": [
      "Number of unique tokens: 20396\n",
      "Number of documents: 115\n"
     ]
    }
   ],
   "source": [
    "corpus = [dictionary.doc2bow(doc) for doc in docs]\n",
    "print('Number of unique tokens: %d' % len(dictionary))\n",
    "print('Number of documents: %d' % len(corpus))"
   ]
  },
  {
   "cell_type": "code",
   "execution_count": 41,
   "id": "4f76c382",
   "metadata": {
    "ExecuteTime": {
     "end_time": "2021-11-25T08:11:06.724629Z",
     "start_time": "2021-11-25T08:11:06.717245Z"
    }
   },
   "outputs": [],
   "source": [
    "temp = dictionary[0] "
   ]
  },
  {
   "cell_type": "code",
   "execution_count": 42,
   "id": "3f8e1971",
   "metadata": {
    "ExecuteTime": {
     "end_time": "2021-11-25T08:11:28.503377Z",
     "start_time": "2021-11-25T08:11:06.725756Z"
    }
   },
   "outputs": [],
   "source": [
    "# Latent Dirichlet Allocation\n",
    "id2word = dictionary.id2token\n",
    "lda_model = gensim.models.ldamodel.LdaModel(corpus=corpus,\n",
    "                                           id2word=id2word,\n",
    "                                           num_topics=10, \n",
    "                                           random_state=100,\n",
    "                                           update_every=1,\n",
    "                                           chunksize=2000,\n",
    "                                           passes=10,\n",
    "                                           alpha='auto',\n",
    "                                           eta = 'auto',\n",
    "                                           iterations=100,\n",
    "                                           eval_every=1)"
   ]
  },
  {
   "cell_type": "code",
   "execution_count": 43,
   "id": "4486f858",
   "metadata": {
    "ExecuteTime": {
     "end_time": "2021-11-25T08:11:30.043522Z",
     "start_time": "2021-11-25T08:11:28.522643Z"
    }
   },
   "outputs": [
    {
     "name": "stderr",
     "output_type": "stream",
     "text": [
      "/home/petri/venv/python3/lib/python3.9/site-packages/pyLDAvis/_prepare.py:246: FutureWarning: In a future version of pandas all arguments of DataFrame.drop except for the argument 'labels' will be keyword-only\n",
      "  default_term_info = default_term_info.sort_values(\n"
     ]
    }
   ],
   "source": [
    "pyLDAvis.enable_notebook()\n",
    "vis = pyLDAvis.gensim_models.prepare(lda_model, corpus, dictionary);"
   ]
  },
  {
   "cell_type": "code",
   "execution_count": 44,
   "id": "1ca72057",
   "metadata": {
    "ExecuteTime": {
     "end_time": "2021-11-25T08:11:30.119280Z",
     "start_time": "2021-11-25T08:11:30.047862Z"
    }
   },
   "outputs": [
    {
     "data": {
      "text/html": [
       "\n",
       "<link rel=\"stylesheet\" type=\"text/css\" href=\"https://cdn.jsdelivr.net/gh/bmabey/pyLDAvis@3.3.1/pyLDAvis/js/ldavis.v1.0.0.css\">\n",
       "\n",
       "\n",
       "<div id=\"ldavis_el6138681399683158148481612976072\"></div>\n",
       "<script type=\"text/javascript\">\n",
       "\n",
       "var ldavis_el6138681399683158148481612976072_data = {\"mdsDat\": {\"x\": [-0.07900811869689367, -0.0497231337742152, -0.06361926255389493, 0.06229347435163052, -0.07708972105712633, -0.032926325331495324, 0.04656799826346567, -0.001114527965131109, 0.19587982055380704, -0.0012602037901465065], \"y\": [-0.031535151311229886, 0.006918077890010336, -0.023932280033855537, 0.04806066567466602, -0.06068037173769046, -0.019114022217621724, 0.0639831478894936, -0.02819389273593398, -0.07571303962433083, 0.12020686620649268], \"topics\": [1, 2, 3, 4, 5, 6, 7, 8, 9, 10], \"cluster\": [1, 1, 1, 1, 1, 1, 1, 1, 1, 1], \"Freq\": [25.480503787929386, 12.982871648010136, 11.893929861896634, 11.342758020636817, 9.703660196253288, 7.79629420689401, 6.835234916090621, 5.9916219975972895, 4.28345569266674, 3.689669672025072]}, \"tinfo\": {\"Term\": [\"antenna\", \"array\", \"tag\", \"signal\", \"radar\", \"uwb\", \"positioning\", \"body\", \"b\", \"agent\", \"target\", \"fig\", \"robot\", \"error\", \"pulse\", \"nlos\", \"localization\", \"configuration\", \"element\", \"pp\", \"time\", \"in\", \"design\", \"node\", \"rfid\", \"tdoa\", \"model\", \"system\", \"data\", \"indoor\", \"gmm\", \"imm\", \"ape\", \"shearer\", \"capsnet\", \"auckland\", \"sdp\", \"gym\", \"noising\", \"skf\", \"ipn\", \"tsml\", \"pdr\", \"capsule\", \"vbakf\", \"test_\", \"waist\", \"stp\", \"shopping\", \"zealand\", \"dscls\", \"qinglin\", \"f\\u02c6\", \"edm\", \"auam\", \"pattern_\", \"fce\", \"ian\", \"hainan\", \"pdi\", \"quaternion\", \"wca\", \"foot\", \"um\", \"tightly\", \"bn\", \"cu\", \"dropout\", \"elderly\", \"acceleration\", \"in\", \"pedestrian\", \"mining\", \"walking\", \"ekf\", \"inertial\", \"outlier\", \"imu\", \"step\", \"nlos\", \"navigation\", \"anchor\", \"fusion\", \"positioning\", \"error\", \"uwb\", \"update\", \"method\", \"trajectory\", \"integrated\", \"sin\", \"measurement\", \"state\", \"system\", \"position\", \"algorithm\", \"model\", \"based\", \"sensor\", \"indoor\", \"filter\", \"distance\", \"accuracy\", \"proposed\", \"fig\", \"pp\", \"time\", \"using\", \"localization\", \"result\", \"used\", \"ranging\", \"gru\", \"lvm\", \"deeptal\", \"\\u00f0i\\u00fe\", \"dmc\", \"peb\", \"\\u03c1t\", \"smcs\", \"rxp\", \"mwt\", \"rfc\", \"gnm\", \"efim\", \"jft\", \"jf\", \"\\u03c3\\u03c1\", \"zp\", \"piic\", \"smc\", \"gbm\", \"vio\", \"x\\u00fe\", \"homoscedastic\", \"marquardt\", \"nls\", \"heteroscedastic\", \"yp\", \"\\u00f0x\", \"gcc\", \"beampattern\", \"rxs\", \"crlb\", \"tdoas\", \"\\u03c6k\", \"wavelet\", \"wls\", \"cnn\", \"\\u03b1k\", \"tdoa\", \"lstm\", \"recurrent\", \"deep\", \"ut\", \"lte\", \"coherent\", \"learning\", \"layer\", \"training\", \"feature\", \"acoustic\", \"anchor\", \"localization\", \"signal\", \"nlos\", \"model\", \"position\", \"cm\", \"time\", \"based\", \"fig\", \"algorithm\", \"measurement\", \"method\", \"positioning\", \"uwb\", \"system\", \"data\", \"pp\", \"error\", \"performance\", \"indoor\", \"los\", \"ranging\", \"using\", \"information\", \"different\", \"accuracy\", \"result\", \"environment\", \"two\", \"agv\", \"mbl\", \"nfi\", \"aembpf\", \"laneway\", \"flock\", \"turtlebot\", \"dbl\", \"shds\", \"lora\", \"mwsn\", \"shell\", \"multihop\", \"cadenas\", \"mnmapf\", \"asti\", \"downstairs\", \"ssi\", \"sigfox\", \"weightless\", \"erlangen\", \"litell\", \"fleet\", \"msagec\", \"cmrs\", \"stair\", \"\\u03b8f\", \"x_seed\", \"sibling\", \"fau\", \"safety\", \"agvs\", \"tunnel\", \"hop\", \"lf\", \"zamora\", \"iot\", \"spherical\", \"slot\", \"lr\", \"user\", \"scheduling\", \"pdoa\", \"eskf\", \"robot\", \"device\", \"tdma\", \"rssi\", \"localization\", \"node\", \"rtls\", \"wifi\", \"system\", \"cable\", \"network\", \"map\", \"indoor\", \"mobile\", \"service\", \"based\", \"positioning\", \"accuracy\", \"error\", \"used\", \"pp\", \"sensor\", \"different\", \"location\", \"uwb\", \"measurement\", \"point\", \"technology\", \"proc\", \"environment\", \"wireless\", \"using\", \"signal\", \"proposed\", \"fig\", \"time\", \"use\", \"position\", \"rsnrtf\", \"\\u03c3\\u03c4\", \"ghost\", \"\\u03bcds\", \"vwb\", \"\\u03bcd\", \"mppm\", \"winp\", \"equilibrium\", \"bending\", \"eigenspectrum\", \"winn\", \"meshed\", \"snrt\", \"piccinni\", \"character\", \"ullah\", \"ilro\", \"ucandi\", \"dco\", \"isar\", \"injection\", \"osr\", \"mle\", \"sfcw\", \"midair\", \"rdr\", \"locking\", \"tint\", \"rfa\", \"limb\", \"pl\", \"writing\", \"shaper\", \"dac\", \"artifact\", \"link\", \"demodulation\", \"activity\", \"pq\", \"torso\", \"comparator\", \"reflector\", \"sr\", \"doppler\", \"sl\", \"mimo\", \"imaging\", \"channel\", \"tm\", \"pulse\", \"ppm\", \"entropy\", \"target\", \"radar\", \"transceiver\", \"antenna\", \"circuit\", \"human\", \"subject\", \"classification\", \"solid\", \"n\", \"scenario\", \"image\", \"fig\", \"data\", \"frequency\", \"rx\", \"signal\", \"pp\", \"ghz\", \"db\", \"distance\", \"body\", \"communication\", \"range\", \"value\", \"proposed\", \"based\", \"uwb\", \"power\", \"time\", \"result\", \"using\", \"parameter\", \"position\", \"method\", \"system\", \"two\", \"ttxj\", \"mcl\", \"spbp\", \"jammer\", \"kest\", \"uavi\", \"zrel\", \"interagent\", \"uavj\", \"idx\", \"rpl\", \"ma\", \"ttx\", \"jlas\", \"kar\\u00e1sek\", \"zself\", \"pseudoclock\", \"ttxi\", \"spatiotemporal\", \"parent\", \"\\u03bbi\", \"eest\", \"\\u03baijd\", \"g\\u00fcler\", \"\\u03bairi\", \"rcm\", \"xtx\", \"bv\", \"rkfs\", \"actuated\", \"ij\", \"xv\", \"agent\", \"belief\", \"vt\", \"uavs\", \"xa\", \"mpc\", \"uncalibrated\", \"child\", \"quadrotor\", \"iekf\", \"onboard\", \"packet\", \"rl\", \"uav\", \"relative\", \"association\", \"robot\", \"clock\", \"xk\", \"slam\", \"virtual\", \"formation\", \"nt\", \"delay\", \"control\", \"measurement\", \"estimation\", \"algorithm\", \"node\", \"state\", \"data\", \"uwb\", \"localization\", \"estimate\", \"system\", \"position\", \"time\", \"using\", \"based\", \"pp\", \"two\", \"positioning\", \"proposed\", \"fig\", \"range\", \"antenna\", \"model\", \"error\", \"cuav\", \"chipless\", \"pufir\", \"pkf\", \"rrw\", \"decoding\", \"odometer\", \"forklift\", \"ctra\", \"unloading\", \"stpa\", \"realsense\", \"numns\", \"rectenna\", \"prony\", \"perret\", \"vmm\", \"casta\\u00f1o\", \"tspm\", \"srf\", \"tstart\", \"corrective\", \"alencar\", \"vigo\", \"pmu\", \"kq\", \"tref\", \"\\u03b4k\", \"tavares\", \"shower\", \"interrogation\", \"stopping\", \"yo\", \"rfid\", \"ufir\", \"reading\", \"warehouse\", \"loading\", \"gating\", \"tstop\", \"stft\", \"throughput\", \"success\", \"fpga\", \"mt\", \"tag\", \"drone\", \"background\", \"roadway\", \"visual\", \"reader\", \"pozyx\", \"good\", \"sequence\", \"vehicle\", \"positioning\", \"system\", \"uwb\", \"time\", \"window\", \"fig\", \"data\", \"based\", \"pp\", \"sensor\", \"error\", \"in\", \"signal\", \"tdoa\", \"filter\", \"proc\", \"reference\", \"technology\", \"result\", \"localization\", \"algorithm\", \"position\", \"accuracy\", \"method\", \"use\", \"measurement\", \"using\", \"indoor\", \"used\", \"ipda\", \"fga\", \"obtr\", \"stirrer\", \"mfa\", \"mslm\", \"compressor\", \"dln\", \"eemd\", \"cfar\", \"mui\", \"seat\", \"p_\", \"fvpief\", \"heartbeat\", \"z\\u03c4k\", \"landmine\", \"torgrimsson\", \"nva\", \"pochanin\", \"defocused\", \"subaperture\", \"geoscience\", \"drikas\", \"toggle\", \"ulander\", \"awg\", \"vidsel\", \"imf\", \"cnd\", \"autofocus\", \"compression\", \"cavity\", \"breathing\", \"physiological\", \"reversal\", \"breath\", \"tsa\", \"nbi\", \"vital\", \"clutter\", \"heart\", \"lm\", \"radar\", \"mtt\", \"sign\", \"impulse\", \"geometry\", \"target\", \"image\", \"gain\", \"signal\", \"feature\", \"detection\", \"fig\", \"ir\", \"object\", \"reflected\", \"pulse\", \"rx\", \"time\", \"uwb\", \"track\", \"result\", \"using\", \"system\", \"pp\", \"method\", \"algorithm\", \"measurement\", \"position\", \"antenna\", \"based\", \"two\", \"sensor\", \"coordinate\", \"data\", \"range\", \"step\", \"used\", \"rha\", \"usv\", \"qlos\", \"gm\", \"ship\", \"rudder\", \"ancs\", \"deusto\", \"fore\", \"underactuated\", \"cin\", \"rhas\", \"chromosome\", \"upna\", \"container\", \"vinput\", \"iip\", \"luis\", \"canceling\", \"deustotech\", \"capacitance\", \"boost\", \"cg\", \"otim\", \"crossover\", \"yv\", \"nomoto\", \"peio\", \"alfonso\", \"pid\", \"anc\", \"inductor\", \"feedforward\", \"lna\", \"bilbao\", \"chest\", \"nf\", \"iturri\", \"bahillo\", \"fm\", \"nc\", \"falcone\", \"mae\", \"body\", \"lopez\", \"shadowing\", \"rin\", \"wearable\", \"taiwan\", \"tag\", \"human\", \"polarized\", \"heading\", \"ranging\", \"model\", \"tof\", \"error\", \"fig\", \"location\", \"control\", \"noise\", \"communication\", \"uwb\", \"nlos\", \"pp\", \"using\", \"position\", \"system\", \"indoor\", \"current\", \"sensor\", \"measurement\", \"time\", \"antenna\", \"positioning\", \"proposed\", \"university\", \"work\", \"stub\", \"rps\", \"sll\", \"wpd\", \"circuited\", \"scannable\", \"\\u03b8c\", \"dmin\", \"isolation\", \"transformer\", \"chebyshev\", \"\\u03b2d\", \"\\u03b8z\", \"\\u03b8max\", \"\\u03b4max\", \"tcda\", \"vias\", \"semkin\", \"\\u03bbl\", \"od\", \"shorted\", \"volakis\", \"marchand\", \"ype\", \"ransformer\", \"divider\", \"broadside\", \"sunflower\", \"af\", \"slls\", \"phased\", \"dipole\", \"feeding\", \"scanning\", \"array\", \"synthesis\", \"balun\", \"spiral\", \"beam\", \"element\", \"impedance\", \"bandpass\", \"aperture\", \"polarization\", \"spacing\", \"antenna\", \"planar\", \"propag\", \"design\", \"band\", \"polarized\", \"dual\", \"port\", \"plane\", \"ground\", \"pattern\", \"ghz\", \"db\", \"frequency\", \"wideband\", \"fig\", \"uwb\", \"pp\", \"simulated\", \"shown\", \"proposed\", \"trans\", \"type\", \"uav\", \"different\", \"wireless\", \"position\", \"measured\", \"wandering\", \"smzm\", \"spn\", \"monocycle\", \"dementia\", \"zehnder\", \"v\\u03c0\", \"photonic\", \"wrtft\", \"pacing\", \"lapping\", \"barua\", \"supine\", \"supr\", \"sir\", \"sleepposenet\", \"sleep\", \"postural\", \"modulator\", \"modulators\", \"ymn\", \"disorder\", \"spts\", \"spt\", \"sisu\", \"mzi\", \"doped\", \"misclassified\", \"mvl\", \"prsu\", \"unseen\", \"fiber\", \"silicon\", \"b\", \"disease\", \"participant\", \"dop\", \"pdop\", \"patient\", \"nn\", \"guilin\", \"optical\", \"configuration\", \"photonics\", \"generation\", \"session\", \"bs\", \"m\", \"optimized\", \"behavior\", \"signal\", \"pattern\", \"uwb\", \"pulse\", \"time\", \"segment\", \"data\", \"positioning\", \"accuracy\", \"used\", \"pp\", \"using\", \"error\", \"based\", \"indoor\", \"system\", \"difference\", \"fig\", \"two\", \"experiment\", \"classification\", \"result\", \"al\", \"distance\", \"et\", \"model\"], \"Freq\": [2002.0, 659.0, 1154.0, 2580.0, 791.0, 5621.0, 3806.0, 722.0, 300.0, 459.0, 1146.0, 3515.0, 759.0, 3369.0, 718.0, 1946.0, 2700.0, 460.0, 339.0, 3223.0, 2825.0, 777.0, 555.0, 1381.0, 372.0, 569.0, 1865.0, 4562.0, 2105.0, 2209.0, 102.08727204260846, 95.77832237234797, 128.11429468583566, 98.31304839581112, 30.9731947949042, 51.94034955413079, 31.94031201538094, 31.895108549627945, 25.884858526169666, 26.8815129037332, 26.799540190216266, 24.80883862117243, 380.6383451411894, 69.02739489640273, 20.677200491984525, 22.64158668244472, 43.31313794913547, 18.616951412781148, 70.44119711460336, 22.487095928738643, 18.57141939133197, 18.528258768937, 18.530220439711268, 16.542821821754345, 14.488977645945958, 14.473062987827054, 20.25564807233803, 48.14058746633725, 13.431111409503082, 13.426392769901733, 94.34538661654614, 54.89850656275038, 137.57622716182962, 47.00791682859592, 165.41582586975568, 99.19793005821398, 85.95180903442554, 86.93403595156553, 77.6599291036762, 307.12888620613404, 592.4082156198045, 567.0504570643396, 102.82642959035162, 193.4343134908502, 287.7823826680217, 342.1626641292253, 154.315436386595, 494.0805716203606, 706.8435616037845, 1121.9666487729387, 566.2919804416609, 878.3034362147328, 451.874909885111, 1744.2518176458905, 1561.378799451905, 2296.1321237988755, 243.05834538689535, 1154.297024043508, 336.58377294660426, 351.2384392974544, 239.65331784321756, 1226.8097145728464, 571.6956934577998, 1497.9315867687412, 1087.0648497403233, 966.2736749862794, 731.6791562547096, 1065.9878085621683, 727.0313841843471, 768.0716240769877, 458.6216348956871, 632.0637903864542, 661.4970620274768, 653.9579379849314, 851.4716453839154, 797.1564566041671, 734.2639387048264, 601.4450588707166, 629.6994262895033, 542.8099424903401, 511.18464001305597, 494.3883780579888, 93.86219779471061, 92.48697684270782, 70.12514489699599, 63.309936634346855, 51.6455513156595, 40.01828686315364, 33.277213980640504, 35.16124368129152, 29.419741898747777, 28.43962143939853, 24.496301446004065, 22.45720822895518, 21.4887707586864, 22.412583622315747, 20.509749272349104, 19.563517753173077, 17.690818503664993, 17.67850527916549, 39.06859298814425, 17.671243785446734, 20.428913701914425, 18.56759020172002, 17.616362097362412, 17.59231861612602, 18.504422887361002, 16.646794142310725, 31.379433330940294, 16.627359257576064, 17.54748721348971, 15.67337682748868, 29.41858384116529, 73.57075222408871, 48.80329198904247, 74.3065757096467, 48.49430725794376, 87.69714826828638, 176.56320992415263, 35.6424205457862, 336.9188761592376, 74.52419599984138, 32.263978588992046, 108.71938331905669, 56.65394553340419, 44.500194228746004, 76.8283918374526, 171.37594701654152, 167.7660845833614, 118.71818641127518, 218.90562382004464, 72.25655381653452, 390.7925657143442, 534.2317206815973, 493.9093846184703, 405.8856641119226, 385.5336607954737, 515.4204538940767, 220.39576820070945, 476.4696991734075, 482.8175878728381, 480.9461353077683, 401.116798743127, 440.8950210572254, 385.5244908701266, 457.5951252380442, 554.2795723848172, 498.7388156110357, 335.5088819679892, 400.4782442165552, 408.0938829731567, 262.53201633514783, 316.20086362318085, 221.8740641554963, 251.52151995857184, 286.45409847395, 229.85057571304043, 230.28649379650525, 251.34995412162357, 252.58288367189246, 232.8281544620682, 225.75593619553433, 175.06934363813136, 36.65930308403709, 42.91665433091098, 36.508781615256176, 26.555513406227245, 38.53046840165398, 20.08491258614641, 17.456311632401405, 16.558489249995997, 16.54393220154322, 16.53949183264854, 15.638030188129939, 15.633772052985101, 16.47436762505626, 15.57997340230136, 15.580289153848117, 14.678592951037638, 13.81493578813862, 13.798689017837056, 13.793038869444658, 12.880655829997368, 12.88068830729932, 11.954951683866037, 11.946307308663107, 11.941665760925778, 24.694177885334543, 11.068617244878928, 11.062377994315009, 11.057694947802963, 11.050210733997545, 105.68697924947993, 51.85103740591875, 54.86352728591642, 30.002058818226338, 21.269554652153154, 16.50724728469371, 143.79502981899867, 49.33272936960326, 202.16237082602316, 38.985399621632425, 291.02278054513215, 47.424478581746115, 71.17558057299404, 33.61292855233601, 336.0094154104438, 278.64725411601665, 67.60338769692027, 72.94097453533097, 816.8692719128363, 485.0539031047115, 78.26826246043373, 89.39545522582519, 1000.0700658984015, 45.65095807674293, 308.99632568842355, 188.43575976698526, 505.60311480815494, 211.65342207366905, 101.87845987286768, 528.2212316864455, 564.447597901104, 363.42568557607626, 455.50409071616883, 306.67946713893906, 423.316255347726, 323.1171967588042, 252.83438113058378, 256.6721878163787, 535.638758765189, 400.38193945762924, 213.3050588730349, 243.39558225318981, 198.22518359625468, 219.0793499478507, 192.54164132027142, 260.5442039268965, 257.906036603432, 239.74275184495795, 258.82030873927624, 242.1666844503896, 220.26217328494812, 223.97184618877444, 69.15876384594961, 76.62580992487962, 67.15900733740419, 46.41422212759165, 39.86206291343188, 36.02535054675177, 37.526904096764454, 24.695288028352955, 19.927144435035448, 19.920139536734755, 18.968560839155863, 18.05822001744886, 22.575539728356063, 18.052402390046588, 18.039746770542386, 100.05712075135924, 16.156597471046723, 18.835992579593405, 16.144256736432972, 15.218111446317252, 36.77341380551635, 18.778945073265415, 14.280476299064985, 16.938716477088974, 21.34288755069401, 13.320968696703583, 13.319963818146077, 15.096557275190746, 12.393242959746994, 12.392017833834418, 116.14877794562715, 107.68482351035294, 44.49545814250823, 25.425339183110744, 23.707127621642947, 32.1144526764273, 214.58391458149453, 38.86702321824086, 274.7589884133142, 37.87503945510144, 32.047562866419625, 26.397906765354797, 62.73356346652785, 61.361126487059884, 82.19943767138385, 59.65314954487298, 146.02347332378145, 101.24331794392619, 495.4351375524739, 68.12558350331737, 342.0503644111153, 42.516810966400286, 58.63408568115475, 443.9661112955292, 318.99269633978173, 83.31258845209594, 567.9206344558046, 141.89210096830232, 232.40231103950933, 124.0440950064903, 168.43448139517056, 87.19041480551071, 109.5389896344674, 207.39139306519925, 143.7142623986332, 470.90217010412493, 352.8559749600315, 236.21699522931755, 132.75231752399657, 355.1280742058505, 388.3924176749075, 159.25740732055957, 140.35418251514864, 262.1683281133964, 179.40169844086918, 191.83122026963406, 241.0479557772564, 213.63091804156736, 251.93274525032015, 293.3303279855544, 343.1258047150016, 170.52041656411686, 246.50447387543213, 219.55367225950638, 221.89556238596313, 181.1848760893527, 233.16329318219474, 221.73643367192523, 229.87908851253172, 181.5784168164833, 62.3915205181638, 70.68162952956672, 75.18028116255549, 58.261442479607844, 49.86231467944968, 35.96901676656048, 47.029680933814646, 32.17871051821395, 30.30690531475965, 35.79558768721956, 41.297406485156806, 24.63323104111609, 25.535453520149204, 17.07864998191084, 18.87133192160084, 20.67610514310067, 16.1381222514466, 16.132388681608607, 32.13856228104799, 156.98703225502877, 14.239193361770264, 14.206833652977302, 13.312270163383745, 13.275905051887529, 11.426142811601144, 11.423828039182597, 12.285552673132804, 12.262725116197588, 9.5062816079078, 9.4961503384829, 229.46955325419214, 31.092261595331134, 400.2076614494612, 45.60836797985974, 107.94644191171345, 117.8554519674985, 98.95628683960837, 46.977703436772416, 31.05602013463502, 75.15093470599831, 37.93166997928859, 24.687340042426722, 40.52393540172831, 127.97631706078901, 142.73267400584618, 161.63013157506825, 269.7396276751808, 103.41648896189923, 321.8088853873571, 180.69555403589345, 129.65915734508977, 83.03091167786798, 87.90841169796458, 96.61899819917583, 75.28944126651086, 213.2492532698121, 182.76540954824202, 480.4770503680186, 264.13494907596004, 407.0053936256515, 271.23874642306566, 241.76249185458096, 272.25586257589214, 409.4224488084155, 297.7035034195033, 176.8515568437033, 356.0409852530396, 295.43101368645677, 287.9583365619847, 256.4023226408768, 258.78826492708214, 248.71943915623393, 196.89007577251922, 240.94321698191524, 206.26164056973423, 230.7709720371163, 189.99888714398634, 187.45693287685418, 179.71840653216614, 175.97549681312478, 42.39848934164875, 79.34476689821393, 37.88254088787327, 34.30617202327686, 33.30660412035593, 55.89456607261539, 90.77919565285767, 57.52669952023271, 18.96846990845766, 18.941506981587917, 18.078085419992416, 36.956791655164714, 17.145903545857223, 16.19927750004644, 14.489364559246011, 14.488252832284982, 31.481756352108874, 14.475730529026064, 16.151297020171956, 11.787456468430477, 11.786911249144271, 24.375401290956123, 11.78392259592031, 11.778281172937213, 11.732281695892222, 10.890362589486594, 10.889403429310644, 10.881192024746356, 9.987520845616537, 10.817105696196016, 20.723297801171945, 46.89890200248796, 16.271150648077015, 267.78889223235393, 71.93014887377974, 84.02142849377708, 37.78098817804797, 22.519836743313462, 34.313767247259555, 18.981375402711656, 28.897606165608032, 31.20657791011237, 39.04605303689839, 25.252094980165108, 23.490438245458286, 426.849790141296, 64.54556166955241, 60.5074098098624, 27.39026761743107, 62.78052244643225, 43.25525236836063, 37.94581944034448, 98.07768788277103, 66.02577171450375, 116.05090670044368, 382.46900647457676, 397.77265189836424, 434.5719307661631, 296.52831147829, 79.68746264739264, 311.9082734098874, 233.6395352103716, 264.76908226896717, 257.823693444889, 205.58652930544648, 241.3816017669828, 123.07890393385593, 197.4014371894884, 107.28814233252244, 131.9827015109781, 128.7550790286802, 115.52163951343906, 138.2369273180076, 159.54190195357893, 171.42627262849305, 167.43849382702024, 173.36667613552135, 138.1320559849348, 149.0050389704934, 131.95734467476058, 144.09269125919192, 134.8346643570145, 118.53287735234332, 110.69639442684603, 62.92537700084554, 53.692549781196114, 36.147070691704876, 33.37550169197653, 32.38778081458237, 30.56437508152967, 29.654632986742996, 46.54341633623052, 30.41673757577485, 25.033870631981095, 25.78459424236953, 22.22111194606186, 22.21719247637599, 21.183644910559387, 46.671178605229045, 15.796421963551255, 16.66695277113133, 14.867652813543485, 13.945885827236427, 13.912518490069399, 13.02433140476154, 13.019954663612316, 12.996370447208834, 12.10584930733407, 12.100233474577804, 12.099871597614744, 11.17322497523845, 11.172835102063347, 11.165838122846345, 12.854260637987185, 34.25919901439026, 42.608679382724866, 125.7833640086159, 64.20950725478542, 24.972357769641235, 24.113351032455018, 18.545059991823763, 51.76404212055098, 24.792962190463427, 73.53063660100862, 88.73505999679162, 42.38558482723981, 34.25910569368345, 347.6633152400936, 68.98863899658488, 54.682873269413435, 130.5075899941174, 85.73966439247818, 283.356007884575, 140.49026775709825, 129.60045465774087, 392.8108943625434, 162.5856746372983, 166.90905293257674, 340.14748948359613, 81.63064168694073, 101.31387834725903, 55.72518676028939, 133.11326173645912, 93.2001779291547, 229.94242065533874, 304.1379071523325, 85.13268162988702, 175.08225463334088, 174.19297880645362, 220.1626594372379, 192.8322678266301, 173.5618653828758, 160.96383540956714, 167.74130773381177, 160.5365178193068, 144.0787434124822, 164.26493305903074, 126.32496421022496, 134.34343603151697, 107.24770659645127, 127.7736250916451, 119.29330287098736, 113.80474296845807, 112.01231348868467, 89.28843933098827, 101.78242610053759, 32.38085905206464, 154.82493683376433, 103.63352148919012, 23.20040087011893, 24.906466894697015, 31.891731929171865, 19.489780752980923, 15.784835942929073, 14.839376500951248, 15.658504916038547, 13.027095704516388, 21.594288964737554, 12.101984292605461, 12.096452595147689, 12.0457747569197, 12.836663883752724, 9.300506742055413, 11.803747087012447, 18.504318758125347, 8.381228789606197, 35.11350305345687, 54.8330683010647, 7.485297854368463, 7.481714430571673, 7.477337518131991, 8.294830328622632, 8.280557531189277, 14.868584699736248, 66.54630223856395, 15.71183862346989, 14.84533448268567, 86.38354739633489, 10.68142784307468, 63.398473712304686, 43.44071644435776, 21.70580638578405, 22.351469821455737, 24.914358152884393, 37.818235887328015, 26.607931957636712, 21.825818589025804, 298.08385232402395, 23.74530488196893, 81.95155793740413, 22.168291195847022, 99.45687358520793, 30.57767110830273, 223.7912685446988, 146.27287075737323, 57.441655397656326, 95.67145466580409, 200.53562704942482, 234.08783894430243, 66.71290395023331, 257.40994079417914, 261.85784001852244, 155.2129809567107, 103.08726681969597, 130.11067233929987, 119.20916001396591, 268.8712543580034, 165.48735912412096, 186.9948169811464, 163.00523212130108, 180.97314528545846, 212.52730006007786, 157.8331622584899, 94.94372832565124, 136.2352775995126, 149.03472750215892, 127.8709874746818, 118.15148782584215, 122.76963899139648, 108.44341877628429, 99.07283598910905, 95.88107382362553, 76.69771730883842, 52.89525458072181, 50.947086092939564, 33.62478425765373, 31.65613943084026, 27.918235464370465, 27.858755832180766, 20.248770436711514, 90.99860770033601, 50.752443909048736, 14.464060405908912, 13.525253530829827, 13.491209472867029, 12.572813957322365, 12.560753762716518, 12.555620382469417, 30.37519861044662, 13.252979042523602, 9.697935177585087, 9.661425797513745, 19.275138450118106, 13.106367103486532, 19.26362408328537, 8.712302127727924, 8.710689336617378, 19.08308894814955, 32.094862798966275, 7.791131987669953, 16.4069200688027, 7.768472337546295, 30.779126757626845, 41.95657489946279, 39.68202219680007, 53.72865561486378, 501.39743396521817, 39.31973031198861, 44.36824473709035, 46.69546722067826, 78.60527101194158, 207.87533638929003, 66.75224143860859, 32.685357478175185, 96.53123237248775, 83.21563908684888, 38.21006764761684, 631.522691900755, 40.101807940379054, 114.27885880365972, 186.02361533702887, 133.7975871930172, 67.38596307826789, 68.84523622885588, 51.564952735379975, 97.12452117005901, 107.37670546353866, 87.70060193129436, 112.58448463529413, 98.88136922582677, 144.45131358655465, 106.3752518555959, 213.8004268253867, 228.86259100957963, 186.76533809872745, 71.67687635183333, 115.1023517641298, 133.31985793255285, 103.88409389912438, 71.27691975149745, 70.56750999396696, 86.66706404701225, 81.8124354444586, 80.30542575634239, 71.06372982004038, 66.71944918743397, 43.68238638104139, 35.5529541126495, 27.664388803520954, 51.646950248805, 17.884601209829583, 16.983087478374973, 16.107762968886295, 16.905226177044838, 14.312626415386687, 14.299863717389952, 12.532139930186638, 12.486585572474235, 11.605566488412329, 22.329567607645444, 9.814540506533104, 49.695597421053456, 8.956141320468832, 55.245388527209194, 8.09466704174628, 8.072185953901405, 8.066658735117187, 8.055365297809928, 7.18564524823886, 7.169810815893994, 6.318540202835878, 6.317440356262614, 6.2948663551703286, 6.293929386639212, 6.28819283318914, 12.500814732568655, 30.39197919986292, 59.70575277705076, 228.49216847735966, 15.198855357923884, 43.33426842891154, 50.8512053760052, 52.66645261010399, 42.53268009645531, 25.90816722857239, 12.539292011363827, 47.33424865727, 170.11538858056176, 18.780898366188605, 49.955888846209206, 30.279619097825535, 60.0934764001853, 54.0230263220214, 50.58894821997652, 40.130431592823705, 192.84720786103927, 65.16099178044392, 246.26884143510966, 93.51687455429648, 161.71810868918251, 33.9469318396055, 128.90784841304443, 160.81328142504918, 118.13459543662667, 111.98803709502957, 140.71973268536064, 114.90317567986175, 125.80414295231068, 124.70801738668924, 98.81593870259618, 113.73397328543344, 69.23134427850387, 95.09303249463662, 80.00586445728392, 71.02540729219304, 62.322879397151894, 73.91501824215831, 66.11910423224893, 63.22182737965392, 61.35342033479563, 62.577645282678496], \"Total\": [2002.0, 659.0, 1154.0, 2580.0, 791.0, 5621.0, 3806.0, 722.0, 300.0, 459.0, 1146.0, 3515.0, 759.0, 3369.0, 718.0, 1946.0, 2700.0, 460.0, 339.0, 3223.0, 2825.0, 777.0, 555.0, 1381.0, 372.0, 569.0, 1865.0, 4562.0, 2105.0, 2209.0, 103.53766695704701, 97.30956475979902, 130.39257817940384, 100.34432876547442, 32.016098161701926, 53.70190413781694, 33.049194975159764, 33.04559807818953, 26.83200985937279, 27.87552444246586, 27.866722562618975, 25.805296810435316, 397.296712985758, 72.15798396355528, 21.65688075362106, 23.717733856094434, 45.39643889415342, 19.58407369319819, 74.1835527464672, 23.694745092306153, 19.57854873692104, 19.571409141674607, 19.57403190237444, 17.509934202313218, 15.437169090520175, 15.43558501557988, 21.631726137184224, 51.43427648621819, 14.397508281095128, 14.397379594988795, 102.82252719926487, 59.5845958405913, 150.93354385632045, 51.304057590951615, 187.80699616620376, 110.93705266901841, 96.2616611215083, 98.37909277637772, 88.60630921188192, 385.1355342420776, 777.8839541305438, 747.8286301723128, 122.01402430255136, 245.24106137883183, 381.5723249443084, 469.0000796877116, 197.46086626837655, 732.5176741483367, 1142.6944986909539, 1946.3552312585823, 924.0155436840774, 1614.1825448619663, 732.0572719324026, 3806.4248007348388, 3369.8523129455225, 5621.311233193486, 361.7083873827574, 2652.457290066225, 549.4094928607615, 582.3903877861864, 358.32493717329737, 3180.5094804524256, 1177.921299537199, 4562.7384851580055, 2988.886265481246, 2569.4710896578554, 1865.1992653227005, 3322.987286331398, 1986.5294434160212, 2209.4945546538975, 992.6137754789189, 1734.4478938384989, 1889.2661564244206, 2006.7497773202813, 3515.71829380423, 3223.1986620363436, 2825.6840087595683, 2255.658917859743, 2700.9672227795786, 1940.3585972661929, 1735.0014028922672, 1393.5631087311788, 95.3160290458691, 94.29618018688485, 71.72676325738152, 64.81536347043225, 53.0271929721852, 41.236869247265126, 34.36302070736762, 36.324200017067774, 30.433440514107364, 29.449305093952805, 25.51280691852481, 23.540479834179717, 22.56156710164534, 23.537628051004653, 21.57505231805192, 20.5938386638238, 18.634790937012085, 18.625734066745377, 41.178846989951886, 18.632415674968485, 21.565721520923685, 19.60956353512679, 18.62807561376305, 18.626234122995196, 19.612617634068997, 17.64573403786373, 33.29656005779117, 17.64438788861371, 18.623189050683237, 16.664541821120302, 31.35483351978526, 79.28819462160342, 52.803805549424965, 81.56753063341827, 52.85611522935758, 104.20270144637912, 232.62664546377135, 41.08210442180461, 569.9645209000054, 99.32457436261816, 38.07557906140264, 172.3997343486585, 76.63573159721952, 57.461412115838, 120.39466048724125, 348.90194220201334, 352.7793964645404, 223.71947842630118, 602.2627992191403, 121.83901092034657, 1614.1825448619663, 2700.9672227795786, 2580.1385392871716, 1946.3552312585823, 1865.1992653227005, 2988.886265481246, 773.8631926750414, 2825.6840087595683, 3322.987286331398, 3515.71829380423, 2569.4710896578554, 3180.5094804524256, 2652.457290066225, 3806.4248007348388, 5621.311233193486, 4562.7384851580055, 2105.0082682453, 3223.1986620363436, 3369.8523129455225, 1309.6802474214674, 2209.4945546538975, 958.8532926294653, 1393.5631087311788, 2255.658917859743, 1211.4675769743183, 1282.8720425723777, 1889.2661564244206, 1940.3585972661929, 1378.8585104445435, 1474.2216383702294, 177.605510939022, 37.73991329026918, 44.183358808739676, 37.73265578374089, 27.618874824809833, 40.52091062233489, 21.174108801039033, 18.41888219479598, 17.500135835650685, 17.49922096722534, 17.498953210344354, 16.57865267152141, 16.58044302921615, 17.500735198788824, 16.575814678529465, 16.580205723698633, 15.656703785263057, 14.74025872571843, 14.7382544201764, 14.738503229239475, 13.818198162889246, 13.818670251073009, 12.8987345995297, 12.895772948396099, 12.89585699513238, 26.718741359889012, 11.978371703228495, 11.97936552159226, 11.979760507635813, 11.978445750876626, 126.71761873830127, 59.948769637807324, 63.86715245520106, 34.106094837615935, 24.001892086485302, 18.418564807540427, 207.72763428899222, 63.12075349285597, 337.3673012228583, 49.963943037207855, 550.7833509642543, 64.6356983447348, 106.83074218221213, 43.237507638426884, 759.9809922408183, 616.2794600824104, 104.36403168496842, 118.7688688774883, 2700.9672227795786, 1381.8906910407652, 130.58747710995527, 157.05703925090737, 4562.7384851580055, 67.77937921503185, 940.0995281619425, 505.1749354670295, 2209.4945546538975, 632.8638006027148, 219.6481111208932, 3322.987286331398, 3806.4248007348388, 1889.2661564244206, 3369.8523129455225, 1735.0014028922672, 3223.1986620363436, 1986.5294434160212, 1282.8720425723777, 1335.6976942500928, 5621.311233193486, 3180.5094804524256, 941.5498759726396, 1262.5100935739927, 1005.9250697860386, 1378.8585104445435, 1013.9016248155058, 2255.658917859743, 2580.1385392871716, 2006.7497773202813, 3515.71829380423, 2825.6840087595683, 1619.1353121441593, 2988.886265481246, 70.42711227678024, 78.0423500009962, 68.52609591308965, 47.58144095737548, 40.919489298383986, 37.11017474734068, 39.009390118235544, 25.68831091552292, 20.923643887350433, 20.929119511542755, 19.976522691484195, 19.024591598747264, 23.78490637675802, 19.025124653006046, 19.020758992052194, 105.83619549157, 17.119466173332352, 19.975728963452553, 17.12265799031009, 16.169560839404582, 39.077750826104264, 19.975160225416467, 15.218106619956528, 18.06153356406091, 22.84599941966601, 14.26501947928996, 14.265753593137838, 16.168622925858397, 13.313920809617736, 13.314477308165591, 126.77282923342257, 119.68349712185976, 48.70504103659859, 27.530438853191235, 25.63723037850386, 35.13392843825008, 264.7771343225977, 43.648803936252214, 360.9206899861872, 42.87306021315663, 36.22020272516544, 29.437140179535042, 80.01592778281604, 78.0168609436679, 111.80566331627945, 77.00911629896783, 230.60319960189832, 154.03592027020184, 1097.8012768402114, 94.82763234567331, 718.4241308571972, 53.05414905849939, 80.34743071068998, 1146.9574005010131, 791.0341489781154, 133.56848916631174, 2002.3130381745827, 297.1769745907952, 629.9746482135752, 256.95504005734927, 452.5917699839186, 156.2958405414326, 238.49162827216512, 760.129366044301, 396.2405237121936, 3515.71829380423, 2105.0082682453, 1022.915981238002, 346.80218142746014, 2580.1385392871716, 3223.1986620363436, 533.0508809427673, 408.0322754485793, 1734.4478938384989, 722.9600086732986, 863.2126779869222, 1532.7972138882228, 1231.2100368646152, 2006.7497773202813, 3322.987286331398, 5621.311233193486, 704.1301755967274, 2825.6840087595683, 1940.3585972661929, 2255.658917859743, 941.4675401594234, 2988.886265481246, 2652.457290066225, 4562.7384851580055, 1474.2216383702294, 63.67830030163962, 72.21381470590875, 77.03645597452454, 59.91807796011708, 51.303643092070054, 37.055043085052894, 48.497660142262674, 33.257799889973676, 31.352733247415003, 37.079571986322, 42.800640277424215, 25.65558641442199, 26.609795167312388, 18.050199567157247, 19.94558318927014, 21.87239728597583, 17.099338694257618, 17.09954246135046, 34.189502911382846, 167.1955118361716, 15.19551527526508, 15.194335209562125, 14.245632178812906, 14.244346064836094, 12.344923165355187, 12.344865780146684, 13.292745207344439, 13.292080766408715, 10.442656788163008, 10.442482025138924, 254.620957782571, 34.197699822611256, 459.4686542405589, 50.50304727131645, 121.88735756826958, 133.98386606480605, 115.25221923283685, 54.400063699620254, 35.03573983069293, 91.03759810685386, 43.98839504335437, 27.543567558083925, 48.24580567906091, 180.9321518058253, 208.99036134639988, 265.7188936932199, 500.64531328793106, 155.24479366027182, 759.9809922408183, 376.41288947254765, 242.9455133001988, 133.33511774026263, 156.1125363747743, 182.370869023522, 127.28326724333958, 699.2502539328416, 584.9786141092186, 3180.5094804524256, 1182.4651800011743, 2569.4710896578554, 1381.8906910407652, 1177.921299537199, 2105.0082682453, 5621.311233193486, 2700.9672227795786, 818.6215412646701, 4562.7384851580055, 2988.886265481246, 2825.6840087595683, 2255.658917859743, 3322.987286331398, 3223.1986620363436, 1474.2216383702294, 3806.4248007348388, 2006.7497773202813, 3515.71829380423, 1532.7972138882228, 2002.3130381745827, 1865.1992653227005, 3369.8523129455225, 43.51830067203159, 81.57300777534343, 38.983128074189125, 35.35879494802702, 34.45939022196925, 58.02021736566163, 94.29227301257461, 59.93982853424371, 19.963845909098197, 19.965338528158416, 19.057478862003986, 39.047723207402136, 18.152467897667787, 17.248106206148563, 15.433520007221754, 15.43390100775385, 33.55643096602601, 15.43495759762515, 17.2488605011955, 12.71652525958761, 12.716598548482478, 26.302048351736246, 12.71626231908646, 12.717173403506232, 12.717855312574374, 11.809100157012137, 11.810602482018249, 11.809788430844806, 10.904712931386593, 11.812209783980014, 22.70021005592223, 52.89668068050166, 18.188230397112434, 372.91175318988957, 95.07338037288801, 115.50759852919448, 47.54583311643594, 26.47706014112335, 42.81985592550506, 22.004806972883085, 36.411957196705984, 40.11366715792038, 53.48110105023801, 31.01171384532498, 28.40860293293549, 1154.440763050699, 107.94355252715508, 99.23247019436081, 35.249100885241795, 126.99504026314426, 73.77594583382323, 59.970769085835315, 277.8607661670941, 150.84357856685685, 415.49446407228965, 3806.4248007348388, 4562.7384851580055, 5621.311233193486, 2825.6840087595683, 242.250022386049, 3515.71829380423, 2105.0082682453, 3322.987286331398, 3223.1986620363436, 1986.5294434160212, 3369.8523129455225, 777.8839541305438, 2580.1385392871716, 569.9645209000054, 992.6137754789189, 1005.9250697860386, 739.365110474483, 1262.5100935739927, 1940.3585972661929, 2700.9672227795786, 2569.4710896578554, 2988.886265481246, 1889.2661564244206, 2652.457290066225, 1619.1353121441593, 3180.5094804524256, 2255.658917859743, 2209.4945546538975, 1735.0014028922672, 64.15613775510883, 54.84564927309685, 37.1872924343627, 34.399726851344774, 33.47171992380524, 31.620916745648735, 30.68165156341384, 48.35667424154242, 31.606377831393996, 26.043441514300653, 26.967235609490963, 23.249913550562535, 23.246424705633792, 22.31005814130217, 49.22942678086972, 16.746027271922348, 17.66973626021411, 15.81178409066936, 14.883797618885021, 14.882044849338763, 13.953029940554037, 13.952828472152085, 13.952656500512587, 13.023934018878748, 13.023112221568688, 13.023656191719748, 12.094101866674725, 12.094242076595224, 12.094931995236683, 13.95562341138619, 37.22318415891219, 46.42670387001499, 138.86296156877785, 71.51613701392726, 27.898662795992742, 26.960656029630343, 20.41517789214049, 61.55306993983087, 27.92667659375842, 91.33801271814346, 121.48735569984649, 53.73986617185511, 43.27427418594701, 791.0341489781154, 108.2135225702202, 84.08570653282335, 268.0646912162481, 175.86982136523045, 1146.9574005010131, 396.2405237121936, 405.012376653849, 2580.1385392871716, 602.2627992191403, 788.6120666878114, 3515.71829380423, 226.9185676870782, 363.1285076153791, 111.24529701148299, 718.4241308571972, 346.80218142746014, 2825.6840087595683, 5621.311233193486, 292.73301290231177, 1940.3585972661929, 2255.658917859743, 4562.7384851580055, 3223.1986620363436, 2652.457290066225, 2569.4710896578554, 3180.5094804524256, 2988.886265481246, 2002.3130381745827, 3322.987286331398, 1474.2216383702294, 1986.5294434160212, 750.5241055532855, 2105.0082682453, 1532.7972138882228, 1142.6944986909539, 1735.0014028922672, 91.11473248765098, 105.10324664601235, 33.48090810925565, 160.2314285825436, 107.9426769393726, 24.18445505140921, 26.04131076926575, 33.47445596718066, 20.4657525190029, 16.747068765049864, 15.81721796179339, 16.74387398112017, 13.957799086248029, 23.244854367182672, 13.028153621306041, 13.028312350366845, 13.029023984318032, 13.954002123082264, 10.239491815776121, 13.022634087829589, 20.4291783975661, 9.309751557161183, 39.17205908234168, 61.37247030094157, 8.379638905342498, 8.37961259096558, 8.379783218721585, 9.306229058871997, 9.306086157109872, 16.73096197075586, 76.0338127887429, 17.710643369347427, 16.757872803296223, 101.43565760648916, 12.089627528993226, 79.03302089858845, 53.092826085495574, 26.01505141108537, 26.94078167317562, 30.788373797635067, 50.34413289386647, 33.53438702250808, 26.863807616318425, 722.9600086732986, 30.656423311094738, 154.74028947099407, 28.420467916993537, 232.50069780718337, 46.559901109546885, 1154.440763050699, 629.9746482135752, 141.08777180657032, 368.60091085726486, 1393.5631087311788, 1865.1992653227005, 229.13333610676315, 3369.8523129455225, 3515.71829380423, 1335.6976942500928, 584.9786141092186, 1005.1272173112129, 863.2126779869222, 5621.311233193486, 1946.3552312585823, 3223.1986620363436, 2255.658917859743, 2988.886265481246, 4562.7384851580055, 2209.4945546538975, 556.9113535811797, 1986.5294434160212, 3180.5094804524256, 2825.6840087595683, 2002.3130381745827, 3806.4248007348388, 2006.7497773202813, 1051.4293586837032, 690.9550287937631, 78.1458202549506, 54.01764513646369, 52.08570430998543, 34.71944502789839, 32.78762244427889, 28.927177431563877, 28.929029315956953, 21.207971654322193, 96.39382365821331, 53.941189698662264, 15.41913379126939, 14.453178278006359, 14.453172907275572, 13.488368980322983, 13.487639404755003, 13.48910017267714, 32.77136183357212, 14.456367105341275, 10.593834295408998, 10.593499762681171, 21.14444177965277, 14.423443963660159, 21.205304022534015, 9.62860849323968, 9.628819930434222, 21.134840621352875, 35.61572516258866, 8.664351431229544, 18.258194782016695, 8.66329637547373, 34.59596339968628, 48.89446763748825, 46.21957022685843, 63.67095934852728, 659.5109738109969, 46.12523210686761, 53.65838724324807, 58.269432584905445, 106.57179570798925, 339.81695014704565, 92.73660517657795, 41.0707207016546, 148.96469770151478, 130.54649703645117, 51.81233247237404, 2002.3130381745827, 55.51806131159186, 264.2758900737424, 555.827748546068, 372.0489848320163, 141.08777180657032, 146.83150597627017, 89.47715075402903, 365.53890687286605, 463.47106231518455, 309.62549976433706, 533.0508809427673, 408.0322754485793, 1022.915981238002, 534.6221673991747, 3515.71829380423, 5621.311233193486, 3223.1986620363436, 237.34393240178937, 1133.8516118233708, 2006.7497773202813, 863.1076042541453, 248.4790297117574, 265.7188936932199, 1282.8720425723777, 1013.9016248155058, 2988.886265481246, 715.4841012263886, 68.12490511784348, 44.827654958953524, 36.77730227080468, 28.707442256569017, 53.90925124062148, 18.85553980126972, 17.960770135486946, 17.064761047212784, 17.966390673885126, 15.274551161389006, 15.274931832882592, 13.483432185381963, 13.486494310875354, 12.590456896293977, 24.23438807231299, 10.799715694775564, 54.77805560344405, 9.902485430440066, 61.22112856247604, 9.004303237812293, 9.006446959444409, 9.006480499636085, 9.007058695610338, 8.110400251146404, 8.110967495890403, 7.21314021943369, 7.213308885574063, 7.214432687913616, 7.21495405773103, 7.215204024991651, 14.457099721325081, 36.20856824015527, 73.89072137180025, 300.7720506131321, 18.047139452032006, 55.099082109474224, 77.9027825096977, 85.24377179929053, 66.39007271339534, 37.060653607989224, 15.538562235299384, 87.10146981124015, 460.1197066544295, 27.128266694070795, 114.69820317884759, 56.18417314762737, 162.23164258905527, 167.24611691171046, 165.81355116915134, 114.96375714400946, 2580.1385392871716, 309.62549976433706, 5621.311233193486, 718.4241308571972, 2825.6840087595683, 85.46044470192629, 2105.0082682453, 3806.4248007348388, 1889.2661564244206, 1735.0014028922672, 3223.1986620363436, 2255.658917859743, 3369.8523129455225, 3322.987286331398, 2209.4945546538975, 4562.7384851580055, 539.492548769162, 3515.71829380423, 1474.2216383702294, 842.5825656895536, 452.5917699839186, 1940.3585972661929, 1095.4033981266978, 1734.4478938384989, 1085.5859437842162, 1865.1992653227005], \"Category\": [\"Default\", \"Default\", \"Default\", \"Default\", \"Default\", \"Default\", \"Default\", \"Default\", \"Default\", \"Default\", \"Default\", \"Default\", \"Default\", \"Default\", \"Default\", \"Default\", \"Default\", \"Default\", \"Default\", \"Default\", \"Default\", \"Default\", \"Default\", \"Default\", \"Default\", \"Default\", \"Default\", \"Default\", \"Default\", \"Default\", \"Topic1\", \"Topic1\", \"Topic1\", \"Topic1\", \"Topic1\", \"Topic1\", \"Topic1\", \"Topic1\", \"Topic1\", \"Topic1\", \"Topic1\", \"Topic1\", \"Topic1\", \"Topic1\", \"Topic1\", \"Topic1\", \"Topic1\", \"Topic1\", \"Topic1\", \"Topic1\", \"Topic1\", \"Topic1\", \"Topic1\", \"Topic1\", \"Topic1\", \"Topic1\", \"Topic1\", \"Topic1\", \"Topic1\", \"Topic1\", \"Topic1\", \"Topic1\", \"Topic1\", \"Topic1\", \"Topic1\", \"Topic1\", \"Topic1\", \"Topic1\", \"Topic1\", \"Topic1\", \"Topic1\", \"Topic1\", \"Topic1\", \"Topic1\", \"Topic1\", \"Topic1\", \"Topic1\", \"Topic1\", \"Topic1\", \"Topic1\", \"Topic1\", \"Topic1\", \"Topic1\", \"Topic1\", \"Topic1\", \"Topic1\", \"Topic1\", \"Topic1\", \"Topic1\", \"Topic1\", \"Topic1\", \"Topic1\", \"Topic1\", \"Topic1\", \"Topic1\", \"Topic1\", \"Topic1\", \"Topic1\", \"Topic1\", \"Topic1\", \"Topic1\", \"Topic1\", \"Topic1\", \"Topic1\", \"Topic1\", \"Topic1\", \"Topic1\", \"Topic1\", \"Topic1\", \"Topic1\", \"Topic1\", \"Topic1\", \"Topic2\", \"Topic2\", \"Topic2\", \"Topic2\", \"Topic2\", \"Topic2\", \"Topic2\", \"Topic2\", \"Topic2\", \"Topic2\", \"Topic2\", \"Topic2\", \"Topic2\", \"Topic2\", \"Topic2\", \"Topic2\", \"Topic2\", \"Topic2\", \"Topic2\", \"Topic2\", \"Topic2\", \"Topic2\", \"Topic2\", \"Topic2\", \"Topic2\", \"Topic2\", \"Topic2\", \"Topic2\", \"Topic2\", \"Topic2\", \"Topic2\", \"Topic2\", \"Topic2\", \"Topic2\", \"Topic2\", \"Topic2\", \"Topic2\", \"Topic2\", \"Topic2\", \"Topic2\", \"Topic2\", \"Topic2\", \"Topic2\", \"Topic2\", \"Topic2\", \"Topic2\", \"Topic2\", \"Topic2\", \"Topic2\", \"Topic2\", \"Topic2\", \"Topic2\", \"Topic2\", \"Topic2\", \"Topic2\", \"Topic2\", \"Topic2\", \"Topic2\", \"Topic2\", \"Topic2\", \"Topic2\", \"Topic2\", \"Topic2\", \"Topic2\", \"Topic2\", \"Topic2\", \"Topic2\", \"Topic2\", \"Topic2\", \"Topic2\", \"Topic2\", \"Topic2\", \"Topic2\", \"Topic2\", \"Topic2\", \"Topic2\", \"Topic2\", \"Topic2\", \"Topic2\", \"Topic2\", \"Topic3\", \"Topic3\", \"Topic3\", \"Topic3\", \"Topic3\", \"Topic3\", \"Topic3\", \"Topic3\", \"Topic3\", \"Topic3\", \"Topic3\", \"Topic3\", \"Topic3\", \"Topic3\", \"Topic3\", \"Topic3\", \"Topic3\", \"Topic3\", \"Topic3\", \"Topic3\", \"Topic3\", \"Topic3\", \"Topic3\", \"Topic3\", \"Topic3\", \"Topic3\", \"Topic3\", \"Topic3\", \"Topic3\", \"Topic3\", \"Topic3\", \"Topic3\", \"Topic3\", \"Topic3\", \"Topic3\", \"Topic3\", \"Topic3\", \"Topic3\", \"Topic3\", \"Topic3\", \"Topic3\", \"Topic3\", \"Topic3\", \"Topic3\", \"Topic3\", \"Topic3\", \"Topic3\", \"Topic3\", \"Topic3\", \"Topic3\", \"Topic3\", \"Topic3\", \"Topic3\", \"Topic3\", \"Topic3\", \"Topic3\", \"Topic3\", \"Topic3\", \"Topic3\", \"Topic3\", \"Topic3\", \"Topic3\", \"Topic3\", \"Topic3\", \"Topic3\", \"Topic3\", \"Topic3\", \"Topic3\", \"Topic3\", \"Topic3\", \"Topic3\", \"Topic3\", \"Topic3\", \"Topic3\", \"Topic3\", \"Topic3\", \"Topic3\", \"Topic3\", \"Topic3\", \"Topic3\", \"Topic3\", \"Topic3\", \"Topic4\", \"Topic4\", \"Topic4\", \"Topic4\", \"Topic4\", \"Topic4\", \"Topic4\", \"Topic4\", \"Topic4\", \"Topic4\", \"Topic4\", \"Topic4\", \"Topic4\", \"Topic4\", \"Topic4\", \"Topic4\", \"Topic4\", \"Topic4\", \"Topic4\", \"Topic4\", \"Topic4\", \"Topic4\", \"Topic4\", \"Topic4\", \"Topic4\", \"Topic4\", \"Topic4\", \"Topic4\", \"Topic4\", \"Topic4\", \"Topic4\", \"Topic4\", \"Topic4\", \"Topic4\", \"Topic4\", \"Topic4\", \"Topic4\", \"Topic4\", \"Topic4\", \"Topic4\", \"Topic4\", \"Topic4\", \"Topic4\", \"Topic4\", \"Topic4\", \"Topic4\", \"Topic4\", \"Topic4\", \"Topic4\", \"Topic4\", \"Topic4\", \"Topic4\", \"Topic4\", \"Topic4\", \"Topic4\", \"Topic4\", \"Topic4\", \"Topic4\", \"Topic4\", \"Topic4\", \"Topic4\", \"Topic4\", \"Topic4\", \"Topic4\", \"Topic4\", \"Topic4\", \"Topic4\", \"Topic4\", \"Topic4\", \"Topic4\", \"Topic4\", \"Topic4\", \"Topic4\", \"Topic4\", \"Topic4\", \"Topic4\", \"Topic4\", \"Topic4\", \"Topic4\", \"Topic4\", \"Topic4\", \"Topic4\", \"Topic4\", \"Topic4\", \"Topic4\", \"Topic4\", \"Topic4\", \"Topic4\", \"Topic4\", \"Topic4\", \"Topic5\", \"Topic5\", \"Topic5\", \"Topic5\", \"Topic5\", \"Topic5\", \"Topic5\", \"Topic5\", \"Topic5\", \"Topic5\", \"Topic5\", \"Topic5\", \"Topic5\", \"Topic5\", \"Topic5\", \"Topic5\", \"Topic5\", \"Topic5\", \"Topic5\", \"Topic5\", \"Topic5\", \"Topic5\", \"Topic5\", \"Topic5\", \"Topic5\", \"Topic5\", \"Topic5\", \"Topic5\", \"Topic5\", \"Topic5\", \"Topic5\", \"Topic5\", \"Topic5\", \"Topic5\", \"Topic5\", \"Topic5\", \"Topic5\", \"Topic5\", \"Topic5\", \"Topic5\", \"Topic5\", \"Topic5\", \"Topic5\", \"Topic5\", \"Topic5\", \"Topic5\", \"Topic5\", \"Topic5\", \"Topic5\", \"Topic5\", \"Topic5\", \"Topic5\", \"Topic5\", \"Topic5\", \"Topic5\", \"Topic5\", \"Topic5\", \"Topic5\", \"Topic5\", \"Topic5\", \"Topic5\", \"Topic5\", \"Topic5\", \"Topic5\", \"Topic5\", \"Topic5\", \"Topic5\", \"Topic5\", \"Topic5\", \"Topic5\", \"Topic5\", \"Topic5\", \"Topic5\", \"Topic5\", \"Topic5\", \"Topic5\", \"Topic5\", \"Topic5\", \"Topic5\", \"Topic5\", \"Topic6\", \"Topic6\", \"Topic6\", \"Topic6\", \"Topic6\", \"Topic6\", \"Topic6\", \"Topic6\", \"Topic6\", \"Topic6\", \"Topic6\", \"Topic6\", \"Topic6\", \"Topic6\", \"Topic6\", \"Topic6\", \"Topic6\", \"Topic6\", \"Topic6\", \"Topic6\", \"Topic6\", \"Topic6\", \"Topic6\", \"Topic6\", \"Topic6\", \"Topic6\", \"Topic6\", \"Topic6\", \"Topic6\", \"Topic6\", \"Topic6\", \"Topic6\", \"Topic6\", \"Topic6\", \"Topic6\", \"Topic6\", \"Topic6\", \"Topic6\", \"Topic6\", \"Topic6\", \"Topic6\", \"Topic6\", \"Topic6\", \"Topic6\", \"Topic6\", \"Topic6\", \"Topic6\", \"Topic6\", \"Topic6\", \"Topic6\", \"Topic6\", \"Topic6\", \"Topic6\", \"Topic6\", \"Topic6\", \"Topic6\", \"Topic6\", \"Topic6\", \"Topic6\", \"Topic6\", \"Topic6\", \"Topic6\", \"Topic6\", \"Topic6\", \"Topic6\", \"Topic6\", \"Topic6\", \"Topic6\", \"Topic6\", \"Topic6\", \"Topic6\", \"Topic6\", \"Topic6\", \"Topic6\", \"Topic6\", \"Topic6\", \"Topic6\", \"Topic6\", \"Topic6\", \"Topic6\", \"Topic6\", \"Topic6\", \"Topic6\", \"Topic6\", \"Topic7\", \"Topic7\", \"Topic7\", \"Topic7\", \"Topic7\", \"Topic7\", \"Topic7\", \"Topic7\", \"Topic7\", \"Topic7\", \"Topic7\", \"Topic7\", \"Topic7\", \"Topic7\", \"Topic7\", \"Topic7\", \"Topic7\", \"Topic7\", \"Topic7\", \"Topic7\", \"Topic7\", \"Topic7\", \"Topic7\", \"Topic7\", \"Topic7\", \"Topic7\", \"Topic7\", \"Topic7\", \"Topic7\", \"Topic7\", \"Topic7\", \"Topic7\", \"Topic7\", \"Topic7\", \"Topic7\", \"Topic7\", \"Topic7\", \"Topic7\", \"Topic7\", \"Topic7\", \"Topic7\", \"Topic7\", \"Topic7\", \"Topic7\", \"Topic7\", \"Topic7\", \"Topic7\", \"Topic7\", \"Topic7\", \"Topic7\", \"Topic7\", \"Topic7\", \"Topic7\", \"Topic7\", \"Topic7\", \"Topic7\", \"Topic7\", \"Topic7\", \"Topic7\", \"Topic7\", \"Topic7\", \"Topic7\", \"Topic7\", \"Topic7\", \"Topic7\", \"Topic7\", \"Topic7\", \"Topic7\", \"Topic7\", \"Topic7\", \"Topic7\", \"Topic7\", \"Topic7\", \"Topic7\", \"Topic7\", \"Topic7\", \"Topic7\", \"Topic7\", \"Topic7\", \"Topic7\", \"Topic8\", \"Topic8\", \"Topic8\", \"Topic8\", \"Topic8\", \"Topic8\", \"Topic8\", \"Topic8\", \"Topic8\", \"Topic8\", \"Topic8\", \"Topic8\", \"Topic8\", \"Topic8\", \"Topic8\", \"Topic8\", \"Topic8\", \"Topic8\", \"Topic8\", \"Topic8\", \"Topic8\", \"Topic8\", \"Topic8\", \"Topic8\", \"Topic8\", \"Topic8\", \"Topic8\", \"Topic8\", \"Topic8\", \"Topic8\", \"Topic8\", \"Topic8\", \"Topic8\", \"Topic8\", \"Topic8\", \"Topic8\", \"Topic8\", \"Topic8\", \"Topic8\", \"Topic8\", \"Topic8\", \"Topic8\", \"Topic8\", \"Topic8\", \"Topic8\", \"Topic8\", \"Topic8\", \"Topic8\", \"Topic8\", \"Topic8\", \"Topic8\", \"Topic8\", \"Topic8\", \"Topic8\", \"Topic8\", \"Topic8\", \"Topic8\", \"Topic8\", \"Topic8\", \"Topic8\", \"Topic8\", \"Topic8\", \"Topic8\", \"Topic8\", \"Topic8\", \"Topic8\", \"Topic8\", \"Topic8\", \"Topic8\", \"Topic8\", \"Topic8\", \"Topic8\", \"Topic8\", \"Topic8\", \"Topic8\", \"Topic8\", \"Topic8\", \"Topic8\", \"Topic9\", \"Topic9\", \"Topic9\", \"Topic9\", \"Topic9\", \"Topic9\", \"Topic9\", \"Topic9\", \"Topic9\", \"Topic9\", \"Topic9\", \"Topic9\", \"Topic9\", \"Topic9\", \"Topic9\", \"Topic9\", \"Topic9\", \"Topic9\", \"Topic9\", \"Topic9\", \"Topic9\", \"Topic9\", \"Topic9\", \"Topic9\", \"Topic9\", \"Topic9\", \"Topic9\", \"Topic9\", \"Topic9\", \"Topic9\", \"Topic9\", \"Topic9\", \"Topic9\", \"Topic9\", \"Topic9\", \"Topic9\", \"Topic9\", \"Topic9\", \"Topic9\", \"Topic9\", \"Topic9\", \"Topic9\", \"Topic9\", \"Topic9\", \"Topic9\", \"Topic9\", \"Topic9\", \"Topic9\", \"Topic9\", \"Topic9\", \"Topic9\", \"Topic9\", \"Topic9\", \"Topic9\", \"Topic9\", \"Topic9\", \"Topic9\", \"Topic9\", \"Topic9\", \"Topic9\", \"Topic9\", \"Topic9\", \"Topic9\", \"Topic9\", \"Topic9\", \"Topic9\", \"Topic9\", \"Topic9\", \"Topic9\", \"Topic9\", \"Topic9\", \"Topic9\", \"Topic9\", \"Topic10\", \"Topic10\", \"Topic10\", \"Topic10\", \"Topic10\", \"Topic10\", \"Topic10\", \"Topic10\", \"Topic10\", \"Topic10\", \"Topic10\", \"Topic10\", \"Topic10\", \"Topic10\", \"Topic10\", \"Topic10\", \"Topic10\", \"Topic10\", \"Topic10\", \"Topic10\", \"Topic10\", \"Topic10\", \"Topic10\", \"Topic10\", \"Topic10\", \"Topic10\", \"Topic10\", \"Topic10\", \"Topic10\", \"Topic10\", \"Topic10\", \"Topic10\", \"Topic10\", \"Topic10\", \"Topic10\", \"Topic10\", \"Topic10\", \"Topic10\", \"Topic10\", \"Topic10\", \"Topic10\", \"Topic10\", \"Topic10\", \"Topic10\", \"Topic10\", \"Topic10\", \"Topic10\", \"Topic10\", \"Topic10\", \"Topic10\", \"Topic10\", \"Topic10\", \"Topic10\", \"Topic10\", \"Topic10\", \"Topic10\", \"Topic10\", \"Topic10\", \"Topic10\", \"Topic10\", \"Topic10\", \"Topic10\", \"Topic10\", \"Topic10\", \"Topic10\", \"Topic10\", \"Topic10\", \"Topic10\", \"Topic10\", \"Topic10\", \"Topic10\", \"Topic10\", \"Topic10\", \"Topic10\", \"Topic10\", \"Topic10\"], \"logprob\": [30.0, 29.0, 28.0, 27.0, 26.0, 25.0, 24.0, 23.0, 22.0, 21.0, 20.0, 19.0, 18.0, 17.0, 16.0, 15.0, 14.0, 13.0, 12.0, 11.0, 10.0, 9.0, 8.0, 7.0, 6.0, 5.0, 4.0, 3.0, 2.0, 1.0, -7.1709, -7.2347, -6.9438, -7.2085, -8.3636, -7.8466, -8.3328, -8.3342, -8.543, -8.5053, -8.5083, -8.5855, -5.8548, -7.5622, -8.7677, -8.6769, -8.0282, -8.8726, -7.5419, -8.6838, -8.8751, -8.8774, -8.8773, -8.9907, -9.1233, -9.1244, -8.7883, -7.9226, -9.1991, -9.1995, -7.2497, -7.7912, -6.8725, -7.9464, -6.6882, -7.1996, -7.3429, -7.3315, -7.4444, -6.0694, -5.4125, -5.4562, -7.1637, -6.5318, -6.1345, -5.9614, -6.7577, -5.594, -5.2359, -4.7739, -5.4576, -5.0187, -5.6833, -4.3326, -4.4434, -4.0577, -6.3034, -4.7454, -5.9778, -5.9352, -6.3175, -4.6845, -5.4481, -4.4849, -4.8055, -4.9232, -5.2014, -4.825, -5.2077, -5.1528, -5.6685, -5.3477, -5.3022, -5.3137, -5.0497, -5.1156, -5.1978, -5.3974, -5.3515, -5.4999, -5.56, -5.5934, -6.5806, -6.5953, -6.8721, -6.9744, -7.178, -7.4331, -7.6175, -7.5625, -7.7407, -7.7746, -7.9239, -8.0108, -8.0549, -8.0128, -8.1015, -8.1487, -8.2494, -8.2501, -7.4571, -8.2505, -8.1055, -8.201, -8.2536, -8.255, -8.2044, -8.3102, -7.6763, -8.3114, -8.2575, -8.3704, -7.7408, -6.8242, -7.2346, -6.8142, -7.241, -6.6485, -5.9487, -7.5489, -5.3026, -6.8113, -7.6485, -6.4336, -7.0855, -7.3269, -6.7808, -5.9786, -5.9998, -6.3457, -5.7338, -6.8422, -5.1542, -4.8416, -4.9201, -5.1163, -5.1678, -4.8774, -5.727, -4.956, -4.9428, -4.9467, -5.1282, -5.0336, -5.1678, -4.9964, -4.8047, -4.9103, -5.3068, -5.1298, -5.1109, -5.552, -5.366, -5.7203, -5.5949, -5.4648, -5.685, -5.6831, -5.5956, -5.5907, -5.6721, -5.703, -5.8696, -7.4331, -7.2756, -7.4373, -7.7556, -7.3834, -8.0348, -8.1751, -8.2279, -8.2288, -8.2291, -8.2851, -8.2854, -8.233, -8.2888, -8.2888, -8.3484, -8.4091, -8.4102, -8.4106, -8.4791, -8.4791, -8.5537, -8.5544, -8.5548, -7.8282, -8.6307, -8.6313, -8.6317, -8.6324, -6.3743, -7.0864, -7.03, -7.6335, -7.9775, -8.231, -6.0664, -7.1362, -5.7257, -7.3716, -5.3614, -7.1757, -6.7697, -7.5199, -5.2177, -5.4049, -6.8212, -6.7452, -4.3293, -4.8506, -6.6747, -6.5417, -4.127, -7.2138, -5.3015, -5.7961, -4.8091, -5.6799, -6.411, -4.7653, -4.699, -5.1392, -4.9134, -5.309, -4.9867, -5.2568, -5.5021, -5.487, -4.7514, -5.0424, -5.6721, -5.5401, -5.7454, -5.6454, -5.7745, -5.472, -5.4822, -5.5552, -5.4787, -5.5452, -5.64, -5.6233, -6.751, -6.6484, -6.7803, -7.1498, -7.3019, -7.4031, -7.3623, -7.7807, -7.9953, -7.9956, -8.0446, -8.0938, -7.8705, -8.0941, -8.0948, -6.3816, -8.205, -8.0516, -8.2058, -8.2649, -7.3826, -8.0546, -8.3285, -8.1578, -7.9266, -8.398, -8.3981, -8.2729, -8.4702, -8.4703, -6.2325, -6.3082, -7.192, -7.7516, -7.8216, -7.5181, -5.6187, -7.3272, -5.3715, -7.3531, -7.5201, -7.7141, -6.8485, -6.8706, -6.5782, -6.8988, -6.0036, -6.3698, -4.7819, -6.766, -5.1524, -7.2375, -6.916, -4.8916, -5.2222, -6.5648, -4.6454, -6.0323, -5.5389, -6.1667, -5.8608, -6.5193, -6.2911, -5.6528, -6.0195, -4.8327, -5.1213, -5.5226, -6.0989, -5.1149, -5.0253, -5.9168, -6.0432, -5.4184, -5.7977, -5.7307, -5.5024, -5.6231, -5.4582, -5.3061, -5.1493, -5.8485, -5.48, -5.5958, -5.5852, -5.7878, -5.5356, -5.5859, -5.5498, -5.7857, -6.6979, -6.5731, -6.5114, -6.7663, -6.922, -7.2486, -6.9805, -7.36, -7.4199, -7.2535, -7.1105, -7.6272, -7.5912, -7.9935, -7.8936, -7.8023, -8.0501, -8.0505, -7.3612, -5.7751, -8.1753, -8.1776, -8.2426, -8.2453, -8.3954, -8.3956, -8.3229, -8.3247, -8.5793, -8.5804, -5.3955, -7.3943, -4.8393, -7.0112, -6.1497, -6.0618, -6.2366, -6.9816, -7.3955, -6.5118, -7.1955, -7.625, -7.1294, -5.9794, -5.8703, -5.746, -5.2338, -6.1925, -5.0573, -5.6345, -5.9664, -6.4121, -6.355, -6.2605, -6.5099, -5.4688, -5.6231, -4.6565, -5.2548, -4.8225, -5.2283, -5.3433, -5.2245, -4.8165, -5.1352, -5.656, -4.9562, -5.1429, -5.1685, -5.2845, -5.2753, -5.315, -5.5486, -5.3467, -5.5021, -5.3899, -5.5843, -5.5977, -5.6399, -5.6609, -6.8653, -6.2386, -6.9779, -7.0771, -7.1067, -6.589, -6.104, -6.5602, -7.6697, -7.6711, -7.7177, -7.0027, -7.7707, -7.8275, -7.939, -7.9391, -7.163, -7.94, -7.8304, -8.1454, -8.1454, -7.4189, -8.1457, -8.1462, -8.1501, -8.2246, -8.2246, -8.2254, -8.3111, -8.2313, -7.5812, -6.7644, -7.823, -5.0222, -6.3367, -6.1814, -6.9806, -7.498, -7.0769, -7.669, -7.2487, -7.1718, -6.9477, -7.3835, -7.4558, -4.556, -6.4451, -6.5097, -7.3022, -6.4728, -6.8453, -6.9763, -6.0267, -6.4224, -5.8584, -4.6658, -4.6266, -4.5381, -4.9203, -6.2343, -4.8697, -5.1587, -5.0336, -5.0602, -5.2866, -5.1261, -5.7996, -5.3272, -5.9369, -5.7298, -5.7545, -5.863, -5.6835, -5.5401, -5.4683, -5.4918, -5.457, -5.6842, -5.6085, -5.73, -5.642, -5.7084, -5.8372, -5.9056, -6.3389, -6.4976, -6.8933, -6.9731, -7.0031, -7.061, -7.0913, -6.6405, -7.0659, -7.2606, -7.2311, -7.3798, -7.38, -7.4276, -6.6377, -7.7211, -7.6674, -7.7817, -7.8457, -7.8481, -7.9141, -7.9144, -7.9162, -7.9872, -7.9876, -7.9877, -8.0674, -8.0674, -8.068, -7.9272, -6.9469, -6.7288, -5.6463, -6.3187, -7.2631, -7.2981, -7.5607, -6.5342, -7.2703, -6.1832, -5.9952, -6.7341, -6.9469, -4.6296, -6.2469, -6.4793, -5.6094, -6.0296, -4.8342, -5.5357, -5.6164, -4.5075, -5.3897, -5.3634, -4.6515, -6.0787, -5.8626, -6.4604, -5.5897, -5.9461, -5.043, -4.7634, -6.0367, -5.3156, -5.3207, -5.0865, -5.2191, -5.3243, -5.3997, -5.3585, -5.4024, -5.5105, -5.3794, -5.642, -5.5805, -5.8057, -5.6306, -5.6993, -5.7464, -5.7623, -5.8573, -5.7263, -6.8716, -5.3068, -5.7083, -7.205, -7.134, -6.8868, -7.3793, -7.5901, -7.6519, -7.5981, -7.7821, -7.2767, -7.8558, -7.8562, -7.8604, -7.7968, -8.1191, -7.8807, -7.4311, -8.2231, -6.7906, -6.3449, -8.3362, -8.3367, -8.3373, -8.2335, -8.2352, -7.6499, -6.1512, -7.5947, -7.6515, -5.8903, -7.9806, -6.1997, -6.5777, -7.2716, -7.2423, -7.1337, -6.7164, -7.0679, -7.2661, -4.6518, -7.1818, -5.943, -7.2505, -5.7494, -6.9289, -4.9384, -5.3637, -6.2984, -5.7882, -5.0482, -4.8934, -6.1487, -4.7985, -4.7813, -5.3043, -5.7136, -5.4808, -5.5683, -4.7549, -5.2402, -5.1181, -5.2554, -5.1508, -4.9901, -5.2876, -5.7959, -5.4348, -5.345, -5.4981, -5.5772, -5.5388, -5.6629, -5.7533, -5.786, -5.6737, -6.0452, -6.0828, -6.4983, -6.5586, -6.6843, -6.6864, -7.0054, -5.5027, -6.0866, -7.3419, -7.409, -7.4115, -7.482, -7.483, -7.4834, -6.5999, -7.4293, -7.7416, -7.7454, -7.0547, -7.4404, -7.0553, -7.8488, -7.849, -7.0647, -6.5448, -7.9606, -7.2158, -7.9635, -6.5867, -6.2769, -6.3326, -6.0296, -3.7961, -6.3418, -6.221, -6.1699, -5.6491, -4.6766, -5.8126, -6.5266, -5.4437, -5.5921, -6.3704, -3.5654, -6.3221, -5.2749, -4.7877, -5.1172, -5.8031, -5.7817, -6.0707, -5.4375, -5.3372, -5.5396, -5.2898, -5.4196, -5.0406, -5.3466, -4.6485, -4.5804, -4.7837, -5.7414, -5.2677, -5.1208, -5.3703, -5.747, -5.757, -5.5515, -5.6091, -5.6277, -5.75, -5.6638, -6.0874, -6.2933, -6.5442, -5.9199, -6.9804, -7.0321, -7.085, -7.0367, -7.2032, -7.2041, -7.336, -7.3397, -7.4128, -6.7584, -7.5805, -5.9584, -7.672, -5.8525, -7.7731, -7.7759, -7.7766, -7.778, -7.8922, -7.8944, -8.0208, -8.021, -8.0246, -8.0247, -8.0256, -7.3385, -6.4501, -5.7749, -4.4328, -7.1431, -6.0954, -5.9354, -5.9003, -6.114, -6.6098, -7.3355, -6.0071, -4.7278, -6.9315, -5.9532, -6.4538, -5.7684, -5.8749, -5.9406, -6.1722, -4.6024, -5.6875, -4.3579, -5.3262, -4.7785, -6.3395, -5.0052, -4.7841, -5.0925, -5.1459, -4.9175, -5.1202, -5.0296, -5.0383, -5.2711, -5.1305, -5.6269, -5.3095, -5.4822, -5.6013, -5.732, -5.5614, -5.6729, -5.7177, -5.7477, -5.7279], \"loglift\": [30.0, 29.0, 28.0, 27.0, 26.0, 25.0, 24.0, 23.0, 22.0, 21.0, 20.0, 19.0, 18.0, 17.0, 16.0, 15.0, 14.0, 13.0, 12.0, 11.0, 10.0, 9.0, 8.0, 7.0, 6.0, 5.0, 4.0, 3.0, 2.0, 1.0, 1.3531, 1.3514, 1.3496, 1.3468, 1.3341, 1.3339, 1.3331, 1.3318, 1.3313, 1.3309, 1.3282, 1.3279, 1.3244, 1.3229, 1.321, 1.3208, 1.3203, 1.3166, 1.3155, 1.3149, 1.3144, 1.3125, 1.3125, 1.3104, 1.3039, 1.3029, 1.3015, 1.3011, 1.2978, 1.2974, 1.2812, 1.2853, 1.2746, 1.2798, 1.2403, 1.2554, 1.254, 1.2436, 1.2354, 1.1409, 1.0949, 1.0905, 1.1962, 1.13, 1.0852, 1.0519, 1.1207, 0.9735, 0.8869, 0.8164, 0.8776, 0.7587, 0.8848, 0.5869, 0.598, 0.4719, 0.9697, 0.5353, 0.8773, 0.8616, 0.965, 0.4146, 0.6444, 0.2534, 0.3558, 0.3892, 0.4315, 0.2303, 0.3621, 0.3106, 0.5951, 0.3578, 0.3178, 0.246, -0.0508, -0.0298, 0.0196, 0.0454, -0.0889, 0.0934, 0.1452, 0.331, 2.0262, 2.0222, 2.019, 2.018, 2.0151, 2.0115, 2.0094, 2.009, 2.0077, 2.0067, 2.0009, 1.9944, 1.9928, 1.9926, 1.9909, 1.9902, 1.9896, 1.9893, 1.9889, 1.9886, 1.9874, 1.9869, 1.9857, 1.9844, 1.9834, 1.9833, 1.9822, 1.9822, 1.982, 1.9802, 1.9778, 1.9667, 1.9628, 1.9483, 1.9554, 1.8691, 1.7658, 1.8995, 1.5158, 1.7543, 1.8759, 1.5805, 1.7394, 1.7859, 1.5923, 1.3306, 1.2983, 1.4079, 1.0295, 1.5191, 0.6231, 0.421, 0.3883, 0.4739, 0.465, 0.2839, 0.7856, 0.2614, 0.1126, 0.0523, 0.1843, 0.0655, 0.1129, -0.0769, -0.2751, -0.1721, 0.2051, -0.0439, -0.0696, 0.4344, 0.0974, 0.5779, 0.3294, -0.0221, 0.3794, 0.324, 0.0244, 0.0027, 0.2628, 0.1651, 2.1148, 2.1001, 2.1001, 2.0962, 2.0899, 2.0788, 2.0763, 2.0755, 2.0738, 2.073, 2.0728, 2.0707, 2.0704, 2.0687, 2.0672, 2.0669, 2.0646, 2.0643, 2.0633, 2.0628, 2.0589, 2.0589, 2.0532, 2.0527, 2.0523, 2.0503, 2.0502, 2.0495, 2.049, 2.0485, 1.9477, 1.984, 1.9772, 2.0009, 2.0083, 2.0196, 1.7613, 1.8827, 1.617, 1.881, 1.4912, 1.8195, 1.723, 1.8773, 1.313, 1.3354, 1.6949, 1.6416, 0.9333, 1.0822, 1.6172, 1.5656, 0.6113, 1.7339, 1.0165, 1.143, 0.6544, 1.0338, 1.3609, 0.29, 0.2205, 0.4808, 0.1279, 0.3962, 0.0991, 0.313, 0.505, 0.4797, -0.2217, 0.0568, 0.6443, 0.483, 0.5049, 0.2896, 0.4679, -0.0293, -0.1739, 0.0044, -0.4797, -0.3277, 0.1343, -0.462, 2.1584, 2.1583, 2.1564, 2.1518, 2.1504, 2.1469, 2.1378, 2.1372, 2.1278, 2.1272, 2.1248, 2.1245, 2.1244, 2.1241, 2.1236, 2.1204, 2.1187, 2.1178, 2.1178, 2.1159, 2.1158, 2.1148, 2.113, 2.1124, 2.1085, 2.1081, 2.108, 2.108, 2.1049, 2.1048, 2.0891, 2.0709, 2.0862, 2.097, 2.0983, 2.0867, 1.9664, 2.0606, 1.9038, 2.0526, 2.0542, 2.0676, 1.9333, 1.9364, 1.869, 1.9212, 1.7197, 1.7569, 1.381, 1.8459, 1.4345, 1.9552, 1.8615, 1.2275, 1.2684, 1.7046, 0.9165, 1.4373, 1.1794, 1.4483, 1.1881, 1.5929, 1.3985, 0.8777, 1.1624, 0.1662, 0.3906, 0.7109, 1.2163, 0.1935, 0.0605, 0.9685, 1.1094, 0.2871, 0.7829, 0.6725, 0.3267, 0.4251, 0.1015, -0.2507, -0.6196, 0.7585, -0.2625, -0.0024, -0.1424, 0.5287, -0.3743, -0.3052, -0.8115, 0.0824, 2.3123, 2.3112, 2.3083, 2.3046, 2.3042, 2.3029, 2.3019, 2.2997, 2.2987, 2.2974, 2.2969, 2.292, 2.2915, 2.2773, 2.2773, 2.2764, 2.2748, 2.2744, 2.2708, 2.2697, 2.2677, 2.2655, 2.2649, 2.2623, 2.2553, 2.2551, 2.2539, 2.2521, 2.2387, 2.2377, 2.2287, 2.2375, 2.1946, 2.2307, 2.2112, 2.2044, 2.1802, 2.186, 2.2121, 2.1409, 2.1845, 2.2232, 2.1583, 1.9864, 1.9514, 1.8355, 1.7142, 1.9264, 1.4733, 1.5988, 1.7047, 1.859, 1.7584, 1.6974, 1.8076, 1.1451, 1.1693, 0.4426, 0.8338, 0.49, 0.7045, 0.7491, 0.2873, -0.2869, 0.1274, 0.8004, -0.218, 0.0184, 0.049, 0.1582, -0.2199, -0.2291, 0.3194, -0.4272, 0.0575, -0.3909, 0.2448, -0.0358, -0.0071, -0.6196, 2.5255, 2.5238, 2.5229, 2.5213, 2.5175, 2.5142, 2.5136, 2.5104, 2.5004, 2.4989, 2.4988, 2.4965, 2.4945, 2.4888, 2.4884, 2.4883, 2.4877, 2.4874, 2.4858, 2.4757, 2.4756, 2.4754, 2.4754, 2.4748, 2.4709, 2.4705, 2.4703, 2.4696, 2.4637, 2.4635, 2.4604, 2.4312, 2.4401, 2.2204, 2.2726, 2.2333, 2.3216, 2.3896, 2.3301, 2.4037, 2.3204, 2.3004, 2.2369, 2.3461, 2.3614, 1.5566, 2.0373, 2.0568, 2.2993, 1.847, 2.0176, 2.0938, 1.5102, 1.7253, 1.2761, 0.2537, 0.1117, -0.0084, 0.2972, 1.4397, 0.1292, 0.3532, 0.0218, 0.0257, 0.2832, -0.0847, 0.7078, -0.0188, 0.8815, 0.5339, 0.4958, 0.6952, 0.3396, 0.0532, -0.2057, -0.1793, -0.2957, -0.0642, -0.3277, 0.0444, -0.5428, -0.2656, -0.3738, -0.2005, 2.6637, 2.6618, 2.6547, 2.6529, 2.6502, 2.6491, 2.649, 2.6449, 2.6447, 2.6435, 2.6382, 2.6378, 2.6378, 2.6313, 2.6297, 2.6247, 2.6247, 2.6215, 2.618, 2.6157, 2.6142, 2.6139, 2.6121, 2.61, 2.6096, 2.6095, 2.6039, 2.6038, 2.6032, 2.6009, 2.6001, 2.5973, 2.5842, 2.5753, 2.5723, 2.5715, 2.587, 2.5099, 2.5641, 2.4662, 2.3689, 2.4457, 2.4495, 1.861, 2.2329, 2.2528, 1.9633, 1.9647, 1.2849, 1.6462, 1.5436, 0.8008, 1.3736, 1.1303, 0.3475, 1.6607, 1.4065, 1.9918, 0.9972, 1.3691, 0.1744, -0.2338, 1.448, 0.2777, 0.122, -0.3482, -0.1332, -0.0436, -0.0872, -0.2593, -0.2411, 0.0514, -0.3241, 0.2261, -0.0107, 0.7374, -0.1187, 0.1298, 0.3764, -0.0571, 2.7946, 2.7827, 2.7814, 2.7805, 2.7741, 2.7733, 2.7703, 2.7664, 2.7659, 2.7556, 2.751, 2.7478, 2.7458, 2.7412, 2.7411, 2.7406, 2.7363, 2.7313, 2.7186, 2.7165, 2.7158, 2.7097, 2.7054, 2.7021, 2.7019, 2.7015, 2.7009, 2.6998, 2.698, 2.6968, 2.6815, 2.6951, 2.6936, 2.6542, 2.691, 2.5944, 2.6142, 2.6337, 2.6281, 2.6031, 2.5287, 2.5834, 2.6071, 1.9288, 2.5594, 2.1792, 2.5664, 1.9656, 2.3943, 1.1742, 1.3546, 1.9162, 1.466, 0.8762, 0.7394, 1.5809, 0.2429, 0.2176, 0.6624, 1.0788, 0.7703, 0.835, -0.2253, 0.35, -0.0322, 0.1874, 0.0105, -0.2518, 0.1758, 1.0457, 0.135, -0.2458, -0.2807, -0.0153, -0.6193, -0.1032, 0.4528, 0.8398, 3.1317, 3.1294, 3.1283, 3.1184, 3.1153, 3.1149, 3.1127, 3.1041, 3.0928, 3.0895, 3.0865, 3.0841, 3.0815, 3.0801, 3.0792, 3.0787, 3.0745, 3.0635, 3.0621, 3.0583, 3.0578, 3.0547, 3.0544, 3.0504, 3.0502, 3.0483, 3.0463, 3.0442, 3.0435, 3.0414, 3.0335, 2.9974, 2.9979, 2.9806, 2.8763, 2.9908, 2.9603, 2.929, 2.846, 2.6589, 2.8216, 2.922, 2.7166, 2.7001, 2.8459, 1.9965, 2.8251, 2.3121, 2.0558, 2.1277, 2.4115, 2.393, 2.5993, 1.825, 1.688, 1.889, 1.5955, 1.733, 1.1929, 1.5358, 0.3505, -0.0508, 0.3021, 1.9531, 0.8629, 0.4389, 1.0331, 1.9016, 1.8245, 0.4556, 0.6333, -0.4664, 0.841, 3.2788, 3.2738, 3.2658, 3.2626, 3.2568, 3.2468, 3.2437, 3.2419, 3.2388, 3.2346, 3.2337, 3.2265, 3.2226, 3.2182, 3.2178, 3.204, 3.2023, 3.1992, 3.1969, 3.1931, 3.1901, 3.1894, 3.188, 3.1786, 3.1763, 3.1672, 3.167, 3.1633, 3.1631, 3.1621, 3.1542, 3.1245, 3.0865, 3.0248, 3.1279, 3.0594, 2.8731, 2.8181, 2.8544, 2.9416, 3.0852, 2.6898, 2.3046, 2.9319, 2.4685, 2.6815, 2.3065, 2.1696, 2.1125, 2.2472, 0.7059, 1.7411, 0.1717, 1.2607, 0.439, 2.3764, 0.5067, 0.1354, 0.5275, 0.5593, 0.1683, 0.3225, 0.0117, 0.017, 0.1924, -0.3922, 1.2465, -0.3105, 0.3858, 0.8262, 1.317, 0.0319, 0.4922, -0.0122, 0.4264, -0.0951]}, \"token.table\": {\"Topic\": [1, 2, 3, 4, 5, 6, 7, 8, 1, 2, 3, 4, 5, 6, 7, 8, 9, 10, 1, 2, 3, 5, 6, 7, 8, 9, 1, 2, 3, 4, 5, 6, 7, 8, 10, 5, 3, 3, 9, 1, 2, 3, 5, 7, 8, 9, 3, 7, 1, 3, 7, 1, 2, 3, 4, 5, 6, 7, 8, 9, 10, 6, 8, 1, 2, 3, 4, 5, 6, 7, 8, 9, 10, 1, 6, 8, 1, 2, 3, 4, 5, 6, 7, 8, 9, 10, 8, 1, 2, 3, 4, 5, 6, 7, 8, 9, 10, 1, 3, 8, 2, 3, 4, 6, 7, 9, 1, 2, 3, 4, 5, 6, 7, 9, 10, 3, 4, 7, 2, 3, 5, 6, 7, 8, 9, 10, 3, 1, 1, 6, 4, 7, 7, 1, 2, 4, 5, 9, 10, 1, 2, 3, 4, 5, 6, 7, 8, 9, 10, 3, 5, 7, 8, 4, 6, 8, 9, 1, 2, 3, 4, 5, 6, 7, 8, 9, 10, 4, 6, 7, 9, 10, 10, 1, 2, 3, 4, 5, 6, 7, 8, 9, 10, 1, 2, 3, 4, 7, 8, 9, 10, 2, 1, 2, 3, 4, 5, 6, 7, 8, 9, 10, 1, 2, 3, 5, 4, 3, 8, 1, 6, 9, 1, 2, 3, 4, 5, 6, 7, 8, 9, 10, 8, 4, 7, 4, 7, 10, 4, 7, 9, 1, 2, 3, 4, 5, 10, 5, 1, 2, 3, 4, 6, 7, 8, 9, 3, 8, 8, 10, 1, 1, 3, 6, 6, 4, 7, 9, 7, 2, 4, 8, 1, 2, 3, 4, 5, 6, 7, 8, 9, 10, 1, 4, 7, 9, 3, 4, 7, 8, 1, 3, 5, 7, 10, 6, 8, 8, 8, 1, 2, 3, 4, 5, 6, 7, 8, 9, 10, 9, 1, 2, 3, 4, 5, 6, 7, 8, 10, 1, 2, 3, 4, 5, 6, 8, 2, 4, 5, 6, 7, 9, 1, 2, 3, 4, 5, 6, 7, 8, 9, 10, 3, 7, 1, 2, 3, 4, 5, 6, 8, 10, 1, 2, 3, 4, 7, 1, 2, 3, 4, 5, 6, 7, 8, 9, 10, 4, 7, 3, 6, 7, 8, 7, 1, 2, 3, 4, 5, 6, 7, 8, 9, 10, 8, 1, 2, 3, 4, 5, 6, 7, 8, 9, 10, 1, 2, 3, 4, 5, 6, 7, 8, 9, 10, 6, 8, 2, 3, 4, 7, 8, 6, 1, 2, 3, 8, 6, 1, 2, 3, 4, 5, 6, 7, 8, 9, 10, 3, 4, 1, 2, 3, 4, 5, 6, 7, 8, 9, 10, 1, 2, 3, 4, 5, 6, 7, 8, 9, 10, 3, 4, 6, 7, 1, 2, 3, 4, 5, 6, 7, 8, 10, 2, 7, 1, 2, 3, 4, 5, 6, 7, 8, 9, 10, 1, 10, 4, 6, 7, 1, 2, 3, 4, 5, 6, 7, 8, 9, 10, 1, 2, 3, 4, 5, 6, 7, 8, 9, 10, 3, 8, 8, 1, 2, 3, 4, 5, 6, 7, 8, 9, 10, 1, 2, 3, 4, 5, 6, 7, 8, 9, 10, 1, 2, 3, 4, 5, 6, 7, 8, 9, 10, 4, 5, 6, 9, 5, 10, 10, 1, 2, 3, 4, 5, 6, 7, 8, 9, 10, 6, 9, 4, 7, 2, 9, 1, 2, 7, 10, 10, 1, 2, 3, 4, 5, 6, 7, 10, 3, 7, 1, 2, 3, 5, 6, 7, 8, 9, 10, 1, 2, 5, 10, 1, 1, 2, 3, 4, 5, 6, 7, 8, 9, 10, 1, 7, 5, 2, 4, 1, 2, 3, 4, 5, 6, 7, 8, 1, 4, 10, 1, 2, 3, 4, 5, 6, 7, 8, 9, 10, 2, 4, 5, 7, 10, 1, 2, 3, 4, 5, 6, 7, 8, 9, 10, 4, 3, 1, 2, 3, 4, 5, 6, 7, 8, 9, 10, 1, 3, 1, 2, 3, 4, 5, 6, 7, 8, 9, 10, 1, 2, 3, 4, 5, 6, 7, 8, 9, 10, 1, 2, 3, 4, 5, 6, 7, 8, 9, 10, 1, 2, 3, 4, 5, 6, 7, 8, 9, 10, 1, 3, 7, 8, 3, 1, 2, 1, 2, 3, 4, 5, 6, 7, 8, 9, 10, 4, 8, 2, 4, 5, 9, 7, 1, 3, 4, 6, 10, 1, 2, 3, 4, 5, 6, 7, 8, 9, 10, 1, 2, 3, 4, 5, 6, 7, 8, 9, 10, 3, 3, 5, 2, 4, 7, 8, 1, 2, 3, 4, 5, 6, 8, 8, 1, 6, 1, 3, 4, 5, 6, 7, 9, 4, 6, 7, 1, 2, 3, 4, 5, 6, 7, 8, 9, 10, 1, 2, 3, 4, 5, 6, 7, 8, 9, 10, 7, 1, 1, 2, 3, 4, 5, 6, 7, 8, 9, 10, 4, 6, 7, 2, 2, 1, 2, 3, 4, 5, 6, 7, 8, 9, 10, 1, 2, 3, 4, 5, 6, 7, 8, 9, 10, 7, 4, 1, 2, 3, 4, 5, 6, 7, 8, 9, 10, 1, 8, 9, 1, 2, 1, 2, 3, 4, 5, 6, 7, 8, 9, 10, 1, 2, 3, 4, 5, 6, 7, 8, 9, 10, 2, 1, 10, 1, 5, 1, 1, 2, 3, 5, 6, 7, 8, 1, 3, 4, 7, 10, 3, 7, 10, 2, 2, 1, 3, 6, 10, 1, 2, 3, 4, 5, 6, 7, 8, 10, 1, 3, 5, 1, 5, 7, 8, 1, 3, 4, 5, 6, 9, 10, 4, 1, 2, 3, 4, 5, 6, 7, 8, 9, 10, 1, 2, 3, 4, 6, 7, 9, 7, 1, 4, 6, 7, 8, 9, 10, 1, 2, 3, 4, 5, 6, 7, 8, 9, 10, 1, 2, 3, 4, 5, 6, 7, 8, 1, 2, 3, 5, 6, 8, 10, 1, 2, 3, 4, 5, 6, 7, 8, 9, 10, 8, 9, 1, 2, 3, 4, 5, 6, 7, 8, 1, 2, 3, 4, 5, 6, 7, 8, 9, 10, 4, 1, 2, 3, 4, 5, 6, 7, 8, 9, 10, 5, 6, 7, 1, 2, 3, 4, 5, 6, 7, 8, 10, 7, 1, 1, 2, 3, 4, 5, 6, 7, 8, 10, 1, 4, 2, 3, 4, 7, 9, 3, 7, 8, 1, 5, 2, 2, 5, 5, 5, 6, 7, 3, 10, 1, 2, 3, 4, 5, 6, 7, 8, 9, 10, 1, 2, 3, 4, 5, 6, 7, 8, 10, 1, 3, 6, 1, 2, 4, 8, 10, 1, 2, 3, 4, 5, 6, 7, 9, 3, 1, 2, 3, 4, 7, 4, 6, 8, 9, 6, 9, 1, 2, 3, 4, 5, 6, 7, 8, 9, 10, 1, 2, 3, 4, 5, 6, 7, 8, 9, 10, 4, 3, 6, 7, 8, 9, 3, 1, 2, 3, 4, 5, 6, 7, 8, 9, 10, 2, 3, 5, 7, 10, 1, 2, 8, 1, 2, 3, 5, 6, 8, 8, 2, 8, 1, 2, 3, 4, 5, 6, 8, 10, 5, 3, 6, 8, 1, 2, 3, 4, 5, 6, 7, 8, 10, 2, 9, 2, 3, 5, 1, 2, 3, 4, 5, 6, 7, 8, 9, 10, 1, 2, 3, 4, 5, 6, 7, 8, 9, 10, 4, 1, 2, 3, 4, 5, 6, 7, 8, 9, 10, 7, 4, 1, 2, 3, 4, 8, 9, 1, 2, 3, 6, 7, 10, 4, 3, 1, 2, 3, 4, 5, 6, 7, 8, 9, 10, 1, 2, 3, 4, 5, 6, 7, 8, 9, 10, 4, 10, 10, 10, 1, 2, 4, 5, 4, 3, 7, 1, 4, 6, 7, 1, 3, 4, 5, 6, 7, 8, 9, 7, 3, 10, 3, 2, 10, 1, 2, 3, 4, 5, 6, 7, 8, 9, 10, 1, 2, 3, 4, 5, 6, 7, 8, 9, 10, 5, 7, 1, 2, 3, 4, 5, 7, 8, 9, 1, 2, 3, 4, 5, 6, 7, 8, 9, 10, 4, 6, 7, 8, 3, 1, 2, 3, 4, 5, 6, 7, 8, 9, 10, 2, 1, 3, 6, 10, 1, 2, 3, 4, 5, 6, 7, 8, 9, 10, 1, 2, 3, 4, 5, 6, 7, 8, 9, 10, 1, 8, 1, 2, 3, 5, 7, 8, 10, 6, 7, 1, 2, 3, 4, 5, 6, 7, 8, 9, 10, 7, 9, 3, 5, 6, 2, 3, 5, 6, 1, 2, 3, 4, 5, 6, 7, 8, 10, 1, 2, 3, 4, 5, 6, 7, 8, 9, 10, 4, 1, 2, 3, 5, 7, 8, 1, 2, 3, 5, 6, 8, 10, 7, 10, 1, 2, 3, 4, 5, 6, 8, 10, 1, 2, 3, 4, 5, 6, 7, 8, 9, 10, 1, 2, 3, 5, 7, 1, 6, 7, 8, 10, 1, 3, 4, 7, 8, 10, 1, 2, 3, 4, 5, 6, 7, 8, 9, 10, 1, 1, 1, 3, 5, 1, 2, 10, 1, 2, 3, 5, 6, 10, 2, 1, 2, 3, 4, 5, 6, 7, 8, 10, 8, 1, 2, 3, 4, 5, 6, 7, 8, 9, 10, 6, 2, 3, 9, 10, 10, 3, 4, 10, 2, 7, 10, 4, 7, 8, 2, 6, 1, 4, 6, 7, 1, 2, 3, 4, 5, 6, 7, 9, 1, 2, 3, 4, 5, 6, 7, 8, 9, 10, 6, 7, 1, 2, 3, 4, 5, 6, 7, 8, 9, 10, 2, 3, 4, 6, 7, 9, 10, 4, 6, 8, 9, 1, 4, 5, 6, 7, 8, 9, 1, 2, 3, 4, 5, 6, 7, 8, 9, 10, 1, 2, 3, 4, 5, 6, 7, 8, 9, 10, 10, 1, 2, 3, 4, 5, 6, 7, 8, 9, 10, 1, 2, 3, 4, 5, 6, 1, 2, 3, 4, 5, 6, 7, 8, 9, 10, 2, 4, 5, 6, 10, 4, 9, 1, 2, 3, 4, 5, 6, 7, 8, 9, 10, 6, 1, 2, 3, 4, 5, 6, 7, 8, 9, 10, 1, 2, 3, 4, 5, 6, 7, 8, 9, 10, 10, 5, 6, 1, 2, 3, 4, 5, 6, 7, 8, 9, 10, 1, 8, 1, 3, 5, 1, 3, 5, 6, 1, 2, 3, 4, 5, 6, 7, 8, 9, 10, 1, 2, 3, 4, 5, 6, 7, 8, 9, 10, 1, 2, 3, 4, 5, 6, 7, 8, 9, 10, 9, 5, 4, 1, 2, 3, 5, 6, 1, 2, 3, 4, 5, 6, 7, 8, 2, 6, 6, 2, 4, 5, 6, 1, 2, 3, 4, 5, 6, 7, 8, 9, 10, 1, 2, 3, 4, 5, 6, 7, 8, 10, 4, 7, 9, 10, 1, 2, 3, 4, 5, 6, 7, 8, 9, 10, 1, 2, 3, 4, 5, 6, 7, 8, 9, 10, 7, 8, 4, 2, 1, 2, 3, 4, 5, 6, 8, 9, 10, 8, 8, 1, 8, 5, 3, 4, 5, 6, 8, 9, 1, 3, 6, 1, 2, 3, 4, 5, 6, 7, 8, 9, 10, 1, 5, 9, 6, 4, 1, 2, 3, 4, 5, 6, 7, 8, 1, 2, 3, 5, 6, 8, 1, 2, 3, 4, 5, 6, 7, 8, 9, 2, 2, 7, 1, 2, 3, 5, 6, 7, 8, 10, 9, 1, 4, 6, 7, 9, 1, 2, 3, 4, 5, 6, 7, 8, 10, 1, 3, 4, 5, 6, 1, 7, 1, 2, 4, 5, 6, 7, 8, 10, 9, 1, 2, 3, 4, 5, 6, 7, 8, 9, 10, 1, 2, 3, 4, 5, 6, 7, 8, 10, 1, 2, 3, 4, 5, 6, 7, 8, 10, 1, 4, 5, 10, 2, 4, 1, 2, 3, 4, 5, 6, 8, 9, 4, 10, 3, 1, 3, 3, 2, 7, 8, 1, 3, 6, 6, 9, 6, 1, 2, 3, 4, 5, 6, 7, 8, 9, 10, 3, 3, 1, 2, 3, 4, 5, 6, 7, 8, 9, 10, 1, 2, 3, 4, 5, 6, 7, 8, 9, 10, 4, 6, 7, 8, 10, 1, 2, 3, 4, 5, 6, 7, 8, 9, 10, 1, 2, 3, 4, 5, 6, 7, 8, 9, 10, 6, 10, 10, 1, 1, 2, 3, 4, 6, 1, 2, 3, 5, 6, 8, 6, 7, 10, 10, 9, 9, 1, 2, 3, 4, 5, 6, 7, 9, 2, 7, 2, 10, 4, 1, 2, 3, 4, 5, 6, 7, 8, 9, 10, 2, 3, 4, 7, 9, 10, 5, 7, 1, 5, 1, 2, 3, 4, 8, 9, 1, 2, 4, 5, 9, 10, 10, 10, 1, 2, 4, 5, 6, 8, 6, 3, 3, 5, 1, 2, 3, 4, 5, 6, 7, 8, 9, 10, 1, 2, 3, 4, 5, 6, 7, 8, 9, 10, 4, 6, 10, 7, 1, 2, 6, 8, 10, 1, 6, 9, 7, 1, 2, 3, 4, 5, 6, 7, 8, 10, 1, 2, 4, 5, 6, 7, 9, 10, 10, 4, 6, 7, 9, 1, 2, 3, 4, 5, 6, 7, 8, 9, 10, 1, 2, 3, 4, 5, 6, 7, 8, 9, 10, 2, 3, 4, 7, 8, 1, 2, 3, 4, 5, 6, 7, 8, 9, 10, 6, 9, 1, 2, 3, 5, 6, 1, 2, 3, 4, 5, 6, 7, 8, 9, 10, 2, 6, 1, 2, 3, 4, 5, 6, 7, 8, 9, 10, 1, 2, 3, 4, 6, 1, 2, 3, 5, 6, 8, 9, 1, 2, 3, 4, 5, 6, 7, 8, 9, 10, 4, 1, 3, 4, 5, 6, 9, 1, 2, 3, 4, 5, 6, 7, 8, 10, 7, 7, 1, 2, 4, 8, 1, 2, 3, 4, 5, 6, 7, 8, 10, 1, 2, 3, 4, 5, 7, 8, 10, 1, 2, 3, 4, 5, 6, 7, 8, 10, 1, 2, 3, 4, 5, 6, 7, 8, 9, 10, 1, 2, 4, 5, 6, 7, 10, 8, 9, 6, 4, 7, 1, 6, 6, 1, 6, 5, 5, 5, 1, 2, 3, 4, 6, 3, 1, 2, 3, 4, 5, 6, 7, 8, 9, 10, 1, 2, 3, 4, 5, 6, 7, 8, 9, 10, 1, 2, 3, 5, 6, 9, 5, 5, 1, 3, 5, 6, 9, 4, 1, 3, 6, 7, 4, 1, 2, 10, 5, 6, 8, 1, 2, 3, 4, 5, 6, 7, 8, 9, 10, 6, 2, 10, 1, 2, 3, 4, 5, 6, 7, 8, 9, 3, 8, 1, 2, 3, 4, 5, 6, 7, 8, 9, 10, 1, 2, 3, 4, 5, 6, 7, 8, 9, 10, 1, 2, 3, 4, 5, 6, 7, 8, 10, 1, 2, 3, 4, 5, 6, 7, 8, 9, 10, 2, 7, 8, 1, 2, 3, 5, 9, 1, 2, 3, 4, 5, 6, 7, 8, 9, 10, 1, 2, 3, 4, 5, 6, 7, 8, 9, 10, 1, 1, 2, 3, 4, 5, 6, 7, 8, 9, 10, 4, 9, 7, 6, 8, 2, 1, 2, 3, 4, 5, 6, 7, 8, 9, 1, 2, 3, 5, 6, 7, 9, 1, 2, 4, 5, 7, 8, 10, 3, 6, 9, 1, 2, 3, 5, 7, 8, 4, 10, 1, 4, 1, 2, 3, 4, 5, 8, 10, 10, 2, 3, 6, 1, 2, 3, 6, 1, 2, 3, 1, 2, 3, 4, 5, 6, 7, 8, 10, 3, 1, 2, 3, 4, 5, 6, 7, 8, 9, 10, 1, 2, 3, 4, 5, 6, 8, 10, 1, 2, 3, 4, 5, 6, 7, 8, 10, 4, 4, 1, 2, 3, 4, 5, 6, 7, 8, 9, 10, 1, 2, 5, 6, 1, 2, 3, 4, 5, 6, 7, 8, 9, 10, 9, 1, 2, 4, 10, 3, 1, 5, 1, 2, 3, 4, 5, 6, 7, 8, 5, 4, 5, 2, 10, 4, 6, 2, 6, 9, 8, 3, 5, 1, 10, 2, 1, 5, 5, 7, 2, 2, 1, 2, 7, 9, 6, 9, 9, 3, 9, 9, 5, 5, 5, 9, 4, 4, 2, 2, 4, 1, 2, 3, 7], \"Freq\": [0.7971219809778306, 0.0025964885373870703, 0.012982442686935351, 0.06491221343467676, 0.08308763319638625, 0.023368396836483632, 0.007789465612161211, 0.007789465612161211, 0.34987129672136436, 0.13285581766575258, 0.192138094871188, 0.07727868278565687, 0.04287378976464525, 0.07304423441384006, 0.032287668835103214, 0.032816974881580314, 0.004234448371816815, 0.06245811348429802, 0.008207551854255939, 0.5909437335064276, 0.2790567630447019, 0.016415103708511878, 0.016415103708511878, 0.05745286297979157, 0.008207551854255939, 0.024622655562767815, 0.041560377158134286, 0.036018993537049716, 0.022165534484338285, 0.7619402478991285, 0.0027706918105422857, 0.011082767242169143, 0.047101760779218856, 0.016624150863253712, 0.06095521983193029, 0.8618640643415679, 0.9805829786289098, 0.054769927253977176, 0.8763188360636348, 0.008705708132824582, 0.09358636242786426, 0.017411416265649165, 0.8705708132824582, 0.0021764270332061456, 0.0021764270332061456, 0.0021764270332061456, 0.9853297855159655, 0.0056304559172340885, 0.0166809094839094, 0.8674072931632887, 0.1000854569034564, 0.22822642364222812, 0.125068080155941, 0.17892951613550684, 0.10407124918085603, 0.08946475806775342, 0.08581313528947777, 0.056600153063272575, 0.04929690750672128, 0.022822642364222812, 0.06025177584154823, 0.9436735181208563, 0.8596524752661978, 0.3759528581147143, 0.15606324648447248, 0.06927495729235936, 0.06421555029909716, 0.15839835740443967, 0.06499392060575289, 0.06265880968578572, 0.027632145886278173, 0.005448592146590062, 0.015178220979786602, 0.09206430327845372, 0.013152043325493388, 0.881186902808057, 0.5439285679272913, 0.24222787022730172, 0.0681459481457882, 0.0006195086195071655, 0.05761430161416639, 0.0322144482143726, 0.001239017239014331, 0.039029043028951424, 0.001239017239014331, 0.01362918962915764, 0.9600131199810912, 0.011986137802848101, 0.06792144754947257, 0.03845552545080433, 0.2836719280007384, 0.09339199038052479, 0.0469457063944884, 0.07191682681708861, 0.0589318441973365, 0.3156349621416667, 0.010487870577492089, 0.9816509634765258, 0.007669148152160358, 0.007669148152160358, 0.02685199957922195, 0.06712999894805488, 0.10069499842208232, 0.006712999894805487, 0.15439899758052622, 0.6511609897961324, 0.0015162749972475525, 0.037906874931188814, 0.04245569992293147, 0.062167274887149654, 0.05155334990641679, 0.016679024969723077, 0.021227849961465733, 0.7596537736210238, 0.00606509998899021, 0.02846251599099025, 0.910800511711688, 0.02846251599099025, 0.0064414398474987745, 0.01932431954249632, 0.6634683042923737, 0.10950447740747916, 0.16747743603496812, 0.0064414398474987745, 0.012882879694997549, 0.0064414398474987745, 0.9650061203481133, 0.9069020309298337, 0.9683083092649883, 0.018621313639711312, 0.0537299547363185, 0.9134092305174146, 0.9095342606887147, 0.1496149655803, 0.02659821610316444, 0.04322210116764222, 0.009974331038686666, 0.00664955402579111, 0.7580491589401865, 0.020154693278144918, 0.040309386556289836, 0.020154693278144918, 0.08061877311257967, 0.03023203991721738, 0.61471814498342, 0.14108285294701445, 0.010077346639072459, 0.010077346639072459, 0.040309386556289836, 0.07423689573162455, 0.037118447865812275, 0.037118447865812275, 0.8166058530478699, 0.018636415505123696, 0.03727283101024739, 0.11181849303074219, 0.8200022822254427, 0.053756362240929625, 0.053756362240929625, 0.10482490636981277, 0.13707872371437055, 0.016126908672278888, 0.08332236147344092, 0.06988327091320852, 0.08332236147344092, 0.3601676270142285, 0.03494163545660426, 0.024348245731166666, 0.09739298292466667, 0.04869649146233333, 0.8034921091284999, 0.024348245731166666, 0.9641462070832325, 0.32079569018660664, 0.14535114292695217, 0.1588931748766682, 0.08817367469481778, 0.07794191722169899, 0.07974752148166113, 0.0493531831056318, 0.028287800072740177, 0.013842965993043065, 0.03761675541587789, 0.009383345690636927, 0.018766691381273855, 0.028150037071910782, 0.15951687674082776, 0.018766691381273855, 0.009383345690636927, 0.7412843095603173, 0.009383345690636927, 0.9601224067091917, 0.0347935740738657, 0.09568232870313066, 0.1391742962954628, 0.09568232870313066, 0.1391742962954628, 0.06088875462926497, 0.05219036111079855, 0.01739678703693285, 0.008698393518466425, 0.34793574073865696, 0.039601570757808784, 0.019800785378904392, 0.019800785378904392, 0.910836127429602, 0.9556063736446089, 0.08271553425461702, 0.9098708768007872, 0.8923979645949969, 0.018028241708989836, 0.08112708769045426, 0.13832023735795518, 0.040112868833807006, 0.016598428482954623, 0.2475932248707398, 0.016598428482954623, 0.011065618988636415, 0.09959057089772773, 0.4121943073267064, 0.0013832023735795519, 0.01521522610937507, 0.8593140161561341, 0.04898316366789944, 0.9306801096900894, 0.04194857447929229, 0.8949029222249022, 0.04194857447929229, 0.056154970616766574, 0.028077485308383287, 0.8984795298682652, 0.49312204896208756, 0.1109524610164697, 0.006164025612026094, 0.012328051224052188, 0.006164025612026094, 0.36984153672156567, 0.9027931902374521, 0.014753749762556454, 0.029507499525112908, 0.6786724890775968, 0.11802999810045163, 0.04426124928766936, 0.029507499525112908, 0.029507499525112908, 0.04426124928766936, 0.9142473055136172, 0.8789498699665524, 0.9300422968680732, 0.04894959457200385, 0.9682628983528856, 0.9562351414203828, 0.01385848031044033, 0.01385848031044033, 0.9070319702176612, 0.02160403296968516, 0.9073693847267768, 0.057610754585827095, 0.9599345764757053, 0.05105680035343297, 0.025528400176716485, 0.893494006185077, 0.10748757766035583, 0.1666968365410603, 0.08835843248351284, 0.4509012791684418, 0.07469475735719643, 0.019129145176842985, 0.00728729340070209, 0.05829834720561672, 0.019129145176842985, 0.00819820507578985, 0.02834569011164951, 0.9448563370549836, 0.009448563370549836, 0.9079628070888826, 0.03795881728789619, 0.025305878191930795, 0.11387645186368857, 0.79713516304582, 0.02196894515662126, 0.04393789031324252, 0.8238354433732973, 0.08787578062648504, 0.01098447257831063, 0.9684576081535496, 0.012258957065234805, 0.9313789315686809, 0.9483336473096985, 0.06393496678591097, 0.016824991259450254, 0.020189989511340305, 0.4778297517683872, 0.013459993007560204, 0.07402996154158112, 0.030284984267010456, 0.12786993357182194, 0.14805992308316224, 0.030284984267010456, 0.9759780555721167, 0.07070389282849093, 0.2563016115032796, 0.017675973207122733, 0.3711954373495774, 0.0022094966508903417, 0.004418993301780683, 0.13698879235520117, 0.0022094966508903417, 0.13698879235520117, 0.050476486144308025, 0.12220622961253522, 0.03453654315136865, 0.16205608709488367, 0.4808549469536712, 0.1381461726054746, 0.010626628661959585, 0.008231309293377464, 0.19755142304105913, 0.02469392788013239, 0.016462618586754928, 0.7325865271105942, 0.016462618586754928, 0.1744494392262546, 0.2842879750353779, 0.086578610578956, 0.054273158870390324, 0.0723642118271871, 0.1162996261508364, 0.10466966353575276, 0.0827019563739281, 0.0051688722733705065, 0.0193832710251394, 0.9305314105553026, 0.9315241330884215, 0.05158480438075546, 0.7608758646161431, 0.004298733698396289, 0.06448100547594432, 0.004298733698396289, 0.004298733698396289, 0.03438986958717031, 0.07737720657113319, 0.008306016196673227, 0.6395632471438385, 0.016612032393346455, 0.29901658308023615, 0.02491804859001968, 0.08804319252728979, 0.11352937983782105, 0.1899879417694148, 0.22242490743736368, 0.10426167536126422, 0.04054620708493609, 0.03359542872751847, 0.13785710408878268, 0.04054620708493609, 0.030120039548809666, 0.8832379722156376, 0.06794138247812596, 0.021539327943672026, 0.021539327943672026, 0.9261911015778971, 0.021539327943672026, 0.9777830876540339, 0.15430767031529077, 0.2021213146383386, 0.036946906976900604, 0.03477355950767116, 0.05216033926150673, 0.03260021203844171, 0.019560127223065025, 0.028253517099982816, 0.06737377154611286, 0.36946906976900606, 0.9210821693394362, 0.10085838794268193, 0.035898748250785095, 0.17949374125392548, 0.04615553346529512, 0.31283194904255585, 0.0991489237402636, 0.025641963036275067, 0.1760748128490888, 0.018804106226601718, 0.003418928404836676, 0.4436899461803599, 0.04130446946423771, 0.1385698330413136, 0.027980447056419094, 0.09060335237316659, 0.045301676186583296, 0.1425670397636592, 0.051963687390492605, 0.002664804481563723, 0.01598882688938234, 0.9124764611124181, 0.038019852546350756, 0.933304136298715, 0.05044887223236297, 0.012612218058090742, 0.012612218058090742, 0.8353581913341278, 0.9517204293457835, 0.8933982542794966, 0.010388351793947634, 0.07271846255763344, 0.010388351793947634, 0.9651112141654149, 0.22086100275933873, 0.046686065623925264, 0.08798527752201299, 0.13108010732871322, 0.10055460288230056, 0.0718247163445004, 0.059255390984212834, 0.17058370131818845, 0.0897808954306255, 0.02154741490335012, 0.03900577344885404, 0.9361385627724969, 0.18812277651056405, 0.15961932552411495, 0.08123483531137993, 0.16769530330360885, 0.1292156444719026, 0.11116345884715148, 0.06080736210442474, 0.038004601315265465, 0.0033254026150857283, 0.06128241962086556, 0.007352359557100927, 0.05881887645680742, 0.02205707867130278, 0.3431101126647099, 0.0024507865190336424, 0.04411415734260556, 0.1274408989897494, 0.11518696639458119, 0.2426278653843306, 0.03921258430453828, 0.9229658901235132, 0.9276689793235195, 0.9651808032202019, 0.017235371486075034, 0.05800472975077883, 0.6322515542834893, 0.0348028378504673, 0.12761040545171343, 0.011600945950155766, 0.011600945950155766, 0.029002364875389416, 0.023201891900311532, 0.06380520272585671, 0.9759258165437458, 0.9316972768915168, 0.05148371387428565, 0.2202358871288886, 0.034322475916190434, 0.2145154744761902, 0.3046119737561901, 0.035752579079365035, 0.05005361071111105, 0.04290309489523804, 0.01144082530539681, 0.034322475916190434, 0.018549691880092076, 0.964583977764788, 0.8934952732486862, 0.022910135211504774, 0.06873040563451432, 0.10974623012176624, 0.026986777898794976, 0.08096033369638493, 0.10434887454200724, 0.07016562253686694, 0.09715240043566191, 0.05757179285076261, 0.09895151896224824, 0.3346360459450577, 0.017991185265863317, 0.2992599403039892, 0.1191967558837923, 0.057062276752879296, 0.21683665166094132, 0.02155686010664329, 0.04564982140230344, 0.2117644492829076, 0.0076083035670505735, 0.0012680505945084288, 0.017752708323118004, 0.02987352508373637, 0.9559528026795638, 0.9214725622379807, 0.15252820528438524, 0.14279236239389256, 0.4527166944079094, 0.047056573970714596, 0.032452809634975585, 0.03569809059847314, 0.011358483372241454, 0.034075450116724366, 0.006490561926995117, 0.08599994553268529, 0.23911358978786657, 0.16867702845500665, 0.10565484199928987, 0.1334587477885767, 0.07599734249071728, 0.053754217859287835, 0.025950312070001022, 0.06116859273643098, 0.011121562315714723, 0.12789796663071934, 0.22995278578873274, 0.179285222818334, 0.1972137451001674, 0.11536614337875405, 0.03273904068856534, 0.07015508718978287, 0.03741604650121753, 0.03195953971978997, 0.06781658428345677, 0.03741604650121753, 0.020452211636992696, 0.020452211636992696, 0.08180884654797078, 0.8589928887536933, 0.1108208868954471, 0.8311566517158532, 0.8882493000815632, 0.3643810818676851, 0.10377942205092296, 0.10723873611928707, 0.15105671431856565, 0.08878906108801186, 0.06111454854109908, 0.045547635233460636, 0.03574624537309569, 0.005765523447273498, 0.036322797717823034, 0.04731523733326305, 0.898989509331998, 0.020679668643153223, 0.9719444262282015, 0.9806289393307317, 0.9430416225553561, 0.2053841914826116, 0.03850953590298968, 0.08985558377364258, 0.6546621103508246, 0.8317957951307803, 0.0268322722750949, 0.0536645445501898, 0.017888181516729933, 0.7334154421859272, 0.0268322722750949, 0.008944090758364966, 0.044720453791824835, 0.08944090758364967, 0.9580560637622089, 0.9213805891987389, 0.02779230375288323, 0.009264101250961077, 0.018528202501922154, 0.2316025312740269, 0.6021665813124699, 0.009264101250961077, 0.04632050625480538, 0.04632050625480538, 0.018528202501922154, 0.8843342375372056, 0.020329522702004728, 0.07115332945701654, 0.020329522702004728, 0.9704498660909417, 0.06129474692886767, 0.020431582309622554, 0.0068105274365408515, 0.08853685667503107, 0.17707371335006214, 0.05448421949232681, 0.013621054873081703, 0.020431582309622554, 0.4699263931213188, 0.08853685667503107, 0.9708774346938521, 0.9491755164111716, 0.9213960207478835, 0.9307864079383271, 0.9511164827550053, 0.754771719993148, 0.020965881110920778, 0.08386352444368311, 0.010482940555460389, 0.07338058388822272, 0.03669029194411136, 0.015724410833190584, 0.0052414702777301946, 0.8802984877011485, 0.011285878047450622, 0.09028702437960498, 0.05002693359658415, 0.07945454159457484, 0.020599325598593475, 0.05296969439638322, 0.11476767119216365, 0.03237036879778975, 0.02354208639839254, 0.008828282399397203, 0.6120942463582061, 0.008828282399397203, 0.19913517904028324, 0.7343109727110444, 0.0373378460700531, 0.012445948690017703, 0.012445948690017703, 0.34811403517047457, 0.16898035457233454, 0.15882702854652903, 0.07179851975391038, 0.08050137063317224, 0.058019005861745764, 0.027559027784329237, 0.058019005861745764, 0.005076663012902754, 0.023932839917970128, 0.9558564515663149, 0.9407883608814762, 0.4632250481729747, 0.1210735551919114, 0.13531750286154803, 0.02522365733164821, 0.05222780812200099, 0.07151648725796728, 0.016617938947909406, 0.07626446981451282, 0.0008902467293522897, 0.037390362632796166, 0.185024540889357, 0.7863542987797671, 0.3762422370710862, 0.14658788457315047, 0.15513884450658424, 0.020766616981196317, 0.21621712974539695, 0.032982274028958855, 0.019545051276420065, 0.02809601120985384, 0.001221565704776254, 0.003664697114328762, 0.33827634569298926, 0.15645280988300753, 0.141230374326823, 0.04059316148315871, 0.2232623881573729, 0.043975924940088604, 0.015222435556184516, 0.02959918024813656, 0.0008456908642324731, 0.010148290370789678, 0.22936921892339293, 0.1354107437017621, 0.17409952761655126, 0.1004066058740957, 0.08843150609094667, 0.08935266761272737, 0.054348529785060974, 0.04882156065437681, 0.02302903804451736, 0.056190852828622365, 0.4106422493050757, 0.10562763060159462, 0.0913857028800313, 0.026110200822866088, 0.09375935750029185, 0.048659919715341345, 0.08545156632937992, 0.04628626509508079, 0.008307791170911936, 0.08426473901924965, 0.029820136546071532, 0.0894604096382146, 0.059640273092143065, 0.8051436867439313, 0.9183161345615295, 0.9245679181200737, 0.04622839590600368, 0.13781359251744102, 0.3636286356785492, 0.014943642562132159, 0.12286994995530885, 0.02490607093688693, 0.023245666207761136, 0.27064597084750464, 0.006641618916503182, 0.003320809458251591, 0.0365289040407675, 0.0596734449376715, 0.8951016740650726, 0.021635856739725696, 0.06490757021917708, 0.021635856739725696, 0.8654342695890278, 0.9845812879543817, 0.05523554498854781, 0.027617772494273905, 0.027617772494273905, 0.027617772494273905, 0.8285331748282172, 0.24205579881065045, 0.1368141471538459, 0.07366915615976317, 0.1339697781901485, 0.0657049230614104, 0.08874431166735951, 0.09670854476571228, 0.07452246684887241, 0.06086949582312479, 0.02702150515512549, 0.46241550474003895, 0.05137950052667099, 0.068506000702228, 0.04130508865869629, 0.15514594276681046, 0.1329822366572661, 0.012089294241569647, 0.02216370610954435, 0.03626788272470894, 0.01813394136235447, 0.9303238164492145, 0.9624660305265555, 0.024678616167347577, 0.03247979274815783, 0.06495958549631566, 0.03247979274815783, 0.8119948187039457, 0.9143096787773538, 0.013250864909816721, 0.026501729819633443, 0.006625432454908361, 0.013250864909816721, 0.013250864909816721, 0.013250864909816721, 0.9283802284992004, 0.016683397741598452, 0.9676370690127103, 0.02741665939725881, 0.3564165721643645, 0.03289999127671057, 0.5318831923068209, 0.0054833318794517616, 0.04386665503561409, 0.0054833318794517616, 0.09673763968553613, 0.8061469973794677, 0.06449175979035741, 0.10460292141540439, 0.11731168756867782, 0.08114058390166883, 0.23071298555173306, 0.05376785680231067, 0.09091655786572532, 0.07723019431604623, 0.057678246387933264, 0.14077402508241338, 0.04496948023465983, 0.6174380302334285, 0.06966668040244436, 0.05327452030775157, 0.03141830684816119, 0.09425492054448356, 0.11884316068652274, 0.0027320266824487987, 0.010928106729795195, 0.0013660133412243993, 0.0013660133412243993, 0.9412794833162319, 0.9706738036783926, 0.054319327675269265, 0.0716027501174004, 0.007407181046627627, 0.18517952616569067, 0.007407181046627627, 0.024690603488758758, 0.32097784535386387, 0.17530328477018717, 0.13826737953704904, 0.014814362093255254, 0.04670730334729425, 0.7940241569040023, 0.14012191004188276, 0.96605831009781, 0.966536931511181, 0.008718532394450081, 0.16565211549455153, 0.05231119436670049, 0.0871853239445008, 0.017437064788900163, 0.05231119436670049, 0.061029726761150566, 0.06974825915560065, 0.0435926619722504, 0.43592661972250407, 0.01705807157084599, 0.27292914513353583, 0.0625462624264353, 0.045488190855589306, 0.05117421471253797, 0.022744095427794653, 0.48899805169758503, 0.005686023856948663, 0.01705807157084599, 0.022744095427794653, 0.9317222135815076, 0.9777297116849446, 0.020635928751388838, 0.03001589636565649, 0.03001589636565649, 0.29828297013371136, 0.005627980568560592, 0.05627980568560592, 0.16696342353396423, 0.12944355307689362, 0.21198726808244897, 0.05252781863989886, 0.018722918634246234, 0.967350796102722, 0.0062409728780820775, 0.9851487192802508, 0.9345603893790215, 0.12236344291785978, 0.09717096937594746, 0.06478064625063165, 0.08637419500084219, 0.043187097500421094, 0.3526946295867723, 0.01799462395850879, 0.03958817270871934, 0.12236344291785978, 0.05398387187552637, 0.18771398491506133, 0.06688659232605633, 0.11866976057848705, 0.04746790423139482, 0.12298502459952293, 0.02373395211569741, 0.0560984322734666, 0.13593081666263063, 0.23086662512542025, 0.006472896031553839, 0.9861929933606888, 0.12871203717011503, 0.8366282416057477, 0.9683589301148211, 0.9126428086503799, 0.9029340179001565, 0.6022774048053455, 0.018990728980348735, 0.010851845131627848, 0.0786758772043019, 0.024416651546162658, 0.002712961282906962, 0.26044428315906837, 0.018608159477027587, 0.018608159477027587, 0.03721631895405517, 0.7815426980351587, 0.13025711633919312, 0.020313053906786383, 0.95471353361896, 0.020313053906786383, 0.9634056573402879, 0.9662833871417719, 0.029320272659803037, 0.8796081797940911, 0.029320272659803037, 0.029320272659803037, 0.10476612064811941, 0.05079569485969426, 0.031747309287308914, 0.3682687877327834, 0.007936827321827229, 0.04444623300223248, 0.10159138971938853, 0.23175535779735507, 0.057145156717156045, 0.93322980858614, 0.03888457535775583, 0.9708849933132929, 0.0363061174951719, 0.9076529373792975, 0.0363061174951719, 0.9210206393390185, 0.05105628426353308, 0.007854812963620474, 0.01178221944543071, 0.8993760843345442, 0.003927406481810237, 0.01178221944543071, 0.01178221944543071, 0.9511542750085497, 0.030284635926627515, 0.09337762744043485, 0.03280835558717981, 0.3634156311195302, 0.012618598302761465, 0.06309299151380733, 0.35332075247732103, 0.002523719660552293, 0.02523719660552293, 0.02523719660552293, 0.006491992246002437, 0.01947597673800731, 0.02596796898400975, 0.6556912168462462, 0.03895195347601462, 0.07141191470602681, 0.1752837906420658, 0.9094718353383138, 0.9865422811926908, 0.07548259920310256, 0.01078322845758608, 0.07548259920310256, 0.09704905611827472, 0.7224763066582673, 0.01078322845758608, 0.11191328430419419, 0.07087841339265633, 0.02238265686083884, 0.20144391174754955, 0.02238265686083884, 0.033573985291258254, 0.48868800812831464, 0.02984354248111845, 0.0037304428101398064, 0.014921771240559226, 0.6743864584214302, 0.032763714579178795, 0.10238660805993373, 0.0013651547741324497, 0.1597231085734966, 0.019112166837854296, 0.005460619096529799, 0.0027303095482648994, 0.7610389658463775, 0.002571077587318843, 0.0038566163809782643, 0.06813355606394934, 0.15812127162010883, 0.0038566163809782643, 0.0012855387936594215, 0.34759080912073215, 0.14301913500280125, 0.2290116528842324, 0.021271833370669808, 0.06155253911512965, 0.05385847172573845, 0.02172442557004576, 0.07150956750140063, 0.006336290791263347, 0.04480662773821938, 0.9034115625461631, 0.05646322265913519, 0.7292109635199298, 0.04051172019555165, 0.06823026559250804, 0.0042643915995317526, 0.09808100678923032, 0.03411513279625402, 0.0042643915995317526, 0.01918976219789289, 0.2690951092675515, 0.18985237770410074, 0.11638776198381827, 0.09162440837023991, 0.10648242053838693, 0.07759184132254551, 0.040446810902177985, 0.059432048672588056, 0.014858012168147014, 0.035494140179462313, 0.951181356524206, 0.6026885184939952, 0.006868245225002794, 0.02060473567500838, 0.039492410043766066, 0.044643593962518165, 0.15110139495006147, 0.029190042206261875, 0.034341226125013974, 0.04807771657501956, 0.02060473567500838, 0.9621803037442394, 0.9251015716711984, 0.044052455793866595, 0.05295395597052205, 0.06258194796516242, 0.6932154236141068, 0.0722099399598028, 0.019255983989280745, 0.033697971981241304, 0.02406997998660093, 0.019255983989280745, 0.019255983989280745, 0.9819793117920854, 0.9688975780818367, 0.017627468923195475, 0.03525493784639095, 0.061696141231184165, 0.436279855849088, 0.04406867230798869, 0.026441203384793215, 0.36136311292550727, 0.008813734461597738, 0.013220601692396607, 0.025590009119255443, 0.9468303374124514, 0.010374108651875168, 0.010374108651875168, 0.020748217303750337, 0.010374108651875168, 0.9440438873206404, 0.0768785718850347, 0.03843928594251735, 0.8456642907353817, 0.016689453901802792, 0.967988326304562, 0.9733464230086352, 0.9346736192927892, 0.9418178417778765, 0.9525918505216322, 0.9745896584823319, 0.9314850288121487, 0.9620969860358293, 0.977592323049529, 0.9165343684128249, 0.03685022461709068, 0.4762182873593257, 0.06236191858276884, 0.06236191858276884, 0.017007795977118774, 0.008503897988559387, 0.17007795977118775, 0.0028346326628531293, 0.0765350818970345, 0.08503897988559388, 0.13757447062936703, 0.49010905161712004, 0.06878723531468352, 0.05159042648601264, 0.0286613480477848, 0.0143306740238924, 0.09171631375291135, 0.02579521324300632, 0.08885017894813288, 0.04166338205324521, 0.8749310231181494, 0.04166338205324521, 0.03155250241070927, 0.007888125602677317, 0.9150225699105687, 0.015776251205354634, 0.015776251205354634, 0.011330283514379593, 0.06798170108627756, 0.04909789522897824, 0.8120036518638709, 0.037767611714598644, 0.011330283514379593, 0.0037767611714598645, 0.007553522342919729, 0.9407562206638921, 0.09243367047156552, 0.04621683523578276, 0.02310841761789138, 0.02310841761789138, 0.7856861990083069, 0.0887261956235816, 0.03943386472159182, 0.8478280915142242, 0.009858466180397955, 0.8686765025047896, 0.11330563076149429, 0.23324977611230097, 0.1977069530856646, 0.3024842334662696, 0.04220710234413065, 0.11033084647851696, 0.06331065351619597, 0.008145230276937494, 0.025546404050394867, 0.0007404754797215903, 0.01592022281401419, 0.3092017016858538, 0.16545660065998474, 0.19240880710233518, 0.0471663612741133, 0.047915033675289695, 0.03443893045411447, 0.035936275256467275, 0.11604422218234224, 0.008235396412940417, 0.04342299926823129, 0.9277227917790436, 0.0978587739853619, 0.03261959132845397, 0.03261959132845397, 0.7828701918828952, 0.03261959132845397, 0.9714718176220334, 0.44636651225996704, 0.23152655542456235, 0.03963067164924941, 0.15122229971424117, 0.02815863511920353, 0.006257474470934118, 0.001042912411822353, 0.08969046741672236, 0.004171649647289412, 0.002085824823644706, 0.10007216596729625, 0.7805628945449107, 0.02001443319345925, 0.02001443319345925, 0.06004329958037775, 0.04027200746309406, 0.7551001399330137, 0.1912920354496968, 0.052208950137741475, 0.7831342520661221, 0.10441790027548295, 0.03480596675849432, 0.01740298337924716, 0.01740298337924716, 0.931632365061477, 0.9756492767540098, 0.010604883442978368, 0.005979212064623909, 0.28700217910194764, 0.07772975684011083, 0.011958424129247818, 0.13752187748634992, 0.029896060323119547, 0.11958424129247819, 0.3228774514896911, 0.9744466408277669, 0.03722480499720932, 0.1488992199888373, 0.8189457099386052, 0.3206809931103025, 0.0772009798228506, 0.3721483129922029, 0.06730341830710053, 0.04354927066930034, 0.0633443937008005, 0.005938536909450046, 0.04354927066930034, 0.005938536909450046, 0.047158012869673575, 0.896002244523798, 0.9663789191706726, 0.9803944093729554, 0.9831913781199343, 0.35360673922221436, 0.04053199777645935, 0.03633903248923942, 0.16771861148879733, 0.06149682421255902, 0.062894479308299, 0.0810639955529187, 0.08385930574439866, 0.0992335117975384, 0.012578895861659799, 0.3857872480938054, 0.13865703048848263, 0.12576601404851032, 0.02672527798530844, 0.15091921685821238, 0.04527576505746372, 0.05282172590037433, 0.04684784023307009, 0.010061281123880826, 0.016978411896548893, 0.9669998122201982, 0.4350682683268342, 0.14552543463965165, 0.07841785079027862, 0.08369597536270121, 0.06484553046119193, 0.05617432580649766, 0.0655995482572523, 0.024505578371962065, 0.024128569473931882, 0.022243524983780953, 0.9560309441177373, 0.9113201716179552, 0.008672906548793333, 0.09106551876232999, 0.030355172920776663, 0.6331221780619133, 0.008672906548793333, 0.22549557026862665, 0.8441652555004386, 0.01639155835923182, 0.06556623343692727, 0.049174675077695455, 0.01639155835923182, 0.8316662251283926, 0.9412268310276175, 0.9652617569816756, 0.3239243575075174, 0.08374629730682157, 0.33498518922728626, 0.02054154462242793, 0.07900594085549205, 0.07110534676994285, 0.004740356451329523, 0.04108308924485586, 0.0031602376342196817, 0.03792285161063618, 0.3924513662476463, 0.20694839804862225, 0.036993366490556824, 0.04181858820671641, 0.09650443432319172, 0.032704280520637195, 0.031095873281917333, 0.12545576462014923, 0.003216814477439724, 0.0337765520131171, 0.08167115042476733, 0.8983826546724406, 0.888464080863596, 0.9753568342924338, 0.03676466283281137, 0.05514699424921706, 0.018382331416405686, 0.8639695765710673, 0.9741244322155221, 0.9305374751881383, 0.9803637335804257, 0.07040120926472247, 0.035200604632361236, 0.8096139065443084, 0.035200604632361236, 0.009240989261310626, 0.09240989261310627, 0.1386148389196594, 0.009240989261310626, 0.046204946306553134, 0.6376282590304332, 0.009240989261310626, 0.046204946306553134, 0.9641329343690478, 0.9649923088186872, 0.8316061269400361, 0.9714866824119855, 0.950786441672255, 0.8318152451597656, 0.02096509649510226, 0.05031623158824543, 0.004193019299020452, 0.46123212289224974, 0.012579057897061357, 0.2348090807451453, 0.14675567546571583, 0.025158115794122714, 0.025158115794122714, 0.016772077196081807, 0.6125438082387026, 0.025973589041923782, 0.08874309589323959, 0.0010822328767468243, 0.178568424663226, 0.044371547946619794, 0.00757563013722777, 0.03354921917915155, 0.0010822328767468243, 0.00757563013722777, 0.0716161120456058, 0.8952014005700726, 0.01986328778585105, 0.01986328778585105, 0.059589863357553154, 0.01986328778585105, 0.059589863357553154, 0.059589863357553154, 0.7548049358623399, 0.01986328778585105, 0.13296464497157728, 0.19466024023838913, 0.328688602369739, 0.06595046390590233, 0.10956286745657967, 0.04573983787022258, 0.018083191716134508, 0.06382302958635709, 0.0117008887574988, 0.027656646154088072, 0.1130096181043024, 0.01883493635071707, 0.03766987270143414, 0.8099022630808339, 0.9732170925741027, 0.5764620876911944, 0.20859501568861405, 0.019009890592312118, 0.06679150748650203, 0.01592720563139664, 0.020551233072769858, 0.0005137808268192465, 0.08477383642517566, 0.0005137808268192465, 0.0066791507486502035, 0.9687641065818353, 0.026982794490824316, 0.1618967669449459, 0.10793117796329726, 0.7015526567614323, 0.27570921670588244, 0.06078628399814731, 0.3509684254654934, 0.020262094666049106, 0.1961081305178324, 0.06223357647429368, 0.004341877428439094, 0.02605126457063456, 0.0014472924761463647, 0.0014472924761463647, 0.4288014418244048, 0.06964292558633026, 0.04278065428874573, 0.10844398412728568, 0.10545928731644295, 0.05272964365822148, 0.0596939362168545, 0.12933686180318477, 0.000994898936947575, 0.00198979787389515, 0.968991892007592, 0.8353438051190919, 0.26712073579160217, 0.054995445604153384, 0.007856492229164768, 0.5892369171873577, 0.047138953374988614, 0.015712984458329537, 0.007856492229164768, 0.936511778774948, 0.9406201534369406, 0.12392307146445083, 0.15146153178988436, 0.10189230320410401, 0.07986153494375721, 0.03304615239052022, 0.08812307304138726, 0.27813844928687853, 0.05783076668341039, 0.030292306357976872, 0.049569228585780334, 0.9680726302820156, 0.943975100205132, 0.010605322875890819, 0.010605322875890819, 0.9650843817060645, 0.020727190393547694, 0.04145438078709539, 0.8498148061354555, 0.08290876157419078, 0.03444258755336021, 0.03444258755336021, 0.10332776266008063, 0.08036603762450716, 0.1262894876956541, 0.05740431258893368, 0.011480862517786737, 0.011480862517786737, 0.5396005383359767, 0.042216091209934296, 0.08443218241986859, 0.13267914380265064, 0.03015435086423878, 0.01809261051854327, 0.03015435086423878, 0.03015435086423878, 0.1507717543211939, 0.16886436483973719, 0.3075743788152356, 0.9199567560947994, 0.016293950611674466, 0.016293950611674466, 0.0488818518350234, 0.016293950611674466, 0.016293950611674466, 0.8961672836420957, 0.7799013693715532, 0.06077153527570544, 0.055707240669396654, 0.010128589212617573, 0.06077153527570544, 0.020257178425235146, 0.005064294606308787, 0.9463820900883859, 0.9165572102301235, 0.011053867320090137, 0.0055269336600450684, 0.10501173954085631, 0.04421546928036055, 0.7074475084857688, 0.0884309385607211, 0.016580800980135205, 0.016580800980135205, 0.1848178429715545, 0.19437738657353146, 0.054170747077869424, 0.19225304355086992, 0.11152800868973117, 0.054170747077869424, 0.08178720637246953, 0.053108575566538654, 0.060543776145854065, 0.01380822964730005, 0.01196204358619221, 0.005981021793096105, 0.03588613075857663, 0.9390204215160884, 0.005981021793096105, 0.018149122666202295, 0.03629824533240459, 0.12704385866341605, 0.018149122666202295, 0.7804122746466987, 0.015062492916930226, 0.10543745041851159, 0.09037495750158135, 0.12049994333544181, 0.030124985833860453, 0.6476871954279997, 0.06782387114751069, 0.10658036894608823, 0.022607957049170232, 0.14856657489454725, 0.03229708149881462, 0.03552678964869608, 0.08397241189691801, 0.006459416299762924, 0.28421431718956863, 0.209931029742295, 0.9069951016348992, 0.9029420884703788, 0.30889984779582175, 0.6646027028334346, 0.009360601448358234, 0.011731062327398362, 0.35193186982195085, 0.6217463033521132, 0.9589810022255528, 0.00251701050452901, 0.02013608403623208, 0.01006804201811604, 0.00503402100905802, 0.00251701050452901, 0.9700057431652099, 0.7581950959397653, 0.020058071321157812, 0.024069685585389376, 0.002674409509487708, 0.10162756136053291, 0.010697638037950832, 0.001337204754743854, 0.08023228528463125, 0.001337204754743854, 0.8596392748761414, 0.3245066884354033, 0.20081237425532014, 0.06184715709004157, 0.0885712373141336, 0.08398996641857497, 0.07635451492597725, 0.048103344403365667, 0.04733979925410589, 0.03970434776150817, 0.029014715671871354, 0.9070940647452986, 0.02890510631101743, 0.02890510631101743, 0.8960582956415403, 0.02890510631101743, 0.9376046904924759, 0.22117152074855453, 0.03686192012475909, 0.7003764823704227, 0.03584401185506411, 0.8961002963766028, 0.03584401185506411, 0.9463344763224897, 0.05976942639328841, 0.8965413958993261, 0.9664048641249222, 0.9615712314284388, 0.008355370824281784, 0.9023800490224327, 0.025066112472845355, 0.05848759576997249, 0.018012156339313773, 0.018012156339313773, 0.036024312678627546, 0.018012156339313773, 0.05403646901794132, 0.07204862535725509, 0.036024312678627546, 0.7204862535725509, 0.11763453682087895, 0.008207060708433415, 0.03829961663935594, 0.2352690736417579, 0.03009255593092252, 0.07386354637590073, 0.15866984036304602, 0.06565648566746732, 0.2653616295726804, 0.002735686902811138, 0.9435553169200929, 0.9407309372960293, 0.26127134236609306, 0.10195954824042656, 0.22622274765844644, 0.06478679627777105, 0.0562901672577355, 0.1051457841229399, 0.04035898784516885, 0.07434550392531104, 0.014869100785062208, 0.055228088630231056, 0.007660105959953718, 0.03064042383981487, 0.19150264899884295, 0.09192127151944461, 0.007660105959953718, 0.6357887946761586, 0.03064042383981487, 0.07087786469340435, 0.03543893234670217, 0.4040038287524048, 0.47488169344580916, 0.011176037586947542, 0.10058433828252789, 0.05588018793473771, 0.0782322631086328, 0.14528848863031804, 0.022352075173895085, 0.5811539545212722, 0.3636806166075309, 0.1723049839492902, 0.07494430369833205, 0.07795545875764003, 0.09869897138842837, 0.0578810916955868, 0.05386621828317616, 0.060557673970527234, 0.0267658227494043, 0.013048338590334597, 0.45817271883666716, 0.12032288143761098, 0.14817053522011484, 0.013398399461393363, 0.06331400529795687, 0.10035663910298558, 0.018389960045049714, 0.03231378693630164, 0.003415278294080661, 0.04229690810361434, 0.9088627358475235, 0.07384998087311297, 0.10083362773059656, 0.18746533606251756, 0.24285282171735229, 0.0298240307372187, 0.11787593100900724, 0.08663170833192099, 0.09799324385086144, 0.04402595013589427, 0.0198826871581458, 0.06669916129097589, 0.016674790322743972, 0.10004874193646382, 0.016674790322743972, 0.15007311290469574, 0.6336420322642708, 0.247269896636304, 0.12410032453515885, 0.13123609319593046, 0.12037731479910407, 0.07725245202313638, 0.08004470932517745, 0.05987840658821414, 0.05801690172018676, 0.05801690172018676, 0.04374536439864349, 0.03769733443080444, 0.8104926902622954, 0.056546001646206656, 0.01884866721540222, 0.07539466886160888, 0.8863374765195509, 0.09329868173890009, 0.21870416257425043, 0.14215770567326277, 0.19683374631682538, 0.10438153213771043, 0.06958768809180696, 0.12824016805490138, 0.05467604064356261, 0.029823294896488693, 0.014911647448244346, 0.04075850302520122, 0.9071164577782015, 0.02648747109714303, 0.022703546654694023, 0.030271395539592034, 0.32920142649306333, 0.0037839244424490042, 0.049191017751837054, 0.0037839244424490042, 0.09081418661877609, 0.4313673864391865, 0.011351773327347011, 0.3259001233693025, 0.10963001091933723, 0.1195963755483679, 0.1255761943257863, 0.10265355567901577, 0.034882276201607304, 0.052323414302410956, 0.05381836899676555, 0.06627632478305387, 0.008969728166127592, 0.8315773163471899, 0.9357087011425299, 0.9747806776224287, 0.02505483770224013, 0.04871773997657803, 0.013919354279022295, 0.4760419163425625, 0.009743547995315606, 0.09743547995315606, 0.18512741191099652, 0.012527418851120065, 0.0013919354279022295, 0.13084193022280957, 0.9708038834844104, 0.955768579979279, 0.09093307441786984, 0.02273326860446746, 0.8638642069697635, 0.9141965536193517, 0.0097254952512697, 0.058352971507618194, 0.0097254952512697, 0.015170015119450918, 0.015170015119450918, 0.0252833585324182, 0.40326956859207025, 0.005056671706483639, 0.026547526459039107, 0.43993043846407665, 0.0025283358532418197, 0.013905847192830008, 0.053095052918078214, 0.2590036023049235, 0.13569962035119418, 0.0959030970751228, 0.15722888704152785, 0.12395638397464852, 0.024138874774010503, 0.07763584048938513, 0.06002098592456665, 0.03196769902504094, 0.034577307108717745, 0.35448699589197696, 0.18083142300562388, 0.10404982672942643, 0.10692016677713474, 0.06171231102572878, 0.02439789040552068, 0.00645826510734371, 0.14423458739734285, 0.0014351700238541577, 0.015786870262395735, 0.9346939775613953, 0.8910586956474221, 0.9112732751989565, 0.09488187404289147, 0.013554553434698783, 0.27109106869397565, 0.027109106869397565, 0.5828457976920477, 0.09523183011392758, 0.05194463460759686, 0.01731487820253229, 0.008657439101266144, 0.05194463460759686, 0.727224884506356, 0.02597231730379843, 0.01731487820253229, 0.025609687783548763, 0.9475584479913042, 0.9276380727697722, 0.840433705509643, 0.07879065989152904, 0.026263553297176345, 0.026263553297176345, 0.24886216213518533, 0.16771145709110316, 0.0987333578036333, 0.054100470029388115, 0.16365392183889904, 0.15689136308522553, 0.06221554053379633, 0.031107770266898167, 0.008115070504408217, 0.00946758225514292, 0.08989144052505678, 0.04494572026252839, 0.026967432157517034, 0.18877202510261923, 0.05393486431503407, 0.05393486431503407, 0.503392066940318, 0.017978288105011356, 0.017978288105011356, 0.7873432420979773, 0.02499502355866595, 0.16246765313132866, 0.012497511779332974, 0.08788657125547628, 0.041945863553750046, 0.1498066555491073, 0.0719071946635715, 0.5393039599767863, 0.019974220739880973, 0.025966486961845264, 0.019974220739880973, 0.005992266221964292, 0.03595359733178575, 0.2798451795276619, 0.13038826965101005, 0.102558362294668, 0.11338110404435658, 0.08503582803326744, 0.08245898475953206, 0.09018951458073819, 0.045352441617742635, 0.0334989625585599, 0.038137280451283576, 0.8901860538416974, 0.07418217115347478, 0.9012745842182299, 0.940704018834307, 0.037542394092553825, 0.040223993670593386, 0.16625917383845265, 0.016089597468237352, 0.0026815995780395587, 0.7186686869146018, 0.013407997890197795, 0.005363199156079117, 0.0026815995780395587, 0.9767904439829465, 0.9555733648044091, 0.17592954537565283, 0.7740899996528724, 0.9576107118003946, 0.23446057360886077, 0.009569819330973908, 0.6842420821646344, 0.009569819330973908, 0.057418915985843456, 0.004784909665486954, 0.17021710765144932, 0.02836951794190822, 0.765976984431522, 0.042106316245683194, 0.040790493863005595, 0.44211632057967354, 0.0013158223826775998, 0.4236948072221871, 0.025000625270874394, 0.0184215133574864, 0.003947467148032799, 0.0013158223826775998, 0.0013158223826775998, 0.023364136459600202, 0.9579295948436083, 0.9811608756010589, 0.957648982974782, 0.9797363226938561, 0.13471543638682135, 0.13471543638682135, 0.6146391785148724, 0.008419714774176334, 0.03367885909670534, 0.050518288645058, 0.008419714774176334, 0.01683942954835267, 0.15315404235246774, 0.06891931905861048, 0.5973007651746242, 0.04594621270574032, 0.12252323388197418, 0.9510241165702763, 0.005766976412224027, 0.0663202287405763, 0.0663202287405763, 0.38350393141289774, 0.014417441030560066, 0.01730092923667208, 0.2681644031684172, 0.057669764122240265, 0.11533952824448053, 0.9528991632266193, 0.9248972724317183, 0.03189300939419718, 0.031566249743540775, 0.02367468730765558, 0.8365056182038305, 0.015783124871770388, 0.02367468730765558, 0.03945781217942597, 0.007891562435885194, 0.015783124871770388, 0.9679478776055009, 0.047117242000051476, 0.047117242000051476, 0.015705747333350492, 0.031411494666700984, 0.8481103560009267, 0.24074849384168456, 0.16576125805493036, 0.0513070560646213, 0.2723220668045284, 0.08551176010770217, 0.04209809728379184, 0.04999149052450281, 0.07893393240710969, 0.013155655401184949, 0.015471326613762186, 0.7271523508468227, 0.015471326613762186, 0.1082992862963353, 0.12377061291009749, 0.9682535391270997, 0.946240077502039, 0.292532996840777, 0.12871451860994187, 0.023402639747262158, 0.011701319873631079, 0.07020791924178647, 0.03510395962089324, 0.03510395962089324, 0.39784487570345667, 0.8992577391865496, 0.3659648752801047, 0.06342719984221896, 0.1625951234050534, 0.057889904617898266, 0.08658316168937828, 0.10369843783727864, 0.06745432364172493, 0.06846110459160143, 0.0010067809498764916, 0.022652571372221063, 0.11932891125373325, 0.18562275083914062, 0.026517535834162945, 0.05303507166832589, 0.1325876791708147, 0.4375393412636886, 0.006629383958540736, 0.026517535834162945, 0.013258767917081473, 0.18210946497957456, 0.19576767485304264, 0.4643791356979151, 0.004552736624489364, 0.02276368312244682, 0.027316419746936185, 0.013658209873468092, 0.027316419746936185, 0.05463283949387237, 0.017798606688976957, 0.07119442675590783, 0.3559721337795391, 0.5339582006693087, 0.043771339639411544, 0.9191981324276424, 0.03231220528986567, 0.2649600833768985, 0.025849764231892537, 0.006462441057973134, 0.012924882115946269, 0.019387323173919405, 0.529920166753797, 0.10986149798554329, 0.9080857785564171, 0.03632343114225669, 0.9714210312224077, 0.9766371573329908, 0.00996568527890807, 0.9650965200256947, 0.018528352795283424, 0.009264176397641712, 0.9634743453547381, 0.9436053870220387, 0.02696015391491539, 0.013480076957457695, 0.04729375267604827, 0.8985813008449172, 0.9312398104305977, 0.21166790918438694, 0.12170904778102248, 0.11200760194340476, 0.10230615610578701, 0.09084081102496606, 0.08731301253855961, 0.09172276064656767, 0.04586138032328384, 0.1014242064841854, 0.03527798486406449, 0.9182153510488527, 0.9499089648523272, 0.02378525533610505, 0.011892627668052526, 0.0475705106722101, 0.11892627668052526, 0.02378525533610505, 0.011892627668052526, 0.654094521742889, 0.011892627668052526, 0.0475705106722101, 0.0475705106722101, 0.1778974241153773, 0.19146258717428405, 0.09999463054851272, 0.13758951102605432, 0.0600742935465871, 0.07635248921727522, 0.1523174023471531, 0.02480486959342951, 0.0046509130487680335, 0.07480218486768588, 0.013533498948646633, 0.040600496845939894, 0.013533498948646633, 0.10826799158917307, 0.812009936918798, 0.058986129783591856, 0.07162601473721868, 0.021066474922711378, 0.16431850439714873, 0.06319942476813413, 0.021066474922711378, 0.14325202947443735, 0.1390387344898951, 0.3033572388870438, 0.0168531799381691, 0.6697831356457571, 0.03907068291266916, 0.05023373517343178, 0.02511686758671589, 0.047442972108241124, 0.03348915678228785, 0.01953534145633458, 0.02511686758671589, 0.04465220904305047, 0.047442972108241124, 0.04126367858004502, 0.9078009287609905, 0.863028979409263, 0.9685916423106976, 0.15582570709437993, 0.025970951182396656, 0.025970951182396656, 0.7791285354718996, 0.012985475591198328, 0.11999839405525607, 0.12749829368370957, 0.059999197027628036, 0.6224916691616409, 0.052499297399174534, 0.0074998996284535045, 0.03651097100778171, 0.03651097100778171, 0.9127742751945427, 0.9259503011581655, 0.9791554261506398, 0.9234360286516853, 0.011856513614393462, 0.008892385210795098, 0.5987539375268699, 0.21341724505908233, 0.06224669647556568, 0.02074889882518856, 0.04149779765037712, 0.04446192605397548, 0.9470881982080861, 0.02428431277456631, 0.9635449640612713, 0.9815369561554945, 0.9461173226613224, 0.0255924916884761, 0.15355495013085663, 0.03838873753271416, 0.5566366942243552, 0.08957372090966637, 0.006398122922119025, 0.04478686045483318, 0.07037935214330929, 0.006398122922119025, 0.01279624584423805, 0.07720169714677044, 0.01930042428669261, 0.03860084857338522, 0.07720169714677044, 0.7334161228943191, 0.01930042428669261, 0.9359597910195446, 0.02924874346936077, 0.012980867140755976, 0.9735650355566982, 0.06337059966264062, 0.015842649915660156, 0.7762898458673476, 0.015842649915660156, 0.11089854940962109, 0.015842649915660156, 0.10296994039297176, 0.05148497019648588, 0.01716165673216196, 0.01716165673216196, 0.8065978664116121, 0.9788646196754421, 0.8630893400126031, 0.8881922801168004, 0.03845322618358295, 0.012817742061194315, 0.7818822657328532, 0.06408871030597157, 0.05127096824477726, 0.03845322618358295, 0.9436540057161144, 0.9497798010541806, 0.9356728171908113, 0.03742691268763245, 0.4856012029196999, 0.07216101791638897, 0.05348404857332359, 0.07300997106834649, 0.20544666277371917, 0.04329661074983338, 0.025468594558725518, 0.03141126662242814, 0.003395812607830069, 0.006791625215660138, 0.6187130513097979, 0.049006974361172115, 0.037630355313042874, 0.042005978023861815, 0.11989206227643892, 0.014001992674620604, 0.09976419780667181, 0.009626369963801666, 0.0026253736264913634, 0.007000996337310302, 0.10985402345693905, 0.7964416700628082, 0.08239051759270428, 0.9593099428552568, 0.03780955580332328, 0.01890477790166164, 0.8885245613780971, 0.01890477790166164, 0.01890477790166164, 0.9701760878585212, 0.9445110830419262, 0.9853374083065176, 0.9317107299029872, 0.09729328521604519, 0.015566925634567231, 0.023350388451850848, 0.48257469467158415, 0.0038917314086418077, 0.015566925634567231, 0.16734445057159775, 0.13621059930246326, 0.05448423972098531, 0.07479277579275266, 0.07479277579275266, 0.018698193948188165, 0.018698193948188165, 0.7292295639793384, 0.07479277579275266, 0.9233235820935224, 0.8897790428994834, 0.9531028221487514, 0.0867204308204324, 0.0216801077051081, 0.0216801077051081, 0.845524200499216, 0.3283116060393992, 0.10936414647106821, 0.21916662619452548, 0.05040832402474086, 0.07802331892525106, 0.08722831722542114, 0.04821665776279561, 0.04668249137943393, 0.007889998543002917, 0.024984995386175903, 0.16804673414973673, 0.07882604540013423, 0.13079926214747548, 0.004331101395611771, 0.0320501503275271, 0.36987605918524524, 0.004331101395611771, 0.19403334252340734, 0.007795982512101188, 0.009528423070345897, 0.02147770884751632, 0.04295541769503264, 0.06443312654254896, 0.19329937962764687, 0.6658089742730059, 0.1708869047049031, 0.08021222057577083, 0.01569369533004212, 0.3871111514743723, 0.029643646734524007, 0.03225926262286436, 0.24673976546677334, 0.01569369533004212, 0.011334335516141531, 0.010462463553361414, 0.9170346860958994, 0.9637410823245395, 0.019163690475634054, 0.047909226189085136, 0.6515654761715578, 0.2491279761832427, 0.028745535713451082, 0.045616874466053725, 0.5912648728869271, 0.06842531169908059, 0.001754495171771297, 0.003508990343542594, 0.1877309833795288, 0.003508990343542594, 0.010526971030627783, 0.001754495171771297, 0.08772475858856486, 0.9279634202526452, 0.05681408695424359, 0.24237429986302608, 0.09346459929358522, 0.192473708714756, 0.11089020255171127, 0.06415790290491867, 0.10930605680097254, 0.05465302840048627, 0.06970241303250423, 0.026138404887189087, 0.03643535226699085, 0.9697385146300558, 0.024929159332732598, 0.12464579666366299, 0.049858318665465196, 0.7728039393147106, 0.8785615199019517, 0.010649230544266081, 0.010649230544266081, 0.010649230544266081, 0.010649230544266081, 0.0053246152721330405, 0.06921999853772953, 0.2597601139138748, 0.1684547877697608, 0.08564298033672713, 0.08741246340153554, 0.10192222453296451, 0.10510729404961966, 0.08139622098118694, 0.04529876645909534, 0.007785725485157012, 0.057331251299792545, 0.9013122559157342, 0.07381814590164011, 0.021090898829040035, 0.7170905601873612, 0.010545449414520017, 0.16872719063232028, 0.010545449414520017, 0.12219959118892061, 0.04364271113890022, 0.26622053794729134, 0.08728542227780044, 0.05237125336668026, 0.02618562668334013, 0.1003782356194705, 0.29240616463063146, 0.008728542227780044, 0.9214387310681218, 0.9486595512552946, 0.02760890124188095, 0.02760890124188095, 0.8834848397401904, 0.02760890124188095, 0.40309768560124065, 0.020496492488198678, 0.05807339538322959, 0.027328656650931572, 0.13664328325465785, 0.03757690289503091, 0.29036697691614793, 0.010248246244099339, 0.013664328325465786, 0.06704825214824277, 0.5319161337093926, 0.0491687182420447, 0.12068685386683699, 0.04469883476549518, 0.09386755300753988, 0.01787953390619807, 0.0759880191013418, 0.6133858340256362, 0.0746255762464424, 0.07826584825846397, 0.04186312813824817, 0.08008598426447476, 0.06006448819835607, 0.04004299213223738, 0.00910068003005395, 0.00182013600601079, 0.23403802608662957, 0.12281203349100364, 0.08805391080487053, 0.1401910948340702, 0.08341949444671945, 0.05561299629781297, 0.04981997585012412, 0.08226089035718168, 0.1204948253119281, 0.023172081790755403, 0.022460387316836188, 0.17219630276241077, 0.6214040490991346, 0.09732834503962348, 0.05989436617822984, 0.00748679577227873, 0.01497359154455746, 0.037077417297853923, 0.9454741410952751, 0.9313665426253742, 0.14621529046069753, 0.8447994559951413, 0.9687933521419655, 0.9275975070290038, 0.9436485672052616, 0.0908892317239881, 0.8634477013778871, 0.9770838082939675, 0.9356975507481724, 0.9736440782230426, 0.04697250283867468, 0.03131500189244978, 0.861162552042369, 0.01565750094622489, 0.04697250283867468, 0.9445497889865656, 0.2163853736081764, 0.1533012364747582, 0.09293039556213219, 0.12345497804604422, 0.1336298388740149, 0.07122402579579475, 0.08546883095495368, 0.04002111925668466, 0.03052458248391203, 0.05426592441584361, 0.18915077080959836, 0.06841623625028025, 0.08451417419152267, 0.20524870875084075, 0.01207345345593181, 0.06036726727965905, 0.036220360367795426, 0.02414690691186362, 0.28573839845705284, 0.03219587588248483, 0.04892388275185608, 0.0075267511925932425, 0.04516050715555946, 0.6096668466000527, 0.018816877981483106, 0.26719966733706013, 0.9715276789010543, 0.9568543757655791, 0.007463585201492204, 0.029854340805968816, 0.8807030537760802, 0.014927170402984408, 0.05970868161193763, 0.9344343622967057, 0.2208820167920373, 0.0105181912758113, 0.7573097718584136, 0.9214002445510981, 0.9346085817163979, 0.9161068774468492, 0.019491635690358493, 0.038983271380716986, 0.8848107717948791, 0.08562684888337539, 0.9553910731764026, 0.3157606331400473, 0.09510862443977328, 0.08274450326260276, 0.11413034932772793, 0.07989124452940956, 0.06847820959663677, 0.06277169213025037, 0.09415753819537555, 0.05896734715265944, 0.027581501087534252, 0.9516492782330269, 0.06917016685752957, 0.8992121691478844, 0.6718119028377936, 0.09123371520019419, 0.07464576698197706, 0.002764658036369521, 0.08570439912745514, 0.04146987054554281, 0.011058632145478083, 0.008293974109108562, 0.008293974109108562, 0.0430202738293689, 0.9464460242461157, 0.28842555436677475, 0.12537556217656376, 0.13587499349184248, 0.09634772265785195, 0.08831874576969762, 0.0815249960951055, 0.06299658789167242, 0.051261929362831485, 0.03396874837296062, 0.03520397558652283, 0.29452425752979633, 0.12622468179848415, 0.1769451018818933, 0.07550426171507499, 0.07435152489499751, 0.06397689351430018, 0.06455326192433893, 0.03688757824247938, 0.023054736401549616, 0.06455326192433893, 0.15251005654572078, 0.07080824053908465, 0.528338410176247, 0.029049534580137294, 0.12709171378810066, 0.036311918225171616, 0.0036311918225171618, 0.03994311004768878, 0.012709171378810067, 0.2664409921382317, 0.12679221922052292, 0.11570898327467301, 0.09841913519914716, 0.11349233608550303, 0.059849474107589486, 0.07713932218311534, 0.07226269836694138, 0.018619836389027842, 0.050982885350909564, 0.009514453948011703, 0.009514453948011703, 0.9704743026971937, 0.1043899475253428, 0.7437783761180674, 0.01304874344066785, 0.11743869096601064, 0.0260974868813357, 0.40844562856478495, 0.09855351839063191, 0.09535141851512402, 0.061017792072178244, 0.07275882494904053, 0.07738408032477416, 0.0540799090085778, 0.04785360369509022, 0.04073782619396157, 0.04376203163194125, 0.22741854892041383, 0.1583807751410025, 0.09015521046487834, 0.17381274810345915, 0.12426799280294042, 0.06497672826297538, 0.05766684633339065, 0.050356964403805916, 0.021117436685467, 0.03248836413148769, 0.9696687274084368, 0.19254167484186077, 0.021660938419709338, 0.2214229260681399, 0.021660938419709338, 0.07460989900122106, 0.2791854285206981, 0.09145729554988387, 0.08905052461436061, 0.00481354187104652, 0.00240677093552326, 0.03051444749468926, 0.9154334248406777, 0.9095237163548429, 0.9436059114120044, 0.9210709474325821, 0.9273976750833689, 0.12811270935978294, 0.05124508374391317, 0.11530143842380464, 0.05124508374391317, 0.5636959211830449, 0.006405635467989146, 0.025622541871956585, 0.006405635467989146, 0.05124508374391317, 0.00787432326434101, 0.2834756375162763, 0.06299458611472808, 0.11024052570077413, 0.49608236565348357, 0.03149729305736404, 0.00787432326434101, 0.010948344180487728, 0.010948344180487728, 0.120431785985365, 0.010948344180487728, 0.8101774693560918, 0.010948344180487728, 0.03284503254146318, 0.02980054705497267, 0.9238169587041527, 0.9013103966537727, 0.024612888980874728, 0.032817185307832966, 0.008204296326958242, 0.8860640033114902, 0.032817185307832966, 0.008204296326958242, 0.9775293065932692, 0.9465072973909591, 0.9472108616329803, 0.022028159572860008, 0.7869807727746971, 0.016310482337299422, 0.08155241168649711, 0.02038810292162428, 0.044853826427573414, 0.028543344090273988, 0.012232861752974566, 0.9834876082998192, 0.10516168657209982, 0.08412934925767986, 0.7992288179479586, 0.018919286740251687, 0.908125763532081, 0.018919286740251687, 0.037838573480503374, 0.9230573644762713, 0.01678286117229584, 0.05034858351688753, 0.03440849887957984, 0.01290318707984244, 0.03010743651963236, 0.4258051736348005, 0.00430106235994748, 0.00430106235994748, 0.01290318707984244, 0.4258051736348005, 0.0430106235994748, 0.949892928898345, 0.1739546275314875, 0.08978303356463871, 0.0766896745031289, 0.16460222820183765, 0.08230111410091882, 0.05237343624603925, 0.05050295638010928, 0.05985535570975914, 0.19827086578857717, 0.05237343624603925, 0.24195031423770114, 0.08913958945599516, 0.5666731043988263, 0.04456979472799758, 0.0063671135325710825, 0.03183556766285541, 0.0063671135325710825, 0.0063671135325710825, 0.11145509805969334, 0.04953559913764149, 0.016511866379213827, 0.3302373275842766, 0.09494323168047951, 0.3302373275842766, 0.008255933189606914, 0.024767799568820744, 0.033023732758427654, 0.9461438321327891, 0.9732052871134089, 0.13709416830779128, 0.14399819117221244, 0.19035377326189726, 0.1587925258816863, 0.06706765068294826, 0.06016362781852711, 0.0611499167991587, 0.07199909558610622, 0.08087569641179054, 0.028602380438316168, 0.0863701216482496, 0.8445078561162184, 0.019193360366277692, 0.038386720732555384, 0.2011708348699042, 0.15919994126395295, 0.15051630810410097, 0.08828360379182845, 0.08828360379182845, 0.057890887732346526, 0.028945443866173263, 0.13893813055763166, 0.03907634921933391, 0.047759982379185884, 0.9792783258107874, 0.04106351123895232, 0.02053175561947616, 0.903397247256951, 0.9462111955914543, 0.9182456266296409, 0.13014933768604003, 0.8589856287278642, 0.181110568383417, 0.008232298562882592, 0.14818137413188665, 0.012348447844323887, 0.5350994065873684, 0.057626089940178135, 0.028813044970089068, 0.024696895688647774, 0.9027480639115705, 0.05848346556564648, 0.9064937162675204, 0.9689149871166244, 0.8882526079400245, 0.054980609887081706, 0.8796897581933073, 0.9310271074908295, 0.030033132499704178, 0.9347145027569632, 0.8353608145974434, 0.9229817945989105, 0.054293046741112384, 0.9284759095021263, 0.9546266078676724, 0.9659351725942213, 0.02061955148076438, 0.9691189195959259, 0.9601142355559171, 0.9554504922386462, 0.9719917721164923, 0.9634791587737908, 0.024341498909905966, 0.8762939607566148, 0.0730244967297179, 0.9686450779690466, 0.9314307419149186, 0.9638454595262171, 0.9678859146703374, 0.918321811389039, 0.9637933258620502, 0.8994564780620551, 0.9125604140849926, 0.8910545535731172, 0.9213244662251688, 0.9439452913034193, 0.9700843567862684, 0.966763491698535, 0.9603346655995415, 0.9711642557991402, 0.9866437901859325, 0.049039120946015216, 0.9072237375012816, 0.012259780236503804, 0.012259780236503804], \"Term\": [\"acceleration\", \"acceleration\", \"acceleration\", \"acceleration\", \"acceleration\", \"acceleration\", \"acceleration\", \"acceleration\", \"accuracy\", \"accuracy\", \"accuracy\", \"accuracy\", \"accuracy\", \"accuracy\", \"accuracy\", \"accuracy\", \"accuracy\", \"accuracy\", \"acoustic\", \"acoustic\", \"acoustic\", \"acoustic\", \"acoustic\", \"acoustic\", \"acoustic\", \"acoustic\", \"activity\", \"activity\", \"activity\", \"activity\", \"activity\", \"activity\", \"activity\", \"activity\", \"activity\", \"actuated\", \"aembpf\", \"af\", \"af\", \"agent\", \"agent\", \"agent\", \"agent\", \"agent\", \"agent\", \"agent\", \"agv\", \"agv\", \"agvs\", \"agvs\", \"agvs\", \"al\", \"al\", \"al\", \"al\", \"al\", \"al\", \"al\", \"al\", \"al\", \"al\", \"alencar\", \"alfonso\", \"algorithm\", \"algorithm\", \"algorithm\", \"algorithm\", \"algorithm\", \"algorithm\", \"algorithm\", \"algorithm\", \"algorithm\", \"algorithm\", \"anc\", \"anc\", \"anc\", \"anchor\", \"anchor\", \"anchor\", \"anchor\", \"anchor\", \"anchor\", \"anchor\", \"anchor\", \"anchor\", \"anchor\", \"ancs\", \"antenna\", \"antenna\", \"antenna\", \"antenna\", \"antenna\", \"antenna\", \"antenna\", \"antenna\", \"antenna\", \"antenna\", \"ape\", \"ape\", \"ape\", \"aperture\", \"aperture\", \"aperture\", \"aperture\", \"aperture\", \"aperture\", \"array\", \"array\", \"array\", \"array\", \"array\", \"array\", \"array\", \"array\", \"array\", \"artifact\", \"artifact\", \"artifact\", \"association\", \"association\", \"association\", \"association\", \"association\", \"association\", \"association\", \"association\", \"asti\", \"auam\", \"auckland\", \"auckland\", \"autofocus\", \"autofocus\", \"awg\", \"b\", \"b\", \"b\", \"b\", \"b\", \"b\", \"background\", \"background\", \"background\", \"background\", \"background\", \"background\", \"background\", \"background\", \"background\", \"background\", \"bahillo\", \"bahillo\", \"bahillo\", \"bahillo\", \"balun\", \"balun\", \"balun\", \"balun\", \"band\", \"band\", \"band\", \"band\", \"band\", \"band\", \"band\", \"band\", \"band\", \"band\", \"bandpass\", \"bandpass\", \"bandpass\", \"bandpass\", \"bandpass\", \"barua\", \"based\", \"based\", \"based\", \"based\", \"based\", \"based\", \"based\", \"based\", \"based\", \"based\", \"beam\", \"beam\", \"beam\", \"beam\", \"beam\", \"beam\", \"beam\", \"beam\", \"beampattern\", \"behavior\", \"behavior\", \"behavior\", \"behavior\", \"behavior\", \"behavior\", \"behavior\", \"behavior\", \"behavior\", \"behavior\", \"belief\", \"belief\", \"belief\", \"belief\", \"bending\", \"bilbao\", \"bilbao\", \"bn\", \"bn\", \"bn\", \"body\", \"body\", \"body\", \"body\", \"body\", \"body\", \"body\", \"body\", \"body\", \"body\", \"boost\", \"breath\", \"breath\", \"breathing\", \"breathing\", \"breathing\", \"broadside\", \"broadside\", \"broadside\", \"bs\", \"bs\", \"bs\", \"bs\", \"bs\", \"bs\", \"bv\", \"cable\", \"cable\", \"cable\", \"cable\", \"cable\", \"cable\", \"cable\", \"cable\", \"cadenas\", \"canceling\", \"capacitance\", \"capacitance\", \"capsnet\", \"capsule\", \"capsule\", \"capsule\", \"casta\\u00f1o\", \"cavity\", \"cavity\", \"cavity\", \"cfar\", \"cg\", \"cg\", \"cg\", \"channel\", \"channel\", \"channel\", \"channel\", \"channel\", \"channel\", \"channel\", \"channel\", \"channel\", \"channel\", \"character\", \"character\", \"character\", \"chebyshev\", \"chest\", \"chest\", \"chest\", \"chest\", \"child\", \"child\", \"child\", \"child\", \"child\", \"chipless\", \"chipless\", \"chromosome\", \"cin\", \"circuit\", \"circuit\", \"circuit\", \"circuit\", \"circuit\", \"circuit\", \"circuit\", \"circuit\", \"circuit\", \"circuit\", \"circuited\", \"classification\", \"classification\", \"classification\", \"classification\", \"classification\", \"classification\", \"classification\", \"classification\", \"classification\", \"clock\", \"clock\", \"clock\", \"clock\", \"clock\", \"clock\", \"clock\", \"clutter\", \"clutter\", \"clutter\", \"clutter\", \"clutter\", \"clutter\", \"cm\", \"cm\", \"cm\", \"cm\", \"cm\", \"cm\", \"cm\", \"cm\", \"cm\", \"cm\", \"cmrs\", \"cnd\", \"cnn\", \"cnn\", \"cnn\", \"cnn\", \"cnn\", \"cnn\", \"cnn\", \"cnn\", \"coherent\", \"coherent\", \"coherent\", \"coherent\", \"coherent\", \"communication\", \"communication\", \"communication\", \"communication\", \"communication\", \"communication\", \"communication\", \"communication\", \"communication\", \"communication\", \"comparator\", \"comparator\", \"compression\", \"compression\", \"compression\", \"compression\", \"compressor\", \"configuration\", \"configuration\", \"configuration\", \"configuration\", \"configuration\", \"configuration\", \"configuration\", \"configuration\", \"configuration\", \"configuration\", \"container\", \"control\", \"control\", \"control\", \"control\", \"control\", \"control\", \"control\", \"control\", \"control\", \"control\", \"coordinate\", \"coordinate\", \"coordinate\", \"coordinate\", \"coordinate\", \"coordinate\", \"coordinate\", \"coordinate\", \"coordinate\", \"coordinate\", \"corrective\", \"corrective\", \"crlb\", \"crlb\", \"crlb\", \"crlb\", \"crossover\", \"ctra\", \"cu\", \"cu\", \"cu\", \"cu\", \"cuav\", \"current\", \"current\", \"current\", \"current\", \"current\", \"current\", \"current\", \"current\", \"current\", \"current\", \"dac\", \"dac\", \"data\", \"data\", \"data\", \"data\", \"data\", \"data\", \"data\", \"data\", \"data\", \"data\", \"db\", \"db\", \"db\", \"db\", \"db\", \"db\", \"db\", \"db\", \"db\", \"db\", \"dbl\", \"dco\", \"decoding\", \"decoding\", \"deep\", \"deep\", \"deep\", \"deep\", \"deep\", \"deep\", \"deep\", \"deep\", \"deep\", \"deeptal\", \"defocused\", \"delay\", \"delay\", \"delay\", \"delay\", \"delay\", \"delay\", \"delay\", \"delay\", \"delay\", \"delay\", \"dementia\", \"dementia\", \"demodulation\", \"demodulation\", \"demodulation\", \"design\", \"design\", \"design\", \"design\", \"design\", \"design\", \"design\", \"design\", \"design\", \"design\", \"detection\", \"detection\", \"detection\", \"detection\", \"detection\", \"detection\", \"detection\", \"detection\", \"detection\", \"detection\", \"deusto\", \"deusto\", \"deustotech\", \"device\", \"device\", \"device\", \"device\", \"device\", \"device\", \"device\", \"device\", \"device\", \"device\", \"difference\", \"difference\", \"difference\", \"difference\", \"difference\", \"difference\", \"difference\", \"difference\", \"difference\", \"difference\", \"different\", \"different\", \"different\", \"different\", \"different\", \"different\", \"different\", \"different\", \"different\", \"different\", \"dipole\", \"dipole\", \"dipole\", \"dipole\", \"disease\", \"disease\", \"disorder\", \"distance\", \"distance\", \"distance\", \"distance\", \"distance\", \"distance\", \"distance\", \"distance\", \"distance\", \"distance\", \"divider\", \"divider\", \"dln\", \"dln\", \"dmc\", \"dmin\", \"dop\", \"dop\", \"dop\", \"dop\", \"doped\", \"doppler\", \"doppler\", \"doppler\", \"doppler\", \"doppler\", \"doppler\", \"doppler\", \"doppler\", \"downstairs\", \"drikas\", \"drone\", \"drone\", \"drone\", \"drone\", \"drone\", \"drone\", \"drone\", \"drone\", \"drone\", \"dropout\", \"dropout\", \"dropout\", \"dropout\", \"dscls\", \"dual\", \"dual\", \"dual\", \"dual\", \"dual\", \"dual\", \"dual\", \"dual\", \"dual\", \"dual\", \"edm\", \"eemd\", \"eest\", \"efim\", \"eigenspectrum\", \"ekf\", \"ekf\", \"ekf\", \"ekf\", \"ekf\", \"ekf\", \"ekf\", \"ekf\", \"elderly\", \"elderly\", \"elderly\", \"element\", \"element\", \"element\", \"element\", \"element\", \"element\", \"element\", \"element\", \"element\", \"element\", \"entropy\", \"entropy\", \"entropy\", \"entropy\", \"entropy\", \"environment\", \"environment\", \"environment\", \"environment\", \"environment\", \"environment\", \"environment\", \"environment\", \"environment\", \"environment\", \"equilibrium\", \"erlangen\", \"error\", \"error\", \"error\", \"error\", \"error\", \"error\", \"error\", \"error\", \"error\", \"error\", \"eskf\", \"eskf\", \"estimate\", \"estimate\", \"estimate\", \"estimate\", \"estimate\", \"estimate\", \"estimate\", \"estimate\", \"estimate\", \"estimate\", \"estimation\", \"estimation\", \"estimation\", \"estimation\", \"estimation\", \"estimation\", \"estimation\", \"estimation\", \"estimation\", \"estimation\", \"et\", \"et\", \"et\", \"et\", \"et\", \"et\", \"et\", \"et\", \"et\", \"et\", \"experiment\", \"experiment\", \"experiment\", \"experiment\", \"experiment\", \"experiment\", \"experiment\", \"experiment\", \"experiment\", \"experiment\", \"falcone\", \"falcone\", \"falcone\", \"falcone\", \"fau\", \"fce\", \"fce\", \"feature\", \"feature\", \"feature\", \"feature\", \"feature\", \"feature\", \"feature\", \"feature\", \"feature\", \"feature\", \"feedforward\", \"feedforward\", \"feeding\", \"feeding\", \"feeding\", \"feeding\", \"fga\", \"fiber\", \"fiber\", \"fiber\", \"fiber\", \"fiber\", \"fig\", \"fig\", \"fig\", \"fig\", \"fig\", \"fig\", \"fig\", \"fig\", \"fig\", \"fig\", \"filter\", \"filter\", \"filter\", \"filter\", \"filter\", \"filter\", \"filter\", \"filter\", \"filter\", \"filter\", \"fleet\", \"flock\", \"flock\", \"fm\", \"fm\", \"fm\", \"fm\", \"foot\", \"foot\", \"foot\", \"foot\", \"foot\", \"foot\", \"foot\", \"fore\", \"forklift\", \"forklift\", \"formation\", \"formation\", \"formation\", \"formation\", \"formation\", \"formation\", \"formation\", \"fpga\", \"fpga\", \"fpga\", \"frequency\", \"frequency\", \"frequency\", \"frequency\", \"frequency\", \"frequency\", \"frequency\", \"frequency\", \"frequency\", \"frequency\", \"fusion\", \"fusion\", \"fusion\", \"fusion\", \"fusion\", \"fusion\", \"fusion\", \"fusion\", \"fusion\", \"fusion\", \"fvpief\", \"f\\u02c6\", \"gain\", \"gain\", \"gain\", \"gain\", \"gain\", \"gain\", \"gain\", \"gain\", \"gain\", \"gain\", \"gating\", \"gating\", \"gating\", \"gbm\", \"gcc\", \"generation\", \"generation\", \"generation\", \"generation\", \"generation\", \"generation\", \"generation\", \"generation\", \"generation\", \"generation\", \"geometry\", \"geometry\", \"geometry\", \"geometry\", \"geometry\", \"geometry\", \"geometry\", \"geometry\", \"geometry\", \"geometry\", \"geoscience\", \"ghost\", \"ghz\", \"ghz\", \"ghz\", \"ghz\", \"ghz\", \"ghz\", \"ghz\", \"ghz\", \"ghz\", \"ghz\", \"gm\", \"gm\", \"gm\", \"gmm\", \"gnm\", \"good\", \"good\", \"good\", \"good\", \"good\", \"good\", \"good\", \"good\", \"good\", \"good\", \"ground\", \"ground\", \"ground\", \"ground\", \"ground\", \"ground\", \"ground\", \"ground\", \"ground\", \"ground\", \"gru\", \"guilin\", \"guilin\", \"gym\", \"g\\u00fcler\", \"hainan\", \"heading\", \"heading\", \"heading\", \"heading\", \"heading\", \"heading\", \"heading\", \"heart\", \"heart\", \"heart\", \"heart\", \"heart\", \"heartbeat\", \"heartbeat\", \"heartbeat\", \"heteroscedastic\", \"homoscedastic\", \"hop\", \"hop\", \"hop\", \"hop\", \"human\", \"human\", \"human\", \"human\", \"human\", \"human\", \"human\", \"human\", \"human\", \"ian\", \"ian\", \"idx\", \"iekf\", \"iekf\", \"iekf\", \"iip\", \"ij\", \"ij\", \"ij\", \"ij\", \"ij\", \"ij\", \"ij\", \"ilro\", \"image\", \"image\", \"image\", \"image\", \"image\", \"image\", \"image\", \"image\", \"image\", \"image\", \"imaging\", \"imaging\", \"imaging\", \"imaging\", \"imaging\", \"imaging\", \"imaging\", \"imf\", \"imm\", \"impedance\", \"impedance\", \"impedance\", \"impedance\", \"impedance\", \"impedance\", \"impulse\", \"impulse\", \"impulse\", \"impulse\", \"impulse\", \"impulse\", \"impulse\", \"impulse\", \"impulse\", \"impulse\", \"imu\", \"imu\", \"imu\", \"imu\", \"imu\", \"imu\", \"imu\", \"imu\", \"in\", \"in\", \"in\", \"in\", \"in\", \"in\", \"in\", \"indoor\", \"indoor\", \"indoor\", \"indoor\", \"indoor\", \"indoor\", \"indoor\", \"indoor\", \"indoor\", \"indoor\", \"inductor\", \"inductor\", \"inertial\", \"inertial\", \"inertial\", \"inertial\", \"inertial\", \"inertial\", \"inertial\", \"inertial\", \"information\", \"information\", \"information\", \"information\", \"information\", \"information\", \"information\", \"information\", \"information\", \"information\", \"injection\", \"integrated\", \"integrated\", \"integrated\", \"integrated\", \"integrated\", \"integrated\", \"integrated\", \"integrated\", \"integrated\", \"integrated\", \"interagent\", \"interrogation\", \"interrogation\", \"iot\", \"iot\", \"iot\", \"iot\", \"iot\", \"iot\", \"iot\", \"iot\", \"iot\", \"ipda\", \"ipn\", \"ir\", \"ir\", \"ir\", \"ir\", \"ir\", \"ir\", \"ir\", \"ir\", \"ir\", \"isar\", \"isar\", \"isolation\", \"isolation\", \"isolation\", \"isolation\", \"isolation\", \"iturri\", \"iturri\", \"iturri\", \"jammer\", \"jammer\", \"jf\", \"jft\", \"jlas\", \"kar\\u00e1sek\", \"kest\", \"kq\", \"landmine\", \"laneway\", \"lapping\", \"layer\", \"layer\", \"layer\", \"layer\", \"layer\", \"layer\", \"layer\", \"layer\", \"layer\", \"layer\", \"learning\", \"learning\", \"learning\", \"learning\", \"learning\", \"learning\", \"learning\", \"learning\", \"learning\", \"lf\", \"lf\", \"lf\", \"limb\", \"limb\", \"limb\", \"limb\", \"limb\", \"link\", \"link\", \"link\", \"link\", \"link\", \"link\", \"link\", \"link\", \"litell\", \"lm\", \"lm\", \"lm\", \"lm\", \"lm\", \"lna\", \"lna\", \"lna\", \"lna\", \"loading\", \"loading\", \"localization\", \"localization\", \"localization\", \"localization\", \"localization\", \"localization\", \"localization\", \"localization\", \"localization\", \"localization\", \"location\", \"location\", \"location\", \"location\", \"location\", \"location\", \"location\", \"location\", \"location\", \"location\", \"locking\", \"lopez\", \"lopez\", \"lopez\", \"lopez\", \"lopez\", \"lora\", \"los\", \"los\", \"los\", \"los\", \"los\", \"los\", \"los\", \"los\", \"los\", \"los\", \"lr\", \"lr\", \"lr\", \"lr\", \"lr\", \"lstm\", \"lstm\", \"lstm\", \"lte\", \"lte\", \"lte\", \"lte\", \"lte\", \"lte\", \"luis\", \"lvm\", \"lvm\", \"m\", \"m\", \"m\", \"m\", \"m\", \"m\", \"m\", \"m\", \"ma\", \"mae\", \"mae\", \"mae\", \"map\", \"map\", \"map\", \"map\", \"map\", \"map\", \"map\", \"map\", \"map\", \"marchand\", \"marchand\", \"marquardt\", \"mbl\", \"mcl\", \"measured\", \"measured\", \"measured\", \"measured\", \"measured\", \"measured\", \"measured\", \"measured\", \"measured\", \"measured\", \"measurement\", \"measurement\", \"measurement\", \"measurement\", \"measurement\", \"measurement\", \"measurement\", \"measurement\", \"measurement\", \"measurement\", \"meshed\", \"method\", \"method\", \"method\", \"method\", \"method\", \"method\", \"method\", \"method\", \"method\", \"method\", \"mfa\", \"midair\", \"mimo\", \"mimo\", \"mimo\", \"mimo\", \"mimo\", \"mimo\", \"mining\", \"mining\", \"mining\", \"mining\", \"mining\", \"misclassified\", \"mle\", \"mnmapf\", \"mobile\", \"mobile\", \"mobile\", \"mobile\", \"mobile\", \"mobile\", \"mobile\", \"mobile\", \"mobile\", \"mobile\", \"model\", \"model\", \"model\", \"model\", \"model\", \"model\", \"model\", \"model\", \"model\", \"model\", \"modulator\", \"modulator\", \"modulators\", \"monocycle\", \"mpc\", \"mpc\", \"mpc\", \"mpc\", \"mppm\", \"msagec\", \"mslm\", \"mt\", \"mt\", \"mt\", \"mt\", \"mtt\", \"mtt\", \"mtt\", \"mtt\", \"mtt\", \"mtt\", \"mtt\", \"mtt\", \"mui\", \"multihop\", \"mvl\", \"mwsn\", \"mwt\", \"mzi\", \"n\", \"n\", \"n\", \"n\", \"n\", \"n\", \"n\", \"n\", \"n\", \"n\", \"navigation\", \"navigation\", \"navigation\", \"navigation\", \"navigation\", \"navigation\", \"navigation\", \"navigation\", \"navigation\", \"navigation\", \"nbi\", \"nbi\", \"nc\", \"nc\", \"nc\", \"nc\", \"nc\", \"nc\", \"nc\", \"nc\", \"network\", \"network\", \"network\", \"network\", \"network\", \"network\", \"network\", \"network\", \"network\", \"network\", \"nf\", \"nf\", \"nf\", \"nf\", \"nfi\", \"nlos\", \"nlos\", \"nlos\", \"nlos\", \"nlos\", \"nlos\", \"nlos\", \"nlos\", \"nlos\", \"nlos\", \"nls\", \"nn\", \"nn\", \"nn\", \"nn\", \"node\", \"node\", \"node\", \"node\", \"node\", \"node\", \"node\", \"node\", \"node\", \"node\", \"noise\", \"noise\", \"noise\", \"noise\", \"noise\", \"noise\", \"noise\", \"noise\", \"noise\", \"noise\", \"noising\", \"nomoto\", \"nt\", \"nt\", \"nt\", \"nt\", \"nt\", \"nt\", \"nt\", \"numns\", \"nva\", \"object\", \"object\", \"object\", \"object\", \"object\", \"object\", \"object\", \"object\", \"object\", \"object\", \"obtr\", \"od\", \"odometer\", \"odometer\", \"odometer\", \"onboard\", \"onboard\", \"onboard\", \"onboard\", \"optical\", \"optical\", \"optical\", \"optical\", \"optical\", \"optical\", \"optical\", \"optical\", \"optical\", \"optimized\", \"optimized\", \"optimized\", \"optimized\", \"optimized\", \"optimized\", \"optimized\", \"optimized\", \"optimized\", \"optimized\", \"osr\", \"otim\", \"otim\", \"otim\", \"otim\", \"otim\", \"otim\", \"outlier\", \"outlier\", \"outlier\", \"outlier\", \"outlier\", \"outlier\", \"outlier\", \"p_\", \"pacing\", \"packet\", \"packet\", \"packet\", \"packet\", \"packet\", \"packet\", \"packet\", \"packet\", \"parameter\", \"parameter\", \"parameter\", \"parameter\", \"parameter\", \"parameter\", \"parameter\", \"parameter\", \"parameter\", \"parameter\", \"parent\", \"parent\", \"parent\", \"parent\", \"parent\", \"participant\", \"participant\", \"participant\", \"participant\", \"participant\", \"patient\", \"patient\", \"patient\", \"patient\", \"patient\", \"patient\", \"pattern\", \"pattern\", \"pattern\", \"pattern\", \"pattern\", \"pattern\", \"pattern\", \"pattern\", \"pattern\", \"pattern\", \"pattern_\", \"pdi\", \"pdoa\", \"pdoa\", \"pdoa\", \"pdop\", \"pdop\", \"pdop\", \"pdr\", \"pdr\", \"pdr\", \"pdr\", \"pdr\", \"pdr\", \"peb\", \"pedestrian\", \"pedestrian\", \"pedestrian\", \"pedestrian\", \"pedestrian\", \"pedestrian\", \"pedestrian\", \"pedestrian\", \"pedestrian\", \"peio\", \"performance\", \"performance\", \"performance\", \"performance\", \"performance\", \"performance\", \"performance\", \"performance\", \"performance\", \"performance\", \"perret\", \"phased\", \"phased\", \"phased\", \"phased\", \"photonic\", \"photonics\", \"photonics\", \"photonics\", \"physiological\", \"physiological\", \"physiological\", \"piccinni\", \"pid\", \"pid\", \"piic\", \"pkf\", \"pl\", \"pl\", \"pl\", \"pl\", \"planar\", \"planar\", \"planar\", \"planar\", \"planar\", \"planar\", \"planar\", \"planar\", \"plane\", \"plane\", \"plane\", \"plane\", \"plane\", \"plane\", \"plane\", \"plane\", \"plane\", \"plane\", \"pmu\", \"pochanin\", \"point\", \"point\", \"point\", \"point\", \"point\", \"point\", \"point\", \"point\", \"point\", \"point\", \"polarization\", \"polarization\", \"polarization\", \"polarization\", \"polarization\", \"polarization\", \"polarization\", \"polarized\", \"polarized\", \"polarized\", \"polarized\", \"port\", \"port\", \"port\", \"port\", \"port\", \"port\", \"port\", \"position\", \"position\", \"position\", \"position\", \"position\", \"position\", \"position\", \"position\", \"position\", \"position\", \"positioning\", \"positioning\", \"positioning\", \"positioning\", \"positioning\", \"positioning\", \"positioning\", \"positioning\", \"positioning\", \"positioning\", \"postural\", \"power\", \"power\", \"power\", \"power\", \"power\", \"power\", \"power\", \"power\", \"power\", \"power\", \"pozyx\", \"pozyx\", \"pozyx\", \"pozyx\", \"pozyx\", \"pozyx\", \"pp\", \"pp\", \"pp\", \"pp\", \"pp\", \"pp\", \"pp\", \"pp\", \"pp\", \"pp\", \"ppm\", \"ppm\", \"ppm\", \"ppm\", \"ppm\", \"pq\", \"pq\", \"proc\", \"proc\", \"proc\", \"proc\", \"proc\", \"proc\", \"proc\", \"proc\", \"proc\", \"proc\", \"prony\", \"propag\", \"propag\", \"propag\", \"propag\", \"propag\", \"propag\", \"propag\", \"propag\", \"propag\", \"propag\", \"proposed\", \"proposed\", \"proposed\", \"proposed\", \"proposed\", \"proposed\", \"proposed\", \"proposed\", \"proposed\", \"proposed\", \"prsu\", \"pseudoclock\", \"pufir\", \"pulse\", \"pulse\", \"pulse\", \"pulse\", \"pulse\", \"pulse\", \"pulse\", \"pulse\", \"pulse\", \"pulse\", \"qinglin\", \"qlos\", \"quadrotor\", \"quadrotor\", \"quadrotor\", \"quaternion\", \"quaternion\", \"quaternion\", \"quaternion\", \"radar\", \"radar\", \"radar\", \"radar\", \"radar\", \"radar\", \"radar\", \"radar\", \"radar\", \"radar\", \"range\", \"range\", \"range\", \"range\", \"range\", \"range\", \"range\", \"range\", \"range\", \"range\", \"ranging\", \"ranging\", \"ranging\", \"ranging\", \"ranging\", \"ranging\", \"ranging\", \"ranging\", \"ranging\", \"ranging\", \"ransformer\", \"rcm\", \"rdr\", \"reader\", \"reader\", \"reader\", \"reader\", \"reader\", \"reading\", \"reading\", \"reading\", \"reading\", \"reading\", \"reading\", \"reading\", \"reading\", \"realsense\", \"realsense\", \"rectenna\", \"recurrent\", \"recurrent\", \"recurrent\", \"recurrent\", \"reference\", \"reference\", \"reference\", \"reference\", \"reference\", \"reference\", \"reference\", \"reference\", \"reference\", \"reference\", \"reflected\", \"reflected\", \"reflected\", \"reflected\", \"reflected\", \"reflected\", \"reflected\", \"reflected\", \"reflected\", \"reflector\", \"reflector\", \"reflector\", \"reflector\", \"relative\", \"relative\", \"relative\", \"relative\", \"relative\", \"relative\", \"relative\", \"relative\", \"relative\", \"relative\", \"result\", \"result\", \"result\", \"result\", \"result\", \"result\", \"result\", \"result\", \"result\", \"result\", \"reversal\", \"reversal\", \"rfa\", \"rfc\", \"rfid\", \"rfid\", \"rfid\", \"rfid\", \"rfid\", \"rfid\", \"rfid\", \"rfid\", \"rfid\", \"rha\", \"rhas\", \"rin\", \"rin\", \"rkfs\", \"rl\", \"rl\", \"rl\", \"rl\", \"rl\", \"rl\", \"roadway\", \"roadway\", \"roadway\", \"robot\", \"robot\", \"robot\", \"robot\", \"robot\", \"robot\", \"robot\", \"robot\", \"robot\", \"robot\", \"rpl\", \"rpl\", \"rps\", \"rrw\", \"rsnrtf\", \"rssi\", \"rssi\", \"rssi\", \"rssi\", \"rssi\", \"rssi\", \"rssi\", \"rssi\", \"rtls\", \"rtls\", \"rtls\", \"rtls\", \"rtls\", \"rudder\", \"rx\", \"rx\", \"rx\", \"rx\", \"rx\", \"rx\", \"rx\", \"rx\", \"rx\", \"rxp\", \"rxs\", \"rxs\", \"safety\", \"safety\", \"safety\", \"safety\", \"safety\", \"safety\", \"safety\", \"safety\", \"scannable\", \"scanning\", \"scanning\", \"scanning\", \"scanning\", \"scanning\", \"scenario\", \"scenario\", \"scenario\", \"scenario\", \"scenario\", \"scenario\", \"scenario\", \"scenario\", \"scenario\", \"scheduling\", \"scheduling\", \"scheduling\", \"scheduling\", \"scheduling\", \"sdp\", \"seat\", \"segment\", \"segment\", \"segment\", \"segment\", \"segment\", \"segment\", \"segment\", \"segment\", \"semkin\", \"sensor\", \"sensor\", \"sensor\", \"sensor\", \"sensor\", \"sensor\", \"sensor\", \"sensor\", \"sensor\", \"sensor\", \"sequence\", \"sequence\", \"sequence\", \"sequence\", \"sequence\", \"sequence\", \"sequence\", \"sequence\", \"sequence\", \"service\", \"service\", \"service\", \"service\", \"service\", \"service\", \"service\", \"service\", \"service\", \"session\", \"session\", \"session\", \"session\", \"sfcw\", \"sfcw\", \"shadowing\", \"shadowing\", \"shadowing\", \"shadowing\", \"shadowing\", \"shadowing\", \"shadowing\", \"shadowing\", \"shaper\", \"shaper\", \"shds\", \"shearer\", \"shearer\", \"shell\", \"ship\", \"ship\", \"ship\", \"shopping\", \"shopping\", \"shopping\", \"shorted\", \"shorted\", \"shower\", \"shown\", \"shown\", \"shown\", \"shown\", \"shown\", \"shown\", \"shown\", \"shown\", \"shown\", \"shown\", \"sibling\", \"sigfox\", \"sign\", \"sign\", \"sign\", \"sign\", \"sign\", \"sign\", \"sign\", \"sign\", \"sign\", \"sign\", \"signal\", \"signal\", \"signal\", \"signal\", \"signal\", \"signal\", \"signal\", \"signal\", \"signal\", \"signal\", \"silicon\", \"silicon\", \"silicon\", \"silicon\", \"silicon\", \"simulated\", \"simulated\", \"simulated\", \"simulated\", \"simulated\", \"simulated\", \"simulated\", \"simulated\", \"simulated\", \"simulated\", \"sin\", \"sin\", \"sin\", \"sin\", \"sin\", \"sin\", \"sin\", \"sin\", \"sin\", \"sin\", \"sir\", \"sir\", \"sisu\", \"skf\", \"sl\", \"sl\", \"sl\", \"sl\", \"sl\", \"slam\", \"slam\", \"slam\", \"slam\", \"slam\", \"slam\", \"sleep\", \"sleep\", \"sleep\", \"sleepposenet\", \"sll\", \"slls\", \"slot\", \"slot\", \"slot\", \"slot\", \"slot\", \"slot\", \"slot\", \"slot\", \"smc\", \"smc\", \"smcs\", \"smzm\", \"snrt\", \"solid\", \"solid\", \"solid\", \"solid\", \"solid\", \"solid\", \"solid\", \"solid\", \"solid\", \"solid\", \"spacing\", \"spacing\", \"spacing\", \"spacing\", \"spacing\", \"spacing\", \"spatiotemporal\", \"spatiotemporal\", \"spbp\", \"spbp\", \"spherical\", \"spherical\", \"spherical\", \"spherical\", \"spherical\", \"spherical\", \"spiral\", \"spiral\", \"spiral\", \"spiral\", \"spiral\", \"spn\", \"spt\", \"spts\", \"sr\", \"sr\", \"sr\", \"sr\", \"sr\", \"sr\", \"srf\", \"ssi\", \"stair\", \"stair\", \"state\", \"state\", \"state\", \"state\", \"state\", \"state\", \"state\", \"state\", \"state\", \"state\", \"step\", \"step\", \"step\", \"step\", \"step\", \"step\", \"step\", \"step\", \"step\", \"step\", \"stft\", \"stft\", \"stft\", \"stirrer\", \"stopping\", \"stopping\", \"stopping\", \"stopping\", \"stopping\", \"stp\", \"stpa\", \"stub\", \"subaperture\", \"subject\", \"subject\", \"subject\", \"subject\", \"subject\", \"subject\", \"subject\", \"subject\", \"subject\", \"success\", \"success\", \"success\", \"success\", \"success\", \"success\", \"sunflower\", \"supine\", \"supr\", \"synthesis\", \"synthesis\", \"synthesis\", \"synthesis\", \"system\", \"system\", \"system\", \"system\", \"system\", \"system\", \"system\", \"system\", \"system\", \"system\", \"tag\", \"tag\", \"tag\", \"tag\", \"tag\", \"tag\", \"tag\", \"tag\", \"tag\", \"tag\", \"taiwan\", \"taiwan\", \"taiwan\", \"taiwan\", \"taiwan\", \"target\", \"target\", \"target\", \"target\", \"target\", \"target\", \"target\", \"target\", \"target\", \"target\", \"tavares\", \"tcda\", \"tdma\", \"tdma\", \"tdma\", \"tdma\", \"tdma\", \"tdoa\", \"tdoa\", \"tdoa\", \"tdoa\", \"tdoa\", \"tdoa\", \"tdoa\", \"tdoa\", \"tdoa\", \"tdoa\", \"tdoas\", \"tdoas\", \"technology\", \"technology\", \"technology\", \"technology\", \"technology\", \"technology\", \"technology\", \"technology\", \"technology\", \"technology\", \"test_\", \"throughput\", \"throughput\", \"throughput\", \"throughput\", \"tightly\", \"tightly\", \"tightly\", \"tightly\", \"tightly\", \"tightly\", \"tightly\", \"time\", \"time\", \"time\", \"time\", \"time\", \"time\", \"time\", \"time\", \"time\", \"time\", \"tint\", \"tm\", \"tm\", \"tm\", \"tm\", \"tm\", \"tm\", \"tof\", \"tof\", \"tof\", \"tof\", \"tof\", \"tof\", \"tof\", \"tof\", \"tof\", \"toggle\", \"torgrimsson\", \"torso\", \"torso\", \"torso\", \"torso\", \"track\", \"track\", \"track\", \"track\", \"track\", \"track\", \"track\", \"track\", \"track\", \"training\", \"training\", \"training\", \"training\", \"training\", \"training\", \"training\", \"training\", \"trajectory\", \"trajectory\", \"trajectory\", \"trajectory\", \"trajectory\", \"trajectory\", \"trajectory\", \"trajectory\", \"trajectory\", \"trans\", \"trans\", \"trans\", \"trans\", \"trans\", \"trans\", \"trans\", \"trans\", \"trans\", \"trans\", \"transceiver\", \"transceiver\", \"transceiver\", \"transceiver\", \"transceiver\", \"transceiver\", \"transceiver\", \"transformer\", \"transformer\", \"tref\", \"tsa\", \"tsa\", \"tsml\", \"tspm\", \"tstart\", \"tstop\", \"tstop\", \"ttx\", \"ttxi\", \"ttxj\", \"tunnel\", \"tunnel\", \"tunnel\", \"tunnel\", \"tunnel\", \"turtlebot\", \"two\", \"two\", \"two\", \"two\", \"two\", \"two\", \"two\", \"two\", \"two\", \"two\", \"type\", \"type\", \"type\", \"type\", \"type\", \"type\", \"type\", \"type\", \"type\", \"type\", \"uav\", \"uav\", \"uav\", \"uav\", \"uav\", \"uav\", \"uavi\", \"uavj\", \"uavs\", \"uavs\", \"uavs\", \"uavs\", \"uavs\", \"ucandi\", \"ufir\", \"ufir\", \"ufir\", \"ulander\", \"ullah\", \"um\", \"um\", \"um\", \"uncalibrated\", \"uncalibrated\", \"underactuated\", \"university\", \"university\", \"university\", \"university\", \"university\", \"university\", \"university\", \"university\", \"university\", \"university\", \"unloading\", \"unseen\", \"unseen\", \"update\", \"update\", \"update\", \"update\", \"update\", \"update\", \"update\", \"update\", \"update\", \"upna\", \"upna\", \"use\", \"use\", \"use\", \"use\", \"use\", \"use\", \"use\", \"use\", \"use\", \"use\", \"used\", \"used\", \"used\", \"used\", \"used\", \"used\", \"used\", \"used\", \"used\", \"used\", \"user\", \"user\", \"user\", \"user\", \"user\", \"user\", \"user\", \"user\", \"user\", \"using\", \"using\", \"using\", \"using\", \"using\", \"using\", \"using\", \"using\", \"using\", \"using\", \"usv\", \"usv\", \"usv\", \"ut\", \"ut\", \"ut\", \"ut\", \"ut\", \"uwb\", \"uwb\", \"uwb\", \"uwb\", \"uwb\", \"uwb\", \"uwb\", \"uwb\", \"uwb\", \"uwb\", \"value\", \"value\", \"value\", \"value\", \"value\", \"value\", \"value\", \"value\", \"value\", \"value\", \"vbakf\", \"vehicle\", \"vehicle\", \"vehicle\", \"vehicle\", \"vehicle\", \"vehicle\", \"vehicle\", \"vehicle\", \"vehicle\", \"vehicle\", \"vias\", \"vias\", \"vidsel\", \"vigo\", \"vinput\", \"vio\", \"virtual\", \"virtual\", \"virtual\", \"virtual\", \"virtual\", \"virtual\", \"virtual\", \"virtual\", \"virtual\", \"visual\", \"visual\", \"visual\", \"visual\", \"visual\", \"visual\", \"visual\", \"vital\", \"vital\", \"vital\", \"vital\", \"vital\", \"vital\", \"vital\", \"vmm\", \"vmm\", \"volakis\", \"vt\", \"vt\", \"vt\", \"vt\", \"vt\", \"vt\", \"vwb\", \"v\\u03c0\", \"waist\", \"waist\", \"walking\", \"walking\", \"walking\", \"walking\", \"walking\", \"walking\", \"walking\", \"wandering\", \"warehouse\", \"warehouse\", \"warehouse\", \"wavelet\", \"wavelet\", \"wavelet\", \"wavelet\", \"wca\", \"wca\", \"wca\", \"wearable\", \"wearable\", \"wearable\", \"wearable\", \"wearable\", \"wearable\", \"wearable\", \"wearable\", \"wearable\", \"weightless\", \"wideband\", \"wideband\", \"wideband\", \"wideband\", \"wideband\", \"wideband\", \"wideband\", \"wideband\", \"wideband\", \"wideband\", \"wifi\", \"wifi\", \"wifi\", \"wifi\", \"wifi\", \"wifi\", \"wifi\", \"wifi\", \"window\", \"window\", \"window\", \"window\", \"window\", \"window\", \"window\", \"window\", \"window\", \"winn\", \"winp\", \"wireless\", \"wireless\", \"wireless\", \"wireless\", \"wireless\", \"wireless\", \"wireless\", \"wireless\", \"wireless\", \"wireless\", \"wls\", \"wls\", \"wls\", \"wls\", \"work\", \"work\", \"work\", \"work\", \"work\", \"work\", \"work\", \"work\", \"work\", \"work\", \"wpd\", \"writing\", \"writing\", \"writing\", \"wrtft\", \"x_seed\", \"xa\", \"xa\", \"xk\", \"xk\", \"xk\", \"xk\", \"xk\", \"xk\", \"xk\", \"xk\", \"xtx\", \"xv\", \"xv\", \"x\\u00fe\", \"ymn\", \"yo\", \"yo\", \"yp\", \"yp\", \"ype\", \"yv\", \"zamora\", \"zamora\", \"zealand\", \"zehnder\", \"zp\", \"zrel\", \"zrel\", \"zself\", \"z\\u03c4k\", \"\\u00f0i\\u00fe\", \"\\u00f0x\", \"\\u03b1k\", \"\\u03b1k\", \"\\u03b1k\", \"\\u03b2d\", \"\\u03b4k\", \"\\u03b4max\", \"\\u03b8c\", \"\\u03b8f\", \"\\u03b8max\", \"\\u03b8z\", \"\\u03baijd\", \"\\u03bairi\", \"\\u03bbi\", \"\\u03bbl\", \"\\u03bcd\", \"\\u03bcds\", \"\\u03c1t\", \"\\u03c3\\u03c1\", \"\\u03c3\\u03c4\", \"\\u03c6k\", \"\\u03c6k\", \"\\u03c6k\", \"\\u03c6k\"]}, \"R\": 30, \"lambda.step\": 0.01, \"plot.opts\": {\"xlab\": \"PC1\", \"ylab\": \"PC2\"}, \"topic.order\": [6, 8, 5, 9, 3, 2, 7, 10, 4, 1]};\n",
       "\n",
       "function LDAvis_load_lib(url, callback){\n",
       "  var s = document.createElement('script');\n",
       "  s.src = url;\n",
       "  s.async = true;\n",
       "  s.onreadystatechange = s.onload = callback;\n",
       "  s.onerror = function(){console.warn(\"failed to load library \" + url);};\n",
       "  document.getElementsByTagName(\"head\")[0].appendChild(s);\n",
       "}\n",
       "\n",
       "if(typeof(LDAvis) !== \"undefined\"){\n",
       "   // already loaded: just create the visualization\n",
       "   !function(LDAvis){\n",
       "       new LDAvis(\"#\" + \"ldavis_el6138681399683158148481612976072\", ldavis_el6138681399683158148481612976072_data);\n",
       "   }(LDAvis);\n",
       "}else if(typeof define === \"function\" && define.amd){\n",
       "   // require.js is available: use it to load d3/LDAvis\n",
       "   require.config({paths: {d3: \"https://d3js.org/d3.v5\"}});\n",
       "   require([\"d3\"], function(d3){\n",
       "      window.d3 = d3;\n",
       "      LDAvis_load_lib(\"https://cdn.jsdelivr.net/gh/bmabey/pyLDAvis@3.3.1/pyLDAvis/js/ldavis.v3.0.0.js\", function(){\n",
       "        new LDAvis(\"#\" + \"ldavis_el6138681399683158148481612976072\", ldavis_el6138681399683158148481612976072_data);\n",
       "      });\n",
       "    });\n",
       "}else{\n",
       "    // require.js not available: dynamically load d3 & LDAvis\n",
       "    LDAvis_load_lib(\"https://d3js.org/d3.v5.js\", function(){\n",
       "         LDAvis_load_lib(\"https://cdn.jsdelivr.net/gh/bmabey/pyLDAvis@3.3.1/pyLDAvis/js/ldavis.v3.0.0.js\", function(){\n",
       "                 new LDAvis(\"#\" + \"ldavis_el6138681399683158148481612976072\", ldavis_el6138681399683158148481612976072_data);\n",
       "            })\n",
       "         });\n",
       "}\n",
       "</script>"
      ],
      "text/plain": [
       "PreparedData(topic_coordinates=              x         y  topics  cluster       Freq\n",
       "topic                                                \n",
       "5     -0.079008 -0.031535       1        1  25.480504\n",
       "7     -0.049723  0.006918       2        1  12.982872\n",
       "4     -0.063619 -0.023932       3        1  11.893930\n",
       "8      0.062293  0.048061       4        1  11.342758\n",
       "2     -0.077090 -0.060680       5        1   9.703660\n",
       "1     -0.032926 -0.019114       6        1   7.796294\n",
       "6      0.046568  0.063983       7        1   6.835235\n",
       "9     -0.001115 -0.028194       8        1   5.991622\n",
       "3      0.195880 -0.075713       9        1   4.283456\n",
       "0     -0.001260  0.120207      10        1   3.689670, topic_info=          Term         Freq        Total Category  logprob  loglift\n",
       "56     antenna  2002.000000  2002.000000  Default  30.0000  30.0000\n",
       "81       array   659.000000   659.000000  Default  29.0000  29.0000\n",
       "1116       tag  1154.000000  1154.000000  Default  28.0000  28.0000\n",
       "1020    signal  2580.000000  2580.000000  Default  27.0000  27.0000\n",
       "885      radar   791.000000   791.000000  Default  26.0000  26.0000\n",
       "...        ...          ...          ...      ...      ...      ...\n",
       "943     result    73.915018  1940.358597  Topic10  -5.5614   0.0319\n",
       "40          al    66.119104  1095.403398  Topic10  -5.6729   0.4922\n",
       "305   distance    63.221827  1734.447894  Topic10  -5.7177  -0.0122\n",
       "379         et    61.353420  1085.585944  Topic10  -5.7477   0.4264\n",
       "705      model    62.577645  1865.199265  Topic10  -5.7279  -0.0951\n",
       "\n",
       "[835 rows x 6 columns], token_table=       Topic      Freq          Term\n",
       "term                                \n",
       "5          1  0.797122  acceleration\n",
       "5          2  0.002596  acceleration\n",
       "5          3  0.012982  acceleration\n",
       "5          4  0.064912  acceleration\n",
       "5          5  0.083088  acceleration\n",
       "...      ...       ...           ...\n",
       "10696      4  0.986644            στ\n",
       "11866      1  0.049039            φk\n",
       "11866      2  0.907224            φk\n",
       "11866      3  0.012260            φk\n",
       "11866      7  0.012260            φk\n",
       "\n",
       "[2610 rows x 3 columns], R=30, lambda_step=0.01, plot_opts={'xlab': 'PC1', 'ylab': 'PC2'}, topic_order=[6, 8, 5, 9, 3, 2, 7, 10, 4, 1])"
      ]
     },
     "execution_count": 44,
     "metadata": {},
     "output_type": "execute_result"
    }
   ],
   "source": [
    "vis"
   ]
  },
  {
   "cell_type": "markdown",
   "id": "c1ea6aef",
   "metadata": {},
   "source": [
    "## TF IDF model\n",
    "\n",
    "Term Frequency Inverse Document Frequency"
   ]
  },
  {
   "cell_type": "code",
   "execution_count": 45,
   "id": "f4b0c6a2",
   "metadata": {
    "ExecuteTime": {
     "end_time": "2021-11-25T08:11:30.307532Z",
     "start_time": "2021-11-25T08:11:30.123327Z"
    }
   },
   "outputs": [],
   "source": [
    "from gensim.models import TfidfModel\n",
    "tf_idf_model = TfidfModel(corpus,id2word=id2word)\n"
   ]
  },
  {
   "cell_type": "code",
   "execution_count": 46,
   "id": "12f6a74e",
   "metadata": {
    "ExecuteTime": {
     "end_time": "2021-11-25T08:11:30.312075Z",
     "start_time": "2021-11-25T08:11:30.309186Z"
    }
   },
   "outputs": [],
   "source": [
    "# Transformed corpus\n",
    "tform_corpus = tf_idf_model[corpus]\n"
   ]
  },
  {
   "cell_type": "code",
   "execution_count": 47,
   "id": "d338ab53",
   "metadata": {
    "ExecuteTime": {
     "end_time": "2021-11-25T08:11:30.748869Z",
     "start_time": "2021-11-25T08:11:30.313418Z"
    }
   },
   "outputs": [],
   "source": [
    "# Create sparse matrix (design matrix)\n",
    "spar_matr = gensim.matutils.corpus2csc(tform_corpus)\n"
   ]
  },
  {
   "cell_type": "code",
   "execution_count": 48,
   "id": "7889af36",
   "metadata": {
    "ExecuteTime": {
     "end_time": "2021-11-25T08:11:30.757343Z",
     "start_time": "2021-11-25T08:11:30.750005Z"
    }
   },
   "outputs": [],
   "source": [
    "# Make it to normal matrix\n",
    "tfidf_matrix = spar_matr.toarray().transpose()\n"
   ]
  },
  {
   "cell_type": "code",
   "execution_count": 49,
   "id": "74a9988b",
   "metadata": {
    "ExecuteTime": {
     "end_time": "2021-11-25T08:11:31.837125Z",
     "start_time": "2021-11-25T08:11:30.758745Z"
    }
   },
   "outputs": [],
   "source": [
    "from sklearn.cluster import KMeans\n",
    "kmodel = KMeans(n_clusters=10)\n",
    "\n",
    "kmodel.fit(tfidf_matrix)\n",
    "\n",
    "clusters = kmodel.labels_.tolist()"
   ]
  },
  {
   "cell_type": "code",
   "execution_count": 50,
   "id": "7d46e90f",
   "metadata": {
    "ExecuteTime": {
     "end_time": "2021-11-25T08:11:31.866951Z",
     "start_time": "2021-11-25T08:11:31.843740Z"
    }
   },
   "outputs": [
    {
     "name": "stdout",
     "output_type": "stream",
     "text": [
      "Cluster 1 words: tdc, pulse, gm, cavity, mppm, voltage, bit, smzm, modulator, vwb,\n",
      "\n",
      "Cluster 2 words: b, bs, lvm, wls, elderly, pdop, configuration, pdoa, wub, dop,\n",
      "\n",
      "Cluster 3 words: in, pedestrian, pdr, nlos, anchor, particle, imu, walking, foot, lte,\n",
      "\n",
      "Cluster 4 words: body, rha, anc, wearable, pl, tag, nlos, rl, qlos, shadowing,\n",
      "\n",
      "Cluster 5 words: array, aperture, ghost, image, pdoa, target, fga, imaging, rx, rps,\n",
      "\n",
      "Cluster 6 words: uav, robot, anchor, imu, mcl, coal, ij, xa, agvs, xk,\n",
      "\n",
      "Cluster 7 words: antenna, vivaldi, cp, polarized, tsa, circularly, reflector, uhf, radiation, polarization,\n",
      "\n",
      "Cluster 8 words: classification, classifier, cnn, capsule, radar, character, ipda, wandering, mwt, rsnrtf,\n",
      "\n",
      "Cluster 9 words: cnn, lstm, deeptal, gru, tdoa, ρt, ut, layer, nlos, sewio,\n",
      "\n",
      "Cluster 10 words: twr, agv, node, tag, agent, dln, clock, usv, tdoa, ship,\n",
      "\n"
     ]
    }
   ],
   "source": [
    "centroids = kmodel.cluster_centers_.argsort()[:, ::-1] # Sort the words according to their importance.\n",
    "\n",
    "for i in range(10):\n",
    "    j=i+1\n",
    "    print(\"Cluster %d words:\" % j, end='')\n",
    "    for ind in centroids[i, :10]:\n",
    "        print(' %s' % dictionary.id2token[ind],end=',')\n",
    "    print()\n",
    "    print()"
   ]
  },
  {
   "cell_type": "markdown",
   "id": "2a298a84",
   "metadata": {
    "slideshow": {
     "slide_type": "subslide"
    }
   },
   "source": [
    "## What next\n",
    "\n",
    "- Sentiment analysis \n",
    "\n",
    "\n",
    "## More information\n",
    " - [Introduction to NLP / Mikko Ranta](https://mranta-ai.github.io/Opportunities_of_AI/2_1_Introduction_to_NLP.html)\n",
    " - [Natural Language Processing with Python](https://realpython.com/nltk-nlp-python/)\n",
    " - [NLTK-Book: Extracting information from Text](https://www.nltk.org/book/ch07.html)\n",
    " - [Gensim TFIDF](https://radimrehurek.com/gensim/models/tfidfmodel.html)"
   ]
  }
 ],
 "metadata": {
  "celltoolbar": "Slideshow",
  "kernelspec": {
   "display_name": "Python 3 (ipykernel)",
   "language": "python",
   "name": "python3"
  },
  "language_info": {
   "codemirror_mode": {
    "name": "ipython",
    "version": 3
   },
   "file_extension": ".py",
   "mimetype": "text/x-python",
   "name": "python",
   "nbconvert_exporter": "python",
   "pygments_lexer": "ipython3",
   "version": "3.9.2"
  },
  "toc": {
   "base_numbering": 1,
   "nav_menu": {},
   "number_sections": true,
   "sideBar": true,
   "skip_h1_title": false,
   "title_cell": "Table of Contents",
   "title_sidebar": "Contents",
   "toc_cell": false,
   "toc_position": {},
   "toc_section_display": true,
   "toc_window_display": false
  }
 },
 "nbformat": 4,
 "nbformat_minor": 5
}
