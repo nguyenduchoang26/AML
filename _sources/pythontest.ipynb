{
 "cells": [
  {
   "cell_type": "code",
   "execution_count": 3,
   "id": "dutch-upgrade",
   "metadata": {
    "ExecuteTime": {
     "end_time": "2021-08-18T13:30:05.375011Z",
     "start_time": "2021-08-18T13:30:02.170870Z"
    }
   },
   "outputs": [
    {
     "name": "stdout",
     "output_type": "stream",
     "text": [
      "Using matplotlib backend: TkAgg\n",
      "Populating the interactive namespace from numpy and matplotlib\n"
     ]
    }
   ],
   "source": [
    "%pylab"
   ]
  },
  {
   "cell_type": "code",
   "execution_count": 6,
   "id": "published-characteristic",
   "metadata": {
    "ExecuteTime": {
     "end_time": "2021-08-18T13:39:44.556712Z",
     "start_time": "2021-08-18T13:39:44.554748Z"
    }
   },
   "outputs": [],
   "source": [
    "x=2\n",
    "ϕ=2*pi "
   ]
  },
  {
   "cell_type": "code",
   "execution_count": 8,
   "id": "stock-equipment",
   "metadata": {
    "ExecuteTime": {
     "end_time": "2021-08-18T13:53:30.316552Z",
     "start_time": "2021-08-18T13:53:30.310844Z"
    }
   },
   "outputs": [
    {
     "name": "stdout",
     "output_type": "stream",
     "text": [
      "6.283185307179586\n"
     ]
    }
   ],
   "source": [
    "print(ϕ)"
   ]
  },
  {
   "cell_type": "code",
   "execution_count": 14,
   "id": "organizational-millennium",
   "metadata": {
    "ExecuteTime": {
     "end_time": "2021-08-18T13:58:31.552811Z",
     "start_time": "2021-08-18T13:58:31.538539Z"
    }
   },
   "outputs": [
    {
     "data": {
      "text/plain": [
       "2.160246899469287"
      ]
     },
     "execution_count": 14,
     "metadata": {},
     "output_type": "execute_result"
    }
   ],
   "source": [
    "def rms(x):\n",
    "    return sqrt(mean(square(x)))\n",
    "x=[1,2,3]\n",
    "rms(x)"
   ]
  },
  {
   "cell_type": "code",
   "execution_count": null,
   "id": "addressed-start",
   "metadata": {},
   "outputs": [],
   "source": []
  }
 ],
 "metadata": {
  "kernelspec": {
   "display_name": "Python 3",
   "language": "python",
   "name": "python3"
  },
  "language_info": {
   "codemirror_mode": {
    "name": "ipython",
    "version": 3
   },
   "file_extension": ".py",
   "mimetype": "text/x-python",
   "name": "python",
   "nbconvert_exporter": "python",
   "pygments_lexer": "ipython3",
   "version": "3.9.2"
  },
  "toc": {
   "base_numbering": 1,
   "nav_menu": {},
   "number_sections": true,
   "sideBar": true,
   "skip_h1_title": false,
   "title_cell": "Table of Contents",
   "title_sidebar": "Contents",
   "toc_cell": false,
   "toc_position": {},
   "toc_section_display": true,
   "toc_window_display": false
  }
 },
 "nbformat": 4,
 "nbformat_minor": 5
}
