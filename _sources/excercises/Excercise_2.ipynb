{
 "cells": [
  {
   "cell_type": "markdown",
   "metadata": {},
   "source": [
    "# ICAT3190, Module 2, Excercises\n"
   ]
  },
  {
   "cell_type": "markdown",
   "metadata": {},
   "source": [
    "## Task 1\n",
    "\n",
    "1. Download the data file `FMI_weather_101485.csv` from moodle an read it using Pandas. The data file contains weather observations in Vaasa region in 1st of July 2018. Parse timestamps and notice that the field separator is space\n",
    "1. Print the head of the data frame to check if you were able to parse it correctly. \n",
    "1. You will notice that the column names are not very convenient. They contain redundant metadata and the names may not be understandable in your domain. Replace the column names. \n",
    "  1. Delete the columns, which are not needed in this time. The columns to be deleted are shown in the table below. Use syntax `del(D['columname'])` to delete columns. You could have also told Pandas to read only the columns you specify in the first place.\n",
    "  1. You can access the list of column names using `D.columns` attribute. Make a list of better column names and assign it into the `D.columns` according to the table below\n",
    "  1. Check the data to find out if it contains outliers (any values which are very far from the other values in either direction). Use `D.describe()` to  study the statistics of all columns.\n",
    "  1. `D.desribe()` shows also how many values there are for each column. Check how much missing data there are in each column.\n",
    "1. Propose and try differnt methods for handling missing data for this dataframe. How do the affect to the statistics of the columns. \n",
    "  \n",
    "| Original name | New name      | Explanation |\n",
    "|---------------|---------------| ------------|\n",
    "| obs-obs-1-1-t2m        | t    | Temperature |\n",
    "| obs-obs-1-1-ws_10min   | U    | Average wind speed | \n",
    "| obs-obs-1-1-wg_10min   | Ug   | Wind gust speed |\n",
    "| obs-obs-1-1-wd_10min   | Ud   | Wind direction |\n",
    "| obs-obs-1-1-rh         | Rh   | Relative humidity |\n",
    "| obs-obs-1-1-td         | DEL  | ? |\n",
    "| obs-obs-1-1-r_1h       | Rfh  | Rainfall in 1h |\n",
    "| obs-obs-1-1-ri_10min   | Rfmin| Rainfall in 10 min |\n",
    "| obs-obs-1-1-snow_aws   | Sd   | Snow depth |\n",
    "| obs-obs-1-1-p_sea      | p    | Air pressue, hPA |\n",
    "| obs-obs-1-1-vis        | vis  | Visibility in meters|\n",
    "| obs-obs-1-1-n_man      | DEL  | ? |\n",
    "| obs-obs-1-1-wawa       | DEL  | ? |\n"
   ]
  },
  {
   "cell_type": "code",
   "execution_count": 1,
   "metadata": {},
   "outputs": [],
   "source": [
    "import pandas as pd\n",
    "### Your code goes here"
   ]
  },
  {
   "cell_type": "code",
   "execution_count": 2,
   "metadata": {
    "scrolled": true
   },
   "outputs": [],
   "source": [
    "### Use more than one program code cells"
   ]
  },
  {
   "cell_type": "markdown",
   "metadata": {},
   "source": [
    "## Task 2"
   ]
  },
  {
   "cell_type": "markdown",
   "metadata": {},
   "source": [
    "1. Plot the temperature and wind speed against time axis. \n",
    "1. Switch grids on, set the names of x and y axis\n",
    "1. Save the figure in .pdf and .png forms. What is the difference between these two image formats"
   ]
  },
  {
   "cell_type": "code",
   "execution_count": 3,
   "metadata": {},
   "outputs": [],
   "source": [
    "## Your code goes here"
   ]
  },
  {
   "cell_type": "markdown",
   "metadata": {},
   "source": [
    "## Task 3"
   ]
  },
  {
   "cell_type": "markdown",
   "metadata": {},
   "source": [
    "Study the pairplot (or scattermatrix) below. It shows pairwise dependencies between variables. Can you observe any interesting patterns in the data? Which variable are linearly dependent on each other? Which are dependent in some other way? Can you predict correlations from the figure?"
   ]
  },
  {
   "cell_type": "code",
   "execution_count": 4,
   "metadata": {},
   "outputs": [
    {
     "ename": "NameError",
     "evalue": "name 'D' is not defined",
     "output_type": "error",
     "traceback": [
      "\u001b[0;31m---------------------------------------------------------------------------\u001b[0m",
      "\u001b[0;31mNameError\u001b[0m                                 Traceback (most recent call last)",
      "\u001b[0;32m<ipython-input-4-9f1bbe3736f2>\u001b[0m in \u001b[0;36m<module>\u001b[0;34m()\u001b[0m\n\u001b[0;32m----> 1\u001b[0;31m \u001b[0mpd\u001b[0m\u001b[0;34m.\u001b[0m\u001b[0mplotting\u001b[0m\u001b[0;34m.\u001b[0m\u001b[0mscatter_matrix\u001b[0m\u001b[0;34m(\u001b[0m\u001b[0mD\u001b[0m\u001b[0;34m,\u001b[0m \u001b[0mfigsize\u001b[0m\u001b[0;34m=\u001b[0m\u001b[0;34m(\u001b[0m\u001b[0;36m15\u001b[0m\u001b[0;34m,\u001b[0m\u001b[0;36m15\u001b[0m\u001b[0;34m)\u001b[0m\u001b[0;34m,\u001b[0m \u001b[0mmarker\u001b[0m\u001b[0;34m=\u001b[0m\u001b[0;34m'o'\u001b[0m\u001b[0;34m)\u001b[0m\u001b[0;34m;\u001b[0m\u001b[0;34m\u001b[0m\u001b[0;34m\u001b[0m\u001b[0m\n\u001b[0m",
      "\u001b[0;31mNameError\u001b[0m: name 'D' is not defined"
     ]
    }
   ],
   "source": [
    "pd.plotting.scatter_matrix(D, figsize=(15,15), marker='o');"
   ]
  },
  {
   "cell_type": "code",
   "execution_count": null,
   "metadata": {},
   "outputs": [],
   "source": []
  }
 ],
 "metadata": {
  "kernelspec": {
   "display_name": "Python 3",
   "language": "python",
   "name": "python3"
  },
  "language_info": {
   "codemirror_mode": {
    "name": "ipython",
    "version": 3
   },
   "file_extension": ".py",
   "mimetype": "text/x-python",
   "name": "python",
   "nbconvert_exporter": "python",
   "pygments_lexer": "ipython3",
   "version": "3.7.6"
  }
 },
 "nbformat": 4,
 "nbformat_minor": 2
}
