{
 "cells": [
  {
   "cell_type": "markdown",
   "metadata": {},
   "source": [
    "# ICAT3190, Module 3, Excercises\n"
   ]
  },
  {
   "cell_type": "markdown",
   "metadata": {},
   "source": [
    "## Sound data classification\n",
    "\n",
    "The purpose is to calculate features for a sound data. The data is stored in the HDF5 file. You can open it using the h5py library. Install it using anaconda navigator, if it is not already installed.\n",
    "\n",
    "Description of the data\n",
    " - The sound data for three different kinds of samples is stored \n",
    " - The classes are 1=wind turbine noise, 2=Fox shouting, 3=Swans. They are stored in vector Y\n",
    " - The design matrix X is organized as 60 x 25600 (60 samples, 25600 variables, corresponding 1 second of data)\n",
    " - The cell for reading the data from a HDF file is given\n",
    " - Then the data is combined to a Pandas dataframe for convenience"
   ]
  },
  {
   "cell_type": "code",
   "execution_count": 3,
   "metadata": {},
   "outputs": [
    {
     "name": "stdout",
     "output_type": "stream",
     "text": [
      "[1 1 1 1 1 1 1 1 1 1 1 1 1 1 1 1 1 1 1 1 2 2 2 2 2 2 2 2 2 2 2 2 2 2 2 2 2\n",
      " 2 2 2 3 3 3 3 3 3 3 3 3 3 3 3 3 3 3 3 3 3 3 3]\n"
     ]
    }
   ],
   "source": [
    "##>>> This code is provided, because we didn't go through how HDF5 files are read\n",
    "\n",
    "import numpy as np\n",
    "import pandas as pd\n",
    "import matplotlib.pyplot as plt\n",
    "import h5py\n",
    "import seaborn as sns\n",
    "\n",
    "# Read hdf5 data. There are 3 classes, 20 samples each.\n",
    "fid=h5py.File('data/audiosampledata.h5', 'r')\n",
    "X=fid['X'][:]\n",
    "Y=fid['Y'][:]\n",
    "FS=fid['X'].attrs['FS']  # The sampling frequency of time domain data\n",
    "fid.close()\n",
    "\n",
    "X.shape"
   ]
  },
  {
   "cell_type": "markdown",
   "metadata": {},
   "source": [
    "## Task 1. calculate new features using Fourier transformation\n",
    "\n",
    "It can be assumed that transforming the signal into spectral domain will provide better features for describing different sound sources. Import a Fast Fourier Transformation (FFT) function from numpy. The `fftfreq` function can be also usefull, when you want to find out which frequencies are represented in the results.\n",
    "\n",
    "Calculate first the FFT of all data samples:\n",
    "   $$S[k]=\\frac{1}{N}\\sum_{n=0}^{N-1} x_n e^{-i2\\pi kn/N}$$\n",
    "   \n",
    "by using the fft-function.\n",
    "\n",
    "Calculate also corresponding f-axis, in order to know what value in the FFT-vector corresponds to what frequcncy. Use the `fftfreq`--function. Help fftfreq will tell you that you need to give the number of samples, $N$, and the time between samples in the original data, ie. the reciprocal of sampling frequency ($dt=1/FS$).\n",
    "\n",
    "Then plot one of the spectra, against the f-axis made with fftfreq-function. The spectrum is complex, so you need to plot the abs of it.\n"
   ]
  },
  {
   "cell_type": "code",
   "execution_count": 127,
   "metadata": {
    "scrolled": true
   },
   "outputs": [],
   "source": [
    "from numpy.fft import fft, fftfreq\n",
    "### >>>>> Write your code here\n"
   ]
  },
  {
   "cell_type": "code",
   "execution_count": 129,
   "metadata": {},
   "outputs": [],
   "source": [
    "### >>>> Some testing\n",
    "# Assume that spectral data is in matrix called S and frquency axis is f\n",
    "assert(X.shape[1]==25600)\n",
    "assert(abs(sum(sum(np.abs(S)))-13.7)<1)\n",
    "assert(len(f)==N)"
   ]
  },
  {
   "cell_type": "markdown",
   "metadata": {},
   "source": [
    "## Plot it in logarithmic scale\n",
    "\n",
    "You probably noticed that the spectrum does not look very informative. Plot it now in logarithmic scale in decibels. The energy of the sound is relative to the square of the pressure, so we should plot the square of it, but we can accomplish the same by multiplying the log with 20 instead of 10. So plot:\n",
    "\n",
    "$$L=20 \\;\\log_{10} | S | $$"
   ]
  },
  {
   "cell_type": "code",
   "execution_count": 130,
   "metadata": {},
   "outputs": [],
   "source": [
    "## >>>> Write your code here"
   ]
  },
  {
   "cell_type": "markdown",
   "metadata": {},
   "source": [
    "## Task 2, Average the data into 1/3 octave bands\n",
    "The frequency resolution is unnecessary high, and therefore we still have 25600 features. We can reduce the number of features, and remove the noise at the same time by averaging the feature vector in time domain. Usually this averaging for sound data is made in Octave bands. The center frequencies for Octave bands can be calculated using the following function:\n",
    "\n",
    "   $$ f_c = 1000 \\cdot 2^{i},$$\n",
    "   \n",
    "where $i$ loops through all bands necessary. When $i=0$, the center frequency $f_c=1$ kHz. We can let $i$ go through values in the range $i\\in[-6,3]$, to cover frequencies from 15 Hz to 8 kHz.\n",
    "\n",
    "When the center frequencies are calculated, the frequencies belonging in between the edges of the band are summed together. The edge frequencies are given by dividing and multiplying the center frequency with $\\sqrt(2)$. The frequencies summed, $f$, in a certain band those who fullfill the following equation:\n",
    "\n",
    "  $$ \\frac{f_c}{\\sqrt{2}} < f < f_c \\cdot \\sqrt{2} $$\n",
    "\n",
    "1. Calculate the center frequencies of octave bands\n",
    "1. Calculate the edge frequencies of each octave bands\n",
    "1. Apply the edge frequencies to the frequency axis given by 55`fftfreq` to find the indices of those values, which belong to a certain octave band \n",
    "1. Sum the data in S-vector into correct octave bands. Please note that S-vector is complex, so you need to sum the absolute values. Use `np.abs()` to do that\n",
    "1. You can create first an empty matrix where you store your octave band features, like `O=np.zseros((n,p))`\n",
    "1. Then loop through all `n` samples and `p` bands and store the i:th sample and j:th band to O[i,j]"
   ]
  },
  {
   "cell_type": "code",
   "execution_count": 108,
   "metadata": {},
   "outputs": [],
   "source": [
    "# >> Write your code here\n"
   ]
  },
  {
   "cell_type": "code",
   "execution_count": 121,
   "metadata": {},
   "outputs": [],
   "source": [
    "### >>> Some testing\n",
    "# Assume that center frequencies are in variable fc and the octave band data in matrix O\n",
    "assert(len(fc)==10)\n",
    "assert(O.shape==(60,10))\n",
    "assert(fc[0]==15.625)\n",
    "assert((fc[-1]==8000))"
   ]
  },
  {
   "cell_type": "markdown",
   "metadata": {},
   "source": [
    "## Task 3, plot a pairplot (scatter matrix) and study the result\n",
    "Now you shold have a new design matrix, which is now called as O. \n",
    "1. Initialise a new pandas dataframe, D, using O as a parameter. \n",
    "1. Set the center frequency vector as column names to your dataframe\n",
    "1. Then add the output class variable, Y, into it as new column like `D['class']=Y`, and then plot it as pairplot, perhaps using seaborn, like in lectures\n",
    "1. Study the plot and try to see which octave bands are usefull in separating the noise sources\n",
    "1. Does it look probable that you could separate all three classes and which features you would need"
   ]
  },
  {
   "cell_type": "code",
   "execution_count": 1,
   "metadata": {},
   "outputs": [],
   "source": [
    "###>>> Write your code here\n"
   ]
  },
  {
   "cell_type": "code",
   "execution_count": 126,
   "metadata": {},
   "outputs": [],
   "source": [
    "##>>> SOme testing\n",
    "# Assume that the dataframe is variable D\n",
    "assert(D.shape==(60,11))"
   ]
  },
  {
   "cell_type": "code",
   "execution_count": null,
   "metadata": {},
   "outputs": [],
   "source": []
  }
 ],
 "metadata": {
  "kernelspec": {
   "display_name": "Python 3",
   "language": "python",
   "name": "python3"
  },
  "language_info": {
   "codemirror_mode": {
    "name": "ipython",
    "version": 3
   },
   "file_extension": ".py",
   "mimetype": "text/x-python",
   "name": "python",
   "nbconvert_exporter": "python",
   "pygments_lexer": "ipython3",
   "version": "3.6.8"
  }
 },
 "nbformat": 4,
 "nbformat_minor": 2
}
