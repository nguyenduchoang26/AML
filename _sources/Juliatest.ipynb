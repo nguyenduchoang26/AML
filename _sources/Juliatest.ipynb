{
 "cells": [
  {
   "cell_type": "code",
   "execution_count": 1,
   "id": "bound-admission",
   "metadata": {
    "ExecuteTime": {
     "end_time": "2021-08-18T16:26:30.847000+03:00",
     "start_time": "2021-08-18T13:26:17.999Z"
    }
   },
   "outputs": [
    {
     "name": "stdout",
     "output_type": "stream",
     "text": [
      "Hello\n"
     ]
    }
   ],
   "source": [
    "println(\"Hello\")"
   ]
  },
  {
   "cell_type": "code",
   "execution_count": 10,
   "id": "cutting-assault",
   "metadata": {
    "ExecuteTime": {
     "end_time": "2021-08-18T16:28:13.344000+03:00",
     "start_time": "2021-08-18T13:28:13.106Z"
    }
   },
   "outputs": [
    {
     "data": {
      "text/plain": [
       "2"
      ]
     },
     "execution_count": 10,
     "metadata": {},
     "output_type": "execute_result"
    }
   ],
   "source": [
    "ϕ=2*π\n",
    "x=2"
   ]
  },
  {
   "cell_type": "code",
   "execution_count": 16,
   "id": "physical-custody",
   "metadata": {
    "ExecuteTime": {
     "end_time": "2021-08-18T16:28:43.819000+03:00",
     "start_time": "2021-08-18T13:28:43.714Z"
    }
   },
   "outputs": [
    {
     "name": "stdout",
     "output_type": "stream",
     "text": [
      "6.283185307179586\n"
     ]
    }
   ],
   "source": [
    "println(ϕ)"
   ]
  },
  {
   "cell_type": "code",
   "execution_count": 27,
   "id": "conditional-mention",
   "metadata": {
    "ExecuteTime": {
     "end_time": "2021-08-18T16:58:24.885000+03:00",
     "start_time": "2021-08-18T13:58:24.788Z"
    }
   },
   "outputs": [
    {
     "data": {
      "text/plain": [
       "2.160246899469287"
      ]
     },
     "execution_count": 27,
     "metadata": {},
     "output_type": "execute_result"
    }
   ],
   "source": [
    "function rms(x) \n",
    "    sqrt(sum(x.^2)/length(x))\n",
    "end\n",
    "x=[1,2,3]\n",
    "rms(x)\n"
   ]
  },
  {
   "cell_type": "code",
   "execution_count": null,
   "id": "overall-thumbnail",
   "metadata": {},
   "outputs": [],
   "source": []
  },
  {
   "cell_type": "code",
   "execution_count": null,
   "id": "cross-dress",
   "metadata": {},
   "outputs": [],
   "source": []
  }
 ],
 "metadata": {
  "kernelspec": {
   "display_name": "Julia 1.5.3",
   "language": "julia",
   "name": "julia-1.5"
  },
  "language_info": {
   "file_extension": ".jl",
   "mimetype": "application/julia",
   "name": "julia",
   "version": "1.5.3"
  },
  "toc": {
   "base_numbering": 1,
   "nav_menu": {},
   "number_sections": true,
   "sideBar": true,
   "skip_h1_title": false,
   "title_cell": "Table of Contents",
   "title_sidebar": "Contents",
   "toc_cell": false,
   "toc_position": {},
   "toc_section_display": true,
   "toc_window_display": false
  }
 },
 "nbformat": 4,
 "nbformat_minor": 5
}
