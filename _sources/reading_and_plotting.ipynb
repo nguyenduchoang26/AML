{
 "cells": [
  {
   "cell_type": "markdown",
   "metadata": {
    "slideshow": {
     "slide_type": "slide"
    }
   },
   "source": [
    "# Reading and plotting"
   ]
  },
  {
   "cell_type": "markdown",
   "metadata": {
    "slideshow": {
     "slide_type": "fragment"
    }
   },
   "source": [
    "## Reading different data formats\n",
    "\n",
    "Data comes in many differents forms. Few common data formats are:\n",
    " - Tabular data. Often fields separated by tabs or variable number of spaces\n",
    " - Comma Separated Values (CSV), or semicolon separated values \n",
    " - Excel spreadsheets, or libreoffice\n",
    " - Hierarchical Data Format, like HDF5, MATLAB native\n",
    " - Common Data Format (CDF) or NetCDF \n",
    " - Databases usign Structured Query Language (SQL)\n",
    " - And many many others. See more from [Wikipedia](http://fileformats.archiveteam.org/wiki/Scientific_Data_formats)"
   ]
  },
  {
   "cell_type": "markdown",
   "metadata": {
    "slideshow": {
     "slide_type": "slide"
    }
   },
   "source": [
    "## Asphalt heat data\n",
    "\n",
    "The data is clearly in CSV-file with three columns, where field separator is semicolon. The first column is a timestamp in ISO format. Other columns are numerical and they use decimal points. The first row is a colun header.\n",
    "\n",
    "`Timestamp; Irradiance; Heatflux\n",
    "2014-10-01 03:00:20;   0.2; -83.1\n",
    "2014-10-01 03:15:20;   0.2; -82.8\n",
    "2014-10-01 03:30:20;   0.1; -82.5\n",
    "2014-10-01 03:45:20;   0.1; -82.3\n",
    "2014-10-01 04:00:20;   0.1;\n",
    "2014-10-01 04:15:20;   0.1; -82.2\n",
    "......`\n"
   ]
  },
  {
   "cell_type": "markdown",
   "metadata": {
    "slideshow": {
     "slide_type": "subslide"
    }
   },
   "source": [
    "## Pandas\n",
    "Parsing simple CSV data files is easy with many methods, but it is easiest, if you use [Pandas](https://pandas.pydata.org/) statistics package. And because Pandas provides so many other features as well, let's take a closer look on that. Read [10 minutes to Pandas](https://pandas.pydata.org/pandas-docs/stable/getting_started/10min.html) at this stage.\n",
    "\n",
    "It is really convenient to let Pandas parse the timestamps by defining the columns whics are being parsed with `parse_dates` argument. You can just list the columns which contain timestamp values.\n",
    "\n",
    "This data is clearly time series data, so it is best to be indexed with a timestamp. In this way you can very easily select data based on the timestamp and if you plot the data, you get time axis automatically in the x-axis. This can be achieved by defining the column which is used as an index with `index_col` parameter.\n",
    "\n",
    "It is really inconvenient that by default Pandas interpretes whitespaces as important in the beginning of fields. For example, in the previous dataset, the header included the column names in following format `Timestamp; Irradiance; Heatflux`. Ther is a whihtespace in between semicolon and the next field name, `; Irradiance` for instance. By default Pandas parses ' Irradiance' as the name of this field. It has some consequences. Therefore it is good practice to use `skipinitialspace` parameter to prevent this.\n"
   ]
  },
  {
   "cell_type": "markdown",
   "metadata": {
    "slideshow": {
     "slide_type": "subslide"
    }
   },
   "source": [
    "Now we are well prepared to read the data using `pd.read_csv` function, which returns a data structure, called as Pandas dataframe. It is a little bit similar than data frames in R. Basically it is simiar than numpy array, but it has also many more advanced features.\n",
    "\n",
    "After reading the pandas dataframe, we can print the shape (number of rows and columns in the dataframe) and the head (the first rows) of the dataframe."
   ]
  },
  {
   "cell_type": "code",
   "execution_count": 2,
   "metadata": {
    "slideshow": {
     "slide_type": "subslide"
    }
   },
   "outputs": [
    {
     "name": "stdout",
     "output_type": "stream",
     "text": [
      "(2968, 2)\n"
     ]
    },
    {
     "data": {
      "text/html": [
       "<div>\n",
       "<style scoped>\n",
       "    .dataframe tbody tr th:only-of-type {\n",
       "        vertical-align: middle;\n",
       "    }\n",
       "\n",
       "    .dataframe tbody tr th {\n",
       "        vertical-align: top;\n",
       "    }\n",
       "\n",
       "    .dataframe thead th {\n",
       "        text-align: right;\n",
       "    }\n",
       "</style>\n",
       "<table border=\"1\" class=\"dataframe\">\n",
       "  <thead>\n",
       "    <tr style=\"text-align: right;\">\n",
       "      <th></th>\n",
       "      <th>Irradiance</th>\n",
       "      <th>Heatflux</th>\n",
       "    </tr>\n",
       "    <tr>\n",
       "      <th>Timestamp</th>\n",
       "      <th></th>\n",
       "      <th></th>\n",
       "    </tr>\n",
       "  </thead>\n",
       "  <tbody>\n",
       "    <tr>\n",
       "      <th>2014-10-01 03:00:20</th>\n",
       "      <td>0.2</td>\n",
       "      <td>-83.1</td>\n",
       "    </tr>\n",
       "    <tr>\n",
       "      <th>2014-10-01 03:15:20</th>\n",
       "      <td>0.2</td>\n",
       "      <td>-82.8</td>\n",
       "    </tr>\n",
       "    <tr>\n",
       "      <th>2014-10-01 03:30:20</th>\n",
       "      <td>0.1</td>\n",
       "      <td>-82.5</td>\n",
       "    </tr>\n",
       "    <tr>\n",
       "      <th>2014-10-01 03:45:20</th>\n",
       "      <td>0.1</td>\n",
       "      <td>-82.3</td>\n",
       "    </tr>\n",
       "    <tr>\n",
       "      <th>2014-10-01 04:00:20</th>\n",
       "      <td>0.1</td>\n",
       "      <td>NaN</td>\n",
       "    </tr>\n",
       "    <tr>\n",
       "      <th>2014-10-01 04:15:20</th>\n",
       "      <td>0.1</td>\n",
       "      <td>-82.2</td>\n",
       "    </tr>\n",
       "  </tbody>\n",
       "</table>\n",
       "</div>"
      ],
      "text/plain": [
       "                     Irradiance  Heatflux\n",
       "Timestamp                                \n",
       "2014-10-01 03:00:20         0.2     -83.1\n",
       "2014-10-01 03:15:20         0.2     -82.8\n",
       "2014-10-01 03:30:20         0.1     -82.5\n",
       "2014-10-01 03:45:20         0.1     -82.3\n",
       "2014-10-01 04:00:20         0.1       NaN\n",
       "2014-10-01 04:15:20         0.1     -82.2"
      ]
     },
     "execution_count": 2,
     "metadata": {},
     "output_type": "execute_result"
    }
   ],
   "source": [
    "import numpy as np\n",
    "import pandas as pd\n",
    "import matplotlib.pylab as plt\n",
    "D=pd.read_csv('data/asphaltHeat.csv', sep=';', parse_dates=[0], index_col=0, skipinitialspace=True)\n",
    "print(D.shape)\n",
    "D.head(6)\n"
   ]
  },
  {
   "cell_type": "markdown",
   "metadata": {
    "slideshow": {
     "slide_type": "subslide"
    }
   },
   "source": [
    "## Missing data\n",
    "- In the original CSV-file, Heatflux data corresponding timestamp `2014-10-01 04:00:20` is missing\n",
    "- It is represented by 'NaN' in ther parsed dataframe, which is which is a floating point representation of `Not a Number` value. \n",
    "- Generally it is said that this value is not available (`na`).\n",
    "- Missing data can cause bias to statistical operations \n",
    "- Arithmetic operations with not a number values are undefined."
   ]
  },
  {
   "cell_type": "code",
   "execution_count": 3,
   "metadata": {
    "slideshow": {
     "slide_type": "fragment"
    }
   },
   "outputs": [
    {
     "name": "stdout",
     "output_type": "stream",
     "text": [
      "3.141000 + nan = nan\n",
      "\n"
     ]
    }
   ],
   "source": [
    "a=3.141\n",
    "b=np.nan\n",
    "print(\"%f + %f = %f\\n\" % (a,b, a+b))"
   ]
  },
  {
   "cell_type": "markdown",
   "metadata": {
    "slideshow": {
     "slide_type": "fragment"
    }
   },
   "source": [
    "But many statistical functions ni Pandas have buildin strategy for handling missing data. The result will be calculated, but there is still a danger of bias."
   ]
  },
  {
   "cell_type": "code",
   "execution_count": 4,
   "metadata": {
    "slideshow": {
     "slide_type": "subslide"
    }
   },
   "outputs": [
    {
     "name": "stdout",
     "output_type": "stream",
     "text": [
      "Irradiance     0.133333\n",
      "Heatflux     -82.580000\n",
      "dtype: float64\n",
      "\n",
      "\n",
      "Irradiance    0.133333\n",
      "Heatflux           NaN\n",
      "dtype: float64\n"
     ]
    },
    {
     "data": {
      "text/html": [
       "<div>\n",
       "<style scoped>\n",
       "    .dataframe tbody tr th:only-of-type {\n",
       "        vertical-align: middle;\n",
       "    }\n",
       "\n",
       "    .dataframe tbody tr th {\n",
       "        vertical-align: top;\n",
       "    }\n",
       "\n",
       "    .dataframe thead th {\n",
       "        text-align: right;\n",
       "    }\n",
       "</style>\n",
       "<table border=\"1\" class=\"dataframe\">\n",
       "  <thead>\n",
       "    <tr style=\"text-align: right;\">\n",
       "      <th></th>\n",
       "      <th>Irradiance</th>\n",
       "      <th>Heatflux</th>\n",
       "    </tr>\n",
       "  </thead>\n",
       "  <tbody>\n",
       "    <tr>\n",
       "      <th>count</th>\n",
       "      <td>2968.000000</td>\n",
       "      <td>2952.00000</td>\n",
       "    </tr>\n",
       "    <tr>\n",
       "      <th>mean</th>\n",
       "      <td>33.743093</td>\n",
       "      <td>-2.23269</td>\n",
       "    </tr>\n",
       "    <tr>\n",
       "      <th>std</th>\n",
       "      <td>69.410991</td>\n",
       "      <td>10.00759</td>\n",
       "    </tr>\n",
       "    <tr>\n",
       "      <th>min</th>\n",
       "      <td>-0.500000</td>\n",
       "      <td>-84.90000</td>\n",
       "    </tr>\n",
       "    <tr>\n",
       "      <th>25%</th>\n",
       "      <td>0.100000</td>\n",
       "      <td>0.00000</td>\n",
       "    </tr>\n",
       "    <tr>\n",
       "      <th>50%</th>\n",
       "      <td>0.300000</td>\n",
       "      <td>0.00000</td>\n",
       "    </tr>\n",
       "    <tr>\n",
       "      <th>75%</th>\n",
       "      <td>34.525000</td>\n",
       "      <td>-0.00000</td>\n",
       "    </tr>\n",
       "    <tr>\n",
       "      <th>max</th>\n",
       "      <td>513.200000</td>\n",
       "      <td>36.20000</td>\n",
       "    </tr>\n",
       "  </tbody>\n",
       "</table>\n",
       "</div>"
      ],
      "text/plain": [
       "        Irradiance    Heatflux\n",
       "count  2968.000000  2952.00000\n",
       "mean     33.743093    -2.23269\n",
       "std      69.410991    10.00759\n",
       "min      -0.500000   -84.90000\n",
       "25%       0.100000     0.00000\n",
       "50%       0.300000     0.00000\n",
       "75%      34.525000    -0.00000\n",
       "max     513.200000    36.20000"
      ]
     },
     "execution_count": 4,
     "metadata": {},
     "output_type": "execute_result"
    }
   ],
   "source": [
    "# Default behaviour for mean() function is to skip NaN values\n",
    "print(D.head(6).mean())\n",
    "print(\"\\n\")\n",
    "\n",
    "# It can be explicitely set to include them, use \"help(D.mean)\" to get more help\n",
    "print(D.head(6).mean(skipna=False))\n",
    "\n",
    "# Describe provides a lot of statistics of the data, it ignores the NA values\n",
    "D.describe()\n"
   ]
  },
  {
   "cell_type": "code",
   "execution_count": 5,
   "metadata": {
    "slideshow": {
     "slide_type": "subslide"
    }
   },
   "outputs": [
    {
     "data": {
      "text/html": [
       "<div>\n",
       "<style scoped>\n",
       "    .dataframe tbody tr th:only-of-type {\n",
       "        vertical-align: middle;\n",
       "    }\n",
       "\n",
       "    .dataframe tbody tr th {\n",
       "        vertical-align: top;\n",
       "    }\n",
       "\n",
       "    .dataframe thead th {\n",
       "        text-align: right;\n",
       "    }\n",
       "</style>\n",
       "<table border=\"1\" class=\"dataframe\">\n",
       "  <thead>\n",
       "    <tr style=\"text-align: right;\">\n",
       "      <th></th>\n",
       "      <th>Irradiance</th>\n",
       "      <th>Heatflux</th>\n",
       "    </tr>\n",
       "    <tr>\n",
       "      <th>Timestamp</th>\n",
       "      <th></th>\n",
       "      <th></th>\n",
       "    </tr>\n",
       "  </thead>\n",
       "  <tbody>\n",
       "    <tr>\n",
       "      <th>2014-10-01 03:00:20</th>\n",
       "      <td>False</td>\n",
       "      <td>False</td>\n",
       "    </tr>\n",
       "    <tr>\n",
       "      <th>2014-10-01 03:15:20</th>\n",
       "      <td>False</td>\n",
       "      <td>False</td>\n",
       "    </tr>\n",
       "    <tr>\n",
       "      <th>2014-10-01 03:30:20</th>\n",
       "      <td>False</td>\n",
       "      <td>False</td>\n",
       "    </tr>\n",
       "    <tr>\n",
       "      <th>2014-10-01 03:45:20</th>\n",
       "      <td>False</td>\n",
       "      <td>False</td>\n",
       "    </tr>\n",
       "    <tr>\n",
       "      <th>2014-10-01 04:00:20</th>\n",
       "      <td>False</td>\n",
       "      <td>True</td>\n",
       "    </tr>\n",
       "    <tr>\n",
       "      <th>2014-10-01 04:15:20</th>\n",
       "      <td>False</td>\n",
       "      <td>False</td>\n",
       "    </tr>\n",
       "  </tbody>\n",
       "</table>\n",
       "</div>"
      ],
      "text/plain": [
       "                     Irradiance  Heatflux\n",
       "Timestamp                                \n",
       "2014-10-01 03:00:20       False     False\n",
       "2014-10-01 03:15:20       False     False\n",
       "2014-10-01 03:30:20       False     False\n",
       "2014-10-01 03:45:20       False     False\n",
       "2014-10-01 04:00:20       False      True\n",
       "2014-10-01 04:15:20       False     False"
      ]
     },
     "execution_count": 5,
     "metadata": {},
     "output_type": "execute_result"
    }
   ],
   "source": [
    "# NA values can be detected using isna() function\n",
    "D.head(6).isna()"
   ]
  },
  {
   "cell_type": "code",
   "execution_count": 6,
   "metadata": {
    "slideshow": {
     "slide_type": "subslide"
    }
   },
   "outputs": [
    {
     "data": {
      "text/html": [
       "<div>\n",
       "<style scoped>\n",
       "    .dataframe tbody tr th:only-of-type {\n",
       "        vertical-align: middle;\n",
       "    }\n",
       "\n",
       "    .dataframe tbody tr th {\n",
       "        vertical-align: top;\n",
       "    }\n",
       "\n",
       "    .dataframe thead th {\n",
       "        text-align: right;\n",
       "    }\n",
       "</style>\n",
       "<table border=\"1\" class=\"dataframe\">\n",
       "  <thead>\n",
       "    <tr style=\"text-align: right;\">\n",
       "      <th></th>\n",
       "      <th>Irradiance</th>\n",
       "      <th>Heatflux</th>\n",
       "    </tr>\n",
       "    <tr>\n",
       "      <th>Timestamp</th>\n",
       "      <th></th>\n",
       "      <th></th>\n",
       "    </tr>\n",
       "  </thead>\n",
       "  <tbody>\n",
       "    <tr>\n",
       "      <th>2014-10-01 04:00:20</th>\n",
       "      <td>0.1</td>\n",
       "      <td>NaN</td>\n",
       "    </tr>\n",
       "    <tr>\n",
       "      <th>2014-10-01 08:30:20</th>\n",
       "      <td>86.9</td>\n",
       "      <td>NaN</td>\n",
       "    </tr>\n",
       "    <tr>\n",
       "      <th>2014-10-01 16:15:20</th>\n",
       "      <td>186.2</td>\n",
       "      <td>NaN</td>\n",
       "    </tr>\n",
       "    <tr>\n",
       "      <th>2014-10-02 02:30:20</th>\n",
       "      <td>0.1</td>\n",
       "      <td>NaN</td>\n",
       "    </tr>\n",
       "    <tr>\n",
       "      <th>2014-10-02 02:45:20</th>\n",
       "      <td>0.1</td>\n",
       "      <td>NaN</td>\n",
       "    </tr>\n",
       "    <tr>\n",
       "      <th>2014-10-02 03:00:20</th>\n",
       "      <td>0.1</td>\n",
       "      <td>NaN</td>\n",
       "    </tr>\n",
       "    <tr>\n",
       "      <th>2014-10-02 03:15:20</th>\n",
       "      <td>0.1</td>\n",
       "      <td>NaN</td>\n",
       "    </tr>\n",
       "    <tr>\n",
       "      <th>2014-10-02 06:00:20</th>\n",
       "      <td>-0.0</td>\n",
       "      <td>NaN</td>\n",
       "    </tr>\n",
       "    <tr>\n",
       "      <th>2014-10-02 06:30:20</th>\n",
       "      <td>0.4</td>\n",
       "      <td>NaN</td>\n",
       "    </tr>\n",
       "    <tr>\n",
       "      <th>2014-10-02 06:45:20</th>\n",
       "      <td>2.7</td>\n",
       "      <td>NaN</td>\n",
       "    </tr>\n",
       "    <tr>\n",
       "      <th>2014-10-02 07:00:20</th>\n",
       "      <td>6.0</td>\n",
       "      <td>NaN</td>\n",
       "    </tr>\n",
       "    <tr>\n",
       "      <th>2014-10-02 07:15:20</th>\n",
       "      <td>13.2</td>\n",
       "      <td>NaN</td>\n",
       "    </tr>\n",
       "    <tr>\n",
       "      <th>2014-10-02 07:30:20</th>\n",
       "      <td>12.9</td>\n",
       "      <td>NaN</td>\n",
       "    </tr>\n",
       "    <tr>\n",
       "      <th>2014-10-02 07:45:20</th>\n",
       "      <td>19.4</td>\n",
       "      <td>NaN</td>\n",
       "    </tr>\n",
       "    <tr>\n",
       "      <th>2014-10-02 08:00:20</th>\n",
       "      <td>32.4</td>\n",
       "      <td>NaN</td>\n",
       "    </tr>\n",
       "    <tr>\n",
       "      <th>2014-10-02 08:15:20</th>\n",
       "      <td>118.4</td>\n",
       "      <td>NaN</td>\n",
       "    </tr>\n",
       "  </tbody>\n",
       "</table>\n",
       "</div>"
      ],
      "text/plain": [
       "                     Irradiance  Heatflux\n",
       "Timestamp                                \n",
       "2014-10-01 04:00:20         0.1       NaN\n",
       "2014-10-01 08:30:20        86.9       NaN\n",
       "2014-10-01 16:15:20       186.2       NaN\n",
       "2014-10-02 02:30:20         0.1       NaN\n",
       "2014-10-02 02:45:20         0.1       NaN\n",
       "2014-10-02 03:00:20         0.1       NaN\n",
       "2014-10-02 03:15:20         0.1       NaN\n",
       "2014-10-02 06:00:20        -0.0       NaN\n",
       "2014-10-02 06:30:20         0.4       NaN\n",
       "2014-10-02 06:45:20         2.7       NaN\n",
       "2014-10-02 07:00:20         6.0       NaN\n",
       "2014-10-02 07:15:20        13.2       NaN\n",
       "2014-10-02 07:30:20        12.9       NaN\n",
       "2014-10-02 07:45:20        19.4       NaN\n",
       "2014-10-02 08:00:20        32.4       NaN\n",
       "2014-10-02 08:15:20       118.4       NaN"
      ]
     },
     "execution_count": 6,
     "metadata": {},
     "output_type": "execute_result"
    }
   ],
   "source": [
    "# All rows where Heatflux values is not known can be easily detected\n",
    "# by indexing the dataframe with the boolean vector given by isna() function\n",
    "D[D.Heatflux.isna()]\n"
   ]
  },
  {
   "cell_type": "markdown",
   "metadata": {
    "slideshow": {
     "slide_type": "subslide"
    }
   },
   "source": [
    "### Other methods for handling missing data \n",
    "The default handling of missing data is to skip them. The dataframe can be also be preprocessed to handle the missing data in following ways:\n",
    "\n",
    " 1. Drop all rows which has missing data. Can cause bias and loss of valuable data in other columns.\n",
    " 1. Drop all columns which has missing data. Causes loss of data.\n",
    " 1. Fill missing data with other values, [imputation](https://en.wikipedia.org/wiki/Imputation_%28statistics%29), such as:\n",
    "   1. Constants, like 0, `np.inf`, etc\n",
    "   1. Mean value\n",
    "   1. Previous or next available value\n",
    "   1. Interpolated value\n",
    "   1. Value from similar record (Hot deck)"
   ]
  },
  {
   "cell_type": "code",
   "execution_count": 7,
   "metadata": {
    "slideshow": {
     "slide_type": "subslide"
    }
   },
   "outputs": [
    {
     "name": "stdout",
     "output_type": "stream",
     "text": [
      "(2968, 2)\n",
      "(2952, 2)\n"
     ]
    }
   ],
   "source": [
    "print(D.shape)\n",
    "print(D.dropna().shape)"
   ]
  },
  {
   "cell_type": "markdown",
   "metadata": {
    "slideshow": {
     "slide_type": "fragment"
    }
   },
   "source": [
    "D.dropna() drops all rows which has na-values. It has clearly dropped 16 rows.\n",
    "\n",
    "NA-values can be also easily filled, but it may affect the statistics."
   ]
  },
  {
   "cell_type": "code",
   "execution_count": 8,
   "metadata": {
    "slideshow": {
     "slide_type": "subslide"
    }
   },
   "outputs": [
    {
     "name": "stdout",
     "output_type": "stream",
     "text": [
      "-2.232689701897022\n",
      "-2.232689701897022\n",
      "-2.220653638814019\n",
      "-2.2732479784366624\n",
      "-2.2722540431266895\n"
     ]
    }
   ],
   "source": [
    "# Drop missing data, and then calculate the mean Heatflux\n",
    "print(D.Heatflux.mean())  # Default behavior, do not use missing values\n",
    "print(D.dropna().Heatflux.mean()) # Drop missing rows explicitely\n",
    "\n",
    "# Impute missing values, and then calculate the mean of Heaflux\n",
    "print(D.fillna(0).Heatflux.mean()) # Fill missing values with zeros\n",
    "print(D.fillna(method='pad').Heatflux.mean()) # Copy previous value in place of missing value\n",
    "print(D.interpolate().Heatflux.mean()) # Interpolate missing values"
   ]
  },
  {
   "cell_type": "code",
   "execution_count": 83,
   "metadata": {
    "slideshow": {
     "slide_type": "subslide"
    }
   },
   "outputs": [
    {
     "data": {
      "text/html": [
       "<div>\n",
       "<style scoped>\n",
       "    .dataframe tbody tr th:only-of-type {\n",
       "        vertical-align: middle;\n",
       "    }\n",
       "\n",
       "    .dataframe tbody tr th {\n",
       "        vertical-align: top;\n",
       "    }\n",
       "\n",
       "    .dataframe thead th {\n",
       "        text-align: right;\n",
       "    }\n",
       "</style>\n",
       "<table border=\"1\" class=\"dataframe\">\n",
       "  <thead>\n",
       "    <tr style=\"text-align: right;\">\n",
       "      <th></th>\n",
       "      <th>Irradiance</th>\n",
       "      <th>Heatflux</th>\n",
       "    </tr>\n",
       "    <tr>\n",
       "      <th>Timestamp</th>\n",
       "      <th></th>\n",
       "      <th></th>\n",
       "    </tr>\n",
       "  </thead>\n",
       "  <tbody>\n",
       "    <tr>\n",
       "      <th>2014-10-01 03:00:20</th>\n",
       "      <td>0.2</td>\n",
       "      <td>-83.10</td>\n",
       "    </tr>\n",
       "    <tr>\n",
       "      <th>2014-10-01 03:15:20</th>\n",
       "      <td>0.2</td>\n",
       "      <td>-82.80</td>\n",
       "    </tr>\n",
       "    <tr>\n",
       "      <th>2014-10-01 03:30:20</th>\n",
       "      <td>0.1</td>\n",
       "      <td>-82.50</td>\n",
       "    </tr>\n",
       "    <tr>\n",
       "      <th>2014-10-01 03:45:20</th>\n",
       "      <td>0.1</td>\n",
       "      <td>-82.30</td>\n",
       "    </tr>\n",
       "    <tr>\n",
       "      <th>2014-10-01 04:00:20</th>\n",
       "      <td>0.1</td>\n",
       "      <td>-82.25</td>\n",
       "    </tr>\n",
       "  </tbody>\n",
       "</table>\n",
       "</div>"
      ],
      "text/plain": [
       "                     Irradiance  Heatflux\n",
       "Timestamp                                \n",
       "2014-10-01 03:00:20         0.2    -83.10\n",
       "2014-10-01 03:15:20         0.2    -82.80\n",
       "2014-10-01 03:30:20         0.1    -82.50\n",
       "2014-10-01 03:45:20         0.1    -82.30\n",
       "2014-10-01 04:00:20         0.1    -82.25"
      ]
     },
     "execution_count": 83,
     "metadata": {},
     "output_type": "execute_result"
    }
   ],
   "source": [
    "D.interpolate().head()"
   ]
  },
  {
   "cell_type": "markdown",
   "metadata": {
    "slideshow": {
     "slide_type": "subslide"
    }
   },
   "source": [
    "## Summary\n",
    "There is ofthe missing values in the data. They can be handled with many methods, but all of them have consequences.  \n",
    "- Always study hwo much missing values there is in the data\n",
    "- Be aware what is default missing data handling method and think if it is the best in your case\n",
    "- Pandas and other sofware support many missing data handling policies if the default is not sufficient\n",
    "- Make sure that you know how your missing data hanling method affects to the statistics"
   ]
  },
  {
   "cell_type": "markdown",
   "metadata": {
    "slideshow": {
     "slide_type": "slide"
    }
   },
   "source": [
    "## Slicing pandas data frame\n",
    "Pandas dataframes support really versatile methods for indexing in columnvise and rowvise directions\n",
    " - Dataframes can be indexed using column names either using dot-notation or column name in square brackets. Using column names is usefull if your data structure later changes. It makes also the code as easier to understand."
   ]
  },
  {
   "cell_type": "code",
   "execution_count": 9,
   "metadata": {
    "slideshow": {
     "slide_type": "fragment"
    }
   },
   "outputs": [
    {
     "name": "stdout",
     "output_type": "stream",
     "text": [
      "Index(['Irradiance', 'Heatflux'], dtype='object')\n"
     ]
    },
    {
     "data": {
      "text/plain": [
       "Timestamp\n",
       "2014-10-01 03:00:20    0.2\n",
       "2014-10-01 03:15:20    0.2\n",
       "2014-10-01 03:30:20    0.1\n",
       "2014-10-01 03:45:20    0.1\n",
       "2014-10-01 04:00:20    0.1\n",
       "Name: Irradiance, dtype: float64"
      ]
     },
     "execution_count": 9,
     "metadata": {},
     "output_type": "execute_result"
    }
   ],
   "source": [
    "print(D.columns)\n",
    "\n",
    "# THese two lines produce identical results\n",
    "D.Irradiance.head()\n",
    "D['Irradiance'].head()"
   ]
  },
  {
   "cell_type": "markdown",
   "metadata": {
    "slideshow": {
     "slide_type": "subslide"
    }
   },
   "source": [
    "Dataframes can also be indexed using row index. If it is a time field, it can handle many different time formats."
   ]
  },
  {
   "cell_type": "code",
   "execution_count": 78,
   "metadata": {
    "slideshow": {
     "slide_type": "fragment"
    }
   },
   "outputs": [
    {
     "data": {
      "text/html": [
       "<div>\n",
       "<style scoped>\n",
       "    .dataframe tbody tr th:only-of-type {\n",
       "        vertical-align: middle;\n",
       "    }\n",
       "\n",
       "    .dataframe tbody tr th {\n",
       "        vertical-align: top;\n",
       "    }\n",
       "\n",
       "    .dataframe thead th {\n",
       "        text-align: right;\n",
       "    }\n",
       "</style>\n",
       "<table border=\"1\" class=\"dataframe\">\n",
       "  <thead>\n",
       "    <tr style=\"text-align: right;\">\n",
       "      <th></th>\n",
       "      <th>Irradiance</th>\n",
       "      <th>Heatflux</th>\n",
       "    </tr>\n",
       "    <tr>\n",
       "      <th>Timestamp</th>\n",
       "      <th></th>\n",
       "      <th></th>\n",
       "    </tr>\n",
       "  </thead>\n",
       "  <tbody>\n",
       "    <tr>\n",
       "      <th>2014-10-15 00:00:20</th>\n",
       "      <td>0.3</td>\n",
       "      <td>-0.1</td>\n",
       "    </tr>\n",
       "    <tr>\n",
       "      <th>2014-10-15 00:15:20</th>\n",
       "      <td>0.3</td>\n",
       "      <td>-0.1</td>\n",
       "    </tr>\n",
       "    <tr>\n",
       "      <th>2014-10-15 00:30:20</th>\n",
       "      <td>0.3</td>\n",
       "      <td>-0.1</td>\n",
       "    </tr>\n",
       "    <tr>\n",
       "      <th>2014-10-15 00:45:20</th>\n",
       "      <td>0.3</td>\n",
       "      <td>-0.1</td>\n",
       "    </tr>\n",
       "  </tbody>\n",
       "</table>\n",
       "</div>"
      ],
      "text/plain": [
       "                     Irradiance  Heatflux\n",
       "Timestamp                                \n",
       "2014-10-15 00:00:20         0.3      -0.1\n",
       "2014-10-15 00:15:20         0.3      -0.1\n",
       "2014-10-15 00:30:20         0.3      -0.1\n",
       "2014-10-15 00:45:20         0.3      -0.1"
      ]
     },
     "execution_count": 78,
     "metadata": {},
     "output_type": "execute_result"
    }
   ],
   "source": [
    "D['2014-10-15 00']"
   ]
  },
  {
   "cell_type": "markdown",
   "metadata": {
    "slideshow": {
     "slide_type": "subslide"
    }
   },
   "source": [
    "Dataframes support also MATLAB or R like location based indexing:"
   ]
  },
  {
   "cell_type": "code",
   "execution_count": 82,
   "metadata": {
    "slideshow": {
     "slide_type": "fragment"
    }
   },
   "outputs": [
    {
     "data": {
      "text/plain": [
       "Timestamp\n",
       "2014-10-01 03:30:20   -82.5\n",
       "2014-10-01 03:45:20   -82.3\n",
       "2014-10-01 04:00:20     NaN\n",
       "Name: Heatflux, dtype: float64"
      ]
     },
     "execution_count": 82,
     "metadata": {},
     "output_type": "execute_result"
    }
   ],
   "source": [
    "D.iloc[2:5,1]"
   ]
  },
  {
   "cell_type": "markdown",
   "metadata": {
    "slideshow": {
     "slide_type": "fragment"
    }
   },
   "source": [
    "Read more from the tutorialspoint article [Python Pandas - Indexing and Selecting Data](https://www.tutorialspoint.com/python_pandas/python_pandas_indexing_and_selecting_data.htm)."
   ]
  },
  {
   "cell_type": "markdown",
   "metadata": {
    "slideshow": {
     "slide_type": "subslide"
    }
   },
   "source": [
    "### Plotting\n",
    "The data in the dataframe can be plotted almost automatically."
   ]
  },
  {
   "cell_type": "code",
   "execution_count": 10,
   "metadata": {
    "slideshow": {
     "slide_type": "fragment"
    }
   },
   "outputs": [
    {
     "data": {
      "text/plain": [
       "Text(0, 0.5, 'Power [W/$m^2$]')"
      ]
     },
     "execution_count": 10,
     "metadata": {},
     "output_type": "execute_result"
    },
    {
     "data": {
      "image/png": "[encoded data removed]",
      "text/plain": [
       "<Figure size 432x288 with 1 Axes>"
      ]
     },
     "metadata": {
      "needs_background": "light"
     },
     "output_type": "display_data"
    }
   ],
   "source": [
    "ax=(D['2014-10-01']).plot()\n",
    "ax.grid()\n",
    "ax.set_ylabel('Power [W/$m^2$]')"
   ]
  },
  {
   "cell_type": "markdown",
   "metadata": {
    "slideshow": {
     "slide_type": "fragment"
    }
   },
   "source": [
    "Notice that the missing values are causing some breaks in the lines. They can be fixed with imputation."
   ]
  },
  {
   "cell_type": "code",
   "execution_count": 11,
   "metadata": {
    "slideshow": {
     "slide_type": "subslide"
    }
   },
   "outputs": [
    {
     "data": {
      "text/plain": [
       "Text(0, 0.5, 'Power [W/$m^2$]')"
      ]
     },
     "execution_count": 11,
     "metadata": {},
     "output_type": "execute_result"
    },
    {
     "data": {
      "image/png": "[encoded data removed]",
      "text/plain": [
       "<Figure size 432x288 with 1 Axes>"
      ]
     },
     "metadata": {
      "needs_background": "light"
     },
     "output_type": "display_data"
    }
   ],
   "source": [
    "ax=(D['2014-10-01']).interpolate().plot()\n",
    "ax.grid()\n",
    "ax.set_ylabel('Power [W/$m^2$]')"
   ]
  },
  {
   "cell_type": "markdown",
   "metadata": {
    "slideshow": {
     "slide_type": "slide"
    }
   },
   "source": [
    "## More challenging dataset\n",
    "\n",
    "Water quality data (CSV)\n",
    "\n",
    "`name of the station;ID-number of the station;ETRS-coordinates east;ETRS-coordinates north;max depth of the station;date;sampling depth;Faecal enterococci (kpl/100ml);Oxygen saturation (kyll.%);Dissolved oxygen (mg/l);Suspended solids, coarse (mg/l);Chlorophyll a (µg/l);Total phosphorous, unfiltered (µg/l);Total nitrogen, unfiltered (µg/l);Coliform bacteria thermotolerant (kpl/100ml);Temperature (°C);Nitrate as nitrogen, unfiltered (µg/l);Nitrate as nitrogen, unfiltered (µg/l);Nitrite nitrate as nitrogen, unfiltered (µg/l);Secchi depth (m);pH  ;Salinity (<89>);Turbidity (FNU);Conductivity (mS/m)\n",
    "Et kaup selkä 1;5520;227911;7005357;2.4;19.3.1974 0:00;;;;;;;;;;;;;;0.5;;;;\n",
    "Et kaup selkä 1;5520;227911;7005357;2.4;19.3.1974 0:00;1,0;0;56;7.9;;;14;4100;0;0.3;;;;;4.6;;8.1;231\n",
    "Et kaup selkä 1;5520;227911;7005357;2.4;12.6.1974 0:00;;;;;;;;;;;;;;1.1;;;;\n",
    "Et kaup selkä 1;5520;227911;7005357;2.4;12.6.1974 0:00;1,0;0;104;10.3;;;20;410;0;14.5;;;;;8.1;;;627\n",
    "Et kaup selkä 1;5520;227911;7005357;2.4;21.10.1974 0:00;;;;;;;;;;;;;;1;;;;\n",
    "Et kaup selkä 1;5520;227911;7005357;2.4;21.10.1974 0:00;1,0;3;93;12.2;;;20;1200;79;2.9;;;;;7.2;;;594\n",
    "Et kaup selkä 1;5520;227911;7005357;2.4;4.6.1975 0:00;;;;;;;;;;;;;;1;;;;\n",
    "Et kaup selkä 1;5520;227911;7005357;2.4;4.6.1975 0:00;1,0;2;102;11;;;40;560;17;10.5;;;;;6.7;;7.8;390`\n"
   ]
  },
  {
   "cell_type": "markdown",
   "metadata": {
    "slideshow": {
     "slide_type": "subslide"
    }
   },
   "source": [
    "The dataset is clearly in CSV-format, and it has semicolon separated values. Some columns are numerical and some others are strings. Column names are rather long strings. The fifth column (column number 4, if indexed from zero) is the timestamp. Lets read it:"
   ]
  },
  {
   "cell_type": "code",
   "execution_count": 17,
   "metadata": {
    "slideshow": {
     "slide_type": "subslide"
    }
   },
   "outputs": [
    {
     "name": "stdout",
     "output_type": "stream",
     "text": [
      "(790, 23)\n"
     ]
    },
    {
     "data": {
      "text/html": [
       "<div>\n",
       "<style scoped>\n",
       "    .dataframe tbody tr th:only-of-type {\n",
       "        vertical-align: middle;\n",
       "    }\n",
       "\n",
       "    .dataframe tbody tr th {\n",
       "        vertical-align: top;\n",
       "    }\n",
       "\n",
       "    .dataframe thead th {\n",
       "        text-align: right;\n",
       "    }\n",
       "</style>\n",
       "<table border=\"1\" class=\"dataframe\">\n",
       "  <thead>\n",
       "    <tr style=\"text-align: right;\">\n",
       "      <th></th>\n",
       "      <th>max depth of the station</th>\n",
       "      <th>sampling depth</th>\n",
       "      <th>Faecal enterococci (kpl/100ml)</th>\n",
       "      <th>Oxygen saturation (kyll.%)</th>\n",
       "      <th>Dissolved oxygen (mg/l)</th>\n",
       "      <th>Suspended solids, coarse (mg/l)</th>\n",
       "      <th>Chlorophyll a (µg/l)</th>\n",
       "      <th>Total phosphorous, unfiltered (µg/l)</th>\n",
       "      <th>Total nitrogen, unfiltered (µg/l)</th>\n",
       "      <th>Coliform bacteria thermotolerant (kpl/100ml)</th>\n",
       "      <th>Temperature (°C)</th>\n",
       "      <th>Nitrate as nitrogen, unfiltered (µg/l)</th>\n",
       "      <th>Nitrate as nitrogen, unfiltered (µg/l).1</th>\n",
       "      <th>Nitrite nitrate as nitrogen, unfiltered (µg/l)</th>\n",
       "      <th>Secchi depth (m)</th>\n",
       "      <th>pH</th>\n",
       "      <th>Salinity ()</th>\n",
       "      <th>Turbidity (FNU)</th>\n",
       "      <th>Conductivity (mS/m)</th>\n",
       "    </tr>\n",
       "    <tr>\n",
       "      <th>date</th>\n",
       "      <th></th>\n",
       "      <th></th>\n",
       "      <th></th>\n",
       "      <th></th>\n",
       "      <th></th>\n",
       "      <th></th>\n",
       "      <th></th>\n",
       "      <th></th>\n",
       "      <th></th>\n",
       "      <th></th>\n",
       "      <th></th>\n",
       "      <th></th>\n",
       "      <th></th>\n",
       "      <th></th>\n",
       "      <th></th>\n",
       "      <th></th>\n",
       "      <th></th>\n",
       "      <th></th>\n",
       "      <th></th>\n",
       "    </tr>\n",
       "  </thead>\n",
       "  <tbody>\n",
       "    <tr>\n",
       "      <th>1987-07-13 12:00:00</th>\n",
       "      <td>2.4</td>\n",
       "      <td>NaN</td>\n",
       "      <td>NaN</td>\n",
       "      <td>NaN</td>\n",
       "      <td>NaN</td>\n",
       "      <td>NaN</td>\n",
       "      <td>NaN</td>\n",
       "      <td>NaN</td>\n",
       "      <td>NaN</td>\n",
       "      <td>NaN</td>\n",
       "      <td>NaN</td>\n",
       "      <td>NaN</td>\n",
       "      <td>NaN</td>\n",
       "      <td>NaN</td>\n",
       "      <td>2.0</td>\n",
       "      <td>NaN</td>\n",
       "      <td>NaN</td>\n",
       "      <td>NaN</td>\n",
       "      <td>NaN</td>\n",
       "    </tr>\n",
       "    <tr>\n",
       "      <th>1987-07-13 12:00:00</th>\n",
       "      <td>2.4</td>\n",
       "      <td>0,0-1,2</td>\n",
       "      <td>NaN</td>\n",
       "      <td>NaN</td>\n",
       "      <td>NaN</td>\n",
       "      <td>NaN</td>\n",
       "      <td>4.4</td>\n",
       "      <td>12.0</td>\n",
       "      <td>650.0</td>\n",
       "      <td>NaN</td>\n",
       "      <td>16.6</td>\n",
       "      <td>330.0</td>\n",
       "      <td>2.0</td>\n",
       "      <td>NaN</td>\n",
       "      <td>NaN</td>\n",
       "      <td>NaN</td>\n",
       "      <td>NaN</td>\n",
       "      <td>NaN</td>\n",
       "      <td>NaN</td>\n",
       "    </tr>\n",
       "    <tr>\n",
       "      <th>1987-07-13 12:00:00</th>\n",
       "      <td>2.4</td>\n",
       "      <td>0,0-1,5</td>\n",
       "      <td>NaN</td>\n",
       "      <td>NaN</td>\n",
       "      <td>NaN</td>\n",
       "      <td>NaN</td>\n",
       "      <td>3.2</td>\n",
       "      <td>11.0</td>\n",
       "      <td>720.0</td>\n",
       "      <td>NaN</td>\n",
       "      <td>16.3</td>\n",
       "      <td>410.0</td>\n",
       "      <td>2.0</td>\n",
       "      <td>NaN</td>\n",
       "      <td>NaN</td>\n",
       "      <td>NaN</td>\n",
       "      <td>NaN</td>\n",
       "      <td>NaN</td>\n",
       "      <td>NaN</td>\n",
       "    </tr>\n",
       "    <tr>\n",
       "      <th>1987-07-27 12:00:00</th>\n",
       "      <td>2.4</td>\n",
       "      <td>0,0-2,0</td>\n",
       "      <td>NaN</td>\n",
       "      <td>NaN</td>\n",
       "      <td>NaN</td>\n",
       "      <td>NaN</td>\n",
       "      <td>1.7</td>\n",
       "      <td>NaN</td>\n",
       "      <td>NaN</td>\n",
       "      <td>NaN</td>\n",
       "      <td>NaN</td>\n",
       "      <td>NaN</td>\n",
       "      <td>NaN</td>\n",
       "      <td>NaN</td>\n",
       "      <td>NaN</td>\n",
       "      <td>NaN</td>\n",
       "      <td>NaN</td>\n",
       "      <td>NaN</td>\n",
       "      <td>NaN</td>\n",
       "    </tr>\n",
       "  </tbody>\n",
       "</table>\n",
       "</div>"
      ],
      "text/plain": [
       "                     max depth of the station sampling depth  \\\n",
       "date                                                           \n",
       "1987-07-13 12:00:00                       2.4            NaN   \n",
       "1987-07-13 12:00:00                       2.4        0,0-1,2   \n",
       "1987-07-13 12:00:00                       2.4        0,0-1,5   \n",
       "1987-07-27 12:00:00                       2.4        0,0-2,0   \n",
       "\n",
       "                     Faecal enterococci (kpl/100ml)  \\\n",
       "date                                                  \n",
       "1987-07-13 12:00:00                             NaN   \n",
       "1987-07-13 12:00:00                             NaN   \n",
       "1987-07-13 12:00:00                             NaN   \n",
       "1987-07-27 12:00:00                             NaN   \n",
       "\n",
       "                     Oxygen saturation (kyll.%)  Dissolved oxygen (mg/l)  \\\n",
       "date                                                                       \n",
       "1987-07-13 12:00:00                         NaN                      NaN   \n",
       "1987-07-13 12:00:00                         NaN                      NaN   \n",
       "1987-07-13 12:00:00                         NaN                      NaN   \n",
       "1987-07-27 12:00:00                         NaN                      NaN   \n",
       "\n",
       "                     Suspended solids, coarse (mg/l)  Chlorophyll a (µg/l)  \\\n",
       "date                                                                         \n",
       "1987-07-13 12:00:00                              NaN                   NaN   \n",
       "1987-07-13 12:00:00                              NaN                   4.4   \n",
       "1987-07-13 12:00:00                              NaN                   3.2   \n",
       "1987-07-27 12:00:00                              NaN                   1.7   \n",
       "\n",
       "                     Total phosphorous, unfiltered (µg/l)  \\\n",
       "date                                                        \n",
       "1987-07-13 12:00:00                                   NaN   \n",
       "1987-07-13 12:00:00                                  12.0   \n",
       "1987-07-13 12:00:00                                  11.0   \n",
       "1987-07-27 12:00:00                                   NaN   \n",
       "\n",
       "                     Total nitrogen, unfiltered (µg/l)  \\\n",
       "date                                                     \n",
       "1987-07-13 12:00:00                                NaN   \n",
       "1987-07-13 12:00:00                              650.0   \n",
       "1987-07-13 12:00:00                              720.0   \n",
       "1987-07-27 12:00:00                                NaN   \n",
       "\n",
       "                     Coliform bacteria thermotolerant (kpl/100ml)  \\\n",
       "date                                                                \n",
       "1987-07-13 12:00:00                                           NaN   \n",
       "1987-07-13 12:00:00                                           NaN   \n",
       "1987-07-13 12:00:00                                           NaN   \n",
       "1987-07-27 12:00:00                                           NaN   \n",
       "\n",
       "                     Temperature (°C)  Nitrate as nitrogen, unfiltered (µg/l)  \\\n",
       "date                                                                            \n",
       "1987-07-13 12:00:00               NaN                                     NaN   \n",
       "1987-07-13 12:00:00              16.6                                   330.0   \n",
       "1987-07-13 12:00:00              16.3                                   410.0   \n",
       "1987-07-27 12:00:00               NaN                                     NaN   \n",
       "\n",
       "                     Nitrate as nitrogen, unfiltered (µg/l).1  \\\n",
       "date                                                            \n",
       "1987-07-13 12:00:00                                       NaN   \n",
       "1987-07-13 12:00:00                                       2.0   \n",
       "1987-07-13 12:00:00                                       2.0   \n",
       "1987-07-27 12:00:00                                       NaN   \n",
       "\n",
       "                     Nitrite nitrate as nitrogen, unfiltered (µg/l)  \\\n",
       "date                                                                  \n",
       "1987-07-13 12:00:00                                             NaN   \n",
       "1987-07-13 12:00:00                                             NaN   \n",
       "1987-07-13 12:00:00                                             NaN   \n",
       "1987-07-27 12:00:00                                             NaN   \n",
       "\n",
       "                     Secchi depth (m)  pH    Salinity ()  Turbidity (FNU)  \\\n",
       "date                                                                         \n",
       "1987-07-13 12:00:00               2.0   NaN           NaN              NaN   \n",
       "1987-07-13 12:00:00               NaN   NaN           NaN              NaN   \n",
       "1987-07-13 12:00:00               NaN   NaN           NaN              NaN   \n",
       "1987-07-27 12:00:00               NaN   NaN           NaN              NaN   \n",
       "\n",
       "                     Conductivity (mS/m)  \n",
       "date                                      \n",
       "1987-07-13 12:00:00                  NaN  \n",
       "1987-07-13 12:00:00                  NaN  \n",
       "1987-07-13 12:00:00                  NaN  \n",
       "1987-07-27 12:00:00                  NaN  "
      ]
     },
     "execution_count": 17,
     "metadata": {},
     "output_type": "execute_result"
    }
   ],
   "source": [
    "WD=pd.read_csv('data/waterquality.csv', sep=';', parse_dates=[5], index_col=5, skipinitialspace=True, encoding = \"Latin1\")\n",
    "print(WD.shape)\n",
    "\n",
    "# Show five first rows, and all columns starting from column 4 (fifth column)\n",
    "WD['1987-07'].iloc[:,4:]"
   ]
  },
  {
   "cell_type": "markdown",
   "metadata": {
    "slideshow": {
     "slide_type": "subslide"
    }
   },
   "source": [
    "There seems to be a lot of NA values in the data. Futher examination reveals that there are often two records for the same timestamp. The first record has only couple of values and the rest are NAs, whereas the second record contains most other values, but those couple of values given in the previous record are NAs. Obviously these succeeding rows needs to be merged. This can be done easily by groubing the data by timestamp, and using the first value of each column which is not NA."
   ]
  },
  {
   "cell_type": "code",
   "execution_count": 18,
   "metadata": {
    "scrolled": true,
    "slideshow": {
     "slide_type": "subslide"
    }
   },
   "outputs": [
    {
     "data": {
      "text/html": [
       "<div>\n",
       "<style scoped>\n",
       "    .dataframe tbody tr th:only-of-type {\n",
       "        vertical-align: middle;\n",
       "    }\n",
       "\n",
       "    .dataframe tbody tr th {\n",
       "        vertical-align: top;\n",
       "    }\n",
       "\n",
       "    .dataframe thead th {\n",
       "        text-align: right;\n",
       "    }\n",
       "</style>\n",
       "<table border=\"1\" class=\"dataframe\">\n",
       "  <thead>\n",
       "    <tr style=\"text-align: right;\">\n",
       "      <th></th>\n",
       "      <th>max depth of the station</th>\n",
       "      <th>sampling depth</th>\n",
       "      <th>Faecal enterococci (kpl/100ml)</th>\n",
       "      <th>Oxygen saturation (kyll.%)</th>\n",
       "      <th>Dissolved oxygen (mg/l)</th>\n",
       "      <th>Suspended solids, coarse (mg/l)</th>\n",
       "      <th>Chlorophyll a (µg/l)</th>\n",
       "      <th>Total phosphorous, unfiltered (µg/l)</th>\n",
       "      <th>Total nitrogen, unfiltered (µg/l)</th>\n",
       "      <th>Coliform bacteria thermotolerant (kpl/100ml)</th>\n",
       "      <th>Temperature (°C)</th>\n",
       "      <th>Nitrate as nitrogen, unfiltered (µg/l)</th>\n",
       "      <th>Nitrate as nitrogen, unfiltered (µg/l).1</th>\n",
       "      <th>Nitrite nitrate as nitrogen, unfiltered (µg/l)</th>\n",
       "      <th>Secchi depth (m)</th>\n",
       "      <th>pH</th>\n",
       "      <th>Salinity ()</th>\n",
       "      <th>Turbidity (FNU)</th>\n",
       "      <th>Conductivity (mS/m)</th>\n",
       "    </tr>\n",
       "    <tr>\n",
       "      <th>date</th>\n",
       "      <th></th>\n",
       "      <th></th>\n",
       "      <th></th>\n",
       "      <th></th>\n",
       "      <th></th>\n",
       "      <th></th>\n",
       "      <th></th>\n",
       "      <th></th>\n",
       "      <th></th>\n",
       "      <th></th>\n",
       "      <th></th>\n",
       "      <th></th>\n",
       "      <th></th>\n",
       "      <th></th>\n",
       "      <th></th>\n",
       "      <th></th>\n",
       "      <th></th>\n",
       "      <th></th>\n",
       "      <th></th>\n",
       "    </tr>\n",
       "  </thead>\n",
       "  <tbody>\n",
       "    <tr>\n",
       "      <th>1987-07-13 12:00:00</th>\n",
       "      <td>2.4</td>\n",
       "      <td>0,0-1,2</td>\n",
       "      <td>NaN</td>\n",
       "      <td>NaN</td>\n",
       "      <td>NaN</td>\n",
       "      <td>NaN</td>\n",
       "      <td>4.4</td>\n",
       "      <td>12.0</td>\n",
       "      <td>650.0</td>\n",
       "      <td>NaN</td>\n",
       "      <td>16.6</td>\n",
       "      <td>330.0</td>\n",
       "      <td>2.0</td>\n",
       "      <td>NaN</td>\n",
       "      <td>2.0</td>\n",
       "      <td>NaN</td>\n",
       "      <td>NaN</td>\n",
       "      <td>NaN</td>\n",
       "      <td>NaN</td>\n",
       "    </tr>\n",
       "    <tr>\n",
       "      <th>1987-07-27 12:00:00</th>\n",
       "      <td>2.4</td>\n",
       "      <td>0,0-2,0</td>\n",
       "      <td>NaN</td>\n",
       "      <td>NaN</td>\n",
       "      <td>NaN</td>\n",
       "      <td>NaN</td>\n",
       "      <td>1.7</td>\n",
       "      <td>NaN</td>\n",
       "      <td>NaN</td>\n",
       "      <td>NaN</td>\n",
       "      <td>NaN</td>\n",
       "      <td>NaN</td>\n",
       "      <td>NaN</td>\n",
       "      <td>NaN</td>\n",
       "      <td>NaN</td>\n",
       "      <td>NaN</td>\n",
       "      <td>NaN</td>\n",
       "      <td>NaN</td>\n",
       "      <td>NaN</td>\n",
       "    </tr>\n",
       "  </tbody>\n",
       "</table>\n",
       "</div>"
      ],
      "text/plain": [
       "                     max depth of the station sampling depth  \\\n",
       "date                                                           \n",
       "1987-07-13 12:00:00                       2.4        0,0-1,2   \n",
       "1987-07-27 12:00:00                       2.4        0,0-2,0   \n",
       "\n",
       "                     Faecal enterococci (kpl/100ml)  \\\n",
       "date                                                  \n",
       "1987-07-13 12:00:00                             NaN   \n",
       "1987-07-27 12:00:00                             NaN   \n",
       "\n",
       "                     Oxygen saturation (kyll.%)  Dissolved oxygen (mg/l)  \\\n",
       "date                                                                       \n",
       "1987-07-13 12:00:00                         NaN                      NaN   \n",
       "1987-07-27 12:00:00                         NaN                      NaN   \n",
       "\n",
       "                     Suspended solids, coarse (mg/l)  Chlorophyll a (µg/l)  \\\n",
       "date                                                                         \n",
       "1987-07-13 12:00:00                              NaN                   4.4   \n",
       "1987-07-27 12:00:00                              NaN                   1.7   \n",
       "\n",
       "                     Total phosphorous, unfiltered (µg/l)  \\\n",
       "date                                                        \n",
       "1987-07-13 12:00:00                                  12.0   \n",
       "1987-07-27 12:00:00                                   NaN   \n",
       "\n",
       "                     Total nitrogen, unfiltered (µg/l)  \\\n",
       "date                                                     \n",
       "1987-07-13 12:00:00                              650.0   \n",
       "1987-07-27 12:00:00                                NaN   \n",
       "\n",
       "                     Coliform bacteria thermotolerant (kpl/100ml)  \\\n",
       "date                                                                \n",
       "1987-07-13 12:00:00                                           NaN   \n",
       "1987-07-27 12:00:00                                           NaN   \n",
       "\n",
       "                     Temperature (°C)  Nitrate as nitrogen, unfiltered (µg/l)  \\\n",
       "date                                                                            \n",
       "1987-07-13 12:00:00              16.6                                   330.0   \n",
       "1987-07-27 12:00:00               NaN                                     NaN   \n",
       "\n",
       "                     Nitrate as nitrogen, unfiltered (µg/l).1  \\\n",
       "date                                                            \n",
       "1987-07-13 12:00:00                                       2.0   \n",
       "1987-07-27 12:00:00                                       NaN   \n",
       "\n",
       "                     Nitrite nitrate as nitrogen, unfiltered (µg/l)  \\\n",
       "date                                                                  \n",
       "1987-07-13 12:00:00                                             NaN   \n",
       "1987-07-27 12:00:00                                             NaN   \n",
       "\n",
       "                     Secchi depth (m)  pH    Salinity ()  Turbidity (FNU)  \\\n",
       "date                                                                         \n",
       "1987-07-13 12:00:00               2.0   NaN           NaN              NaN   \n",
       "1987-07-27 12:00:00               NaN   NaN           NaN              NaN   \n",
       "\n",
       "                     Conductivity (mS/m)  \n",
       "date                                      \n",
       "1987-07-13 12:00:00                  NaN  \n",
       "1987-07-27 12:00:00                  NaN  "
      ]
     },
     "execution_count": 18,
     "metadata": {},
     "output_type": "execute_result"
    }
   ],
   "source": [
    "WD.groupby('date').first()['1987-07'].iloc[:,4:]"
   ]
  },
  {
   "cell_type": "markdown",
   "metadata": {
    "slideshow": {
     "slide_type": "subslide"
    }
   },
   "source": [
    "There are still a lot of missing values, but the confusion of which value to select for a certain time is now gone.\n"
   ]
  },
  {
   "cell_type": "code",
   "execution_count": 19,
   "metadata": {
    "slideshow": {
     "slide_type": "fragment"
    }
   },
   "outputs": [
    {
     "data": {
      "image/png": "[encoded data removed]",
      "text/plain": [
       "<Figure size 432x288 with 1 Axes>"
      ]
     },
     "metadata": {
      "needs_background": "light"
     },
     "output_type": "display_data"
    }
   ],
   "source": [
    "# Temperaturecolumn\n",
    "i=14\n",
    "\n",
    "ax=WD.iloc[:,i].plot(style='o')\n",
    "ax.set_ylabel('Temperature [$^O$ C]')\n",
    "\n",
    "WD.iloc[:,i].resample('5Y').mean().plot(linewidth=4)\n",
    "WD.iloc[:,i].resample('5Y').max().plot(linewidth=4)\n",
    "\n",
    "plt.savefig('Temperatureprofile.pdf')\n",
    "plt.savefig('Temperatureprofile.png')\n",
    "\n"
   ]
  },
  {
   "cell_type": "code",
   "execution_count": 20,
   "metadata": {
    "slideshow": {
     "slide_type": "subslide"
    }
   },
   "outputs": [
    {
     "data": {
      "text/html": [
       "<div>\n",
       "<style scoped>\n",
       "    .dataframe tbody tr th:only-of-type {\n",
       "        vertical-align: middle;\n",
       "    }\n",
       "\n",
       "    .dataframe tbody tr th {\n",
       "        vertical-align: top;\n",
       "    }\n",
       "\n",
       "    .dataframe thead th {\n",
       "        text-align: right;\n",
       "    }\n",
       "</style>\n",
       "<table border=\"1\" class=\"dataframe\">\n",
       "  <thead>\n",
       "    <tr style=\"text-align: right;\">\n",
       "      <th></th>\n",
       "      <th>Chlorophyll a (µg/l)</th>\n",
       "      <th>Total phosphorous, unfiltered (µg/l)</th>\n",
       "      <th>Total nitrogen, unfiltered (µg/l)</th>\n",
       "      <th>Coliform bacteria thermotolerant (kpl/100ml)</th>\n",
       "      <th>Temperature (°C)</th>\n",
       "      <th>Nitrate as nitrogen, unfiltered (µg/l)</th>\n",
       "      <th>Nitrate as nitrogen, unfiltered (µg/l).1</th>\n",
       "      <th>Nitrite nitrate as nitrogen, unfiltered (µg/l)</th>\n",
       "      <th>Secchi depth (m)</th>\n",
       "      <th>pH</th>\n",
       "      <th>Salinity ()</th>\n",
       "      <th>Turbidity (FNU)</th>\n",
       "      <th>Conductivity (mS/m)</th>\n",
       "    </tr>\n",
       "  </thead>\n",
       "  <tbody>\n",
       "    <tr>\n",
       "      <th>count</th>\n",
       "      <td>187.000000</td>\n",
       "      <td>266.000000</td>\n",
       "      <td>260.000000</td>\n",
       "      <td>114.000000</td>\n",
       "      <td>360.000000</td>\n",
       "      <td>30.000000</td>\n",
       "      <td>26.000000</td>\n",
       "      <td>75.000000</td>\n",
       "      <td>282.000000</td>\n",
       "      <td>258.000000</td>\n",
       "      <td>110.000000</td>\n",
       "      <td>223.000000</td>\n",
       "      <td>264.000000</td>\n",
       "    </tr>\n",
       "    <tr>\n",
       "      <th>mean</th>\n",
       "      <td>7.655615</td>\n",
       "      <td>20.163534</td>\n",
       "      <td>1080.038462</td>\n",
       "      <td>11.263158</td>\n",
       "      <td>11.686667</td>\n",
       "      <td>304.433333</td>\n",
       "      <td>1.884615</td>\n",
       "      <td>456.253333</td>\n",
       "      <td>1.295390</td>\n",
       "      <td>7.104729</td>\n",
       "      <td>3.276545</td>\n",
       "      <td>5.635471</td>\n",
       "      <td>583.718182</td>\n",
       "    </tr>\n",
       "    <tr>\n",
       "      <th>std</th>\n",
       "      <td>5.962969</td>\n",
       "      <td>18.260188</td>\n",
       "      <td>978.456944</td>\n",
       "      <td>22.860892</td>\n",
       "      <td>7.505963</td>\n",
       "      <td>597.447368</td>\n",
       "      <td>2.355027</td>\n",
       "      <td>697.891537</td>\n",
       "      <td>0.534733</td>\n",
       "      <td>0.883085</td>\n",
       "      <td>1.193004</td>\n",
       "      <td>6.581787</td>\n",
       "      <td>189.529933</td>\n",
       "    </tr>\n",
       "    <tr>\n",
       "      <th>min</th>\n",
       "      <td>0.300000</td>\n",
       "      <td>2.000000</td>\n",
       "      <td>140.000000</td>\n",
       "      <td>0.000000</td>\n",
       "      <td>-0.200000</td>\n",
       "      <td>2.000000</td>\n",
       "      <td>0.000000</td>\n",
       "      <td>2.000000</td>\n",
       "      <td>0.200000</td>\n",
       "      <td>4.300000</td>\n",
       "      <td>0.100000</td>\n",
       "      <td>0.460000</td>\n",
       "      <td>25.600000</td>\n",
       "    </tr>\n",
       "    <tr>\n",
       "      <th>25%</th>\n",
       "      <td>3.700000</td>\n",
       "      <td>11.000000</td>\n",
       "      <td>470.000000</td>\n",
       "      <td>1.000000</td>\n",
       "      <td>2.850000</td>\n",
       "      <td>2.000000</td>\n",
       "      <td>0.000000</td>\n",
       "      <td>2.000000</td>\n",
       "      <td>0.900000</td>\n",
       "      <td>6.600000</td>\n",
       "      <td>2.425000</td>\n",
       "      <td>1.750000</td>\n",
       "      <td>477.500000</td>\n",
       "    </tr>\n",
       "    <tr>\n",
       "      <th>50%</th>\n",
       "      <td>5.900000</td>\n",
       "      <td>15.500000</td>\n",
       "      <td>665.000000</td>\n",
       "      <td>3.000000</td>\n",
       "      <td>14.400000</td>\n",
       "      <td>43.500000</td>\n",
       "      <td>1.500000</td>\n",
       "      <td>51.000000</td>\n",
       "      <td>1.300000</td>\n",
       "      <td>7.300000</td>\n",
       "      <td>3.500000</td>\n",
       "      <td>3.200000</td>\n",
       "      <td>615.000000</td>\n",
       "    </tr>\n",
       "    <tr>\n",
       "      <th>75%</th>\n",
       "      <td>10.500000</td>\n",
       "      <td>22.000000</td>\n",
       "      <td>1400.000000</td>\n",
       "      <td>11.000000</td>\n",
       "      <td>17.900000</td>\n",
       "      <td>367.500000</td>\n",
       "      <td>2.750000</td>\n",
       "      <td>680.000000</td>\n",
       "      <td>1.800000</td>\n",
       "      <td>7.800000</td>\n",
       "      <td>4.275000</td>\n",
       "      <td>6.400000</td>\n",
       "      <td>739.250000</td>\n",
       "    </tr>\n",
       "    <tr>\n",
       "      <th>max</th>\n",
       "      <td>36.000000</td>\n",
       "      <td>218.000000</td>\n",
       "      <td>6700.000000</td>\n",
       "      <td>130.000000</td>\n",
       "      <td>24.000000</td>\n",
       "      <td>3100.000000</td>\n",
       "      <td>11.000000</td>\n",
       "      <td>2900.000000</td>\n",
       "      <td>2.500000</td>\n",
       "      <td>8.400000</td>\n",
       "      <td>5.100000</td>\n",
       "      <td>42.000000</td>\n",
       "      <td>890.000000</td>\n",
       "    </tr>\n",
       "  </tbody>\n",
       "</table>\n",
       "</div>"
      ],
      "text/plain": [
       "       Chlorophyll a (µg/l)  Total phosphorous, unfiltered (µg/l)  \\\n",
       "count            187.000000                            266.000000   \n",
       "mean               7.655615                             20.163534   \n",
       "std                5.962969                             18.260188   \n",
       "min                0.300000                              2.000000   \n",
       "25%                3.700000                             11.000000   \n",
       "50%                5.900000                             15.500000   \n",
       "75%               10.500000                             22.000000   \n",
       "max               36.000000                            218.000000   \n",
       "\n",
       "       Total nitrogen, unfiltered (µg/l)  \\\n",
       "count                         260.000000   \n",
       "mean                         1080.038462   \n",
       "std                           978.456944   \n",
       "min                           140.000000   \n",
       "25%                           470.000000   \n",
       "50%                           665.000000   \n",
       "75%                          1400.000000   \n",
       "max                          6700.000000   \n",
       "\n",
       "       Coliform bacteria thermotolerant (kpl/100ml)  Temperature (°C)  \\\n",
       "count                                    114.000000        360.000000   \n",
       "mean                                      11.263158         11.686667   \n",
       "std                                       22.860892          7.505963   \n",
       "min                                        0.000000         -0.200000   \n",
       "25%                                        1.000000          2.850000   \n",
       "50%                                        3.000000         14.400000   \n",
       "75%                                       11.000000         17.900000   \n",
       "max                                      130.000000         24.000000   \n",
       "\n",
       "       Nitrate as nitrogen, unfiltered (µg/l)  \\\n",
       "count                               30.000000   \n",
       "mean                               304.433333   \n",
       "std                                597.447368   \n",
       "min                                  2.000000   \n",
       "25%                                  2.000000   \n",
       "50%                                 43.500000   \n",
       "75%                                367.500000   \n",
       "max                               3100.000000   \n",
       "\n",
       "       Nitrate as nitrogen, unfiltered (µg/l).1  \\\n",
       "count                                 26.000000   \n",
       "mean                                   1.884615   \n",
       "std                                    2.355027   \n",
       "min                                    0.000000   \n",
       "25%                                    0.000000   \n",
       "50%                                    1.500000   \n",
       "75%                                    2.750000   \n",
       "max                                   11.000000   \n",
       "\n",
       "       Nitrite nitrate as nitrogen, unfiltered (µg/l)  Secchi depth (m)  \\\n",
       "count                                       75.000000        282.000000   \n",
       "mean                                       456.253333          1.295390   \n",
       "std                                        697.891537          0.534733   \n",
       "min                                          2.000000          0.200000   \n",
       "25%                                          2.000000          0.900000   \n",
       "50%                                         51.000000          1.300000   \n",
       "75%                                        680.000000          1.800000   \n",
       "max                                       2900.000000          2.500000   \n",
       "\n",
       "             pH    Salinity ()  Turbidity (FNU)  Conductivity (mS/m)  \n",
       "count  258.000000    110.000000       223.000000           264.000000  \n",
       "mean     7.104729      3.276545         5.635471           583.718182  \n",
       "std      0.883085      1.193004         6.581787           189.529933  \n",
       "min      4.300000      0.100000         0.460000            25.600000  \n",
       "25%      6.600000      2.425000         1.750000           477.500000  \n",
       "50%      7.300000      3.500000         3.200000           615.000000  \n",
       "75%      7.800000      4.275000         6.400000           739.250000  \n",
       "max      8.400000      5.100000        42.000000           890.000000  "
      ]
     },
     "execution_count": 20,
     "metadata": {},
     "output_type": "execute_result"
    }
   ],
   "source": [
    "WD.iloc[:,10:].describe()"
   ]
  },
  {
   "cell_type": "code",
   "execution_count": null,
   "metadata": {},
   "outputs": [],
   "source": []
  }
 ],
 "metadata": {
  "celltoolbar": "Slideshow",
  "kernelspec": {
   "display_name": "Python 3",
   "language": "python",
   "name": "python3"
  },
  "language_info": {
   "codemirror_mode": {
    "name": "ipython",
    "version": 3
   },
   "file_extension": ".py",
   "mimetype": "text/x-python",
   "name": "python",
   "nbconvert_exporter": "python",
   "pygments_lexer": "ipython3",
   "version": "3.7.7"
  }
 },
 "nbformat": 4,
 "nbformat_minor": 2
}
