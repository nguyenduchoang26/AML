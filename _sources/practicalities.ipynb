{
 "cells": [
  {
   "cell_type": "markdown",
   "id": "44195b97",
   "metadata": {
    "slideshow": {
     "slide_type": "fragment"
    }
   },
   "source": [
    "## About the course\n",
    "\n",
    "Students who complete this course successfully will be aware of the *practical implementation and usage* of **machine learning** algorithms. Furthermore, they will be able to *apply machine learning algorithms* in *real problems* using efficient programming languages, for example Python."
   ]
  },
  {
   "cell_type": "markdown",
   "id": "8497fe3a",
   "metadata": {
    "slideshow": {
     "slide_type": "subslide"
    }
   },
   "source": [
    "### Requirements to pass the course\n",
    " 1. 50% implementation of weekly exercises \n",
    " 1. Report of the group project exceeds the passing criteria\n",
    "    1. The problem of the task is clearly presented\n",
    "    1. The data used for solving the problem is clearly documented\n",
    "    1. The data preprocessing and feature calculation is clearly justified, explained and implemented. Excellent report cites research literature to justify the case.\n",
    "    1. Appropriate machine learning algorithms are chosen, the choice is rationally justified indicating knowledge of various machine learning methods, and the implementation is cleanly coded and explained using comments in the code. Again excellent report cites research literature in this phase.\n",
    "    1. The results are reported using high quality graphics and University's document template. The graphs in the excellent report are of publication quality and they are correctly referenced in the text.\n",
    " 1. Acting as an opponent of at least one report."
   ]
  },
  {
   "cell_type": "markdown",
   "id": "5f657d30",
   "metadata": {},
   "source": [
    "### Semester schedule\n",
    "The course starts in 29th of September and ends before the mid of December. The weekly meetings are arranged at the following times:\n",
    "\n",
    "1. 2021-09-29 at 12:15, Introduction\n",
    "2. 2021-10-06 at 12:15, Reading and cleaning data and plotting \n",
    "3. 2021-10-13 at 12:15, Preprocessing and feature extraction\n",
    "4. 2021-10-21 at 14:15, Unsupervised ML\n",
    "5. 2021-10-27 at 12:15, Unsupervised ML\n",
    "6. 2021-11-03 at 12:15, Supervised ML methods\n",
    "7. 2021-11-10 at 12:15, Supervised ML methods\n",
    "8. 2021-11-17 at 12:15, Evaluation and optimization of models\n",
    "9. 2021-11-24 at 12:15, Deep learning and on-line learning\n",
    "10. 2021-12-02 at 14:15, Project work Q/A"
   ]
  },
  {
   "cell_type": "markdown",
   "id": "c421047d",
   "metadata": {},
   "source": [
    "### Weekly schedule"
   ]
  },
  {
   "cell_type": "markdown",
   "id": "92c8b56e",
   "metadata": {},
   "source": [
    "The weekly activities are planned as follows. You should \n",
    "\n",
    "1. Read the theory material of the current week before the weekly meeting. You can also watch the video materials to help in learning process.\n",
    "1. Check also the exercises of the current week before the meeting.\n",
    "1. Join the weekly virtual meeting in Zoom to discuss about the theory and exercises and to see model solutions for selected exercises. The meetings are not mandatory.\n",
    "1. After the meeting, solve the week's exercises and return them before the next meeting begins (even if you are not attending)\n",
    "\n",
    "This weekly schedule is also shown in the following figure.\n",
    "\n",
    "![Course Schedule](kuvat/CourseSchedule.svg)\n",
    "\n",
    "M<n> are the weekly meetings, they take about 2H of time. The reading of the materials, with videos takes about 2H as well. The solving of the exercises should not take more than 4H/week. The final project should be worth of about 30H of work for each student."
   ]
  }
 ],
 "metadata": {
  "jupytext": {
   "formats": "ipynb,md:myst",
   "text_representation": {
    "extension": ".md",
    "format_name": "myst",
    "format_version": 0.13,
    "jupytext_version": "1.10.3"
   }
  },
  "kernelspec": {
   "display_name": "Python 3 (ipykernel)",
   "language": "python",
   "name": "python3"
  },
  "language_info": {
   "codemirror_mode": {
    "name": "ipython",
    "version": 3
   },
   "file_extension": ".py",
   "mimetype": "text/x-python",
   "name": "python",
   "nbconvert_exporter": "python",
   "pygments_lexer": "ipython3",
   "version": "3.9.2"
  },
  "source_map": [
   15,
   21,
   33,
   49,
   53
  ]
 },
 "nbformat": 4,
 "nbformat_minor": 5
}