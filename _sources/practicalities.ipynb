{
 "cells": [
  {
   "cell_type": "markdown",
   "metadata": {
    "slideshow": {
     "slide_type": "fragment"
    }
   },
   "source": [
    "## About the course\n",
    "\n",
    "Students who complete this seminar successfully will be aware of the *practical implementation and usage* of **machine learning** algorithms. Furthermore, they will be able to *apply machine learning algorithms* in *real problems* using efficient programming languages, for example Python.\n",
    "\n",
    "What do you seen in the following video? Machine Learning? Artificial Intelligence? Automation? \n",
    "[Atlas robot](https://www.youtube.com/watch?v=rVlhMGQgDkY)\n"
   ]
  },
  {
   "cell_type": "markdown",
   "metadata": {
    "slideshow": {
     "slide_type": "fragment"
    }
   },
   "source": [
    " - Is the robot intelligent?\n",
    " - Does it have feelings?\n",
    " - Is it Ok to bully a robot?\n",
    " - Are human rights going to be applicable for future robots?"
   ]
  },
  {
   "cell_type": "markdown",
   "metadata": {
    "slideshow": {
     "slide_type": "subslide"
    }
   },
   "source": [
    "\n",
    "### Requirements to pass the course\n",
    " 1. 50% implementation of weekly excercises \n",
    " 1. Report of personal task exceed the passing criteria\n",
    "    1. The problem of the task is clearly presented\n",
    "    1. The data used for solving the problem is clearly documented\n",
    "    1. The data preprosessing and feature calculation is clearly justified, explained and implemented. Excellent report cites research litterature to justify the case.\n",
    "    1. Appropriate machine learning algorithms are chosen, the choice is rationally justified indicating knowledge of various machine learning methods, and the implementation is cleanly coded and explained using comments in the code. Again excellent report cites research litterature in this phase.\n",
    "    1. The results are reported using high quality graphics and University's document template. The graphs in the excellent report are of publication quality and they are correctly referenced in the text.\n",
    " 1. Presentation of the task exceeds passing criteria\n",
    "    1. Similar criteria than with the report, but in the form of about 20 min presentation\n",
    " 1. Having a presentation of the task in class\n",
    " 1. Either attendance of 70% of the presentations or commenting the reports before the presentation in moodle"
   ]
  }
 ],
 "metadata": {
  "kernelspec": {
   "display_name": "Python 3",
   "language": "python",
   "name": "python3"
  },
  "language_info": {
   "codemirror_mode": {
    "name": "ipython",
    "version": 3
   },
   "file_extension": ".py",
   "mimetype": "text/x-python",
   "name": "python",
   "nbconvert_exporter": "python",
   "pygments_lexer": "ipython3",
   "version": "3.7.7"
  }
 },
 "nbformat": 4,
 "nbformat_minor": 4
}
